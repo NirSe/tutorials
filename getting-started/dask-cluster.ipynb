{
 "cells": [
  {
   "cell_type": "markdown",
   "metadata": {},
   "source": [
    "# Running Dask on the cluster\n",
    "\n",
    "The dask frameworks enabling users to parallelize internal systems\n",
    "Not all computations fit into a big dataframe. Dask exposes lower-level APIs letting you build custom systems for in-house applications. This helps parallelize python processes and dramatically accelerate their performance\n",
    "\n",
    "Dask Kubernetes deploys Dask workers on Kubernetes clusters using native Kubernetes APIs. It is designed to dynamically launch short-lived deployments of workers during the lifetime of a Python process.\n",
    "\n",
    "Check out this link https://kubernetes.dask.org/en/latest/"
   ]
  },
  {
   "cell_type": "code",
   "execution_count": 2,
   "metadata": {},
   "outputs": [
    {
     "name": "stdout",
     "output_type": "stream",
     "text": [
      "Requirement already satisfied: dask==2.9.0 in /User/.pythonlibs/jupyter/lib/python3.6/site-packages (2.9.0)\n",
      "Requirement already satisfied: distributed==2.9.0 in /User/.pythonlibs/jupyter/lib/python3.6/site-packages (2.9.0)\n",
      "Requirement already satisfied: cloudpickle>=0.2.2 in /conda/lib/python3.6/site-packages (from distributed==2.9.0) (1.3.0)\n",
      "Requirement already satisfied: sortedcontainers!=2.0.0,!=2.0.1 in /conda/lib/python3.6/site-packages (from distributed==2.9.0) (2.1.0)\n",
      "Requirement already satisfied: tornado>=5 in /conda/lib/python3.6/site-packages (from distributed==2.9.0) (6.0.3)\n",
      "Requirement already satisfied: click>=6.6 in /conda/lib/python3.6/site-packages (from distributed==2.9.0) (7.0)\n",
      "Requirement already satisfied: msgpack in /conda/lib/python3.6/site-packages (from distributed==2.9.0) (1.0.0)\n",
      "Requirement already satisfied: psutil>=5.0 in /conda/lib/python3.6/site-packages (from distributed==2.9.0) (5.7.0)\n",
      "Requirement already satisfied: toolz>=0.7.4 in /conda/lib/python3.6/site-packages (from distributed==2.9.0) (0.10.0)\n",
      "Requirement already satisfied: pyyaml in /conda/lib/python3.6/site-packages (from distributed==2.9.0) (5.3)\n",
      "Requirement already satisfied: tblib in /conda/lib/python3.6/site-packages (from distributed==2.9.0) (1.6.0)\n",
      "Requirement already satisfied: zict>=0.1.3 in /conda/lib/python3.6/site-packages (from distributed==2.9.0) (2.0.0)\n",
      "Requirement already satisfied: heapdict in /conda/lib/python3.6/site-packages (from zict>=0.1.3->distributed==2.9.0) (1.0.1)\n",
      "Collecting dask-kubernetes==0.10.0\n",
      "  Using cached https://files.pythonhosted.org/packages/23/ce/8d8fe5c208e1445eafd0cc9ed9a69e761e76759c07a389d0b231c099c9d1/dask_kubernetes-0.10.0-py3-none-any.whl\n",
      "Requirement already satisfied: kubernetes>=9 in /User/.pythonlibs/jupyter/lib/python3.6/site-packages (from dask-kubernetes==0.10.0) (10.0.1)\n",
      "Requirement already satisfied: dask>=2.5.2 in /User/.pythonlibs/jupyter/lib/python3.6/site-packages (from dask-kubernetes==0.10.0) (2.9.0)\n",
      "Requirement already satisfied: kubernetes-asyncio>=9 in /User/.pythonlibs/jupyter/lib/python3.6/site-packages (from dask-kubernetes==0.10.0) (11.0.0)\n",
      "Requirement already satisfied: distributed>=2.5.2 in /User/.pythonlibs/jupyter/lib/python3.6/site-packages (from dask-kubernetes==0.10.0) (2.9.0)\n",
      "Requirement already satisfied: python-dateutil>=2.5.3 in /conda/lib/python3.6/site-packages (from kubernetes>=9->dask-kubernetes==0.10.0) (2.8.1)\n",
      "Requirement already satisfied: six>=1.9.0 in /conda/lib/python3.6/site-packages (from kubernetes>=9->dask-kubernetes==0.10.0) (1.14.0)\n",
      "Requirement already satisfied: certifi>=14.05.14 in /conda/lib/python3.6/site-packages (from kubernetes>=9->dask-kubernetes==0.10.0) (2019.11.28)\n",
      "Requirement already satisfied: requests-oauthlib in /User/.pythonlibs/jupyter/lib/python3.6/site-packages (from kubernetes>=9->dask-kubernetes==0.10.0) (1.3.0)\n",
      "Requirement already satisfied: pyyaml>=3.12 in /conda/lib/python3.6/site-packages (from kubernetes>=9->dask-kubernetes==0.10.0) (5.3)\n",
      "Requirement already satisfied: google-auth>=1.0.1 in /User/.pythonlibs/jupyter/lib/python3.6/site-packages (from kubernetes>=9->dask-kubernetes==0.10.0) (1.11.2)\n",
      "Requirement already satisfied: websocket-client!=0.40.0,!=0.41.*,!=0.42.*,>=0.32.0 in /User/.pythonlibs/jupyter/lib/python3.6/site-packages (from kubernetes>=9->dask-kubernetes==0.10.0) (0.57.0)\n",
      "Requirement already satisfied: urllib3>=1.24.2 in /User/.pythonlibs/jupyter/lib/python3.6/site-packages (from kubernetes>=9->dask-kubernetes==0.10.0) (1.24.3)\n",
      "Requirement already satisfied: setuptools>=21.0.0 in /conda/lib/python3.6/site-packages (from kubernetes>=9->dask-kubernetes==0.10.0) (45.2.0.post20200210)\n",
      "Requirement already satisfied: requests in /User/.pythonlibs/jupyter/lib/python3.6/site-packages (from kubernetes>=9->dask-kubernetes==0.10.0) (2.21.0)\n",
      "Requirement already satisfied: aiohttp<4.0.0,>=2.3.10 in /User/.pythonlibs/jupyter/lib/python3.6/site-packages (from kubernetes-asyncio>=9->dask-kubernetes==0.10.0) (3.6.2)\n",
      "Requirement already satisfied: sortedcontainers!=2.0.0,!=2.0.1 in /conda/lib/python3.6/site-packages (from distributed>=2.5.2->dask-kubernetes==0.10.0) (2.1.0)\n",
      "Requirement already satisfied: zict>=0.1.3 in /conda/lib/python3.6/site-packages (from distributed>=2.5.2->dask-kubernetes==0.10.0) (2.0.0)\n",
      "Requirement already satisfied: tblib in /conda/lib/python3.6/site-packages (from distributed>=2.5.2->dask-kubernetes==0.10.0) (1.6.0)\n",
      "Requirement already satisfied: click>=6.6 in /conda/lib/python3.6/site-packages (from distributed>=2.5.2->dask-kubernetes==0.10.0) (7.0)\n",
      "Requirement already satisfied: toolz>=0.7.4 in /conda/lib/python3.6/site-packages (from distributed>=2.5.2->dask-kubernetes==0.10.0) (0.10.0)\n",
      "Requirement already satisfied: cloudpickle>=0.2.2 in /conda/lib/python3.6/site-packages (from distributed>=2.5.2->dask-kubernetes==0.10.0) (1.3.0)\n",
      "Requirement already satisfied: psutil>=5.0 in /conda/lib/python3.6/site-packages (from distributed>=2.5.2->dask-kubernetes==0.10.0) (5.7.0)\n",
      "Requirement already satisfied: tornado>=5 in /conda/lib/python3.6/site-packages (from distributed>=2.5.2->dask-kubernetes==0.10.0) (6.0.3)\n",
      "Requirement already satisfied: msgpack in /conda/lib/python3.6/site-packages (from distributed>=2.5.2->dask-kubernetes==0.10.0) (1.0.0)\n",
      "Requirement already satisfied: oauthlib>=3.0.0 in /User/.pythonlibs/jupyter/lib/python3.6/site-packages (from requests-oauthlib->kubernetes>=9->dask-kubernetes==0.10.0) (3.1.0)\n",
      "Requirement already satisfied: pyasn1-modules>=0.2.1 in /User/.pythonlibs/jupyter/lib/python3.6/site-packages (from google-auth>=1.0.1->kubernetes>=9->dask-kubernetes==0.10.0) (0.2.8)\n",
      "Requirement already satisfied: rsa<4.1,>=3.1.4 in /User/.pythonlibs/jupyter/lib/python3.6/site-packages (from google-auth>=1.0.1->kubernetes>=9->dask-kubernetes==0.10.0) (4.0)\n",
      "Requirement already satisfied: cachetools<5.0,>=2.0.0 in /User/.pythonlibs/jupyter/lib/python3.6/site-packages (from google-auth>=1.0.1->kubernetes>=9->dask-kubernetes==0.10.0) (4.0.0)\n",
      "Requirement already satisfied: idna<2.9,>=2.5 in /conda/lib/python3.6/site-packages (from requests->kubernetes>=9->dask-kubernetes==0.10.0) (2.8)\n",
      "Requirement already satisfied: chardet<3.1.0,>=3.0.2 in /conda/lib/python3.6/site-packages (from requests->kubernetes>=9->dask-kubernetes==0.10.0) (3.0.4)\n",
      "Requirement already satisfied: typing-extensions>=3.6.5; python_version < \"3.7\" in /User/.pythonlibs/jupyter/lib/python3.6/site-packages (from aiohttp<4.0.0,>=2.3.10->kubernetes-asyncio>=9->dask-kubernetes==0.10.0) (3.7.4.1)\n",
      "Requirement already satisfied: async-timeout<4.0,>=3.0 in /User/.pythonlibs/jupyter/lib/python3.6/site-packages (from aiohttp<4.0.0,>=2.3.10->kubernetes-asyncio>=9->dask-kubernetes==0.10.0) (3.0.1)\n",
      "Requirement already satisfied: yarl<2.0,>=1.0 in /User/.pythonlibs/jupyter/lib/python3.6/site-packages (from aiohttp<4.0.0,>=2.3.10->kubernetes-asyncio>=9->dask-kubernetes==0.10.0) (1.4.2)\n",
      "Requirement already satisfied: idna-ssl>=1.0; python_version < \"3.7\" in /User/.pythonlibs/jupyter/lib/python3.6/site-packages (from aiohttp<4.0.0,>=2.3.10->kubernetes-asyncio>=9->dask-kubernetes==0.10.0) (1.1.0)\n",
      "Requirement already satisfied: multidict<5.0,>=4.5 in /User/.pythonlibs/jupyter/lib/python3.6/site-packages (from aiohttp<4.0.0,>=2.3.10->kubernetes-asyncio>=9->dask-kubernetes==0.10.0) (4.7.5)\n",
      "Requirement already satisfied: attrs>=17.3.0 in /conda/lib/python3.6/site-packages (from aiohttp<4.0.0,>=2.3.10->kubernetes-asyncio>=9->dask-kubernetes==0.10.0) (19.3.0)\n",
      "Requirement already satisfied: heapdict in /conda/lib/python3.6/site-packages (from zict>=0.1.3->distributed>=2.5.2->dask-kubernetes==0.10.0) (1.0.1)\n",
      "Requirement already satisfied: pyasn1<0.5.0,>=0.4.6 in /User/.pythonlibs/jupyter/lib/python3.6/site-packages (from pyasn1-modules>=0.2.1->google-auth>=1.0.1->kubernetes>=9->dask-kubernetes==0.10.0) (0.4.8)\n",
      "Installing collected packages: dask-kubernetes\n",
      "Successfully installed dask-kubernetes-0.10.0\n"
     ]
    }
   ],
   "source": [
    "!pip install dask==2.9.0 distributed==2.9.0\n",
    "!pip install dask-kubernetes==0.10.0"
   ]
  },
  {
   "cell_type": "markdown",
   "metadata": {},
   "source": [
    "When user runs dask the frameworks start one or more pods running in parallel on the cluster. Users can define the number of nodes and the minimun and maximum number of pods that the dask framework opens up\n",
    "Scale to zero is achieved by setting the minimum = 0. Setting it to zero delete the pods once the job is done and free up the resources "
   ]
  },
  {
   "cell_type": "code",
   "execution_count": 3,
   "metadata": {},
   "outputs": [
    {
     "name": "stderr",
     "output_type": "stream",
     "text": [
      "/conda/lib/python3.6/site-packages/bokeh/themes/theme.py:131: YAMLLoadWarning: calling yaml.load() without Loader=... is deprecated, as the default Loader is unsafe. Please read https://msg.pyyaml.org/load for full details.\n",
      "  json = yaml.load(f)\n",
      "distributed.dashboard.proxy - INFO - To route to workers diagnostics web server please install jupyter-server-proxy: pip install jupyter-server-proxy\n",
      "distributed.scheduler - INFO - Clear task state\n",
      "distributed.scheduler - INFO -   Scheduler at:   tcp://10.200.0.43:46055\n",
      "distributed.scheduler - INFO -   dashboard at:                     :8787\n"
     ]
    },
    {
     "data": {
      "text/plain": [
       "<distributed.deploy.adaptive.Adaptive at 0x7f89eb93a198>"
      ]
     },
     "execution_count": 3,
     "metadata": {},
     "output_type": "execute_result"
    }
   ],
   "source": [
    "from dask_kubernetes import KubeCluster\n",
    "\n",
    "cluster = KubeCluster.from_yaml('worker-spec.yml')\n",
    "cluster.scale_up(4)  # specify number of nodes explicitly\n",
    "\n",
    "cluster.adapt(minimum=2, maximum=5)  # or dynamically scale based on current workload"
   ]
  },
  {
   "cell_type": "markdown",
   "metadata": {},
   "source": [
    "to view the pods that are running"
   ]
  },
  {
   "cell_type": "code",
   "execution_count": 4,
   "metadata": {},
   "outputs": [
    {
     "name": "stdout",
     "output_type": "stream",
     "text": [
      "dask-iguazio-d2abc95d-8f69ss                       1/1     Running   0          10s\n",
      "dask-iguazio-d2abc95d-8s4mrm                       1/1     Running   0          10s\n"
     ]
    }
   ],
   "source": [
    "!kubectl  -n default-tenant get pods | grep dask"
   ]
  },
  {
   "cell_type": "code",
   "execution_count": 5,
   "metadata": {
    "scrolled": true
   },
   "outputs": [
    {
     "name": "stderr",
     "output_type": "stream",
     "text": [
      "distributed.scheduler - INFO - Receive client connection: Client-2f68ecb8-639a-11ea-9cd4-b98a59e0e5d8\n",
      "distributed.core - INFO - Starting established connection\n",
      "distributed.protocol.core - CRITICAL - Failed to deserialize\n",
      "Traceback (most recent call last):\n",
      "  File \"/User/.pythonlibs/jupyter/lib/python3.6/site-packages/distributed/protocol/core.py\", line 106, in loads\n",
      "    header = msgpack.loads(header, use_list=False, **msgpack_opts)\n",
      "  File \"msgpack/_unpacker.pyx\", line 195, in msgpack._cmsgpack.unpackb\n",
      "ValueError: tuple is not allowed for map key\n",
      "distributed.core - ERROR - tuple is not allowed for map key\n",
      "Traceback (most recent call last):\n",
      "  File \"/User/.pythonlibs/jupyter/lib/python3.6/site-packages/distributed/core.py\", line 456, in handle_stream\n",
      "    msgs = await comm.read()\n",
      "  File \"/User/.pythonlibs/jupyter/lib/python3.6/site-packages/distributed/comm/tcp.py\", line 222, in read\n",
      "    frames, deserialize=self.deserialize, deserializers=deserializers\n",
      "  File \"/User/.pythonlibs/jupyter/lib/python3.6/site-packages/distributed/comm/utils.py\", line 69, in from_frames\n",
      "    res = _from_frames()\n",
      "  File \"/User/.pythonlibs/jupyter/lib/python3.6/site-packages/distributed/comm/utils.py\", line 55, in _from_frames\n",
      "    frames, deserialize=deserialize, deserializers=deserializers\n",
      "  File \"/User/.pythonlibs/jupyter/lib/python3.6/site-packages/distributed/protocol/core.py\", line 106, in loads\n",
      "    header = msgpack.loads(header, use_list=False, **msgpack_opts)\n",
      "  File \"msgpack/_unpacker.pyx\", line 195, in msgpack._cmsgpack.unpackb\n",
      "ValueError: tuple is not allowed for map key\n",
      "distributed.scheduler - INFO - Remove client Client-2f68ecb8-639a-11ea-9cd4-b98a59e0e5d8\n",
      "distributed.scheduler - INFO - Close client connection: Client-2f68ecb8-639a-11ea-9cd4-b98a59e0e5d8\n",
      "distributed.core - ERROR - tuple is not allowed for map key\n",
      "Traceback (most recent call last):\n",
      "  File \"/User/.pythonlibs/jupyter/lib/python3.6/site-packages/distributed/core.py\", line 412, in handle_comm\n",
      "    result = await result\n",
      "  File \"/User/.pythonlibs/jupyter/lib/python3.6/site-packages/distributed/scheduler.py\", line 2258, in add_client\n",
      "    await self.handle_stream(comm=comm, extra={\"client\": client})\n",
      "  File \"/User/.pythonlibs/jupyter/lib/python3.6/site-packages/distributed/core.py\", line 456, in handle_stream\n",
      "    msgs = await comm.read()\n",
      "  File \"/User/.pythonlibs/jupyter/lib/python3.6/site-packages/distributed/comm/tcp.py\", line 222, in read\n",
      "    frames, deserialize=self.deserialize, deserializers=deserializers\n",
      "  File \"/User/.pythonlibs/jupyter/lib/python3.6/site-packages/distributed/comm/utils.py\", line 69, in from_frames\n",
      "    res = _from_frames()\n",
      "  File \"/User/.pythonlibs/jupyter/lib/python3.6/site-packages/distributed/comm/utils.py\", line 55, in _from_frames\n",
      "    frames, deserialize=deserialize, deserializers=deserializers\n",
      "  File \"/User/.pythonlibs/jupyter/lib/python3.6/site-packages/distributed/protocol/core.py\", line 106, in loads\n",
      "    header = msgpack.loads(header, use_list=False, **msgpack_opts)\n",
      "  File \"msgpack/_unpacker.pyx\", line 195, in msgpack._cmsgpack.unpackb\n",
      "ValueError: tuple is not allowed for map key\n",
      "distributed.scheduler - INFO - Receive client connection: Client-2f68ecb8-639a-11ea-9cd4-b98a59e0e5d8\n",
      "distributed.core - INFO - Starting established connection\n"
     ]
    },
    {
     "ename": "CancelledError",
     "evalue": "",
     "output_type": "error",
     "traceback": [
      "\u001b[0;31m---------------------------------------------------------------------------\u001b[0m",
      "\u001b[0;31mCancelledError\u001b[0m                            Traceback (most recent call last)",
      "\u001b[0;32m<ipython-input-5-dcde71df7887>\u001b[0m in \u001b[0;36m<module>\u001b[0;34m\u001b[0m\n\u001b[1;32m      8\u001b[0m \u001b[0;31m# Create an array and calculate the mean\u001b[0m\u001b[0;34m\u001b[0m\u001b[0;34m\u001b[0m\u001b[0;34m\u001b[0m\u001b[0m\n\u001b[1;32m      9\u001b[0m \u001b[0marray\u001b[0m \u001b[0;34m=\u001b[0m \u001b[0mda\u001b[0m\u001b[0;34m.\u001b[0m\u001b[0mones\u001b[0m\u001b[0;34m(\u001b[0m\u001b[0;34m(\u001b[0m\u001b[0;36m1000\u001b[0m\u001b[0;34m,\u001b[0m \u001b[0;36m1000\u001b[0m\u001b[0;34m,\u001b[0m \u001b[0;36m1000\u001b[0m\u001b[0;34m)\u001b[0m\u001b[0;34m,\u001b[0m \u001b[0mchunks\u001b[0m\u001b[0;34m=\u001b[0m\u001b[0;34m(\u001b[0m\u001b[0;36m100\u001b[0m\u001b[0;34m,\u001b[0m \u001b[0;36m100\u001b[0m\u001b[0;34m,\u001b[0m \u001b[0;36m10\u001b[0m\u001b[0;34m)\u001b[0m\u001b[0;34m)\u001b[0m\u001b[0;34m\u001b[0m\u001b[0;34m\u001b[0m\u001b[0m\n\u001b[0;32m---> 10\u001b[0;31m \u001b[0mprint\u001b[0m\u001b[0;34m(\u001b[0m\u001b[0marray\u001b[0m\u001b[0;34m.\u001b[0m\u001b[0mmean\u001b[0m\u001b[0;34m(\u001b[0m\u001b[0;34m)\u001b[0m\u001b[0;34m.\u001b[0m\u001b[0mcompute\u001b[0m\u001b[0;34m(\u001b[0m\u001b[0;34m)\u001b[0m\u001b[0;34m)\u001b[0m  \u001b[0;31m# Should print 1.0\u001b[0m\u001b[0;34m\u001b[0m\u001b[0;34m\u001b[0m\u001b[0m\n\u001b[0m",
      "\u001b[0;32m~/.pythonlibs/jupyter/lib/python3.6/site-packages/dask/base.py\u001b[0m in \u001b[0;36mcompute\u001b[0;34m(self, **kwargs)\u001b[0m\n\u001b[1;32m    163\u001b[0m         \u001b[0mdask\u001b[0m\u001b[0;34m.\u001b[0m\u001b[0mbase\u001b[0m\u001b[0;34m.\u001b[0m\u001b[0mcompute\u001b[0m\u001b[0;34m\u001b[0m\u001b[0;34m\u001b[0m\u001b[0m\n\u001b[1;32m    164\u001b[0m         \"\"\"\n\u001b[0;32m--> 165\u001b[0;31m         \u001b[0;34m(\u001b[0m\u001b[0mresult\u001b[0m\u001b[0;34m,\u001b[0m\u001b[0;34m)\u001b[0m \u001b[0;34m=\u001b[0m \u001b[0mcompute\u001b[0m\u001b[0;34m(\u001b[0m\u001b[0mself\u001b[0m\u001b[0;34m,\u001b[0m \u001b[0mtraverse\u001b[0m\u001b[0;34m=\u001b[0m\u001b[0;32mFalse\u001b[0m\u001b[0;34m,\u001b[0m \u001b[0;34m**\u001b[0m\u001b[0mkwargs\u001b[0m\u001b[0;34m)\u001b[0m\u001b[0;34m\u001b[0m\u001b[0;34m\u001b[0m\u001b[0m\n\u001b[0m\u001b[1;32m    166\u001b[0m         \u001b[0;32mreturn\u001b[0m \u001b[0mresult\u001b[0m\u001b[0;34m\u001b[0m\u001b[0;34m\u001b[0m\u001b[0m\n\u001b[1;32m    167\u001b[0m \u001b[0;34m\u001b[0m\u001b[0m\n",
      "\u001b[0;32m~/.pythonlibs/jupyter/lib/python3.6/site-packages/dask/base.py\u001b[0m in \u001b[0;36mcompute\u001b[0;34m(*args, **kwargs)\u001b[0m\n\u001b[1;32m    434\u001b[0m     \u001b[0mkeys\u001b[0m \u001b[0;34m=\u001b[0m \u001b[0;34m[\u001b[0m\u001b[0mx\u001b[0m\u001b[0;34m.\u001b[0m\u001b[0m__dask_keys__\u001b[0m\u001b[0;34m(\u001b[0m\u001b[0;34m)\u001b[0m \u001b[0;32mfor\u001b[0m \u001b[0mx\u001b[0m \u001b[0;32min\u001b[0m \u001b[0mcollections\u001b[0m\u001b[0;34m]\u001b[0m\u001b[0;34m\u001b[0m\u001b[0;34m\u001b[0m\u001b[0m\n\u001b[1;32m    435\u001b[0m     \u001b[0mpostcomputes\u001b[0m \u001b[0;34m=\u001b[0m \u001b[0;34m[\u001b[0m\u001b[0mx\u001b[0m\u001b[0;34m.\u001b[0m\u001b[0m__dask_postcompute__\u001b[0m\u001b[0;34m(\u001b[0m\u001b[0;34m)\u001b[0m \u001b[0;32mfor\u001b[0m \u001b[0mx\u001b[0m \u001b[0;32min\u001b[0m \u001b[0mcollections\u001b[0m\u001b[0;34m]\u001b[0m\u001b[0;34m\u001b[0m\u001b[0;34m\u001b[0m\u001b[0m\n\u001b[0;32m--> 436\u001b[0;31m     \u001b[0mresults\u001b[0m \u001b[0;34m=\u001b[0m \u001b[0mschedule\u001b[0m\u001b[0;34m(\u001b[0m\u001b[0mdsk\u001b[0m\u001b[0;34m,\u001b[0m \u001b[0mkeys\u001b[0m\u001b[0;34m,\u001b[0m \u001b[0;34m**\u001b[0m\u001b[0mkwargs\u001b[0m\u001b[0;34m)\u001b[0m\u001b[0;34m\u001b[0m\u001b[0;34m\u001b[0m\u001b[0m\n\u001b[0m\u001b[1;32m    437\u001b[0m     \u001b[0;32mreturn\u001b[0m \u001b[0mrepack\u001b[0m\u001b[0;34m(\u001b[0m\u001b[0;34m[\u001b[0m\u001b[0mf\u001b[0m\u001b[0;34m(\u001b[0m\u001b[0mr\u001b[0m\u001b[0;34m,\u001b[0m \u001b[0;34m*\u001b[0m\u001b[0ma\u001b[0m\u001b[0;34m)\u001b[0m \u001b[0;32mfor\u001b[0m \u001b[0mr\u001b[0m\u001b[0;34m,\u001b[0m \u001b[0;34m(\u001b[0m\u001b[0mf\u001b[0m\u001b[0;34m,\u001b[0m \u001b[0ma\u001b[0m\u001b[0;34m)\u001b[0m \u001b[0;32min\u001b[0m \u001b[0mzip\u001b[0m\u001b[0;34m(\u001b[0m\u001b[0mresults\u001b[0m\u001b[0;34m,\u001b[0m \u001b[0mpostcomputes\u001b[0m\u001b[0;34m)\u001b[0m\u001b[0;34m]\u001b[0m\u001b[0;34m)\u001b[0m\u001b[0;34m\u001b[0m\u001b[0;34m\u001b[0m\u001b[0m\n\u001b[1;32m    438\u001b[0m \u001b[0;34m\u001b[0m\u001b[0m\n",
      "\u001b[0;32m~/.pythonlibs/jupyter/lib/python3.6/site-packages/distributed/client.py\u001b[0m in \u001b[0;36mget\u001b[0;34m(self, dsk, keys, restrictions, loose_restrictions, resources, sync, asynchronous, direct, retries, priority, fifo_timeout, actors, **kwargs)\u001b[0m\n\u001b[1;32m   2571\u001b[0m                     \u001b[0mshould_rejoin\u001b[0m \u001b[0;34m=\u001b[0m \u001b[0;32mFalse\u001b[0m\u001b[0;34m\u001b[0m\u001b[0;34m\u001b[0m\u001b[0m\n\u001b[1;32m   2572\u001b[0m             \u001b[0;32mtry\u001b[0m\u001b[0;34m:\u001b[0m\u001b[0;34m\u001b[0m\u001b[0;34m\u001b[0m\u001b[0m\n\u001b[0;32m-> 2573\u001b[0;31m                 \u001b[0mresults\u001b[0m \u001b[0;34m=\u001b[0m \u001b[0mself\u001b[0m\u001b[0;34m.\u001b[0m\u001b[0mgather\u001b[0m\u001b[0;34m(\u001b[0m\u001b[0mpacked\u001b[0m\u001b[0;34m,\u001b[0m \u001b[0masynchronous\u001b[0m\u001b[0;34m=\u001b[0m\u001b[0masynchronous\u001b[0m\u001b[0;34m,\u001b[0m \u001b[0mdirect\u001b[0m\u001b[0;34m=\u001b[0m\u001b[0mdirect\u001b[0m\u001b[0;34m)\u001b[0m\u001b[0;34m\u001b[0m\u001b[0;34m\u001b[0m\u001b[0m\n\u001b[0m\u001b[1;32m   2574\u001b[0m             \u001b[0;32mfinally\u001b[0m\u001b[0;34m:\u001b[0m\u001b[0;34m\u001b[0m\u001b[0;34m\u001b[0m\u001b[0m\n\u001b[1;32m   2575\u001b[0m                 \u001b[0;32mfor\u001b[0m \u001b[0mf\u001b[0m \u001b[0;32min\u001b[0m \u001b[0mfutures\u001b[0m\u001b[0;34m.\u001b[0m\u001b[0mvalues\u001b[0m\u001b[0;34m(\u001b[0m\u001b[0;34m)\u001b[0m\u001b[0;34m:\u001b[0m\u001b[0;34m\u001b[0m\u001b[0;34m\u001b[0m\u001b[0m\n",
      "\u001b[0;32m~/.pythonlibs/jupyter/lib/python3.6/site-packages/distributed/client.py\u001b[0m in \u001b[0;36mgather\u001b[0;34m(self, futures, errors, direct, asynchronous)\u001b[0m\n\u001b[1;32m   1871\u001b[0m                 \u001b[0mdirect\u001b[0m\u001b[0;34m=\u001b[0m\u001b[0mdirect\u001b[0m\u001b[0;34m,\u001b[0m\u001b[0;34m\u001b[0m\u001b[0;34m\u001b[0m\u001b[0m\n\u001b[1;32m   1872\u001b[0m                 \u001b[0mlocal_worker\u001b[0m\u001b[0;34m=\u001b[0m\u001b[0mlocal_worker\u001b[0m\u001b[0;34m,\u001b[0m\u001b[0;34m\u001b[0m\u001b[0;34m\u001b[0m\u001b[0m\n\u001b[0;32m-> 1873\u001b[0;31m                 \u001b[0masynchronous\u001b[0m\u001b[0;34m=\u001b[0m\u001b[0masynchronous\u001b[0m\u001b[0;34m,\u001b[0m\u001b[0;34m\u001b[0m\u001b[0;34m\u001b[0m\u001b[0m\n\u001b[0m\u001b[1;32m   1874\u001b[0m             )\n\u001b[1;32m   1875\u001b[0m \u001b[0;34m\u001b[0m\u001b[0m\n",
      "\u001b[0;32m~/.pythonlibs/jupyter/lib/python3.6/site-packages/distributed/client.py\u001b[0m in \u001b[0;36msync\u001b[0;34m(self, func, asynchronous, callback_timeout, *args, **kwargs)\u001b[0m\n\u001b[1;32m    766\u001b[0m         \u001b[0;32melse\u001b[0m\u001b[0;34m:\u001b[0m\u001b[0;34m\u001b[0m\u001b[0;34m\u001b[0m\u001b[0m\n\u001b[1;32m    767\u001b[0m             return sync(\n\u001b[0;32m--> 768\u001b[0;31m                 \u001b[0mself\u001b[0m\u001b[0;34m.\u001b[0m\u001b[0mloop\u001b[0m\u001b[0;34m,\u001b[0m \u001b[0mfunc\u001b[0m\u001b[0;34m,\u001b[0m \u001b[0;34m*\u001b[0m\u001b[0margs\u001b[0m\u001b[0;34m,\u001b[0m \u001b[0mcallback_timeout\u001b[0m\u001b[0;34m=\u001b[0m\u001b[0mcallback_timeout\u001b[0m\u001b[0;34m,\u001b[0m \u001b[0;34m**\u001b[0m\u001b[0mkwargs\u001b[0m\u001b[0;34m\u001b[0m\u001b[0;34m\u001b[0m\u001b[0m\n\u001b[0m\u001b[1;32m    769\u001b[0m             )\n\u001b[1;32m    770\u001b[0m \u001b[0;34m\u001b[0m\u001b[0m\n",
      "\u001b[0;32m~/.pythonlibs/jupyter/lib/python3.6/site-packages/distributed/utils.py\u001b[0m in \u001b[0;36msync\u001b[0;34m(loop, func, callback_timeout, *args, **kwargs)\u001b[0m\n\u001b[1;32m    332\u001b[0m     \u001b[0;32mif\u001b[0m \u001b[0merror\u001b[0m\u001b[0;34m[\u001b[0m\u001b[0;36m0\u001b[0m\u001b[0;34m]\u001b[0m\u001b[0;34m:\u001b[0m\u001b[0;34m\u001b[0m\u001b[0;34m\u001b[0m\u001b[0m\n\u001b[1;32m    333\u001b[0m         \u001b[0mtyp\u001b[0m\u001b[0;34m,\u001b[0m \u001b[0mexc\u001b[0m\u001b[0;34m,\u001b[0m \u001b[0mtb\u001b[0m \u001b[0;34m=\u001b[0m \u001b[0merror\u001b[0m\u001b[0;34m[\u001b[0m\u001b[0;36m0\u001b[0m\u001b[0;34m]\u001b[0m\u001b[0;34m\u001b[0m\u001b[0;34m\u001b[0m\u001b[0m\n\u001b[0;32m--> 334\u001b[0;31m         \u001b[0;32mraise\u001b[0m \u001b[0mexc\u001b[0m\u001b[0;34m.\u001b[0m\u001b[0mwith_traceback\u001b[0m\u001b[0;34m(\u001b[0m\u001b[0mtb\u001b[0m\u001b[0;34m)\u001b[0m\u001b[0;34m\u001b[0m\u001b[0;34m\u001b[0m\u001b[0m\n\u001b[0m\u001b[1;32m    335\u001b[0m     \u001b[0;32melse\u001b[0m\u001b[0;34m:\u001b[0m\u001b[0;34m\u001b[0m\u001b[0;34m\u001b[0m\u001b[0m\n\u001b[1;32m    336\u001b[0m         \u001b[0;32mreturn\u001b[0m \u001b[0mresult\u001b[0m\u001b[0;34m[\u001b[0m\u001b[0;36m0\u001b[0m\u001b[0;34m]\u001b[0m\u001b[0;34m\u001b[0m\u001b[0;34m\u001b[0m\u001b[0m\n",
      "\u001b[0;32m~/.pythonlibs/jupyter/lib/python3.6/site-packages/distributed/utils.py\u001b[0m in \u001b[0;36mf\u001b[0;34m()\u001b[0m\n\u001b[1;32m    316\u001b[0m             \u001b[0;32mif\u001b[0m \u001b[0mcallback_timeout\u001b[0m \u001b[0;32mis\u001b[0m \u001b[0;32mnot\u001b[0m \u001b[0;32mNone\u001b[0m\u001b[0;34m:\u001b[0m\u001b[0;34m\u001b[0m\u001b[0;34m\u001b[0m\u001b[0m\n\u001b[1;32m    317\u001b[0m                 \u001b[0mfuture\u001b[0m \u001b[0;34m=\u001b[0m \u001b[0mgen\u001b[0m\u001b[0;34m.\u001b[0m\u001b[0mwith_timeout\u001b[0m\u001b[0;34m(\u001b[0m\u001b[0mtimedelta\u001b[0m\u001b[0;34m(\u001b[0m\u001b[0mseconds\u001b[0m\u001b[0;34m=\u001b[0m\u001b[0mcallback_timeout\u001b[0m\u001b[0;34m)\u001b[0m\u001b[0;34m,\u001b[0m \u001b[0mfuture\u001b[0m\u001b[0;34m)\u001b[0m\u001b[0;34m\u001b[0m\u001b[0;34m\u001b[0m\u001b[0m\n\u001b[0;32m--> 318\u001b[0;31m             \u001b[0mresult\u001b[0m\u001b[0;34m[\u001b[0m\u001b[0;36m0\u001b[0m\u001b[0;34m]\u001b[0m \u001b[0;34m=\u001b[0m \u001b[0;32myield\u001b[0m \u001b[0mfuture\u001b[0m\u001b[0;34m\u001b[0m\u001b[0;34m\u001b[0m\u001b[0m\n\u001b[0m\u001b[1;32m    319\u001b[0m         \u001b[0;32mexcept\u001b[0m \u001b[0mException\u001b[0m \u001b[0;32mas\u001b[0m \u001b[0mexc\u001b[0m\u001b[0;34m:\u001b[0m\u001b[0;34m\u001b[0m\u001b[0;34m\u001b[0m\u001b[0m\n\u001b[1;32m    320\u001b[0m             \u001b[0merror\u001b[0m\u001b[0;34m[\u001b[0m\u001b[0;36m0\u001b[0m\u001b[0;34m]\u001b[0m \u001b[0;34m=\u001b[0m \u001b[0msys\u001b[0m\u001b[0;34m.\u001b[0m\u001b[0mexc_info\u001b[0m\u001b[0;34m(\u001b[0m\u001b[0;34m)\u001b[0m\u001b[0;34m\u001b[0m\u001b[0;34m\u001b[0m\u001b[0m\n",
      "\u001b[0;32m/conda/lib/python3.6/site-packages/tornado/gen.py\u001b[0m in \u001b[0;36mrun\u001b[0;34m(self)\u001b[0m\n\u001b[1;32m    733\u001b[0m \u001b[0;34m\u001b[0m\u001b[0m\n\u001b[1;32m    734\u001b[0m                     \u001b[0;32mtry\u001b[0m\u001b[0;34m:\u001b[0m\u001b[0;34m\u001b[0m\u001b[0;34m\u001b[0m\u001b[0m\n\u001b[0;32m--> 735\u001b[0;31m                         \u001b[0mvalue\u001b[0m \u001b[0;34m=\u001b[0m \u001b[0mfuture\u001b[0m\u001b[0;34m.\u001b[0m\u001b[0mresult\u001b[0m\u001b[0;34m(\u001b[0m\u001b[0;34m)\u001b[0m\u001b[0;34m\u001b[0m\u001b[0;34m\u001b[0m\u001b[0m\n\u001b[0m\u001b[1;32m    736\u001b[0m                     \u001b[0;32mexcept\u001b[0m \u001b[0mException\u001b[0m\u001b[0;34m:\u001b[0m\u001b[0;34m\u001b[0m\u001b[0;34m\u001b[0m\u001b[0m\n\u001b[1;32m    737\u001b[0m                         \u001b[0mexc_info\u001b[0m \u001b[0;34m=\u001b[0m \u001b[0msys\u001b[0m\u001b[0;34m.\u001b[0m\u001b[0mexc_info\u001b[0m\u001b[0;34m(\u001b[0m\u001b[0;34m)\u001b[0m\u001b[0;34m\u001b[0m\u001b[0;34m\u001b[0m\u001b[0m\n",
      "\u001b[0;31mCancelledError\u001b[0m: "
     ]
    }
   ],
   "source": [
    "# Example usage\n",
    "import distributed\n",
    "import dask.array as da\n",
    "\n",
    "# Connect dask to the cluster\n",
    "client = distributed.Client(cluster)\n",
    "\n",
    "# Create an array and calculate the mean\n",
    "array = da.ones((1000, 1000, 1000), chunks=(100, 100, 10))\n",
    "print(array.mean().compute())  # Should print 1.0"
   ]
  },
  {
   "cell_type": "code",
   "execution_count": null,
   "metadata": {},
   "outputs": [],
   "source": []
  }
 ],
 "metadata": {
  "kernelspec": {
   "display_name": "Python 3",
   "language": "python",
   "name": "python3"
  },
  "language_info": {
   "codemirror_mode": {
    "name": "ipython",
    "version": 3
   },
   "file_extension": ".py",
   "mimetype": "text/x-python",
   "name": "python",
   "nbconvert_exporter": "python",
   "pygments_lexer": "ipython3",
   "version": "3.6.8"
  }
 },
 "nbformat": 4,
 "nbformat_minor": 4
}
