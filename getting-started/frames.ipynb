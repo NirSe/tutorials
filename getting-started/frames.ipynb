{
 "cells": [
  {
   "cell_type": "markdown",
   "metadata": {},
   "source": [
    "# Using the V3IO Frames Library for High-Performance Data Access \n",
    "\n",
    "- [Overview](#frames-overview)\n",
    "- [Initialization](#frames-init)\n",
    "- [Working with NoSQL Tables (\"kv\" Backend)](#frames-kv)\n",
    "- [Working with Time-Series Databases (\"tsdb\" Backend)](#frames-tsdb)\n",
    "- [Working with Streams (\"stream\" Backend)](#frames-stream)\n",
    "- [Cleanup](#frames-cleanup)"
   ]
  },
  {
   "cell_type": "markdown",
   "metadata": {},
   "source": [
    "<a id=\"frames-overview\"></a>\n",
    "## Overview\n",
    "\n",
    "[V3IO Frames](https://github.com/v3io/frames) (**\"Frames\"**) is a multi-model open-source data-access library, developed by Iguazio, which provides a unified high-performance DataFrame API for loading, storing, and accessing data in the data store of the Iguazio Data Science Platform (**\"the platform**).\n",
    "Frames currently supports the NoSQL (key/value), stream, and time-series (TSDB) data models via its \"kv\", \"stream\", and \"tsdb\" backends.\n",
    "\n",
    "To use Frames, you first need to import the **v3io_frames** library and create and initialize a client object &mdash; an instance of the`Client` class.<br>\n",
    "The `Client` class features the following object methods for supporting basic data operations:\n",
    "\n",
    "- `create` &mdash; create a new NoSQL or TSDB table or a stream (\"the backend\").\n",
    "- `delete` &mdash; delete the backend.\n",
    "- `read` &mdash; read data from the backend (as a pandas DataFrame or DataFrame iterator).\n",
    "- `write` &mdash; write one or more DataFrames to the backend.\n",
    "- `execute` &mdash; execute a command on the backend. Each backend may support multiple commands.\n",
    "\n",
    "\n",
    "For a detailed description of the Frames API, see the [Frames documentation](https://github.com/v3io/frames/blob/development/README.md).<br>\n",
    "For more help and usage details, use the internal API help &mdash; `<client object>.<command>?` in Jupyter Notebook or `print(<client object>.<command>.__doc__)`.<br>\n",
    "For example, the following command returns information about the read operation for a client object named `client`:\n",
    "```\n",
    "client.read?\n",
    "```"
   ]
  },
  {
   "cell_type": "markdown",
   "metadata": {},
   "source": [
    "<a id=\"frames-init\"></a>\n",
    "## Initialization\n",
    "\n",
    "To use V3IO Frames, first ensure that your platform tenant has a shared tenant-wide instance of the V3IO Frames service.\n",
    "This can be done by a platform service administrator from the **Services** dashboard page.<br>\n",
    "Then, import the required libraries and create a Frames client object (an instance of the `Client` class), as demonstrated in the following code, which creates a client object named `client`.\n",
    "\n",
    "> **Note:**\n",
    "> - The client constructor's `container` parameter is set to `\"users\"` for accessing data in the platform's \"users\" data container.\n",
    "> - Because no authentication credentials are passed to the constructor, Frames will use the access token that's assigned to the `V3IO_ACCESS_KEY` environment variable.\n",
    ">   The platform's Jupyter Notebook service defines this variable automatically and initializes it to an access token for the running user of the service.\n",
    ">   You can pass different credentials by using the constructor's `token` parameter (platform access token) or `user` and `password` parameters (platform username and password)."
   ]
  },
  {
   "cell_type": "code",
   "execution_count": 1,
   "metadata": {},
   "outputs": [],
   "source": [
    "import pandas as pd\n",
    "import v3io_frames as v3f\n",
    "import os\n",
    "\n",
    "# Create a Frames client\n",
    "client = v3f.Client(\"framesd:8081\", container=\"users\")"
   ]
  },
  {
   "cell_type": "markdown",
   "metadata": {},
   "source": [
    "<a id='frames-kv'></a>\n",
    "## Working with NoSQL Tables (\"kv\" Backend)\n",
    "\n",
    "This section demonstrates how to use the `\"kv\"` Frames backend to write and read NoSQL data in the platform.\n",
    "\n",
    "- [Initialization](#frames-kv-init)\n",
    "- [Load Data from Amazon S3](frames-kv-load-data-s3)\n",
    "- [Write to a NoSQL Table](#frames-kv-write)\n",
    "- [Read from the Table Using an SQL Query](#frames-kv-read-sql-query)\n",
    "- [Read from the Table Using the Frames API](#frames-kv-read-frames-api)\n",
    "  - [Read Using a Single DataFrame](#frames-kv-read-frames-api-single-df)\n",
    "  - [Read Using a DataFrame Iterator (Streaming)](#frames-kv-read-frames-api-df-iterator)\n",
    "- [Delete the NoSQL Table](#frames-kv-delete)"
   ]
  },
  {
   "cell_type": "markdown",
   "metadata": {},
   "source": [
    "<a id=\"frames-kv-init\"></a>\n",
    "### Initialization\n",
    "\n",
    "Start out by defining table-path variables that will be used in the tutorial's code examples.<br>\n",
    "The table path (`table`) is relative to the configured parent data container; see [Write to a NoSQL Table](#frames-kv-write)."
   ]
  },
  {
   "cell_type": "code",
   "execution_count": 2,
   "metadata": {},
   "outputs": [],
   "source": [
    "# Relative path to the NoSQL table within the parent platform data container\n",
    "table = os.path.join(os.getenv(\"V3IO_USERNAME\") + \"/examples/bank\")\n",
    "\n",
    "# Full path to the NoSQL table for SQL queries (platform Presto data-path syntax);\n",
    "# use the same data container as used for the Frames client (\"users\")\n",
    "sql_table_path = 'v3io.users.\"' + table + '\"'"
   ]
  },
  {
   "cell_type": "markdown",
   "metadata": {},
   "source": [
    "<a id=\"frames-kv-load-data-s3\"></a>\n",
    "### Load Data from Amazon S3\n",
    "\n",
    "Read a file from an Amazon Simple Storage (S3) bucket into a Frames pandas DataFrame."
   ]
  },
  {
   "cell_type": "code",
   "execution_count": 3,
   "metadata": {},
   "outputs": [
    {
     "data": {
      "text/html": [
       "<div>\n",
       "<style scoped>\n",
       "    .dataframe tbody tr th:only-of-type {\n",
       "        vertical-align: middle;\n",
       "    }\n",
       "\n",
       "    .dataframe tbody tr th {\n",
       "        vertical-align: top;\n",
       "    }\n",
       "\n",
       "    .dataframe thead th {\n",
       "        text-align: right;\n",
       "    }\n",
       "</style>\n",
       "<table border=\"1\" class=\"dataframe\">\n",
       "  <thead>\n",
       "    <tr style=\"text-align: right;\">\n",
       "      <th></th>\n",
       "      <th>age</th>\n",
       "      <th>job</th>\n",
       "      <th>marital</th>\n",
       "      <th>education</th>\n",
       "      <th>default</th>\n",
       "      <th>balance</th>\n",
       "      <th>housing</th>\n",
       "      <th>loan</th>\n",
       "      <th>contact</th>\n",
       "      <th>day</th>\n",
       "      <th>month</th>\n",
       "      <th>duration</th>\n",
       "      <th>campaign</th>\n",
       "      <th>pdays</th>\n",
       "      <th>previous</th>\n",
       "      <th>poutcome</th>\n",
       "      <th>y</th>\n",
       "    </tr>\n",
       "  </thead>\n",
       "  <tbody>\n",
       "    <tr>\n",
       "      <th>0</th>\n",
       "      <td>30</td>\n",
       "      <td>unemployed</td>\n",
       "      <td>married</td>\n",
       "      <td>primary</td>\n",
       "      <td>no</td>\n",
       "      <td>1787</td>\n",
       "      <td>no</td>\n",
       "      <td>no</td>\n",
       "      <td>cellular</td>\n",
       "      <td>19</td>\n",
       "      <td>oct</td>\n",
       "      <td>79</td>\n",
       "      <td>1</td>\n",
       "      <td>-1</td>\n",
       "      <td>0</td>\n",
       "      <td>unknown</td>\n",
       "      <td>no</td>\n",
       "    </tr>\n",
       "    <tr>\n",
       "      <th>1</th>\n",
       "      <td>33</td>\n",
       "      <td>services</td>\n",
       "      <td>married</td>\n",
       "      <td>secondary</td>\n",
       "      <td>no</td>\n",
       "      <td>4789</td>\n",
       "      <td>yes</td>\n",
       "      <td>yes</td>\n",
       "      <td>cellular</td>\n",
       "      <td>11</td>\n",
       "      <td>may</td>\n",
       "      <td>220</td>\n",
       "      <td>1</td>\n",
       "      <td>339</td>\n",
       "      <td>4</td>\n",
       "      <td>failure</td>\n",
       "      <td>no</td>\n",
       "    </tr>\n",
       "    <tr>\n",
       "      <th>2</th>\n",
       "      <td>35</td>\n",
       "      <td>management</td>\n",
       "      <td>single</td>\n",
       "      <td>tertiary</td>\n",
       "      <td>no</td>\n",
       "      <td>1350</td>\n",
       "      <td>yes</td>\n",
       "      <td>no</td>\n",
       "      <td>cellular</td>\n",
       "      <td>16</td>\n",
       "      <td>apr</td>\n",
       "      <td>185</td>\n",
       "      <td>1</td>\n",
       "      <td>330</td>\n",
       "      <td>1</td>\n",
       "      <td>failure</td>\n",
       "      <td>no</td>\n",
       "    </tr>\n",
       "    <tr>\n",
       "      <th>3</th>\n",
       "      <td>30</td>\n",
       "      <td>management</td>\n",
       "      <td>married</td>\n",
       "      <td>tertiary</td>\n",
       "      <td>no</td>\n",
       "      <td>1476</td>\n",
       "      <td>yes</td>\n",
       "      <td>yes</td>\n",
       "      <td>unknown</td>\n",
       "      <td>3</td>\n",
       "      <td>jun</td>\n",
       "      <td>199</td>\n",
       "      <td>4</td>\n",
       "      <td>-1</td>\n",
       "      <td>0</td>\n",
       "      <td>unknown</td>\n",
       "      <td>no</td>\n",
       "    </tr>\n",
       "    <tr>\n",
       "      <th>4</th>\n",
       "      <td>59</td>\n",
       "      <td>blue-collar</td>\n",
       "      <td>married</td>\n",
       "      <td>secondary</td>\n",
       "      <td>no</td>\n",
       "      <td>0</td>\n",
       "      <td>yes</td>\n",
       "      <td>no</td>\n",
       "      <td>unknown</td>\n",
       "      <td>5</td>\n",
       "      <td>may</td>\n",
       "      <td>226</td>\n",
       "      <td>1</td>\n",
       "      <td>-1</td>\n",
       "      <td>0</td>\n",
       "      <td>unknown</td>\n",
       "      <td>no</td>\n",
       "    </tr>\n",
       "  </tbody>\n",
       "</table>\n",
       "</div>"
      ],
      "text/plain": [
       "   age          job  marital  education default  balance housing loan  \\\n",
       "0   30   unemployed  married    primary      no     1787      no   no   \n",
       "1   33     services  married  secondary      no     4789     yes  yes   \n",
       "2   35   management   single   tertiary      no     1350     yes   no   \n",
       "3   30   management  married   tertiary      no     1476     yes  yes   \n",
       "4   59  blue-collar  married  secondary      no        0     yes   no   \n",
       "\n",
       "    contact  day month  duration  campaign  pdays  previous poutcome   y  \n",
       "0  cellular   19   oct        79         1     -1         0  unknown  no  \n",
       "1  cellular   11   may       220         1    339         4  failure  no  \n",
       "2  cellular   16   apr       185         1    330         1  failure  no  \n",
       "3   unknown    3   jun       199         4     -1         0  unknown  no  \n",
       "4   unknown    5   may       226         1     -1         0  unknown  no  "
      ]
     },
     "execution_count": 3,
     "metadata": {},
     "output_type": "execute_result"
    }
   ],
   "source": [
    "# Read an AWS S3 file into a DataFrame and show its data and metadata\n",
    "df = pd.read_csv(\"https://s3.amazonaws.com/iguazio-sample-data/bank.csv\", sep=\";\")\n",
    "df.head()"
   ]
  },
  {
   "cell_type": "markdown",
   "metadata": {},
   "source": [
    "<a id=\"frames-kv-write\"></a>\n",
    "### Write to a NoSQL Table\n",
    "\n",
    "Use the `write` method of the Frames client with the `\"kv\"` backend to write the data that was read in the previous step to a NoSQL table.<br>\n",
    "The mandatory `table` parameter specifies the relative table path within the data container that was configured for the Frames client (see the [main initialization](#frames-init) step).\n",
    "In the following example, the relative table path is set by using the `table` variable that was defined in the [\"kv\" backend initialization](#frames-kv-init) step.<br>\n",
    "The `dfs` parameter can be set either to a single DataFrame (as done in the following example) or to multiple DataFrames &mdash; either as a DataFrame iterator or as a list of DataFrames."
   ]
  },
  {
   "cell_type": "code",
   "execution_count": 4,
   "metadata": {},
   "outputs": [],
   "source": [
    "out = client.write(\"kv\", table=table, dfs=df)"
   ]
  },
  {
   "cell_type": "markdown",
   "metadata": {},
   "source": [
    "<a id=\"frames-kv-read-sql-query\"></a>\n",
    "### Read from the Table Using an SQL Query\n",
    "\n",
    "You can run SQL queries on your NoSQL table (using Presto) to offload data filtering, grouping, joins, etc. to a scale-out high-speed database engine.\n",
    "\n",
    "> **Note:** To query a table in a platform data container, the table path in the `from` section of the SQL query should be of the format `v3io.<container name>.\"/path/to/table\"`.\n",
    "> See [Presto Data Paths](https://www.iguazio.com/docs/tutorials/latest-release/getting-started/fundamentals/#data-paths-presto) in the platform documentation.\n",
    "> In the following example, the path is set by using the `sql_table_path` variable that was defined in the [\"kv\" backend initialization](#frames-kv-init) step.\n",
    "> Unless you changed the code, this variable translates to `v3io.users.\"<running user>/examples/bank\"`; for example, `v3io.users.\"iguazio/examples/bank\"` for user \"iguazio\"."
   ]
  },
  {
   "cell_type": "code",
   "execution_count": 5,
   "metadata": {},
   "outputs": [
    {
     "name": "stdout",
     "output_type": "stream",
     "text": [
      "Done.\n"
     ]
    },
    {
     "data": {
      "text/html": [
       "<table>\n",
       "    <tr>\n",
       "        <th>loan</th>\n",
       "        <th>education</th>\n",
       "        <th>previous</th>\n",
       "        <th>housing</th>\n",
       "        <th>poutcome</th>\n",
       "        <th>duration</th>\n",
       "        <th>marital</th>\n",
       "        <th>default</th>\n",
       "        <th>balance</th>\n",
       "        <th>month</th>\n",
       "        <th>contact</th>\n",
       "        <th>campaign</th>\n",
       "        <th>y</th>\n",
       "        <th>job</th>\n",
       "        <th>day</th>\n",
       "        <th>age</th>\n",
       "        <th>pdays</th>\n",
       "    </tr>\n",
       "    <tr>\n",
       "        <td>no</td>\n",
       "        <td>secondary</td>\n",
       "        <td>0</td>\n",
       "        <td>no</td>\n",
       "        <td>unknown</td>\n",
       "        <td>219</td>\n",
       "        <td>married</td>\n",
       "        <td>no</td>\n",
       "        <td>26452</td>\n",
       "        <td>jul</td>\n",
       "        <td>telephone</td>\n",
       "        <td>2</td>\n",
       "        <td>no</td>\n",
       "        <td>retired</td>\n",
       "        <td>15</td>\n",
       "        <td>75</td>\n",
       "        <td>-1</td>\n",
       "    </tr>\n",
       "    <tr>\n",
       "        <td>no</td>\n",
       "        <td>secondary</td>\n",
       "        <td>0</td>\n",
       "        <td>yes</td>\n",
       "        <td>unknown</td>\n",
       "        <td>249</td>\n",
       "        <td>married</td>\n",
       "        <td>no</td>\n",
       "        <td>19317</td>\n",
       "        <td>aug</td>\n",
       "        <td>cellular</td>\n",
       "        <td>1</td>\n",
       "        <td>yes</td>\n",
       "        <td>retired</td>\n",
       "        <td>4</td>\n",
       "        <td>68</td>\n",
       "        <td>-1</td>\n",
       "    </tr>\n",
       "</table>"
      ],
      "text/plain": [
       "[('no', 'secondary', 0, 'no', 'unknown', 219, 'married', 'no', 26452, 'jul', 'telephone', 2, 'no', 'retired', 15, 75, -1),\n",
       " ('no', 'secondary', 0, 'yes', 'unknown', 249, 'married', 'no', 19317, 'aug', 'cellular', 1, 'yes', 'retired', 4, 68, -1)]"
      ]
     },
     "execution_count": 5,
     "metadata": {},
     "output_type": "execute_result"
    }
   ],
   "source": [
    "%sql select * from $sql_table_path where balance > 10000"
   ]
  },
  {
   "cell_type": "markdown",
   "metadata": {},
   "source": [
    "<a id=\"frames-kv-read-frames-api\"></a>\n",
    "### Read from the Table Using the Frames API\n",
    "\n",
    "Use the `read` method of the Frames client with the `\"kv\"` backend to read data from your NoSQL table.<br>\n",
    "The `read` method can return a DataFrame or a DataFrame iterator (a stream), as demonstrated in the following examples.\n",
    "\n",
    "- [Read Using a Single DataFrame](#frames-kv-read-frames-api-single-df)\n",
    "- [Read Using a DataFrame Iterator (Streaming)](#frames-kv-read-frames-api-df-iterator)"
   ]
  },
  {
   "cell_type": "markdown",
   "metadata": {},
   "source": [
    "<a id=\"frames-kv-read-frames-api-single-df\"></a>\n",
    "#### Read Using a Single DataFrame\n",
    "\n",
    "The following example uses a single command to read data from the NoSQL table into a DataFrame."
   ]
  },
  {
   "cell_type": "code",
   "execution_count": 6,
   "metadata": {},
   "outputs": [
    {
     "data": {
      "text/html": [
       "<div>\n",
       "<style scoped>\n",
       "    .dataframe tbody tr th:only-of-type {\n",
       "        vertical-align: middle;\n",
       "    }\n",
       "\n",
       "    .dataframe tbody tr th {\n",
       "        vertical-align: top;\n",
       "    }\n",
       "\n",
       "    .dataframe thead th {\n",
       "        text-align: right;\n",
       "    }\n",
       "</style>\n",
       "<table border=\"1\" class=\"dataframe\">\n",
       "  <thead>\n",
       "    <tr style=\"text-align: right;\">\n",
       "      <th></th>\n",
       "      <th>age</th>\n",
       "      <th>balance</th>\n",
       "      <th>campaign</th>\n",
       "      <th>contact</th>\n",
       "      <th>day</th>\n",
       "      <th>default</th>\n",
       "      <th>duration</th>\n",
       "      <th>education</th>\n",
       "      <th>housing</th>\n",
       "      <th>job</th>\n",
       "      <th>loan</th>\n",
       "      <th>marital</th>\n",
       "      <th>month</th>\n",
       "      <th>pdays</th>\n",
       "      <th>poutcome</th>\n",
       "      <th>previous</th>\n",
       "      <th>y</th>\n",
       "    </tr>\n",
       "    <tr>\n",
       "      <th>index</th>\n",
       "      <th></th>\n",
       "      <th></th>\n",
       "      <th></th>\n",
       "      <th></th>\n",
       "      <th></th>\n",
       "      <th></th>\n",
       "      <th></th>\n",
       "      <th></th>\n",
       "      <th></th>\n",
       "      <th></th>\n",
       "      <th></th>\n",
       "      <th></th>\n",
       "      <th></th>\n",
       "      <th></th>\n",
       "      <th></th>\n",
       "      <th></th>\n",
       "      <th></th>\n",
       "    </tr>\n",
       "  </thead>\n",
       "  <tbody>\n",
       "    <tr>\n",
       "      <th>75</th>\n",
       "      <td>75.0</td>\n",
       "      <td>26452.0</td>\n",
       "      <td>2.0</td>\n",
       "      <td>telephone</td>\n",
       "      <td>15.0</td>\n",
       "      <td>no</td>\n",
       "      <td>219.0</td>\n",
       "      <td>secondary</td>\n",
       "      <td>no</td>\n",
       "      <td>retired</td>\n",
       "      <td>no</td>\n",
       "      <td>married</td>\n",
       "      <td>jul</td>\n",
       "      <td>-1.0</td>\n",
       "      <td>unknown</td>\n",
       "      <td>0.0</td>\n",
       "      <td>no</td>\n",
       "    </tr>\n",
       "  </tbody>\n",
       "</table>\n",
       "</div>"
      ],
      "text/plain": [
       "        age  balance  campaign    contact   day default  duration  education  \\\n",
       "index                                                                          \n",
       "75     75.0  26452.0       2.0  telephone  15.0      no     219.0  secondary   \n",
       "\n",
       "      housing      job loan  marital month  pdays poutcome  previous   y  \n",
       "index                                                                     \n",
       "75         no  retired   no  married   jul   -1.0  unknown       0.0  no  "
      ]
     },
     "execution_count": 6,
     "metadata": {},
     "output_type": "execute_result"
    }
   ],
   "source": [
    "df = client.read(backend=\"kv\", table=table, filter=\"balance > 20000\")\n",
    "df.head(8)"
   ]
  },
  {
   "cell_type": "markdown",
   "metadata": {},
   "source": [
    "<a id=\"frames-kv-read-frames-api-df-iterator\"></a>\n",
    "#### Read Using a DataFrame Iterator (Streaming)\n",
    "\n",
    "The following example uses a DataFrame iterator to stream data from the NoSQL table into multiple DataFrames and allow concurrent data movement and processing.<br>\n",
    "The example sets the `iterator` parameter to `True` to receive a DataFrame iterator (instead of the default single DataFrame), and then iterates the DataFrames in the returned iterator; you can also use `concat` instead of iterating the DataFrames.\n",
    "\n",
    "> **Note:** Iterators work with all Frames backends and can be used as input to write functions that support this, such as the `write` method of the Frames client."
   ]
  },
  {
   "cell_type": "code",
   "execution_count": 7,
   "metadata": {},
   "outputs": [
    {
     "name": "stdout",
     "output_type": "stream",
     "text": [
      "        age  balance  campaign    contact   day default  duration  education  \\\n",
      "index                                                                          \n",
      "75     75.0  26452.0       2.0  telephone  15.0      no     219.0  secondary   \n",
      "\n",
      "      housing      job loan  marital month  pdays poutcome  previous   y  \n",
      "index                                                                     \n",
      "75         no  retired   no  married   jul   -1.0  unknown       0.0  no  \n"
     ]
    }
   ],
   "source": [
    "dfs = client.read(backend=\"kv\", table=table, filter=\"balance > 20000\", iterator=True)\n",
    "for df in dfs:\n",
    "    print(df.head())"
   ]
  },
  {
   "cell_type": "markdown",
   "metadata": {},
   "source": [
    "<a id=\"frames-kv-delete\"></a>\n",
    "### Delete the NoSQL Table\n",
    "\n",
    "Use the `delete` method of the Frames client with the `\"kv\"` backend to delete the NoSQL table that was used in the previous steps."
   ]
  },
  {
   "cell_type": "code",
   "execution_count": 8,
   "metadata": {},
   "outputs": [],
   "source": [
    "# Delete the `table` NoSQL table\n",
    "client.delete(\"kv\", table)"
   ]
  },
  {
   "cell_type": "markdown",
   "metadata": {},
   "source": [
    "<a id='frames-tsdb'></a>\n",
    "## Working with Time-Series Databases (\"tsdb\" Backend)\n",
    "\n",
    "This section demonstrates how to use the `\"tsdb\"` Frames backend to create a time-series database (TSDB) table in the platform, ingest data into the table, and read from the table (i.e., submit TSDB queries).\n",
    "\n",
    "- [Initialization](#frames-tsdb-init)\n",
    "- [Create a TSDB Table](#frames-tsdb-create)\n",
    "- [Write to the TSDB Table](#frames-tsdb-write)\n",
    "- [Read from the TSDB Table](#frames-tsdb-read)\n",
    "- [Delete the TSDB Table](#frames-tsdb-delete)"
   ]
  },
  {
   "cell_type": "markdown",
   "metadata": {},
   "source": [
    "<a id=\"frames-tsdb-init\"></a>\n",
    "### Initialization\n",
    "\n",
    "Start out by defining a TSDB table-path variable that will be used in the tutorial's code examples.<br>\n",
    "The table path (`tsdb_table`) is relative to the configured parent data container; see [Create a TSDB Table](#frames-tsdb-create)."
   ]
  },
  {
   "cell_type": "code",
   "execution_count": 9,
   "metadata": {},
   "outputs": [],
   "source": [
    "# Relative path to the TSDB table within the parent platform data container\n",
    "tsdb_table = os.path.join(os.getenv(\"V3IO_USERNAME\") + \"/examples/tsdb_tab\")"
   ]
  },
  {
   "cell_type": "markdown",
   "metadata": {},
   "source": [
    "<a id=\"frames-tsdb-create\"></a>\n",
    "### Create a TSDB Table\n",
    "\n",
    "Use the `create` method of the Frames client with the `\"tsdb\"` backend to create a new TSDB table.<br>\n",
    "The mandatory `table` parameter specifies the relative table path within the data container that was configured for the Frames client (see the [main initialization](#frames-init) step).\n",
    "In the following example, the relative table path is set by using the `tsdb_table` variable that was defined in the [\"tsdb\" backend initialization](#frames-tsdb-init) step.<br>\n",
    "You can optionally use the `attrs` parameter to provide additional arguments.\n",
    "For example, you can set the `rate` argument to the TSDB’s metric-samples ingestion rate (`\"[0-9]+/[smh]\"`; for example, `1/s`); the rate should be calculated according to the slowest expected ingestion rate."
   ]
  },
  {
   "cell_type": "code",
   "execution_count": 10,
   "metadata": {},
   "outputs": [],
   "source": [
    "# Create a new TSDB table; ingestion rate = one sample per minute (\"1/m\")\n",
    "client.create(backend=\"tsdb\", table=tsdb_table, attrs={\"rate\": \"1/m\"})"
   ]
  },
  {
   "cell_type": "markdown",
   "metadata": {},
   "source": [
    "<a id=\"frames-tsdb-write\"></a>\n",
    "### Write to the TSDB Table\n",
    "\n",
    "Use the `write` method of the Frames client with the `\"tsdb\"` backend to ingest data from a pandas DataFrame into your TSDB table.<br>\n",
    "The primary-key attribute of platform TSDB tables (i.e., the DataFrame index column) must hold the sample time of the data (displayed as `time` in read outputs).<br>\n",
    "In addition, TSDB table items (rows) can optionally have sub-index columns (attributes) that are called labels.\n",
    "You can add labels to TSDB table items in one of two ways; you can also combine these methods:\n",
    "\n",
    "- Use the `labels` dictionary parameter of the `write` method to add labels to all the written metric-sample table items (DataFrame rows) &mdash; `{\"<label>\": \"<value>\"[, \"<label>\": \"<value>\", ...]}`.<br>\n",
    "  For example, `{\"node\": \"11\"}` in the following code example.\n",
    "- Define DataFrame index columns for the labels.\n",
    "  All DataFrame index columns except for the sample-time index column are automatically converted into labels for the respective table items.\n",
    "  > **Note:** If you wish to use regular columns in your DataFrames as TSDB labels, convert these columns to index columns.\n",
    "  > The following example converts the `symbol` and `exchange` columns to index columns that will be used as TSDB labels (in addition to the `time` index column):<br>\n",
    "  > ```python\n",
    "  > df.index.name=\"time\"                              # Ensure that the sample-time index column is named \"time\"\n",
    "  > df.reset_index(level=0, inplace=True)             # Reset the DataFrame indexes\n",
    "  > df = df.set_index([\"time\", \"symbol\", \"exchange\"]) # Convert the \"time\" column and additional TSDB-label columns to DataFrame indexes\n",
    "  > ```"
   ]
  },
  {
   "cell_type": "code",
   "execution_count": 11,
   "metadata": {},
   "outputs": [
    {
     "name": "stdout",
     "output_type": "stream",
     "text": [
      "<class 'pandas.core.frame.DataFrame'>\n",
      "DatetimeIndex: 60 entries, 2019-09-15 08:05:00-05:00 to 2019-09-15 13:00:00-05:00\n",
      "Freq: 300S\n",
      "Data columns (total 3 columns):\n",
      "cpu     60 non-null float64\n",
      "mem     60 non-null float64\n",
      "disk    60 non-null float64\n",
      "dtypes: float64(3)\n",
      "memory usage: 1.9 KB\n",
      "None                                 cpu       mem      disk\n",
      "2019-09-15 08:05:00-05:00 -1.115736 -1.229851  0.463388\n",
      "2019-09-15 08:10:00-05:00 -0.113683 -0.515424  0.852152\n",
      "2019-09-15 08:15:00-05:00 -1.603768 -1.155131  0.607183\n",
      "2019-09-15 08:20:00-05:00 -1.458350 -0.673800  0.109492\n",
      "2019-09-15 08:25:00-05:00  1.006173 -1.245499 -0.011838\n"
     ]
    }
   ],
   "source": [
    "# Prepare metric samples to ingets to the TSDB table\n",
    "import numpy as np\n",
    "from datetime import datetime, timedelta\n",
    "\n",
    "end = datetime.now().replace(minute=0, second=0, microsecond=0)\n",
    "rng = pd.date_range(end=end, periods=60, freq=\"300s\", tz=\"EST\")\n",
    "df = pd.DataFrame(np.random.randn(len(rng), 3), index=rng, columns=[\"cpu\", \"mem\", \"disk\"])\n",
    "df = df.cumsum()\n",
    "print(df.info(), df.head())"
   ]
  },
  {
   "cell_type": "code",
   "execution_count": 12,
   "metadata": {},
   "outputs": [],
   "source": [
    "# Ingest data into the TSDB table\n",
    "client.write(backend=\"tsdb\", table=tsdb_table, dfs=df, labels={\"node\": \"11\"})"
   ]
  },
  {
   "cell_type": "markdown",
   "metadata": {},
   "source": [
    "<a id=\"frames-tsdb-read\"></a>\n",
    "### Read from the TSDB Table\n",
    "\n",
    "Use the `read` method of the Frames client with the `\"tsdb\"` backend to read data from your TSDB table (i.e., query the database)."
   ]
  },
  {
   "cell_type": "code",
   "execution_count": 13,
   "metadata": {},
   "outputs": [
    {
     "data": {
      "text/html": [
       "<div>\n",
       "<style scoped>\n",
       "    .dataframe tbody tr th:only-of-type {\n",
       "        vertical-align: middle;\n",
       "    }\n",
       "\n",
       "    .dataframe tbody tr th {\n",
       "        vertical-align: top;\n",
       "    }\n",
       "\n",
       "    .dataframe thead th {\n",
       "        text-align: right;\n",
       "    }\n",
       "</style>\n",
       "<table border=\"1\" class=\"dataframe\">\n",
       "  <thead>\n",
       "    <tr style=\"text-align: right;\">\n",
       "      <th></th>\n",
       "      <th></th>\n",
       "      <th>avg(cpu)</th>\n",
       "      <th>avg(disk)</th>\n",
       "      <th>avg(mem)</th>\n",
       "      <th>max(cpu)</th>\n",
       "      <th>max(disk)</th>\n",
       "      <th>max(mem)</th>\n",
       "      <th>min(cpu)</th>\n",
       "      <th>min(disk)</th>\n",
       "      <th>min(mem)</th>\n",
       "    </tr>\n",
       "    <tr>\n",
       "      <th>time</th>\n",
       "      <th>node</th>\n",
       "      <th></th>\n",
       "      <th></th>\n",
       "      <th></th>\n",
       "      <th></th>\n",
       "      <th></th>\n",
       "      <th></th>\n",
       "      <th></th>\n",
       "      <th></th>\n",
       "      <th></th>\n",
       "    </tr>\n",
       "  </thead>\n",
       "  <tbody>\n",
       "    <tr>\n",
       "      <th>2019-09-15 12:20:58</th>\n",
       "      <th>11</th>\n",
       "      <td>-1.072884</td>\n",
       "      <td>0.508054</td>\n",
       "      <td>-0.893552</td>\n",
       "      <td>-0.113683</td>\n",
       "      <td>0.852152</td>\n",
       "      <td>-0.515424</td>\n",
       "      <td>-1.603768</td>\n",
       "      <td>0.109492</td>\n",
       "      <td>-1.229851</td>\n",
       "    </tr>\n",
       "  </tbody>\n",
       "</table>\n",
       "</div>"
      ],
      "text/plain": [
       "                          avg(cpu)  avg(disk)  avg(mem)  max(cpu)  max(disk)  \\\n",
       "time                node                                                       \n",
       "2019-09-15 12:20:58 11   -1.072884   0.508054 -0.893552 -0.113683   0.852152   \n",
       "\n",
       "                          max(mem)  min(cpu)  min(disk)  min(mem)  \n",
       "time                node                                           \n",
       "2019-09-15 12:20:58 11   -0.515424 -1.603768   0.109492 -1.229851  "
      ]
     },
     "execution_count": 13,
     "metadata": {},
     "output_type": "execute_result"
    }
   ],
   "source": [
    "# Read time-series aggregates from the TSDB table as a data stream; use concat to assemble the DataFrames\n",
    "query_str= \"select avg(*), max(*), min(*) from '\" + tsdb_table + \"'\"\n",
    "tsdf = client.read(backend=\"tsdb\", query=query_str, step=\"60m\", start=\"now-7d\", end=\"now\", multi_index=True)\n",
    "tsdf.head()"
   ]
  },
  {
   "cell_type": "markdown",
   "metadata": {},
   "source": [
    "<a id=\"frames-tsdb-delete\"></a>\n",
    "### Delete the TSDB Table\n",
    "\n",
    "Use the `delete` method of the Frames client with the `\"tsdb\"` backend to delete the TSDB table that was used in the previous steps."
   ]
  },
  {
   "cell_type": "code",
   "execution_count": 14,
   "metadata": {},
   "outputs": [],
   "source": [
    "client.delete(\"tsdb\", tsdb_table)"
   ]
  },
  {
   "cell_type": "markdown",
   "metadata": {},
   "source": [
    "<a id='frames-stream'></a>\n",
    "## Working with Streams (\"stream\" Backend)\n",
    "\n",
    "The platform supports streams that have an AWS Kinesis-like API. For more information, see the [platform documentation](https://www.iguazio.com/docs/concepts/latest-release/streams/).\n",
    "\n",
    "- [Initialization](#frames-stream-init)\n",
    "- [Create a Stream](#frames-stream-create)\n",
    "- [Write to the Stream](#frames-stream-write)\n",
    "  - [Use the Write Method to Perform a Batch Update](#frames-stream-write-batch-update)\n",
    "  - [Use the Execute Method's Put Command to Update a Single Record](#frames-stream-execute-put)\n",
    "- [Read from the Stream](#frames-stream-read)\n",
    "- [Delete the Stream](#frames-tsdb-delete)"
   ]
  },
  {
   "cell_type": "markdown",
   "metadata": {},
   "source": [
    "<a id=\"frames-stream-init\"></a>\n",
    "### Initialization\n",
    "\n",
    "Start out by defining a stream-path variable that will be used in the tutorial's code examples.<br>\n",
    "The stream path (`strm`) is relative to the configured parent data container; see [Create a Stream](#frames-stream-create)."
   ]
  },
  {
   "cell_type": "code",
   "execution_count": 15,
   "metadata": {},
   "outputs": [],
   "source": [
    "# Relative path to the stream within the parent platform data container\n",
    "strm = os.path.join(os.getenv(\"V3IO_USERNAME\") + \"/examples/somestream\")"
   ]
  },
  {
   "cell_type": "markdown",
   "metadata": {},
   "source": [
    "<a id=\"frames-stream-create\"></a>\n",
    "### Create a Stream\n",
    "\n",
    "Use the `create` method of the Frames client with the `\"stream\"` backend to create a new data stream.<br>\n",
    "The mandatory `table` parameter specifies the relative stream path within the data container that was configured for the Frames client (see the [main initialization](#frames-init) step).\n",
    "In the following example, the relative stream path is set by using the `strm` variable that was defined in the [\"stream\" backend initialization](#frames-stream-init) step.<br>\n",
    "You can optionally use the `attrs` parameter to provide additional arguments.\n",
    "For example, you can set the `shards` argument to the number of shards in the stream, or you can set the `retention_hours` argument to the stream's retention period in hours."
   ]
  },
  {
   "cell_type": "code",
   "execution_count": 16,
   "metadata": {},
   "outputs": [],
   "source": [
    "# Create a new stream\n",
    "client.create(backend=\"stream\", table=strm, attrs={\"retention_hours\": 48, \"shards\": 1})"
   ]
  },
  {
   "cell_type": "markdown",
   "metadata": {},
   "source": [
    "<a id=\"frames-stream-write\"></a>\n",
    "### Write to the Stream\n",
    "\n",
    "You can use either of the following methods to ingest data into your stream:\n",
    "\n",
    "- [Use the Write Method to Perform a Batch Update](#frames-stream-write-batch-update)\n",
    "- [Use the Execute Method's Put Command to Update a Single Record](#frames-stream-execute-put)"
   ]
  },
  {
   "cell_type": "markdown",
   "metadata": {},
   "source": [
    "<a id=\"frames-stream-write-batch-update\"></a>\n",
    "#### Use the Write Method to Perform a Batch Update\n",
    "\n",
    "Use the `write` method of the Frames client with the `\"stream\"` backend to ingest multiple records into your stream (batch update), as demonstrated in the following example.<br>\n",
    "The `dfs` parameter can be set either to a single DataFrame (as done in the following example) or to multiple DataFrames &mdash; either as a DataFrame iterator or as a list of DataFrames."
   ]
  },
  {
   "cell_type": "code",
   "execution_count": 17,
   "metadata": {},
   "outputs": [],
   "source": [
    "# Prepare the ingestion data\n",
    "end = datetime.now().replace(minute=0, second=0, microsecond=0)\n",
    "rng = pd.date_range(end=end, periods=60, freq=\"300s\", tz=\"Israel\")\n",
    "df = pd.DataFrame(np.random.randn(len(rng), 3), index=rng, columns=[\"cpu\", \"mem\", \"disk\"])\n",
    "\n",
    "# Ingest data into the stream\n",
    "client.write(\"stream\", table-strm, dfs=df)"
   ]
  },
  {
   "cell_type": "markdown",
   "metadata": {},
   "source": [
    "<a id=\"frames-stream-execute-put\"></a>\n",
    "#### Use the Execute Method's Put Command to Update a Single Record\n",
    "\n",
    "Use the `put` command of the `execute` method of the Frames client with the `\"stream\"` backend to add a single record to a stream.<br>\n",
    "Use the `args` parameter of the `put` command to provide the necessary information:\n",
    "set the mandatory `data` argument to the ingested record data.\n",
    "You can optionally set the `clientinfo` argument to additional metadata and the `partition` argument to to a partition key; records with the same partition key are assigned to the same shard."
   ]
  },
  {
   "cell_type": "code",
   "execution_count": 18,
   "metadata": {},
   "outputs": [
    {
     "data": {
      "text/html": [
       "<div>\n",
       "<style scoped>\n",
       "    .dataframe tbody tr th:only-of-type {\n",
       "        vertical-align: middle;\n",
       "    }\n",
       "\n",
       "    .dataframe tbody tr th {\n",
       "        vertical-align: top;\n",
       "    }\n",
       "\n",
       "    .dataframe thead th {\n",
       "        text-align: right;\n",
       "    }\n",
       "</style>\n",
       "<table border=\"1\" class=\"dataframe\">\n",
       "  <thead>\n",
       "    <tr style=\"text-align: right;\">\n",
       "      <th></th>\n",
       "    </tr>\n",
       "  </thead>\n",
       "  <tbody>\n",
       "  </tbody>\n",
       "</table>\n",
       "</div>"
      ],
      "text/plain": [
       "Empty DataFrame\n",
       "Columns: []\n",
       "Index: []"
      ]
     },
     "execution_count": 18,
     "metadata": {},
     "output_type": "execute_result"
    }
   ],
   "source": [
    "client.execute(\"stream\", strm, \"put\", args={'data': \"abcd\", \"clientinfo\": \"123\"})"
   ]
  },
  {
   "cell_type": "markdown",
   "metadata": {},
   "source": [
    "<a id=\"frames-stream-read\"></a>\n",
    "### Read from the Stream\n",
    "\n",
    "Use the `read` method of the Frames client with the `\"stream\"` backend to read data from your stream.<br>\n",
    "The mandatory `seek` parameter specifies the seek method, which determines the location within the target stream shard from which to read; some methods require setting additional parameters:\n",
    "\n",
    "- `\"earliest\"` &mdash; start from the earliest point in the shard; (no additional parameters).\n",
    "- `\"latest\"` &mdash; start from the latest location in the shard (i.e., consume only new records).\n",
    "- `\"time\"` &mdash; start from a specific point in time, as specified in the `start` parameter (for example, `start=\"now-1d\"`).\n",
    "- `\"sequence\"` &mdash; start from a specific record sequence number, as specified in the `sequence` parameter (for example, `sequence=45`).\n",
    "\n",
    "The `read` method can return a single DataFrame (default) or a DataFrame iterator (a stream) if the `iterator` parameter is set to `True`, as demonstrated in the following example."
   ]
  },
  {
   "cell_type": "code",
   "execution_count": 19,
   "metadata": {},
   "outputs": [
    {
     "name": "stdout",
     "output_type": "stream",
     "text": [
      "                 cpu      disk               index-0       mem raw_data  \\\n",
      "seq_number                                                                \n",
      "1          -0.448749 -0.080189  2019-09-15T05:05:00Z -0.128496            \n",
      "2          -0.255004 -1.169343  2019-09-15T05:10:00Z -0.858265            \n",
      "3          -0.469349  0.844941  2019-09-15T05:15:00Z  0.994743            \n",
      "4           1.062668 -1.448676  2019-09-15T05:20:00Z -1.243823            \n",
      "\n",
      "                             stream_time  \n",
      "seq_number                                \n",
      "1          2019-09-15 13:21:56.969021708  \n",
      "2          2019-09-15 13:21:56.969021708  \n",
      "3          2019-09-15 13:21:56.969021708  \n",
      "4          2019-09-15 13:21:56.969021708  \n"
     ]
    }
   ],
   "source": [
    "# Read from the from the earliest available location (seek=\"earliest\") in the first stream shard (shard_id=0);\n",
    "# return the result as a DataFrame iterator (iterator=True) and iterate and print the returned data\n",
    "dfs = client.read(\"stream\", strm, seek=\"earliest\", shard_id=\"0\", iterator=True)\n",
    "for df in dfs:\n",
    "    print(df.head(4))"
   ]
  },
  {
   "cell_type": "markdown",
   "metadata": {},
   "source": [
    "<a id=\"frames-tsdb-stream\"></a>\n",
    "### Delete the Stream\n",
    "\n",
    "Use the `delete` method of the Frames client with the `\"stream\"` backend to delete the TSDB table that was used in the previous steps."
   ]
  },
  {
   "cell_type": "code",
   "execution_count": 20,
   "metadata": {},
   "outputs": [],
   "source": [
    "client.delete(\"stream\", strm)"
   ]
  },
  {
   "cell_type": "markdown",
   "metadata": {},
   "source": [
    "<a id=\"frames-cleanup\"></a>\n",
    "## Cleanup\n",
    "\n",
    "You can optionally delete any of the directories or files that you created.\n",
    "See the instructions in the [Creating and Deleting Container Directories](https://www.iguazio.com/docs/tutorials/latest-release/getting-started/containers/#create-delete-container-dirs) tutorial.\n",
    "For example, the following code uses a local file-system command to delete the entire **&lt;running user&gt;/examples/** directory in the \"users\" container.\n",
    "Edit the path, as needed, then remove the comment mark (`#`) and run the code."
   ]
  },
  {
   "cell_type": "code",
   "execution_count": null,
   "metadata": {},
   "outputs": [],
   "source": [
    "#!rm -rf /User/examples/"
   ]
  }
 ],
 "metadata": {
  "kernelspec": {
   "display_name": "Python 3",
   "language": "python",
   "name": "python3"
  },
  "language_info": {
   "codemirror_mode": {
    "name": "ipython",
    "version": 3
   },
   "file_extension": ".py",
   "mimetype": "text/x-python",
   "name": "python",
   "nbconvert_exporter": "python",
   "pygments_lexer": "ipython3",
   "version": "3.6.8"
  }
 },
 "nbformat": 4,
 "nbformat_minor": 4
}
