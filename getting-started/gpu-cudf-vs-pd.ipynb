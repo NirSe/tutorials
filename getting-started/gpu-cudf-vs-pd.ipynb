{
 "cells": [
  {
   "cell_type": "markdown",
   "metadata": {},
   "source": [
    "# Benchmarks Comparison &mdash; pandas Versus RAPIDS cuDF\n",
    "\n",
    "This tutorial uses `timeit` to compare performance benchmarks with pandas and RAPIDS cuDF."
   ]
  },
  {
   "cell_type": "markdown",
   "metadata": {},
   "source": [
    "## System Details"
   ]
  },
  {
   "cell_type": "markdown",
   "metadata": {},
   "source": [
    "### GPU"
   ]
  },
  {
   "cell_type": "code",
   "execution_count": 1,
   "metadata": {
    "collapsed": true,
    "jupyter": {
     "outputs_hidden": true
    }
   },
   "outputs": [
    {
     "name": "stdout",
     "output_type": "stream",
     "text": [
      "\n",
      "==============NVSMI LOG==============\n",
      "\n",
      "Timestamp                           : Thu Jan  9 11:56:26 2020\n",
      "Driver Version                      : 440.31\n",
      "CUDA Version                        : 10.2\n",
      "\n",
      "Attached GPUs                       : 1\n",
      "GPU 00000000:81:00.0\n",
      "    Product Name                    : Tesla T4\n",
      "    Product Brand                   : Tesla\n",
      "    Display Mode                    : Enabled\n",
      "    Display Active                  : Disabled\n",
      "    Persistence Mode                : Enabled\n",
      "    Accounting Mode                 : Disabled\n",
      "    Accounting Mode Buffer Size     : 4000\n",
      "    Driver Model\n",
      "        Current                     : N/A\n",
      "        Pending                     : N/A\n",
      "    Serial Number                   : 0561119011981\n",
      "    GPU UUID                        : GPU-8b4068b3-1bcf-8dbe-978e-8eacb3c22801\n",
      "    Minor Number                    : 0\n",
      "    VBIOS Version                   : 90.04.38.00.03\n",
      "    MultiGPU Board                  : No\n",
      "    Board ID                        : 0x8100\n",
      "    GPU Part Number                 : 900-2G183-0000-000\n",
      "    Inforom Version\n",
      "        Image Version               : G183.0200.00.02\n",
      "        OEM Object                  : 1.1\n",
      "        ECC Object                  : 5.0\n",
      "        Power Management Object     : N/A\n",
      "    GPU Operation Mode\n",
      "        Current                     : N/A\n",
      "        Pending                     : N/A\n",
      "    GPU Virtualization Mode\n",
      "        Virtualization Mode         : None\n",
      "        Host VGPU Mode              : N/A\n",
      "    IBMNPU\n",
      "        Relaxed Ordering Mode       : N/A\n",
      "    PCI\n",
      "        Bus                         : 0x81\n",
      "        Device                      : 0x00\n",
      "        Domain                      : 0x0000\n",
      "        Device Id                   : 0x1EB810DE\n",
      "        Bus Id                      : 00000000:81:00.0\n",
      "        Sub System Id               : 0x12A210DE\n",
      "        GPU Link Info\n",
      "            PCIe Generation\n",
      "                Max                 : 3\n",
      "                Current             : 1\n",
      "            Link Width\n",
      "                Max                 : 16x\n",
      "                Current             : 16x\n",
      "        Bridge Chip\n",
      "            Type                    : N/A\n",
      "            Firmware                : N/A\n",
      "        Replays Since Reset         : 0\n",
      "        Replay Number Rollovers     : 0\n",
      "        Tx Throughput               : 0 KB/s\n",
      "        Rx Throughput               : 0 KB/s\n",
      "    Fan Speed                       : N/A\n",
      "    Performance State               : P8\n",
      "    Clocks Throttle Reasons\n",
      "        Idle                        : Active\n",
      "        Applications Clocks Setting : Not Active\n",
      "        SW Power Cap                : Not Active\n",
      "        HW Slowdown                 : Not Active\n",
      "            HW Thermal Slowdown     : Not Active\n",
      "            HW Power Brake Slowdown : Not Active\n",
      "        Sync Boost                  : Not Active\n",
      "        SW Thermal Slowdown         : Not Active\n",
      "        Display Clock Setting       : Not Active\n",
      "    FB Memory Usage\n",
      "        Total                       : 15109 MiB\n",
      "        Used                        : 0 MiB\n",
      "        Free                        : 15109 MiB\n",
      "    BAR1 Memory Usage\n",
      "        Total                       : 256 MiB\n",
      "        Used                        : 2 MiB\n",
      "        Free                        : 254 MiB\n",
      "    Compute Mode                    : Default\n",
      "    Utilization\n",
      "        Gpu                         : 0 %\n",
      "        Memory                      : 0 %\n",
      "        Encoder                     : 0 %\n",
      "        Decoder                     : 0 %\n",
      "    Encoder Stats\n",
      "        Active Sessions             : 0\n",
      "        Average FPS                 : 0\n",
      "        Average Latency             : 0\n",
      "    FBC Stats\n",
      "        Active Sessions             : 0\n",
      "        Average FPS                 : 0\n",
      "        Average Latency             : 0\n",
      "    Ecc Mode\n",
      "        Current                     : Enabled\n",
      "        Pending                     : Enabled\n",
      "    ECC Errors\n",
      "        Volatile\n",
      "            SRAM Correctable        : 0\n",
      "            SRAM Uncorrectable      : 0\n",
      "            DRAM Correctable        : 0\n",
      "            DRAM Uncorrectable      : 0\n",
      "        Aggregate\n",
      "            SRAM Correctable        : 0\n",
      "            SRAM Uncorrectable      : 0\n",
      "            DRAM Correctable        : 0\n",
      "            DRAM Uncorrectable      : 0\n",
      "    Retired Pages\n",
      "        Single Bit ECC              : 0\n",
      "        Double Bit ECC              : 0\n",
      "        Pending Page Blacklist      : No\n",
      "    Temperature\n",
      "        GPU Current Temp            : 44 C\n",
      "        GPU Shutdown Temp           : 96 C\n",
      "        GPU Slowdown Temp           : 93 C\n",
      "        GPU Max Operating Temp      : 85 C\n",
      "        Memory Current Temp         : N/A\n",
      "        Memory Max Operating Temp   : N/A\n",
      "    Power Readings\n",
      "        Power Management            : Supported\n",
      "        Power Draw                  : 13.08 W\n",
      "        Power Limit                 : 70.00 W\n",
      "        Default Power Limit         : 70.00 W\n",
      "        Enforced Power Limit        : 70.00 W\n",
      "        Min Power Limit             : 60.00 W\n",
      "        Max Power Limit             : 70.00 W\n",
      "    Clocks\n",
      "        Graphics                    : 300 MHz\n",
      "        SM                          : 300 MHz\n",
      "        Memory                      : 405 MHz\n",
      "        Video                       : 540 MHz\n",
      "    Applications Clocks\n",
      "        Graphics                    : 585 MHz\n",
      "        Memory                      : 5001 MHz\n",
      "    Default Applications Clocks\n",
      "        Graphics                    : 585 MHz\n",
      "        Memory                      : 5001 MHz\n",
      "    Max Clocks\n",
      "        Graphics                    : 1590 MHz\n",
      "        SM                          : 1590 MHz\n",
      "        Memory                      : 5001 MHz\n",
      "        Video                       : 1470 MHz\n",
      "    Max Customer Boost Clocks\n",
      "        Graphics                    : 1590 MHz\n",
      "    Clock Policy\n",
      "        Auto Boost                  : N/A\n",
      "        Auto Boost Default          : N/A\n",
      "    Processes                       : None\n",
      "\n"
     ]
    }
   ],
   "source": [
    "!nvidia-smi -q"
   ]
  },
  {
   "cell_type": "markdown",
   "metadata": {},
   "source": [
    "### CPU"
   ]
  },
  {
   "cell_type": "code",
   "execution_count": 2,
   "metadata": {
    "collapsed": true,
    "jupyter": {
     "outputs_hidden": true
    }
   },
   "outputs": [
    {
     "name": "stdout",
     "output_type": "stream",
     "text": [
      "processor       : 0\n",
      "vendor_id       : GenuineIntel\n",
      "cpu family      : 6\n",
      "model           : 79\n",
      "model name      : Intel(R) Xeon(R) CPU E5-2630 v4 @ 2.20GHz\n",
      "stepping        : 1\n",
      "microcode       : 0xb000012\n",
      "cpu MHz         : 2200.000\n",
      "cache size      : 25600 KB\n",
      "physical id     : 0\n",
      "siblings        : 10\n",
      "core id         : 0\n",
      "cpu cores       : 10\n",
      "apicid          : 0\n",
      "initial apicid  : 0\n",
      "fpu             : yes\n",
      "fpu_exception   : yes\n",
      "cpuid level     : 20\n",
      "wp              : yes\n",
      "\u001b[K:\u001b[K         : fpu vme de pse tsc msr pae mce cx8 apic sep mtrr pge mca cmov pat pse36 clflush dts acpi mmx fxsr sse sse2 ss ht tm pbe syscall nx pdpe1gb rdtscp lm constant_tsc arch_perfmon pebs bts rep_good nopl xtopology nonstop_tsc aperfmperf eagerfpu pni pclmulqdq dtes64 monitor ds_cpl vmx smx est tm2 ssse3 sdbg\u001b[7m/proc/cpuinfo\u001b[m\u001b[K\u0007"
     ]
    }
   ],
   "source": [
    "!less /proc/cpuinfo"
   ]
  },
  {
   "cell_type": "markdown",
   "metadata": {},
   "source": [
    "## Benchmark Setup"
   ]
  },
  {
   "cell_type": "markdown",
   "metadata": {},
   "source": [
    "### Installations\n",
    "\n",
    "Install v3io-generator to create a 1 GB data set for the benchmark.<br>\n",
    "You only need to run the generator once, and then you can reuse the generated data set."
   ]
  },
  {
   "cell_type": "code",
   "execution_count": 3,
   "metadata": {},
   "outputs": [
    {
     "name": "stdout",
     "output_type": "stream",
     "text": [
      "Requirement already satisfied: pytimeparse in /User/.pythonlibs/jupyter/lib/python3.6/site-packages (1.1.8)\n",
      "Looking in indexes: https://test.pypi.org/simple/\n",
      "Requirement already up-to-date: v3io-generator in /User/.pythonlibs/jupyter/lib/python3.6/site-packages (0.0.27.dev0)\n",
      "/bin/sh: pin: command not found\n"
     ]
    }
   ],
   "source": [
    "!pip install pytimeparse\n",
    "!pip install -i https://test.pypi.org/simple/ v3io-generator --upgrade\n",
    "!pip install faker"
   ]
  },
  {
   "cell_type": "markdown",
   "metadata": {},
   "source": [
    "### Imports"
   ]
  },
  {
   "cell_type": "code",
   "execution_count": 4,
   "metadata": {},
   "outputs": [],
   "source": [
    "import os\n",
    "import yaml\n",
    "import time\n",
    "import datetime\n",
    "import json\n",
    "import itertools\n",
    "\n",
    "# Generator\n",
    "from v3io_generator import metrics_generator, deployment_generator\n",
    "\n",
    "# Dataframes\n",
    "import cudf\n",
    "import pandas as pd"
   ]
  },
  {
   "cell_type": "markdown",
   "metadata": {},
   "source": [
    "### Configurations"
   ]
  },
  {
   "cell_type": "code",
   "execution_count": 5,
   "metadata": {},
   "outputs": [],
   "source": [
    "# Benchmark configurations\n",
    "metric_names = ['cpu_utilization', 'latency', 'packet_loss', 'throughput']\n",
    "nlargest = 10\n",
    "source_file = os.path.join(os.getcwd(), 'data', 'ops.logs') # Use full path\n",
    "\n",
    "\n",
    "os.environ['SOURCE_PATH'] = source_file                    # Expose for display\n",
    "os.environ['SOURCE_DIR'] = os.path.dirname(source_file)    # Expose for display\n",
    "os.environ['SOURCE_FILE'] = os.path.basename(source_file)  # Expose for display"
   ]
  },
  {
   "cell_type": "markdown",
   "metadata": {},
   "source": [
    "### Create the Data Source\n",
    "\n",
    "Use v3io-generator to create a time-series network-operations dataset for 100 companies, including 4 metrics (CPU utilization, latency, throughput, and packet loss).<br>\n",
    "Then, write the dataset to a JSON file to be used as the data source."
   ]
  },
  {
   "cell_type": "code",
   "execution_count": 6,
   "metadata": {},
   "outputs": [
    {
     "data": {
      "text/html": [
       "<div>\n",
       "<style scoped>\n",
       "    .dataframe tbody tr th:only-of-type {\n",
       "        vertical-align: middle;\n",
       "    }\n",
       "\n",
       "    .dataframe tbody tr th {\n",
       "        vertical-align: top;\n",
       "    }\n",
       "\n",
       "    .dataframe thead th {\n",
       "        text-align: right;\n",
       "    }\n",
       "</style>\n",
       "<table border=\"1\" class=\"dataframe\">\n",
       "  <thead>\n",
       "    <tr style=\"text-align: right;\">\n",
       "      <th></th>\n",
       "      <th>company</th>\n",
       "      <th>cpu_utilization</th>\n",
       "      <th>latency</th>\n",
       "      <th>packet_loss</th>\n",
       "      <th>throughput</th>\n",
       "    </tr>\n",
       "  </thead>\n",
       "  <tbody>\n",
       "    <tr>\n",
       "      <th>0</th>\n",
       "      <td>Schaefer__Jones_and_Sanchez</td>\n",
       "      <td>0</td>\n",
       "      <td>0</td>\n",
       "      <td>0</td>\n",
       "      <td>0</td>\n",
       "    </tr>\n",
       "    <tr>\n",
       "      <th>1</th>\n",
       "      <td>Odom-Sutton</td>\n",
       "      <td>0</td>\n",
       "      <td>0</td>\n",
       "      <td>0</td>\n",
       "      <td>0</td>\n",
       "    </tr>\n",
       "    <tr>\n",
       "      <th>2</th>\n",
       "      <td>Estrada-Grimes</td>\n",
       "      <td>0</td>\n",
       "      <td>0</td>\n",
       "      <td>0</td>\n",
       "      <td>0</td>\n",
       "    </tr>\n",
       "    <tr>\n",
       "      <th>3</th>\n",
       "      <td>Gardner-Smith</td>\n",
       "      <td>0</td>\n",
       "      <td>0</td>\n",
       "      <td>0</td>\n",
       "      <td>0</td>\n",
       "    </tr>\n",
       "    <tr>\n",
       "      <th>4</th>\n",
       "      <td>Smith_LLC</td>\n",
       "      <td>0</td>\n",
       "      <td>0</td>\n",
       "      <td>0</td>\n",
       "      <td>0</td>\n",
       "    </tr>\n",
       "  </tbody>\n",
       "</table>\n",
       "</div>"
      ],
      "text/plain": [
       "                       company  cpu_utilization  latency  packet_loss  \\\n",
       "0  Schaefer__Jones_and_Sanchez                0        0            0   \n",
       "1                  Odom-Sutton                0        0            0   \n",
       "2               Estrada-Grimes                0        0            0   \n",
       "3                Gardner-Smith                0        0            0   \n",
       "4                    Smith_LLC                0        0            0   \n",
       "\n",
       "   throughput  \n",
       "0           0  \n",
       "1           0  \n",
       "2           0  \n",
       "3           0  \n",
       "4           0  "
      ]
     },
     "execution_count": 6,
     "metadata": {},
     "output_type": "execute_result"
    }
   ],
   "source": [
    "# Create a metadata factory\n",
    "dep_gen = deployment_generator.deployment_generator()\n",
    "faker=dep_gen.get_faker()\n",
    "\n",
    "# Design the metadata\n",
    "dep_gen.add_level(name='company',number=100,level_type=faker.company)\n",
    "\n",
    "# Generate a deployment structure\n",
    "deployment_df = dep_gen.generate_deployment()\n",
    "\n",
    "# Initialize the metric values\n",
    "for metric in metric_names:\n",
    "    deployment_df[metric] = 0\n",
    "\n",
    "deployment_df.head()"
   ]
  },
  {
   "cell_type": "markdown",
   "metadata": {},
   "source": [
    "Specify metrics configuration for the generator."
   ]
  },
  {
   "cell_type": "code",
   "execution_count": 7,
   "metadata": {},
   "outputs": [],
   "source": [
    "metrics_configuration = yaml.safe_load(\"\"\"\n",
    "errors: {length_in_ticks: 50, rate_in_ticks: 150}\n",
    "timestamps: {interval: 5s, stochastic_interval: false}\n",
    "metrics:\n",
    "  cpu_utilization:\n",
    "    accuracy: 2\n",
    "    distribution: normal\n",
    "    distribution_params: {mu: 70, noise: 0, sigma: 10}\n",
    "    is_threshold_below: true\n",
    "    past_based_value: false\n",
    "    produce_max: false\n",
    "    produce_min: false\n",
    "    validation:\n",
    "      distribution: {max: 1, min: -1, validate: false}\n",
    "      metric: {max: 100, min: 0, validate: true}\n",
    "  latency:\n",
    "    accuracy: 2\n",
    "    distribution: normal\n",
    "    distribution_params: {mu: 0, noise: 0, sigma: 5}\n",
    "    is_threshold_below: true\n",
    "    past_based_value: false\n",
    "    produce_max: false\n",
    "    produce_min: false\n",
    "    validation:\n",
    "      distribution: {max: 1, min: -1, validate: false}\n",
    "      metric: {max: 100, min: 0, validate: true}\n",
    "  packet_loss:\n",
    "    accuracy: 0\n",
    "    distribution: normal\n",
    "    distribution_params: {mu: 0, noise: 0, sigma: 2}\n",
    "    is_threshold_below: true\n",
    "    past_based_value: false\n",
    "    produce_max: false\n",
    "    produce_min: false\n",
    "    validation:\n",
    "      distribution: {max: 1, min: -1, validate: false}\n",
    "      metric: {max: 50, min: 0, validate: true}\n",
    "  throughput:\n",
    "    accuracy: 2\n",
    "    distribution: normal\n",
    "    distribution_params: {mu: 250, noise: 0, sigma: 20}\n",
    "    is_threshold_below: false\n",
    "    past_based_value: false\n",
    "    produce_max: false\n",
    "    produce_min: false\n",
    "    validation:\n",
    "      distribution: {max: 1, min: -1, validate: false}\n",
    "      metric: {max: 300, min: 0, validate: true}\n",
    "\"\"\")"
   ]
  },
  {
   "cell_type": "markdown",
   "metadata": {},
   "source": [
    "Create the data according to the given hierarchy and metrics configuration."
   ]
  },
  {
   "cell_type": "code",
   "execution_count": 8,
   "metadata": {},
   "outputs": [],
   "source": [
    "met_gen = metrics_generator.Generator_df(metrics_configuration, \n",
    "                                         user_hierarchy=deployment_df, \n",
    "                                         initial_timestamp=time.time())\n",
    "\n",
    "metrics = met_gen.generate_range(start_time=datetime.datetime.now(),\n",
    "                                 end_time=datetime.datetime.now()+datetime.timedelta(hours=62),\n",
    "                                 as_df=True,\n",
    "                                 as_iterator=False)\n",
    "\n",
    "# Verify that the source-file parent directory exists.\n",
    "os.makedirs(os.path.dirname(source_file), exist_ok=1)\n",
    "\n",
    "# Generate file from metrics\n",
    "with open(source_file, 'w') as f:\n",
    "    metrics_batch = metrics\n",
    "    metrics_batch.to_json(f,\n",
    "                          orient='records',\n",
    "                          lines=True)"
   ]
  },
  {
   "cell_type": "markdown",
   "metadata": {},
   "source": [
    "### Validate the Target File Size\n",
    "\n",
    "Set the target size for the test file, in MB."
   ]
  },
  {
   "cell_type": "code",
   "execution_count": 9,
   "metadata": {},
   "outputs": [
    {
     "name": "stdout",
     "output_type": "stream",
     "text": [
      "-rw-r--r-- 1 root nogroup 1.2G Jan  9 12:05 ops.logs\n"
     ]
    }
   ],
   "source": [
    "!ls -lah ${SOURCE_DIR} | grep ${SOURCE_FILE}"
   ]
  },
  {
   "cell_type": "code",
   "execution_count": 10,
   "metadata": {},
   "outputs": [
    {
     "name": "stdout",
     "output_type": "stream",
     "text": [
      "{\"company\":\"Schaefer__Jones_and_Sanchez\",\"cpu_utilization\":60.7249169402,\"cpu_utilization_is_error\":false,\"latency\":0.0,\"latency_is_error\":false,\"packet_loss\":1.8576310021,\"packet_loss_is_error\":false,\"throughput\":266.1555833373,\"throughput_is_error\":false,\"timestamp\":1578571120848}\n",
      "{\"company\":\"Odom-Sutton\",\"cpu_utilization\":76.4322140086,\"cpu_utilization_is_error\":false,\"latency\":7.8381013211,\"latency_is_error\":false,\"packet_loss\":0.0,\"packet_loss_is_error\":false,\"throughput\":250.0232627126,\"throughput_is_error\":false,\"timestamp\":1578571120848}\n",
      "{\"company\":\"Estrada-Grimes\",\"cpu_utilization\":79.5602560259,\"cpu_utilization_is_error\":false,\"latency\":3.8517916739,\"latency_is_error\":false,\"packet_loss\":0.2517241329,\"packet_loss_is_error\":false,\"throughput\":267.5772519228,\"throughput_is_error\":false,\"timestamp\":1578571120848}\n",
      "{\"company\":\"Gardner-Smith\",\"cpu_utilization\":72.8406272809,\"cpu_utilization_is_error\":false,\"latency\":0.0,\"latency_is_error\":false,\"packet_loss\":2.1089029723,\"packet_loss_is_error\":false,\"throughput\":211.3463458109,\"throughput_is_error\":false,\"timestamp\":1578571120848}\n",
      "{\"company\":\"Smith_LLC\",\"cpu_utilization\":85.5744891531,\"cpu_utilization_is_error\":false,\"latency\":4.5970114772,\"latency_is_error\":false,\"packet_loss\":0.0,\"packet_loss_is_error\":false,\"throughput\":268.1042996066,\"throughput_is_error\":false,\"timestamp\":1578571120848}\n",
      "{\"company\":\"Howard_and_Sons\",\"cpu_utilization\":64.1149382337,\"cpu_utilization_is_error\":false,\"latency\":9.1568349918,\"latency_is_error\":false,\"packet_loss\":4.7365985431,\"packet_loss_is_error\":false,\"throughput\":250.2406810474,\"throughput_is_error\":false,\"timestamp\":1578571120848}\n",
      "{\"company\":\"Elliott_Group\",\"cpu_utilization\":73.4833873479,\"cpu_utilization_is_error\":false,\"latency\":0.0,\"latency_is_error\":false,\"packet_loss\":0.0,\"packet_loss_is_error\":false,\"throughput\":261.3493534464,\"throughput_is_error\":false,\"timestamp\":1578571120848}\n",
      "{\"company\":\"Bauer-James\",\"cpu_utilization\":61.4003401021,\"cpu_utilization_is_error\":false,\"latency\":4.7796943482,\"latency_is_error\":false,\"packet_loss\":0.0,\"packet_loss_is_error\":false,\"throughput\":240.4203662699,\"throughput_is_error\":false,\"timestamp\":1578571120848}\n",
      "{\"company\":\"Simpson__Bell_and_Paul\",\"cpu_utilization\":70.8616777102,\"cpu_utilization_is_error\":false,\"latency\":0.0,\"latency_is_error\":false,\"packet_loss\":1.2919076238,\"packet_loss_is_error\":false,\"throughput\":219.188093835,\"throughput_is_error\":false,\"timestamp\":1578571120848}\n",
      "{\"company\":\"Thompson-Olsen\",\"cpu_utilization\":65.8762961093,\"cpu_utilization_is_error\":false,\"latency\":6.5207690585,\"latency_is_error\":false,\"packet_loss\":2.3890867667,\"packet_loss_is_error\":false,\"throughput\":268.6674519478,\"throughput_is_error\":false,\"timestamp\":1578571120848}\n"
     ]
    }
   ],
   "source": [
    "!head ${SOURCE_PATH}"
   ]
  },
  {
   "cell_type": "markdown",
   "metadata": {},
   "source": [
    "## Benchmark\n",
    "\n",
    "The benchmark tests use the following flow:\n",
    "\n",
    "- Read file\n",
    "- Compute aggregations\n",
    "- Get the n-largest values"
   ]
  },
  {
   "cell_type": "code",
   "execution_count": 11,
   "metadata": {},
   "outputs": [],
   "source": [
    "benchmark_file = source_file"
   ]
  },
  {
   "cell_type": "markdown",
   "metadata": {},
   "source": [
    "In the following examples, `timeit` is executed in a loop.<br>\n",
    "You can change the number of runs and loops:\n",
    "```\n",
    "%%timeit -n 1 -r 1\n",
    "```"
   ]
  },
  {
   "cell_type": "markdown",
   "metadata": {},
   "source": [
    "### cuDF Benchmark"
   ]
  },
  {
   "cell_type": "code",
   "execution_count": 12,
   "metadata": {},
   "outputs": [
    {
     "name": "stdout",
     "output_type": "stream",
     "text": [
      "4.97 s ± 47.1 ms per loop (mean ± std. dev. of 7 runs, 1 loop each)\n"
     ]
    }
   ],
   "source": [
    "%%timeit\n",
    "\n",
    "# Read file\n",
    "gdf = cudf.read_json(benchmark_file, lines=True)\n",
    "\n",
    "# Perform aggregation\n",
    "ggdf = gdf.groupby(['company']).\\\n",
    "            agg({k: ['min', 'max', 'mean'] for k in metric_names})\n",
    "\n",
    "# Get the n-largest values (from the original DataFrame)\n",
    "raw_nlargest = gdf.nlargest(nlargest, 'cpu_utilization')"
   ]
  },
  {
   "cell_type": "markdown",
   "metadata": {},
   "source": [
    "### pandas Benchmark"
   ]
  },
  {
   "cell_type": "code",
   "execution_count": 13,
   "metadata": {},
   "outputs": [
    {
     "name": "stdout",
     "output_type": "stream",
     "text": [
      "47.9 s ± 2.52 s per loop (mean ± std. dev. of 7 runs, 1 loop each)\n"
     ]
    }
   ],
   "source": [
    "%%timeit\n",
    "\n",
    "# Read file\n",
    "pdf = pd.read_json(benchmark_file, lines=True)\n",
    "\n",
    "# Perform aggregation\n",
    "gpdf = pdf.groupby(['company']).\\\n",
    "            agg({k: ['min', 'max', 'mean'] for k in metric_names})\n",
    "\n",
    "# Get the n-largest values (from the original DataFrame)\n",
    "raw_nlargest = pdf.nlargest(nlargest, 'cpu_utilization')"
   ]
  },
  {
   "cell_type": "markdown",
   "metadata": {},
   "source": [
    "## Test Load Times"
   ]
  },
  {
   "cell_type": "markdown",
   "metadata": {},
   "source": [
    "#### cuDF"
   ]
  },
  {
   "cell_type": "code",
   "execution_count": 15,
   "metadata": {},
   "outputs": [
    {
     "name": "stdout",
     "output_type": "stream",
     "text": [
      "5.95 s ± 77.3 ms per loop (mean ± std. dev. of 7 runs, 1 loop each)\n"
     ]
    }
   ],
   "source": [
    "%%timeit -r 2\n",
    "gdf = cudf.read_json(benchmark_file, lines=True)"
   ]
  },
  {
   "cell_type": "markdown",
   "metadata": {},
   "source": [
    "#### pandas"
   ]
  },
  {
   "cell_type": "code",
   "execution_count": 16,
   "metadata": {},
   "outputs": [
    {
     "name": "stdout",
     "output_type": "stream",
     "text": [
      "41.1 s ± 651 ms per loop (mean ± std. dev. of 7 runs, 1 loop each)\n"
     ]
    }
   ],
   "source": [
    "%%timeit\n",
    "gdf = pd.read_json(benchmark_file, lines=True)"
   ]
  },
  {
   "cell_type": "markdown",
   "metadata": {},
   "source": [
    "## Test Aggregation\n",
    "\n",
    "Load the files to memory to allow applying `timeit` only to the aggregations."
   ]
  },
  {
   "cell_type": "code",
   "execution_count": 17,
   "metadata": {},
   "outputs": [],
   "source": [
    "gdf = cudf.read_json(benchmark_file, lines=True)\n",
    "pdf = pd.read_json(benchmark_file, lines=True)"
   ]
  },
  {
   "cell_type": "markdown",
   "metadata": {},
   "source": [
    "#### cuDF"
   ]
  },
  {
   "cell_type": "code",
   "execution_count": 18,
   "metadata": {},
   "outputs": [
    {
     "name": "stdout",
     "output_type": "stream",
     "text": [
      "212 ms ± 14.9 ms per loop (mean ± std. dev. of 7 runs, 1 loop each)\n"
     ]
    }
   ],
   "source": [
    "%%timeit\n",
    "\n",
    "ggdf = gdf.groupby(['company']).\\\n",
    "            agg({k: ['min', 'max', 'mean'] for k in metric_names})\n",
    "raw_nlargest = gdf.nlargest(nlargest, 'cpu_utilization')"
   ]
  },
  {
   "cell_type": "markdown",
   "metadata": {},
   "source": [
    "#### pandas"
   ]
  },
  {
   "cell_type": "code",
   "execution_count": 19,
   "metadata": {},
   "outputs": [
    {
     "name": "stdout",
     "output_type": "stream",
     "text": [
      "2.17 s ± 72.8 ms per loop (mean ± std. dev. of 7 runs, 1 loop each)\n"
     ]
    }
   ],
   "source": [
    "%%timeit\n",
    "\n",
    "gpdf = pdf.groupby(['company']).\\\n",
    "            agg({k: ['min', 'max', 'mean'] for k in metric_names})\n",
    "raw_nlargest = pdf.nlargest(nlargest, 'cpu_utilization')"
   ]
  }
 ],
 "metadata": {
  "kernelspec": {
   "display_name": "Python 3",
   "language": "python",
   "name": "python3"
  },
  "language_info": {
   "codemirror_mode": {
    "name": "ipython",
    "version": 3
   },
   "file_extension": ".py",
   "mimetype": "text/x-python",
   "name": "python",
   "nbconvert_exporter": "python",
   "pygments_lexer": "ipython3",
   "version": "3.6.8"
  }
 },
 "nbformat": 4,
 "nbformat_minor": 4
}
