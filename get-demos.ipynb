{
 "cells": [
  {
   "cell_type": "code",
   "execution_count": 1,
   "metadata": {},
   "outputs": [],
   "source": [
    "!chmod +x /User/get-demos.sh"
   ]
  },
  {
   "cell_type": "code",
   "execution_count": 2,
   "metadata": {
    "collapsed": true,
    "jupyter": {
     "outputs_hidden": true
    }
   },
   "outputs": [
    {
     "name": "stdout",
     "output_type": "stream",
     "text": [
      "Cloning into '/v3io/users/iguazio/demos/temp-demos'...\n",
      "remote: Enumerating objects: 14, done.\u001b[K\n",
      "remote: Counting objects: 100% (14/14), done.\u001b[K\n",
      "remote: Compressing objects: 100% (14/14), done.\u001b[K\n",
      "remote: Total 733 (delta 3), reused 2 (delta 0), pack-reused 719\u001b[K\n",
      "Receiving objects: 100% (733/733), 67.94 MiB | 1.78 MiB/s, done.\n",
      "Resolving deltas: 100% (411/411), done.\n",
      "Copying files to /v3io/users/iguazio/demos...\n",
      "Deleting temporary /v3io/users/iguazio/demos directory ...\n",
      "DONE\n"
     ]
    }
   ],
   "source": [
    "!/User/get-demos.sh"
   ]
  }
 ],
 "metadata": {
  "kernelspec": {
   "display_name": "Python 3",
   "language": "python",
   "name": "python3"
  },
  "language_info": {
   "codemirror_mode": {
    "name": "ipython",
    "version": 3
   },
   "file_extension": ".py",
   "mimetype": "text/x-python",
   "name": "python",
   "nbconvert_exporter": "python",
   "pygments_lexer": "ipython3",
   "version": "3.6.8"
  }
 },
 "nbformat": 4,
 "nbformat_minor": 4
}
