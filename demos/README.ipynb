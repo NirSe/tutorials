{
 "cells": [
  {
   "cell_type": "markdown",
   "metadata": {},
   "source": [
    "# End-to-End Platform Use-Case Application Demos"
   ]
  },
  {
   "cell_type": "markdown",
   "metadata": {},
   "source": [
    "**In This Document**\n",
    "\n",
    "- [Overview](#overview)\n",
    "- [Stock Trading](#stocks-demo)\n",
    "- [Predictive Infrastructure Monitoring](#netops-demo)\n",
    "- [Image Recognition](#image-classification-demo)\n",
    "- [Natural Language Processing (NLP)](#nlp-demo)"
   ]
  },
  {
   "cell_type": "markdown",
   "metadata": {},
   "source": [
    "<a id=\"overview\"></a>\n",
    "## Overview\n",
    "\n",
    "The **demos** tutorials directory contains full end-to-end use-case applications that demonstrate how to use the Iguazio Data Science Platform (\"the platform\") and related tools to address data science requirements for different industries and implementations."
   ]
  },
  {
   "cell_type": "markdown",
   "metadata": {},
   "source": [
    "<a id=\"stocks-demo\"></a>\n",
    "## Smart Stock Trading\n",
    "\n",
    "The [**stocks**](stocks/read_stocks.ipynb) demo demonstrates a smart stock-trading application: \n",
    "the application reads stock-exchange data from an internet service; uses Twitter to analyze the market sentiment on specific stocks, in real time; and saves the data to a platform NoSQL table that is used for generating reports and analyzing and visualization the data."
   ]
  },
  {
   "cell_type": "markdown",
   "metadata": {},
   "source": [
    "<a id=\"netops-demo\"></a>\n",
    "## Predictive Infrastructure Monitoring\n",
    "\n",
    "The [**netops**](netops/generator.ipynb) demo demonstrates predictive infrastructure monitoring: the application builds, trains, and deploys a machine-learning model for analyzing and predicting failure in network devices as part of a network operations (NetOps) flow."
   ]
  },
  {
   "cell_type": "markdown",
   "metadata": {},
   "source": [
    "<a id=\"image-classification-demo\"></a>\n",
    "## Image Recognition\n",
    "\n",
    "The [**image_classification**](image_classification/keras-cnn-dog-or-cat-classification.ipynb) demo demonstrates image recognition: the application uses [TensorFlow](https://www.tensorflow.org/) and [Keras](https://keras.io/) to identify (recognize) and classify images."
   ]
  },
  {
   "cell_type": "markdown",
   "metadata": {},
   "source": [
    "<a id=\"nlp-demo\"></a>\n",
    "## Natural Language Processing (NLP)\n",
    "\n",
    "The [**nlp**](nlp/nlp-example.ipynb) demo demonstrates natural language processing (NLP): the application processes natural-language text, applies corrections, calculates sentiments, and translates the text."
   ]
  }
 ],
 "metadata": {
  "kernelspec": {
   "display_name": "Python 3",
   "language": "python",
   "name": "python3"
  },
  "language_info": {
   "codemirror_mode": {
    "name": "ipython",
    "version": 3
   },
   "file_extension": ".py",
   "mimetype": "text/x-python",
   "name": "python",
   "nbconvert_exporter": "python",
   "pygments_lexer": "ipython3",
   "version": "3.6.8"
  }
 },
 "nbformat": 4,
 "nbformat_minor": 2
}
