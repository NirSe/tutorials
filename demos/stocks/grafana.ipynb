{
 "cells": [
  {
   "cell_type": "markdown",
   "metadata": {},
   "source": [
    "# Create Grafana data source and dashbord for the demo"
   ]
  },
  {
   "cell_type": "code",
   "execution_count": null,
   "metadata": {},
   "outputs": [],
   "source": [
    "!pip install git+https://github.com/v3io/grafwiz.git"
   ]
  },
  {
   "cell_type": "code",
   "execution_count": 1,
   "metadata": {},
   "outputs": [],
   "source": [
    "from grafwiz import *\n",
    "import os"
   ]
  },
  {
   "cell_type": "code",
   "execution_count": 2,
   "metadata": {},
   "outputs": [
    {
     "name": "stdout",
     "output_type": "stream",
     "text": [
      "Datasource iguazio created successfully\n"
     ]
    }
   ],
   "source": [
    "# Grafana internal cluster address (will be http://grafana)\n",
    "grafana_url = 'http://10.97.225.197'\n",
    "# stream viewer function EXTERNAL url\n",
    "streamview_url = 'https://stream-view.iguazio.app.vjszzjiaingr.iguazio-cd0.com/'"
   ]
  },
  {
   "cell_type": "code",
   "execution_count": null,
   "metadata": {},
   "outputs": [],
   "source": [
    "# deploy iguazio datasource with default paramaters/credentials \n",
    "# need to do only once\n",
    "ds=DataSource().deploy(grafana_url)"
   ]
  },
  {
   "cell_type": "code",
   "execution_count": 3,
   "metadata": {},
   "outputs": [
    {
     "name": "stdout",
     "output_type": "stream",
     "text": [
      "Dashboard stocks created successfully\n"
     ]
    }
   ],
   "source": [
    "# create a new dashboard\n",
    "dash = Dashboard(\"stocks\", start='now-1d', dataSource='iguazio')\n",
    "\n",
    "# add a symbol combo box (template) with data from symbol table\n",
    "dash.template(name=\"SYMBOL\", label=\"Symbol\", query=\"fields=symbol;table=stocks;backend=kv;container=bigdata\")\n",
    "\n",
    "# create table and log viewer in one row\n",
    "tbl = Table('tbl1',span=8).source(table='stocks',fields=['symbol','name','currency','price','last_trade','timezone','exchange'],container='bigdata')\n",
    "log = Ajax(title='Log',url=streamview_url)\n",
    "dash.row([tbl,log])\n",
    "\n",
    "# create 3 charts on the 2nd row\n",
    "dash.row([Graph(metric).series(table=\"stock_metrics\", fields=[metric], filter='symbol==\"$SYMBOL\"',container='bigdata') for metric in ['price','volume','sentiment']])\n",
    "\n",
    "# deploy to grafana\n",
    "dash.deploy(grafana_url)"
   ]
  },
  {
   "cell_type": "code",
   "execution_count": null,
   "metadata": {},
   "outputs": [],
   "source": []
  }
 ],
 "metadata": {
  "kernelspec": {
   "display_name": "Python 3",
   "language": "python",
   "name": "python3"
  },
  "language_info": {
   "codemirror_mode": {
    "name": "ipython",
    "version": 3
   },
   "file_extension": ".py",
   "mimetype": "text/x-python",
   "name": "python",
   "nbconvert_exporter": "python",
   "pygments_lexer": "ipython3",
   "version": "3.6.8"
  }
 },
 "nbformat": 4,
 "nbformat_minor": 2
}
