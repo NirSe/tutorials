{
 "cells": [
  {
   "cell_type": "markdown",
   "metadata": {},
   "source": [
    "# Ingest Twitter Feed Data and Sentiments into iguazio Stream & Time-Series DB "
   ]
  },
  {
   "cell_type": "markdown",
   "metadata": {},
   "source": [
    "## Initialization \n",
    "Install packages and set environment variables.<br>\n",
    "Need to fill the following environment variables with real credentials.<br>\n",
    "### Create a file called `tweet_env.txt` in the same path and write the credentials vars in the following form:\n",
    "\n",
    "```\n",
    "    # Twitter credentials\n",
    "    app_key = <..>\n",
    "    app_secret = <..>\n",
    "    oauth_token = <..>\n",
    "    oauth_token_secret = <..>\n",
    "\n",
    "```"
   ]
  },
  {
   "cell_type": "markdown",
   "metadata": {},
   "source": [
    "## Initialize nuclio emulation, environment variables and configuration\n",
    "use `# nuclio: ignore` for sections that don't need to be copied to the function"
   ]
  },
  {
   "cell_type": "code",
   "execution_count": 2,
   "metadata": {},
   "outputs": [],
   "source": [
    "# nuclio: ignore\n",
    "# if the nuclio-jupyter package is not installed run !pip install nuclio-jupyter\n",
    "import nuclio "
   ]
  },
  {
   "cell_type": "code",
   "execution_count": 3,
   "metadata": {},
   "outputs": [],
   "source": [
    "%nuclio env -c V3IO_ACCESS_KEY=${V3IO_ACCESS_KEY}\n",
    "%nuclio env -c V3IO_USERNAME=${V3IO_USERNAME}\n",
    "%nuclio env -c V3IO_API=${V3IO_API}"
   ]
  },
  {
   "cell_type": "code",
   "execution_count": null,
   "metadata": {},
   "outputs": [],
   "source": [
    "%nuclio env_file tweet_env.txt"
   ]
  },
  {
   "cell_type": "markdown",
   "metadata": {},
   "source": [
    "### Install required packages\n",
    "`%nuclio cmd` allows you to run image build instructions and install packages<br>\n",
    "Note: when using the `-c` option commands will only run in nuclio, not locally"
   ]
  },
  {
   "cell_type": "code",
   "execution_count": 6,
   "metadata": {},
   "outputs": [
    {
     "name": "stdout",
     "output_type": "stream",
     "text": [
      "Requirement already satisfied: textblob==0.15.3 in /User/.pythonlibs/jupyter/lib/python3.6/site-packages (0.15.3)\n",
      "Requirement already satisfied: nltk>=3.1 in /User/.pythonlibs/jupyter/lib/python3.6/site-packages (from textblob==0.15.3) (3.4.5)\n",
      "Requirement already satisfied: six in /conda/lib/python3.6/site-packages (from nltk>=3.1->textblob==0.15.3) (1.14.0)\n",
      "Collecting twython==3.7.0\n",
      "  Downloading https://files.pythonhosted.org/packages/8c/2b/c0883f05b03a8e87787d56395d6c89515fe7e0bf80abd3778b6bb3a6873f/twython-3.7.0.tar.gz\n",
      "Requirement already satisfied: requests>=2.1.0 in /User/.pythonlibs/jupyter/lib/python3.6/site-packages (from twython==3.7.0) (2.21.0)\n",
      "Requirement already satisfied: requests_oauthlib>=0.4.0 in /User/.pythonlibs/jupyter/lib/python3.6/site-packages (from twython==3.7.0) (1.3.0)\n",
      "Requirement already satisfied: chardet<3.1.0,>=3.0.2 in /conda/lib/python3.6/site-packages (from requests>=2.1.0->twython==3.7.0) (3.0.4)\n",
      "Requirement already satisfied: idna<2.9,>=2.5 in /conda/lib/python3.6/site-packages (from requests>=2.1.0->twython==3.7.0) (2.8)\n",
      "Requirement already satisfied: urllib3<1.25,>=1.21.1 in /User/.pythonlibs/jupyter/lib/python3.6/site-packages (from requests>=2.1.0->twython==3.7.0) (1.24.3)\n",
      "Requirement already satisfied: certifi>=2017.4.17 in /conda/lib/python3.6/site-packages (from requests>=2.1.0->twython==3.7.0) (2019.11.28)\n",
      "Requirement already satisfied: oauthlib>=3.0.0 in /User/.pythonlibs/jupyter/lib/python3.6/site-packages (from requests_oauthlib>=0.4.0->twython==3.7.0) (3.1.0)\n",
      "Building wheels for collected packages: twython\n",
      "  Running setup.py bdist_wheel for twython ... \u001b[?25ldone\n",
      "\u001b[?25h  Stored in directory: /igz/.cache/pip/wheels/c2/b0/a3/5c4b4b87b8c9e4d99f1494a0b471f0134a74e5fb33d426d009\n",
      "Successfully built twython\n",
      "Installing collected packages: twython\n",
      "Successfully installed twython-3.7.0\n",
      "Collecting v3io_frames==0.6.14\n",
      "  Downloading https://files.pythonhosted.org/packages/60/87/9961e0bcd4aa2e3ec2188fca7c20428b15e8a19eb2aae1a40306bd1e5003/v3io_frames-0.6.14-py3-none-any.whl\n",
      "Requirement already satisfied: googleapis-common-protos>=1.5.3 in /conda/lib/python3.6/site-packages (from v3io_frames==0.6.14) (1.51.0)\n",
      "Requirement already satisfied: pandas>=0.23.4 in /conda/lib/python3.6/site-packages (from v3io_frames==0.6.14) (0.25.1)\n",
      "Requirement already satisfied: requests>=2.19.1 in /User/.pythonlibs/jupyter/lib/python3.6/site-packages (from v3io_frames==0.6.14) (2.21.0)\n",
      "Requirement already satisfied: grpcio-tools>=1.26.0 in /conda/lib/python3.6/site-packages (from v3io_frames==0.6.14) (1.27.2)\n",
      "Requirement already satisfied: protobuf>=3.6.0 in /conda/lib/python3.6/site-packages (from googleapis-common-protos>=1.5.3->v3io_frames==0.6.14) (3.11.3)\n",
      "Requirement already satisfied: numpy>=1.13.3 in /conda/lib/python3.6/site-packages (from pandas>=0.23.4->v3io_frames==0.6.14) (1.18.1)\n",
      "Requirement already satisfied: pytz>=2017.2 in /conda/lib/python3.6/site-packages (from pandas>=0.23.4->v3io_frames==0.6.14) (2019.3)\n",
      "Requirement already satisfied: python-dateutil>=2.6.1 in /conda/lib/python3.6/site-packages (from pandas>=0.23.4->v3io_frames==0.6.14) (2.8.1)\n",
      "Requirement already satisfied: chardet<3.1.0,>=3.0.2 in /conda/lib/python3.6/site-packages (from requests>=2.19.1->v3io_frames==0.6.14) (3.0.4)\n",
      "Requirement already satisfied: idna<2.9,>=2.5 in /conda/lib/python3.6/site-packages (from requests>=2.19.1->v3io_frames==0.6.14) (2.8)\n",
      "Requirement already satisfied: certifi>=2017.4.17 in /conda/lib/python3.6/site-packages (from requests>=2.19.1->v3io_frames==0.6.14) (2019.11.28)\n",
      "Requirement already satisfied: urllib3<1.25,>=1.21.1 in /User/.pythonlibs/jupyter/lib/python3.6/site-packages (from requests>=2.19.1->v3io_frames==0.6.14) (1.24.3)\n",
      "Requirement already satisfied: grpcio>=1.27.2 in /conda/lib/python3.6/site-packages (from grpcio-tools>=1.26.0->v3io_frames==0.6.14) (1.27.2)\n",
      "Requirement already satisfied: six>=1.9 in /conda/lib/python3.6/site-packages (from protobuf>=3.6.0->googleapis-common-protos>=1.5.3->v3io_frames==0.6.14) (1.14.0)\n",
      "Requirement already satisfied: setuptools in /conda/lib/python3.6/site-packages (from protobuf>=3.6.0->googleapis-common-protos>=1.5.3->v3io_frames==0.6.14) (45.2.0.post20200210)\n",
      "Installing collected packages: v3io-frames\n",
      "  Found existing installation: v3io-frames 0.6.11\n",
      "    Uninstalling v3io-frames-0.6.11:\n",
      "      Successfully uninstalled v3io-frames-0.6.11\n",
      "Successfully installed v3io-frames-0.6.14\n"
     ]
    }
   ],
   "source": [
    "%%nuclio cmd\n",
    "pip install textblob==0.15.3\n",
    "pip install twython==3.7.0\n",
    "pip install v3io_frames==0.6.14"
   ]
  },
  {
   "cell_type": "code",
   "execution_count": 7,
   "metadata": {},
   "outputs": [
    {
     "name": "stdout",
     "output_type": "stream",
     "text": [
      "%nuclio: setting spec.build.baseImage to 'python:3.6-jessie'\n"
     ]
    }
   ],
   "source": [
    "%nuclio config spec.build.baseImage = \"python:3.6-jessie\""
   ]
  },
  {
   "cell_type": "markdown",
   "metadata": {},
   "source": [
    "### Twitter stream handling class"
   ]
  },
  {
   "cell_type": "code",
   "execution_count": 8,
   "metadata": {},
   "outputs": [],
   "source": [
    "from twython import TwythonStreamer\n",
    "import json\n",
    "import re\n",
    "import os\n",
    "from textblob import TextBlob\n",
    "import v3io_frames as v3f\n",
    "import pandas as pd\n",
    "\n",
    "oauth = {\n",
    "    'app_key' : os.getenv('app_key'),\n",
    "    'app_secret' : os.getenv('app_secret'),  \n",
    "    'oauth_token' : os.getenv('oauth_token'), \n",
    "    'oauth_token_secret' : os.getenv('oauth_token_secret'),\n",
    "}\n",
    "lastText = ''\n",
    "\n",
    "# initialize iguazio v3io APIs\n",
    "client = v3f.Client('framesd:8081')\n",
    "\n",
    "# Twitter stream handler  \n",
    "class MyStreamer(TwythonStreamer):\n",
    "    def __init__(self, context, name, **kw):\n",
    "        self.name = name\n",
    "        self.context = context\n",
    "        TwythonStreamer.__init__(self, **kw)\n",
    "        \n",
    "    def start(self, cb, limit=10, **kw):\n",
    "        self.cb = cb\n",
    "        self.limit = limit\n",
    "        self.statuses.filter(**kw)\n",
    "        \n",
    "    def on_success(self, data):\n",
    "        if 'text' in data:\n",
    "            record = {'text': data['text'], \n",
    "                      'user': '@'+data['user']['screen_name'],\n",
    "                      'id': data['id'],\n",
    "                      'created_at':data['created_at'],\n",
    "                     }\n",
    "            self.context.last_message = record\n",
    "            if self.cb:\n",
    "                self.cb(self.context, self.name, record)\n",
    "                \n",
    "        self.limit -= 1 \n",
    "        if self.limit <= 0 :\n",
    "            self.disconnect()\n",
    "\n",
    "    def on_error(self, status_code, data):\n",
    "        self.context.logger.error_with('Error in stream', status_code=status_code)\n",
    "\n",
    "def process_event(context, name, record):\n",
    "    clean = ' '.join(re.sub(\"(@[A-Za-z0-9]+)|([^0-9A-Za-z \\t])|(\\w+:\\/\\/\\S+)\", \" \", record['text']).split())\n",
    "        \n",
    "    # enrich the record with natural language metadata\n",
    "    blob = TextBlob(clean)\n",
    "    record['polarity'] = blob.sentiment.polarity\n",
    "    record['subjectivity'] = blob.sentiment.subjectivity\n",
    "\n",
    "    # Write the record into a iguazio straem\n",
    "    context.logger.info_with('writing data to Stream', record=record)\n",
    "    client.execute('stream', 'stock_stream', 'put', args={'data': json.dumps(record)})\n",
    "        \n",
    "    # Write data to iguazio Time-Series DB\n",
    "    df = pd.DataFrame(index=[[pd.to_datetime(record['created_at'])],['GOOG']], columns=['sentiment'])\n",
    "    df['sentiment'] = [float(blob.sentiment.polarity)]\n",
    "    df.index.names=['time','symbol']\n",
    "    client.write(backend='tsdb', table='stock_metrics',dfs=df)"
   ]
  },
  {
   "cell_type": "markdown",
   "metadata": {},
   "source": [
    "## Nuclio service initialization (init_context) and event handler implementation\n",
    "the twitter function acts as an always on (listening) service function, we initialize the listener thread in nuclio `init_context` hook"
   ]
  },
  {
   "cell_type": "code",
   "execution_count": 9,
   "metadata": {},
   "outputs": [],
   "source": [
    "import threading\n",
    "\n",
    "def start_listener(context):\n",
    "    stream = MyStreamer(context, 'GOOG', **oauth)\n",
    "    stream.start(process_event, 200, track='@Google', lang='en')\n",
    "\n",
    "def handler(context, event):\n",
    "    return json.dumps(context.last_message)\n",
    "\n",
    "def init_context(context):\n",
    "    context.last_message = {}\n",
    "    t = threading.Thread(target=start_listener, args=(context,))\n",
    "    t.start()"
   ]
  },
  {
   "cell_type": "markdown",
   "metadata": {},
   "source": [
    "## Function testing\n",
    "the following section simulates nuclio function invocation and will emit the function results"
   ]
  },
  {
   "cell_type": "code",
   "execution_count": 10,
   "metadata": {},
   "outputs": [],
   "source": [
    "# nuclio: ignore\n",
    "init_context(context)\n",
    "event = nuclio.Event(body='')"
   ]
  },
  {
   "cell_type": "markdown",
   "metadata": {},
   "source": [
    "## Deploy a function onto a cluster\n",
    "the `%nuclio deploy` command deploy functions into a cluster<br>check the help (`%nuclio help deploy`) for more information"
   ]
  },
  {
   "cell_type": "code",
   "execution_count": 9,
   "metadata": {},
   "outputs": [
    {
     "name": "stdout",
     "output_type": "stream",
     "text": [
      "%nuclio: ['deploy', '-p', 'stocks', '-c', '/User/demos/stocks/read-tweets.ipynb']\n",
      "%nuclio: [nuclio.deploy] 2019-03-20 16:28:06,028 (info) Building processor image\n",
      "%nuclio: [nuclio.deploy] 2019-03-20 16:28:08,047 (info) Pushing image\n",
      "%nuclio: [nuclio.deploy] 2019-03-20 16:28:08,048 (info) Build complete\n",
      "%nuclio: [nuclio.deploy] 2019-03-20 16:28:11,077 done updating read-tweet, function address: 18.194.137.243:32080\n",
      "%nuclio: function deployed\n"
     ]
    }
   ],
   "source": [
    "%nuclio deploy -p stocks -n read-tweets"
   ]
  }
 ],
 "metadata": {
  "kernelspec": {
   "display_name": "Python 3",
   "language": "python",
   "name": "python3"
  },
  "language_info": {
   "codemirror_mode": {
    "name": "ipython",
    "version": 3
   },
   "file_extension": ".py",
   "mimetype": "text/x-python",
   "name": "python",
   "nbconvert_exporter": "python",
   "pygments_lexer": "ipython3",
   "version": "3.6.8"
  },
  "toc-autonumbering": false
 },
 "nbformat": 4,
 "nbformat_minor": 4
}
