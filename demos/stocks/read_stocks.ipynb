{
 "cells": [
  {
   "cell_type": "markdown",
   "metadata": {},
   "source": [
    "# Ingest Real-Time Stock Data to iguazio NoSQL and TSDB\n",
    "the following example function ingest real-time stock information from an internet service (World Trading Data) into iguazio platform.<br>\n",
    "everytime the data is updated it updates a NoSQL table with the recent metadata and updates the TSDB with the new metrics (price and volume)\n",
    "\n",
    "The same code can run inside a nuclio (serverless) function and be automatically triggered on a predefined schedule (cron) or through HTTP requests\n",
    "\n",
    "## Initialization (not requiered in nuclio)\n",
    "need to fill the following environment variables with real credentials.<br>\n",
    "```\n",
    "    API_TOKEN = <WorldTradingData API Token>\n",
    "    V3IO_PASSWORD = <V3IO-Password>\n",
    "    V3IO_USER = <V3IO-Username>\n",
    "    V3IO_ADDRESS = <address of V3IO API end point>\n",
    "```\n",
    "obtain your free API token from [World Trading Data](https://www.worldtradingdata.com) <br>\n",
    "> note: in nuclio environment variables and build dependencies are specified in the configuration tab, for notebooks they can be initialized from a file as implemented below.\n",
    "\n",
    "### initialize nuclio emulation (this section will be ignored by nuclio nbconvert)"
   ]
  },
  {
   "cell_type": "code",
   "execution_count": 8,
   "metadata": {},
   "outputs": [],
   "source": [
    "# nuclio: ignore\n",
    "from nuclio import Context, Event\n",
    "from v3io import env_fromfile\n",
    "env_fromfile('stock_env.txt')\n",
    "context = Context()"
   ]
  },
  {
   "cell_type": "markdown",
   "metadata": {},
   "source": [
    "## Nuclio function implementation\n",
    "this function can run in Jupyter or in nuclio (real-time serverless)"
   ]
  },
  {
   "cell_type": "code",
   "execution_count": 9,
   "metadata": {},
   "outputs": [],
   "source": [
    "import json\n",
    "import v3io\n",
    "import requests\n",
    "import os\n",
    "import pandas as pd\n",
    "import datetime\n",
    "import v3io_frames as v3f\n",
    "\n",
    "stocks = os.getenv('STOCK_LIST','GOOG,MSFT,AMZN,IBM,ORCL')\n",
    "token = os.getenv('API_TOKEN') \n",
    "url = 'https://www.worldtradingdata.com/api/v1/stock?symbol={0}&api_token={1}'.format(stocks,token)\n",
    "v3 = v3io.v3io(os.getenv('V3IO_ADDRESS'),os.getenv('V3IO_USER'),os.getenv('V3IO_PASSWORD'), 'bigdata')\n",
    "client = v3f.Client('v3io-framesd:8081', password=os.getenv('V3IO_PASSWORD'))\n",
    "\n",
    "# v3io update expression template \n",
    "expr_template = \"symbol='{symbol}';name='{name}';currency='{currency}';exchange='{stock_exchange_short}';\" + \\\n",
    "    \"timezone='{timezone}';price={price};volume={volume};last_trade='{last_trade_time}'\"\n",
    "\n",
    "last_trade_times = {}\n",
    "\n",
    "# nuclio habdler fuction \n",
    "def handler(context, event):\n",
    "    \n",
    "    # reading latest stock information \n",
    "    r = requests.get(url)\n",
    "    stocks=[]; dates=[]; volumes=[]; prices=[]; exchanges=[]\n",
    "    \n",
    "    context.logger.debug('read symbols')\n",
    "    for stock in r.json()['data']:\n",
    "        \n",
    "        symbol = stock['symbol']\n",
    "        last = last_trade_times.get(symbol)\n",
    "        date = datetime.datetime.strptime(stock['last_trade_time'], '%Y-%m-%d %H:%M:%S')\n",
    "        \n",
    "        # update the stocks table and TSDB metrics in case of new data \n",
    "        if not last or date > last:\n",
    "            # update NoSQL table with stock data\n",
    "            expr = expr_template.format(**stock)\n",
    "            context.logger.debug_with('update expression', symbol=symbol, expr=expr)\n",
    "            client.\n",
    "            v3.updateitem('stocks',symbol, expr, '')\n",
    "        \n",
    "            # update time-series DB with price and volume metrics (use pandas dataframe with a single row, indexed by date)\n",
    "            last_trade_times[symbol] = date \n",
    "            stocks += [symbol]\n",
    "            exchanges += [stock['stock_exchange_short']]\n",
    "            dates +=[date]\n",
    "            volumes += [float(stock['volume'])]\n",
    "            prices += [float(stock['price'])]\n",
    "               \n",
    "    # write price and volume metrics to the Time-Series DB, add exchange label\n",
    "    if len(stocks)>0:\n",
    "        df = pd.DataFrame({'volume':volumes,'price': prices}, index=[dates,stocks,exchanges], columns=['volume','price'])\n",
    "        df.index.names=['time','symbol','exchange']\n",
    "        context.logger.debug_with('writing data to TSDB', stocks=stocks)\n",
    "        client.write(backend='tsdb', table='stock_metrics',dfs=df)\n",
    "        \n",
    "    return r.json()"
   ]
  },
  {
   "cell_type": "markdown",
   "metadata": {},
   "source": [
    "## Function invocation\n",
    "the following section simulates nuclio function invocation"
   ]
  },
  {
   "cell_type": "code",
   "execution_count": 10,
   "metadata": {},
   "outputs": [
    {
     "name": "stdout",
     "output_type": "stream",
     "text": [
      "2018-12-17 20:32:19,067 nuclio (D) read symbols\n",
      "2018-12-17 20:32:19,067 nuclio (D) read symbols\n",
      "2018-12-17 20:32:19,069 nuclio (D) update expression {\"symbol\": \"AAPL\", \"expr\": \"symbol='AAPL';name='Apple Inc.';currency='USD';exchange='NASDAQ';timezone='EST';price=163.65;volume=29479607;last_trade='2018-12-17 15:28:23'\"}\n",
      "2018-12-17 20:32:19,069 nuclio (D) update expression {\"symbol\": \"AAPL\", \"expr\": \"symbol='AAPL';name='Apple Inc.';currency='USD';exchange='NASDAQ';timezone='EST';price=163.65;volume=29479607;last_trade='2018-12-17 15:28:23'\"}\n",
      "2018-12-17 20:32:19,074 nuclio (D) update expression {\"symbol\": \"AMZN\", \"expr\": \"symbol='AMZN';name='Amazon.com, Inc.';currency='USD';exchange='NASDAQ';timezone='EST';price=1512.75;volume=6554826;last_trade='2018-12-17 15:26:18'\"}\n",
      "2018-12-17 20:32:19,074 nuclio (D) update expression {\"symbol\": \"AMZN\", \"expr\": \"symbol='AMZN';name='Amazon.com, Inc.';currency='USD';exchange='NASDAQ';timezone='EST';price=1512.75;volume=6554826;last_trade='2018-12-17 15:26:18'\"}\n",
      "2018-12-17 20:32:19,080 nuclio (D) update expression {\"symbol\": \"FB\", \"expr\": \"symbol='FB';name='Facebook, Inc. Common Stock';currency='USD';exchange='NASDAQ';timezone='EST';price=138.53;volume=13745386;last_trade='2018-12-17 15:28:17'\"}\n",
      "2018-12-17 20:32:19,080 nuclio (D) update expression {\"symbol\": \"FB\", \"expr\": \"symbol='FB';name='Facebook, Inc. Common Stock';currency='USD';exchange='NASDAQ';timezone='EST';price=138.53;volume=13745386;last_trade='2018-12-17 15:28:17'\"}\n",
      "2018-12-17 20:32:19,085 nuclio (D) update expression {\"symbol\": \"GOOG\", \"expr\": \"symbol='GOOG';name='Alphabet Inc Class C';currency='USD';exchange='NASDAQ';timezone='EST';price=1019.07;volume=1300582;last_trade='2018-12-17 15:16:22'\"}\n",
      "2018-12-17 20:32:19,085 nuclio (D) update expression {\"symbol\": \"GOOG\", \"expr\": \"symbol='GOOG';name='Alphabet Inc Class C';currency='USD';exchange='NASDAQ';timezone='EST';price=1019.07;volume=1300582;last_trade='2018-12-17 15:16:22'\"}\n",
      "2018-12-17 20:32:19,090 nuclio (D) update expression {\"symbol\": \"IBM\", \"expr\": \"symbol='IBM';name='IBM Common Stock';currency='USD';exchange='NYSE';timezone='EST';price=116.17;volume=4507995;last_trade='2018-12-17 15:16:52'\"}\n",
      "2018-12-17 20:32:19,090 nuclio (D) update expression {\"symbol\": \"IBM\", \"expr\": \"symbol='IBM';name='IBM Common Stock';currency='USD';exchange='NYSE';timezone='EST';price=116.17;volume=4507995;last_trade='2018-12-17 15:16:52'\"}\n",
      "2018-12-17 20:32:19,095 nuclio (D) update expression {\"symbol\": \"INTC\", \"expr\": \"symbol='INTC';name='Intel Corporation';currency='USD';exchange='NASDAQ';timezone='EST';price=46.90;volume=14897397;last_trade='2018-12-17 15:26:24'\"}\n",
      "2018-12-17 20:32:19,095 nuclio (D) update expression {\"symbol\": \"INTC\", \"expr\": \"symbol='INTC';name='Intel Corporation';currency='USD';exchange='NASDAQ';timezone='EST';price=46.90;volume=14897397;last_trade='2018-12-17 15:26:24'\"}\n",
      "2018-12-17 20:32:19,100 nuclio (D) update expression {\"symbol\": \"MSFT\", \"expr\": \"symbol='MSFT';name='Microsoft Corporation';currency='USD';exchange='NASDAQ';timezone='EST';price=102.68;volume=29644678;last_trade='2018-12-17 15:20:27'\"}\n",
      "2018-12-17 20:32:19,100 nuclio (D) update expression {\"symbol\": \"MSFT\", \"expr\": \"symbol='MSFT';name='Microsoft Corporation';currency='USD';exchange='NASDAQ';timezone='EST';price=102.68;volume=29644678;last_trade='2018-12-17 15:20:27'\"}\n",
      "2018-12-17 20:32:19,105 nuclio (D) update expression {\"symbol\": \"NFLX\", \"expr\": \"symbol='NFLX';name='Netflix, Inc.';currency='USD';exchange='NASDAQ';timezone='EST';price=262.85;volume=7609475;last_trade='2018-12-17 15:24:29'\"}\n",
      "2018-12-17 20:32:19,105 nuclio (D) update expression {\"symbol\": \"NFLX\", \"expr\": \"symbol='NFLX';name='Netflix, Inc.';currency='USD';exchange='NASDAQ';timezone='EST';price=262.85;volume=7609475;last_trade='2018-12-17 15:24:29'\"}\n",
      "2018-12-17 20:32:19,112 nuclio (D) update expression {\"symbol\": \"ORCL\", \"expr\": \"symbol='ORCL';name='Oracle Corporation';currency='USD';exchange='NYSE';timezone='EST';price=45.88;volume=18816084;last_trade='2018-12-17 15:16:52'\"}\n",
      "2018-12-17 20:32:19,112 nuclio (D) update expression {\"symbol\": \"ORCL\", \"expr\": \"symbol='ORCL';name='Oracle Corporation';currency='USD';exchange='NYSE';timezone='EST';price=45.88;volume=18816084;last_trade='2018-12-17 15:16:52'\"}\n",
      "2018-12-17 20:32:19,117 nuclio (D) update expression {\"symbol\": \"TSLA\", \"expr\": \"symbol='TSLA';name='Tesla Inc';currency='USD';exchange='NASDAQ';timezone='EST';price=347.86;volume=5674590;last_trade='2018-12-17 15:26:20'\"}\n",
      "2018-12-17 20:32:19,117 nuclio (D) update expression {\"symbol\": \"TSLA\", \"expr\": \"symbol='TSLA';name='Tesla Inc';currency='USD';exchange='NASDAQ';timezone='EST';price=347.86;volume=5674590;last_trade='2018-12-17 15:26:20'\"}\n",
      "2018-12-17 20:32:19,125 nuclio (D) writing data to TSDB {\"stocks\": [\"AAPL\", \"AMZN\", \"FB\", \"GOOG\", \"IBM\", \"INTC\", \"MSFT\", \"NFLX\", \"ORCL\", \"TSLA\"]}\n",
      "2018-12-17 20:32:19,125 nuclio (D) writing data to TSDB {\"stocks\": [\"AAPL\", \"AMZN\", \"FB\", \"GOOG\", \"IBM\", \"INTC\", \"MSFT\", \"NFLX\", \"ORCL\", \"TSLA\"]}\n"
     ]
    }
   ],
   "source": [
    "# nuclio: ignore\n",
    "event = Event(body='')\n",
    "resp = handler(context, event)"
   ]
  },
  {
   "cell_type": "code",
   "execution_count": null,
   "metadata": {},
   "outputs": [],
   "source": []
  }
 ],
 "metadata": {
  "kernelspec": {
   "display_name": "Python 3",
   "language": "python",
   "name": "python3"
  },
  "language_info": {
   "codemirror_mode": {
    "name": "ipython",
    "version": 3
   },
   "file_extension": ".py",
   "mimetype": "text/x-python",
   "name": "python",
   "nbconvert_exporter": "python",
   "pygments_lexer": "ipython3",
   "version": "3.6.5"
  },
  "toc-autonumbering": false
 },
 "nbformat": 4,
 "nbformat_minor": 2
}
