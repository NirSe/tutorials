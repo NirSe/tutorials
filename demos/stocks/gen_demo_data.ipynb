{
 "cells": [
  {
   "cell_type": "markdown",
   "metadata": {},
   "source": [
    "# Genarate Stocks Demo Data\n",
    "\n",
    "Run the code below to generate the kv and time-series tabels and stream used in the demo<br>\n",
    "need to set the following environment variables with real credentials prior to running this notebook.<br>"
   ]
  },
  {
   "cell_type": "code",
   "execution_count": null,
   "metadata": {},
   "outputs": [],
   "source": [
    "%env API_TOKEN = <WorldTradingData API Token>\n",
    "%env V3IO_PASSWORD = <V3IO-Password>"
   ]
  },
  {
   "cell_type": "code",
   "execution_count": 1,
   "metadata": {},
   "outputs": [],
   "source": [
    "import pandas as pd\n",
    "import numpy as np\n",
    "import os\n",
    "from datetime import datetime\n",
    "import v3io_frames as v3f\n",
    "client = v3f.Client('v3io-framesd:8081', password=os.getenv('V3IO_PASSWORD'))"
   ]
  },
  {
   "cell_type": "markdown",
   "metadata": {},
   "source": [
    "## Create TSDB, KV, and Stream tabels "
   ]
  },
  {
   "cell_type": "code",
   "execution_count": 5,
   "metadata": {},
   "outputs": [],
   "source": [
    "client.create(backend='tsdb', table='stock_metrics',attrs={'rate':'1/m'})"
   ]
  },
  {
   "cell_type": "code",
   "execution_count": 6,
   "metadata": {},
   "outputs": [],
   "source": [
    "client.create(backend='stream', table='stock_stream',attrs={'retention_hours':48,'shards':1})"
   ]
  },
  {
   "cell_type": "code",
   "execution_count": 7,
   "metadata": {},
   "outputs": [],
   "source": [
    "kvtbl = '{\"price\":{\"NFLX\":269.7,\"FB\":141.85,\"TSLA\":365.15,\"GOOG\":1039.55,\"AMZN\":1641.03,\"AAPL\":169.6,\"MSFT\":107.59,\"INTC\":47.21},\"volume\":{\"NFLX\":9605553,\"FB\":26422173,\"TSLA\":6613455,\"GOOG\":1807725,\"AMZN\":7494808,\"AAPL\":62025994,\"MSFT\":40801525,\"INTC\":23289000},\"symbol\":{\"NFLX\":\"NFLX\",\"FB\":\"FB\",\"TSLA\":\"TSLA\",\"GOOG\":\"GOOG\",\"AMZN\":\"AMZN\",\"AAPL\":\"AAPL\",\"MSFT\":\"MSFT\",\"INTC\":\"INTC\"},\"exchange\":{\"NFLX\":\"NASDAQ\",\"FB\":\"NASDAQ\",\"TSLA\":\"NASDAQ\",\"GOOG\":\"NASDAQ\",\"AMZN\":\"NASDAQ\",\"AAPL\":\"NASDAQ\",\"MSFT\":\"NASDAQ\",\"INTC\":\"NASDAQ\"},\"last_trade\":{\"NFLX\":\"2018-12-10 16:00:01\",\"FB\":\"2018-12-10 16:00:02\",\"TSLA\":\"2018-12-10 16:00:01\",\"GOOG\":\"2018-12-10 16:00:01\",\"AMZN\":\"2018-12-10 16:00:02\",\"AAPL\":\"2018-12-10 16:00:02\",\"MSFT\":\"2018-12-10 16:00:02\",\"INTC\":\"2018-12-10 16:00:02\"},\"name\":{\"NFLX\":\"Netflix, Inc.\",\"FB\":\"Facebook, Inc. Common Stock\",\"TSLA\":\"Tesla Inc\",\"GOOG\":\"Alphabet Inc Class C\",\"AMZN\":\"Amazon.com, Inc.\",\"AAPL\":\"Apple Inc.\",\"MSFT\":\"Microsoft Corporation\",\"INTC\":\"Intel Corporation\"},\"currency\":{\"NFLX\":\"USD\",\"FB\":\"USD\",\"TSLA\":\"USD\",\"GOOG\":\"USD\",\"AMZN\":\"USD\",\"AAPL\":\"USD\",\"MSFT\":\"USD\",\"INTC\":\"USD\"},\"timezone\":{\"NFLX\":\"EST\",\"FB\":\"EST\",\"TSLA\":\"EST\",\"GOOG\":\"EST\",\"AMZN\":\"EST\",\"AAPL\":\"EST\",\"MSFT\":\"EST\",\"INTC\":\"EST\"}}'\n",
    "client.write(backend='kv', table='stocks',dfs=pd.read_json(kvtbl))"
   ]
  },
  {
   "cell_type": "markdown",
   "metadata": {},
   "source": [
    "## Fill the time-series table with a week worth or historical data"
   ]
  },
  {
   "cell_type": "code",
   "execution_count": null,
   "metadata": {},
   "outputs": [],
   "source": [
    "# read the stocks kv table\n",
    "sdf = client.read(backend='kv', table='stocks') \n",
    "sdf.set_index('__name', inplace=True)\n",
    "stocklist = sdf.index.tolist()\n",
    "\n",
    "# create all stocks data based on stocks table & WTD history API\n",
    "# need the symbol & exchange name from stocks table \n",
    "urlt = 'https://www.worldtradingdata.com/api/v1/intraday?symbol={0}&range=7&sort=asc&interval=1&output=csv&api_token=' + os.getenv('API_API_TOKEN')\n",
    "for sym in stocklist:\n",
    "    url = urlt.format(sym)\n",
    "    df = pd.read_csv(url,skiprows=[0])\n",
    "    df.drop(['Open','High','Low'], axis=1, inplace=True)\n",
    "    df.rename(columns={'Close': 'price', 'Volume': 'volume'}, inplace=True)\n",
    "    df.index = pd.to_datetime(df.index)\n",
    "    df.index.name='time'\n",
    "    df['exchange']=sdf.loc[sym].exchange\n",
    "    df['symbol']=sym\n",
    "    df.reset_index(level=0, inplace=True)\n",
    "    newdf =df.set_index(['time','symbol','exchange'])\n",
    "    print(newdf.head())\n",
    "    client.write(backend='tsdb', table='stock_metrics',dfs=newdf)\n",
    "\n",
    "# generate random sentiment series per stock\n",
    "end = datetime.now().replace(minute=0, second=0, microsecond=0)\n",
    "rng = pd.date_range(end=end, periods=7200, freq='60s', tz='EST')\n",
    "\n",
    "for sym in sdf.index.tolist():\n",
    "    sen = np.random.uniform(low=0.0, high=2, size=(len(rng),))-1\n",
    "    sndf = pd.DataFrame(index=[rng,[sym]*len(rng)], columns=['sentiment'])\n",
    "    sndf['sentiment'] = sen\n",
    "    sndf.index.names=['time','symbol']\n",
    "    print(sndf.head())\n",
    "    client.write(backend='tsdb', table='stock_metrics',dfs=sndf)"
   ]
  },
  {
   "cell_type": "markdown",
   "metadata": {},
   "source": [
    "## Delete KV, TSDB, and Stream tabels\n",
    "in case we want to start things from scratch, commented out in case people run the entire notebook "
   ]
  },
  {
   "cell_type": "code",
   "execution_count": null,
   "metadata": {},
   "outputs": [],
   "source": [
    "#client.delete('kv','stocks')"
   ]
  },
  {
   "cell_type": "code",
   "execution_count": null,
   "metadata": {},
   "outputs": [],
   "source": [
    "#client.delete('tsdb','stock_metrics')"
   ]
  },
  {
   "cell_type": "code",
   "execution_count": null,
   "metadata": {},
   "outputs": [],
   "source": [
    "#client.delete('stream','stock_stream')"
   ]
  }
 ],
 "metadata": {
  "kernelspec": {
   "display_name": "Python 3",
   "language": "python",
   "name": "python3"
  },
  "language_info": {
   "codemirror_mode": {
    "name": "ipython",
    "version": 3
   },
   "file_extension": ".py",
   "mimetype": "text/x-python",
   "name": "python",
   "nbconvert_exporter": "python",
   "pygments_lexer": "ipython3",
   "version": "3.6.6"
  }
 },
 "nbformat": 4,
 "nbformat_minor": 2
}
