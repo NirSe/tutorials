{
 "cells": [
  {
   "cell_type": "markdown",
   "metadata": {},
   "source": [
    "# Genarate Stocks Demo Data\n",
    "\n",
    "Run the code below to generate the kv and time-series tabels and stream used in the demo<br>\n",
    "need to set the following environment variables with real credentials prior to running this notebook.<br>"
   ]
  },
  {
   "cell_type": "code",
   "execution_count": null,
   "metadata": {},
   "outputs": [],
   "source": [
    "%env V3IO_PASSWORD = <V3IO-Password>"
   ]
  },
  {
   "cell_type": "code",
   "execution_count": null,
   "metadata": {},
   "outputs": [],
   "source": [
    "import pandas as pd\n",
    "import numpy as np\n",
    "import os\n",
    "from datetime import datetime\n",
    "import v3io_frames as v3f\n",
    "client = v3f.Client('v3io-framesd:8081', password=os.getenv('V3IO_PASSWORD'))"
   ]
  },
  {
   "cell_type": "markdown",
   "metadata": {},
   "source": [
    "## Create TSDB, KV, and Stream tabels "
   ]
  },
  {
   "cell_type": "code",
   "execution_count": 5,
   "metadata": {},
   "outputs": [],
   "source": [
    "client.create(backend='tsdb', table='stock_metrics',attrs={'rate':'1/m'})"
   ]
  },
  {
   "cell_type": "code",
   "execution_count": 6,
   "metadata": {},
   "outputs": [],
   "source": [
    "client.create(backend='stream', table='stock_stream',attrs={'retention_hours':48,'shards':1})"
   ]
  },
  {
   "cell_type": "code",
   "execution_count": null,
   "metadata": {},
   "outputs": [],
   "source": [
    "kvtbl = '{\"price\":{\"GOOG\":1039.55,\"AMZN\":1641.03,\"AAPL\":169.6,\"MSFT\":107.59,\"INTC\":47.21},\"volume\":{\"GOOG\":1807725,\"AMZN\":7494808,\"AAPL\":62025994,\"MSFT\":40801525,\"INTC\":23289000},\"symbol\":{\"GOOG\":\"GOOG\",\"AMZN\":\"AMZN\",\"AAPL\":\"AAPL\",\"MSFT\":\"MSFT\",\"INTC\":\"INTC\"},\"exchange\":{\"GOOG\":\"NASDAQ\",\"AMZN\":\"NASDAQ\",\"AAPL\":\"NASDAQ\",\"MSFT\":\"NASDAQ\",\"INTC\":\"NASDAQ\"},\"last_trade\":{\"GOOG\":\"2018-12-10 16:00:01\",\"AMZN\":\"2018-12-10 16:00:02\",\"AAPL\":\"2018-12-10 16:00:02\",\"MSFT\":\"2018-12-10 16:00:02\",\"INTC\":\"2018-12-10 16:00:02\"},\"name\":{\"GOOG\":\"Alphabet Inc Class C\",\"AMZN\":\"Amazon.com, Inc.\",\"AAPL\":\"Apple Inc.\",\"MSFT\":\"Microsoft Corporation\",\"INTC\":\"Intel Corporation\"},\"currency\":{\"GOOG\":\"USD\",\"AMZN\":\"USD\",\"AAPL\":\"USD\",\"MSFT\":\"USD\",\"INTC\":\"USD\"},\"timezone\":{\"GOOG\":\"EST\",\"AMZN\":\"EST\",\"AAPL\":\"EST\",\"MSFT\":\"EST\",\"INTC\":\"EST\"}}'\n",
    "client.write(backend='kv', table='stocks',dfs=pd.read_json(kvtbl))"
   ]
  },
  {
   "cell_type": "markdown",
   "metadata": {},
   "source": [
    "## Fill the time-series table with simulated one day historical data"
   ]
  },
  {
   "cell_type": "code",
   "execution_count": null,
   "metadata": {},
   "outputs": [],
   "source": [
    "from pandas_datareader import data\n",
    "import datetime\n",
    "\n",
    "# read the stocks kv table\n",
    "sdf = client.read(backend='kv', table='stocks') \n",
    "stocklist = sdf.index.tolist()\n",
    "today = datetime.datetime.now()\n",
    "past = today + datetime.timedelta(-8*60)\n",
    "\n",
    "for sym in stocklist:\n",
    "    # read historical daily data and replace index to emulate 1 minute tick data  \n",
    "    stocks = data.DataReader(sym, 'yahoo', past, today)\n",
    "    start = datetime.datetime.now().replace(hour=9, minute=0, second=0, microsecond=0) + datetime.timedelta(-1)\n",
    "    stocks.index= pd.date_range(start=start, periods=len(stocks.index), freq='60s', tz='EST')\n",
    "    \n",
    "    # adjust columns to fit the demo fields\n",
    "    stocks = stocks.drop(columns=['High','Low','Close', 'Adj Close'])\n",
    "    stocks.rename(columns={'Open': 'price', 'Volume': 'volume'}, inplace=True)    \n",
    "    stocks['sentiments']=np.random.uniform(low=0.0, high=2, size=(len(stocks),))-1\n",
    "    stocks['symbol']=sym\n",
    "    stocks['exchange']='NASDAQ'\n",
    "    stocks['exchange']=sdf.loc[sym].exchange\n",
    "    \n",
    "    # set multi-index columns so the TSDB will assign correct labels per series (non time index fields are converted to labels)\n",
    "    stocks.index.name='time'\n",
    "    stocks.reset_index(level=0, inplace=True)    \n",
    "    stocks =stocks.set_index(['time','symbol','exchange'])\n",
    "\n",
    "    client.write(backend='tsdb', table='stock_metrics',dfs=stocks)"
   ]
  },
  {
   "cell_type": "markdown",
   "metadata": {},
   "source": [
    "## 2nd option: Fill the time-series table with a week worth or historical data from WorldTradingData API \n",
    "Require obtaining a (free) API token from [World Trading Data](https://www.worldtradingdata.com) and setting the environment variable below "
   ]
  },
  {
   "cell_type": "code",
   "execution_count": null,
   "metadata": {},
   "outputs": [],
   "source": [
    "%env API_TOKEN = <WorldTradingData API Token>\n",
    "\n",
    "# read the stocks kv table\n",
    "sdf = client.read(backend='kv', table='stocks') \n",
    "stocklist = sdf.index.tolist()\n",
    "\n",
    "# create all stocks data based on stocks table & WTD history API\n",
    "# need the symbol & exchange name from stocks table \n",
    "urlt = 'https://www.worldtradingdata.com/api/v1/intraday?symbol={0}&range=7&sort=asc&interval=1&output=csv&api_token=' + os.getenv('API_TOKEN')\n",
    "for sym in stocklist:\n",
    "    url = urlt.format(sym)\n",
    "    df = pd.read_csv(url,skiprows=[0])\n",
    "    df.drop(['Open','High','Low'], axis=1, inplace=True)\n",
    "    df.rename(columns={'Close': 'price', 'Volume': 'volume'}, inplace=True)\n",
    "    df.index = pd.to_datetime(df.index)\n",
    "    df.index.name='time'\n",
    "    df['exchange']=sdf.loc[sym].exchange\n",
    "    df['symbol']=sym\n",
    "    df.reset_index(level=0, inplace=True)\n",
    "    newdf =df.set_index(['time','symbol','exchange'])\n",
    "    print(newdf.head())\n",
    "    client.write(backend='tsdb', table='stock_metrics',dfs=newdf)\n",
    "\n",
    "# generate random sentiment series per stock\n",
    "end = datetime.now().replace(minute=0, second=0, microsecond=0)\n",
    "rng = pd.date_range(end=end, periods=7200, freq='60s', tz='EST')\n",
    "\n",
    "for sym in sdf.index.tolist():\n",
    "    sen = np.random.uniform(low=0.0, high=2, size=(len(rng),))-1\n",
    "    sndf = pd.DataFrame(index=[rng,[sym]*len(rng)], columns=['sentiment'])\n",
    "    sndf['sentiment'] = sen\n",
    "    sndf.index.names=['time','symbol']\n",
    "    print(sndf.head())\n",
    "    client.write(backend='tsdb', table='stock_metrics',dfs=sndf)"
   ]
  },
  {
   "cell_type": "markdown",
   "metadata": {},
   "source": [
    "## Delete KV, TSDB, and Stream tabels\n",
    "in case we want to start things from scratch, commented out in case people run the entire notebook "
   ]
  },
  {
   "cell_type": "code",
   "execution_count": null,
   "metadata": {},
   "outputs": [],
   "source": [
    "#client.delete('kv','stocks')"
   ]
  },
  {
   "cell_type": "code",
   "execution_count": null,
   "metadata": {},
   "outputs": [],
   "source": [
    "#client.delete('tsdb','stock_metrics')"
   ]
  },
  {
   "cell_type": "code",
   "execution_count": null,
   "metadata": {},
   "outputs": [],
   "source": [
    "#client.delete('stream','stock_stream')"
   ]
  }
 ],
 "metadata": {
  "kernelspec": {
   "display_name": "Python 3",
   "language": "python",
   "name": "python3"
  },
  "language_info": {
   "codemirror_mode": {
    "name": "ipython",
    "version": 3
   },
   "file_extension": ".py",
   "mimetype": "text/x-python",
   "name": "python",
   "nbconvert_exporter": "python",
   "pygments_lexer": "ipython3",
   "version": "3.6.5"
  }
 },
 "nbformat": 4,
 "nbformat_minor": 2
}
