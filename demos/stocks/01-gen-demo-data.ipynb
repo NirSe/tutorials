{
 "cells": [
  {
   "cell_type": "markdown",
   "metadata": {},
   "source": [
    "# Genarate Stocks Demo Data\n",
    "\n",
    "Run the code below to generate the key/value table, time-series table and stream used in the demo<br>\n",
    "> ### In order to run the notebook you need to obtain a free token from WorldTradingData \n",
    "\n",
    "### Require obtaining a (free) API token from [World Trading Data](https://www.worldtradingdata.com) and setting the environment variable below "
   ]
  },
  {
   "cell_type": "code",
   "execution_count": null,
   "metadata": {},
   "outputs": [],
   "source": [
    "%env API_TOKEN = <Insert world trading data token>"
   ]
  },
  {
   "cell_type": "code",
   "execution_count": 1,
   "metadata": {},
   "outputs": [],
   "source": [
    "# import required libraries \n",
    "import pandas as pd\n",
    "import numpy as np\n",
    "import os\n",
    "from datetime import datetime\n",
    "import v3io_frames as v3f"
   ]
  },
  {
   "cell_type": "code",
   "execution_count": 2,
   "metadata": {},
   "outputs": [],
   "source": [
    "# initialize iguazio multi-model DB dataframe client library \n",
    "client = v3f.Client('framesd:8081')"
   ]
  },
  {
   "cell_type": "markdown",
   "metadata": {},
   "source": [
    "## Delete KV, TSDB, and Stream tabels\n",
    "in case we want to start things from scratch (delete current tabels), uncomment the following line(s) and run them "
   ]
  },
  {
   "cell_type": "code",
   "execution_count": 3,
   "metadata": {},
   "outputs": [],
   "source": [
    "#client.delete('kv','stocks')"
   ]
  },
  {
   "cell_type": "code",
   "execution_count": 4,
   "metadata": {},
   "outputs": [],
   "source": [
    "#client.delete('tsdb','stock_metrics')"
   ]
  },
  {
   "cell_type": "code",
   "execution_count": 5,
   "metadata": {},
   "outputs": [],
   "source": [
    "#client.delete('stream','stock_stream')"
   ]
  },
  {
   "cell_type": "markdown",
   "metadata": {},
   "source": [
    "## Create TSDB, KV, and Stream tabels "
   ]
  },
  {
   "cell_type": "code",
   "execution_count": 6,
   "metadata": {},
   "outputs": [],
   "source": [
    "client.create(backend='tsdb', table='stock_metrics',attrs={'rate':'1/m'})"
   ]
  },
  {
   "cell_type": "code",
   "execution_count": 7,
   "metadata": {},
   "outputs": [],
   "source": [
    "client.create(backend='stream', table='stock_stream',attrs={'retention_hours':48,'shards':1})"
   ]
  },
  {
   "cell_type": "code",
   "execution_count": 8,
   "metadata": {},
   "outputs": [],
   "source": [
    "# fill the key/value table with some data (KV tables are automatically created on write and have a dynamic schema)\n",
    "kvtbl = '{\"price\":{\"GOOG\":1039.55,\"AMZN\":1641.03,\"AAPL\":169.6,\"MSFT\":107.59,\"INTC\":47.21},\"volume\":{\"GOOG\":1807725,\"AMZN\":7494808,\"AAPL\":62025994,\"MSFT\":40801525,\"INTC\":23289000},\"symbol\":{\"GOOG\":\"GOOG\",\"AMZN\":\"AMZN\",\"AAPL\":\"AAPL\",\"MSFT\":\"MSFT\",\"INTC\":\"INTC\"},\"exchange\":{\"GOOG\":\"NASDAQ\",\"AMZN\":\"NASDAQ\",\"AAPL\":\"NASDAQ\",\"MSFT\":\"NASDAQ\",\"INTC\":\"NASDAQ\"},\"last_trade\":{\"GOOG\":\"2018-12-10 16:00:01\",\"AMZN\":\"2018-12-10 16:00:02\",\"AAPL\":\"2018-12-10 16:00:02\",\"MSFT\":\"2018-12-10 16:00:02\",\"INTC\":\"2018-12-10 16:00:02\"},\"name\":{\"GOOG\":\"Alphabet Inc Class C\",\"AMZN\":\"Amazon.com, Inc.\",\"AAPL\":\"Apple Inc.\",\"MSFT\":\"Microsoft Corporation\",\"INTC\":\"Intel Corporation\"},\"currency\":{\"GOOG\":\"USD\",\"AMZN\":\"USD\",\"AAPL\":\"USD\",\"MSFT\":\"USD\",\"INTC\":\"USD\"},\"timezone\":{\"GOOG\":\"EST\",\"AMZN\":\"EST\",\"AAPL\":\"EST\",\"MSFT\":\"EST\",\"INTC\":\"EST\"}}'\n",
    "client.write(backend='kv', table='stocks',dfs=pd.read_json(kvtbl))"
   ]
  },
  {
   "cell_type": "markdown",
   "metadata": {},
   "source": [
    "## Fill the time-series table with a week worth or historical data from WorldTradingData API "
   ]
  },
  {
   "cell_type": "code",
   "execution_count": 10,
   "metadata": {},
   "outputs": [
    {
     "name": "stdout",
     "output_type": "stream",
     "text": [
      "                                       price  volume  sentiment\n",
      "Date                symbol exchange                            \n",
      "2019-02-22 09:30:00 AMZN   NASDAQ    1623.41   95538  -0.340258\n",
      "2019-02-22 09:31:00 AMZN   NASDAQ    1623.14   21638   0.833875\n",
      "2019-02-22 09:32:00 AMZN   NASDAQ    1624.82   19221   0.372363\n",
      "2019-02-22 09:33:00 AMZN   NASDAQ    1626.69   39614  -0.115489\n",
      "2019-02-22 09:34:00 AMZN   NASDAQ    1627.88   17280  -0.598354\n",
      "                                      price  volume  sentiment\n",
      "Date                symbol exchange                           \n",
      "2019-02-22 09:30:00 MSFT   NASDAQ    109.92  965418  -0.900306\n",
      "2019-02-22 09:31:00 MSFT   NASDAQ    110.23  442196   0.662188\n",
      "2019-02-22 09:32:00 MSFT   NASDAQ    110.05  118172   0.781094\n",
      "2019-02-22 09:33:00 MSFT   NASDAQ    110.04   84788  -0.812989\n",
      "2019-02-22 09:34:00 MSFT   NASDAQ    110.12   98387  -0.084124\n",
      "                                     price   volume  sentiment\n",
      "Date                symbol exchange                           \n",
      "2019-02-22 09:30:00 INTC   NASDAQ    52.79  1628254   0.174202\n",
      "2019-02-22 09:31:00 INTC   NASDAQ    52.69   235698   0.645822\n",
      "2019-02-22 09:32:00 INTC   NASDAQ    52.70   205778  -0.445044\n",
      "2019-02-22 09:33:00 INTC   NASDAQ    52.78   195973  -0.775436\n",
      "2019-02-22 09:34:00 INTC   NASDAQ    52.89   293069  -0.597580\n",
      "                                      price  volume  sentiment\n",
      "Date                symbol exchange                           \n",
      "2019-02-22 09:30:00 AAPL   NASDAQ    172.06  539444  -0.427435\n",
      "2019-02-22 09:31:00 AAPL   NASDAQ    172.21  192174  -0.586166\n",
      "2019-02-22 09:32:00 AAPL   NASDAQ    172.21  101887  -0.888759\n",
      "2019-02-22 09:33:00 AAPL   NASDAQ    172.15   79448  -0.613805\n",
      "2019-02-22 09:34:00 AAPL   NASDAQ    172.11  101459  -0.526258\n",
      "                                       price  volume  sentiment\n",
      "Date                symbol exchange                            \n",
      "2019-02-22 09:30:00 GOOG   NASDAQ    1101.56   28896   0.205737\n",
      "2019-02-22 09:31:00 GOOG   NASDAQ    1102.59    3331  -0.453520\n",
      "2019-02-22 09:32:00 GOOG   NASDAQ    1102.08    4866  -0.666475\n",
      "2019-02-22 09:33:00 GOOG   NASDAQ    1099.80    3484  -0.629386\n",
      "2019-02-22 09:34:00 GOOG   NASDAQ    1099.98    1938   0.726823\n"
     ]
    }
   ],
   "source": [
    "# read the stocks kv table (to get the Symboles)\n",
    "sdf = client.read(backend='kv', table='stocks') \n",
    "stocklist = sdf.index.tolist()\n",
    "\n",
    "# create all stocks data based on stocks table & WTD history API\n",
    "# need the symbol & exchange name from stocks table \n",
    "urlt = 'https://www.worldtradingdata.com/api/v1/intraday?symbol={0}&range=7&sort=asc&interval=1&output=csv&api_token=' + os.getenv('API_TOKEN')\n",
    "for sym in stocklist:\n",
    "    if not sym:\n",
    "        continue \n",
    "    url = urlt.format(sym)\n",
    "    df = pd.read_csv(url,skiprows=[0])\n",
    "    df.drop(['Open','High','Low'], axis=1, inplace=True)\n",
    "    df.rename(columns={'Close': 'price', 'Volume': 'volume'}, inplace=True)\n",
    "    \n",
    "    # generate random sentiment series per stock\n",
    "    df['sentiment'] = np.random.uniform(low=0.0, high=2, size=(len(df),))-1\n",
    "    \n",
    "    # set the index to date, symbol, exchange (will be marked as TSDB labels) \n",
    "    df.Date = pd.to_datetime(df.Date)\n",
    "    df['exchange']=sdf.loc[sym].exchange\n",
    "    df['symbol']=sym\n",
    "    newdf =df.set_index(['Date','symbol','exchange'])\n",
    "    \n",
    "    # write to the TSDB\n",
    "    print(newdf.head())\n",
    "    client.write(backend='tsdb', table='stock_metrics',dfs=newdf)"
   ]
  },
  {
   "cell_type": "markdown",
   "metadata": {},
   "source": [
    "## Fill dummy tweet data in the stream"
   ]
  },
  {
   "cell_type": "code",
   "execution_count": 12,
   "metadata": {},
   "outputs": [
    {
     "data": {
      "text/html": [
       "<div>\n",
       "<style scoped>\n",
       "    .dataframe tbody tr th:only-of-type {\n",
       "        vertical-align: middle;\n",
       "    }\n",
       "\n",
       "    .dataframe tbody tr th {\n",
       "        vertical-align: top;\n",
       "    }\n",
       "\n",
       "    .dataframe thead th {\n",
       "        text-align: right;\n",
       "    }\n",
       "</style>\n",
       "<table border=\"1\" class=\"dataframe\">\n",
       "  <thead>\n",
       "    <tr style=\"text-align: right;\">\n",
       "      <th></th>\n",
       "    </tr>\n",
       "  </thead>\n",
       "  <tbody>\n",
       "  </tbody>\n",
       "</table>\n",
       "</div>"
      ],
      "text/plain": [
       "Empty DataFrame\n",
       "Columns: []\n",
       "Index: []"
      ]
     },
     "execution_count": 12,
     "metadata": {},
     "output_type": "execute_result"
    }
   ],
   "source": [
    "import json\n",
    "record = {'text': 'bla bla bla', \n",
    "          'user': '@supermen',\n",
    "          'id': 1102722594429132545,\n",
    "          'created_at':'Tue Mar 02 00:08:48 +0000 2019',\n",
    "          'polarity':0.3,\n",
    "          'subjectivity':0.1,\n",
    "         }\n",
    "client.execute('stream', 'stock_stream', 'put', args={'data': json.dumps(record)})"
   ]
  }
 ],
 "metadata": {
  "kernelspec": {
   "display_name": "Python 3",
   "language": "python",
   "name": "python3"
  },
  "language_info": {
   "codemirror_mode": {
    "name": "ipython",
    "version": 3
   },
   "file_extension": ".py",
   "mimetype": "text/x-python",
   "name": "python",
   "nbconvert_exporter": "python",
   "pygments_lexer": "ipython3",
   "version": "3.6.8"
  }
 },
 "nbformat": 4,
 "nbformat_minor": 2
}
