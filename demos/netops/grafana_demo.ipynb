{
 "cells": [
  {
   "cell_type": "markdown",
   "metadata": {},
   "source": [
    "# Create a Grafana Data Source and Dashboard"
   ]
  },
  {
   "cell_type": "markdown",
   "metadata": {},
   "source": [
    "Follow the steps in this this tutorial to define a custom \"iguazio\" Grafana data source and create a \"netops_metrics_jupyter\" Grafana dashboard that uses this data source to query tables in the Iguazio Data Science Platform (**\"the platform\"**)."
   ]
  },
  {
   "cell_type": "code",
   "execution_count": null,
   "metadata": {},
   "outputs": [],
   "source": [
    "!pip install git+https://github.com/v3io/grafwiz.git"
   ]
  },
  {
   "cell_type": "code",
   "execution_count": 4,
   "metadata": {},
   "outputs": [],
   "source": [
    "from grafwiz import *\n",
    "import os"
   ]
  },
  {
   "cell_type": "code",
   "execution_count": 5,
   "metadata": {},
   "outputs": [],
   "source": [
    "# Grafana internal cluster address (will be http://grafana)\n",
    "grafana_url = 'http://grafana'"
   ]
  },
  {
   "cell_type": "code",
   "execution_count": null,
   "metadata": {},
   "outputs": [],
   "source": [
    "# Deploy the \"iguazio\" datasource with default paramaters/credentials.\n",
    "# You need to do this only once.\n",
    "ds=DataSource().deploy(grafana_url)"
   ]
  },
  {
   "cell_type": "code",
   "execution_count": null,
   "metadata": {},
   "outputs": [],
   "source": [
    "# Create a new Grafana dashboard\n",
    "dash = Dashboard(\"netops_metrics_jupyter\", start='now-1d', dataSource='iguazio')\n",
    "\n",
    "# Create 6 charts (3 rows * 2 cols)\n",
    "dash.row([Graph(metric).series(table=\"netops_metrics_jupyter\", fields=[metric], container=\"bigdata\") for metric in ['cpu_utilization','latency']])\n",
    "dash.row([Graph(metric).series(table=\"netops_metrics_jupyter\", fields=[metric], container=\"bigdata\") for metric in ['throughput','packet_loss']])\n",
    "dash.row([Graph(metric).series(table=\"netops_metrics_jupyter\", fields=[metric], container=\"bigdata\") for metric in ['is_error', 'is_error']])\n",
    "\n",
    "# Deploy to Grafana\n",
    "dash.deploy(grafana_url)"
   ]
  }
 ],
 "metadata": {
  "kernelspec": {
   "display_name": "Python 3",
   "language": "python",
   "name": "python3"
  },
  "language_info": {
   "codemirror_mode": {
    "name": "ipython",
    "version": 3
   },
   "file_extension": ".py",
   "mimetype": "text/x-python",
   "name": "python",
   "nbconvert_exporter": "python",
   "pygments_lexer": "ipython3",
   "version": "3.6.8"
  }
 },
 "nbformat": 4,
 "nbformat_minor": 2
}
