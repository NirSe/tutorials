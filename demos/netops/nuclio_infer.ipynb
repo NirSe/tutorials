{
 "cells": [
  {
   "cell_type": "markdown",
   "metadata": {},
   "source": [
    "# Creating the model inferencing function"
   ]
  },
  {
   "cell_type": "markdown",
   "metadata": {},
   "source": [
    "## Initialize nuclio emulation, environment variables and configuration\n",
    "use `# nuclio: ignore` for sections that dont need to be copied to the function"
   ]
  },
  {
   "cell_type": "code",
   "execution_count": 1,
   "metadata": {},
   "outputs": [],
   "source": [
    "# nuclio: ignore\n",
    "import nuclio"
   ]
  },
  {
   "cell_type": "code",
   "execution_count": 2,
   "metadata": {},
   "outputs": [],
   "source": [
    "# nuclio: ignore\n",
    "from os import environ\n",
    "version = '1.0'\n",
    "environ['MODEL_FILE'] = 'netops.v{}.model'.format(version)"
   ]
  },
  {
   "cell_type": "code",
   "execution_count": 3,
   "metadata": {},
   "outputs": [
    {
     "name": "stdout",
     "output_type": "stream",
     "text": [
      "%nuclio: setting 'MODEL_FILEPATH' environment variable\n"
     ]
    }
   ],
   "source": [
    "%nuclio env -c V3IO_USERNAME=${V3IO_USERNAME}\n",
    "%nuclio env -c V3IO_ACCESS_KEY=${V3IO_ACCESS_KEY}\n",
    "%nuclio env -c MODEL_FILE=${MODEL_FILE}\n",
    "%nuclio env -c MODEL_FILEPATH=/tmp/mlmodel/${MODEL_FILE}\n",
    "%nuclio env -l MODEL_FILEPATH=models/${MODEL_FILE}"
   ]
  },
  {
   "cell_type": "markdown",
   "metadata": {},
   "source": [
    "### Install requiered packages\n",
    "`%nuclio cmd` allows you to run image build instructions and install packages<br>\n",
    "Note: when using the `-c` option commands will only run in nuclio, not locally"
   ]
  },
  {
   "cell_type": "code",
   "execution_count": 4,
   "metadata": {},
   "outputs": [],
   "source": [
    "%%nuclio cmd -c\n",
    "pip install pandas\n",
    "pip install sklearn\n",
    "pip install v3io_frames\n",
    "pip install dask_ml\n",
    "apt-get update && apt-get install -y wget\n",
    "mkdir -p /tmp/mlmodel"
   ]
  },
  {
   "cell_type": "code",
   "execution_count": 5,
   "metadata": {},
   "outputs": [],
   "source": [
    "# copy the model file into the function\n",
    "%nuclio cmd -c wget -O /tmp/mlmodel/${MODEL_FILE} --header \"x-v3io-session-key: ${V3IO_ACCESS_KEY}\" http://${V3IO_WEBAPI_SERVICE_HOST}:8081/users/${V3IO_USERNAME}/demos/netops/models/${MODEL_FILE}"
   ]
  },
  {
   "cell_type": "markdown",
   "metadata": {},
   "source": [
    "## Set a cron trigger with 1 minute interval"
   ]
  },
  {
   "cell_type": "code",
   "execution_count": 6,
   "metadata": {},
   "outputs": [
    {
     "name": "stdout",
     "output_type": "stream",
     "text": [
      "%nuclio: setting spec.triggers.secs.kind to 'cron'\n",
      "%nuclio: setting spec.triggers.secs.attributes.interval to '600s'\n",
      "%nuclio: setting spec.build.baseImage to 'python:3.6-jessie'\n"
     ]
    }
   ],
   "source": [
    "%%nuclio config \n",
    "spec.triggers.secs.kind = \"cron\"\n",
    "spec.triggers.secs.attributes.interval = \"600s\"\n",
    "spec.build.baseImage = \"python:3.6-jessie\""
   ]
  },
  {
   "cell_type": "markdown",
   "metadata": {},
   "source": [
    "## Define function init"
   ]
  },
  {
   "cell_type": "code",
   "execution_count": 7,
   "metadata": {},
   "outputs": [],
   "source": [
    "import pandas as pd\n",
    "import pickle\n",
    "import sklearn\n",
    "from dask_ml.wrappers import ParallelPostFit\n",
    "import v3io_frames as v3f\n",
    "from os import environ\n",
    "\n",
    "# Define v3io TSDB client\n",
    "client = v3f.Client('framesd:8081')\n",
    "\n",
    "# Load model\n",
    "with open(environ['MODEL_FILEPATH'], 'rb+') as f:\n",
    "    model = pickle.load(f) \n",
    "    \n",
    "clf = ParallelPostFit(estimator=model,\n",
    "                      scoring='accuracy')"
   ]
  },
  {
   "cell_type": "code",
   "execution_count": 8,
   "metadata": {},
   "outputs": [
    {
     "data": {
      "text/plain": [
       "'time                 data_center       device         company                  \\n2019-03-05 14:38:15  Barrett_Crossing  8566530842848  Boyd-Faulkner                0.0\\n2019-03-05 15:38:15  Barrett_Crossing  8566530842848  Boyd-Faulkner                0.0\\n2019-03-05 14:38:15  Cindy_Rapids      4963294562966  Wheeler__Shelton_and_Hill    0.0\\n2019-03-05 15:38:15  Cindy_Rapids      4963294562966  Wheeler__Shelton_and_Hill    0.0\\n2019-03-05 14:38:15  Dean_Park         2368397418989  Wheeler__Shelton_and_Hill    0.0\\n2019-03-05 15:38:15  Dean_Park         2368397418989  Wheeler__Shelton_and_Hill    0.0\\n2019-03-05 14:38:15  Nancy_Mall        7542919702594  Boyd-Faulkner                0.0\\n2019-03-05 15:38:15  Nancy_Mall        7542919702594  Boyd-Faulkner                0.0\\n2019-03-05 14:38:15  Nancy_Mall        3916108545629  Boyd-Faulkner                0.0\\n2019-03-05 15:38:15  Nancy_Mall        3916108545629  Boyd-Faulkner                0.0\\n2019-03-05 14:38:15  Cindy_Rapids      0847959813128  Wheeler__Shelton_and_Hill    0.0\\n2019-03-05 15:38:15  Cindy_Rapids      0847959813128  Wheeler__Shelton_and_Hill    0.0\\n2019-03-05 14:38:15  Dean_Park         1184469177528  Wheeler__Shelton_and_Hill    0.0\\n2019-03-05 15:38:15  Dean_Park         1184469177528  Wheeler__Shelton_and_Hill    0.0\\n2019-03-05 14:38:15  Barrett_Crossing  5728297877286  Boyd-Faulkner                0.0\\n2019-03-05 15:38:15  Barrett_Crossing  5728297877286  Boyd-Faulkner                0.0\\nName: prediction, dtype: float64'"
      ]
     },
     "execution_count": 8,
     "metadata": {},
     "output_type": "execute_result"
    }
   ],
   "source": [
    "%%nuclio handler\n",
    "# Load last hour data\n",
    "df = client.read(backend='tsdb', query='select avg(cpu_utilization) as cpu_utilization, avg(latency) as latency, avg(packet_loss) as packet_loss, avg(throughput) as throughput from netops_metrics_jupyter group by company, data_center, device',\n",
    "            start=\"now-1d\", end='now+1d', multi_index=True, step='1h')\n",
    "df['prediction'] = clf.predict(df)\n",
    "#df.reset_index(inplace=True)\n",
    "#client.write(backend='tsdb', table='netops_predictions', dfs=[df], index_cols=['company', 'data_center', 'device', 'time'])\n",
    "str(df['prediction']) # nuclio: return"
   ]
  },
  {
   "cell_type": "code",
   "execution_count": null,
   "metadata": {},
   "outputs": [],
   "source": [
    "%nuclio deploy -n netops-infer -p netops -c"
   ]
  }
 ],
 "metadata": {
  "kernelspec": {
   "display_name": "Python 3",
   "language": "python",
   "name": "python3"
  },
  "language_info": {
   "codemirror_mode": {
    "name": "ipython",
    "version": 3
   },
   "file_extension": ".py",
   "mimetype": "text/x-python",
   "name": "python",
   "nbconvert_exporter": "python",
   "pygments_lexer": "ipython3",
   "version": "3.6.8"
  }
 },
 "nbformat": 4,
 "nbformat_minor": 2
}
