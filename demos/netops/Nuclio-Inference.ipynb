{
 "cells": [
  {
   "cell_type": "markdown",
   "metadata": {},
   "source": [
    "# Nuclio - Training function"
   ]
  },
  {
   "cell_type": "markdown",
   "metadata": {},
   "source": [
    "## Environment"
   ]
  },
  {
   "cell_type": "code",
   "execution_count": 2,
   "metadata": {},
   "outputs": [],
   "source": [
    "# nuclio: ignore\n",
    "import nuclio"
   ]
  },
  {
   "cell_type": "markdown",
   "metadata": {},
   "source": [
    "### Configurations"
   ]
  },
  {
   "cell_type": "code",
   "execution_count": 3,
   "metadata": {},
   "outputs": [
    {
     "name": "stdout",
     "output_type": "stream",
     "text": [
      "%nuclio: setting spec.triggers.retrain.kind to 'cron'\n",
      "%nuclio: setting spec.triggers.retrain.attributes.interval to '1h'\n",
      "%nuclio: setting spec.build.baseImage to 'python:3.6-jessie'\n"
     ]
    }
   ],
   "source": [
    "%%nuclio config\n",
    "\n",
    "# Trigger\n",
    "spec.triggers.retrain.kind = \"cron\"\n",
    "spec.triggers.retrain.attributes.interval = \"1h\"\n",
    "\n",
    "# Base image\n",
    "spec.build.baseImage = \"python:3.6-jessie\""
   ]
  },
  {
   "cell_type": "markdown",
   "metadata": {},
   "source": [
    "### Variables"
   ]
  },
  {
   "cell_type": "code",
   "execution_count": 99,
   "metadata": {},
   "outputs": [
    {
     "name": "stdout",
     "output_type": "stream",
     "text": [
      "%nuclio: setting 'V3IO_FRAMESD' environment variable\n",
      "%nuclio: setting 'V3IO_USERNAME' environment variable\n",
      "%nuclio: setting 'V3IO_ACCESS_KEY' environment variable\n",
      "%nuclio: setting 'FEATURES_TABLE' environment variable\n",
      "%nuclio: setting 'TRAIN_ON_LAST' environment variable\n",
      "%nuclio: setting 'TRAIN_SIZE' environment variable\n",
      "%nuclio: setting 'NUMBER_OF_SHARDS' environment variable\n",
      "%nuclio: setting 'MODEL_FILENAME' environment variable\n",
      "%nuclio: setting 'MODEL_DIR' environment variable\n"
     ]
    },
    {
     "name": "stderr",
     "output_type": "stream",
     "text": [
      "%nuclio: cannot find \"=\" in line\n",
      "%nuclio: cannot find \"=\" in line\n",
      "%nuclio: cannot find \"=\" in line\n",
      "%nuclio: cannot find \"=\" in line\n",
      "%nuclio: cannot find \"=\" in line\n"
     ]
    }
   ],
   "source": [
    "%%nuclio env\n",
    "\n",
    "# DB Config\n",
    "V3IO_FRAMESD=${V3IO_FRAMESD}\n",
    "V3IO_USERNAME=${V3IO_USERNAME}\n",
    "V3IO_ACCESS_KEY=${V3IO_ACCESS_KEY}\n",
    "\n",
    "# Features\n",
    "FEATURES_TABLE=netops_features\n",
    "\n",
    "# Training\n",
    "TRAIN_ON_LAST=7d\n",
    "TRAIN_SIZE=0.7\n",
    "\n",
    "# Parallelizem\n",
    "NUMBER_OF_SHARDS=4\n",
    "\n",
    "# Model\n",
    "MODEL_FILENAME=netops.v2.model.pickle\n",
    "MODEL_DIR=/bigdata/netops/models"
   ]
  },
  {
   "cell_type": "code",
   "execution_count": 95,
   "metadata": {},
   "outputs": [
    {
     "name": "stdout",
     "output_type": "stream",
     "text": [
      "%nuclio: setting 'CURRENT_MODEL_DIR' environment variable\n"
     ]
    }
   ],
   "source": [
    "%nuclio env -c CURRENT_MODEL_DIR=/models\n",
    "%nuclio env -l CURRENT_MODEL_DIR=/v3io/bigdata/netops/models"
   ]
  },
  {
   "cell_type": "markdown",
   "metadata": {},
   "source": [
    "### Commands"
   ]
  },
  {
   "cell_type": "code",
   "execution_count": 96,
   "metadata": {},
   "outputs": [],
   "source": [
    "%%nuclio cmd -c\n",
    "\n",
    "############\n",
    "# installs #\n",
    "############\n",
    "\n",
    "# Utils\n",
    "pip install pyarrow\n",
    "pip install pandas\n",
    "\n",
    "# Igz DB\n",
    "pip install v3io_frames --upgrade\n",
    "\n",
    "# Function\n",
    "pip install scikit-learn==0.20.1\n",
    "pip install xgboost --upgrade\n",
    "pip install dask[\"complete\"] --upgrade\n",
    "pip install dask-ml[\"complete\"] --upgrade\n",
    "\n",
    "apt-get update && apt-get install -y wget\n",
    "mkdir -p ${CURRENT_MODEL_DIR}"
   ]
  },
  {
   "cell_type": "code",
   "execution_count": 100,
   "metadata": {},
   "outputs": [],
   "source": [
    "%%nuclio cmd -c \n",
    "# Copy the model file into the function\n",
    "wget -O ${CURRENT_MODEL_DIR}/${MODEL_FILENAME} --header \"x-v3io-session-key: ${V3IO_ACCESS_KEY}\" http://${V3IO_WEBAPI_SERVICE_HOST}:8081${MODEL_DIR}/${MODEL_FILENAME}"
   ]
  },
  {
   "cell_type": "markdown",
   "metadata": {},
   "source": [
    "## Function"
   ]
  },
  {
   "cell_type": "markdown",
   "metadata": {},
   "source": [
    "### Imports"
   ]
  },
  {
   "cell_type": "code",
   "execution_count": 79,
   "metadata": {},
   "outputs": [],
   "source": [
    "import os\n",
    "import pickle\n",
    "\n",
    "import v3io_frames as v3f\n",
    "from dask.distributed import Client\n",
    "\n",
    "import pandas as pd\n",
    "import sklearn\n",
    "from dask_ml.wrappers import ParallelPostFit\n",
    "from dask_ml import xgboost as xgb"
   ]
  },
  {
   "cell_type": "markdown",
   "metadata": {},
   "source": [
    "### Helper functions"
   ]
  },
  {
   "cell_type": "code",
   "execution_count": 80,
   "metadata": {},
   "outputs": [],
   "source": [
    "def get_data(context):\n",
    "    df = context.v3f.read(backend='tsdb', query=f'select * from {context.features_table}',\n",
    "                          start=f'now-{context.train_on_last}', end='now', multi_index=True)\n",
    "    df = df.reset_index(drop=True)\n",
    "    df = dd.from_pandas(df, npartitions=context.shards)\n",
    "    return df"
   ]
  },
  {
   "cell_type": "code",
   "execution_count": 81,
   "metadata": {},
   "outputs": [],
   "source": [
    "def get_train_test_sets_from_data(context, df: pd.DataFrame):\n",
    "    drop_columns = [col for col in df.columns if 'is_error' in col]\n",
    "    X = df.drop(drop_columns, axis=1)\n",
    "    y = df.loc[:, 'is_error']\n",
    "    X_train, X_test, y_train, y_test = dcv.train_test_split(X, y, train_size=context.train_size, test_size=1-context.train_size)\n",
    "    return X_train, X_test, y_train, y_test"
   ]
  },
  {
   "cell_type": "markdown",
   "metadata": {},
   "source": [
    "### Init context"
   ]
  },
  {
   "cell_type": "code",
   "execution_count": 82,
   "metadata": {},
   "outputs": [],
   "source": [
    "def init_context(context):\n",
    "    \n",
    "    # Create our DB client\n",
    "    v3io_client = v3f.Client(address='http://' + os.getenv('V3IO_FRAMESD', 'framesd:8081'), \n",
    "                        container='bigdata', \n",
    "                        password=os.environ['V3IO_ACCESS_KEY'], \n",
    "                        user=os.environ['V3IO_USERNAME'])\n",
    "    setattr(context, 'v3f', v3io_client)\n",
    "    \n",
    "    # Create Dask client\n",
    "    dask_client = Client()\n",
    "    setattr(context, 'dask', dask_client)\n",
    "    \n",
    "    # Save features directory\n",
    "    features_table = os.getenv('FEATURES_TABLE', 'netops_features')\n",
    "    setattr(context, 'features_table', features_table)\n",
    "    \n",
    "    # Load the model\n",
    "    model_path = os.path.join(os.getenv('CURRENT_MODEL_DIR', '/models'), os.getenv('MODEL_FILENAME', 'netops.v1.model'))\n",
    "    with open(model_path, 'rb+') as f:\n",
    "        model = pickle.load(f)\n",
    "    clf = ParallelPostFit(estimator=model,\n",
    "                          scoring='accuracy')\n",
    "    setattr(context, 'model', clf)"
   ]
  },
  {
   "cell_type": "markdown",
   "metadata": {},
   "source": [
    "### Handler"
   ]
  },
  {
   "cell_type": "code",
   "execution_count": 87,
   "metadata": {},
   "outputs": [
    {
     "name": "stderr",
     "output_type": "stream",
     "text": [
      "distributed.comm.tcp - WARNING - Closing dangling stream in <TCP local=tcp://127.0.0.1:52266 remote=tcp://127.0.0.1:35926>\n",
      "distributed.comm.tcp - WARNING - Closing dangling stream in <TCP local=tcp://127.0.0.1:52166 remote=tcp://127.0.0.1:35926>\n"
     ]
    }
   ],
   "source": [
    "def handler(context, event):\n",
    "\n",
    "    # Load last hour data\n",
    "    df = context.v3f.read(backend='tsdb', query=f'select * from {context.features_table}', start=\"now-1h\", end='now', multi_index=True)\n",
    "    \n",
    "    # Predict\n",
    "    df['prediction'] = context.model.predict(df)\n",
    "    \n",
    "    # Save\n",
    "    df.reset_index(inplace=True)\n",
    "    context.v3f.write(backend='tsdb', table='netops_predictions', dfs=[df], index_cols=['company', 'data_center', 'device', 'time'])"
   ]
  },
  {
   "cell_type": "markdown",
   "metadata": {},
   "source": [
    "## Test"
   ]
  },
  {
   "cell_type": "code",
   "execution_count": 85,
   "metadata": {},
   "outputs": [],
   "source": [
    "# nuclio: ignore\n",
    "init_context(context)"
   ]
  },
  {
   "cell_type": "code",
   "execution_count": 86,
   "metadata": {},
   "outputs": [
    {
     "ename": "UnboundLocalError",
     "evalue": "local variable 'result' referenced before assignment",
     "output_type": "error",
     "traceback": [
      "\u001b[0;31m---------------------------------------------------------------------------\u001b[0m",
      "\u001b[0;31mUnboundLocalError\u001b[0m                         Traceback (most recent call last)",
      "\u001b[0;32m<ipython-input-86-4fcaa9fd0c14>\u001b[0m in \u001b[0;36m<module>\u001b[0;34m\u001b[0m\n\u001b[1;32m      2\u001b[0m \u001b[0;31m# init_context(context)\u001b[0m\u001b[0;34m\u001b[0m\u001b[0;34m\u001b[0m\u001b[0;34m\u001b[0m\u001b[0m\n\u001b[1;32m      3\u001b[0m \u001b[0mevent\u001b[0m \u001b[0;34m=\u001b[0m \u001b[0mnuclio\u001b[0m\u001b[0;34m.\u001b[0m\u001b[0mEvent\u001b[0m\u001b[0;34m(\u001b[0m\u001b[0mbody\u001b[0m\u001b[0;34m=\u001b[0m\u001b[0;34m''\u001b[0m\u001b[0;34m)\u001b[0m\u001b[0;34m\u001b[0m\u001b[0;34m\u001b[0m\u001b[0m\n\u001b[0;32m----> 4\u001b[0;31m \u001b[0moutput\u001b[0m \u001b[0;34m=\u001b[0m \u001b[0mhandler\u001b[0m\u001b[0;34m(\u001b[0m\u001b[0mcontext\u001b[0m\u001b[0;34m,\u001b[0m \u001b[0mevent\u001b[0m\u001b[0;34m)\u001b[0m\u001b[0;34m\u001b[0m\u001b[0;34m\u001b[0m\u001b[0m\n\u001b[0m\u001b[1;32m      5\u001b[0m \u001b[0moutput\u001b[0m\u001b[0;34m\u001b[0m\u001b[0;34m\u001b[0m\u001b[0m\n",
      "\u001b[0;32m<ipython-input-83-ff5b8f57b402>\u001b[0m in \u001b[0;36mhandler\u001b[0;34m(context, event)\u001b[0m\n\u001b[1;32m      6\u001b[0m     \u001b[0;31m# Predict\u001b[0m\u001b[0;34m\u001b[0m\u001b[0;34m\u001b[0m\u001b[0;34m\u001b[0m\u001b[0m\n\u001b[1;32m      7\u001b[0m     \u001b[0;32mglobal\u001b[0m \u001b[0mresult\u001b[0m\u001b[0;34m\u001b[0m\u001b[0;34m\u001b[0m\u001b[0m\n\u001b[0;32m----> 8\u001b[0;31m     \u001b[0mdf\u001b[0m\u001b[0;34m[\u001b[0m\u001b[0;34m'prediction'\u001b[0m\u001b[0;34m]\u001b[0m \u001b[0;34m=\u001b[0m \u001b[0mcontext\u001b[0m\u001b[0;34m.\u001b[0m\u001b[0mmodel\u001b[0m\u001b[0;34m.\u001b[0m\u001b[0mpredict\u001b[0m\u001b[0;34m(\u001b[0m\u001b[0mdf\u001b[0m\u001b[0;34m)\u001b[0m\u001b[0;34m\u001b[0m\u001b[0;34m\u001b[0m\u001b[0m\n\u001b[0m\u001b[1;32m      9\u001b[0m \u001b[0;34m\u001b[0m\u001b[0m\n\u001b[1;32m     10\u001b[0m     \u001b[0;31m# Save\u001b[0m\u001b[0;34m\u001b[0m\u001b[0;34m\u001b[0m\u001b[0;34m\u001b[0m\u001b[0m\n",
      "\u001b[0;32m~/.pythonlibs/lib/python3.6/site-packages/dask_ml/wrappers.py\u001b[0m in \u001b[0;36mpredict\u001b[0;34m(self, X)\u001b[0m\n\u001b[1;32m    283\u001b[0m \u001b[0;34m\u001b[0m\u001b[0m\n\u001b[1;32m    284\u001b[0m         \u001b[0;32melse\u001b[0m\u001b[0;34m:\u001b[0m\u001b[0;34m\u001b[0m\u001b[0;34m\u001b[0m\u001b[0m\n\u001b[0;32m--> 285\u001b[0;31m             \u001b[0;32mreturn\u001b[0m \u001b[0m_predict\u001b[0m\u001b[0;34m(\u001b[0m\u001b[0mX\u001b[0m\u001b[0;34m,\u001b[0m \u001b[0mestimator\u001b[0m\u001b[0;34m=\u001b[0m\u001b[0mself\u001b[0m\u001b[0;34m.\u001b[0m\u001b[0m_postfit_estimator\u001b[0m\u001b[0;34m)\u001b[0m\u001b[0;34m\u001b[0m\u001b[0;34m\u001b[0m\u001b[0m\n\u001b[0m\u001b[1;32m    286\u001b[0m \u001b[0;34m\u001b[0m\u001b[0m\n\u001b[1;32m    287\u001b[0m     \u001b[0;32mdef\u001b[0m \u001b[0mpredict_proba\u001b[0m\u001b[0;34m(\u001b[0m\u001b[0mself\u001b[0m\u001b[0;34m,\u001b[0m \u001b[0mX\u001b[0m\u001b[0;34m)\u001b[0m\u001b[0;34m:\u001b[0m\u001b[0;34m\u001b[0m\u001b[0;34m\u001b[0m\u001b[0m\n",
      "\u001b[0;32m~/.pythonlibs/lib/python3.6/site-packages/dask_ml/wrappers.py\u001b[0m in \u001b[0;36m_predict\u001b[0;34m(part, estimator)\u001b[0m\n\u001b[1;32m    535\u001b[0m \u001b[0;34m\u001b[0m\u001b[0m\n\u001b[1;32m    536\u001b[0m \u001b[0;32mdef\u001b[0m \u001b[0m_predict\u001b[0m\u001b[0;34m(\u001b[0m\u001b[0mpart\u001b[0m\u001b[0;34m,\u001b[0m \u001b[0mestimator\u001b[0m\u001b[0;34m)\u001b[0m\u001b[0;34m:\u001b[0m\u001b[0;34m\u001b[0m\u001b[0;34m\u001b[0m\u001b[0m\n\u001b[0;32m--> 537\u001b[0;31m     \u001b[0;32mreturn\u001b[0m \u001b[0mestimator\u001b[0m\u001b[0;34m.\u001b[0m\u001b[0mpredict\u001b[0m\u001b[0;34m(\u001b[0m\u001b[0mpart\u001b[0m\u001b[0;34m)\u001b[0m\u001b[0;34m\u001b[0m\u001b[0;34m\u001b[0m\u001b[0m\n\u001b[0m\u001b[1;32m    538\u001b[0m \u001b[0;34m\u001b[0m\u001b[0m\n\u001b[1;32m    539\u001b[0m \u001b[0;34m\u001b[0m\u001b[0m\n",
      "\u001b[0;32m~/.pythonlibs/lib/python3.6/site-packages/dask_xgboost/core.py\u001b[0m in \u001b[0;36mpredict\u001b[0;34m(self, X)\u001b[0m\n\u001b[1;32m    281\u001b[0m     \u001b[0;32mdef\u001b[0m \u001b[0mpredict\u001b[0m\u001b[0;34m(\u001b[0m\u001b[0mself\u001b[0m\u001b[0;34m,\u001b[0m \u001b[0mX\u001b[0m\u001b[0;34m)\u001b[0m\u001b[0;34m:\u001b[0m\u001b[0;34m\u001b[0m\u001b[0;34m\u001b[0m\u001b[0m\n\u001b[1;32m    282\u001b[0m         \u001b[0mclient\u001b[0m \u001b[0;34m=\u001b[0m \u001b[0mdefault_client\u001b[0m\u001b[0;34m(\u001b[0m\u001b[0;34m)\u001b[0m\u001b[0;34m\u001b[0m\u001b[0;34m\u001b[0m\u001b[0m\n\u001b[0;32m--> 283\u001b[0;31m         \u001b[0mclass_probs\u001b[0m \u001b[0;34m=\u001b[0m \u001b[0mpredict\u001b[0m\u001b[0;34m(\u001b[0m\u001b[0mclient\u001b[0m\u001b[0;34m,\u001b[0m \u001b[0mself\u001b[0m\u001b[0;34m.\u001b[0m\u001b[0m_Booster\u001b[0m\u001b[0;34m,\u001b[0m \u001b[0mX\u001b[0m\u001b[0;34m)\u001b[0m\u001b[0;34m\u001b[0m\u001b[0;34m\u001b[0m\u001b[0m\n\u001b[0m\u001b[1;32m    284\u001b[0m         \u001b[0;32mif\u001b[0m \u001b[0mclass_probs\u001b[0m\u001b[0;34m.\u001b[0m\u001b[0mndim\u001b[0m \u001b[0;34m>\u001b[0m \u001b[0;36m1\u001b[0m\u001b[0;34m:\u001b[0m\u001b[0;34m\u001b[0m\u001b[0;34m\u001b[0m\u001b[0m\n\u001b[1;32m    285\u001b[0m             \u001b[0mcidx\u001b[0m \u001b[0;34m=\u001b[0m \u001b[0mda\u001b[0m\u001b[0;34m.\u001b[0m\u001b[0margmax\u001b[0m\u001b[0;34m(\u001b[0m\u001b[0mclass_probs\u001b[0m\u001b[0;34m,\u001b[0m \u001b[0maxis\u001b[0m\u001b[0;34m=\u001b[0m\u001b[0;36m1\u001b[0m\u001b[0;34m)\u001b[0m\u001b[0;34m\u001b[0m\u001b[0;34m\u001b[0m\u001b[0m\n",
      "\u001b[0;32m~/.pythonlibs/lib/python3.6/site-packages/dask_xgboost/core.py\u001b[0m in \u001b[0;36mpredict\u001b[0;34m(client, model, data)\u001b[0m\n\u001b[1;32m    213\u001b[0m                                  drop_axis=1)\n\u001b[1;32m    214\u001b[0m \u001b[0;34m\u001b[0m\u001b[0m\n\u001b[0;32m--> 215\u001b[0;31m     \u001b[0;32mreturn\u001b[0m \u001b[0mresult\u001b[0m\u001b[0;34m\u001b[0m\u001b[0;34m\u001b[0m\u001b[0m\n\u001b[0m\u001b[1;32m    216\u001b[0m \u001b[0;34m\u001b[0m\u001b[0m\n\u001b[1;32m    217\u001b[0m \u001b[0;34m\u001b[0m\u001b[0m\n",
      "\u001b[0;31mUnboundLocalError\u001b[0m: local variable 'result' referenced before assignment"
     ]
    }
   ],
   "source": [
    "# nuclio: ignore\n",
    "# init_context(context)\n",
    "event = nuclio.Event(body='')\n",
    "output = handler(context, event)\n",
    "output"
   ]
  },
  {
   "cell_type": "markdown",
   "metadata": {},
   "source": [
    "## Deployment"
   ]
  },
  {
   "cell_type": "code",
   "execution_count": 108,
   "metadata": {},
   "outputs": [
    {
     "name": "stdout",
     "output_type": "stream",
     "text": [
      "%nuclio: ['deploy', '-p', 'netops', '-n', 'predict', '-c', '/User/netops/tutorials/demos/netops/Nuclio-Inference.ipynb']\n",
      "%nuclio: [nuclio.deploy] 2019-05-18 21:03:09,773 (info) Building processor image\n",
      "%nuclio: [nuclio.deploy] 2019-05-18 21:03:18,207 (info) Pushing image\n",
      "%nuclio: [nuclio.deploy] 2019-05-18 21:03:18,207 (info) Build complete\n",
      "%nuclio: [nuclio.deploy] 2019-05-18 21:03:48,563 (warn) Create function failed failed, setting function status\n",
      "%nuclio: [nuclio.deploy] 2019-05-18 21:03:48,563\n",
      "%nuclio: Error - NuclioFunction in error state (\n",
      "%nuclio: Error - context deadline exceeded\n",
      "%nuclio:     .../platform/kube/controller/nucliofunction.go:122\n",
      "%nuclio: \n",
      "%nuclio: Call stack:\n",
      "%nuclio: Failed to wait for function resources to be available\n",
      "%nuclio:     .../platform/kube/controller/nucliofunction.go:122\n",
      "%nuclio: )\n",
      "%nuclio:     .../nuclio/nuclio/pkg/platform/kube/deployer.go:185\n",
      "%nuclio: \n",
      "%nuclio: Call stack:\n",
      "%nuclio: NuclioFunction in error state (\n",
      "%nuclio: Error - context deadline exceeded\n",
      "%nuclio:     .../platform/kube/controller/nucliofunction.go:122\n",
      "%nuclio: \n",
      "%nuclio: Call stack:\n",
      "%nuclio: Failed to wait for function resources to be available\n",
      "%nuclio:     .../platform/kube/controller/nucliofunction.go:122\n",
      "%nuclio: )\n",
      "%nuclio:     .../nuclio/nuclio/pkg/platform/kube/deployer.go:185\n",
      "%nuclio: Failed to wait for function readiness.\n",
      "%nuclio: \n",
      "%nuclio: Pod logs:\n",
      "%nuclio: \n",
      "%nuclio: * predict-7458bb6998-nrzg7\n",
      "%nuclio: {\"level\":\"debug\",\"time\":\"2019-05-18T21:03:44.453Z\",\"name\":\"processor\",\"message\":\"Read configuration\",\"more\":\"config=&{Config:{Meta:{Name:predict Namespace:default-tenant Labels:map[] Annotations:map[]} Spec:{Description: Disabled:false Publish:false Handler:handler:handler Runtime:python:3.6 Env:[{Name:V3IO_FRAMESD Value:framesd.default-tenant.svc:8080 ValueFrom:nil} {Name:V3IO_USERNAME Value:iguazio ValueFrom:nil} {Name:V3IO_ACCESS_KEY Value:64c94a79-7a41-4b13-bb7f-a3c9e9860eaf ValueFrom:nil} {Name:FEATURES_TABLE Value:netops_features ValueFrom:nil} {Name:TRAIN_ON_LAST Value:7d ValueFrom:nil} {Name:TRAIN_SIZE Value:0.7 ValueFrom:nil} {Name:NUMBER_OF_SHARDS Value:4 ValueFrom:nil} {Name:MODEL_FILENAME Value:netops.v2.model.pickle ValueFrom:nil} {Name:MODEL_DIR Value:/bigdata/netops/models ValueFrom:nil} {Name:CURRENT_MODEL_DIR Value:/models ValueFrom:nil}] Resources:{Limits:map[] Requests:map[]} Image:docker-registry.default-tenant.app.fmdvvoebjfpx.iguazio-cd2.com:80/nuclio/processor-predict:latest ImageHash:1558213387736524718 Replicas:0 MinReplicas:0 MaxReplicas:0 TargetCPU:0 DataBindings:map[] Triggers:map[retrain:{Class: Kind:cron Disabled:false MaxWorkers:0 URL: Paths:[] Username: Password: Secret: Partitions:[] Annotations:map[] WorkerAvailabilityTimeoutMilliseconds:0 WorkerAllocatorName: TotalTasks:0 MaxTaskAllocation:0 Attributes:map[interval:1h]}] Volumes:[] Version:-1 Alias:latest Build:{Path: FunctionSourceCode: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 FunctionConfigPath: TempDir: Registry:docker-registry.default-tenant.app.fmdvvoebjfpx.iguazio-cd2.com:80 Image: NoBaseImagesPull:true NoCache:false NoCleanup:false BaseImage:python:3.6-jessie Commands:[pip install pyarrow pip install pandas pip install v3io_frames --upgrade pip install scikit-learn==0.20.1 pip install xgboost --upgrade pip install dask[\\\"complete\\\"] --upgrade pip install dask-ml[\\\"complete\\\"] --upgrade apt-get update && apt-get install -y wget mkdir -p /v3io/bigdata/netops/models wget -O /v3io/bigdata/netops/models/netops.v2.model.pickle --header \\\"x-v3io-session-key: 64c94a79-7a41-4b13-bb7f-a3c9e9860eaf\\\" http://10.233.6.224:8081/bigdata/netops/models/netops.v2.model.pickle] Directives:map[] ScriptPaths:[] AddedObjectPaths:map[] Dependencies:[] OnbuildImage: Offline:true RuntimeAttributes:map[] CodeEntryType: CodeEntryAttributes:map[] Timestamp:1558213397 Mode:} RunRegistry:docker-registry.default-tenant.app.fmdvvoebjfpx.iguazio-cd2.com:80 RuntimeAttributes:map[] LoggerSinks:[] DealerURI: Platform:{Attributes:map[]} ReadinessTimeoutSeconds:0 Avatar: ServiceType:NodePort ImagePullPolicy:}} PlatformConfig:<nil>} || platformConfig=&{Kind:kube WebAdmin:{Enabled:<nil> ListenAddress:} HealthCheck:{Enabled:<nil> ListenAddress:} Logger:{Sinks:map[myStdoutLoggerSink:{Kind:stdout URL: Attributes:map[varGroupName:more encoding:json timeFieldEncoding:iso8601 timeFieldName:time]}] System:[{Level:debug Sink:myStdoutLoggerSink}] Functions:[{Level:debug Sink:myStdoutLoggerSink}]} Metrics:{Sinks:map[] System:[] Functions:[]} ScaleToZero:{MetricName: WindowSize: PollerInterval: ScalerInterval:} AutoScale:{MetricName: TargetValue:} FunctionAugmentedConfigs:[]}\"}{\"level\":\"debug\",\"time\":\"2019-05-18T21:03:44.453Z\",\"name\":\"processor.cron\",\"message\":\"Creating worker pool\",\"more\":\"num=1\"}{\"level\":\"debug\",\"time\":\"2019-05-18T21:03:44.454Z\",\"name\":\"processor.cron.w0.python.logger\",\"message\":\"Creating listener socket\",\"more\":\"path=/tmp/nuclio-rpc-bjg76c4bbt8000dpkn10.sock\"}{\"level\":\"debug\",\"time\":\"2019-05-18T21:03:44.454Z\",\"name\":\"processor.cron.w0.python.logger\",\"message\":\"Using Python wrapper script path\",\"more\":\"path=/opt/nuclio/_nuclio_wrapper.py\"}{\"level\":\"debug\",\"time\":\"2019-05-18T21:03:44.454Z\",\"name\":\"processor.cron.w0.python.logger\",\"message\":\"Using Python handler\",\"more\":\"handler=handler:handler\"}{\"level\":\"debug\",\"time\":\"2019-05-18T21:03:44.454Z\",\"name\":\"processor.cron.w0.python.logger\",\"message\":\"Using Python executable\",\"more\":\"path=/usr/local/bin/python3\"}{\"level\":\"debug\",\"time\":\"2019-05-18T21:03:44.454Z\",\"name\":\"processor.cron.w0.python.logger\",\"message\":\"Setting PYTHONPATH\",\"more\":\"value=PYTHONPATH=/opt/nuclio\"}{\"level\":\"debug\",\"time\":\"2019-05-18T21:03:44.454Z\",\"name\":\"processor.cron.w0.python.logger\",\"message\":\"Running wrapper\",\"more\":\"command=/usr/local/bin/python3 -u /opt/nuclio/_nuclio_wrapper.py --handler handler:handler --socket-path /tmp/nuclio-rpc-bjg76c4bbt8000dpkn10.sock --platform-kind kube --namespace default-tenant --worker-id 0 --trigger-name \"}{\"level\":\"info\",\"time\":\"2019-05-18T21:03:45.706Z\",\"name\":\"processor.cron.w0.python.logger\",\"message\":\"Wrapper connected\"}{\"level\":\"debug\",\"time\":\"2019-05-18T21:03:45.706Z\",\"name\":\"processor.cron.w0.python.logger\",\"message\":\"Waiting for start\"}Python> 2019-05-18 21:03:45,706 [info] Replacing logger output{\"level\":\"warn\",\"time\":\"2019-05-18T21:03:46.123Z\",\"name\":\"processor.cron.w0.python.logger\",\"message\":\"Caught unhandled exception while initializing\",\"err\":\"[Errno 2] No such file or directory: '/models/netops.v2.model.pickle'\",\"traceback\":\"Traceback (most recent call last):\\n  File \\\"/opt/nuclio/_nuclio_wrapper.py\\\", line 233, in run_wrapper\\n    args.trigger_name)\\n  File \\\"/opt/nuclio/_nuclio_wrapper.py\\\", line 60, in __init__\\n    getattr(entrypoint_module, 'init_context')(self._context)\\n  File \\\"/opt/nuclio/handler.py\\\", line 43, in init_context\\n    with open(model_path, 'rb+') as f:\\nFileNotFoundError: [Errno 2] No such file or directory: '/models/netops.v2.model.pickle'\\n\"}distributed.process - WARNING - reaping stray process <ForkServerProcess(ForkServerProcess-4, started daemon)>distributed.process - WARNING - reaping stray process <ForkServerProcess(ForkServerProcess-1, started daemon)>distributed.process - WARNING - reaping stray process <ForkServerProcess(ForkServerProcess-2, started daemon)>distributed.process - WARNING - reaping stray process <ForkServerProcess(ForkServerProcess-3, started daemon)>distributed.nanny - WARNING - Worker process 71 was killed by unknown signalTraceback (most recent call last):Traceback (most recent call last):  File \"/usr/local/lib/python3.6/multiprocessing/queues.py\", line 240, in _feed    send_bytes(obj)  File \"/usr/local/lib/python3.6/multiprocessing/queues.py\", line 240, in _feed    send_bytes(obj)  File \"/usr/local/lib/python3.6/multiprocessing/connection.py\", line 200, in send_bytes    self._send_bytes(m[offset:offset + size])  File \"/usr/local/lib/python3.6/multiprocessing/connection.py\", line 200, in send_bytes    self._send_bytes(m[offset:offset + size])  File \"/usr/local/lib/python3.6/multiprocessing/connection.py\", line 404, in _send_bytes    self._send(header + buf)  File \"/usr/local/lib/python3.6/multiprocessing/connection.py\", line 404, in _send_bytes    self._send(header + buf)  File \"/usr/local/lib/python3.6/multiprocessing/connection.py\", line 368, in _send    n = write(self._handle, buf)BrokenPipeError: [Errno 32] Broken pipe  File \"/usr/local/lib/python3.6/multiprocessing/connection.py\", line 368, in _send    n = write(self._handle, buf)BrokenPipeError: [Errno 32] Broken pipedistributed.nanny - WARNING - Worker process 66 was killed by unknown signaldistributed.nanny - WARNING - Worker process 69 was killed by unknown signaldistributed.nanny - WARNING - Worker process 67 was killed by unknown signal{\"level\":\"warn\",\"time\":\"2019-05-18T21:03:46.292Z\",\"name\":\"processor.cron.w0.python.logger\",\"message\":\"Failed to read from connection\",\"err\":\"EOF\"}\n",
      "%nuclio: * predict-86584bb4f-xs7xs\n",
      "%nuclio: {\"level\":\"debug\",\"time\":\"2019-05-18T21:01:30.921Z\",\"name\":\"processor\",\"message\":\"Read configuration\",\"more\":\"config=&{Config:{Meta:{Name:predict Namespace:default-tenant Labels:map[] Annotations:map[]} Spec:{Description: Disabled:false Publish:false Handler:handler:handler Runtime:python:3.6 Env:[{Name:V3IO_FRAMESD Value:framesd.default-tenant.svc:8080 ValueFrom:nil} {Name:V3IO_USERNAME Value:iguazio ValueFrom:nil} {Name:V3IO_ACCESS_KEY Value:64c94a79-7a41-4b13-bb7f-a3c9e9860eaf ValueFrom:nil} {Name:FEATURES_TABLE Value:netops_features ValueFrom:nil} {Name:TRAIN_ON_LAST Value:7d ValueFrom:nil} {Name:TRAIN_SIZE Value:0.7 ValueFrom:nil} {Name:NUMBER_OF_SHARDS Value:4 ValueFrom:nil} {Name:MODEL_FILENAME Value:netops.v2.model.pickle ValueFrom:nil} {Name:MODEL_DIR Value:/bigdata/netops/models ValueFrom:nil} {Name:CURRENT_MODEL_DIR Value:/models ValueFrom:nil}] Resources:{Limits:map[] Requests:map[]} Image:docker-registry.default-tenant.app.fmdvvoebjfpx.iguazio-cd2.com:80/nuclio/processor-predict:latest ImageHash:1558212821466369206 Replicas:0 MinReplicas:0 MaxReplicas:0 TargetCPU:0 DataBindings:map[] Triggers:map[retrain:{Class: Kind:cron Disabled:false MaxWorkers:0 URL: Paths:[] Username: Password: Secret: Partitions:[] Annotations:map[] WorkerAvailabilityTimeoutMilliseconds:0 WorkerAllocatorName: TotalTasks:0 MaxTaskAllocation:0 Attributes:map[interval:1h]}] Volumes:[] Version:-1 Alias:latest Build:{Path: FunctionSourceCode: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 FunctionConfigPath: TempDir: Registry:docker-registry.default-tenant.app.fmdvvoebjfpx.iguazio-cd2.com:80 Image: NoBaseImagesPull:true NoCache:false NoCleanup:false BaseImage:python:3.6-jessie Commands:[pip install pyarrow pip install pandas pip install v3io_frames --upgrade pip install scikit-learn==0.20.1 pip install xgboost --upgrade pip install dask[\\\"complete\\\"] --upgrade pip install dask-ml[\\\"complete\\\"] --upgrade apt-get update && apt-get install -y wget mkdir -p /v3io/bigdata/netops/models wget -O /v3io/bigdata/netops/models/netops.v2.model.pickle --header \\\"x-v3io-session-key: 64c94a79-7a41-4b13-bb7f-a3c9e9860eaf\\\" http://10.233.6.224:8081/bigdata/netops/models/netops.v2.model.pickle] Directives:map[] ScriptPaths:[] AddedObjectPaths:map[] Dependencies:[] OnbuildImage: Offline:true RuntimeAttributes:map[] CodeEntryType: CodeEntryAttributes:map[] Timestamp:1558212831 Mode:} RunRegistry:docker-registry.default-tenant.app.fmdvvoebjfpx.iguazio-cd2.com:80 RuntimeAttributes:map[] LoggerSinks:[] DealerURI: Platform:{Attributes:map[]} ReadinessTimeoutSeconds:0 Avatar: ServiceType:NodePort ImagePullPolicy:}} PlatformConfig:<nil>} || platformConfig=&{Kind:kube WebAdmin:{Enabled:<nil> ListenAddress:} HealthCheck:{Enabled:<nil> ListenAddress:} Logger:{Sinks:map[myStdoutLoggerSink:{Kind:stdout URL: Attributes:map[encoding:json timeFieldEncoding:iso8601 timeFieldName:time varGroupName:more]}] System:[{Level:debug Sink:myStdoutLoggerSink}] Functions:[{Level:debug Sink:myStdoutLoggerSink}]} Metrics:{Sinks:map[] System:[] Functions:[]} ScaleToZero:{MetricName: WindowSize: PollerInterval: ScalerInterval:} AutoScale:{MetricName: TargetValue:} FunctionAugmentedConfigs:[]}\"}{\"level\":\"debug\",\"time\":\"2019-05-18T21:01:30.921Z\",\"name\":\"processor.cron\",\"message\":\"Creating worker pool\",\"more\":\"num=1\"}{\"level\":\"debug\",\"time\":\"2019-05-18T21:01:30.921Z\",\"name\":\"processor.cron.w0.python.logger\",\"message\":\"Creating listener socket\",\"more\":\"path=/tmp/nuclio-rpc-bjg75akik9og00dvtn6g.sock\"}{\"level\":\"debug\",\"time\":\"2019-05-18T21:01:30.921Z\",\"name\":\"processor.cron.w0.python.logger\",\"message\":\"Using Python wrapper script path\",\"more\":\"path=/opt/nuclio/_nuclio_wrapper.py\"}{\"level\":\"debug\",\"time\":\"2019-05-18T21:01:30.921Z\",\"name\":\"processor.cron.w0.python.logger\",\"message\":\"Using Python handler\",\"more\":\"handler=handler:handler\"}{\"level\":\"debug\",\"time\":\"2019-05-18T21:01:30.921Z\",\"name\":\"processor.cron.w0.python.logger\",\"message\":\"Using Python executable\",\"more\":\"path=/usr/local/bin/python3\"}{\"level\":\"debug\",\"time\":\"2019-05-18T21:01:30.921Z\",\"name\":\"processor.cron.w0.python.logger\",\"message\":\"Setting PYTHONPATH\",\"more\":\"value=PYTHONPATH=/opt/nuclio\"}{\"level\":\"debug\",\"time\":\"2019-05-18T21:01:30.921Z\",\"name\":\"processor.cron.w0.python.logger\",\"message\":\"Running wrapper\",\"more\":\"command=/usr/local/bin/python3 -u /opt/nuclio/_nuclio_wrapper.py --handler handler:handler --socket-path /tmp/nuclio-rpc-bjg75akik9og00dvtn6g.sock --platform-kind kube --namespace default-tenant --worker-id 0 --trigger-name \"}{\"level\":\"info\",\"time\":\"2019-05-18T21:01:32.179Z\",\"name\":\"processor.cron.w0.python.logger\",\"message\":\"Wrapper connected\"}{\"level\":\"debug\",\"time\":\"2019-05-18T21:01:32.179Z\",\"name\":\"processor.cron.w0.python.logger\",\"message\":\"Waiting for start\"}Python> 2019-05-18 21:01:32,179 [info] Replacing logger output{\"level\":\"warn\",\"time\":\"2019-05-18T21:01:32.602Z\",\"name\":\"processor.cron.w0.python.logger\",\"message\":\"Caught unhandled exception while initializing\",\"err\":\"[Errno 2] No such file or directory: '/models/netops.v2.model.pickle'\",\"traceback\":\"Traceback (most recent call last):\\n  File \\\"/opt/nuclio/_nuclio_wrapper.py\\\", line 233, in run_wrapper\\n    args.trigger_name)\\n  File \\\"/opt/nuclio/_nuclio_wrapper.py\\\", line 60, in __init__\\n    getattr(entrypoint_module, 'init_context')(self._context)\\n  File \\\"/opt/nuclio/handler.py\\\", line 43, in init_context\\n    with open(model_path, 'rb+') as f:\\nFileNotFoundError: [Errno 2] No such file or directory: '/models/netops.v2.model.pickle'\\n\"}distributed.process - WARNING - reaping stray process <ForkServerProcess(ForkServerProcess-4, started daemon)>distributed.process - WARNING - reaping stray process <ForkServerProcess(ForkServerProcess-2, started daemon)>distributed.process - WARNING - reaping stray process <ForkServerProcess(ForkServerProcess-3, started daemon)>distributed.process - WARNING - reaping stray process <ForkServerProcess(ForkServerProcess-1, started daemon)>distributed.nanny - WARNING - Worker process 70 was killed by unknown signalTraceback (most recent call last):  File \"/usr/local/lib/python3.6/multiprocessing/queues.py\", line 240, in _feed    send_bytes(obj)  File \"/usr/local/lib/python3.6/multiprocessing/connection.py\", line 200, in send_bytes    self._send_bytes(m[offset:offset + size])  File \"/usr/local/lib/python3.6/multiprocessing/connection.py\", line 404, in _send_bytes    self._send(header + buf)  File \"/usr/local/lib/python3.6/multiprocessing/connection.py\", line 368, in _send    n = write(self._handle, buf)BrokenPipeError: [Errno 32] Broken pipedistributed.nanny - WARNING - Worker process 66 was killed by unknown signaldistributed.nanny - WARNING - Worker process 65 was killed by unknown signaldistributed.nanny - WARNING - Worker process 68 was killed by unknown signal{\"level\":\"warn\",\"time\":\"2019-05-18T21:01:32.758Z\",\"name\":\"processor.cron.w0.python.logger\",\"message\":\"Failed to read from connection\",\"err\":\"EOF\"}\n",
      "%nuclio:     .../nuclio/nuclio/pkg/platform/kube/deployer.go:157\n",
      "%nuclio: Failed to wait for function readiness.\n",
      "%nuclio: \n",
      "%nuclio: Pod logs:\n",
      "%nuclio: \n",
      "%nuclio: * predict-7458bb6998-nrzg7\n",
      "%nuclio: {\"level\":\"debug\",\"time\":\"2019-05-18T21:03:44.453Z\",\"name\":\"processor\",\"message\":\"Read configuration\",\"more\":\"config=&{Config:{Meta:{Name:predict Namespace:default-tenant Labels:map[] Annotations:map[]} Spec:{Description: Disabled:false Publish:false Handler:handler:handler Runtime:python:3.6 Env:[{Name:V3IO_FRAMESD Value:framesd.default-tenant.svc:8080 ValueFrom:nil} {Name:V3IO_USERNAME Value:iguazio ValueFrom:nil} {Name:V3IO_ACCESS_KEY Value:64c94a79-7a41-4b13-bb7f-a3c9e9860eaf ValueFrom:nil} {Name:FEATURES_TABLE Value:netops_features ValueFrom:nil} {Name:TRAIN_ON_LAST Value:7d ValueFrom:nil} {Name:TRAIN_SIZE Value:0.7 ValueFrom:nil} {Name:NUMBER_OF_SHARDS Value:4 ValueFrom:nil} {Name:MODEL_FILENAME Value:netops.v2.model.pickle ValueFrom:nil} {Name:MODEL_DIR Value:/bigdata/netops/models ValueFrom:nil} {Name:CURRENT_MODEL_DIR Value:/models ValueFrom:nil}] Resources:{Limits:map[] Requests:map[]} Image:docker-registry.default-tenant.app.fmdvvoebjfpx.iguazio-cd2.com:80/nuclio/processor-predict:latest ImageHash:1558213387736524718 Replicas:0 MinReplicas:0 MaxReplicas:0 TargetCPU:0 DataBindings:map[] Triggers:map[retrain:{Class: Kind:cron Disabled:false MaxWorkers:0 URL: Paths:[] Username: Password: Secret: Partitions:[] Annotations:map[] WorkerAvailabilityTimeoutMilliseconds:0 WorkerAllocatorName: TotalTasks:0 MaxTaskAllocation:0 Attributes:map[interval:1h]}] Volumes:[] Version:-1 Alias:latest Build:{Path: FunctionSourceCode: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 FunctionConfigPath: TempDir: Registry:docker-registry.default-tenant.app.fmdvvoebjfpx.iguazio-cd2.com:80 Image: NoBaseImagesPull:true NoCache:false NoCleanup:false BaseImage:python:3.6-jessie Commands:[pip install pyarrow pip install pandas pip install v3io_frames --upgrade pip install scikit-learn==0.20.1 pip install xgboost --upgrade pip install dask[\\\"complete\\\"] --upgrade pip install dask-ml[\\\"complete\\\"] --upgrade apt-get update && apt-get install -y wget mkdir -p /v3io/bigdata/netops/models wget -O /v3io/bigdata/netops/models/netops.v2.model.pickle --header \\\"x-v3io-session-key: 64c94a79-7a41-4b13-bb7f-a3c9e9860eaf\\\" http://10.233.6.224:8081/bigdata/netops/models/netops.v2.model.pickle] Directives:map[] ScriptPaths:[] AddedObjectPaths:map[] Dependencies:[] OnbuildImage: Offline:true RuntimeAttributes:map[] CodeEntryType: CodeEntryAttributes:map[] Timestamp:1558213397 Mode:} RunRegistry:docker-registry.default-tenant.app.fmdvvoebjfpx.iguazio-cd2.com:80 RuntimeAttributes:map[] LoggerSinks:[] DealerURI: Platform:{Attributes:map[]} ReadinessTimeoutSeconds:0 Avatar: ServiceType:NodePort ImagePullPolicy:}} PlatformConfig:<nil>} || platformConfig=&{Kind:kube WebAdmin:{Enabled:<nil> ListenAddress:} HealthCheck:{Enabled:<nil> ListenAddress:} Logger:{Sinks:map[myStdoutLoggerSink:{Kind:stdout URL: Attributes:map[varGroupName:more encoding:json timeFieldEncoding:iso8601 timeFieldName:time]}] System:[{Level:debug Sink:myStdoutLoggerSink}] Functions:[{Level:debug Sink:myStdoutLoggerSink}]} Metrics:{Sinks:map[] System:[] Functions:[]} ScaleToZero:{MetricName: WindowSize: PollerInterval: ScalerInterval:} AutoScale:{MetricName: TargetValue:} FunctionAugmentedConfigs:[]}\"}{\"level\":\"debug\",\"time\":\"2019-05-18T21:03:44.453Z\",\"name\":\"processor.cron\",\"message\":\"Creating worker pool\",\"more\":\"num=1\"}{\"level\":\"debug\",\"time\":\"2019-05-18T21:03:44.454Z\",\"name\":\"processor.cron.w0.python.logger\",\"message\":\"Creating listener socket\",\"more\":\"path=/tmp/nuclio-rpc-bjg76c4bbt8000dpkn10.sock\"}{\"level\":\"debug\",\"time\":\"2019-05-18T21:03:44.454Z\",\"name\":\"processor.cron.w0.python.logger\",\"message\":\"Using Python wrapper script path\",\"more\":\"path=/opt/nuclio/_nuclio_wrapper.py\"}{\"level\":\"debug\",\"time\":\"2019-05-18T21:03:44.454Z\",\"name\":\"processor.cron.w0.python.logger\",\"message\":\"Using Python handler\",\"more\":\"handler=handler:handler\"}{\"level\":\"debug\",\"time\":\"2019-05-18T21:03:44.454Z\",\"name\":\"processor.cron.w0.python.logger\",\"message\":\"Using Python executable\",\"more\":\"path=/usr/local/bin/python3\"}{\"level\":\"debug\",\"time\":\"2019-05-18T21:03:44.454Z\",\"name\":\"processor.cron.w0.python.logger\",\"message\":\"Setting PYTHONPATH\",\"more\":\"value=PYTHONPATH=/opt/nuclio\"}{\"level\":\"debug\",\"time\":\"2019-05-18T21:03:44.454Z\",\"name\":\"processor.cron.w0.python.logger\",\"message\":\"Running wrapper\",\"more\":\"command=/usr/local/bin/python3 -u /opt/nuclio/_nuclio_wrapper.py --handler handler:handler --socket-path /tmp/nuclio-rpc-bjg76c4bbt8000dpkn10.sock --platform-kind kube --namespace default-tenant --worker-id 0 --trigger-name \"}{\"level\":\"info\",\"time\":\"2019-05-18T21:03:45.706Z\",\"name\":\"processor.cron.w0.python.logger\",\"message\":\"Wrapper connected\"}{\"level\":\"debug\",\"time\":\"2019-05-18T21:03:45.706Z\",\"name\":\"processor.cron.w0.python.logger\",\"message\":\"Waiting for start\"}Python> 2019-05-18 21:03:45,706 [info] Replacing logger output{\"level\":\"warn\",\"time\":\"2019-05-18T21:03:46.123Z\",\"name\":\"processor.cron.w0.python.logger\",\"message\":\"Caught unhandled exception while initializing\",\"err\":\"[Errno 2] No such file or directory: '/models/netops.v2.model.pickle'\",\"traceback\":\"Traceback (most recent call last):\\n  File \\\"/opt/nuclio/_nuclio_wrapper.py\\\", line 233, in run_wrapper\\n    args.trigger_name)\\n  File \\\"/opt/nuclio/_nuclio_wrapper.py\\\", line 60, in __init__\\n    getattr(entrypoint_module, 'init_context')(self._context)\\n  File \\\"/opt/nuclio/handler.py\\\", line 43, in init_context\\n    with open(model_path, 'rb+') as f:\\nFileNotFoundError: [Errno 2] No such file or directory: '/models/netops.v2.model.pickle'\\n\"}distributed.process - WARNING - reaping stray process <ForkServerProcess(ForkServerProcess-4, started daemon)>distributed.process - WARNING - reaping stray process <ForkServerProcess(ForkServerProcess-1, started daemon)>distributed.process - WARNING - reaping stray process <ForkServerProcess(ForkServerProcess-2, started daemon)>distributed.process - WARNING - reaping stray process <ForkServerProcess(ForkServerProcess-3, started daemon)>distributed.nanny - WARNING - Worker process 71 was killed by unknown signalTraceback (most recent call last):Traceback (most recent call last):  File \"/usr/local/lib/python3.6/multiprocessing/queues.py\", line 240, in _feed    send_bytes(obj)  File \"/usr/local/lib/python3.6/multiprocessing/queues.py\", line 240, in _feed    send_bytes(obj)  File \"/usr/local/lib/python3.6/multiprocessing/connection.py\", line 200, in send_bytes    self._send_bytes(m[offset:offset + size])  File \"/usr/local/lib/python3.6/multiprocessing/connection.py\", line 200, in send_bytes    self._send_bytes(m[offset:offset + size])  File \"/usr/local/lib/python3.6/multiprocessing/connection.py\", line 404, in _send_bytes    self._send(header + buf)  File \"/usr/local/lib/python3.6/multiprocessing/connection.py\", line 404, in _send_bytes    self._send(header + buf)  File \"/usr/local/lib/python3.6/multiprocessing/connection.py\", line 368, in _send    n = write(self._handle, buf)BrokenPipeError: [Errno 32] Broken pipe  File \"/usr/local/lib/python3.6/multiprocessing/connection.py\", line 368, in _send    n = write(self._handle, buf)BrokenPipeError: [Errno 32] Broken pipedistributed.nanny - WARNING - Worker process 66 was killed by unknown signaldistributed.nanny - WARNING - Worker process 69 was killed by unknown signaldistributed.nanny - WARNING - Worker process 67 was killed by unknown signal{\"level\":\"warn\",\"time\":\"2019-05-18T21:03:46.292Z\",\"name\":\"processor.cron.w0.python.logger\",\"message\":\"Failed to read from connection\",\"err\":\"EOF\"}\n",
      "%nuclio: * predict-86584bb4f-xs7xs\n",
      "%nuclio: {\"level\":\"debug\",\"time\":\"2019-05-18T21:01:30.921Z\",\"name\":\"processor\",\"message\":\"Read configuration\",\"more\":\"config=&{Config:{Meta:{Name:predict Namespace:default-tenant Labels:map[] Annotations:map[]} Spec:{Description: Disabled:false Publish:false Handler:handler:handler Runtime:python:3.6 Env:[{Name:V3IO_FRAMESD Value:framesd.default-tenant.svc:8080 ValueFrom:nil} {Name:V3IO_USERNAME Value:iguazio ValueFrom:nil} {Name:V3IO_ACCESS_KEY Value:64c94a79-7a41-4b13-bb7f-a3c9e9860eaf ValueFrom:nil} {Name:FEATURES_TABLE Value:netops_features ValueFrom:nil} {Name:TRAIN_ON_LAST Value:7d ValueFrom:nil} {Name:TRAIN_SIZE Value:0.7 ValueFrom:nil} {Name:NUMBER_OF_SHARDS Value:4 ValueFrom:nil} {Name:MODEL_FILENAME Value:netops.v2.model.pickle ValueFrom:nil} {Name:MODEL_DIR Value:/bigdata/netops/models ValueFrom:nil} {Name:CURRENT_MODEL_DIR Value:/models ValueFrom:nil}] Resources:{Limits:map[] Requests:map[]} Image:docker-registry.default-tenant.app.fmdvvoebjfpx.iguazio-cd2.com:80/nuclio/processor-predict:latest ImageHash:1558212821466369206 Replicas:0 MinReplicas:0 MaxReplicas:0 TargetCPU:0 DataBindings:map[] Triggers:map[retrain:{Class: Kind:cron Disabled:false MaxWorkers:0 URL: Paths:[] Username: Password: Secret: Partitions:[] Annotations:map[] WorkerAvailabilityTimeoutMilliseconds:0 WorkerAllocatorName: TotalTasks:0 MaxTaskAllocation:0 Attributes:map[interval:1h]}] Volumes:[] Version:-1 Alias:latest Build:{Path: FunctionSourceCode:IyBHZW5lcmF0ZWQgYnkgbnVjbGlvLmV4cG9ydC5OdWNsaW9FeHBvcnRlciBvbiAyMDE5LTA1LTE4IDIwOjUzCgppbXBvcnQgb3MKaW1wb3J0IHBpY2tsZQoKaW1wb3J0IHYzaW9fZnJhbWVzIGFzIHYzZgpmcm9tIGRhc2suZGlzdHJpYnV0ZWQgaW1wb3J0IENsaWVudAoKaW1wb3J0IHBhbmRhcyBhcyBwZAppbXBvcnQgc2tsZWFybgpmcm9tIGRhc2tfbWwud3JhcHBlcnMgaW1wb3J0IFBhcmFsbGVsUG9zdEZpdApmcm9tIGRhc2tfbWwgaW1wb3J0IHhnYm9vc3QgYXMgeGdiCgpkZWYgZ2V0X2RhdGEoY29udGV4dCk6CiAgICBkZiA9IGNvbnRleHQudjNmLnJlYWQoYmFja2VuZD0ndHNkYicsIHF1ZXJ5PWYnc2VsZWN0ICogZnJvbSB7Y29udGV4dC5mZWF0dXJlc190YWJsZX0nLAogICAgICAgICAgICAgICAgICAgICAgICAgIHN0YXJ0PWYnbm93LXtjb250ZXh0LnRyYWluX29uX2xhc3R9JywgZW5kPSdub3cnLCBtdWx0aV9pbmRleD1UcnVlKQogICAgZGYgPSBkZi5yZXNldF9pbmRleChkcm9wPVRydWUpCiAgICBkZiA9IGRkLmZyb21fcGFuZGFzKGRmLCBucGFydGl0aW9ucz1jb250ZXh0LnNoYXJkcykKICAgIHJldHVybiBkZgoKZGVmIGdldF90cmFpbl90ZXN0X3NldHNfZnJvbV9kYXRhKGNvbnRleHQsIGRmOiBwZC5EYXRhRnJhbWUpOgogICAgZHJvcF9jb2x1bW5zID0gW2NvbCBmb3IgY29sIGluIGRmLmNvbHVtbnMgaWYgJ2lzX2Vycm9yJyBpbiBjb2xdCiAgICBYID0gZGYuZHJvcChkcm9wX2NvbHVtbnMsIGF4aXM9MSkKICAgIHkgPSBkZi5sb2NbOiwgJ2lzX2Vycm9yJ10KICAgIFhfdHJhaW4sIFhfdGVzdCwgeV90cmFpbiwgeV90ZXN0ID0gZGN2LnRyYWluX3Rlc3Rfc3BsaXQoWCwgeSwgdHJhaW5fc2l6ZT1jb250ZXh0LnRyYWluX3NpemUsIHRlc3Rfc2l6ZT0xLWNvbnRleHQudHJhaW5fc2l6ZSkKICAgIHJldHVybiBYX3RyYWluLCBYX3Rlc3QsIHlfdHJhaW4sIHlfdGVzdAoKZGVmIGluaXRfY29udGV4dChjb250ZXh0KToKICAgIAogICAgdjNpb19jbGllbnQgPSB2M2YuQ2xpZW50KGFkZHJlc3M9J2h0dHA6Ly8nICsgb3MuZ2V0ZW52KCdWM0lPX0ZSQU1FU0QnLCAnZnJhbWVzZDo4MDgxJyksIAogICAgICAgICAgICAgICAgICAgICAgICBjb250YWluZXI9J2JpZ2RhdGEnLCAKICAgICAgICAgICAgICAgICAgICAgICAgcGFzc3dvcmQ9b3MuZW52aXJvblsnVjNJT19BQ0NFU1NfS0VZJ10sIAogICAgICAgICAgICAgICAgICAgICAgICB1c2VyPW9zLmVudmlyb25bJ1YzSU9fVVNFUk5BTUUnXSkKICAgIHNldGF0dHIoY29udGV4dCwgJ3YzZicsIHYzaW9fY2xpZW50KQogICAgCiAgICBkYXNrX2NsaWVudCA9IENsaWVudCgpCiAgICBzZXRhdHRyKGNvbnRleHQsICdkYXNrJywgZGFza19jbGllbnQpCiAgICAKICAgIGZlYXR1cmVzX3RhYmxlID0gb3MuZ2V0ZW52KCdGRUFUVVJFU19UQUJMRScsICduZXRvcHNfZmVhdHVyZXMnKQogICAgc2V0YXR0cihjb250ZXh0LCAnZmVhdHVyZXNfdGFibGUnLCBmZWF0dXJlc190YWJsZSkKICAgIAogICAgbW9kZWxfcGF0aCA9IG9zLnBhdGguam9pbihvcy5nZXRlbnYoJ0NVUlJFTlRfTU9ERUxfRElSJywgJy9tb2RlbHMnKSwgb3MuZ2V0ZW52KCdNT0RFTF9GSUxFTkFNRScsICduZXRvcHMudjEubW9kZWwnKSkKICAgIHdpdGggb3Blbihtb2RlbF9wYXRoLCAncmIrJykgYXMgZjoKICAgICAgICBtb2RlbCA9IHBpY2tsZS5sb2FkKGYpCiAgICBjbGYgPSBQYXJhbGxlbFBvc3RGaXQoZXN0aW1hdG9yPW1vZGVsLAogICAgICAgICAgICAgICAgICAgICAgICAgIHNjb3Jpbmc9J2FjY3VyYWN5JykKICAgIHNldGF0dHIoY29udGV4dCwgJ21vZGVsJywgY2xmKQoKZGVmIGhhbmRsZXIoY29udGV4dCwgZXZlbnQpOgoKICAgIGRmID0gY29udGV4dC52M2YucmVhZChiYWNrZW5kPSd0c2RiJywgcXVlcnk9ZidzZWxlY3QgKiBmcm9tIHtjb250ZXh0LmZlYXR1cmVzX3RhYmxlfScsIHN0YXJ0PSJub3ctMWgiLCBlbmQ9J25vdycsIG11bHRpX2luZGV4PVRydWUpCiAgICAKICAgIGRmWydwcmVkaWN0aW9uJ10gPSBjb250ZXh0Lm1vZGVsLnByZWRpY3QoZGYpCiAgICAKICAgIGRmLnJlc2V0X2luZGV4KGlucGxhY2U9VHJ1ZSkKICAgIGNvbnRleHQudjNmLndyaXRlKGJhY2tlbmQ9J3RzZGInLCB0YWJsZT0nbmV0b3BzX3ByZWRpY3Rpb25zJywgZGZzPVtkZl0sIGluZGV4X2NvbHM9Wydjb21wYW55JywgJ2RhdGFfY2VudGVyJywgJ2RldmljZScsICd0aW1lJ10pCgo= FunctionConfigPath: TempDir: Registry:docker-registry.default-tenant.app.fmdvvoebjfpx.iguazio-cd2.com:80 Image: NoBaseImagesPull:true NoCache:false NoCleanup:false BaseImage:python:3.6-jessie Commands:[pip install pyarrow pip install pandas pip install v3io_frames --upgrade pip install scikit-learn==0.20.1 pip install xgboost --upgrade pip install dask[\\\"complete\\\"] --upgrade pip install dask-ml[\\\"complete\\\"] --upgrade apt-get update && apt-get install -y wget mkdir -p /v3io/bigdata/netops/models wget -O /v3io/bigdata/netops/models/netops.v2.model.pickle --header \\\"x-v3io-session-key: 64c94a79-7a41-4b13-bb7f-a3c9e9860eaf\\\" http://10.233.6.224:8081/bigdata/netops/models/netops.v2.model.pickle] Directives:map[] ScriptPaths:[] AddedObjectPaths:map[] Dependencies:[] OnbuildImage: Offline:true RuntimeAttributes:map[] CodeEntryType: CodeEntryAttributes:map[] Timestamp:1558212831 Mode:} RunRegistry:docker-registry.default-tenant.app.fmdvvoebjfpx.iguazio-cd2.com:80 RuntimeAttributes:map[] LoggerSinks:[] DealerURI: Platform:{Attributes:map[]} ReadinessTimeoutSeconds:0 Avatar: ServiceType:NodePort ImagePullPolicy:}} PlatformConfig:<nil>} || platformConfig=&{Kind:kube WebAdmin:{Enabled:<nil> ListenAddress:} HealthCheck:{Enabled:<nil> ListenAddress:} Logger:{Sinks:map[myStdoutLoggerSink:{Kind:stdout URL: Attributes:map[encoding:json timeFieldEncoding:iso8601 timeFieldName:time varGroupName:more]}] System:[{Level:debug Sink:myStdoutLoggerSink}] Functions:[{Level:debug Sink:myStdoutLoggerSink}]} Metrics:{Sinks:map[] System:[] Functions:[]} ScaleToZero:{MetricName: WindowSize: PollerInterval: ScalerInterval:} AutoScale:{MetricName: TargetValue:} FunctionAugmentedConfigs:[]}\"}{\"level\":\"debug\",\"time\":\"2019-05-18T21:01:30.921Z\",\"name\":\"processor.cron\",\"message\":\"Creating worker pool\",\"more\":\"num=1\"}{\"level\":\"debug\",\"time\":\"2019-05-18T21:01:30.921Z\",\"name\":\"processor.cron.w0.python.logger\",\"message\":\"Creating listener socket\",\"more\":\"path=/tmp/nuclio-rpc-bjg75akik9og00dvtn6g.sock\"}{\"level\":\"debug\",\"time\":\"2019-05-18T21:01:30.921Z\",\"name\":\"processor.cron.w0.python.logger\",\"message\":\"Using Python wrapper script path\",\"more\":\"path=/opt/nuclio/_nuclio_wrapper.py\"}{\"level\":\"debug\",\"time\":\"2019-05-18T21:01:30.921Z\",\"name\":\"processor.cron.w0.python.logger\",\"message\":\"Using Python handler\",\"more\":\"handler=handler:handler\"}{\"level\":\"debug\",\"time\":\"2019-05-18T21:01:30.921Z\",\"name\":\"processor.cron.w0.python.logger\",\"message\":\"Using Python executable\",\"more\":\"path=/usr/local/bin/python3\"}{\"level\":\"debug\",\"time\":\"2019-05-18T21:01:30.921Z\",\"name\":\"processor.cron.w0.python.logger\",\"message\":\"Setting PYTHONPATH\",\"more\":\"value=PYTHONPATH=/opt/nuclio\"}{\"level\":\"debug\",\"time\":\"2019-05-18T21:01:30.921Z\",\"name\":\"processor.cron.w0.python.logger\",\"message\":\"Running wrapper\",\"more\":\"command=/usr/local/bin/python3 -u /opt/nuclio/_nuclio_wrapper.py --handler handler:handler --socket-path /tmp/nuclio-rpc-bjg75akik9og00dvtn6g.sock --platform-kind kube --namespace default-tenant --worker-id 0 --trigger-name \"}{\"level\":\"info\",\"time\":\"2019-05-18T21:01:32.179Z\",\"name\":\"processor.cron.w0.python.logger\",\"message\":\"Wrapper connected\"}{\"level\":\"debug\",\"time\":\"2019-05-18T21:01:32.179Z\",\"name\":\"processor.cron.w0.python.logger\",\"message\":\"Waiting for start\"}Python> 2019-05-18 21:01:32,179 [info] Replacing logger output{\"level\":\"warn\",\"time\":\"2019-05-18T21:01:32.602Z\",\"name\":\"processor.cron.w0.python.logger\",\"message\":\"Caught unhandled exception while initializing\",\"err\":\"[Errno 2] No such file or directory: '/models/netops.v2.model.pickle'\",\"traceback\":\"Traceback (most recent call last):\\n  File \\\"/opt/nuclio/_nuclio_wrapper.py\\\", line 233, in run_wrapper\\n    args.trigger_name)\\n  File \\\"/opt/nuclio/_nuclio_wrapper.py\\\", line 60, in __init__\\n    getattr(entrypoint_module, 'init_context')(self._context)\\n  File \\\"/opt/nuclio/handler.py\\\", line 43, in init_context\\n    with open(model_path, 'rb+') as f:\\nFileNotFoundError: [Errno 2] No such file or directory: '/models/netops.v2.model.pickle'\\n\"}distributed.process - WARNING - reaping stray process <ForkServerProcess(ForkServerProcess-4, started daemon)>distributed.process - WARNING - reaping stray process <ForkServerProcess(ForkServerProcess-2, started daemon)>distributed.process - WARNING - reaping stray process <ForkServerProcess(ForkServerProcess-3, started daemon)>distributed.process - WARNING - reaping stray process <ForkServerProcess(ForkServerProcess-1, started daemon)>distributed.nanny - WARNING - Worker process 70 was killed by unknown signalTraceback (most recent call last):  File \"/usr/local/lib/python3.6/multiprocessing/queues.py\", line 240, in _feed    send_bytes(obj)  File \"/usr/local/lib/python3.6/multiprocessing/connection.py\", line 200, in send_bytes    self._send_bytes(m[offset:offset + size])  File \"/usr/local/lib/python3.6/multiprocessing/connection.py\", line 404, in _send_bytes    self._send(header + buf)  File \"/usr/local/lib/python3.6/multiprocessing/connection.py\", line 368, in _send    n = write(self._handle, buf)BrokenPipeError: [Errno 32] Broken pipedistributed.nanny - WARNING - Worker process 66 was killed by unknown signaldistributed.nanny - WARNING - Worker process 65 was killed by unknown signaldistributed.nanny - WARNING - Worker process 68 was killed by unknown signal{\"level\":\"warn\",\"time\":\"2019-05-18T21:01:32.758Z\",\"name\":\"processor.cron.w0.python.logger\",\"message\":\"Failed to read from connection\",\"err\":\"EOF\"}\n"
     ]
    },
    {
     "name": "stderr",
     "output_type": "stream",
     "text": [
      "%nuclio: cannot deploy\n",
      "%nuclio: Invalid -W option ignored: invalid action: 'yaml.YAMLLoadWarning'\n",
      "error: cannot deploy\n"
     ]
    }
   ],
   "source": [
    "%nuclio deploy -p netops -n predict -c"
   ]
  },
  {
   "cell_type": "code",
   "execution_count": null,
   "metadata": {},
   "outputs": [],
   "source": []
  }
 ],
 "metadata": {
  "kernelspec": {
   "display_name": "Python 3",
   "language": "python",
   "name": "python3"
  },
  "language_info": {
   "codemirror_mode": {
    "name": "ipython",
    "version": 3
   },
   "file_extension": ".py",
   "mimetype": "text/x-python",
   "name": "python",
   "nbconvert_exporter": "python",
   "pygments_lexer": "ipython3",
   "version": "3.6.8"
  }
 },
 "nbformat": 4,
 "nbformat_minor": 2
}
