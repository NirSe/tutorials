{
 "cells": [
  {
   "cell_type": "code",
   "execution_count": 42,
   "metadata": {},
   "outputs": [
    {
     "data": {
      "text/html": [
       "\n",
       "    <div class=\"bk-root\">\n",
       "        <a href=\"https://bokeh.pydata.org\" target=\"_blank\" class=\"bk-logo bk-logo-small bk-logo-notebook\"></a>\n",
       "        <span id=\"87f36432-b167-4327-9a09-dd2428de771c\">Loading BokehJS ...</span>\n",
       "    </div>"
      ]
     },
     "metadata": {},
     "output_type": "execute_result"
    },
    {
     "data": {},
     "metadata": {},
     "output_type": "display_data"
    }
   ],
   "source": [
    "# !pip install v3io_frames\n",
    "# !pip install dask distributed\n",
    "# !pip install 'bokeh==0.13.0'\n",
    "\n",
    "import os\n",
    "\n",
    "# Dataframes\n",
    "import v3io_frames as v3f\n",
    "import dask.dataframe as dd\n",
    "from dask.distributed import Client, progress\n",
    "import pandas as pd\n",
    "import numpy as np\n",
    "\n",
    "# Visualizations\n",
    "import matplotlib.pyplot as plt; plt.rcdefaults()\n",
    "from bokeh.plotting import figure, show\n",
    "from bokeh.io import output_notebook\n",
    "from bokeh.layouts import column, row, gridplot\n",
    "from bokeh.models import ColumnDataSource\n",
    "from bokeh.palettes import Spectral11\n",
    "import seaborn as sns; sns.set()\n",
    "\n",
    "\n",
    "output_notebook()\n",
    "%matplotlib inline"
   ]
  },
  {
   "cell_type": "code",
   "execution_count": 43,
   "metadata": {},
   "outputs": [
    {
     "name": "stderr",
     "output_type": "stream",
     "text": [
      "/User/.pythonlibs/lib/python3.6/site-packages/distributed/bokeh/core.py:57: UserWarning: \n",
      "Port 8787 is already in use. \n",
      "Perhaps you already have a cluster running?\n",
      "Hosting the diagnostics dashboard on a random port instead.\n",
      "  warnings.warn('\\n' + msg)\n"
     ]
    },
    {
     "data": {
      "text/html": [
       "<table style=\"border: 2px solid white;\">\n",
       "<tr>\n",
       "<td style=\"vertical-align: top; border: 0px solid white\">\n",
       "<h3>Client</h3>\n",
       "<ul>\n",
       "  <li><b>Scheduler: </b>tcp://127.0.0.1:34453\n",
       "  <li><b>Dashboard: </b><a href='http://127.0.0.1:41341/status' target='_blank'>http://127.0.0.1:41341/status</a>\n",
       "</ul>\n",
       "</td>\n",
       "<td style=\"vertical-align: top; border: 0px solid white\">\n",
       "<h3>Cluster</h3>\n",
       "<ul>\n",
       "  <li><b>Workers: </b>2</li>\n",
       "  <li><b>Cores: </b>4</li>\n",
       "  <li><b>Memory: </b>4.00 GB</li>\n",
       "</ul>\n",
       "</td>\n",
       "</tr>\n",
       "</table>"
      ],
      "text/plain": [
       "<Client: scheduler='tcp://127.0.0.1:34453' processes=2 cores=4>"
      ]
     },
     "execution_count": 43,
     "metadata": {},
     "output_type": "execute_result"
    }
   ],
   "source": [
    "dask_client = Client(n_workers=2, threads_per_worker=2, memory_limit='2GB')\n",
    "dask_client"
   ]
  },
  {
   "cell_type": "markdown",
   "metadata": {},
   "source": [
    "## Load data\n",
    "Using the time-series DB"
   ]
  },
  {
   "cell_type": "code",
   "execution_count": 45,
   "metadata": {},
   "outputs": [
    {
     "name": "stderr",
     "output_type": "stream",
     "text": [
      "/User/.pythonlibs/lib/python3.6/site-packages/v3io_frames/pdutils.py:39: FutureWarning: Sorting because non-concatenation axis is not aligned. A future version\n",
      "of pandas will change to not sort by default.\n",
      "\n",
      "To accept the future behavior, pass 'sort=False'.\n",
      "\n",
      "To retain the current behavior and silence the warning, pass 'sort=True'.\n",
      "\n",
      "  ignore_index=True,\n"
     ]
    },
    {
     "data": {
      "text/html": [
       "<div>\n",
       "<style scoped>\n",
       "    .dataframe tbody tr th:only-of-type {\n",
       "        vertical-align: middle;\n",
       "    }\n",
       "\n",
       "    .dataframe tbody tr th {\n",
       "        vertical-align: top;\n",
       "    }\n",
       "\n",
       "    .dataframe thead th {\n",
       "        text-align: right;\n",
       "    }\n",
       "</style>\n",
       "<table border=\"1\" class=\"dataframe\">\n",
       "  <thead>\n",
       "    <tr style=\"text-align: right;\">\n",
       "      <th></th>\n",
       "      <th>time</th>\n",
       "      <th>company</th>\n",
       "      <th>data_center</th>\n",
       "      <th>device</th>\n",
       "      <th>cpu_utilization</th>\n",
       "      <th>cpu_utilization_is_error</th>\n",
       "      <th>is_error</th>\n",
       "      <th>latency</th>\n",
       "      <th>latency_is_error</th>\n",
       "      <th>packet_loss</th>\n",
       "      <th>packet_loss_is_error</th>\n",
       "      <th>throughput</th>\n",
       "      <th>throughput_is_error</th>\n",
       "    </tr>\n",
       "  </thead>\n",
       "  <tbody>\n",
       "    <tr>\n",
       "      <th>0</th>\n",
       "      <td>2019-02-20 14:50:56.303</td>\n",
       "      <td>Ingram_LLC</td>\n",
       "      <td>Evans_Lane</td>\n",
       "      <td>3838035706969</td>\n",
       "      <td>65.27</td>\n",
       "      <td>0.0</td>\n",
       "      <td>0.0</td>\n",
       "      <td>1.65</td>\n",
       "      <td>0.0</td>\n",
       "      <td>0.0</td>\n",
       "      <td>0.0</td>\n",
       "      <td>232.47</td>\n",
       "      <td>0.0</td>\n",
       "    </tr>\n",
       "    <tr>\n",
       "      <th>1</th>\n",
       "      <td>2019-02-20 14:51:02.303</td>\n",
       "      <td>Ingram_LLC</td>\n",
       "      <td>Evans_Lane</td>\n",
       "      <td>3838035706969</td>\n",
       "      <td>67.09</td>\n",
       "      <td>0.0</td>\n",
       "      <td>0.0</td>\n",
       "      <td>4.10</td>\n",
       "      <td>0.0</td>\n",
       "      <td>0.0</td>\n",
       "      <td>0.0</td>\n",
       "      <td>227.66</td>\n",
       "      <td>0.0</td>\n",
       "    </tr>\n",
       "    <tr>\n",
       "      <th>2</th>\n",
       "      <td>2019-02-20 14:51:08.303</td>\n",
       "      <td>Ingram_LLC</td>\n",
       "      <td>Evans_Lane</td>\n",
       "      <td>3838035706969</td>\n",
       "      <td>61.04</td>\n",
       "      <td>0.0</td>\n",
       "      <td>0.0</td>\n",
       "      <td>0.38</td>\n",
       "      <td>0.0</td>\n",
       "      <td>0.0</td>\n",
       "      <td>0.0</td>\n",
       "      <td>242.31</td>\n",
       "      <td>0.0</td>\n",
       "    </tr>\n",
       "    <tr>\n",
       "      <th>3</th>\n",
       "      <td>2019-02-20 14:51:14.303</td>\n",
       "      <td>Ingram_LLC</td>\n",
       "      <td>Evans_Lane</td>\n",
       "      <td>3838035706969</td>\n",
       "      <td>62.56</td>\n",
       "      <td>0.0</td>\n",
       "      <td>0.0</td>\n",
       "      <td>0.00</td>\n",
       "      <td>0.0</td>\n",
       "      <td>0.0</td>\n",
       "      <td>0.0</td>\n",
       "      <td>248.33</td>\n",
       "      <td>0.0</td>\n",
       "    </tr>\n",
       "    <tr>\n",
       "      <th>4</th>\n",
       "      <td>2019-02-20 14:51:20.303</td>\n",
       "      <td>Ingram_LLC</td>\n",
       "      <td>Evans_Lane</td>\n",
       "      <td>3838035706969</td>\n",
       "      <td>66.14</td>\n",
       "      <td>0.0</td>\n",
       "      <td>0.0</td>\n",
       "      <td>0.07</td>\n",
       "      <td>0.0</td>\n",
       "      <td>1.0</td>\n",
       "      <td>0.0</td>\n",
       "      <td>240.79</td>\n",
       "      <td>0.0</td>\n",
       "    </tr>\n",
       "  </tbody>\n",
       "</table>\n",
       "</div>"
      ],
      "text/plain": [
       "                     time     company data_center         device  \\\n",
       "0 2019-02-20 14:50:56.303  Ingram_LLC  Evans_Lane  3838035706969   \n",
       "1 2019-02-20 14:51:02.303  Ingram_LLC  Evans_Lane  3838035706969   \n",
       "2 2019-02-20 14:51:08.303  Ingram_LLC  Evans_Lane  3838035706969   \n",
       "3 2019-02-20 14:51:14.303  Ingram_LLC  Evans_Lane  3838035706969   \n",
       "4 2019-02-20 14:51:20.303  Ingram_LLC  Evans_Lane  3838035706969   \n",
       "\n",
       "   cpu_utilization  cpu_utilization_is_error  is_error  latency  \\\n",
       "0            65.27                       0.0       0.0     1.65   \n",
       "1            67.09                       0.0       0.0     4.10   \n",
       "2            61.04                       0.0       0.0     0.38   \n",
       "3            62.56                       0.0       0.0     0.00   \n",
       "4            66.14                       0.0       0.0     0.07   \n",
       "\n",
       "   latency_is_error  packet_loss  packet_loss_is_error  throughput  \\\n",
       "0               0.0          0.0                   0.0      232.47   \n",
       "1               0.0          0.0                   0.0      227.66   \n",
       "2               0.0          0.0                   0.0      242.31   \n",
       "3               0.0          0.0                   0.0      248.33   \n",
       "4               0.0          1.0                   0.0      240.79   \n",
       "\n",
       "   throughput_is_error  \n",
       "0                  0.0  \n",
       "1                  0.0  \n",
       "2                  0.0  \n",
       "3                  0.0  \n",
       "4                  0.0  "
      ]
     },
     "execution_count": 45,
     "metadata": {},
     "output_type": "execute_result"
    }
   ],
   "source": [
    "client = v3f.Client('framesd-h7a26fh1yk-ncymt:8081', token=os.environ['V3IO_ACCESS_KEY'])\n",
    "df = dd.from_pandas(client.read(backend='tsdb', query='select * from netops_metrics_jupyter',\n",
    "            start=\"now-2d\", end='now+1d', multi_index=True).reset_index(), npartitions=4)\n",
    "df.head(5)"
   ]
  },
  {
   "cell_type": "markdown",
   "metadata": {},
   "source": [
    "Reading as CSV file and processing in parallel with Dask"
   ]
  },
  {
   "cell_type": "markdown",
   "metadata": {},
   "source": [
    "## Sample device"
   ]
  },
  {
   "cell_type": "code",
   "execution_count": 47,
   "metadata": {},
   "outputs": [
    {
     "data": {
      "text/html": [
       "<div>\n",
       "<style scoped>\n",
       "    .dataframe tbody tr th:only-of-type {\n",
       "        vertical-align: middle;\n",
       "    }\n",
       "\n",
       "    .dataframe tbody tr th {\n",
       "        vertical-align: top;\n",
       "    }\n",
       "\n",
       "    .dataframe thead th {\n",
       "        text-align: right;\n",
       "    }\n",
       "</style>\n",
       "<table border=\"1\" class=\"dataframe\">\n",
       "  <thead>\n",
       "    <tr style=\"text-align: right;\">\n",
       "      <th></th>\n",
       "      <th>time</th>\n",
       "      <th>company</th>\n",
       "      <th>data_center</th>\n",
       "      <th>device</th>\n",
       "      <th>cpu_utilization</th>\n",
       "      <th>cpu_utilization_is_error</th>\n",
       "      <th>is_error</th>\n",
       "      <th>latency</th>\n",
       "      <th>latency_is_error</th>\n",
       "      <th>packet_loss</th>\n",
       "      <th>packet_loss_is_error</th>\n",
       "      <th>throughput</th>\n",
       "      <th>throughput_is_error</th>\n",
       "    </tr>\n",
       "  </thead>\n",
       "  <tbody>\n",
       "    <tr>\n",
       "      <th>0</th>\n",
       "      <td>2019-02-20 14:50:56.303</td>\n",
       "      <td>Ingram_LLC</td>\n",
       "      <td>Evans_Lane</td>\n",
       "      <td>3838035706969</td>\n",
       "      <td>65.27</td>\n",
       "      <td>0.0</td>\n",
       "      <td>0.0</td>\n",
       "      <td>1.65</td>\n",
       "      <td>0.0</td>\n",
       "      <td>0.0</td>\n",
       "      <td>0.0</td>\n",
       "      <td>232.47</td>\n",
       "      <td>0.0</td>\n",
       "    </tr>\n",
       "    <tr>\n",
       "      <th>1</th>\n",
       "      <td>2019-02-20 14:51:02.303</td>\n",
       "      <td>Ingram_LLC</td>\n",
       "      <td>Evans_Lane</td>\n",
       "      <td>3838035706969</td>\n",
       "      <td>67.09</td>\n",
       "      <td>0.0</td>\n",
       "      <td>0.0</td>\n",
       "      <td>4.10</td>\n",
       "      <td>0.0</td>\n",
       "      <td>0.0</td>\n",
       "      <td>0.0</td>\n",
       "      <td>227.66</td>\n",
       "      <td>0.0</td>\n",
       "    </tr>\n",
       "    <tr>\n",
       "      <th>2</th>\n",
       "      <td>2019-02-20 14:51:08.303</td>\n",
       "      <td>Ingram_LLC</td>\n",
       "      <td>Evans_Lane</td>\n",
       "      <td>3838035706969</td>\n",
       "      <td>61.04</td>\n",
       "      <td>0.0</td>\n",
       "      <td>0.0</td>\n",
       "      <td>0.38</td>\n",
       "      <td>0.0</td>\n",
       "      <td>0.0</td>\n",
       "      <td>0.0</td>\n",
       "      <td>242.31</td>\n",
       "      <td>0.0</td>\n",
       "    </tr>\n",
       "    <tr>\n",
       "      <th>3</th>\n",
       "      <td>2019-02-20 14:51:14.303</td>\n",
       "      <td>Ingram_LLC</td>\n",
       "      <td>Evans_Lane</td>\n",
       "      <td>3838035706969</td>\n",
       "      <td>62.56</td>\n",
       "      <td>0.0</td>\n",
       "      <td>0.0</td>\n",
       "      <td>0.00</td>\n",
       "      <td>0.0</td>\n",
       "      <td>0.0</td>\n",
       "      <td>0.0</td>\n",
       "      <td>248.33</td>\n",
       "      <td>0.0</td>\n",
       "    </tr>\n",
       "    <tr>\n",
       "      <th>4</th>\n",
       "      <td>2019-02-20 14:51:20.303</td>\n",
       "      <td>Ingram_LLC</td>\n",
       "      <td>Evans_Lane</td>\n",
       "      <td>3838035706969</td>\n",
       "      <td>66.14</td>\n",
       "      <td>0.0</td>\n",
       "      <td>0.0</td>\n",
       "      <td>0.07</td>\n",
       "      <td>0.0</td>\n",
       "      <td>1.0</td>\n",
       "      <td>0.0</td>\n",
       "      <td>240.79</td>\n",
       "      <td>0.0</td>\n",
       "    </tr>\n",
       "    <tr>\n",
       "      <th>5</th>\n",
       "      <td>2019-02-20 14:51:26.303</td>\n",
       "      <td>Ingram_LLC</td>\n",
       "      <td>Evans_Lane</td>\n",
       "      <td>3838035706969</td>\n",
       "      <td>69.82</td>\n",
       "      <td>0.0</td>\n",
       "      <td>0.0</td>\n",
       "      <td>10.46</td>\n",
       "      <td>0.0</td>\n",
       "      <td>0.0</td>\n",
       "      <td>0.0</td>\n",
       "      <td>237.56</td>\n",
       "      <td>0.0</td>\n",
       "    </tr>\n",
       "    <tr>\n",
       "      <th>6</th>\n",
       "      <td>2019-02-20 14:51:32.303</td>\n",
       "      <td>Ingram_LLC</td>\n",
       "      <td>Evans_Lane</td>\n",
       "      <td>3838035706969</td>\n",
       "      <td>64.17</td>\n",
       "      <td>0.0</td>\n",
       "      <td>0.0</td>\n",
       "      <td>0.00</td>\n",
       "      <td>0.0</td>\n",
       "      <td>2.0</td>\n",
       "      <td>0.0</td>\n",
       "      <td>257.27</td>\n",
       "      <td>0.0</td>\n",
       "    </tr>\n",
       "    <tr>\n",
       "      <th>7</th>\n",
       "      <td>2019-02-20 14:51:38.303</td>\n",
       "      <td>Ingram_LLC</td>\n",
       "      <td>Evans_Lane</td>\n",
       "      <td>3838035706969</td>\n",
       "      <td>70.08</td>\n",
       "      <td>0.0</td>\n",
       "      <td>0.0</td>\n",
       "      <td>0.00</td>\n",
       "      <td>0.0</td>\n",
       "      <td>0.0</td>\n",
       "      <td>0.0</td>\n",
       "      <td>264.08</td>\n",
       "      <td>0.0</td>\n",
       "    </tr>\n",
       "    <tr>\n",
       "      <th>8</th>\n",
       "      <td>2019-02-20 14:51:44.303</td>\n",
       "      <td>Ingram_LLC</td>\n",
       "      <td>Evans_Lane</td>\n",
       "      <td>3838035706969</td>\n",
       "      <td>58.85</td>\n",
       "      <td>0.0</td>\n",
       "      <td>0.0</td>\n",
       "      <td>0.00</td>\n",
       "      <td>0.0</td>\n",
       "      <td>0.0</td>\n",
       "      <td>0.0</td>\n",
       "      <td>217.16</td>\n",
       "      <td>0.0</td>\n",
       "    </tr>\n",
       "    <tr>\n",
       "      <th>9</th>\n",
       "      <td>2019-02-20 14:51:50.303</td>\n",
       "      <td>Ingram_LLC</td>\n",
       "      <td>Evans_Lane</td>\n",
       "      <td>3838035706969</td>\n",
       "      <td>75.83</td>\n",
       "      <td>0.0</td>\n",
       "      <td>0.0</td>\n",
       "      <td>0.00</td>\n",
       "      <td>0.0</td>\n",
       "      <td>0.0</td>\n",
       "      <td>0.0</td>\n",
       "      <td>233.58</td>\n",
       "      <td>0.0</td>\n",
       "    </tr>\n",
       "  </tbody>\n",
       "</table>\n",
       "</div>"
      ],
      "text/plain": [
       "                     time     company data_center         device  \\\n",
       "0 2019-02-20 14:50:56.303  Ingram_LLC  Evans_Lane  3838035706969   \n",
       "1 2019-02-20 14:51:02.303  Ingram_LLC  Evans_Lane  3838035706969   \n",
       "2 2019-02-20 14:51:08.303  Ingram_LLC  Evans_Lane  3838035706969   \n",
       "3 2019-02-20 14:51:14.303  Ingram_LLC  Evans_Lane  3838035706969   \n",
       "4 2019-02-20 14:51:20.303  Ingram_LLC  Evans_Lane  3838035706969   \n",
       "5 2019-02-20 14:51:26.303  Ingram_LLC  Evans_Lane  3838035706969   \n",
       "6 2019-02-20 14:51:32.303  Ingram_LLC  Evans_Lane  3838035706969   \n",
       "7 2019-02-20 14:51:38.303  Ingram_LLC  Evans_Lane  3838035706969   \n",
       "8 2019-02-20 14:51:44.303  Ingram_LLC  Evans_Lane  3838035706969   \n",
       "9 2019-02-20 14:51:50.303  Ingram_LLC  Evans_Lane  3838035706969   \n",
       "\n",
       "   cpu_utilization  cpu_utilization_is_error  is_error  latency  \\\n",
       "0            65.27                       0.0       0.0     1.65   \n",
       "1            67.09                       0.0       0.0     4.10   \n",
       "2            61.04                       0.0       0.0     0.38   \n",
       "3            62.56                       0.0       0.0     0.00   \n",
       "4            66.14                       0.0       0.0     0.07   \n",
       "5            69.82                       0.0       0.0    10.46   \n",
       "6            64.17                       0.0       0.0     0.00   \n",
       "7            70.08                       0.0       0.0     0.00   \n",
       "8            58.85                       0.0       0.0     0.00   \n",
       "9            75.83                       0.0       0.0     0.00   \n",
       "\n",
       "   latency_is_error  packet_loss  packet_loss_is_error  throughput  \\\n",
       "0               0.0          0.0                   0.0      232.47   \n",
       "1               0.0          0.0                   0.0      227.66   \n",
       "2               0.0          0.0                   0.0      242.31   \n",
       "3               0.0          0.0                   0.0      248.33   \n",
       "4               0.0          1.0                   0.0      240.79   \n",
       "5               0.0          0.0                   0.0      237.56   \n",
       "6               0.0          2.0                   0.0      257.27   \n",
       "7               0.0          0.0                   0.0      264.08   \n",
       "8               0.0          0.0                   0.0      217.16   \n",
       "9               0.0          0.0                   0.0      233.58   \n",
       "\n",
       "   throughput_is_error  \n",
       "0                  0.0  \n",
       "1                  0.0  \n",
       "2                  0.0  \n",
       "3                  0.0  \n",
       "4                  0.0  \n",
       "5                  0.0  \n",
       "6                  0.0  \n",
       "7                  0.0  \n",
       "8                  0.0  \n",
       "9                  0.0  "
      ]
     },
     "execution_count": 47,
     "metadata": {},
     "output_type": "execute_result"
    }
   ],
   "source": [
    "sample_device = df[(df['company'] == 'Ingram_LLC') & (df['data_center'] == 'Evans_Lane') & (df['device'] == '3838035706969')]\n",
    "sample_device.head(10)"
   ]
  },
  {
   "cell_type": "markdown",
   "metadata": {},
   "source": [
    "### Metrics"
   ]
  },
  {
   "cell_type": "code",
   "execution_count": 48,
   "metadata": {},
   "outputs": [
    {
     "data": {
      "text/html": [
       "\n",
       "\n",
       "\n",
       "\n",
       "\n",
       "\n",
       "  <div class=\"bk-root\" id=\"42a6a777-31c6-4b30-b1ff-e530bd5ff47c\"></div>\n"
      ]
     },
     "metadata": {},
     "output_type": "execute_result"
    },
    {
     "data": {},
     "metadata": {
      "application/vnd.bokehjs_exec.v0+json": {
       "id": "b3b22f94-ac86-4b17-bfcb-12e8c2f585cd"
      }
     },
     "output_type": "display_data"
    },
    {
     "name": "stdout",
     "output_type": "stream",
     "text": [
      "count    1000.000000\n",
      "mean       70.845860\n",
      "std        11.369051\n",
      "min        39.830000\n",
      "25%        63.205000\n",
      "50%        70.675000\n",
      "75%        77.752500\n",
      "max       100.000000\n",
      "Name: cpu_utilization, dtype: float64\n"
     ]
    }
   ],
   "source": [
    "sample_component_performance = sample_device['cpu_utilization'].compute()\n",
    "p = figure(title=\"Sample Performance Generation [ CPU Utilization ]\",\n",
    "            x_axis_label=\"ticks\",\n",
    "            y_axis_label=\"CPU Utilization (%)\",\n",
    "            width=1200)\n",
    "p.line(x=range(len(sample_component_performance)), \n",
    "    y=sample_component_performance, \n",
    "    legend=\"Utilization (%)\")\n",
    "show(p)\n",
    "print(sample_component_performance.describe())"
   ]
  },
  {
   "cell_type": "code",
   "execution_count": 49,
   "metadata": {},
   "outputs": [
    {
     "data": {
      "text/html": [
       "\n",
       "\n",
       "\n",
       "\n",
       "\n",
       "\n",
       "  <div class=\"bk-root\" id=\"6a0cd111-de1b-4dff-9f97-dd1383c06e86\"></div>\n"
      ]
     },
     "metadata": {},
     "output_type": "execute_result"
    },
    {
     "data": {},
     "metadata": {
      "application/vnd.bokehjs_exec.v0+json": {
       "id": "999679dc-c51d-4743-8e30-c04464fdbea8"
      }
     },
     "output_type": "display_data"
    },
    {
     "name": "stdout",
     "output_type": "stream",
     "text": [
      "count    1000.000000\n",
      "mean        4.253630\n",
      "std        15.262356\n",
      "min         0.000000\n",
      "25%         0.000000\n",
      "50%         0.315000\n",
      "75%         3.522500\n",
      "max       100.000000\n",
      "Name: latency, dtype: float64\n"
     ]
    }
   ],
   "source": [
    "sample_component_performance = sample_device['latency'].compute()\n",
    "p = figure(title=\"Sample Performance Generation [ Latency ]\",\n",
    "            x_axis_label=\"ticks\",\n",
    "            y_axis_label=\"Latency (ms)\",\n",
    "            width=1200)\n",
    "p.line(x=range(len(sample_component_performance)), \n",
    "    y=sample_component_performance, \n",
    "    legend=\"Latency (ms)\")\n",
    "show(p)\n",
    "print(sample_component_performance.describe())"
   ]
  },
  {
   "cell_type": "code",
   "execution_count": 50,
   "metadata": {},
   "outputs": [
    {
     "data": {
      "text/html": [
       "\n",
       "\n",
       "\n",
       "\n",
       "\n",
       "\n",
       "  <div class=\"bk-root\" id=\"441be07f-3c6c-4807-9350-6eed7802fa16\"></div>\n"
      ]
     },
     "metadata": {},
     "output_type": "execute_result"
    },
    {
     "data": {},
     "metadata": {
      "application/vnd.bokehjs_exec.v0+json": {
       "id": "0f61328b-f739-40b8-93b5-8bf1106ee7f7"
      }
     },
     "output_type": "display_data"
    },
    {
     "name": "stdout",
     "output_type": "stream",
     "text": [
      "count    1000.00000\n",
      "mean        1.92000\n",
      "std         7.31937\n",
      "min         0.00000\n",
      "25%         0.00000\n",
      "50%         0.00000\n",
      "75%         2.00000\n",
      "max        50.00000\n",
      "Name: packet_loss, dtype: float64\n"
     ]
    }
   ],
   "source": [
    "sample_component_performance = sample_device['packet_loss'].compute()\n",
    "p = figure(title=\"Sample Performance Generation [ Packet loss ]\",\n",
    "            x_axis_label=\"ticks\",\n",
    "            y_axis_label=\"Packet loss\",\n",
    "            width=1200)\n",
    "p.line(x=range(len(sample_component_performance)), \n",
    "    y=sample_component_performance, \n",
    "    legend=\"Packet loss\")\n",
    "show(p)\n",
    "print(sample_component_performance.describe())"
   ]
  },
  {
   "cell_type": "code",
   "execution_count": 51,
   "metadata": {},
   "outputs": [
    {
     "data": {
      "text/html": [
       "\n",
       "\n",
       "\n",
       "\n",
       "\n",
       "\n",
       "  <div class=\"bk-root\" id=\"f92f3f80-dbd9-4152-8b68-62bfda36cd5d\"></div>\n"
      ]
     },
     "metadata": {},
     "output_type": "execute_result"
    },
    {
     "data": {},
     "metadata": {
      "application/vnd.bokehjs_exec.v0+json": {
       "id": "5e51a8b5-07fa-457b-b325-563f1cc9ac46"
      }
     },
     "output_type": "display_data"
    },
    {
     "name": "stdout",
     "output_type": "stream",
     "text": [
      "count    1000.000000\n",
      "mean      245.423340\n",
      "std        38.282523\n",
      "min         0.000000\n",
      "25%       237.215000\n",
      "50%       249.885000\n",
      "75%       263.140000\n",
      "max       300.000000\n",
      "Name: throughput, dtype: float64\n"
     ]
    }
   ],
   "source": [
    "sample_component_performance = sample_device['throughput'].compute()\n",
    "p = figure(title=\"Sample Performance Generation [ Throughput ]\",\n",
    "            x_axis_label=\"ticks\",\n",
    "            y_axis_label=\"Throughput\",\n",
    "            width=1200)\n",
    "p.line(x=range(len(sample_component_performance)), \n",
    "    y=sample_component_performance, \n",
    "    legend=\"Throughput\")\n",
    "show(p)\n",
    "print(sample_component_performance.describe())"
   ]
  },
  {
   "cell_type": "code",
   "execution_count": 52,
   "metadata": {},
   "outputs": [
    {
     "data": {
      "text/html": [
       "\n",
       "\n",
       "\n",
       "\n",
       "\n",
       "\n",
       "  <div class=\"bk-root\" id=\"93bb9b15-2138-444b-b24d-749153d09b24\"></div>\n"
      ]
     },
     "metadata": {},
     "output_type": "execute_result"
    },
    {
     "data": {},
     "metadata": {
      "application/vnd.bokehjs_exec.v0+json": {
       "id": "f713aee8-f09e-422d-bb52-4522729cf5e2"
      }
     },
     "output_type": "display_data"
    }
   ],
   "source": [
    "sample_component_performance = sample_device['is_error'].compute()\n",
    "p = figure(title=\"Sample Performance Generation [ All + Error ]\",\n",
    "            x_axis_label=\"ticks\",\n",
    "            y_axis_label=\"Metrics\",\n",
    "            width=1200)\n",
    "p.line(x=range(len(sample_component_performance)), \n",
    "    y=sample_component_performance-5, \n",
    "    legend=\"Error\",\n",
    "    color='red')\n",
    "p.line(x=range(len(sample_component_performance)), \n",
    "    y=sample_device['cpu_utilization'].compute(), \n",
    "    legend=\"cpu_utilization\",\n",
    "    color='blue')\n",
    "p.line(x=range(len(sample_component_performance)), \n",
    "    y=sample_device['latency'].compute(), \n",
    "    legend=\"latency\",\n",
    "    color='green')\n",
    "p.line(x=range(len(sample_component_performance)), \n",
    "    y=sample_device['throughput'].compute(), \n",
    "    legend=\"throughput\",\n",
    "    color='black')\n",
    "p.line(x=range(len(sample_component_performance)), \n",
    "    y=sample_device['packet_loss'].compute(), \n",
    "    legend=\"packet_loss\",\n",
    "    color='orange')\n",
    "show(p)"
   ]
  },
  {
   "cell_type": "markdown",
   "metadata": {},
   "source": [
    "### Correlations"
   ]
  },
  {
   "cell_type": "code",
   "execution_count": 53,
   "metadata": {},
   "outputs": [
    {
     "data": {
      "text/html": [
       "<div>\n",
       "<style scoped>\n",
       "    .dataframe tbody tr th:only-of-type {\n",
       "        vertical-align: middle;\n",
       "    }\n",
       "\n",
       "    .dataframe tbody tr th {\n",
       "        vertical-align: top;\n",
       "    }\n",
       "\n",
       "    .dataframe thead th {\n",
       "        text-align: right;\n",
       "    }\n",
       "</style>\n",
       "<table border=\"1\" class=\"dataframe\">\n",
       "  <thead>\n",
       "    <tr style=\"text-align: right;\">\n",
       "      <th></th>\n",
       "      <th>cpu_utilization</th>\n",
       "      <th>latency</th>\n",
       "      <th>throughput</th>\n",
       "      <th>packet_loss</th>\n",
       "      <th>is_error</th>\n",
       "    </tr>\n",
       "  </thead>\n",
       "  <tbody>\n",
       "    <tr>\n",
       "      <th>cpu_utilization</th>\n",
       "      <td>1.000000</td>\n",
       "      <td>0.583826</td>\n",
       "      <td>-0.517928</td>\n",
       "      <td>0.567193</td>\n",
       "      <td>0.543071</td>\n",
       "    </tr>\n",
       "    <tr>\n",
       "      <th>latency</th>\n",
       "      <td>0.583826</td>\n",
       "      <td>1.000000</td>\n",
       "      <td>-0.739282</td>\n",
       "      <td>0.814194</td>\n",
       "      <td>0.794756</td>\n",
       "    </tr>\n",
       "    <tr>\n",
       "      <th>throughput</th>\n",
       "      <td>-0.517928</td>\n",
       "      <td>-0.739282</td>\n",
       "      <td>1.000000</td>\n",
       "      <td>-0.788669</td>\n",
       "      <td>-0.877884</td>\n",
       "    </tr>\n",
       "    <tr>\n",
       "      <th>packet_loss</th>\n",
       "      <td>0.567193</td>\n",
       "      <td>0.814194</td>\n",
       "      <td>-0.788669</td>\n",
       "      <td>1.000000</td>\n",
       "      <td>0.864913</td>\n",
       "    </tr>\n",
       "    <tr>\n",
       "      <th>is_error</th>\n",
       "      <td>0.543071</td>\n",
       "      <td>0.794756</td>\n",
       "      <td>-0.877884</td>\n",
       "      <td>0.864913</td>\n",
       "      <td>1.000000</td>\n",
       "    </tr>\n",
       "  </tbody>\n",
       "</table>\n",
       "</div>"
      ],
      "text/plain": [
       "                 cpu_utilization   latency  throughput  packet_loss  is_error\n",
       "cpu_utilization         1.000000  0.583826   -0.517928     0.567193  0.543071\n",
       "latency                 0.583826  1.000000   -0.739282     0.814194  0.794756\n",
       "throughput             -0.517928 -0.739282    1.000000    -0.788669 -0.877884\n",
       "packet_loss             0.567193  0.814194   -0.788669     1.000000  0.864913\n",
       "is_error                0.543071  0.794756   -0.877884     0.864913  1.000000"
      ]
     },
     "execution_count": 53,
     "metadata": {},
     "output_type": "execute_result"
    }
   ],
   "source": [
    "X = df.compute()\n",
    "correlations = X[['cpu_utilization', 'latency', 'throughput', 'packet_loss', 'is_error']].corr()\n",
    "correlations"
   ]
  },
  {
   "cell_type": "code",
   "execution_count": 54,
   "metadata": {},
   "outputs": [
    {
     "data": {
      "text/plain": [
       "<matplotlib.axes._subplots.AxesSubplot at 0x7f11dbd5c358>"
      ]
     },
     "execution_count": 54,
     "metadata": {},
     "output_type": "execute_result"
    },
    {
     "data": {
      "image/png": "[encoded data removed]",
      "text/plain": [
       "<Figure size 432x288 with 2 Axes>"
      ]
     },
     "metadata": {
      "needs_background": "light"
     },
     "output_type": "display_data"
    }
   ],
   "source": [
    "sns.heatmap(correlations)"
   ]
  },
  {
   "cell_type": "code",
   "execution_count": null,
   "metadata": {},
   "outputs": [],
   "source": []
  }
 ],
 "metadata": {
  "kernelspec": {
   "display_name": "Python 3",
   "language": "python",
   "name": "python3"
  },
  "language_info": {
   "codemirror_mode": {
    "name": "ipython",
    "version": 3
   },
   "file_extension": ".py",
   "mimetype": "text/x-python",
   "name": "python",
   "nbconvert_exporter": "python",
   "pygments_lexer": "ipython3",
   "version": "3.6.8"
  }
 },
 "nbformat": 4,
 "nbformat_minor": 2
}
