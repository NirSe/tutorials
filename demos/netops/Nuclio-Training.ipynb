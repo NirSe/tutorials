{
 "cells": [
  {
   "cell_type": "markdown",
   "metadata": {},
   "source": [
    "# Nuclio - Training function"
   ]
  },
  {
   "cell_type": "markdown",
   "metadata": {},
   "source": [
    "## Environment"
   ]
  },
  {
   "cell_type": "code",
   "execution_count": 1,
   "metadata": {},
   "outputs": [],
   "source": [
    "# nuclio: ignore\n",
    "import nuclio"
   ]
  },
  {
   "cell_type": "markdown",
   "metadata": {},
   "source": [
    "### Configurations"
   ]
  },
  {
   "cell_type": "code",
   "execution_count": 2,
   "metadata": {},
   "outputs": [
    {
     "name": "stdout",
     "output_type": "stream",
     "text": [
      "%nuclio: setting spec.triggers.retrain.kind to 'cron'\n",
      "%nuclio: setting spec.triggers.retrain.attributes.interval to '1h'\n",
      "%nuclio: setting spec.build.baseImage to 'python:3.6-jessie'\n"
     ]
    }
   ],
   "source": [
    "%%nuclio config\n",
    "\n",
    "# Trigger\n",
    "spec.triggers.retrain.kind = \"cron\"\n",
    "spec.triggers.retrain.attributes.interval = \"1h\"\n",
    "\n",
    "# Base image\n",
    "spec.build.baseImage = \"python:3.6-jessie\""
   ]
  },
  {
   "cell_type": "markdown",
   "metadata": {},
   "source": [
    "### Commands"
   ]
  },
  {
   "cell_type": "code",
   "execution_count": 91,
   "metadata": {},
   "outputs": [],
   "source": [
    "%%nuclio cmd -c\n",
    "\n",
    "############\n",
    "# installs #\n",
    "############\n",
    "\n",
    "# Utils\n",
    "pip install pyyaml\n",
    "pip install pyarrow\n",
    "pip install pandas\n",
    "pip install joblib\n",
    "\n",
    "# Igz DB\n",
    "pip install v3io_frames --upgrade\n",
    "\n",
    "# Function\n",
    "pip install scikit-learn==0.20.1\n",
    "pip install xgboost --upgrade\n",
    "pip install dask[\"complete\"] --upgrade\n",
    "pip install dask-ml[\"complete\"] --upgrade"
   ]
  },
  {
   "cell_type": "markdown",
   "metadata": {},
   "source": [
    "### Variables"
   ]
  },
  {
   "cell_type": "code",
   "execution_count": 92,
   "metadata": {},
   "outputs": [
    {
     "name": "stdout",
     "output_type": "stream",
     "text": [
      "%nuclio: setting 'V3IO_FRAMESD' environment variable\n",
      "%nuclio: setting 'V3IO_USERNAME' environment variable\n",
      "%nuclio: setting 'V3IO_ACCESS_KEY' environment variable\n",
      "%nuclio: setting '# FEATURES_TABLE' environment variable\n",
      "%nuclio: setting 'FEATURES_TABLE' environment variable\n",
      "%nuclio: setting 'FROM_TSDB' environment variable\n",
      "%nuclio: setting 'TRAIN_ON_LAST' environment variable\n",
      "%nuclio: setting 'TRAIN_SIZE' environment variable\n",
      "%nuclio: setting 'NUMBER_OF_SHARDS' environment variable\n",
      "%nuclio: setting 'MODEL_FILENAME' environment variable\n",
      "%nuclio: setting 'SAVE_TO' environment variable\n"
     ]
    },
    {
     "name": "stderr",
     "output_type": "stream",
     "text": [
      "%nuclio: cannot find \"=\" in line\n",
      "%nuclio: cannot find \"=\" in line\n",
      "%nuclio: cannot find \"=\" in line\n",
      "%nuclio: cannot find \"=\" in line\n",
      "%nuclio: cannot find \"=\" in line\n"
     ]
    }
   ],
   "source": [
    "%%nuclio env\n",
    "\n",
    "# DB Config\n",
    "V3IO_FRAMESD=${V3IO_FRAMESD}\n",
    "V3IO_USERNAME=${V3IO_USERNAME}\n",
    "V3IO_ACCESS_KEY=${V3IO_ACCESS_KEY}\n",
    "\n",
    "# Features\n",
    "# FEATURES_TABLE=/v3io/bigdata/netops_features_parquet\n",
    "FEATURES_TABLE=netops_features\n",
    "FROM_TSDB=1\n",
    "\n",
    "# Training\n",
    "TRAIN_ON_LAST=1d\n",
    "TRAIN_SIZE=0.7\n",
    "\n",
    "# Parallelizem\n",
    "NUMBER_OF_SHARDS=4\n",
    "\n",
    "# Model\n",
    "MODEL_FILENAME=netops.v3.model\n",
    "SAVE_TO=/v3io/bigdata/netops/models"
   ]
  },
  {
   "cell_type": "markdown",
   "metadata": {},
   "source": [
    "## Function"
   ]
  },
  {
   "cell_type": "markdown",
   "metadata": {},
   "source": [
    "### Imports"
   ]
  },
  {
   "cell_type": "code",
   "execution_count": 93,
   "metadata": {},
   "outputs": [],
   "source": [
    "# Utils\n",
    "import os\n",
    "import time\n",
    "import yaml\n",
    "import pandas as pd\n",
    "import datetime\n",
    "import itertools\n",
    "import pickle\n",
    "import joblib\n",
    "\n",
    "# DB Connection\n",
    "import v3io_frames as v3f\n",
    "\n",
    "# Parallelization\n",
    "import dask.dataframe as dd\n",
    "from dask.distributed import Client\n",
    "\n",
    "# Function\n",
    "import dask_ml.model_selection as dcv\n",
    "import xgboost as xgb"
   ]
  },
  {
   "cell_type": "markdown",
   "metadata": {},
   "source": [
    "### Helper functions"
   ]
  },
  {
   "cell_type": "code",
   "execution_count": 94,
   "metadata": {},
   "outputs": [],
   "source": [
    "def format_df_from_tsdb(context, df):\n",
    "    df.index.names = ['timestamp', 'company', 'data_center', 'device']\n",
    "    df = df.reset_index()\n",
    "    df = dd.from_pandas(df, npartitions=context.shards)\n",
    "    return df"
   ]
  },
  {
   "cell_type": "code",
   "execution_count": 95,
   "metadata": {},
   "outputs": [],
   "source": [
    "def get_data_tsdb(context):\n",
    "    df = context.v3f.read(backend='tsdb', query=f'select * from {context.features_table}',\n",
    "                          start=f'now-{context.train_on_last}', end='now', multi_index=True)\n",
    "    df = df.reset_index(drop=True)\n",
    "    df = df[sorted(df.columns)]\n",
    "    dd.from_pandas\n",
    "    df = dd.from_pandas(df, npartitions=context.shards)\n",
    "    return df"
   ]
  },
  {
   "cell_type": "code",
   "execution_count": 96,
   "metadata": {},
   "outputs": [],
   "source": [
    "def get_data_parquet(context):\n",
    "    # Get parquet files\n",
    "    mpath = [os.path.join(context.features_table, file) for file in os.listdir(context.features_table)]\n",
    "    \n",
    "    # Get latest filename\n",
    "    latest = max(mpath, key=os.path.getmtime)\n",
    "    print(latest)\n",
    "    context.logger.debug(f'Reading data from: {latest}')\n",
    "    \n",
    "    # Load parquet to dask\n",
    "    df = dd.read_parquet(latest)\n",
    "    \n",
    "    return df"
   ]
  },
  {
   "cell_type": "code",
   "execution_count": 97,
   "metadata": {},
   "outputs": [],
   "source": [
    "def get_train_test_sets_from_data(context, df: pd.DataFrame):\n",
    "    drop_columns = [col for col in df.columns if 'is_error' in col]\n",
    "    X = df.drop(drop_columns, axis=1)\n",
    "    y = df.loc[:, 'is_error']\n",
    "    X_train, X_test, y_train, y_test = dcv.train_test_split(X, y, train_size=context.train_size, test_size=1-context.train_size)\n",
    "    return X_train, X_test, y_train, y_test"
   ]
  },
  {
   "cell_type": "markdown",
   "metadata": {},
   "source": [
    "### Init context"
   ]
  },
  {
   "cell_type": "code",
   "execution_count": 98,
   "metadata": {},
   "outputs": [],
   "source": [
    "def init_context(context):\n",
    "    \n",
    "    # Get saving configuration\n",
    "    is_from_tsdb = (int(os.getenv('FROM_TSDB', 1)) == 1)\n",
    "    \n",
    "    # Save to TSDB\n",
    "    if is_from_tsdb:\n",
    "        # Create our DB client\n",
    "        v3io_client = v3f.Client(address='http://' + os.getenv('V3IO_FRAMESD', 'framesd:8081'), \n",
    "                            container='bigdata', \n",
    "                            password=os.environ['V3IO_ACCESS_KEY'], \n",
    "                            user=os.environ['V3IO_USERNAME'])\n",
    "        setattr(context, 'v3f', v3io_client)\n",
    "        \n",
    "        # Create features table if neede\n",
    "        context.v3f.create('tsdb', context.features_table, attrs={'rate': '1/s'}, if_exists=1)\n",
    "        \n",
    "        # Set TSDB reading function\n",
    "        setattr(context, 'read', get_data_tsdb)\n",
    "        \n",
    "    # Save to Parquet\n",
    "    else:\n",
    "         # Create saving directory if needed\n",
    "        filepath = os.path.join(context.features_table)\n",
    "        if not os.path.exists(filepath):\n",
    "            os.makedirs(filepath)\n",
    "            \n",
    "        # Set Parquet reading function\n",
    "        setattr(context, 'read', get_data_parquet)\n",
    "    \n",
    "    # Set time to train on\n",
    "    train_on_last = os.getenv('TRAIN_ON_LAST', '7d')\n",
    "    setattr(context, 'train_on_last', train_on_last)\n",
    "    \n",
    "    # Set training set size\n",
    "    train_set_size = float(os.getenv('TRAIN_SIZE', 0.7))\n",
    "    setattr(context, 'train_size', train_set_size)\n",
    "    \n",
    "    # Netops features table\n",
    "    setattr(context, 'features_table', os.getenv('FEATURES_TABLE', 'netops_features'))\n",
    "    \n",
    "    # Dask shards / CV\n",
    "    setattr(context, 'shards', int(os.getenv('NUMBER_OF_SHARDS', 4)))\n",
    "    \n",
    "    # Create save-to folder if needed\n",
    "    model_filepath = os.getenv('SAVE_TO', '/v3io/bigdata/netops/models')\n",
    "    if not os.path.exists(model_filepath):\n",
    "        os.makedirs(model_filepath)\n",
    "    setattr(context, 'model_filepath', os.path.join(model_filepath, os.getenv('MODEL_FILENAME', 'netops.model')))"
   ]
  },
  {
   "cell_type": "markdown",
   "metadata": {},
   "source": [
    "### Handler"
   ]
  },
  {
   "cell_type": "code",
   "execution_count": 99,
   "metadata": {},
   "outputs": [],
   "source": [
    "def handler(context, event):\n",
    "    \n",
    "    # Get data\n",
    "    df = context.read(context) \n",
    "\n",
    "    # Split to Train / Test datasets\n",
    "    X_train, X_test, y_train, y_test = get_train_test_sets_from_data(context, df)\n",
    "    print(X_train.columns)\n",
    "    \n",
    "    # Train\n",
    "    model = xgb.XGBClassifier()\n",
    "    model.fit(X_train, y_train)\n",
    "    \n",
    "    # Score\n",
    "    score = model.score(X_test, y_test)\n",
    "    \n",
    "    # Save model\n",
    "    pickle.dump(model, open(context.model_filepath + '.pickle', 'wb'))"
   ]
  },
  {
   "cell_type": "markdown",
   "metadata": {},
   "source": [
    "## Test"
   ]
  },
  {
   "cell_type": "code",
   "execution_count": 100,
   "metadata": {},
   "outputs": [],
   "source": [
    "# nuclio: ignore\n",
    "init_context(context)"
   ]
  },
  {
   "cell_type": "code",
   "execution_count": 102,
   "metadata": {},
   "outputs": [
    {
     "name": "stdout",
     "output_type": "stream",
     "text": [
      "Index(['cpu_utilization_hourly', 'cpu_utilization_minute',\n",
      "       'cpu_utilization_raw', 'latency_hourly', 'latency_minute',\n",
      "       'latency_raw', 'packet_loss_hourly', 'packet_loss_minute',\n",
      "       'packet_loss_raw', 'throughput_hourly', 'throughput_minute',\n",
      "       'throughput_raw'],\n",
      "      dtype='object')\n"
     ]
    }
   ],
   "source": [
    "# nuclio: ignore\n",
    "# init_context(context)\n",
    "event = nuclio.Event(body='')\n",
    "output = handler(context, event)\n",
    "output"
   ]
  },
  {
   "cell_type": "markdown",
   "metadata": {},
   "source": [
    "## Deployment"
   ]
  },
  {
   "cell_type": "code",
   "execution_count": 103,
   "metadata": {},
   "outputs": [
    {
     "name": "stdout",
     "output_type": "stream",
     "text": [
      "%nuclio: ['deploy', '-p', 'netops', '-n', 'training', '-c', '/User/netops/tutorials/demos/netops/Nuclio-Training.ipynb']\n",
      "%nuclio: [nuclio.deploy] 2019-05-20 09:18:20,927 (info) Building processor image\n",
      "%nuclio: [nuclio.deploy] 2019-05-20 09:19:37,783 (info) Pushing image\n",
      "%nuclio: [nuclio.deploy] 2019-05-20 09:20:06,089 (info) Build complete\n",
      "%nuclio: [nuclio.deploy] 2019-05-20 09:20:38,553 (warn) Create function failed failed, setting function status\n",
      "%nuclio: [nuclio.deploy] 2019-05-20 09:20:38,553\n",
      "%nuclio: Error - NuclioFunction in error state (\n",
      "%nuclio: Error - context deadline exceeded\n",
      "%nuclio:     .../platform/kube/controller/nucliofunction.go:122\n",
      "%nuclio: \n",
      "%nuclio: Call stack:\n",
      "%nuclio: Failed to wait for function resources to be available\n",
      "%nuclio:     .../platform/kube/controller/nucliofunction.go:122\n",
      "%nuclio: )\n",
      "%nuclio:     .../nuclio/nuclio/pkg/platform/kube/deployer.go:185\n",
      "%nuclio: \n",
      "%nuclio: Call stack:\n",
      "%nuclio: NuclioFunction in error state (\n",
      "%nuclio: Error - context deadline exceeded\n",
      "%nuclio:     .../platform/kube/controller/nucliofunction.go:122\n",
      "%nuclio: \n",
      "%nuclio: Call stack:\n",
      "%nuclio: Failed to wait for function resources to be available\n",
      "%nuclio:     .../platform/kube/controller/nucliofunction.go:122\n",
      "%nuclio: )\n",
      "%nuclio:     .../nuclio/nuclio/pkg/platform/kube/deployer.go:185\n",
      "%nuclio: Failed to wait for function readiness.\n",
      "%nuclio: \n",
      "%nuclio: Pod logs:\n",
      "%nuclio: \n",
      "%nuclio: * training-74b8bc89b-kdf6t\n",
      "%nuclio: {\"level\":\"debug\",\"time\":\"2019-05-20T09:20:34.717Z\",\"name\":\"processor\",\"message\":\"Read configuration\",\"more\":\"config=&{Config:{Meta:{Name:training Namespace:default-tenant Labels:map[] Annotations:map[]} Spec:{Description: Disabled:false Publish:false Handler:handler:handler Runtime:python:3.6 Env:[{Name:V3IO_FRAMESD Value:framesd.default-tenant.svc:8080 ValueFrom:nil} {Name:V3IO_USERNAME Value:iguazio ValueFrom:nil} {Name:V3IO_ACCESS_KEY Value:64c94a79-7a41-4b13-bb7f-a3c9e9860eaf ValueFrom:nil} {Name:FEATURES_TABLE Value:netops_features ValueFrom:nil} {Name:FROM_TSDB Value:1 ValueFrom:nil} {Name:TRAIN_ON_LAST Value:1d ValueFrom:nil} {Name:TRAIN_SIZE Value:0.7 ValueFrom:nil} {Name:NUMBER_OF_SHARDS Value:4 ValueFrom:nil} {Name:MODEL_FILENAME Value:netops.v3.model ValueFrom:nil} {Name:SAVE_TO Value:/v3io/bigdata/netops/models ValueFrom:nil}] Resources:{Limits:map[] Requests:map[]} Image:docker-registry.default-tenant.app.fmdvvoebjfpx.iguazio-cd2.com:80/nuclio/processor-training:latest ImageHash:1558343898892169220 Replicas:0 MinReplicas:0 MaxReplicas:0 TargetCPU:0 DataBindings:map[] Triggers:map[retrain:{Class: Kind:cron Disabled:false MaxWorkers:0 URL: Paths:[] Username: Password: Secret: Partitions:[] Annotations:map[] WorkerAvailabilityTimeoutMilliseconds:0 WorkerAllocatorName: TotalTasks:0 MaxTaskAllocation:0 Attributes:map[interval:1h]}] Volumes:[] Version:-1 Alias:latest Build:{Path: FunctionSourceCode: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 FunctionConfigPath: TempDir: Registry:docker-registry.default-tenant.app.fmdvvoebjfpx.iguazio-cd2.com:80 Image: NoBaseImagesPull:true NoCache:false NoCleanup:false BaseImage:python:3.6-jessie Commands:[pip install pyyaml pip install pyarrow pip install pandas pip install joblib pip install v3io_frames --upgrade pip install scikit-learn==0.20.1 pip install xgboost --upgrade pip install dask[\\\"complete\\\"] --upgrade pip install dask-ml[\\\"complete\\\"] --upgrade] Directives:map[] ScriptPaths:[] AddedObjectPaths:map[] Dependencies:[] OnbuildImage: Offline:true RuntimeAttributes:map[] CodeEntryType: CodeEntryAttributes:map[] Timestamp:1558344006 Mode:} RunRegistry:docker-registry.default-tenant.app.fmdvvoebjfpx.iguazio-cd2.com:80 RuntimeAttributes:map[] LoggerSinks:[] DealerURI: Platform:{Attributes:map[]} ReadinessTimeoutSeconds:0 Avatar: ServiceType:NodePort ImagePullPolicy:}} PlatformConfig:<nil>} || platformConfig=&{Kind:kube WebAdmin:{Enabled:<nil> ListenAddress:} HealthCheck:{Enabled:<nil> ListenAddress:} Logger:{Sinks:map[myStdoutLoggerSink:{Kind:stdout URL: Attributes:map[encoding:json timeFieldEncoding:iso8601 timeFieldName:time varGroupName:more]}] System:[{Level:debug Sink:myStdoutLoggerSink}] Functions:[{Level:debug Sink:myStdoutLoggerSink}]} Metrics:{Sinks:map[] System:[] Functions:[]} ScaleToZero:{MetricName: WindowSize: PollerInterval: ScalerInterval:} AutoScale:{MetricName: TargetValue:} FunctionAugmentedConfigs:[]}\"}{\"level\":\"debug\",\"time\":\"2019-05-20T09:20:34.717Z\",\"name\":\"processor.cron\",\"message\":\"Creating worker pool\",\"more\":\"num=1\"}{\"level\":\"debug\",\"time\":\"2019-05-20T09:20:34.717Z\",\"name\":\"processor.cron.w0.python.logger\",\"message\":\"Creating listener socket\",\"more\":\"path=/tmp/nuclio-rpc-bjh72ol3ncog00dh879g.sock\"}{\"level\":\"debug\",\"time\":\"2019-05-20T09:20:34.717Z\",\"name\":\"processor.cron.w0.python.logger\",\"message\":\"Using Python wrapper script path\",\"more\":\"path=/opt/nuclio/_nuclio_wrapper.py\"}{\"level\":\"debug\",\"time\":\"2019-05-20T09:20:34.717Z\",\"name\":\"processor.cron.w0.python.logger\",\"message\":\"Using Python handler\",\"more\":\"handler=handler:handler\"}{\"level\":\"debug\",\"time\":\"2019-05-20T09:20:34.717Z\",\"name\":\"processor.cron.w0.python.logger\",\"message\":\"Using Python executable\",\"more\":\"path=/usr/local/bin/python3\"}{\"level\":\"debug\",\"time\":\"2019-05-20T09:20:34.717Z\",\"name\":\"processor.cron.w0.python.logger\",\"message\":\"Setting PYTHONPATH\",\"more\":\"value=PYTHONPATH=/opt/nuclio\"}{\"level\":\"debug\",\"time\":\"2019-05-20T09:20:34.717Z\",\"name\":\"processor.cron.w0.python.logger\",\"message\":\"Running wrapper\",\"more\":\"command=/usr/local/bin/python3 -u /opt/nuclio/_nuclio_wrapper.py --handler handler:handler --socket-path /tmp/nuclio-rpc-bjh72ol3ncog00dh879g.sock --platform-kind kube --namespace default-tenant --worker-id 0 --trigger-name \"}{\"level\":\"info\",\"time\":\"2019-05-20T09:20:36.432Z\",\"name\":\"processor.cron.w0.python.logger\",\"message\":\"Wrapper connected\"}{\"level\":\"debug\",\"time\":\"2019-05-20T09:20:36.432Z\",\"name\":\"processor.cron.w0.python.logger\",\"message\":\"Waiting for start\"}Python> 2019-05-20 09:20:36,432 [info] Replacing logger output{\"level\":\"warn\",\"time\":\"2019-05-20T09:20:36.433Z\",\"name\":\"processor.cron.w0.python.logger\",\"message\":\"Caught unhandled exception while initializing\",\"err\":\"'Context' object has no attribute 'features_table'\",\"traceback\":\"Traceback (most recent call last):\\n  File \\\"/opt/nuclio/_nuclio_wrapper.py\\\", line 233, in run_wrapper\\n    args.trigger_name)\\n  File \\\"/opt/nuclio/_nuclio_wrapper.py\\\", line 60, in __init__\\n    getattr(entrypoint_module, 'init_context')(self._context)\\n  File \\\"/opt/nuclio/handler.py\\\", line 64, in init_context\\n    context.v3f.create('tsdb', context.features_table, attrs={'rate': '1/s'}, if_exists=1)\\nAttributeError: 'Context' object has no attribute 'features_table'\\n\"}{\"level\":\"warn\",\"time\":\"2019-05-20T09:20:36.549Z\",\"name\":\"processor.cron.w0.python.logger\",\"message\":\"Failed to read from connection\",\"err\":\"EOF\"}\n",
      "%nuclio: * training-77d776d95d-r2j9f\n",
      "%nuclio: {\"level\":\"debug\",\"time\":\"2019-05-15T14:43:38.440Z\",\"name\":\"processor\",\"message\":\"Read configuration\",\"more\":\"config=&{Config:{Meta:{Name:training Namespace:default-tenant Labels:map[] Annotations:map[]} Spec:{Description: Disabled:false Publish:false Handler:handler:handler Runtime:python:3.6 Env:[{Name:V3IO_FRAMESD Value:framesd.default-tenant.svc:8080 ValueFrom:nil} {Name:V3IO_USERNAME Value:iguazio ValueFrom:nil} {Name:V3IO_ACCESS_KEY Value:64c94a79-7a41-4b13-bb7f-a3c9e9860eaf ValueFrom:nil} {Name:FEATURES_TABLE Value:netops_features ValueFrom:nil} {Name:TRAIN_ON_LAST Value:7d ValueFrom:nil} {Name:TRAIN_SIZE Value:0.7 ValueFrom:nil} {Name:NUMBER_OF_SHARDS Value:4 ValueFrom:nil} {Name:MODEL_FILENAME Value:netops.model ValueFrom:nil} {Name:SAVE_TO Value:/v3io/bigdata/netops/models ValueFrom:nil}] Resources:{Limits:map[] Requests:map[]} Image:docker-registry.default-tenant.app.fmdvvoebjfpx.iguazio-cd2.com:80/nuclio/processor-training:latest ImageHash:1557931318344061854 Replicas:0 MinReplicas:0 MaxReplicas:0 TargetCPU:0 DataBindings:map[] Triggers:map[retrain:{Class: Kind:cron Disabled:false MaxWorkers:0 URL: Paths:[] Username: Password: Secret: Partitions:[] Annotations:map[] WorkerAvailabilityTimeoutMilliseconds:0 WorkerAllocatorName: TotalTasks:0 MaxTaskAllocation:0 Attributes:map[interval:1h]}] Volumes:[] Version:-1 Alias:latest Build:{Path: FunctionSourceCode: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 FunctionConfigPath: TempDir: Registry:docker-registry.default-tenant.app.fmdvvoebjfpx.iguazio-cd2.com:80 Image: NoBaseImagesPull:true NoCache:false NoCleanup:false BaseImage:python:3.6-jessie Commands:[pip install pyyaml pip install pyarrow pip install pandas pip install v3io_frames --upgrade pip install scikit-learn==0.20.1 pip install xgboost --upgrade pip install dask[\\\"complete\\\"] --upgrade pip install dask-ml[\\\"complete\\\"] --upgrade] Directives:map[] ScriptPaths:[] AddedObjectPaths:map[] Dependencies:[] OnbuildImage: Offline:true RuntimeAttributes:map[] CodeEntryType: CodeEntryAttributes:map[] Timestamp:1557931417 Mode:} RunRegistry:docker-registry.default-tenant.app.fmdvvoebjfpx.iguazio-cd2.com:80 RuntimeAttributes:map[] LoggerSinks:[] DealerURI: Platform:{Attributes:map[]} ReadinessTimeoutSeconds:0 Avatar: ServiceType:NodePort ImagePullPolicy:}} PlatformConfig:<nil>} || platformConfig=&{Kind:kube WebAdmin:{Enabled:<nil> ListenAddress:} HealthCheck:{Enabled:<nil> ListenAddress:} Logger:{Sinks:map[myStdoutLoggerSink:{Kind:stdout URL: Attributes:map[encoding:json timeFieldEncoding:iso8601 timeFieldName:time varGroupName:more]}] System:[{Level:debug Sink:myStdoutLoggerSink}] Functions:[{Level:debug Sink:myStdoutLoggerSink}]} Metrics:{Sinks:map[] System:[] Functions:[]} ScaleToZero:{MetricName: WindowSize: PollerInterval: ScalerInterval:} AutoScale:{MetricName: TargetValue:} FunctionAugmentedConfigs:[]}\"}{\"level\":\"debug\",\"time\":\"2019-05-15T14:43:38.441Z\",\"name\":\"processor.cron\",\"message\":\"Creating worker pool\",\"more\":\"num=1\"}{\"level\":\"debug\",\"time\":\"2019-05-15T14:43:38.441Z\",\"name\":\"processor.cron.w0.python.logger\",\"message\":\"Creating listener socket\",\"more\":\"path=/tmp/nuclio-rpc-bje2b6lq4b3g00bjbneg.sock\"}{\"level\":\"debug\",\"time\":\"2019-05-15T14:43:38.441Z\",\"name\":\"processor.cron.w0.python.logger\",\"message\":\"Using Python wrapper script path\",\"more\":\"path=/opt/nuclio/_nuclio_wrapper.py\"}{\"level\":\"debug\",\"time\":\"2019-05-15T14:43:38.441Z\",\"name\":\"processor.cron.w0.python.logger\",\"message\":\"Using Python handler\",\"more\":\"handler=handler:handler\"}{\"level\":\"debug\",\"time\":\"2019-05-15T14:43:38.441Z\",\"name\":\"processor.cron.w0.python.logger\",\"message\":\"Using Python executable\",\"more\":\"path=/usr/local/bin/python3\"}{\"level\":\"debug\",\"time\":\"2019-05-15T14:43:38.441Z\",\"name\":\"processor.cron.w0.python.logger\",\"message\":\"Setting PYTHONPATH\",\"more\":\"value=PYTHONPATH=/opt/nuclio\"}{\"level\":\"debug\",\"time\":\"2019-05-15T14:43:38.441Z\",\"name\":\"processor.cron.w0.python.logger\",\"message\":\"Running wrapper\",\"more\":\"command=/usr/local/bin/python3 -u /opt/nuclio/_nuclio_wrapper.py --handler handler:handler --socket-path /tmp/nuclio-rpc-bje2b6lq4b3g00bjbneg.sock --platform-kind kube --namespace default-tenant --worker-id 0 --trigger-name \"}{\"level\":\"info\",\"time\":\"2019-05-15T14:43:39.554Z\",\"name\":\"processor.cron.w0.python.logger\",\"message\":\"Wrapper connected\"}{\"level\":\"debug\",\"time\":\"2019-05-15T14:43:39.554Z\",\"name\":\"processor.cron.w0.python.logger\",\"message\":\"Waiting for start\"}Python> 2019-05-15 14:43:39,554 [info] Replacing logger output{\"level\":\"debug\",\"time\":\"2019-05-15T14:43:39.968Z\",\"name\":\"processor.cron.w0.python.logger\",\"message\":\"Started\"}{\"level\":\"info\",\"time\":\"2019-05-15T14:43:39.968Z\",\"name\":\"processor.cron\",\"message\":\"Creating new cron trigger with interval\",\"more\":\"interval=1h0m0s\"}{\"level\":\"debug\",\"time\":\"2019-05-15T14:43:39.968Z\",\"name\":\"processor\",\"message\":\"Creating default HTTP event source\",\"more\":\"configuration=&{Class:sync Kind:http Disabled:false MaxWorkers:1 URL::8080 Paths:[] Username: Password: Secret: Partitions:[] Annotations:map[] WorkerAvailabilityTimeoutMilliseconds:0 WorkerAllocatorName:defaultHTTPWorkerAllocator TotalTasks:0 MaxTaskAllocation:0 Attributes:map[]}\"}{\"level\":\"debug\",\"time\":\"2019-05-15T14:43:39.968Z\",\"name\":\"processor.http\",\"message\":\"Creating worker pool\",\"more\":\"num=1\"}{\"level\":\"debug\",\"time\":\"2019-05-15T14:43:39.968Z\",\"name\":\"processor.http.w0.python.logger\",\"message\":\"Creating listener socket\",\"more\":\"path=/tmp/nuclio-rpc-bje2b6tq4b3g00bjbnf0.sock\"}{\"level\":\"debug\",\"time\":\"2019-05-15T14:43:39.968Z\",\"name\":\"processor.http.w0.python.logger\",\"message\":\"Using Python wrapper script path\",\"more\":\"path=/opt/nuclio/_nuclio_wrapper.py\"}{\"level\":\"debug\",\"time\":\"2019-05-15T14:43:39.968Z\",\"name\":\"processor.http.w0.python.logger\",\"message\":\"Using Python handler\",\"more\":\"handler=handler:handler\"}{\"level\":\"debug\",\"time\":\"2019-05-15T14:43:39.968Z\",\"name\":\"processor.http.w0.python.logger\",\"message\":\"Using Python executable\",\"more\":\"path=/usr/local/bin/python3\"}{\"level\":\"debug\",\"time\":\"2019-05-15T14:43:39.968Z\",\"name\":\"processor.http.w0.python.logger\",\"message\":\"Setting PYTHONPATH\",\"more\":\"value=PYTHONPATH=/opt/nuclio\"}{\"level\":\"debug\",\"time\":\"2019-05-15T14:43:39.968Z\",\"name\":\"processor.http.w0.python.logger\",\"message\":\"Running wrapper\",\"more\":\"command=/usr/local/bin/python3 -u /opt/nuclio/_nuclio_wrapper.py --handler handler:handler --socket-path /tmp/nuclio-rpc-bje2b6tq4b3g00bjbnf0.sock --platform-kind kube --namespace default-tenant --worker-id 0 --trigger-name defaultHTTPWorkerAllocator\"}{\"level\":\"info\",\"time\":\"2019-05-15T14:43:40.919Z\",\"name\":\"processor.http.w0.python.logger\",\"message\":\"Wrapper connected\"}{\"level\":\"debug\",\"time\":\"2019-05-15T14:43:40.919Z\",\"name\":\"processor.http.w0.python.logger\",\"message\":\"Waiting for start\"}Python> 2019-05-15 14:43:40,919 [info] Replacing logger output{\"level\":\"debug\",\"time\":\"2019-05-15T14:43:41.322Z\",\"name\":\"processor.http.w0.python.logger\",\"message\":\"Started\"}{\"level\":\"debug\",\"time\":\"2019-05-15T14:43:41.322Z\",\"name\":\"processor.webadmin.server.triggers\",\"message\":\"Registered custom route\",\"more\":\"pattern=/{id}/stats || method=GET\"}{\"level\":\"debug\",\"time\":\"2019-05-15T14:43:41.322Z\",\"name\":\"processor.webadmin.server\",\"message\":\"Registered resource\",\"more\":\"name=triggers\"}{\"level\":\"warn\",\"time\":\"2019-05-15T14:43:41.322Z\",\"name\":\"processor\",\"message\":\"No metric sinks configured, metrics will not be published\"}{\"level\":\"debug\",\"time\":\"2019-05-15T14:43:41.322Z\",\"name\":\"processor\",\"message\":\"Starting\"}{\"level\":\"info\",\"time\":\"2019-05-15T14:43:41.322Z\",\"name\":\"processor.healthcheck.server\",\"message\":\"Listening\",\"more\":\"listenAddress=:8082\"}{\"level\":\"info\",\"time\":\"2019-05-15T14:43:41.322Z\",\"name\":\"processor.http\",\"message\":\"Starting\",\"more\":\"listenAddress=:8080 || readBufferSize=4096\"}{\"level\":\"info\",\"time\":\"2019-05-15T14:43:41.322Z\",\"name\":\"processor.webadmin.server\",\"message\":\"Listening\",\"more\":\"listenAddress=:8081\"}{\"level\":\"debug\",\"time\":\"2019-05-15T14:43:41.322Z\",\"name\":\"processor.cron\",\"message\":\"Waiting for next event\",\"more\":\"delay=59m59.677410335s\"}{\"level\":\"debug\",\"time\":\"2019-05-15T15:43:41.000Z\",\"name\":\"processor.cron\",\"message\":\"Submitting event\"}{\"level\":\"debug\",\"time\":\"2019-05-15T15:43:41.000Z\",\"name\":\"processor.cron.w0.python.logger\",\"message\":\"Processing event\",\"more\":\"name=training || version=-1 || eventID=01fcb3a7-4c0d-44ce-954d-8e83f6596981\"}{\"level\":\"debug\",\"time\":\"2019-05-15T15:43:41.000Z\",\"name\":\"processor.cron.w0.python.logger\",\"message\":\"Sending event to wrapper\",\"more\":\"size=0\"}[15:43:43] Tree method is automatically selected to be 'approx' for distributed training.[15:43:43] Tree method is automatically selected to be 'approx' for distributed training.[15:43:43] Tree method is automatically selected to be 'approx' for distributed training.0.848388495447319{\"level\":\"debug\",\"time\":\"2019-05-15T15:44:03.239Z\",\"name\":\"processor.cron.w0.python.logger\",\"message\":\"Event executed\",\"more\":\"name=training || status=200 || eventID=01fcb3a7-4c0d-44ce-954d-8e83f6596981\"}{\"level\":\"debug\",\"time\":\"2019-05-15T15:44:03.239Z\",\"name\":\"processor.cron\",\"message\":\"Waiting for next event\",\"more\":\"delay=59m59.76081144s\"}{\"level\":\"debug\",\"time\":\"2019-05-15T16:44:03.000Z\",\"name\":\"processor.cron\",\"message\":\"Submitting event\"}{\"level\":\"debug\",\"time\":\"2019-05-15T16:44:03.000Z\",\"name\":\"processor.cron.w0.python.logger\",\"message\":\"Processing event\",\"more\":\"name=training || version=-1 || eventID=d3f30a13-0798-42fe-b607-52042e2ca47b\"}{\"level\":\"debug\",\"time\":\"2019-05-15T16:44:03.000Z\",\"name\":\"processor.cron.w0.python.logger\",\"message\":\"Sending event to wrapper\",\"more\":\"size=0\"}[16:44:05] Tree method is automatically selected to be 'approx' for distributed training.[16:44:05] Tree method is automatically selected to be 'approx' for distributed training.[16:44:05] Tree method is automatically selected to be 'approx' for distributed training.[16:44:05] Tree method is automatically selected to be 'approx' for distributed training.0.8462370680911488{\"level\":\"debug\",\"time\":\"2019-05-15T16:44:23.537Z\",\"name\":\"processor.cron.w0.python.logger\",\"message\":\"Event executed\",\"more\":\"name=training || status=200 || eventID=d3f30a13-0798-42fe-b607-52042e2ca47b\"}{\"level\":\"debug\",\"time\":\"2019-05-15T16:44:23.537Z\",\"name\":\"processor.cron\",\"message\":\"Waiting for next event\",\"more\":\"delay=59m59.462552382s\"}{\"level\":\"debug\",\"time\":\"2019-05-15T17:44:23.000Z\",\"name\":\"processor.cron\",\"message\":\"Submitting event\"}{\"level\":\"debug\",\"time\":\"2019-05-15T17:44:23.000Z\",\"name\":\"processor.cron.w0.python.logger\",\"message\":\"Processing event\",\"more\":\"name=training || version=-1 || eventID=d02730a5-3bef-46c0-b8c7-0f8f0a9e3f06\"}{\"level\":\"debug\",\"time\":\"2019-05-15T17:44:23.000Z\",\"name\":\"processor.cron.w0.python.logger\",\"message\":\"Sending event to wrapper\",\"more\":\"size=0\"}[17:44:25] Tree method is automatically selected to be 'approx' for distributed training.[17:44:25] Tree method is automatically selected to be 'approx' for distributed training.[17:44:25] Tree method is automatically selected to be 'approx' for distributed training.[17:44:25] Tree method is automatically selected to be 'approx' for distributed training.0.8493639952377968{\"level\":\"debug\",\"time\":\"2019-05-15T17:44:43.551Z\",\"name\":\"processor.cron.w0.python.logger\",\"message\":\"Event executed\",\"more\":\"name=training || status=200 || eventID=d02730a5-3bef-46c0-b8c7-0f8f0a9e3f06\"}{\"level\":\"debug\",\"time\":\"2019-05-15T17:44:43.551Z\",\"name\":\"processor.cron\",\"message\":\"Waiting for next event\",\"more\":\"delay=59m59.448392777s\"}{\"level\":\"debug\",\"time\":\"2019-05-15T18:44:43.000Z\",\"name\":\"processor.cron\",\"message\":\"Submitting event\"}{\"level\":\"debug\",\"time\":\"2019-05-15T18:44:43.000Z\",\"name\":\"processor.cron.w0.python.logger\",\"message\":\"Processing event\",\"more\":\"name=training || version=-1 || eventID=d27092f2-ac3d-49a3-ac4e-0dc10c733c47\"}{\"level\":\"debug\",\"time\":\"2019-05-15T18:44:43.000Z\",\"name\":\"processor.cron.w0.python.logger\",\"message\":\"Sending event to wrapper\",\"more\":\"size=0\"}[18:44:45] Tree method is automatically selected to be 'approx' for distributed training.[18:44:45] Tree method is automatically selected to be 'approx' for distributed training.[18:44:45] Tree method is automatically selected to be 'approx' for distributed training.[18:44:45] Tree method is automatically selected to be 'approx' for distributed training.0.8475486704653371{\"level\":\"debug\",\"time\":\"2019-05-15T18:45:03.697Z\",\"name\":\"processor.cron.w0.python.logger\",\"message\":\"Event executed\",\"more\":\"name=training || status=200 || eventID=d27092f2-ac3d-49a3-ac4e-0dc10c733c47\"}{\"level\":\"debug\",\"time\":\"2019-05-15T18:45:03.697Z\",\"name\":\"processor.cron\",\"message\":\"Waiting for next event\",\"more\":\"delay=59m59.302642615s\"}{\"level\":\"debug\",\"time\":\"2019-05-15T19:45:03.000Z\",\"name\":\"processor.cron\",\"message\":\"Submitting event\"}{\"level\":\"debug\",\"time\":\"2019-05-15T19:45:03.000Z\",\"name\":\"processor.cron.w0.python.logger\",\"message\":\"Processing event\",\"more\":\"name=training || version=-1 || eventID=f6ef3475-b6fe-420e-96c0-8d9953c8f339\"}{\"level\":\"debug\",\"time\":\"2019-05-15T19:45:03.000Z\",\"name\":\"processor.cron.w0.python.logger\",\"message\":\"Sending event to wrapper\",\"more\":\"size=0\"}[19:45:05] Tree method is automatically selected to be 'approx' for distributed training.[19:45:05] Tree method is automatically selected to be 'approx' for distributed training.[19:45:05] Tree method is automatically selected to be 'approx' for distributed training.[19:45:05] Tree method is automatically selected to be 'approx' for distributed training.0.8497807323817771{\"level\":\"debug\",\"time\":\"2019-05-15T19:45:24.066Z\",\"name\":\"processor.cron.w0.python.logger\",\"message\":\"Event executed\",\"more\":\"name=training || status=200 || eventID=f6ef3475-b6fe-420e-96c0-8d9953c8f339\"}{\"level\":\"debug\",\"time\":\"2019-05-15T19:45:24.066Z\",\"name\":\"processor.cron\",\"message\":\"Waiting for next event\",\"more\":\"delay=59m59.933638882s\"}{\"level\":\"debug\",\"time\":\"2019-05-15T20:45:24.000Z\",\"name\":\"processor.cron\",\"message\":\"Submitting event\"}{\"level\":\"debug\",\"time\":\"2019-05-15T20:45:24.000Z\",\"name\":\"processor.cron.w0.python.logger\",\"message\":\"Processing event\",\"more\":\"name=training || version=-1 || eventID=02dd5f05-e7e9-4ad0-99ea-fa79fb70df01\"}{\"level\":\"debug\",\"time\":\"2019-05-15T20:45:24.000Z\",\"name\":\"processor.cron.w0.python.logger\",\"message\":\"Sending event to wrapper\",\"more\":\"size=0\"}[20:45:26] Tree method is automatically selected to be 'approx' for distributed training.[20:45:26] Tree method is automatically selected to be 'approx' for distributed training.[20:45:26] Tree method is automatically selected to be 'approx' for distributed training.[20:45:26] Tree method is automatically selected to be 'approx' for distributed training.0.844704764920057{\"level\":\"debug\",\"time\":\"2019-05-15T20:45:45.252Z\",\"name\":\"processor.cron.w0.python.logger\",\"message\":\"Event executed\",\"more\":\"name=training || status=200 || eventID=02dd5f05-e7e9-4ad0-99ea-fa79fb70df01\"}{\"level\":\"debug\",\"time\":\"2019-05-15T20:45:45.252Z\",\"name\":\"processor.cron\",\"message\":\"Waiting for next event\",\"more\":\"delay=59m59.74727204s\"}{\"level\":\"debug\",\"time\":\"2019-05-15T21:45:45.000Z\",\"name\":\"processor.cron\",\"message\":\"Submitting event\"}{\"level\":\"debug\",\"time\":\"2019-05-15T21:45:45.000Z\",\"name\":\"processor.cron.w0.python.logger\",\"message\":\"Processing event\",\"more\":\"name=training || version=-1 || eventID=b5e3d2d5-dfcd-4e30-9650-6538096ebe1a\"}{\"level\":\"debug\",\"time\":\"2019-05-15T21:45:45.000Z\",\"name\":\"processor.cron.w0.python.logger\",\"message\":\"Sending event to wrapper\",\"more\":\"size=0\"}[21:45:47] Tree method is automatically selected to be 'approx' for distributed training.[21:45:47] Tree method is automatically selected to be 'approx' for distributed training.[21:45:47] Tree method is automatically selected to be 'approx' for distributed training.[21:45:47] Tree method is automatically selected to be 'approx' for distributed training.0.8504798036152644\n",
      "%nuclio:     .../nuclio/nuclio/pkg/platform/kube/deployer.go:157\n",
      "%nuclio: Failed to wait for function readiness.\n",
      "%nuclio: \n",
      "%nuclio: Pod logs:\n",
      "%nuclio: \n",
      "%nuclio: * training-74b8bc89b-kdf6t\n",
      "%nuclio: {\"level\":\"debug\",\"time\":\"2019-05-20T09:20:34.717Z\",\"name\":\"processor\",\"message\":\"Read configuration\",\"more\":\"config=&{Config:{Meta:{Name:training Namespace:default-tenant Labels:map[] Annotations:map[]} Spec:{Description: Disabled:false Publish:false Handler:handler:handler Runtime:python:3.6 Env:[{Name:V3IO_FRAMESD Value:framesd.default-tenant.svc:8080 ValueFrom:nil} {Name:V3IO_USERNAME Value:iguazio ValueFrom:nil} {Name:V3IO_ACCESS_KEY Value:64c94a79-7a41-4b13-bb7f-a3c9e9860eaf ValueFrom:nil} {Name:FEATURES_TABLE Value:netops_features ValueFrom:nil} {Name:FROM_TSDB Value:1 ValueFrom:nil} {Name:TRAIN_ON_LAST Value:1d ValueFrom:nil} {Name:TRAIN_SIZE Value:0.7 ValueFrom:nil} {Name:NUMBER_OF_SHARDS Value:4 ValueFrom:nil} {Name:MODEL_FILENAME Value:netops.v3.model ValueFrom:nil} {Name:SAVE_TO Value:/v3io/bigdata/netops/models ValueFrom:nil}] Resources:{Limits:map[] Requests:map[]} Image:docker-registry.default-tenant.app.fmdvvoebjfpx.iguazio-cd2.com:80/nuclio/processor-training:latest ImageHash:1558343898892169220 Replicas:0 MinReplicas:0 MaxReplicas:0 TargetCPU:0 DataBindings:map[] Triggers:map[retrain:{Class: Kind:cron Disabled:false MaxWorkers:0 URL: Paths:[] Username: Password: Secret: Partitions:[] Annotations:map[] WorkerAvailabilityTimeoutMilliseconds:0 WorkerAllocatorName: TotalTasks:0 MaxTaskAllocation:0 Attributes:map[interval:1h]}] Volumes:[] Version:-1 Alias:latest Build:{Path: FunctionSourceCode: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 FunctionConfigPath: TempDir: Registry:docker-registry.default-tenant.app.fmdvvoebjfpx.iguazio-cd2.com:80 Image: NoBaseImagesPull:true NoCache:false NoCleanup:false BaseImage:python:3.6-jessie Commands:[pip install pyyaml pip install pyarrow pip install pandas pip install joblib pip install v3io_frames --upgrade pip install scikit-learn==0.20.1 pip install xgboost --upgrade pip install dask[\\\"complete\\\"] --upgrade pip install dask-ml[\\\"complete\\\"] --upgrade] Directives:map[] ScriptPaths:[] AddedObjectPaths:map[] Dependencies:[] OnbuildImage: Offline:true RuntimeAttributes:map[] CodeEntryType: CodeEntryAttributes:map[] Timestamp:1558344006 Mode:} RunRegistry:docker-registry.default-tenant.app.fmdvvoebjfpx.iguazio-cd2.com:80 RuntimeAttributes:map[] LoggerSinks:[] DealerURI: Platform:{Attributes:map[]} ReadinessTimeoutSeconds:0 Avatar: ServiceType:NodePort ImagePullPolicy:}} PlatformConfig:<nil>} || platformConfig=&{Kind:kube WebAdmin:{Enabled:<nil> ListenAddress:} HealthCheck:{Enabled:<nil> ListenAddress:} Logger:{Sinks:map[myStdoutLoggerSink:{Kind:stdout URL: Attributes:map[encoding:json timeFieldEncoding:iso8601 timeFieldName:time varGroupName:more]}] System:[{Level:debug Sink:myStdoutLoggerSink}] Functions:[{Level:debug Sink:myStdoutLoggerSink}]} Metrics:{Sinks:map[] System:[] Functions:[]} ScaleToZero:{MetricName: WindowSize: PollerInterval: ScalerInterval:} AutoScale:{MetricName: TargetValue:} FunctionAugmentedConfigs:[]}\"}{\"level\":\"debug\",\"time\":\"2019-05-20T09:20:34.717Z\",\"name\":\"processor.cron\",\"message\":\"Creating worker pool\",\"more\":\"num=1\"}{\"level\":\"debug\",\"time\":\"2019-05-20T09:20:34.717Z\",\"name\":\"processor.cron.w0.python.logger\",\"message\":\"Creating listener socket\",\"more\":\"path=/tmp/nuclio-rpc-bjh72ol3ncog00dh879g.sock\"}{\"level\":\"debug\",\"time\":\"2019-05-20T09:20:34.717Z\",\"name\":\"processor.cron.w0.python.logger\",\"message\":\"Using Python wrapper script path\",\"more\":\"path=/opt/nuclio/_nuclio_wrapper.py\"}{\"level\":\"debug\",\"time\":\"2019-05-20T09:20:34.717Z\",\"name\":\"processor.cron.w0.python.logger\",\"message\":\"Using Python handler\",\"more\":\"handler=handler:handler\"}{\"level\":\"debug\",\"time\":\"2019-05-20T09:20:34.717Z\",\"name\":\"processor.cron.w0.python.logger\",\"message\":\"Using Python executable\",\"more\":\"path=/usr/local/bin/python3\"}{\"level\":\"debug\",\"time\":\"2019-05-20T09:20:34.717Z\",\"name\":\"processor.cron.w0.python.logger\",\"message\":\"Setting PYTHONPATH\",\"more\":\"value=PYTHONPATH=/opt/nuclio\"}{\"level\":\"debug\",\"time\":\"2019-05-20T09:20:34.717Z\",\"name\":\"processor.cron.w0.python.logger\",\"message\":\"Running wrapper\",\"more\":\"command=/usr/local/bin/python3 -u /opt/nuclio/_nuclio_wrapper.py --handler handler:handler --socket-path /tmp/nuclio-rpc-bjh72ol3ncog00dh879g.sock --platform-kind kube --namespace default-tenant --worker-id 0 --trigger-name \"}{\"level\":\"info\",\"time\":\"2019-05-20T09:20:36.432Z\",\"name\":\"processor.cron.w0.python.logger\",\"message\":\"Wrapper connected\"}{\"level\":\"debug\",\"time\":\"2019-05-20T09:20:36.432Z\",\"name\":\"processor.cron.w0.python.logger\",\"message\":\"Waiting for start\"}Python> 2019-05-20 09:20:36,432 [info] Replacing logger output{\"level\":\"warn\",\"time\":\"2019-05-20T09:20:36.433Z\",\"name\":\"processor.cron.w0.python.logger\",\"message\":\"Caught unhandled exception while initializing\",\"err\":\"'Context' object has no attribute 'features_table'\",\"traceback\":\"Traceback (most recent call last):\\n  File \\\"/opt/nuclio/_nuclio_wrapper.py\\\", line 233, in run_wrapper\\n    args.trigger_name)\\n  File \\\"/opt/nuclio/_nuclio_wrapper.py\\\", line 60, in __init__\\n    getattr(entrypoint_module, 'init_context')(self._context)\\n  File \\\"/opt/nuclio/handler.py\\\", line 64, in init_context\\n    context.v3f.create('tsdb', context.features_table, attrs={'rate': '1/s'}, if_exists=1)\\nAttributeError: 'Context' object has no attribute 'features_table'\\n\"}{\"level\":\"warn\",\"time\":\"2019-05-20T09:20:36.549Z\",\"name\":\"processor.cron.w0.python.logger\",\"message\":\"Failed to read from connection\",\"err\":\"EOF\"}\n",
      "%nuclio: * training-77d776d95d-r2j9f\n",
      "%nuclio: {\"level\":\"debug\",\"time\":\"2019-05-15T14:43:38.440Z\",\"name\":\"processor\",\"message\":\"Read configuration\",\"more\":\"config=&{Config:{Meta:{Name:training Namespace:default-tenant Labels:map[] Annotations:map[]} Spec:{Description: Disabled:false Publish:false Handler:handler:handler Runtime:python:3.6 Env:[{Name:V3IO_FRAMESD Value:framesd.default-tenant.svc:8080 ValueFrom:nil} {Name:V3IO_USERNAME Value:iguazio ValueFrom:nil} {Name:V3IO_ACCESS_KEY Value:64c94a79-7a41-4b13-bb7f-a3c9e9860eaf ValueFrom:nil} {Name:FEATURES_TABLE Value:netops_features ValueFrom:nil} {Name:TRAIN_ON_LAST Value:7d ValueFrom:nil} {Name:TRAIN_SIZE Value:0.7 ValueFrom:nil} {Name:NUMBER_OF_SHARDS Value:4 ValueFrom:nil} {Name:MODEL_FILENAME Value:netops.model ValueFrom:nil} {Name:SAVE_TO Value:/v3io/bigdata/netops/models ValueFrom:nil}] Resources:{Limits:map[] Requests:map[]} Image:docker-registry.default-tenant.app.fmdvvoebjfpx.iguazio-cd2.com:80/nuclio/processor-training:latest ImageHash:1557931318344061854 Replicas:0 MinReplicas:0 MaxReplicas:0 TargetCPU:0 DataBindings:map[] Triggers:map[retrain:{Class: Kind:cron Disabled:false MaxWorkers:0 URL: Paths:[] Username: Password: Secret: Partitions:[] Annotations:map[] WorkerAvailabilityTimeoutMilliseconds:0 WorkerAllocatorName: TotalTasks:0 MaxTaskAllocation:0 Attributes:map[interval:1h]}] Volumes:[] Version:-1 Alias:latest Build:{Path: FunctionSourceCode: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 FunctionConfigPath: TempDir: Registry:docker-registry.default-tenant.app.fmdvvoebjfpx.iguazio-cd2.com:80 Image: NoBaseImagesPull:true NoCache:false NoCleanup:false BaseImage:python:3.6-jessie Commands:[pip install pyyaml pip install pyarrow pip install pandas pip install v3io_frames --upgrade pip install scikit-learn==0.20.1 pip install xgboost --upgrade pip install dask[\\\"complete\\\"] --upgrade pip install dask-ml[\\\"complete\\\"] --upgrade] Directives:map[] ScriptPaths:[] AddedObjectPaths:map[] Dependencies:[] OnbuildImage: Offline:true RuntimeAttributes:map[] CodeEntryType: CodeEntryAttributes:map[] Timestamp:1557931417 Mode:} RunRegistry:docker-registry.default-tenant.app.fmdvvoebjfpx.iguazio-cd2.com:80 RuntimeAttributes:map[] LoggerSinks:[] DealerURI: Platform:{Attributes:map[]} ReadinessTimeoutSeconds:0 Avatar: ServiceType:NodePort ImagePullPolicy:}} PlatformConfig:<nil>} || platformConfig=&{Kind:kube WebAdmin:{Enabled:<nil> ListenAddress:} HealthCheck:{Enabled:<nil> ListenAddress:} Logger:{Sinks:map[myStdoutLoggerSink:{Kind:stdout URL: Attributes:map[encoding:json timeFieldEncoding:iso8601 timeFieldName:time varGroupName:more]}] System:[{Level:debug Sink:myStdoutLoggerSink}] Functions:[{Level:debug Sink:myStdoutLoggerSink}]} Metrics:{Sinks:map[] System:[] Functions:[]} ScaleToZero:{MetricName: WindowSize: PollerInterval: ScalerInterval:} AutoScale:{MetricName: TargetValue:} FunctionAugmentedConfigs:[]}\"}{\"level\":\"debug\",\"time\":\"2019-05-15T14:43:38.441Z\",\"name\":\"processor.cron\",\"message\":\"Creating worker pool\",\"more\":\"num=1\"}{\"level\":\"debug\",\"time\":\"2019-05-15T14:43:38.441Z\",\"name\":\"processor.cron.w0.python.logger\",\"message\":\"Creating listener socket\",\"more\":\"path=/tmp/nuclio-rpc-bje2b6lq4b3g00bjbneg.sock\"}{\"level\":\"debug\",\"time\":\"2019-05-15T14:43:38.441Z\",\"name\":\"processor.cron.w0.python.logger\",\"message\":\"Using Python wrapper script path\",\"more\":\"path=/opt/nuclio/_nuclio_wrapper.py\"}{\"level\":\"debug\",\"time\":\"2019-05-15T14:43:38.441Z\",\"name\":\"processor.cron.w0.python.logger\",\"message\":\"Using Python handler\",\"more\":\"handler=handler:handler\"}{\"level\":\"debug\",\"time\":\"2019-05-15T14:43:38.441Z\",\"name\":\"processor.cron.w0.python.logger\",\"message\":\"Using Python executable\",\"more\":\"path=/usr/local/bin/python3\"}{\"level\":\"debug\",\"time\":\"2019-05-15T14:43:38.441Z\",\"name\":\"processor.cron.w0.python.logger\",\"message\":\"Setting PYTHONPATH\",\"more\":\"value=PYTHONPATH=/opt/nuclio\"}{\"level\":\"debug\",\"time\":\"2019-05-15T14:43:38.441Z\",\"name\":\"processor.cron.w0.python.logger\",\"message\":\"Running wrapper\",\"more\":\"command=/usr/local/bin/python3 -u /opt/nuclio/_nuclio_wrapper.py --handler handler:handler --socket-path /tmp/nuclio-rpc-bje2b6lq4b3g00bjbneg.sock --platform-kind kube --namespace default-tenant --worker-id 0 --trigger-name \"}{\"level\":\"info\",\"time\":\"2019-05-15T14:43:39.554Z\",\"name\":\"processor.cron.w0.python.logger\",\"message\":\"Wrapper connected\"}{\"level\":\"debug\",\"time\":\"2019-05-15T14:43:39.554Z\",\"name\":\"processor.cron.w0.python.logger\",\"message\":\"Waiting for start\"}Python> 2019-05-15 14:43:39,554 [info] Replacing logger output{\"level\":\"debug\",\"time\":\"2019-05-15T14:43:39.968Z\",\"name\":\"processor.cron.w0.python.logger\",\"message\":\"Started\"}{\"level\":\"info\",\"time\":\"2019-05-15T14:43:39.968Z\",\"name\":\"processor.cron\",\"message\":\"Creating new cron trigger with interval\",\"more\":\"interval=1h0m0s\"}{\"level\":\"debug\",\"time\":\"2019-05-15T14:43:39.968Z\",\"name\":\"processor\",\"message\":\"Creating default HTTP event source\",\"more\":\"configuration=&{Class:sync Kind:http Disabled:false MaxWorkers:1 URL::8080 Paths:[] Username: Password: Secret: Partitions:[] Annotations:map[] WorkerAvailabilityTimeoutMilliseconds:0 WorkerAllocatorName:defaultHTTPWorkerAllocator TotalTasks:0 MaxTaskAllocation:0 Attributes:map[]}\"}{\"level\":\"debug\",\"time\":\"2019-05-15T14:43:39.968Z\",\"name\":\"processor.http\",\"message\":\"Creating worker pool\",\"more\":\"num=1\"}{\"level\":\"debug\",\"time\":\"2019-05-15T14:43:39.968Z\",\"name\":\"processor.http.w0.python.logger\",\"message\":\"Creating listener socket\",\"more\":\"path=/tmp/nuclio-rpc-bje2b6tq4b3g00bjbnf0.sock\"}{\"level\":\"debug\",\"time\":\"2019-05-15T14:43:39.968Z\",\"name\":\"processor.http.w0.python.logger\",\"message\":\"Using Python wrapper script path\",\"more\":\"path=/opt/nuclio/_nuclio_wrapper.py\"}{\"level\":\"debug\",\"time\":\"2019-05-15T14:43:39.968Z\",\"name\":\"processor.http.w0.python.logger\",\"message\":\"Using Python handler\",\"more\":\"handler=handler:handler\"}{\"level\":\"debug\",\"time\":\"2019-05-15T14:43:39.968Z\",\"name\":\"processor.http.w0.python.logger\",\"message\":\"Using Python executable\",\"more\":\"path=/usr/local/bin/python3\"}{\"level\":\"debug\",\"time\":\"2019-05-15T14:43:39.968Z\",\"name\":\"processor.http.w0.python.logger\",\"message\":\"Setting PYTHONPATH\",\"more\":\"value=PYTHONPATH=/opt/nuclio\"}{\"level\":\"debug\",\"time\":\"2019-05-15T14:43:39.968Z\",\"name\":\"processor.http.w0.python.logger\",\"message\":\"Running wrapper\",\"more\":\"command=/usr/local/bin/python3 -u /opt/nuclio/_nuclio_wrapper.py --handler handler:handler --socket-path /tmp/nuclio-rpc-bje2b6tq4b3g00bjbnf0.sock --platform-kind kube --namespace default-tenant --worker-id 0 --trigger-name defaultHTTPWorkerAllocator\"}{\"level\":\"info\",\"time\":\"2019-05-15T14:43:40.919Z\",\"name\":\"processor.http.w0.python.logger\",\"message\":\"Wrapper connected\"}{\"level\":\"debug\",\"time\":\"2019-05-15T14:43:40.919Z\",\"name\":\"processor.http.w0.python.logger\",\"message\":\"Waiting for start\"}Python> 2019-05-15 14:43:40,919 [info] Replacing logger output{\"level\":\"debug\",\"time\":\"2019-05-15T14:43:41.322Z\",\"name\":\"processor.http.w0.python.logger\",\"message\":\"Started\"}{\"level\":\"debug\",\"time\":\"2019-05-15T14:43:41.322Z\",\"name\":\"processor.webadmin.server.triggers\",\"message\":\"Registered custom route\",\"more\":\"pattern=/{id}/stats || method=GET\"}{\"level\":\"debug\",\"time\":\"2019-05-15T14:43:41.322Z\",\"name\":\"processor.webadmin.server\",\"message\":\"Registered resource\",\"more\":\"name=triggers\"}{\"level\":\"warn\",\"time\":\"2019-05-15T14:43:41.322Z\",\"name\":\"processor\",\"message\":\"No metric sinks configured, metrics will not be published\"}{\"level\":\"debug\",\"time\":\"2019-05-15T14:43:41.322Z\",\"name\":\"processor\",\"message\":\"Starting\"}{\"level\":\"info\",\"time\":\"2019-05-15T14:43:41.322Z\",\"name\":\"processor.healthcheck.server\",\"message\":\"Listening\",\"more\":\"listenAddress=:8082\"}{\"level\":\"info\",\"time\":\"2019-05-15T14:43:41.322Z\",\"name\":\"processor.http\",\"message\":\"Starting\",\"more\":\"listenAddress=:8080 || readBufferSize=4096\"}{\"level\":\"info\",\"time\":\"2019-05-15T14:43:41.322Z\",\"name\":\"processor.webadmin.server\",\"message\":\"Listening\",\"more\":\"listenAddress=:8081\"}{\"level\":\"debug\",\"time\":\"2019-05-15T14:43:41.322Z\",\"name\":\"processor.cron\",\"message\":\"Waiting for next event\",\"more\":\"delay=59m59.677410335s\"}{\"level\":\"debug\",\"time\":\"2019-05-15T15:43:41.000Z\",\"name\":\"processor.cron\",\"message\":\"Submitting event\"}{\"level\":\"debug\",\"time\":\"2019-05-15T15:43:41.000Z\",\"name\":\"processor.cron.w0.python.logger\",\"message\":\"Processing event\",\"more\":\"name=training || version=-1 || eventID=01fcb3a7-4c0d-44ce-954d-8e83f6596981\"}{\"level\":\"debug\",\"time\":\"2019-05-15T15:43:41.000Z\",\"name\":\"processor.cron.w0.python.logger\",\"message\":\"Sending event to wrapper\",\"more\":\"size=0\"}[15:43:43] Tree method is automatically selected to be 'approx' for distributed training.[15:43:43] Tree method is automatically selected to be 'approx' for distributed training.[15:43:43] Tree method is automatically selected to be 'approx' for distributed training.0.848388495447319{\"level\":\"debug\",\"time\":\"2019-05-15T15:44:03.239Z\",\"name\":\"processor.cron.w0.python.logger\",\"message\":\"Event executed\",\"more\":\"name=training || status=200 || eventID=01fcb3a7-4c0d-44ce-954d-8e83f6596981\"}{\"level\":\"debug\",\"time\":\"2019-05-15T15:44:03.239Z\",\"name\":\"processor.cron\",\"message\":\"Waiting for next event\",\"more\":\"delay=59m59.76081144s\"}{\"level\":\"debug\",\"time\":\"2019-05-15T16:44:03.000Z\",\"name\":\"processor.cron\",\"message\":\"Submitting event\"}{\"level\":\"debug\",\"time\":\"2019-05-15T16:44:03.000Z\",\"name\":\"processor.cron.w0.python.logger\",\"message\":\"Processing event\",\"more\":\"name=training || version=-1 || eventID=d3f30a13-0798-42fe-b607-52042e2ca47b\"}{\"level\":\"debug\",\"time\":\"2019-05-15T16:44:03.000Z\",\"name\":\"processor.cron.w0.python.logger\",\"message\":\"Sending event to wrapper\",\"more\":\"size=0\"}[16:44:05] Tree method is automatically selected to be 'approx' for distributed training.[16:44:05] Tree method is automatically selected to be 'approx' for distributed training.[16:44:05] Tree method is automatically selected to be 'approx' for distributed training.[16:44:05] Tree method is automatically selected to be 'approx' for distributed training.0.8462370680911488{\"level\":\"debug\",\"time\":\"2019-05-15T16:44:23.537Z\",\"name\":\"processor.cron.w0.python.logger\",\"message\":\"Event executed\",\"more\":\"name=training || status=200 || eventID=d3f30a13-0798-42fe-b607-52042e2ca47b\"}{\"level\":\"debug\",\"time\":\"2019-05-15T16:44:23.537Z\",\"name\":\"processor.cron\",\"message\":\"Waiting for next event\",\"more\":\"delay=59m59.462552382s\"}{\"level\":\"debug\",\"time\":\"2019-05-15T17:44:23.000Z\",\"name\":\"processor.cron\",\"message\":\"Submitting event\"}{\"level\":\"debug\",\"time\":\"2019-05-15T17:44:23.000Z\",\"name\":\"processor.cron.w0.python.logger\",\"message\":\"Processing event\",\"more\":\"name=training || version=-1 || eventID=d02730a5-3bef-46c0-b8c7-0f8f0a9e3f06\"}{\"level\":\"debug\",\"time\":\"2019-05-15T17:44:23.000Z\",\"name\":\"processor.cron.w0.python.logger\",\"message\":\"Sending event to wrapper\",\"more\":\"size=0\"}[17:44:25] Tree method is automatically selected to be 'approx' for distributed training.[17:44:25] Tree method is automatically selected to be 'approx' for distributed training.[17:44:25] Tree method is automatically selected to be 'approx' for distributed training.[17:44:25] Tree method is automatically selected to be 'approx' for distributed training.0.8493639952377968{\"level\":\"debug\",\"time\":\"2019-05-15T17:44:43.551Z\",\"name\":\"processor.cron.w0.python.logger\",\"message\":\"Event executed\",\"more\":\"name=training || status=200 || eventID=d02730a5-3bef-46c0-b8c7-0f8f0a9e3f06\"}{\"level\":\"debug\",\"time\":\"2019-05-15T17:44:43.551Z\",\"name\":\"processor.cron\",\"message\":\"Waiting for next event\",\"more\":\"delay=59m59.448392777s\"}{\"level\":\"debug\",\"time\":\"2019-05-15T18:44:43.000Z\",\"name\":\"processor.cron\",\"message\":\"Submitting event\"}{\"level\":\"debug\",\"time\":\"2019-05-15T18:44:43.000Z\",\"name\":\"processor.cron.w0.python.logger\",\"message\":\"Processing event\",\"more\":\"name=training || version=-1 || eventID=d27092f2-ac3d-49a3-ac4e-0dc10c733c47\"}{\"level\":\"debug\",\"time\":\"2019-05-15T18:44:43.000Z\",\"name\":\"processor.cron.w0.python.logger\",\"message\":\"Sending event to wrapper\",\"more\":\"size=0\"}[18:44:45] Tree method is automatically selected to be 'approx' for distributed training.[18:44:45] Tree method is automatically selected to be 'approx' for distributed training.[18:44:45] Tree method is automatically selected to be 'approx' for distributed training.[18:44:45] Tree method is automatically selected to be 'approx' for distributed training.0.8475486704653371{\"level\":\"debug\",\"time\":\"2019-05-15T18:45:03.697Z\",\"name\":\"processor.cron.w0.python.logger\",\"message\":\"Event executed\",\"more\":\"name=training || status=200 || eventID=d27092f2-ac3d-49a3-ac4e-0dc10c733c47\"}{\"level\":\"debug\",\"time\":\"2019-05-15T18:45:03.697Z\",\"name\":\"processor.cron\",\"message\":\"Waiting for next event\",\"more\":\"delay=59m59.302642615s\"}{\"level\":\"debug\",\"time\":\"2019-05-15T19:45:03.000Z\",\"name\":\"processor.cron\",\"message\":\"Submitting event\"}{\"level\":\"debug\",\"time\":\"2019-05-15T19:45:03.000Z\",\"name\":\"processor.cron.w0.python.logger\",\"message\":\"Processing event\",\"more\":\"name=training || version=-1 || eventID=f6ef3475-b6fe-420e-96c0-8d9953c8f339\"}{\"level\":\"debug\",\"time\":\"2019-05-15T19:45:03.000Z\",\"name\":\"processor.cron.w0.python.logger\",\"message\":\"Sending event to wrapper\",\"more\":\"size=0\"}[19:45:05] Tree method is automatically selected to be 'approx' for distributed training.[19:45:05] Tree method is automatically selected to be 'approx' for distributed training.[19:45:05] Tree method is automatically selected to be 'approx' for distributed training.[19:45:05] Tree method is automatically selected to be 'approx' for distributed training.0.8497807323817771{\"level\":\"debug\",\"time\":\"2019-05-15T19:45:24.066Z\",\"name\":\"processor.cron.w0.python.logger\",\"message\":\"Event executed\",\"more\":\"name=training || status=200 || eventID=f6ef3475-b6fe-420e-96c0-8d9953c8f339\"}{\"level\":\"debug\",\"time\":\"2019-05-15T19:45:24.066Z\",\"name\":\"processor.cron\",\"message\":\"Waiting for next event\",\"more\":\"delay=59m59.933638882s\"}{\"level\":\"debug\",\"time\":\"2019-05-15T20:45:24.000Z\",\"name\":\"processor.cron\",\"message\":\"Submitting event\"}{\"level\":\"debug\",\"time\":\"2019-05-15T20:45:24.000Z\",\"name\":\"processor.cron.w0.python.logger\",\"message\":\"Processing event\",\"more\":\"name=training || version=-1 || eventID=02dd5f05-e7e9-4ad0-99ea-fa79fb70df01\"}{\"level\":\"debug\",\"time\":\"2019-05-15T20:45:24.000Z\",\"name\":\"processor.cron.w0.python.logger\",\"message\":\"Sending event to wrapper\",\"more\":\"size=0\"}[20:45:26] Tree method is automatically selected to be 'approx' for distributed training.[20:45:26] Tree method is automatically selected to be 'approx' for distributed training.[20:45:26] Tree method is automatically selected to be 'approx' for distributed training.[20:45:26] Tree method is automatically selected to be 'approx' for distributed training.0.844704764920057{\"level\":\"debug\",\"time\":\"2019-05-15T20:45:45.252Z\",\"name\":\"processor.cron.w0.python.logger\",\"message\":\"Event executed\",\"more\":\"name=training || status=200 || eventID=02dd5f05-e7e9-4ad0-99ea-fa79fb70df01\"}{\"level\":\"debug\",\"time\":\"2019-05-15T20:45:45.252Z\",\"name\":\"processor.cron\",\"message\":\"Waiting for next event\",\"more\":\"delay=59m59.74727204s\"}{\"level\":\"debug\",\"time\":\"2019-05-15T21:45:45.000Z\",\"name\":\"processor.cron\",\"message\":\"Submitting event\"}{\"level\":\"debug\",\"time\":\"2019-05-15T21:45:45.000Z\",\"name\":\"processor.cron.w0.python.logger\",\"message\":\"Processing event\",\"more\":\"name=training || version=-1 || eventID=b5e3d2d5-dfcd-4e30-9650-6538096ebe1a\"}{\"level\":\"debug\",\"time\":\"2019-05-15T21:45:45.000Z\",\"name\":\"processor.cron.w0.python.logger\",\"message\":\"Sending event to wrapper\",\"more\":\"size=0\"}[21:45:47] Tree method is automatically selected to be 'approx' for distributed training.[21:45:47] Tree method is automatically selected to be 'approx' for distributed training.[21:45:47] Tree method is automatically selected to be 'approx' for distributed training.[21:45:47] Tree method is automatically selected to be 'approx' for distributed training.0.8504798036152644\n"
     ]
    },
    {
     "name": "stderr",
     "output_type": "stream",
     "text": [
      "%nuclio: cannot deploy\n",
      "%nuclio: Invalid -W option ignored: invalid action: 'yaml.YAMLLoadWarning'\n",
      "error: cannot deploy\n"
     ]
    }
   ],
   "source": [
    "%nuclio deploy -p netops -n training -c"
   ]
  },
  {
   "cell_type": "code",
   "execution_count": null,
   "metadata": {},
   "outputs": [],
   "source": []
  }
 ],
 "metadata": {
  "kernelspec": {
   "display_name": "Python 3",
   "language": "python",
   "name": "python3"
  },
  "language_info": {
   "codemirror_mode": {
    "name": "ipython",
    "version": 3
   },
   "file_extension": ".py",
   "mimetype": "text/x-python",
   "name": "python",
   "nbconvert_exporter": "python",
   "pygments_lexer": "ipython3",
   "version": "3.6.8"
  }
 },
 "nbformat": 4,
 "nbformat_minor": 2
}
