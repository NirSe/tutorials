{
 "cells": [
  {
   "cell_type": "markdown",
   "metadata": {},
   "source": [
    "# Nuclio - Training function"
   ]
  },
  {
   "cell_type": "markdown",
   "metadata": {},
   "source": [
    "## Environment"
   ]
  },
  {
   "cell_type": "code",
   "execution_count": 1,
   "metadata": {},
   "outputs": [],
   "source": [
    "# nuclio: ignore\n",
    "import nuclio"
   ]
  },
  {
   "cell_type": "markdown",
   "metadata": {},
   "source": [
    "### Configurations"
   ]
  },
  {
   "cell_type": "code",
   "execution_count": 2,
   "metadata": {},
   "outputs": [
    {
     "name": "stdout",
     "output_type": "stream",
     "text": [
      "%nuclio: setting spec.triggers.retrain.kind to 'cron'\n",
      "%nuclio: setting spec.triggers.retrain.attributes.interval to '1h'\n",
      "%nuclio: setting spec.build.baseImage to 'python:3.6-jessie'\n"
     ]
    }
   ],
   "source": [
    "%%nuclio config\n",
    "\n",
    "# Trigger\n",
    "spec.triggers.retrain.kind = \"cron\"\n",
    "spec.triggers.retrain.attributes.interval = \"1h\"\n",
    "\n",
    "# Base image\n",
    "spec.build.baseImage = \"python:3.6-jessie\""
   ]
  },
  {
   "cell_type": "markdown",
   "metadata": {},
   "source": [
    "### Commands"
   ]
  },
  {
   "cell_type": "code",
   "execution_count": 14,
   "metadata": {},
   "outputs": [
    {
     "name": "stdout",
     "output_type": "stream",
     "text": [
      "Invalid -W option ignored: invalid action: 'yaml.YAMLLoadWarning'\n",
      "Requirement already satisfied: pyyaml in /conda/lib/python3.6/site-packages (5.1)\n",
      "Invalid -W option ignored: invalid action: 'yaml.YAMLLoadWarning'\n",
      "Requirement already satisfied: pyarrow in /conda/lib/python3.6/site-packages (0.11.1)\n",
      "Requirement already satisfied: numpy>=1.14 in /conda/lib/python3.6/site-packages (from pyarrow) (1.16.2)\n",
      "Requirement already satisfied: six>=1.0.0 in /conda/lib/python3.6/site-packages (from pyarrow) (1.12.0)\n",
      "Invalid -W option ignored: invalid action: 'yaml.YAMLLoadWarning'\n",
      "Requirement already satisfied: pandas in /conda/lib/python3.6/site-packages (0.23.4)\n",
      "Requirement already satisfied: python-dateutil>=2.5.0 in /conda/lib/python3.6/site-packages (from pandas) (2.8.0)\n",
      "Requirement already satisfied: pytz>=2011k in /conda/lib/python3.6/site-packages (from pandas) (2018.9)\n",
      "Requirement already satisfied: numpy>=1.9.0 in /conda/lib/python3.6/site-packages (from pandas) (1.16.2)\n",
      "Requirement already satisfied: six>=1.5 in /conda/lib/python3.6/site-packages (from python-dateutil>=2.5.0->pandas) (1.12.0)\n",
      "Invalid -W option ignored: invalid action: 'yaml.YAMLLoadWarning'\n",
      "Requirement already up-to-date: v3io_frames in /User/.pythonlibs/lib/python3.6/site-packages (0.5.3)\n",
      "Requirement already satisfied, skipping upgrade: pandas==0.23.* in /conda/lib/python3.6/site-packages (from v3io_frames) (0.23.4)\n",
      "Requirement already satisfied, skipping upgrade: requests>=2.19.1 in /conda/lib/python3.6/site-packages (from v3io_frames) (2.21.0)\n",
      "Requirement already satisfied, skipping upgrade: googleapis-common-protos>=1.5.3 in /conda/lib/python3.6/site-packages (from v3io_frames) (1.5.9)\n",
      "Requirement already satisfied, skipping upgrade: grpcio-tools>=1.16.0 in /conda/lib/python3.6/site-packages (from v3io_frames) (1.19.0)\n",
      "Requirement already satisfied, skipping upgrade: python-dateutil>=2.5.0 in /conda/lib/python3.6/site-packages (from pandas==0.23.*->v3io_frames) (2.8.0)\n",
      "Requirement already satisfied, skipping upgrade: pytz>=2011k in /conda/lib/python3.6/site-packages (from pandas==0.23.*->v3io_frames) (2018.9)\n",
      "Requirement already satisfied, skipping upgrade: numpy>=1.9.0 in /conda/lib/python3.6/site-packages (from pandas==0.23.*->v3io_frames) (1.16.2)\n",
      "Requirement already satisfied, skipping upgrade: certifi>=2017.4.17 in /conda/lib/python3.6/site-packages (from requests>=2.19.1->v3io_frames) (2019.3.9)\n",
      "Requirement already satisfied, skipping upgrade: chardet<3.1.0,>=3.0.2 in /conda/lib/python3.6/site-packages (from requests>=2.19.1->v3io_frames) (3.0.4)\n",
      "Requirement already satisfied, skipping upgrade: urllib3<1.25,>=1.21.1 in /conda/lib/python3.6/site-packages (from requests>=2.19.1->v3io_frames) (1.24.1)\n",
      "Requirement already satisfied, skipping upgrade: idna<2.9,>=2.5 in /conda/lib/python3.6/site-packages (from requests>=2.19.1->v3io_frames) (2.8)\n",
      "Requirement already satisfied, skipping upgrade: protobuf>=3.6.0 in /conda/lib/python3.6/site-packages (from googleapis-common-protos>=1.5.3->v3io_frames) (3.7.1)\n",
      "Requirement already satisfied, skipping upgrade: grpcio>=1.19.0 in /conda/lib/python3.6/site-packages (from grpcio-tools>=1.16.0->v3io_frames) (1.19.0)\n",
      "Requirement already satisfied, skipping upgrade: six>=1.5 in /conda/lib/python3.6/site-packages (from python-dateutil>=2.5.0->pandas==0.23.*->v3io_frames) (1.12.0)\n",
      "Requirement already satisfied, skipping upgrade: setuptools in /conda/lib/python3.6/site-packages (from protobuf>=3.6.0->googleapis-common-protos>=1.5.3->v3io_frames) (40.8.0)\n",
      "Invalid -W option ignored: invalid action: 'yaml.YAMLLoadWarning'\n",
      "Collecting scikit-learn==0.20.1\n",
      "\u001b[?25l  Downloading https://files.pythonhosted.org/packages/10/26/d04320c3edf2d59b1fcd0720b46753d4d603a76e68d8ad10a9b92ab06db2/scikit_learn-0.20.1-cp36-cp36m-manylinux1_x86_64.whl (5.4MB)\n",
      "\u001b[K    100% |################################| 5.4MB 9.9MB/s \n",
      "\u001b[?25hRequirement already satisfied: numpy>=1.8.2 in /conda/lib/python3.6/site-packages (from scikit-learn==0.20.1) (1.16.2)\n",
      "Requirement already satisfied: scipy>=0.13.3 in /conda/lib/python3.6/site-packages (from scikit-learn==0.20.1) (1.2.1)\n",
      "Installing collected packages: scikit-learn\n",
      "  Found existing installation: scikit-learn 0.20.2\n",
      "    Uninstalling scikit-learn-0.20.2:\n",
      "      Successfully uninstalled scikit-learn-0.20.2\n",
      "Requirement already up-to-date: xgboost in /User/.pythonlibs/lib/python3.6/site-packages (0.82)\n",
      "Requirement already satisfied, skipping upgrade: scipy in /conda/lib/python3.6/site-packages (from xgboost) (1.2.1)\n",
      "Requirement already satisfied, skipping upgrade: numpy in /conda/lib/python3.6/site-packages (from xgboost) (1.16.2)\n",
      "Invalid -W option ignored: invalid action: 'yaml.YAMLLoadWarning'\n",
      "Requirement already up-to-date: dask[complete] in /User/.pythonlibs/lib/python3.6/site-packages (1.2.2)\n",
      "Requirement already satisfied, skipping upgrade: numpy>=1.13.0; extra == \"complete\" in /conda/lib/python3.6/site-packages (from dask[complete]) (1.16.2)\n",
      "Requirement already satisfied, skipping upgrade: cloudpickle>=0.2.1; extra == \"complete\" in /conda/lib/python3.6/site-packages (from dask[complete]) (0.8.1)\n",
      "Requirement already satisfied, skipping upgrade: pandas>=0.21.0; extra == \"complete\" in /conda/lib/python3.6/site-packages (from dask[complete]) (0.23.4)\n",
      "Requirement already satisfied, skipping upgrade: distributed>=1.22; extra == \"complete\" in /conda/lib/python3.6/site-packages (from dask[complete]) (1.27.0)\n",
      "Requirement already satisfied, skipping upgrade: toolz>=0.7.3; extra == \"complete\" in /conda/lib/python3.6/site-packages (from dask[complete]) (0.9.0)\n",
      "Requirement already satisfied, skipping upgrade: partd>=0.3.8; extra == \"complete\" in /conda/lib/python3.6/site-packages (from dask[complete]) (0.3.10)\n",
      "Requirement already satisfied, skipping upgrade: python-dateutil>=2.5.0 in /conda/lib/python3.6/site-packages (from pandas>=0.21.0; extra == \"complete\"->dask[complete]) (2.8.0)\n",
      "Requirement already satisfied, skipping upgrade: pytz>=2011k in /conda/lib/python3.6/site-packages (from pandas>=0.21.0; extra == \"complete\"->dask[complete]) (2018.9)\n",
      "Requirement already satisfied, skipping upgrade: click>=6.6 in /conda/lib/python3.6/site-packages (from distributed>=1.22; extra == \"complete\"->dask[complete]) (7.0)\n",
      "Requirement already satisfied, skipping upgrade: zict>=0.1.3 in /conda/lib/python3.6/site-packages (from distributed>=1.22; extra == \"complete\"->dask[complete]) (0.1.4)\n",
      "Requirement already satisfied, skipping upgrade: msgpack in /conda/lib/python3.6/site-packages (from distributed>=1.22; extra == \"complete\"->dask[complete]) (0.6.1)\n",
      "Requirement already satisfied, skipping upgrade: six in /conda/lib/python3.6/site-packages (from distributed>=1.22; extra == \"complete\"->dask[complete]) (1.12.0)\n",
      "Requirement already satisfied, skipping upgrade: tornado>=5 in /conda/lib/python3.6/site-packages (from distributed>=1.22; extra == \"complete\"->dask[complete]) (6.0.2)\n",
      "Requirement already satisfied, skipping upgrade: psutil>=5.0 in /conda/lib/python3.6/site-packages (from distributed>=1.22; extra == \"complete\"->dask[complete]) (5.6.1)\n",
      "Requirement already satisfied, skipping upgrade: sortedcontainers!=2.0.0,!=2.0.1 in /conda/lib/python3.6/site-packages (from distributed>=1.22; extra == \"complete\"->dask[complete]) (2.1.0)\n",
      "Requirement already satisfied, skipping upgrade: pyyaml in /conda/lib/python3.6/site-packages (from distributed>=1.22; extra == \"complete\"->dask[complete]) (5.1)\n",
      "Requirement already satisfied, skipping upgrade: tblib in /conda/lib/python3.6/site-packages (from distributed>=1.22; extra == \"complete\"->dask[complete]) (1.3.2)\n",
      "Requirement already satisfied, skipping upgrade: locket in /conda/lib/python3.6/site-packages (from partd>=0.3.8; extra == \"complete\"->dask[complete]) (0.2.0)\n",
      "Requirement already satisfied, skipping upgrade: heapdict in /conda/lib/python3.6/site-packages (from zict>=0.1.3->distributed>=1.22; extra == \"complete\"->dask[complete]) (1.0.0)\n",
      "Invalid -W option ignored: invalid action: 'yaml.YAMLLoadWarning'\n",
      "Requirement already up-to-date: dask-ml[complete] in /User/.pythonlibs/lib/python3.6/site-packages (0.12.0)\n",
      "Requirement already satisfied, skipping upgrade: dask-glm in /User/.pythonlibs/lib/python3.6/site-packages (from dask-ml[complete]) (0.2.0)\n",
      "Requirement already satisfied, skipping upgrade: dask[array]>=1.0.0 in /User/.pythonlibs/lib/python3.6/site-packages (from dask-ml[complete]) (1.2.2)\n",
      "Requirement already satisfied, skipping upgrade: multipledispatch>=0.4.9 in /User/.pythonlibs/lib/python3.6/site-packages (from dask-ml[complete]) (0.6.0)\n",
      "Requirement already satisfied, skipping upgrade: scikit-learn>=0.20 in /User/.pythonlibs/lib/python3.6/site-packages (from dask-ml[complete]) (0.20.1)\n",
      "Requirement already satisfied, skipping upgrade: numpy in /conda/lib/python3.6/site-packages (from dask-ml[complete]) (1.16.2)\n",
      "Requirement already satisfied, skipping upgrade: distributed>=1.25.0 in /conda/lib/python3.6/site-packages (from dask-ml[complete]) (1.27.0)\n",
      "Requirement already satisfied, skipping upgrade: pandas>=0.23.4 in /conda/lib/python3.6/site-packages (from dask-ml[complete]) (0.23.4)\n",
      "Requirement already satisfied, skipping upgrade: numba in /conda/lib/python3.6/site-packages (from dask-ml[complete]) (0.41.0)\n",
      "Requirement already satisfied, skipping upgrade: scipy in /conda/lib/python3.6/site-packages (from dask-ml[complete]) (1.2.1)\n",
      "Requirement already satisfied, skipping upgrade: packaging in /conda/lib/python3.6/site-packages (from dask-ml[complete]) (19.0)\n",
      "Requirement already satisfied, skipping upgrade: six in /conda/lib/python3.6/site-packages (from dask-ml[complete]) (1.12.0)\n",
      "Requirement already satisfied, skipping upgrade: dask-tensorflow; extra == \"complete\" in /User/.pythonlibs/lib/python3.6/site-packages (from dask-ml[complete]) (0.0.2)\n",
      "Requirement already satisfied, skipping upgrade: xgboost; extra == \"complete\" in /User/.pythonlibs/lib/python3.6/site-packages (from dask-ml[complete]) (0.82)\n",
      "Requirement already satisfied, skipping upgrade: dask-xgboost; extra == \"complete\" in /User/.pythonlibs/lib/python3.6/site-packages (from dask-ml[complete]) (0.1.5)\n",
      "Requirement already satisfied, skipping upgrade: tensorflow; extra == \"complete\" in /conda/lib/python3.6/site-packages (from dask-ml[complete]) (1.13.1)\n",
      "Requirement already satisfied, skipping upgrade: cloudpickle>=0.2.2 in /conda/lib/python3.6/site-packages (from dask-glm->dask-ml[complete]) (0.8.1)\n",
      "Requirement already satisfied, skipping upgrade: toolz>=0.7.3; extra == \"array\" in /conda/lib/python3.6/site-packages (from dask[array]>=1.0.0->dask-ml[complete]) (0.9.0)\n",
      "Requirement already satisfied, skipping upgrade: psutil>=5.0 in /conda/lib/python3.6/site-packages (from distributed>=1.25.0->dask-ml[complete]) (5.6.1)\n",
      "Requirement already satisfied, skipping upgrade: tornado>=5 in /conda/lib/python3.6/site-packages (from distributed>=1.25.0->dask-ml[complete]) (6.0.2)\n",
      "Requirement already satisfied, skipping upgrade: sortedcontainers!=2.0.0,!=2.0.1 in /conda/lib/python3.6/site-packages (from distributed>=1.25.0->dask-ml[complete]) (2.1.0)\n",
      "Requirement already satisfied, skipping upgrade: click>=6.6 in /conda/lib/python3.6/site-packages (from distributed>=1.25.0->dask-ml[complete]) (7.0)\n",
      "Requirement already satisfied, skipping upgrade: zict>=0.1.3 in /conda/lib/python3.6/site-packages (from distributed>=1.25.0->dask-ml[complete]) (0.1.4)\n",
      "Requirement already satisfied, skipping upgrade: pyyaml in /conda/lib/python3.6/site-packages (from distributed>=1.25.0->dask-ml[complete]) (5.1)\n",
      "Requirement already satisfied, skipping upgrade: msgpack in /conda/lib/python3.6/site-packages (from distributed>=1.25.0->dask-ml[complete]) (0.6.1)\n",
      "Requirement already satisfied, skipping upgrade: tblib in /conda/lib/python3.6/site-packages (from distributed>=1.25.0->dask-ml[complete]) (1.3.2)\n",
      "Requirement already satisfied, skipping upgrade: python-dateutil>=2.5.0 in /conda/lib/python3.6/site-packages (from pandas>=0.23.4->dask-ml[complete]) (2.8.0)\n",
      "Requirement already satisfied, skipping upgrade: pytz>=2011k in /conda/lib/python3.6/site-packages (from pandas>=0.23.4->dask-ml[complete]) (2018.9)\n",
      "Requirement already satisfied, skipping upgrade: llvmlite>=0.26.0dev0 in /conda/lib/python3.6/site-packages (from numba->dask-ml[complete]) (0.26.0)\n",
      "Requirement already satisfied, skipping upgrade: pyparsing>=2.0.2 in /conda/lib/python3.6/site-packages (from packaging->dask-ml[complete]) (2.3.1)\n",
      "Requirement already satisfied, skipping upgrade: absl-py>=0.1.6 in /conda/lib/python3.6/site-packages (from tensorflow; extra == \"complete\"->dask-ml[complete]) (0.7.0)\n",
      "Requirement already satisfied, skipping upgrade: astor>=0.6.0 in /conda/lib/python3.6/site-packages (from tensorflow; extra == \"complete\"->dask-ml[complete]) (0.7.1)\n",
      "Requirement already satisfied, skipping upgrade: tensorflow-estimator<1.14.0rc0,>=1.13.0 in /conda/lib/python3.6/site-packages (from tensorflow; extra == \"complete\"->dask-ml[complete]) (1.13.0)\n",
      "Requirement already satisfied, skipping upgrade: protobuf>=3.6.1 in /conda/lib/python3.6/site-packages (from tensorflow; extra == \"complete\"->dask-ml[complete]) (3.7.1)\n",
      "Requirement already satisfied, skipping upgrade: wheel>=0.26 in /conda/lib/python3.6/site-packages (from tensorflow; extra == \"complete\"->dask-ml[complete]) (0.33.1)\n",
      "Requirement already satisfied, skipping upgrade: keras-preprocessing>=1.0.5 in /conda/lib/python3.6/site-packages (from tensorflow; extra == \"complete\"->dask-ml[complete]) (1.0.9)\n",
      "Requirement already satisfied, skipping upgrade: gast>=0.2.0 in /conda/lib/python3.6/site-packages (from tensorflow; extra == \"complete\"->dask-ml[complete]) (0.2.2)\n",
      "Requirement already satisfied, skipping upgrade: termcolor>=1.1.0 in /conda/lib/python3.6/site-packages (from tensorflow; extra == \"complete\"->dask-ml[complete]) (1.1.0)\n",
      "Requirement already satisfied, skipping upgrade: grpcio>=1.8.6 in /conda/lib/python3.6/site-packages (from tensorflow; extra == \"complete\"->dask-ml[complete]) (1.19.0)\n",
      "Requirement already satisfied, skipping upgrade: tensorboard<1.14.0,>=1.13.0 in /conda/lib/python3.6/site-packages (from tensorflow; extra == \"complete\"->dask-ml[complete]) (1.13.1)\n",
      "Requirement already satisfied, skipping upgrade: keras-applications>=1.0.6 in /conda/lib/python3.6/site-packages (from tensorflow; extra == \"complete\"->dask-ml[complete]) (1.0.7)\n",
      "Requirement already satisfied, skipping upgrade: heapdict in /conda/lib/python3.6/site-packages (from zict>=0.1.3->distributed>=1.25.0->dask-ml[complete]) (1.0.0)\n",
      "Requirement already satisfied, skipping upgrade: setuptools in /conda/lib/python3.6/site-packages (from protobuf>=3.6.1->tensorflow; extra == \"complete\"->dask-ml[complete]) (40.8.0)\n",
      "Requirement already satisfied, skipping upgrade: werkzeug>=0.11.15 in /conda/lib/python3.6/site-packages (from tensorboard<1.14.0,>=1.13.0->tensorflow; extra == \"complete\"->dask-ml[complete]) (0.15.2)\n",
      "Requirement already satisfied, skipping upgrade: markdown>=2.6.8 in /conda/lib/python3.6/site-packages (from tensorboard<1.14.0,>=1.13.0->tensorflow; extra == \"complete\"->dask-ml[complete]) (3.0.1)\n",
      "Requirement already satisfied, skipping upgrade: h5py in /conda/lib/python3.6/site-packages (from keras-applications>=1.0.6->tensorflow; extra == \"complete\"->dask-ml[complete]) (2.9.0)\n"
     ]
    }
   ],
   "source": [
    "%%nuclio cmd\n",
    "\n",
    "############\n",
    "# installs #\n",
    "############\n",
    "\n",
    "# Utils\n",
    "pip install pyyaml\n",
    "pip install pyarrow\n",
    "pip install pandas\n",
    "\n",
    "# Igz DB\n",
    "pip install v3io_frames --upgrade\n",
    "\n",
    "# Function\n",
    "pip install scikit-learn==0.20.1\n",
    "pip install xgboost --upgrade\n",
    "pip install dask[\"complete\"] --upgrade\n",
    "pip install dask-ml[\"complete\"] --upgrade"
   ]
  },
  {
   "cell_type": "markdown",
   "metadata": {},
   "source": [
    "### Variables"
   ]
  },
  {
   "cell_type": "code",
   "execution_count": 4,
   "metadata": {},
   "outputs": [
    {
     "name": "stdout",
     "output_type": "stream",
     "text": [
      "%nuclio: setting 'V3IO_FRAMESD' environment variable\n",
      "%nuclio: setting 'V3IO_USERNAME' environment variable\n",
      "%nuclio: setting 'V3IO_ACCESS_KEY' environment variable\n",
      "%nuclio: setting 'FEATURES_TABLE' environment variable\n",
      "%nuclio: setting 'TRAIN_ON_LAST' environment variable\n",
      "%nuclio: setting 'TRAIN_SIZE' environment variable\n",
      "%nuclio: setting 'NUMBER_OF_SHARDS' environment variable\n",
      "%nuclio: setting 'MODEL_FILENAME' environment variable\n",
      "%nuclio: setting 'SAVE_TO' environment variable\n"
     ]
    },
    {
     "name": "stderr",
     "output_type": "stream",
     "text": [
      "%nuclio: cannot find \"=\" in line\n",
      "%nuclio: cannot find \"=\" in line\n",
      "%nuclio: cannot find \"=\" in line\n",
      "%nuclio: cannot find \"=\" in line\n",
      "%nuclio: cannot find \"=\" in line\n"
     ]
    }
   ],
   "source": [
    "%%nuclio env\n",
    "\n",
    "# DB Config\n",
    "V3IO_FRAMESD=${V3IO_FRAMESD}\n",
    "V3IO_USERNAME=${V3IO_USERNAME}\n",
    "V3IO_ACCESS_KEY=${V3IO_ACCESS_KEY}\n",
    "\n",
    "# Features\n",
    "FEATURES_TABLE=netops_features\n",
    "\n",
    "# Training\n",
    "TRAIN_ON_LAST=7d\n",
    "TRAIN_SIZE=0.7\n",
    "\n",
    "# Parallelizem\n",
    "NUMBER_OF_SHARDS=4\n",
    "\n",
    "# Model\n",
    "MODEL_FILENAME=netops.model\n",
    "SAVE_TO=/v3io/bigdata/netops/models"
   ]
  },
  {
   "cell_type": "markdown",
   "metadata": {},
   "source": [
    "## Function"
   ]
  },
  {
   "cell_type": "markdown",
   "metadata": {},
   "source": [
    "### Imports"
   ]
  },
  {
   "cell_type": "code",
   "execution_count": 5,
   "metadata": {},
   "outputs": [],
   "source": [
    "# Utils\n",
    "import os\n",
    "import time\n",
    "import yaml\n",
    "import pandas as pd\n",
    "import datetime\n",
    "import itertools\n",
    "\n",
    "# DB Connection\n",
    "import v3io_frames as v3f\n",
    "\n",
    "# Parallelization\n",
    "import dask.dataframe as dd\n",
    "from dask.distributed import Client\n",
    "\n",
    "# Function\n",
    "import dask_ml.model_selection as dcv\n",
    "from dask_ml.xgboost import XGBClassifier"
   ]
  },
  {
   "cell_type": "markdown",
   "metadata": {},
   "source": [
    "### Helper functions"
   ]
  },
  {
   "cell_type": "code",
   "execution_count": 6,
   "metadata": {},
   "outputs": [],
   "source": [
    "def get_data(context):\n",
    "    df = context.v3f.read(backend='tsdb', query=f'select * from {context.features_table}',\n",
    "                          start=f'now-{context.train_on_last}', end='now', multi_index=True)\n",
    "    df = df.reset_index(drop=True)\n",
    "    df = dd.from_pandas(df, npartitions=context.shards)\n",
    "    return df"
   ]
  },
  {
   "cell_type": "code",
   "execution_count": 7,
   "metadata": {},
   "outputs": [],
   "source": [
    "def get_train_test_sets_from_data(context, df: pd.DataFrame):\n",
    "    drop_columns = [col for col in df.columns if 'is_error' in col]\n",
    "    X = df.drop(drop_columns, axis=1)\n",
    "    y = df.loc[:, 'is_error']\n",
    "    X_train, X_test, y_train, y_test = dcv.train_test_split(X, y, train_size=context.train_size, test_size=1-context.train_size)\n",
    "    return X_train, X_test, y_train, y_test"
   ]
  },
  {
   "cell_type": "markdown",
   "metadata": {},
   "source": [
    "### Init context"
   ]
  },
  {
   "cell_type": "code",
   "execution_count": 8,
   "metadata": {},
   "outputs": [],
   "source": [
    "def init_context(context):\n",
    "    \n",
    "    # Create our DB client\n",
    "    v3io_client = v3f.Client(address='http://' + os.getenv('V3IO_FRAMESD', 'framesd:8081'), \n",
    "                        container='bigdata', \n",
    "                        password=os.environ['V3IO_ACCESS_KEY'], \n",
    "                        user=os.environ['V3IO_USERNAME'])\n",
    "    setattr(context, 'v3f', v3io_client)\n",
    "    \n",
    "    # Create Dask client\n",
    "    dask_client = Client()\n",
    "    setattr(context, 'dask', dask_client)\n",
    "    \n",
    "    # Set time to train on\n",
    "    train_on_last = os.getenv('TRAIN_ON_LAST', '7d')\n",
    "    setattr(context, 'train_on_last', train_on_last)\n",
    "    \n",
    "    # Set training set size\n",
    "    train_set_size = float(os.getenv('TRAIN_SIZE', 0.7))\n",
    "    setattr(context, 'train_size', train_set_size)\n",
    "    \n",
    "    # Netops metrics table\n",
    "    setattr(context, 'features_table', os.getenv('FEATURES_TABLE', 'netops_features'))\n",
    "    \n",
    "    # Dask shards / CV\n",
    "    setattr(context, 'shards', int(os.getenv('NUMBER_OF_SHARDS', 4)))\n",
    "    \n",
    "    # Create save-to folder if needed\n",
    "    model_filepath = os.getenv('SAVE_TO', '/v3io/bigdata/netops/models')\n",
    "    if not os.path.exists(model_filepath):\n",
    "        os.makedirs(model_filepath)\n",
    "    setattr(context, 'model_filepath', os.path.join(model_filepath, 'netops.v1.model'))"
   ]
  },
  {
   "cell_type": "markdown",
   "metadata": {},
   "source": [
    "### Handler"
   ]
  },
  {
   "cell_type": "code",
   "execution_count": 9,
   "metadata": {},
   "outputs": [],
   "source": [
    "def handler(context, event):\n",
    "    \n",
    "    # Get data\n",
    "    df = get_data(context) \n",
    "\n",
    "    # Split to Train / Test datasets\n",
    "    X_train, X_test, y_train, y_test = get_train_test_sets_from_data(context, df)\n",
    "    \n",
    "    # Train\n",
    "    model = XGBClassifier()\n",
    "    model.fit(X_train, y_train)\n",
    "    \n",
    "    # Score\n",
    "    score = model.score(X_test, y_test)\n",
    "    print(score)\n",
    "    \n",
    "    # Save model\n",
    "    model.save_model(context.model_filepath)"
   ]
  },
  {
   "cell_type": "markdown",
   "metadata": {},
   "source": [
    "## Test"
   ]
  },
  {
   "cell_type": "code",
   "execution_count": 10,
   "metadata": {},
   "outputs": [
    {
     "name": "stderr",
     "output_type": "stream",
     "text": [
      "/conda/lib/python3.6/site-packages/bokeh/themes/theme.py:131: YAMLLoadWarning: calling yaml.load() without Loader=... is deprecated, as the default Loader is unsafe. Please read https://msg.pyyaml.org/load for full details.\n",
      "  json = yaml.load(f)\n",
      "/conda/lib/python3.6/site-packages/distributed/bokeh/core.py:57: UserWarning: \n",
      "Port 8787 is already in use. \n",
      "Perhaps you already have a cluster running?\n",
      "Hosting the diagnostics dashboard on a random port instead.\n",
      "  warnings.warn('\\n' + msg)\n"
     ]
    }
   ],
   "source": [
    "# nuclio: ignore\n",
    "init_context(context)"
   ]
  },
  {
   "cell_type": "code",
   "execution_count": 11,
   "metadata": {},
   "outputs": [
    {
     "name": "stdout",
     "output_type": "stream",
     "text": [
      "0.8493765586034913\n"
     ]
    }
   ],
   "source": [
    "# nuclio: ignore\n",
    "# init_context(context)\n",
    "event = nuclio.Event(body='')\n",
    "output = handler(context, event)\n",
    "output"
   ]
  },
  {
   "cell_type": "markdown",
   "metadata": {},
   "source": [
    "## Deployment"
   ]
  },
  {
   "cell_type": "code",
   "execution_count": null,
   "metadata": {},
   "outputs": [
    {
     "name": "stdout",
     "output_type": "stream",
     "text": [
      "%nuclio: ['deploy', '-p', 'netops', '-n', 'training', '-c', '/User/netops/tutorials/demos/netops/Nuclio-Training.ipynb']\n",
      "%nuclio: [nuclio.deploy] 2019-05-15 14:42:00,377 (info) Building processor image\n",
      "%nuclio: [nuclio.deploy] 2019-05-15 14:43:11,142 (info) Pushing image\n",
      "%nuclio: [nuclio.deploy] 2019-05-15 14:43:37,406 (info) Build complete\n",
      "%nuclio: [nuclio.deploy] 2019-05-15 14:43:43,468 (info) Function deploy complete\n",
      "%nuclio: [nuclio.deploy] 2019-05-15 14:43:43,474 done updating training, function address: 3.122.56.83:32342\n",
      "%nuclio: function deployed\n"
     ]
    }
   ],
   "source": [
    "%nuclio deploy -p netops -n training -c"
   ]
  },
  {
   "cell_type": "markdown",
   "metadata": {},
   "source": [
    "# Test event"
   ]
  },
  {
   "cell_type": "code",
   "execution_count": 36,
   "metadata": {},
   "outputs": [
    {
     "ename": "SyntaxError",
     "evalue": "invalid syntax (<ipython-input-36-704e0ddabbee>, line 6)",
     "output_type": "error",
     "traceback": [
      "\u001b[0;36m  File \u001b[0;32m\"<ipython-input-36-704e0ddabbee>\"\u001b[0;36m, line \u001b[0;32m6\u001b[0m\n\u001b[0;31m    'input_data': 'FEATURES_TABLE',\u001b[0m\n\u001b[0m               ^\u001b[0m\n\u001b[0;31mSyntaxError\u001b[0m\u001b[0;31m:\u001b[0m invalid syntax\n"
     ]
    }
   ],
   "source": [
    "# nuclio: ignore\n",
    "training_nuclio_event = {\n",
    "    'experiment_metadata': {\n",
    "        'id': 'id'\n",
    "    },\n",
    "    'input_data': 'FEATURES_TABLE',\n",
    "    'input_type': 'TSDB / Parquet',\n",
    "    'parameters': {\n",
    "        # 'hyperparms'\n",
    "    },\n",
    "    'algorithm': 'SCIKIT_ENABLED_ALGORITHM',\n",
    "    'output_model': 'URL / file path',\n",
    "    'output_matrix': 'CV model training results - As CSV to output_model directory / url'\n",
    "}"
   ]
  },
  {
   "cell_type": "code",
   "execution_count": 38,
   "metadata": {},
   "outputs": [],
   "source": [
    "# nuclio: ignore\n",
    "inference_nuclio_event = {\n",
    "    'input_data_type': 'inline / file / tsdb',\n",
    "    'input_data_path': 'tsdb path / file path',\n",
    "    'feature_vector_if_inline_input': {\n",
    "        'df': 'df json export'\n",
    "    },\n",
    "    'output_data_type': 'inline (as response json) / file / tsdb',\n",
    "    'output_data_path': 'tsdb path / file path'\n",
    "}"
   ]
  },
  {
   "cell_type": "code",
   "execution_count": null,
   "metadata": {},
   "outputs": [],
   "source": []
  }
 ],
 "metadata": {
  "kernelspec": {
   "display_name": "Python 3",
   "language": "python",
   "name": "python3"
  },
  "language_info": {
   "codemirror_mode": {
    "name": "ipython",
    "version": 3
   },
   "file_extension": ".py",
   "mimetype": "text/x-python",
   "name": "python",
   "nbconvert_exporter": "python",
   "pygments_lexer": "ipython3",
   "version": "3.6.8"
  }
 },
 "nbformat": 4,
 "nbformat_minor": 2
}
