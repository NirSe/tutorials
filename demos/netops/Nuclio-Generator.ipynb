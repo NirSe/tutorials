{
 "cells": [
  {
   "cell_type": "markdown",
   "metadata": {},
   "source": [
    "# Nuclio - Generator function"
   ]
  },
  {
   "cell_type": "markdown",
   "metadata": {},
   "source": [
    "## Environment"
   ]
  },
  {
   "cell_type": "code",
   "execution_count": 2,
   "metadata": {},
   "outputs": [],
   "source": [
    "# nuclio: ignore\n",
    "import nuclio"
   ]
  },
  {
   "cell_type": "markdown",
   "metadata": {},
   "source": [
    "### Configurations"
   ]
  },
  {
   "cell_type": "code",
   "execution_count": 3,
   "metadata": {},
   "outputs": [
    {
     "name": "stdout",
     "output_type": "stream",
     "text": [
      "%nuclio: setting spec.triggers.secs.kind to 'cron'\n",
      "%nuclio: setting spec.triggers.secs.attributes.interval to '10s'\n",
      "%nuclio: setting spec.build.baseImage to 'python:3.6-jessie'\n"
     ]
    }
   ],
   "source": [
    "%%nuclio config \n",
    "\n",
    "# Trigger\n",
    "spec.triggers.secs.kind = \"cron\"\n",
    "spec.triggers.secs.attributes.interval = \"10s\"\n",
    "\n",
    "# Base image\n",
    "spec.build.baseImage = \"python:3.6-jessie\""
   ]
  },
  {
   "cell_type": "markdown",
   "metadata": {},
   "source": [
    "### Mount / wget"
   ]
  },
  {
   "cell_type": "code",
   "execution_count": 4,
   "metadata": {},
   "outputs": [],
   "source": [
    "import os"
   ]
  },
  {
   "cell_type": "code",
   "execution_count": 5,
   "metadata": {},
   "outputs": [],
   "source": [
    "# nuclio: ignore\n",
    "os.environ['configurations_path'] = os.path.join('~', 'netops', 'tutorials', 'demos', 'netops', 'configurations')"
   ]
  },
  {
   "cell_type": "code",
   "execution_count": 6,
   "metadata": {},
   "outputs": [
    {
     "name": "stdout",
     "output_type": "stream",
     "text": [
      "mounting volume path /configurations as ~/netops/tutorials/demos/netops/configurations\n"
     ]
    }
   ],
   "source": [
    "%nuclio mount /configurations ${configurations_path}"
   ]
  },
  {
   "cell_type": "markdown",
   "metadata": {},
   "source": [
    "### Setups"
   ]
  },
  {
   "cell_type": "code",
   "execution_count": null,
   "metadata": {},
   "outputs": [],
   "source": [
    "%%nuclio cmd\n",
    "\n",
    "# Utils\n",
    "pip install pyarrow\n",
    "pip install pyyaml --upgrade\n",
    "pip install pandas\n",
    "pip install pytimeparse\n",
    "\n",
    "# Igz DB\n",
    "pip install v3io_frames --upgrade\n",
    "\n",
    "# Function\n",
    "pip install -i https://test.pypi.org/simple/ v3io-generator\n",
    "pip install faker\n",
    "\n",
    "# Commands\n",
    "mkdir /configurations"
   ]
  },
  {
   "cell_type": "markdown",
   "metadata": {},
   "source": [
    "### Variables"
   ]
  },
  {
   "cell_type": "code",
   "execution_count": 304,
   "metadata": {},
   "outputs": [
    {
     "name": "stdout",
     "output_type": "stream",
     "text": [
      "%nuclio: setting 'V3IO_FRAMESD' environment variable\n",
      "%nuclio: setting 'V3IO_USERNAME' environment variable\n",
      "%nuclio: setting 'V3IO_ACCESS_KEY' environment variable\n",
      "%nuclio: setting 'SAVE_DEPLOYMENT' environment variable\n",
      "%nuclio: setting 'DEPLOYMENT_TABLE' environment variable\n",
      "%nuclio: setting 'SAVE_TO' environment variable\n",
      "%nuclio: setting 'INITIAL_TIMESTAMP' environment variable\n",
      "%nuclio: setting 'SECS_TO_GENERATE' environment variable\n",
      "%nuclio: setting 'SAVE_TO_TSDB' environment variable\n"
     ]
    },
    {
     "name": "stderr",
     "output_type": "stream",
     "text": [
      "%nuclio: cannot find \"=\" in line\n",
      "%nuclio: cannot find \"=\" in line\n",
      "%nuclio: cannot find \"=\" in line\n",
      "%nuclio: cannot find \"=\" in line\n"
     ]
    }
   ],
   "source": [
    "%%nuclio env\n",
    "\n",
    "# DB Config\n",
    "V3IO_FRAMESD=${V3IO_FRAMESD}\n",
    "V3IO_USERNAME=${V3IO_USERNAME}\n",
    "V3IO_ACCESS_KEY=${V3IO_ACCESS_KEY}\n",
    "\n",
    "# Deployment\n",
    "SAVE_DEPLOYMENT=0\n",
    "DEPLOYMENT_TABLE=netops_devices\n",
    "\n",
    "# Metrics\n",
    "SAVE_TO=/v3io/bigdata/netops_metrics_parquet\n",
    "INITIAL_TIMESTAMP=-1\n",
    "SECS_TO_GENERATE=10\n",
    "\n",
    "# Save as\n",
    "SAVE_TO_TSDB=0"
   ]
  },
  {
   "cell_type": "code",
   "execution_count": 222,
   "metadata": {},
   "outputs": [
    {
     "name": "stdout",
     "output_type": "stream",
     "text": [
      "%nuclio: setting 'METRICS_CONFIGURATION_FILEPATH' environment variable\n"
     ]
    }
   ],
   "source": [
    "%nuclio env -c METRICS_CONFIGURATION_FILEPATH=/configurations/metrics_configuration.yaml\n",
    "%nuclio env -l METRICS_CONFIGURATION_FILEPATH=configurations/metrics_configuration.yaml"
   ]
  },
  {
   "cell_type": "markdown",
   "metadata": {},
   "source": [
    "## Function"
   ]
  },
  {
   "cell_type": "code",
   "execution_count": 293,
   "metadata": {},
   "outputs": [],
   "source": [
    "# import os # Already imported earlier\n",
    "import time\n",
    "import yaml\n",
    "import pandas as pd\n",
    "import datetime\n",
    "import itertools\n",
    "\n",
    "# DB Connection\n",
    "import v3io_frames as v3f\n",
    "\n",
    "# Data generator\n",
    "from v3io_generator import metrics_generator, deployment_generator"
   ]
  },
  {
   "cell_type": "markdown",
   "metadata": {},
   "source": [
    "### Helper functions"
   ]
  },
  {
   "cell_type": "code",
   "execution_count": 224,
   "metadata": {},
   "outputs": [],
   "source": [
    "def _create_deployment():\n",
    "    print('creating deployment')\n",
    "    # Create meta-data factory\n",
    "    dep_gen = deployment_generator.deployment_generator()\n",
    "    faker=dep_gen.get_faker()\n",
    "\n",
    "    # Design meta-data\n",
    "    dep_gen.add_level(name='company',number=2,level_type=faker.company)\n",
    "    dep_gen.add_level('data_center',number=2,level_type=faker.street_name)\n",
    "    dep_gen.add_level('device',number=2,level_type=faker.msisdn)\n",
    "\n",
    "    # Create meta-data\n",
    "    deployment_df = dep_gen.generate_deployment()\n",
    "    return deployment_df"
   ]
  },
  {
   "cell_type": "code",
   "execution_count": 225,
   "metadata": {},
   "outputs": [],
   "source": [
    "def _is_deployment_exist(path):\n",
    "    # Checking shared path for the devices table\n",
    "    return os.path.exists(f'/v3io/bigdata/{path}')"
   ]
  },
  {
   "cell_type": "code",
   "execution_count": 226,
   "metadata": {},
   "outputs": [],
   "source": [
    "def _get_deployment_from_kv(client, path):\n",
    "    print(f'Retrieving deployment from {path}')\n",
    "    context.logger.debug(f'Retrieving deployment from {path}')\n",
    "    # Read the devices table from our KV store\n",
    "    deployment_df = client.read(backend='kv', table=path)\n",
    "    \n",
    "    # Reset index to column\n",
    "    deployment_df.index.name = 'device'\n",
    "    deployment_df = deployment_df.reset_index()\n",
    "    return deployment_df"
   ]
  },
  {
   "cell_type": "code",
   "execution_count": 227,
   "metadata": {},
   "outputs": [],
   "source": [
    "def _save_deployment_to_kv(path, df, client=v3f.Client('framesd:8081')):\n",
    "    # Save deployment to our KV store\n",
    "    client.write(backend='kv', table='netops_devices',dfs=df, index_cols=['device'])"
   ]
  },
  {
   "cell_type": "code",
   "execution_count": 228,
   "metadata": {},
   "outputs": [],
   "source": [
    "def get_or_create_deployment(path, save_to_cloud=False, client=None):\n",
    "    if client and _is_deployment_exist(path):\n",
    "        # Get deployment from KV\n",
    "        deployment_df = _get_deployment_from_kv(client, path)\n",
    "    else:\n",
    "        # Create deployment\n",
    "        deployment_df = _create_deployment()\n",
    "        \n",
    "        if client and save_to_cloud:\n",
    "            _save_deployment_to_kv(path, deployment_df, client)\n",
    "\n",
    "    return deployment_df"
   ]
  },
  {
   "cell_type": "code",
   "execution_count": 250,
   "metadata": {},
   "outputs": [],
   "source": [
    "def set_indexes(df):\n",
    "    df = df.set_index(['timestamp', 'company', 'data_center', 'device'])\n",
    "    return df"
   ]
  },
  {
   "cell_type": "code",
   "execution_count": 251,
   "metadata": {},
   "outputs": [],
   "source": [
    "def save_metrics_to_tsdb(context, metrics: pd.DataFrame):\n",
    "    print('Saving metrics to TSDB')\n",
    "    \n",
    "    # Fix indexes\n",
    "    metrics= set_indexes(metrics)\n",
    "    \n",
    "    context.v3f.write('tsdb', context.metrics_table, metrics)"
   ]
  },
  {
   "cell_type": "code",
   "execution_count": 299,
   "metadata": {},
   "outputs": [],
   "source": [
    "def save_metrics_to_parquet(context, metrics: pd.DataFrame):\n",
    "    print('Saving metrics to Parquet')\n",
    "    \n",
    "    # Need to fix timestamps from ns to ms if we write to parquet\n",
    "    print(metrics.loc[:1, 'timestamp'])\n",
    "#     metrics['timestamp'] = pd.to_datetime(metrics.loc[:, 'timestamp'], unit='D')\n",
    "    metrics['timestamp'] = metrics.loc[:, 'timestamp'].astype('datetime64[ms]')\n",
    "    print(metrics.loc[:1, 'timestamp'])\n",
    "    \n",
    "    # Fix indexes\n",
    "    metrics= set_indexes(metrics)\n",
    "    \n",
    "    # Save parquet\n",
    "    filepath = os.path.join(context.metrics_table, time.strftime('%Y%m%dT%H%M%S') + '.parquet')\n",
    "    with open(filepath, 'wb+') as f:\n",
    "        metrics.to_parquet(f)"
   ]
  },
  {
   "cell_type": "code",
   "execution_count": 300,
   "metadata": {},
   "outputs": [],
   "source": [
    "def is_deployment_initialized(context):\n",
    "    return hasattr(context, 'metric_generator')"
   ]
  },
  {
   "cell_type": "markdown",
   "metadata": {},
   "source": [
    "### Init context"
   ]
  },
  {
   "cell_type": "code",
   "execution_count": 305,
   "metadata": {},
   "outputs": [],
   "source": [
    "def init_context(context):\n",
    "    \n",
    "    # Get saving configuration\n",
    "    save_to_tsdb = os.getenv('SAVE_TO_TSDB', 1) == 1\n",
    "    print(f'SAVE_TO_TSDB: {os.environ[\"SAVE_TO_TSDB\"]}-{type(save_to_tsdb)}-{save_to_tsdb}')\n",
    "    \n",
    "    # Set metrics table\n",
    "    metrics_table = os.getenv('SAVE_TO', 'netops_metrics')\n",
    "    setattr(context, 'metrics_table', metrics_table) \n",
    "\n",
    "    # TSDB Based demo\n",
    "    if save_to_tsdb:\n",
    "        print('Saving to TSDB-')\n",
    "        # Create our DB client\n",
    "        client = v3f.Client(address='http://' + os.getenv('V3IO_FRAMESD', 'framesd:8081'), \n",
    "                        container='bigdata', \n",
    "                        password=os.environ['V3IO_ACCESS_KEY'], \n",
    "                        user=os.environ['V3IO_USERNAME'])\n",
    "        \n",
    "        # Create TSDB table if needed\n",
    "        client.create('tsdb', metrics_table, attrs={'rate': '1/s'}, if_exists=1)\n",
    "        \n",
    "        # Set saving fucntion\n",
    "        setattr(context, 'write', save_metrics_to_tsdb)\n",
    "    \n",
    "    else:\n",
    "        print('Saving to Parquet-')\n",
    "        # Set empty client for verification purposes\n",
    "        client = None\n",
    "          \n",
    "        # Create saving directory\n",
    "        filepath = os.path.join(metrics_table)\n",
    "        if not os.path.exists(filepath):\n",
    "            os.makedirs(filepath)\n",
    "        \n",
    "        # Set saving fucntion\n",
    "        setattr(context, 'write', save_metrics_to_parquet)\n",
    "    \n",
    "          \n",
    "    # Set batch endtime\n",
    "    secs_to_generate = os.getenv('SECS_TO_GENERATE', 10)\n",
    "    setattr(context, 'secs_to_generate', secs_to_generate)\n",
    "    \n",
    "     \n",
    "    \n",
    "    # Generate or create deployment\n",
    "    deployment_df = get_or_create_deployment(os.environ['DEPLOYMENT_TABLE'], os.environ['SAVE_DEPLOYMENT'], client)\n",
    "    \n",
    "    deployment_df['cpu_utilization'] = 70\n",
    "    deployment_df['latency'] = 0\n",
    "    deployment_df['packet_loss'] = 0\n",
    "    deployment_df['throughput'] = 290\n",
    "    deployment_df.head()\n",
    "    \n",
    "    # Get metrics configuration\n",
    "    with open(os.getenv('METRICS_CONFIGURATION_FILEPATH', '/configurations/metrics_configuration.yaml'), 'r') as f:\n",
    "        metrics_configuration = yaml.load(f)\n",
    "        \n",
    "    # Create metrics generator\n",
    "    initial_timestamp = int(os.getenv('INITIAL_TIMESTAMP', time.time()))\n",
    "    met_gen = metrics_generator.Generator_df(metrics_configuration, \n",
    "                                             user_hierarchy=deployment_df, \n",
    "                                             initial_timestamp=initial_timestamp)\n",
    "    setattr(context, 'metric_generator', met_gen)\n",
    "    \n",
    "    # Set client\n",
    "    setattr(context, 'v3f', client)\n"
   ]
  },
  {
   "cell_type": "markdown",
   "metadata": {},
   "source": [
    "### Handler"
   ]
  },
  {
   "cell_type": "code",
   "execution_count": 306,
   "metadata": {},
   "outputs": [],
   "source": [
    "def handler(context, event):\n",
    "       \n",
    "    # Create metrics generator based on YAML configuration and deployment\n",
    "    metrics = context.metric_generator.generate_range(start_time=datetime.datetime.now(),\n",
    "                                     end_time=datetime.datetime.now()+datetime.timedelta(seconds=int(context.secs_to_generate)),\n",
    "                                     as_df=True,\n",
    "                                     as_iterator=False)\n",
    "    \n",
    "        \n",
    "    # Save Generated metrics\n",
    "    context.write(context, metrics)"
   ]
  },
  {
   "cell_type": "markdown",
   "metadata": {},
   "source": [
    "## Test"
   ]
  },
  {
   "cell_type": "code",
   "execution_count": 307,
   "metadata": {},
   "outputs": [
    {
     "name": "stdout",
     "output_type": "stream",
     "text": [
      "SAVE_TO_TSDB: 0-<class 'bool'>-False\n",
      "Saving to Parquet-\n",
      "creating deployment\n",
      "Saving metrics to Parquet\n",
      "0   2019-05-14 07:40:33.851568\n",
      "1   2019-05-14 07:40:33.851568\n",
      "Name: timestamp, dtype: datetime64[ns]\n",
      "0   2019-05-14 07:40:33.851\n",
      "1   2019-05-14 07:40:33.851\n",
      "Name: timestamp, dtype: datetime64[ns]\n"
     ]
    },
    {
     "name": "stderr",
     "output_type": "stream",
     "text": [
      "/conda/lib/python3.6/site-packages/ipykernel_launcher.py:57: YAMLLoadWarning: calling yaml.load() without Loader=... is deprecated, as the default Loader is unsafe. Please read https://msg.pyyaml.org/load for full details.\n"
     ]
    }
   ],
   "source": [
    "# nuclio: ignore\n",
    "init_context(context)\n",
    "event = nuclio.Event(body='')\n",
    "output = handler(context, event)\n",
    "output"
   ]
  },
  {
   "cell_type": "markdown",
   "metadata": {},
   "source": [
    "# Deploy"
   ]
  },
  {
   "cell_type": "code",
   "execution_count": 311,
   "metadata": {},
   "outputs": [
    {
     "name": "stdout",
     "output_type": "stream",
     "text": [
      "%nuclio: ['deploy', '-p', 'netops', '-n', 'generator', '-c', '/User/netops/tutorials/demos/netops/Nuclio-Generator.ipynb']\n",
      "%nuclio: [nuclio.deploy] 2019-05-14 07:42:08,676 (info) Building processor image\n",
      "%nuclio: [nuclio.deploy] 2019-05-14 07:42:32,926 (info) Pushing image\n",
      "%nuclio: [nuclio.deploy] 2019-05-14 07:42:36,968 (info) Build complete\n",
      "%nuclio: [nuclio.deploy] 2019-05-14 07:43:09,314 (warn) Create function failed failed, setting function status\n",
      "%nuclio: [nuclio.deploy] 2019-05-14 07:43:09,314\n",
      "%nuclio: Error - NuclioFunction in error state (\n",
      "%nuclio: Error - context deadline exceeded\n",
      "%nuclio:     .../platform/kube/controller/nucliofunction.go:122\n",
      "%nuclio: \n",
      "%nuclio: Call stack:\n",
      "%nuclio: Failed to wait for function resources to be available\n",
      "%nuclio:     .../platform/kube/controller/nucliofunction.go:122\n",
      "%nuclio: )\n",
      "%nuclio:     .../nuclio/nuclio/pkg/platform/kube/deployer.go:185\n",
      "%nuclio: \n",
      "%nuclio: Call stack:\n",
      "%nuclio: NuclioFunction in error state (\n",
      "%nuclio: Error - context deadline exceeded\n",
      "%nuclio:     .../platform/kube/controller/nucliofunction.go:122\n",
      "%nuclio: \n",
      "%nuclio: Call stack:\n",
      "%nuclio: Failed to wait for function resources to be available\n",
      "%nuclio:     .../platform/kube/controller/nucliofunction.go:122\n",
      "%nuclio: )\n",
      "%nuclio:     .../nuclio/nuclio/pkg/platform/kube/deployer.go:185\n",
      "%nuclio: Failed to wait for function readiness.\n",
      "%nuclio: \n",
      "%nuclio: Pod logs:\n",
      "%nuclio: \n",
      "%nuclio: * generator-6977947766-frr6x\n",
      "%nuclio: {\"level\":\"debug\",\"time\":\"2019-05-13T09:04:24.695Z\",\"name\":\"processor\",\"message\":\"Read configuration\",\"more\":\"config=&{Config:{Meta:{Name:generator Namespace:default-tenant Labels:map[] Annotations:map[]} Spec:{Description: Disabled:false Publish:false Handler:handler:handler Runtime:python:3.6 Env:[{Name:V3IO_FRAMESD Value:framesd.default-tenant.svc:8080 ValueFrom:nil} {Name:V3IO_USERNAME Value:iguazio ValueFrom:nil} {Name:V3IO_ACCESS_KEY Value:64c94a79-7a41-4b13-bb7f-a3c9e9860eaf ValueFrom:nil} {Name:SAVE_DEPLOYMENT Value:True ValueFrom:nil} {Name:DEPLOYMENT_TABLE Value:netops_devices ValueFrom:nil} {Name:SAVE_TO Value:netops_metrics ValueFrom:nil} {Name:INITIAL_TIMESTAMP Value:-1 ValueFrom:nil} {Name:SECS_TO_GENERATE Value:10 ValueFrom:nil} {Name:SAVE_TO_TSDB Value:Truee ValueFrom:nil} {Name:METRICS_CONFIGURATION_FILEPATH Value:/configurations/metrics_configuration.yaml ValueFrom:nil}] Resources:{Limits:map[] Requests:map[]} Image:docker-registry.default-tenant.app.fmdvvoebjfpx.iguazio-cd2.com:80/nuclio/processor-generator:latest ImageHash:1557738255470332664 Replicas:0 MinReplicas:0 MaxReplicas:0 TargetCPU:0 DataBindings:map[] Triggers:map[secs:{Class: Kind:cron Disabled:false MaxWorkers:0 URL: Paths:[] Username: Password: Secret: Partitions:[] Annotations:map[] WorkerAvailabilityTimeoutMilliseconds:0 WorkerAllocatorName: TotalTasks:0 MaxTaskAllocation:0 Attributes:map[interval:10s]}] Volumes:[{Volume:{Name:fs VolumeSource:{HostPath:nil EmptyDir:nil GCEPersistentDisk:nil AWSElasticBlockStore:nil GitRepo:nil Secret:nil NFS:nil ISCSI:nil Glusterfs:nil PersistentVolumeClaim:nil RBD:nil FlexVolume:&FlexVolumeSource{Driver:v3io/fuse,FSType:,SecretRef:nil,ReadOnly:false,Options:map[string]string{accessKey: 64c94a79-7a41-4b13-bb7f-a3c9e9860eaf,container: users,subPath: /iguazio/netops/tutorials/demos/netops/configurations,},} Cinder:nil CephFS:nil Flocker:nil DownwardAPI:nil FC:nil AzureFile:nil ConfigMap:nil VsphereVolume:nil Quobyte:nil AzureDisk:nil PhotonPersistentDisk:nil Projected:nil PortworxVolume:nil ScaleIO:nil StorageOS:nil}} VolumeMount:{Name:fs ReadOnly:false MountPath:/configurations SubPath: MountPropagation:<nil>}}] Version:-1 Alias:latest Build:{Path: FunctionSourceCode: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 FunctionConfigPath: TempDir: Registry:docker-registry.default-tenant.app.fmdvvoebjfpx.iguazio-cd2.com:80 Image: NoBaseImagesPull:true NoCache:false NoCleanup:false BaseImage:python:3.6-jessie Commands:[pip install pyarrow pip install pyyaml --upgrade pip install pandas pip install pytimeparse pip install v3io_frames --upgrade pip install -i https://test.pypi.org/simple/ v3io-generator pip install faker mkdir /configurations] Directives:map[] ScriptPaths:[] AddedObjectPaths:map[] Dependencies:[] OnbuildImage: Offline:true RuntimeAttributes:map[] CodeEntryType: CodeEntryAttributes:map[] Timestamp:1557738262 Mode:} RunRegistry:docker-registry.default-tenant.app.fmdvvoebjfpx.iguazio-cd2.com:80 RuntimeAttributes:map[] LoggerSinks:[] DealerURI: Platform:{Attributes:map[]} ReadinessTimeoutSeconds:0 Avatar: ServiceType:NodePort ImagePullPolicy:}} PlatformConfig:<nil>} || platformConfig=&{Kind:kube WebAdmin:{Enabled:<nil> ListenAddress:} HealthCheck:{Enabled:<nil> ListenAddress:} Logger:{Sinks:map[myStdoutLoggerSink:{Kind:stdout URL: Attributes:map[timeFieldName:time varGroupName:more encoding:json timeFieldEncoding:iso8601]}] System:[{Level:debug Sink:myStdoutLoggerSink}] Functions:[{Level:debug Sink:myStdoutLoggerSink}]} Metrics:{Sinks:map[] System:[] Functions:[]} ScaleToZero:{MetricName: WindowSize: PollerInterval: ScalerInterval:} AutoScale:{MetricName: TargetValue:} FunctionAugmentedConfigs:[]}\"}{\"level\":\"debug\",\"time\":\"2019-05-13T09:04:24.695Z\",\"name\":\"processor.cron\",\"message\":\"Creating worker pool\",\"more\":\"num=1\"}{\"level\":\"debug\",\"time\":\"2019-05-13T09:04:24.695Z\",\"name\":\"processor.cron.w0.python.logger\",\"message\":\"Creating listener socket\",\"more\":\"path=/tmp/nuclio-rpc-bjcj663vj15g00f92cmg.sock\"}{\"level\":\"debug\",\"time\":\"2019-05-13T09:04:24.695Z\",\"name\":\"processor.cron.w0.python.logger\",\"message\":\"Using Python wrapper script path\",\"more\":\"path=/opt/nuclio/_nuclio_wrapper.py\"}{\"level\":\"debug\",\"time\":\"2019-05-13T09:04:24.696Z\",\"name\":\"processor.cron.w0.python.logger\",\"message\":\"Using Python handler\",\"more\":\"handler=handler:handler\"}{\"level\":\"debug\",\"time\":\"2019-05-13T09:04:24.696Z\",\"name\":\"processor.cron.w0.python.logger\",\"message\":\"Using Python executable\",\"more\":\"path=/usr/local/bin/python3\"}{\"level\":\"debug\",\"time\":\"2019-05-13T09:04:24.696Z\",\"name\":\"processor.cron.w0.python.logger\",\"message\":\"Setting PYTHONPATH\",\"more\":\"value=PYTHONPATH=/opt/nuclio\"}{\"level\":\"debug\",\"time\":\"2019-05-13T09:04:24.696Z\",\"name\":\"processor.cron.w0.python.logger\",\"message\":\"Running wrapper\",\"more\":\"command=/usr/local/bin/python3 -u /opt/nuclio/_nuclio_wrapper.py --handler handler:handler --socket-path /tmp/nuclio-rpc-bjcj663vj15g00f92cmg.sock --platform-kind kube --namespace default-tenant --worker-id 0 --trigger-name \"}{\"level\":\"info\",\"time\":\"2019-05-13T09:04:25.211Z\",\"name\":\"processor.cron.w0.python.logger\",\"message\":\"Wrapper connected\"}{\"level\":\"debug\",\"time\":\"2019-05-13T09:04:25.211Z\",\"name\":\"processor.cron.w0.python.logger\",\"message\":\"Waiting for start\"}Python> 2019-05-13 09:04:25,211 [info] Replacing logger outputcreating deployment/opt/nuclio/handler.py:95: YAMLLoadWarning: calling yaml.load() without Loader=... is deprecated, as the default Loader is unsafe. Please read https://msg.pyyaml.org/load for full details.  metrics_configuration = yaml.load(f){\"level\":\"debug\",\"time\":\"2019-05-13T09:04:25.504Z\",\"name\":\"processor.cron.w0.python.logger\",\"message\":\"Started\"}{\"level\":\"info\",\"time\":\"2019-05-13T09:04:25.504Z\",\"name\":\"processor.cron\",\"message\":\"Creating new cron trigger with interval\",\"more\":\"interval=10s\"}{\"level\":\"debug\",\"time\":\"2019-05-13T09:04:25.504Z\",\"name\":\"processor\",\"message\":\"Creating default HTTP event source\",\"more\":\"configuration=&{Class:sync Kind:http Disabled:false MaxWorkers:1 URL::8080 Paths:[] Username: Password: Secret: Partitions:[] Annotations:map[] WorkerAvailabilityTimeoutMilliseconds:0 WorkerAllocatorName:defaultHTTPWorkerAllocator TotalTasks:0 MaxTaskAllocation:0 Attributes:map[]}\"}{\"level\":\"debug\",\"time\":\"2019-05-13T09:04:25.504Z\",\"name\":\"processor.http\",\"message\":\"Creating worker pool\",\"more\":\"num=1\"}{\"level\":\"debug\",\"time\":\"2019-05-13T09:04:25.504Z\",\"name\":\"processor.http.w0.python.logger\",\"message\":\"Creating listener socket\",\"more\":\"path=/tmp/nuclio-rpc-bjcj66bvj15g00f92cn0.sock\"}{\"level\":\"debug\",\"time\":\"2019-05-13T09:04:25.504Z\",\"name\":\"processor.http.w0.python.logger\",\"message\":\"Using Python wrapper script path\",\"more\":\"path=/opt/nuclio/_nuclio_wrapper.py\"}{\"level\":\"debug\",\"time\":\"2019-05-13T09:04:25.504Z\",\"name\":\"processor.http.w0.python.logger\",\"message\":\"Using Python handler\",\"more\":\"handler=handler:handler\"}{\"level\":\"debug\",\"time\":\"2019-05-13T09:04:25.504Z\",\"name\":\"processor.http.w0.python.logger\",\"message\":\"Using Python executable\",\"more\":\"path=/usr/local/bin/python3\"}{\"level\":\"debug\",\"time\":\"2019-05-13T09:04:25.504Z\",\"name\":\"processor.http.w0.python.logger\",\"message\":\"Setting PYTHONPATH\",\"more\":\"value=PYTHONPATH=/opt/nuclio\"}{\"level\":\"debug\",\"time\":\"2019-05-13T09:04:25.504Z\",\"name\":\"processor.http.w0.python.logger\",\"message\":\"Running wrapper\",\"more\":\"command=/usr/local/bin/python3 -u /opt/nuclio/_nuclio_wrapper.py --handler handler:handler --socket-path /tmp/nuclio-rpc-bjcj66bvj15g00f92cn0.sock --platform-kind kube --namespace default-tenant --worker-id 0 --trigger-name defaultHTTPWorkerAllocator\"}{\"level\":\"info\",\"time\":\"2019-05-13T09:04:25.964Z\",\"name\":\"processor.http.w0.python.logger\",\"message\":\"Wrapper connected\"}{\"level\":\"debug\",\"time\":\"2019-05-13T09:04:25.964Z\",\"name\":\"processor.http.w0.python.logger\",\"message\":\"Waiting for start\"}Python> 2019-05-13 09:04:25,964 [info] Replacing logger outputcreating deployment/opt/nuclio/handler.py:95: YAMLLoadWarning: calling yaml.load() without Loader=... is deprecated, as the default Loader is unsafe. Please read https://msg.pyyaml.org/load for full details.  metrics_configuration = yaml.load(f){\"level\":\"debug\",\"time\":\"2019-05-13T09:04:26.256Z\",\"name\":\"processor.http.w0.python.logger\",\"message\":\"Started\"}{\"level\":\"debug\",\"time\":\"2019-05-13T09:04:26.257Z\",\"name\":\"processor.webadmin.server.triggers\",\"message\":\"Registered custom route\",\"more\":\"pattern=/{id}/stats || method=GET\"}{\"level\":\"debug\",\"time\":\"2019-05-13T09:04:26.257Z\",\"name\":\"processor.webadmin.server\",\"message\":\"Registered resource\",\"more\":\"name=triggers\"}{\"level\":\"warn\",\"time\":\"2019-05-13T09:04:26.257Z\",\"name\":\"processor\",\"message\":\"No metric sinks configured, metrics will not be published\"}{\"level\":\"debug\",\"time\":\"2019-05-13T09:04:26.257Z\",\"name\":\"processor\",\"message\":\"Starting\"}{\"level\":\"info\",\"time\":\"2019-05-13T09:04:26.257Z\",\"name\":\"processor.healthcheck.server\",\"message\":\"Listening\",\"more\":\"listenAddress=:8082\"}{\"level\":\"info\",\"time\":\"2019-05-13T09:04:26.257Z\",\"name\":\"processor.http\",\"message\":\"Starting\",\"more\":\"listenAddress=:8080 || readBufferSize=4096\"}{\"level\":\"info\",\"time\":\"2019-05-13T09:04:26.257Z\",\"name\":\"processor.webadmin.server\",\"message\":\"Listening\",\"more\":\"listenAddress=:8081\"}{\"level\":\"debug\",\"time\":\"2019-05-13T09:04:26.257Z\",\"name\":\"processor.cron\",\"message\":\"Waiting for next event\",\"more\":\"delay=9.742650927s\"}{\"level\":\"debug\",\"time\":\"2019-05-13T09:04:36.000Z\",\"name\":\"processor.cron\",\"message\":\"Submitting event\"}{\"level\":\"debug\",\"time\":\"2019-05-13T09:04:36.000Z\",\"name\":\"processor.cron.w0.python.logger\",\"message\":\"Processing event\",\"more\":\"name=generator || version=-1 || eventID=4771dd46-f319-4846-b8c6-c7294cb56de9\"}{\"level\":\"debug\",\"time\":\"2019-05-13T09:04:36.000Z\",\"name\":\"processor.cron.w0.python.logger\",\"message\":\"Sending event to wrapper\",\"more\":\"size=0\"}Saving metrics to TSDB{\"level\":\"debug\",\"time\":\"2019-05-13T09:04:36.032Z\",\"name\":\"processor.cron.w0.python.logger\",\"message\":\"Event executed\",\"more\":\"name=generator || status=200 || eventID=4771dd46-f319-4846-b8c6-c7294cb56de9\"}{\"level\":\"debug\",\"time\":\"2019-05-13T09:04:36.032Z\",\"name\":\"processor.cron\",\"message\":\"Waiting for next event\",\"more\":\"delay=9.967403305s\"}{\"level\":\"debug\",\"time\":\"2019-05-13T09:04:46.000Z\",\"name\":\"processor.cron\",\"message\":\"Submitting event\"}{\"level\":\"debug\",\"time\":\"2019-05-13T09:04:46.000Z\",\"name\":\"processor.cron.w0.python.logger\",\"message\":\"Processing event\",\"more\":\"name=generator || version=-1 || eventID=5b782aa7-b7e8-4eb2-832e-efd517d6db50\"}{\"level\":\"debug\",\"time\":\"2019-05-13T09:04:46.000Z\",\"name\":\"processor.cron.w0.python.logger\",\"message\":\"Sending event to wrapper\",\"more\":\"size=0\"}Saving metrics to TSDB{\"level\":\"debug\",\"time\":\"2019-05-13T09:04:46.030Z\",\"name\":\"processor.cron.w0.python.logger\",\"message\":\"Event executed\",\"more\":\"name=generator || status=200 || eventID=5b782aa7-b7e8-4eb2-832e-efd517d6db50\"}{\"level\":\"debug\",\"time\":\"2019-05-13T09:04:46.030Z\",\"name\":\"processor.cron\",\"message\":\"Waiting for next event\",\"more\":\"delay=9.969768773s\"}{\"level\":\"debug\",\"time\":\"2019-05-13T09:04:56.000Z\",\"name\":\"processor.cron\",\"message\":\"Submitting event\"}{\"level\":\"debug\",\"time\":\"2019-05-13T09:04:56.000Z\",\"name\":\"processor.cron.w0.python.logger\",\"message\":\"Processing event\",\"more\":\"name=generator || version=-1 || eventID=958e265c-541e-43d0-821e-b8a19d8face1\"}{\"level\":\"debug\",\"time\":\"2019-05-13T09:04:56.000Z\",\"name\":\"processor.cron.w0.python.logger\",\"message\":\"Sending event to wrapper\",\"more\":\"size=0\"}Saving metrics to TSDB{\"level\":\"debug\",\"time\":\"2019-05-13T09:04:56.029Z\",\"name\":\"processor.cron.w0.python.logger\",\"message\":\"Event executed\",\"more\":\"name=generator || status=200 || eventID=958e265c-541e-43d0-821e-b8a19d8face1\"}{\"level\":\"debug\",\"time\":\"2019-05-13T09:04:56.029Z\",\"name\":\"processor.cron\",\"message\":\"Waiting for next event\",\"more\":\"delay=9.97074206s\"}{\"level\":\"debug\",\"time\":\"2019-05-13T09:05:06.000Z\",\"name\":\"processor.cron\",\"message\":\"Submitting event\"}{\"level\":\"debug\",\"time\":\"2019-05-13T09:05:06.000Z\",\"name\":\"processor.cron.w0.python.logger\",\"message\":\"Processing event\",\"more\":\"name=generator || version=-1 || eventID=320650c9-0e77-4ff7-8ff5-732a0359ed61\"}{\"level\":\"debug\",\"time\":\"2019-05-13T09:05:06.000Z\",\"name\":\"processor.cron.w0.python.logger\",\"message\":\"Sending event to wrapper\",\"more\":\"size=0\"}Saving metrics to TSDB{\"level\":\"debug\",\"time\":\"2019-05-13T09:05:06.037Z\",\"name\":\"processor.cron.w0.python.logger\",\"message\":\"Event executed\",\"more\":\"name=generator || status=200 || eventID=320650c9-0e77-4ff7-8ff5-732a0359ed61\"}{\"level\":\"debug\",\"time\":\"2019-05-13T09:05:06.037Z\",\"name\":\"processor.cron\",\"message\":\"Waiting for next event\",\"more\":\"delay=9.962461059s\"}{\"level\":\"debug\",\"time\":\"2019-05-13T09:05:16.000Z\",\"name\":\"processor.cron\",\"message\":\"Submitting event\"}{\"level\":\"debug\",\"time\":\"2019-05-13T09:05:16.000Z\",\"name\":\"processor.cron.w0.python.logger\",\"message\":\"Processing event\",\"more\":\"name=generator || version=-1 || eventID=274585f6-3548-4422-841d-4a2be67fb90c\"}{\"level\":\"debug\",\"time\":\"2019-05-13T09:05:16.000Z\",\"name\":\"processor.cron.w0.python.logger\",\"message\":\"Sending event to wrapper\",\"more\":\"size=0\"}Saving metrics to TSDB{\"level\":\"debug\",\"time\":\"2019-05-13T09:05:16.031Z\",\"name\":\"processor.cron.w0.python.logger\",\"message\":\"Event executed\",\"more\":\"name=generator || status=200 || eventID=274585f6-3548-4422-841d-4a2be67fb90c\"}{\"level\":\"debug\",\"time\":\"2019-05-13T09:05:16.031Z\",\"name\":\"processor.cron\",\"message\":\"Waiting for next event\",\"more\":\"delay=9.968404123s\"}{\"level\":\"debug\",\"time\":\"2019-05-13T09:05:26.000Z\",\"name\":\"processor.cron\",\"message\":\"Submitting event\"}{\"level\":\"debug\",\"time\":\"2019-05-13T09:05:26.000Z\",\"name\":\"processor.cron.w0.python.logger\",\"message\":\"Processing event\",\"more\":\"name=generator || version=-1 || eventID=c8fa6c6c-f0f9-4194-94ca-9b12c2a2ad38\"}{\"level\":\"debug\",\"time\":\"2019-05-13T09:05:26.000Z\",\"name\":\"processor.cron.w0.python.logger\",\"message\":\"Sending event to wrapper\",\"more\":\"size=0\"}Saving metrics to TSDB{\"level\":\"debug\",\"time\":\"2019-05-13T09:05:26.030Z\",\"name\":\"processor.cron.w0.python.logger\",\"message\":\"Event executed\",\"more\":\"name=generator || status=200 || eventID=c8fa6c6c-f0f9-4194-94ca-9b12c2a2ad38\"}{\"level\":\"debug\",\"time\":\"2019-05-13T09:05:26.030Z\",\"name\":\"processor.cron\",\"message\":\"Waiting for next event\",\"more\":\"delay=9.969510378s\"}{\"level\":\"debug\",\"time\":\"2019-05-13T09:05:36.000Z\",\"name\":\"processor.cron\",\"message\":\"Submitting event\"}{\"level\":\"debug\",\"time\":\"2019-05-13T09:05:36.000Z\",\"name\":\"processor.cron.w0.python.logger\",\"message\":\"Processing event\",\"more\":\"name=generator || version=-1 || eventID=37e4f59c-1701-4756-b7d8-6454ab0a77b8\"}{\"level\":\"debug\",\"time\":\"2019-05-13T09:05:36.000Z\",\"name\":\"processor.cron.w0.python.logger\",\"message\":\"Sending event to wrapper\",\"more\":\"size=0\"}Saving metrics to TSDB{\"level\":\"debug\",\"time\":\"2019-05-13T09:05:36.030Z\",\"name\":\"processor.cron.w0.python.logger\",\"message\":\"Event executed\",\"more\":\"name=generator || status=200 || eventID=37e4f59c-1701-4756-b7d8-6454ab0a77b8\"}{\"level\":\"debug\",\"time\":\"2019-05-13T09:05:36.031Z\",\"name\":\"processor.cron\",\"message\":\"Waiting for next event\",\"more\":\"delay=9.968964476s\"}{\"level\":\"debug\",\"time\":\"2019-05-13T09:05:46.000Z\",\"name\":\"processor.cron\",\"message\":\"Submitting event\"}{\"level\":\"debug\",\"time\":\"2019-05-13T09:05:46.000Z\",\"name\":\"processor.cron.w0.python.logger\",\"message\":\"Processing event\",\"more\":\"name=generator || version=-1 || eventID=dbb2a945-78bb-49cd-a8e4-2c0472d25337\"}{\"level\":\"debug\",\"time\":\"2019-05-13T09:05:46.000Z\",\"name\":\"processor.cron.w0.python.logger\",\"message\":\"Sending event to wrapper\",\"more\":\"size=0\"}Saving metrics to TSDB{\"level\":\"debug\",\"time\":\"2019-05-13T09:05:46.029Z\",\"name\":\"processor.cron.w0.python.logger\",\"message\":\"Event executed\",\"more\":\"name=generator || status=200 || eventID=dbb2a945-78bb-49cd-a8e4-2c0472d25337\"}{\"level\":\"debug\",\"time\":\"2019-05-13T09:05:46.029Z\",\"name\":\"processor.cron\",\"message\":\"Waiting for next event\",\"more\":\"delay=9.970954389s\"}{\"level\":\"debug\",\"time\":\"2019-05-13T09:05:56.000Z\",\"name\":\"processor.cron\",\"message\":\"Submitting event\"}{\"level\":\"debug\",\"time\":\"2019-05-13T09:05:56.000Z\",\"name\":\"processor.cron.w0.python.logger\",\"message\":\"Processing event\",\"more\":\"name=generator || version=-1 || eventID=c19a6b06-0377-4c67-9a6e-f3e770b0ffe4\"}{\"level\":\"debug\",\"time\":\"2019-05-13T09:05:56.000Z\",\"name\":\"processor.cron.w0.python.logger\",\"message\":\"Sending event to wrapper\",\"more\":\"size=0\"}Saving metrics to TSDB{\"level\":\"debug\",\"time\":\"2019-05-13T09:05:56.030Z\",\"name\":\"processor.cron.w0.python.logger\",\"message\":\"Event executed\",\"more\":\"name=generator || status=200 || eventID=c19a6b06-0377-4c67-9a6e-f3e770b0ffe4\"}{\"level\":\"debug\",\"time\":\"2019-05-13T09:05:56.030Z\",\"name\":\"processor.cron\",\"message\":\"Waiting for next event\",\"more\":\"delay=9.969664447s\"}{\"level\":\"debug\",\"time\":\"2019-05-13T09:06:06.000Z\",\"name\":\"processor.cron\",\"message\":\"Submitting event\"}{\"level\":\"debug\",\"time\":\"2019-05-13T09:06:06.000Z\",\"name\":\"processor.cron.w0.python.logger\",\"message\":\"Processing event\",\"more\":\"name=generator || version=-1 || eventID=111a568c-d927-4272-b54e-5084cb8a9d69\"}{\"level\":\"debug\",\"time\":\"2019-05-13T09:06:06.000Z\",\"name\":\"processor.cron.w0.python.logger\",\"message\":\"Sending event to wrapper\",\"more\":\"size=0\"}Saving metrics to TSDB{\"level\":\"debug\",\"time\":\"2019-05-13T09:06:06.029Z\",\"name\":\"processor.cron.w0.python.logger\",\"message\":\"Event executed\",\"more\":\"name=generator || status=200 || eventID=111a568c-d927-4272-b54e-5084cb8a9d69\"}{\"level\":\"debug\",\"time\":\"2019-05-13T09:06:06.029Z\",\"name\":\"processor.cron\",\"message\":\"Waiting for next event\",\"more\":\"delay=9.970906047s\"}{\"level\":\"debug\",\"time\":\"2019-05-13T09:06:16.000Z\",\"name\":\"processor.cron\",\"message\":\"Submitting event\"}\n",
      "%nuclio: * generator-784544496c-6c6sw\n",
      "%nuclio: {\"level\":\"debug\",\"time\":\"2019-05-14T07:42:55.951Z\",\"name\":\"processor\",\"message\":\"Read configuration\",\"more\":\"config=&{Config:{Meta:{Name:generator Namespace:default-tenant Labels:map[] Annotations:map[]} Spec:{Description: Disabled:false Publish:false Handler:handler:handler Runtime:python:3.6 Env:[{Name:V3IO_FRAMESD Value:framesd.default-tenant.svc:8080 ValueFrom:nil} {Name:V3IO_USERNAME Value:iguazio ValueFrom:nil} {Name:V3IO_ACCESS_KEY Value:64c94a79-7a41-4b13-bb7f-a3c9e9860eaf ValueFrom:nil} {Name:SAVE_DEPLOYMENT Value:0 ValueFrom:nil} {Name:DEPLOYMENT_TABLE Value:netops_devices ValueFrom:nil} {Name:SAVE_TO Value:/v3io/bigdata/netops_metrics_parquet ValueFrom:nil} {Name:INITIAL_TIMESTAMP Value:-1 ValueFrom:nil} {Name:SECS_TO_GENERATE Value:10 ValueFrom:nil} {Name:SAVE_TO_TSDB Value:0 ValueFrom:nil} {Name:METRICS_CONFIGURATION_FILEPATH Value:/configurations/metrics_configuration.yaml ValueFrom:nil}] Resources:{Limits:map[] Requests:map[]} Image:docker-registry.default-tenant.app.fmdvvoebjfpx.iguazio-cd2.com:80/nuclio/processor-generator:latest ImageHash:1557819726643410885 Replicas:0 MinReplicas:0 MaxReplicas:0 TargetCPU:0 DataBindings:map[] Triggers:map[secs:{Class: Kind:cron Disabled:false MaxWorkers:0 URL: Paths:[] Username: Password: Secret: Partitions:[] Annotations:map[] WorkerAvailabilityTimeoutMilliseconds:0 WorkerAllocatorName: TotalTasks:0 MaxTaskAllocation:0 Attributes:map[interval:10s]}] Volumes:[{Volume:{Name:fs VolumeSource:{HostPath:nil EmptyDir:nil GCEPersistentDisk:nil AWSElasticBlockStore:nil GitRepo:nil Secret:nil NFS:nil ISCSI:nil Glusterfs:nil PersistentVolumeClaim:nil RBD:nil FlexVolume:&FlexVolumeSource{Driver:v3io/fuse,FSType:,SecretRef:nil,ReadOnly:false,Options:map[string]string{accessKey: 64c94a79-7a41-4b13-bb7f-a3c9e9860eaf,container: users,subPath: /iguazio/netops/tutorials/demos/netops/configurations,},} Cinder:nil CephFS:nil Flocker:nil DownwardAPI:nil FC:nil AzureFile:nil ConfigMap:nil VsphereVolume:nil Quobyte:nil AzureDisk:nil PhotonPersistentDisk:nil Projected:nil PortworxVolume:nil ScaleIO:nil StorageOS:nil}} VolumeMount:{Name:fs ReadOnly:false MountPath:/configurations SubPath: MountPropagation:<nil>}}] Version:-1 Alias:latest Build:{Path: FunctionSourceCode:IyBHZW5lcmF0ZWQgYnkgbnVjbGlvLmV4cG9ydC5OdWNsaW9FeHBvcnRlciBvbiAyMDE5LTA1LTE0IDA3OjQyCgppbXBvcnQgb3MKCmltcG9ydCB0aW1lCmltcG9ydCB5YW1sCmltcG9ydCBwYW5kYXMgYXMgcGQKaW1wb3J0IGRhdGV0aW1lCmltcG9ydCBpdGVydG9vbHMKCmltcG9ydCB2M2lvX2ZyYW1lcyBhcyB2M2YKCmZyb20gdjNpb19nZW5lcmF0b3IgaW1wb3J0IG1ldHJpY3NfZ2VuZXJhdG9yLCBkZXBsb3ltZW50X2dlbmVyYXRvcgoKZGVmIF9jcmVhdGVfZGVwbG95bWVudCgpOgogICAgcHJpbnQoJ2NyZWF0aW5nIGRlcGxveW1lbnQnKQogICAgZGVwX2dlbiA9IGRlcGxveW1lbnRfZ2VuZXJhdG9yLmRlcGxveW1lbnRfZ2VuZXJhdG9yKCkKICAgIGZha2VyPWRlcF9nZW4uZ2V0X2Zha2VyKCkKCiAgICBkZXBfZ2VuLmFkZF9sZXZlbChuYW1lPSdjb21wYW55JyxudW1iZXI9MixsZXZlbF90eXBlPWZha2VyLmNvbXBhbnkpCiAgICBkZXBfZ2VuLmFkZF9sZXZlbCgnZGF0YV9jZW50ZXInLG51bWJlcj0yLGxldmVsX3R5cGU9ZmFrZXIuc3RyZWV0X25hbWUpCiAgICBkZXBfZ2VuLmFkZF9sZXZlbCgnZGV2aWNlJyxudW1iZXI9MixsZXZlbF90eXBlPWZha2VyLm1zaXNkbikKCiAgICBkZXBsb3ltZW50X2RmID0gZGVwX2dlbi5nZW5lcmF0ZV9kZXBsb3ltZW50KCkKICAgIHJldHVybiBkZXBsb3ltZW50X2RmCgpkZWYgX2lzX2RlcGxveW1lbnRfZXhpc3QocGF0aCk6CiAgICByZXR1cm4gb3MucGF0aC5leGlzdHMoZicvdjNpby9iaWdkYXRhL3twYXRofScpCgpkZWYgX2dldF9kZXBsb3ltZW50X2Zyb21fa3YoY2xpZW50LCBwYXRoKToKICAgIHByaW50KGYnUmV0cmlldmluZyBkZXBsb3ltZW50IGZyb20ge3BhdGh9JykKICAgIGNvbnRleHQubG9nZ2VyLmRlYnVnKGYnUmV0cmlldmluZyBkZXBsb3ltZW50IGZyb20ge3BhdGh9JykKICAgIGRlcGxveW1lbnRfZGYgPSBjbGllbnQucmVhZChiYWNrZW5kPSdrdicsIHRhYmxlPXBhdGgpCiAgICAKICAgIGRlcGxveW1lbnRfZGYuaW5kZXgubmFtZSA9ICdkZXZpY2UnCiAgICBkZXBsb3ltZW50X2RmID0gZGVwbG95bWVudF9kZi5yZXNldF9pbmRleCgpCiAgICByZXR1cm4gZGVwbG95bWVudF9kZgoKZGVmIF9zYXZlX2RlcGxveW1lbnRfdG9fa3YocGF0aCwgZGYsIGNsaWVudD12M2YuQ2xpZW50KCdmcmFtZXNkOjgwODEnKSk6CiAgICBjbGllbnQud3JpdGUoYmFja2VuZD0na3YnLCB0YWJsZT0nbmV0b3BzX2RldmljZXMnLGRmcz1kZiwgaW5kZXhfY29scz1bJ2RldmljZSddKQoKZGVmIGdldF9vcl9jcmVhdGVfZGVwbG95bWVudChwYXRoLCBzYXZlX3RvX2Nsb3VkPUZhbHNlLCBjbGllbnQ9Tm9uZSk6CiAgICBpZiBjbGllbnQgYW5kIF9pc19kZXBsb3ltZW50X2V4aXN0KHBhdGgpOgogICAgICAgIGRlcGxveW1lbnRfZGYgPSBfZ2V0X2RlcGxveW1lbnRfZnJvbV9rdihjbGllbnQsIHBhdGgpCiAgICBlbHNlOgogICAgICAgIGRlcGxveW1lbnRfZGYgPSBfY3JlYXRlX2RlcGxveW1lbnQoKQogICAgICAgIAogICAgICAgIGlmIGNsaWVudCBhbmQgc2F2ZV90b19jbG91ZDoKICAgICAgICAgICAgX3NhdmVfZGVwbG95bWVudF90b19rdihwYXRoLCBkZXBsb3ltZW50X2RmLCBjbGllbnQpCgogICAgcmV0dXJuIGRlcGxveW1lbnRfZGYKCmRlZiBzZXRfaW5kZXhlcyhkZik6CiAgICBkZiA9IGRmLnNldF9pbmRleChbJ3RpbWVzdGFtcCcsICdjb21wYW55JywgJ2RhdGFfY2VudGVyJywgJ2RldmljZSddKQogICAgcmV0dXJuIGRmCgpkZWYgc2F2ZV9tZXRyaWNzX3RvX3RzZGIoY29udGV4dCwgbWV0cmljczogcGQuRGF0YUZyYW1lKToKICAgIHByaW50KCdTYXZpbmcgbWV0cmljcyB0byBUU0RCJykKICAgIAogICAgbWV0cmljcz0gc2V0X2luZGV4ZXMobWV0cmljcykKICAgIAogICAgY29udGV4dC52M2Yud3JpdGUoJ3RzZGInLCBjb250ZXh0Lm1ldHJpY3NfdGFibGUsIG1ldHJpY3MpCgpkZWYgc2F2ZV9tZXRyaWNzX3RvX3BhcnF1ZXQoY29udGV4dCwgbWV0cmljczogcGQuRGF0YUZyYW1lKToKICAgIHByaW50KCdTYXZpbmcgbWV0cmljcyB0byBQYXJxdWV0JykKICAgIAogICAgcHJpbnQobWV0cmljcy5sb2NbOjEsICd0aW1lc3RhbXAnXSkKICAgIG1ldHJpY3NbJ3RpbWVzdGFtcCddID0gbWV0cmljcy5sb2NbOiwgJ3RpbWVzdGFtcCddLmFzdHlwZSgnZGF0ZXRpbWU2NFttc10nKQogICAgcHJpbnQobWV0cmljcy5sb2NbOjEsICd0aW1lc3RhbXAnXSkKICAgIAogICAgbWV0cmljcz0gc2V0X2luZGV4ZXMobWV0cmljcykKICAgIAogICAgZmlsZXBhdGggPSBvcy5wYXRoLmpvaW4oY29udGV4dC5tZXRyaWNzX3RhYmxlLCB0aW1lLnN0cmZ0aW1lKCclWSVtJWRUJUglTSVTJykgKyAnLnBhcnF1ZXQnKQogICAgd2l0aCBvcGVuKGZpbGVwYXRoLCAnd2IrJykgYXMgZjoKICAgICAgICBtZXRyaWNzLnRvX3BhcnF1ZXQoZikKCmRlZiBpc19kZXBsb3ltZW50X2luaXRpYWxpemVkKGNvbnRleHQpOgogICAgcmV0dXJuIGhhc2F0dHIoY29udGV4dCwgJ21ldHJpY19nZW5lcmF0b3InKQoKZGVmIGluaXRfY29udGV4dChjb250ZXh0KToKICAgIAogICAgc2F2ZV90b190c2RiID0gb3MuZ2V0ZW52KCdTQVZFX1RPX1RTREInLCAxKSA9PSAxCiAgICBwcmludChmJ1NBVkVfVE9fVFNEQjoge29zLmVudmlyb25bIlNBVkVfVE9fVFNEQiJdfS17dHlwZShzYXZlX3RvX3RzZGIpfS17c2F2ZV90b190c2RifScpCiAgICAKICAgIG1ldHJpY3NfdGFibGUgPSBvcy5nZXRlbnYoJ1NBVkVfVE8nLCAnbmV0b3BzX21ldHJpY3MnKQogICAgc2V0YXR0cihjb250ZXh0LCAnbWV0cmljc190YWJsZScsIG1ldHJpY3NfdGFibGUpIAoKICAgIGlmIHNhdmVfdG9fdHNkYjoKICAgICAgICBwcmludCgnU2F2aW5nIHRvIFRTREItJykKICAgICAgICBjbGllbnQgPSB2M2YuQ2xpZW50KGFkZHJlc3M9J2h0dHA6Ly8nICsgb3MuZ2V0ZW52KCdWM0lPX0ZSQU1FU0QnLCAnZnJhbWVzZDo4MDgxJyksIAogICAgICAgICAgICAgICAgICAgICAgICBjb250YWluZXI9J2JpZ2RhdGEnLCAKICAgICAgICAgICAgICAgICAgICAgICAgcGFzc3dvcmQ9b3MuZW52aXJvblsnVjNJT19BQ0NFU1NfS0VZJ10sIAogICAgICAgICAgICAgICAgICAgICAgICB1c2VyPW9zLmVudmlyb25bJ1YzSU9fVVNFUk5BTUUnXSkKICAgICAgICAKICAgICAgICBjbGllbnQuY3JlYXRlKCd0c2RiJywgbWV0cmljc190YWJsZSwgYXR0cnM9eydyYXRlJzogJzEvcyd9LCBpZl9leGlzdHM9MSkKICAgICAgICAKICAgICAgICBzZXRhdHRyKGNvbnRleHQsICd3cml0ZScsIHNhdmVfbWV0cmljc190b190c2RiKQogICAgCiAgICBlbHNlOgogICAgICAgIHByaW50KCdTYXZpbmcgdG8gUGFycXVldC0nKQogICAgICAgIGNsaWVudCA9IE5vbmUKICAgICAgICAgIAogICAgICAgIGZpbGVwYXRoID0gb3MucGF0aC5qb2luKG1ldHJpY3NfdGFibGUpCiAgICAgICAgaWYgbm90IG9zLnBhdGguZXhpc3RzKGZpbGVwYXRoKToKICAgICAgICAgICAgb3MubWFrZWRpcnMoZmlsZXBhdGgpCiAgICAgICAgCiAgICAgICAgc2V0YXR0cihjb250ZXh0LCAnd3JpdGUnLCBzYXZlX21ldHJpY3NfdG9fcGFycXVldCkKICAgIAogICAgICAgICAgCiAgICBzZWNzX3RvX2dlbmVyYXRlID0gb3MuZ2V0ZW52KCdTRUNTX1RPX0dFTkVSQVRFJywgMTApCiAgICBzZXRhdHRyKGNvbnRleHQsICdzZWNzX3RvX2dlbmVyYXRlJywgc2Vjc190b19nZW5lcmF0ZSkKICAgIAogICAgIAogICAgCiAgICBkZXBsb3ltZW50X2RmID0gZ2V0X29yX2NyZWF0ZV9kZXBsb3ltZW50KG9zLmVudmlyb25bJ0RFUExPWU1FTlRfVEFCTEUnXSwgb3MuZW52aXJvblsnU0FWRV9ERVBMT1lNRU5UJ10sIGNsaWVudCkKICAgIAogICAgZGVwbG95bWVudF9kZlsnY3B1X3V0aWxpemF0aW9uJ10gPSA3MAogICAgZGVwbG95bWVudF9kZlsnbGF0ZW5jeSddID0gMAogICAgZGVwbG95bWVudF9kZlsncGFja2V0X2xvc3MnXSA9IDAKICAgIGRlcGxveW1lbnRfZGZbJ3Rocm91Z2hwdXQnXSA9IDI5MAogICAgZGVwbG95bWVudF9kZi5oZWFkKCkKICAgIAogICAgd2l0aCBvcGVuKG9zLmdldGVudignTUVUUklDU19DT05GSUdVUkFUSU9OX0ZJTEVQQVRIJywgJy9jb25maWd1cmF0aW9ucy9tZXRyaWNzX2NvbmZpZ3VyYXRpb24ueWFtbCcpLCAncicpIGFzIGY6CiAgICAgICAgbWV0cmljc19jb25maWd1cmF0aW9uID0geWFtbC5sb2FkKGYpCiAgICAgICAgCiAgICBpbml0aWFsX3RpbWVzdGFtcCA9IGludChvcy5nZXRlbnYoJ0lOSVRJQUxfVElNRVNUQU1QJywgdGltZS50aW1lKCkpKQogICAgbWV0X2dlbiA9IG1ldHJpY3NfZ2VuZXJhdG9yLkdlbmVyYXRvcl9kZihtZXRyaWNzX2NvbmZpZ3VyYXRpb24sIAogICAgICAgICAgICAgICAgICAgICAgICAgICAgICAgICAgICAgICAgICAgICB1c2VyX2hpZXJhcmNoeT1kZXBsb3ltZW50X2RmLCAKICAgICAgICAgICAgICAgICAgICAgICAgICAgICAgICAgICAgICAgICAgICAgaW5pdGlhbF90aW1lc3RhbXA9aW5pdGlhbF90aW1lc3RhbXApCiAgICBzZXRhdHRyKGNvbnRleHQsICdtZXRyaWNfZ2VuZXJhdG9yJywgbWV0X2dlbikKICAgIAogICAgc2V0YXR0cihjb250ZXh0LCAndjNmJywgY2xpZW50KQoKZGVmIGhhbmRsZXIoY29udGV4dCwgZXZlbnQpOgogICAgICAgCiAgICBtZXRyaWNzID0gY29udGV4dC5tZXRyaWNfZ2VuZXJhdG9yLmdlbmVyYXRlX3JhbmdlKHN0YXJ0X3RpbWU9ZGF0ZXRpbWUuZGF0ZXRpbWUubm93KCksCiAgICAgICAgICAgICAgICAgICAgICAgICAgICAgICAgICAgICBlbmRfdGltZT1kYXRldGltZS5kYXRldGltZS5ub3coKStkYXRldGltZS50aW1lZGVsdGEoc2Vjb25kcz1pbnQoY29udGV4dC5zZWNzX3RvX2dlbmVyYXRlKSksCiAgICAgICAgICAgICAgICAgICAgICAgICAgICAgICAgICAgICBhc19kZj1UcnVlLAogICAgICAgICAgICAgICAgICAgICAgICAgICAgICAgICAgICAgYXNfaXRlcmF0b3I9RmFsc2UpCiAgICAKICAgICAgICAKICAgIGNvbnRleHQud3JpdGUoY29udGV4dCwgbWV0cmljcykKCg== FunctionConfigPath: TempDir: Registry:docker-registry.default-tenant.app.fmdvvoebjfpx.iguazio-cd2.com:80 Image: NoBaseImagesPull:true NoCache:false NoCleanup:false BaseImage:python:3.6-jessie Commands:[pip install pyarrow pip install pyyaml --upgrade pip install pandas pip install v3io_frames --upgrade pip install -i https://test.pypi.org/simple/ v3io-generator pip install faker mkdir /configurations] Directives:map[] ScriptPaths:[] AddedObjectPaths:map[] Dependencies:[] OnbuildImage: Offline:true RuntimeAttributes:map[] CodeEntryType: CodeEntryAttributes:map[] Timestamp:1557819756 Mode:} RunRegistry:docker-registry.default-tenant.app.fmdvvoebjfpx.iguazio-cd2.com:80 RuntimeAttributes:map[] LoggerSinks:[] DealerURI: Platform:{Attributes:map[]} ReadinessTimeoutSeconds:0 Avatar: ServiceType:NodePort ImagePullPolicy:}} PlatformConfig:<nil>} || platformConfig=&{Kind:kube WebAdmin:{Enabled:<nil> ListenAddress:} HealthCheck:{Enabled:<nil> ListenAddress:} Logger:{Sinks:map[myStdoutLoggerSink:{Kind:stdout URL: Attributes:map[encoding:json timeFieldEncoding:iso8601 timeFieldName:time varGroupName:more]}] System:[{Level:debug Sink:myStdoutLoggerSink}] Functions:[{Level:debug Sink:myStdoutLoggerSink}]} Metrics:{Sinks:map[] System:[] Functions:[]} ScaleToZero:{MetricName: WindowSize: PollerInterval: ScalerInterval:} AutoScale:{MetricName: TargetValue:} FunctionAugmentedConfigs:[]}\"}{\"level\":\"debug\",\"time\":\"2019-05-14T07:42:55.951Z\",\"name\":\"processor.cron\",\"message\":\"Creating worker pool\",\"more\":\"num=1\"}{\"level\":\"debug\",\"time\":\"2019-05-14T07:42:55.951Z\",\"name\":\"processor.cron.w0.python.logger\",\"message\":\"Creating listener socket\",\"more\":\"path=/tmp/nuclio-rpc-bjd72vtsmmgg009isopg.sock\"}{\"level\":\"debug\",\"time\":\"2019-05-14T07:42:55.951Z\",\"name\":\"processor.cron.w0.python.logger\",\"message\":\"Using Python wrapper script path\",\"more\":\"path=/opt/nuclio/_nuclio_wrapper.py\"}{\"level\":\"debug\",\"time\":\"2019-05-14T07:42:55.951Z\",\"name\":\"processor.cron.w0.python.logger\",\"message\":\"Using Python handler\",\"more\":\"handler=handler:handler\"}{\"level\":\"debug\",\"time\":\"2019-05-14T07:42:55.951Z\",\"name\":\"processor.cron.w0.python.logger\",\"message\":\"Using Python executable\",\"more\":\"path=/usr/local/bin/python3\"}{\"level\":\"debug\",\"time\":\"2019-05-14T07:42:55.951Z\",\"name\":\"processor.cron.w0.python.logger\",\"message\":\"Setting PYTHONPATH\",\"more\":\"value=PYTHONPATH=/opt/nuclio\"}{\"level\":\"debug\",\"time\":\"2019-05-14T07:42:55.951Z\",\"name\":\"processor.cron.w0.python.logger\",\"message\":\"Running wrapper\",\"more\":\"command=/usr/local/bin/python3 -u /opt/nuclio/_nuclio_wrapper.py --handler handler:handler --socket-path /tmp/nuclio-rpc-bjd72vtsmmgg009isopg.sock --platform-kind kube --namespace default-tenant --worker-id 0 --trigger-name \"}Python> 2019-05-14 07:42:56,471 [warning] Caught unhandled exception while initializing: {'err': \"No module named 'pytimeparse'\", 'traceback': 'Traceback (most recent call last):\\n  File \"/opt/nuclio/_nuclio_wrapper.py\", line 233, in run_wrapper\\n    args.trigger_name)\\n  File \"/opt/nuclio/_nuclio_wrapper.py\", line 40, in __init__\\n    self._entrypoint = self._load_entrypoint_from_handler(handler)\\n  File \"/opt/nuclio/_nuclio_wrapper.py\", line 146, in _load_entrypoint_from_handler\\n    module = __import__(module_name)\\n  File \"/opt/nuclio/handler.py\", line 13, in <module>\\n    from v3io_generator import metrics_generator, deployment_generator\\n  File \"/usr/local/lib/python3.6/site-packages/v3io_generator/metrics_generator.py\", line 5, in <module>\\n    from pytimeparse import parse\\nModuleNotFoundError: No module named \\'pytimeparse\\'\\n'}Error - accept unix /tmp/nuclio-rpc-bjd72vtsmmgg009isopg.sock: i/o timeout    .../nuclio/pkg/processor/runtime/rpc/abstract.go:185Call stack:Can't get connection from wrapper    .../nuclio/pkg/processor/runtime/rpc/abstract.go:185Failed to run wrapper    .../nuclio/pkg/processor/runtime/rpc/abstract.go:96Failed to create runtime    .../nuclio/nuclio/pkg/processor/worker/factory.go:94Failed to create worker    .../nuclio/nuclio/pkg/processor/worker/factory.go:110Failed to create HTTP trigger    .../nuclio/nuclio/pkg/processor/worker/factory.go:43\n",
      "%nuclio:     .../nuclio/nuclio/pkg/platform/kube/deployer.go:157\n",
      "%nuclio: Failed to wait for function readiness.\n",
      "%nuclio: \n",
      "%nuclio: Pod logs:\n",
      "%nuclio: \n",
      "%nuclio: * generator-6977947766-frr6x\n",
      "%nuclio: {\"level\":\"debug\",\"time\":\"2019-05-13T09:04:24.695Z\",\"name\":\"processor\",\"message\":\"Read configuration\",\"more\":\"config=&{Config:{Meta:{Name:generator Namespace:default-tenant Labels:map[] Annotations:map[]} Spec:{Description: Disabled:false Publish:false Handler:handler:handler Runtime:python:3.6 Env:[{Name:V3IO_FRAMESD Value:framesd.default-tenant.svc:8080 ValueFrom:nil} {Name:V3IO_USERNAME Value:iguazio ValueFrom:nil} {Name:V3IO_ACCESS_KEY Value:64c94a79-7a41-4b13-bb7f-a3c9e9860eaf ValueFrom:nil} {Name:SAVE_DEPLOYMENT Value:True ValueFrom:nil} {Name:DEPLOYMENT_TABLE Value:netops_devices ValueFrom:nil} {Name:SAVE_TO Value:netops_metrics ValueFrom:nil} {Name:INITIAL_TIMESTAMP Value:-1 ValueFrom:nil} {Name:SECS_TO_GENERATE Value:10 ValueFrom:nil} {Name:SAVE_TO_TSDB Value:Truee ValueFrom:nil} {Name:METRICS_CONFIGURATION_FILEPATH Value:/configurations/metrics_configuration.yaml ValueFrom:nil}] Resources:{Limits:map[] Requests:map[]} Image:docker-registry.default-tenant.app.fmdvvoebjfpx.iguazio-cd2.com:80/nuclio/processor-generator:latest ImageHash:1557738255470332664 Replicas:0 MinReplicas:0 MaxReplicas:0 TargetCPU:0 DataBindings:map[] Triggers:map[secs:{Class: Kind:cron Disabled:false MaxWorkers:0 URL: Paths:[] Username: Password: Secret: Partitions:[] Annotations:map[] WorkerAvailabilityTimeoutMilliseconds:0 WorkerAllocatorName: TotalTasks:0 MaxTaskAllocation:0 Attributes:map[interval:10s]}] Volumes:[{Volume:{Name:fs VolumeSource:{HostPath:nil EmptyDir:nil GCEPersistentDisk:nil AWSElasticBlockStore:nil GitRepo:nil Secret:nil NFS:nil ISCSI:nil Glusterfs:nil PersistentVolumeClaim:nil RBD:nil FlexVolume:&FlexVolumeSource{Driver:v3io/fuse,FSType:,SecretRef:nil,ReadOnly:false,Options:map[string]string{accessKey: 64c94a79-7a41-4b13-bb7f-a3c9e9860eaf,container: users,subPath: /iguazio/netops/tutorials/demos/netops/configurations,},} Cinder:nil CephFS:nil Flocker:nil DownwardAPI:nil FC:nil AzureFile:nil ConfigMap:nil VsphereVolume:nil Quobyte:nil AzureDisk:nil PhotonPersistentDisk:nil Projected:nil PortworxVolume:nil ScaleIO:nil StorageOS:nil}} VolumeMount:{Name:fs ReadOnly:false MountPath:/configurations SubPath: MountPropagation:<nil>}}] Version:-1 Alias:latest Build:{Path: FunctionSourceCode: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 FunctionConfigPath: TempDir: Registry:docker-registry.default-tenant.app.fmdvvoebjfpx.iguazio-cd2.com:80 Image: NoBaseImagesPull:true NoCache:false NoCleanup:false BaseImage:python:3.6-jessie Commands:[pip install pyarrow pip install pyyaml --upgrade pip install pandas pip install pytimeparse pip install v3io_frames --upgrade pip install -i https://test.pypi.org/simple/ v3io-generator pip install faker mkdir /configurations] Directives:map[] ScriptPaths:[] AddedObjectPaths:map[] Dependencies:[] OnbuildImage: Offline:true RuntimeAttributes:map[] CodeEntryType: CodeEntryAttributes:map[] Timestamp:1557738262 Mode:} RunRegistry:docker-registry.default-tenant.app.fmdvvoebjfpx.iguazio-cd2.com:80 RuntimeAttributes:map[] LoggerSinks:[] DealerURI: Platform:{Attributes:map[]} ReadinessTimeoutSeconds:0 Avatar: ServiceType:NodePort ImagePullPolicy:}} PlatformConfig:<nil>} || platformConfig=&{Kind:kube WebAdmin:{Enabled:<nil> ListenAddress:} HealthCheck:{Enabled:<nil> ListenAddress:} Logger:{Sinks:map[myStdoutLoggerSink:{Kind:stdout URL: Attributes:map[timeFieldName:time varGroupName:more encoding:json timeFieldEncoding:iso8601]}] System:[{Level:debug Sink:myStdoutLoggerSink}] Functions:[{Level:debug Sink:myStdoutLoggerSink}]} Metrics:{Sinks:map[] System:[] Functions:[]} ScaleToZero:{MetricName: WindowSize: PollerInterval: ScalerInterval:} AutoScale:{MetricName: TargetValue:} FunctionAugmentedConfigs:[]}\"}{\"level\":\"debug\",\"time\":\"2019-05-13T09:04:24.695Z\",\"name\":\"processor.cron\",\"message\":\"Creating worker pool\",\"more\":\"num=1\"}{\"level\":\"debug\",\"time\":\"2019-05-13T09:04:24.695Z\",\"name\":\"processor.cron.w0.python.logger\",\"message\":\"Creating listener socket\",\"more\":\"path=/tmp/nuclio-rpc-bjcj663vj15g00f92cmg.sock\"}{\"level\":\"debug\",\"time\":\"2019-05-13T09:04:24.695Z\",\"name\":\"processor.cron.w0.python.logger\",\"message\":\"Using Python wrapper script path\",\"more\":\"path=/opt/nuclio/_nuclio_wrapper.py\"}{\"level\":\"debug\",\"time\":\"2019-05-13T09:04:24.696Z\",\"name\":\"processor.cron.w0.python.logger\",\"message\":\"Using Python handler\",\"more\":\"handler=handler:handler\"}{\"level\":\"debug\",\"time\":\"2019-05-13T09:04:24.696Z\",\"name\":\"processor.cron.w0.python.logger\",\"message\":\"Using Python executable\",\"more\":\"path=/usr/local/bin/python3\"}{\"level\":\"debug\",\"time\":\"2019-05-13T09:04:24.696Z\",\"name\":\"processor.cron.w0.python.logger\",\"message\":\"Setting PYTHONPATH\",\"more\":\"value=PYTHONPATH=/opt/nuclio\"}{\"level\":\"debug\",\"time\":\"2019-05-13T09:04:24.696Z\",\"name\":\"processor.cron.w0.python.logger\",\"message\":\"Running wrapper\",\"more\":\"command=/usr/local/bin/python3 -u /opt/nuclio/_nuclio_wrapper.py --handler handler:handler --socket-path /tmp/nuclio-rpc-bjcj663vj15g00f92cmg.sock --platform-kind kube --namespace default-tenant --worker-id 0 --trigger-name \"}{\"level\":\"info\",\"time\":\"2019-05-13T09:04:25.211Z\",\"name\":\"processor.cron.w0.python.logger\",\"message\":\"Wrapper connected\"}{\"level\":\"debug\",\"time\":\"2019-05-13T09:04:25.211Z\",\"name\":\"processor.cron.w0.python.logger\",\"message\":\"Waiting for start\"}Python> 2019-05-13 09:04:25,211 [info] Replacing logger outputcreating deployment/opt/nuclio/handler.py:95: YAMLLoadWarning: calling yaml.load() without Loader=... is deprecated, as the default Loader is unsafe. Please read https://msg.pyyaml.org/load for full details.  metrics_configuration = yaml.load(f){\"level\":\"debug\",\"time\":\"2019-05-13T09:04:25.504Z\",\"name\":\"processor.cron.w0.python.logger\",\"message\":\"Started\"}{\"level\":\"info\",\"time\":\"2019-05-13T09:04:25.504Z\",\"name\":\"processor.cron\",\"message\":\"Creating new cron trigger with interval\",\"more\":\"interval=10s\"}{\"level\":\"debug\",\"time\":\"2019-05-13T09:04:25.504Z\",\"name\":\"processor\",\"message\":\"Creating default HTTP event source\",\"more\":\"configuration=&{Class:sync Kind:http Disabled:false MaxWorkers:1 URL::8080 Paths:[] Username: Password: Secret: Partitions:[] Annotations:map[] WorkerAvailabilityTimeoutMilliseconds:0 WorkerAllocatorName:defaultHTTPWorkerAllocator TotalTasks:0 MaxTaskAllocation:0 Attributes:map[]}\"}{\"level\":\"debug\",\"time\":\"2019-05-13T09:04:25.504Z\",\"name\":\"processor.http\",\"message\":\"Creating worker pool\",\"more\":\"num=1\"}{\"level\":\"debug\",\"time\":\"2019-05-13T09:04:25.504Z\",\"name\":\"processor.http.w0.python.logger\",\"message\":\"Creating listener socket\",\"more\":\"path=/tmp/nuclio-rpc-bjcj66bvj15g00f92cn0.sock\"}{\"level\":\"debug\",\"time\":\"2019-05-13T09:04:25.504Z\",\"name\":\"processor.http.w0.python.logger\",\"message\":\"Using Python wrapper script path\",\"more\":\"path=/opt/nuclio/_nuclio_wrapper.py\"}{\"level\":\"debug\",\"time\":\"2019-05-13T09:04:25.504Z\",\"name\":\"processor.http.w0.python.logger\",\"message\":\"Using Python handler\",\"more\":\"handler=handler:handler\"}{\"level\":\"debug\",\"time\":\"2019-05-13T09:04:25.504Z\",\"name\":\"processor.http.w0.python.logger\",\"message\":\"Using Python executable\",\"more\":\"path=/usr/local/bin/python3\"}{\"level\":\"debug\",\"time\":\"2019-05-13T09:04:25.504Z\",\"name\":\"processor.http.w0.python.logger\",\"message\":\"Setting PYTHONPATH\",\"more\":\"value=PYTHONPATH=/opt/nuclio\"}{\"level\":\"debug\",\"time\":\"2019-05-13T09:04:25.504Z\",\"name\":\"processor.http.w0.python.logger\",\"message\":\"Running wrapper\",\"more\":\"command=/usr/local/bin/python3 -u /opt/nuclio/_nuclio_wrapper.py --handler handler:handler --socket-path /tmp/nuclio-rpc-bjcj66bvj15g00f92cn0.sock --platform-kind kube --namespace default-tenant --worker-id 0 --trigger-name defaultHTTPWorkerAllocator\"}{\"level\":\"info\",\"time\":\"2019-05-13T09:04:25.964Z\",\"name\":\"processor.http.w0.python.logger\",\"message\":\"Wrapper connected\"}{\"level\":\"debug\",\"time\":\"2019-05-13T09:04:25.964Z\",\"name\":\"processor.http.w0.python.logger\",\"message\":\"Waiting for start\"}Python> 2019-05-13 09:04:25,964 [info] Replacing logger outputcreating deployment/opt/nuclio/handler.py:95: YAMLLoadWarning: calling yaml.load() without Loader=... is deprecated, as the default Loader is unsafe. Please read https://msg.pyyaml.org/load for full details.  metrics_configuration = yaml.load(f){\"level\":\"debug\",\"time\":\"2019-05-13T09:04:26.256Z\",\"name\":\"processor.http.w0.python.logger\",\"message\":\"Started\"}{\"level\":\"debug\",\"time\":\"2019-05-13T09:04:26.257Z\",\"name\":\"processor.webadmin.server.triggers\",\"message\":\"Registered custom route\",\"more\":\"pattern=/{id}/stats || method=GET\"}{\"level\":\"debug\",\"time\":\"2019-05-13T09:04:26.257Z\",\"name\":\"processor.webadmin.server\",\"message\":\"Registered resource\",\"more\":\"name=triggers\"}{\"level\":\"warn\",\"time\":\"2019-05-13T09:04:26.257Z\",\"name\":\"processor\",\"message\":\"No metric sinks configured, metrics will not be published\"}{\"level\":\"debug\",\"time\":\"2019-05-13T09:04:26.257Z\",\"name\":\"processor\",\"message\":\"Starting\"}{\"level\":\"info\",\"time\":\"2019-05-13T09:04:26.257Z\",\"name\":\"processor.healthcheck.server\",\"message\":\"Listening\",\"more\":\"listenAddress=:8082\"}{\"level\":\"info\",\"time\":\"2019-05-13T09:04:26.257Z\",\"name\":\"processor.http\",\"message\":\"Starting\",\"more\":\"listenAddress=:8080 || readBufferSize=4096\"}{\"level\":\"info\",\"time\":\"2019-05-13T09:04:26.257Z\",\"name\":\"processor.webadmin.server\",\"message\":\"Listening\",\"more\":\"listenAddress=:8081\"}{\"level\":\"debug\",\"time\":\"2019-05-13T09:04:26.257Z\",\"name\":\"processor.cron\",\"message\":\"Waiting for next event\",\"more\":\"delay=9.742650927s\"}{\"level\":\"debug\",\"time\":\"2019-05-13T09:04:36.000Z\",\"name\":\"processor.cron\",\"message\":\"Submitting event\"}{\"level\":\"debug\",\"time\":\"2019-05-13T09:04:36.000Z\",\"name\":\"processor.cron.w0.python.logger\",\"message\":\"Processing event\",\"more\":\"name=generator || version=-1 || eventID=4771dd46-f319-4846-b8c6-c7294cb56de9\"}{\"level\":\"debug\",\"time\":\"2019-05-13T09:04:36.000Z\",\"name\":\"processor.cron.w0.python.logger\",\"message\":\"Sending event to wrapper\",\"more\":\"size=0\"}Saving metrics to TSDB{\"level\":\"debug\",\"time\":\"2019-05-13T09:04:36.032Z\",\"name\":\"processor.cron.w0.python.logger\",\"message\":\"Event executed\",\"more\":\"name=generator || status=200 || eventID=4771dd46-f319-4846-b8c6-c7294cb56de9\"}{\"level\":\"debug\",\"time\":\"2019-05-13T09:04:36.032Z\",\"name\":\"processor.cron\",\"message\":\"Waiting for next event\",\"more\":\"delay=9.967403305s\"}{\"level\":\"debug\",\"time\":\"2019-05-13T09:04:46.000Z\",\"name\":\"processor.cron\",\"message\":\"Submitting event\"}{\"level\":\"debug\",\"time\":\"2019-05-13T09:04:46.000Z\",\"name\":\"processor.cron.w0.python.logger\",\"message\":\"Processing event\",\"more\":\"name=generator || version=-1 || eventID=5b782aa7-b7e8-4eb2-832e-efd517d6db50\"}{\"level\":\"debug\",\"time\":\"2019-05-13T09:04:46.000Z\",\"name\":\"processor.cron.w0.python.logger\",\"message\":\"Sending event to wrapper\",\"more\":\"size=0\"}Saving metrics to TSDB{\"level\":\"debug\",\"time\":\"2019-05-13T09:04:46.030Z\",\"name\":\"processor.cron.w0.python.logger\",\"message\":\"Event executed\",\"more\":\"name=generator || status=200 || eventID=5b782aa7-b7e8-4eb2-832e-efd517d6db50\"}{\"level\":\"debug\",\"time\":\"2019-05-13T09:04:46.030Z\",\"name\":\"processor.cron\",\"message\":\"Waiting for next event\",\"more\":\"delay=9.969768773s\"}{\"level\":\"debug\",\"time\":\"2019-05-13T09:04:56.000Z\",\"name\":\"processor.cron\",\"message\":\"Submitting event\"}{\"level\":\"debug\",\"time\":\"2019-05-13T09:04:56.000Z\",\"name\":\"processor.cron.w0.python.logger\",\"message\":\"Processing event\",\"more\":\"name=generator || version=-1 || eventID=958e265c-541e-43d0-821e-b8a19d8face1\"}{\"level\":\"debug\",\"time\":\"2019-05-13T09:04:56.000Z\",\"name\":\"processor.cron.w0.python.logger\",\"message\":\"Sending event to wrapper\",\"more\":\"size=0\"}Saving metrics to TSDB{\"level\":\"debug\",\"time\":\"2019-05-13T09:04:56.029Z\",\"name\":\"processor.cron.w0.python.logger\",\"message\":\"Event executed\",\"more\":\"name=generator || status=200 || eventID=958e265c-541e-43d0-821e-b8a19d8face1\"}{\"level\":\"debug\",\"time\":\"2019-05-13T09:04:56.029Z\",\"name\":\"processor.cron\",\"message\":\"Waiting for next event\",\"more\":\"delay=9.97074206s\"}{\"level\":\"debug\",\"time\":\"2019-05-13T09:05:06.000Z\",\"name\":\"processor.cron\",\"message\":\"Submitting event\"}{\"level\":\"debug\",\"time\":\"2019-05-13T09:05:06.000Z\",\"name\":\"processor.cron.w0.python.logger\",\"message\":\"Processing event\",\"more\":\"name=generator || version=-1 || eventID=320650c9-0e77-4ff7-8ff5-732a0359ed61\"}{\"level\":\"debug\",\"time\":\"2019-05-13T09:05:06.000Z\",\"name\":\"processor.cron.w0.python.logger\",\"message\":\"Sending event to wrapper\",\"more\":\"size=0\"}Saving metrics to TSDB{\"level\":\"debug\",\"time\":\"2019-05-13T09:05:06.037Z\",\"name\":\"processor.cron.w0.python.logger\",\"message\":\"Event executed\",\"more\":\"name=generator || status=200 || eventID=320650c9-0e77-4ff7-8ff5-732a0359ed61\"}{\"level\":\"debug\",\"time\":\"2019-05-13T09:05:06.037Z\",\"name\":\"processor.cron\",\"message\":\"Waiting for next event\",\"more\":\"delay=9.962461059s\"}{\"level\":\"debug\",\"time\":\"2019-05-13T09:05:16.000Z\",\"name\":\"processor.cron\",\"message\":\"Submitting event\"}{\"level\":\"debug\",\"time\":\"2019-05-13T09:05:16.000Z\",\"name\":\"processor.cron.w0.python.logger\",\"message\":\"Processing event\",\"more\":\"name=generator || version=-1 || eventID=274585f6-3548-4422-841d-4a2be67fb90c\"}{\"level\":\"debug\",\"time\":\"2019-05-13T09:05:16.000Z\",\"name\":\"processor.cron.w0.python.logger\",\"message\":\"Sending event to wrapper\",\"more\":\"size=0\"}Saving metrics to TSDB{\"level\":\"debug\",\"time\":\"2019-05-13T09:05:16.031Z\",\"name\":\"processor.cron.w0.python.logger\",\"message\":\"Event executed\",\"more\":\"name=generator || status=200 || eventID=274585f6-3548-4422-841d-4a2be67fb90c\"}{\"level\":\"debug\",\"time\":\"2019-05-13T09:05:16.031Z\",\"name\":\"processor.cron\",\"message\":\"Waiting for next event\",\"more\":\"delay=9.968404123s\"}{\"level\":\"debug\",\"time\":\"2019-05-13T09:05:26.000Z\",\"name\":\"processor.cron\",\"message\":\"Submitting event\"}{\"level\":\"debug\",\"time\":\"2019-05-13T09:05:26.000Z\",\"name\":\"processor.cron.w0.python.logger\",\"message\":\"Processing event\",\"more\":\"name=generator || version=-1 || eventID=c8fa6c6c-f0f9-4194-94ca-9b12c2a2ad38\"}{\"level\":\"debug\",\"time\":\"2019-05-13T09:05:26.000Z\",\"name\":\"processor.cron.w0.python.logger\",\"message\":\"Sending event to wrapper\",\"more\":\"size=0\"}Saving metrics to TSDB{\"level\":\"debug\",\"time\":\"2019-05-13T09:05:26.030Z\",\"name\":\"processor.cron.w0.python.logger\",\"message\":\"Event executed\",\"more\":\"name=generator || status=200 || eventID=c8fa6c6c-f0f9-4194-94ca-9b12c2a2ad38\"}{\"level\":\"debug\",\"time\":\"2019-05-13T09:05:26.030Z\",\"name\":\"processor.cron\",\"message\":\"Waiting for next event\",\"more\":\"delay=9.969510378s\"}{\"level\":\"debug\",\"time\":\"2019-05-13T09:05:36.000Z\",\"name\":\"processor.cron\",\"message\":\"Submitting event\"}{\"level\":\"debug\",\"time\":\"2019-05-13T09:05:36.000Z\",\"name\":\"processor.cron.w0.python.logger\",\"message\":\"Processing event\",\"more\":\"name=generator || version=-1 || eventID=37e4f59c-1701-4756-b7d8-6454ab0a77b8\"}{\"level\":\"debug\",\"time\":\"2019-05-13T09:05:36.000Z\",\"name\":\"processor.cron.w0.python.logger\",\"message\":\"Sending event to wrapper\",\"more\":\"size=0\"}Saving metrics to TSDB{\"level\":\"debug\",\"time\":\"2019-05-13T09:05:36.030Z\",\"name\":\"processor.cron.w0.python.logger\",\"message\":\"Event executed\",\"more\":\"name=generator || status=200 || eventID=37e4f59c-1701-4756-b7d8-6454ab0a77b8\"}{\"level\":\"debug\",\"time\":\"2019-05-13T09:05:36.031Z\",\"name\":\"processor.cron\",\"message\":\"Waiting for next event\",\"more\":\"delay=9.968964476s\"}{\"level\":\"debug\",\"time\":\"2019-05-13T09:05:46.000Z\",\"name\":\"processor.cron\",\"message\":\"Submitting event\"}{\"level\":\"debug\",\"time\":\"2019-05-13T09:05:46.000Z\",\"name\":\"processor.cron.w0.python.logger\",\"message\":\"Processing event\",\"more\":\"name=generator || version=-1 || eventID=dbb2a945-78bb-49cd-a8e4-2c0472d25337\"}{\"level\":\"debug\",\"time\":\"2019-05-13T09:05:46.000Z\",\"name\":\"processor.cron.w0.python.logger\",\"message\":\"Sending event to wrapper\",\"more\":\"size=0\"}Saving metrics to TSDB{\"level\":\"debug\",\"time\":\"2019-05-13T09:05:46.029Z\",\"name\":\"processor.cron.w0.python.logger\",\"message\":\"Event executed\",\"more\":\"name=generator || status=200 || eventID=dbb2a945-78bb-49cd-a8e4-2c0472d25337\"}{\"level\":\"debug\",\"time\":\"2019-05-13T09:05:46.029Z\",\"name\":\"processor.cron\",\"message\":\"Waiting for next event\",\"more\":\"delay=9.970954389s\"}{\"level\":\"debug\",\"time\":\"2019-05-13T09:05:56.000Z\",\"name\":\"processor.cron\",\"message\":\"Submitting event\"}{\"level\":\"debug\",\"time\":\"2019-05-13T09:05:56.000Z\",\"name\":\"processor.cron.w0.python.logger\",\"message\":\"Processing event\",\"more\":\"name=generator || version=-1 || eventID=c19a6b06-0377-4c67-9a6e-f3e770b0ffe4\"}{\"level\":\"debug\",\"time\":\"2019-05-13T09:05:56.000Z\",\"name\":\"processor.cron.w0.python.logger\",\"message\":\"Sending event to wrapper\",\"more\":\"size=0\"}Saving metrics to TSDB{\"level\":\"debug\",\"time\":\"2019-05-13T09:05:56.030Z\",\"name\":\"processor.cron.w0.python.logger\",\"message\":\"Event executed\",\"more\":\"name=generator || status=200 || eventID=c19a6b06-0377-4c67-9a6e-f3e770b0ffe4\"}{\"level\":\"debug\",\"time\":\"2019-05-13T09:05:56.030Z\",\"name\":\"processor.cron\",\"message\":\"Waiting for next event\",\"more\":\"delay=9.969664447s\"}{\"level\":\"debug\",\"time\":\"2019-05-13T09:06:06.000Z\",\"name\":\"processor.cron\",\"message\":\"Submitting event\"}{\"level\":\"debug\",\"time\":\"2019-05-13T09:06:06.000Z\",\"name\":\"processor.cron.w0.python.logger\",\"message\":\"Processing event\",\"more\":\"name=generator || version=-1 || eventID=111a568c-d927-4272-b54e-5084cb8a9d69\"}{\"level\":\"debug\",\"time\":\"2019-05-13T09:06:06.000Z\",\"name\":\"processor.cron.w0.python.logger\",\"message\":\"Sending event to wrapper\",\"more\":\"size=0\"}Saving metrics to TSDB{\"level\":\"debug\",\"time\":\"2019-05-13T09:06:06.029Z\",\"name\":\"processor.cron.w0.python.logger\",\"message\":\"Event executed\",\"more\":\"name=generator || status=200 || eventID=111a568c-d927-4272-b54e-5084cb8a9d69\"}{\"level\":\"debug\",\"time\":\"2019-05-13T09:06:06.029Z\",\"name\":\"processor.cron\",\"message\":\"Waiting for next event\",\"more\":\"delay=9.970906047s\"}{\"level\":\"debug\",\"time\":\"2019-05-13T09:06:16.000Z\",\"name\":\"processor.cron\",\"message\":\"Submitting event\"}\n",
      "%nuclio: * generator-784544496c-6c6sw\n",
      "%nuclio: {\"level\":\"debug\",\"time\":\"2019-05-14T07:42:55.951Z\",\"name\":\"processor\",\"message\":\"Read configuration\",\"more\":\"config=&{Config:{Meta:{Name:generator Namespace:default-tenant Labels:map[] Annotations:map[]} Spec:{Description: Disabled:false Publish:false Handler:handler:handler Runtime:python:3.6 Env:[{Name:V3IO_FRAMESD Value:framesd.default-tenant.svc:8080 ValueFrom:nil} {Name:V3IO_USERNAME Value:iguazio ValueFrom:nil} {Name:V3IO_ACCESS_KEY Value:64c94a79-7a41-4b13-bb7f-a3c9e9860eaf ValueFrom:nil} {Name:SAVE_DEPLOYMENT Value:0 ValueFrom:nil} {Name:DEPLOYMENT_TABLE Value:netops_devices ValueFrom:nil} {Name:SAVE_TO Value:/v3io/bigdata/netops_metrics_parquet ValueFrom:nil} {Name:INITIAL_TIMESTAMP Value:-1 ValueFrom:nil} {Name:SECS_TO_GENERATE Value:10 ValueFrom:nil} {Name:SAVE_TO_TSDB Value:0 ValueFrom:nil} {Name:METRICS_CONFIGURATION_FILEPATH Value:/configurations/metrics_configuration.yaml ValueFrom:nil}] Resources:{Limits:map[] Requests:map[]} Image:docker-registry.default-tenant.app.fmdvvoebjfpx.iguazio-cd2.com:80/nuclio/processor-generator:latest ImageHash:1557819726643410885 Replicas:0 MinReplicas:0 MaxReplicas:0 TargetCPU:0 DataBindings:map[] Triggers:map[secs:{Class: Kind:cron Disabled:false MaxWorkers:0 URL: Paths:[] Username: Password: Secret: Partitions:[] Annotations:map[] WorkerAvailabilityTimeoutMilliseconds:0 WorkerAllocatorName: TotalTasks:0 MaxTaskAllocation:0 Attributes:map[interval:10s]}] Volumes:[{Volume:{Name:fs VolumeSource:{HostPath:nil EmptyDir:nil GCEPersistentDisk:nil AWSElasticBlockStore:nil GitRepo:nil Secret:nil NFS:nil ISCSI:nil Glusterfs:nil PersistentVolumeClaim:nil RBD:nil FlexVolume:&FlexVolumeSource{Driver:v3io/fuse,FSType:,SecretRef:nil,ReadOnly:false,Options:map[string]string{accessKey: 64c94a79-7a41-4b13-bb7f-a3c9e9860eaf,container: users,subPath: /iguazio/netops/tutorials/demos/netops/configurations,},} Cinder:nil CephFS:nil Flocker:nil DownwardAPI:nil FC:nil AzureFile:nil ConfigMap:nil VsphereVolume:nil Quobyte:nil AzureDisk:nil PhotonPersistentDisk:nil Projected:nil PortworxVolume:nil ScaleIO:nil StorageOS:nil}} VolumeMount:{Name:fs ReadOnly:false MountPath:/configurations SubPath: MountPropagation:<nil>}}] Version:-1 Alias:latest Build:{Path: FunctionSourceCode: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 FunctionConfigPath: TempDir: Registry:docker-registry.default-tenant.app.fmdvvoebjfpx.iguazio-cd2.com:80 Image: NoBaseImagesPull:true NoCache:false NoCleanup:false BaseImage:python:3.6-jessie Commands:[pip install pyarrow pip install pyyaml --upgrade pip install pandas pip install v3io_frames --upgrade pip install -i https://test.pypi.org/simple/ v3io-generator pip install faker mkdir /configurations] Directives:map[] ScriptPaths:[] AddedObjectPaths:map[] Dependencies:[] OnbuildImage: Offline:true RuntimeAttributes:map[] CodeEntryType: CodeEntryAttributes:map[] Timestamp:1557819756 Mode:} RunRegistry:docker-registry.default-tenant.app.fmdvvoebjfpx.iguazio-cd2.com:80 RuntimeAttributes:map[] LoggerSinks:[] DealerURI: Platform:{Attributes:map[]} ReadinessTimeoutSeconds:0 Avatar: ServiceType:NodePort ImagePullPolicy:}} PlatformConfig:<nil>} || platformConfig=&{Kind:kube WebAdmin:{Enabled:<nil> ListenAddress:} HealthCheck:{Enabled:<nil> ListenAddress:} Logger:{Sinks:map[myStdoutLoggerSink:{Kind:stdout URL: Attributes:map[encoding:json timeFieldEncoding:iso8601 timeFieldName:time varGroupName:more]}] System:[{Level:debug Sink:myStdoutLoggerSink}] Functions:[{Level:debug Sink:myStdoutLoggerSink}]} Metrics:{Sinks:map[] System:[] Functions:[]} ScaleToZero:{MetricName: WindowSize: PollerInterval: ScalerInterval:} AutoScale:{MetricName: TargetValue:} FunctionAugmentedConfigs:[]}\"}{\"level\":\"debug\",\"time\":\"2019-05-14T07:42:55.951Z\",\"name\":\"processor.cron\",\"message\":\"Creating worker pool\",\"more\":\"num=1\"}{\"level\":\"debug\",\"time\":\"2019-05-14T07:42:55.951Z\",\"name\":\"processor.cron.w0.python.logger\",\"message\":\"Creating listener socket\",\"more\":\"path=/tmp/nuclio-rpc-bjd72vtsmmgg009isopg.sock\"}{\"level\":\"debug\",\"time\":\"2019-05-14T07:42:55.951Z\",\"name\":\"processor.cron.w0.python.logger\",\"message\":\"Using Python wrapper script path\",\"more\":\"path=/opt/nuclio/_nuclio_wrapper.py\"}{\"level\":\"debug\",\"time\":\"2019-05-14T07:42:55.951Z\",\"name\":\"processor.cron.w0.python.logger\",\"message\":\"Using Python handler\",\"more\":\"handler=handler:handler\"}{\"level\":\"debug\",\"time\":\"2019-05-14T07:42:55.951Z\",\"name\":\"processor.cron.w0.python.logger\",\"message\":\"Using Python executable\",\"more\":\"path=/usr/local/bin/python3\"}{\"level\":\"debug\",\"time\":\"2019-05-14T07:42:55.951Z\",\"name\":\"processor.cron.w0.python.logger\",\"message\":\"Setting PYTHONPATH\",\"more\":\"value=PYTHONPATH=/opt/nuclio\"}{\"level\":\"debug\",\"time\":\"2019-05-14T07:42:55.951Z\",\"name\":\"processor.cron.w0.python.logger\",\"message\":\"Running wrapper\",\"more\":\"command=/usr/local/bin/python3 -u /opt/nuclio/_nuclio_wrapper.py --handler handler:handler --socket-path /tmp/nuclio-rpc-bjd72vtsmmgg009isopg.sock --platform-kind kube --namespace default-tenant --worker-id 0 --trigger-name \"}Python> 2019-05-14 07:42:56,471 [warning] Caught unhandled exception while initializing: {'err': \"No module named 'pytimeparse'\", 'traceback': 'Traceback (most recent call last):\\n  File \"/opt/nuclio/_nuclio_wrapper.py\", line 233, in run_wrapper\\n    args.trigger_name)\\n  File \"/opt/nuclio/_nuclio_wrapper.py\", line 40, in __init__\\n    self._entrypoint = self._load_entrypoint_from_handler(handler)\\n  File \"/opt/nuclio/_nuclio_wrapper.py\", line 146, in _load_entrypoint_from_handler\\n    module = __import__(module_name)\\n  File \"/opt/nuclio/handler.py\", line 13, in <module>\\n    from v3io_generator import metrics_generator, deployment_generator\\n  File \"/usr/local/lib/python3.6/site-packages/v3io_generator/metrics_generator.py\", line 5, in <module>\\n    from pytimeparse import parse\\nModuleNotFoundError: No module named \\'pytimeparse\\'\\n'}Error - accept unix /tmp/nuclio-rpc-bjd72vtsmmgg009isopg.sock: i/o timeout    .../nuclio/pkg/processor/runtime/rpc/abstract.go:185Call stack:Can't get connection from wrapper    .../nuclio/pkg/processor/runtime/rpc/abstract.go:185Failed to run wrapper    .../nuclio/pkg/processor/runtime/rpc/abstract.go:96Failed to create runtime    .../nuclio/nuclio/pkg/processor/worker/factory.go:94Failed to create worker    .../nuclio/nuclio/pkg/processor/worker/factory.go:110Failed to create HTTP trigger    .../nuclio/nuclio/pkg/processor/worker/factory.go:43\n"
     ]
    },
    {
     "name": "stderr",
     "output_type": "stream",
     "text": [
      "%nuclio: cannot deploy\n",
      "%nuclio: Invalid -W option ignored: invalid action: 'yaml.YAMLLoadWarning'\n",
      "error: cannot deploy\n"
     ]
    }
   ],
   "source": [
    "%nuclio deploy -p netops -n generator -c"
   ]
  },
  {
   "cell_type": "code",
   "execution_count": null,
   "metadata": {},
   "outputs": [],
   "source": []
  }
 ],
 "metadata": {
  "kernelspec": {
   "display_name": "Python 3",
   "language": "python",
   "name": "python3"
  },
  "language_info": {
   "codemirror_mode": {
    "name": "ipython",
    "version": 3
   },
   "file_extension": ".py",
   "mimetype": "text/x-python",
   "name": "python",
   "nbconvert_exporter": "python",
   "pygments_lexer": "ipython3",
   "version": "3.6.8"
  }
 },
 "nbformat": 4,
 "nbformat_minor": 2
}
