{
 "cells": [
  {
   "cell_type": "code",
   "execution_count": 1,
   "metadata": {},
   "outputs": [],
   "source": [
    "!pip install git+https://github.com/v3io/v3io-gputils"
   ]
  },
  {
   "cell_type": "code",
   "execution_count": 4,
   "metadata": {},
   "outputs": [],
   "source": [
    "import os\n",
    "!rm -f {os.path.join(os.getcwd(), 'model', 'cats_dogs.hd5')}\n",
    "!mkdir {os.path.join(os.getcwd(), 'checkpoints')}"
   ]
  },
  {
   "cell_type": "code",
   "execution_count": 2,
   "metadata": {},
   "outputs": [],
   "source": [
    "HOROVOD_JOB_NAME = \"horovod-cats-n-dogs\""
   ]
  },
  {
   "cell_type": "code",
   "execution_count": 6,
   "metadata": {},
   "outputs": [
    {
     "name": "stdout",
     "output_type": "stream",
     "text": [
      "{'apiVersion': 'kubeflow.org/v1alpha1',\n",
      " 'kind': 'MPIJob',\n",
      " 'metadata': {'creationTimestamp': '2019-09-18T11:59:45Z',\n",
      "              'generation': 1,\n",
      "              'name': 'horovod-cats-n-dogs',\n",
      "              'namespace': 'default-tenant',\n",
      "              'resourceVersion': '2002259',\n",
      "              'selfLink': '/apis/kubeflow.org/v1alpha1/namespaces/default-tenant/mpijobs/horovod-cats-n-dogs',\n",
      "              'uid': 'ce99b2ad-da0b-11e9-a796-02e0e01c020a'},\n",
      " 'spec': {'replicas': 1,\n",
      "          'template': {'spec': {'containers': [{'command': ['mpirun',\n",
      "                                                            'python',\n",
      "                                                            '/User/demos/gpu/horovod/image-classification/horovod_train_cats_n_dogs.py',\n",
      "                                                            '/User/demos/gpu/horovod/image-classification/cats_and_dogs_filtered',\n",
      "                                                            '/User/demos/gpu/horovod/image-classification'],\n",
      "                                                'image': 'iguaziodocker/horovod:0.1.1',\n",
      "                                                'name': 'horovod-cats-n-dogs',\n",
      "                                                'resources': {'limits': {'nvidia.com/gpu': 1}},\n",
      "                                                'securityContext': {'capabilities': {'add': ['IPC_LOCK']}},\n",
      "                                                'volumeMounts': [{'mountPath': '/User',\n",
      "                                                                  'name': 'v3io'}],\n",
      "                                                'workingDir': '/User'}],\n",
      "                                'volumes': [{'flexVolume': {'driver': 'v3io/fuse',\n",
      "                                                            'options': {'accessKey': 'bd182781-6b24-4899-b2b7-a84608931aeb',\n",
      "                                                                        'container': 'users',\n",
      "                                                                        'subPath': '/iguazio'}},\n",
      "                                             'name': 'v3io'}]}}}}\n"
     ]
    }
   ],
   "source": [
    "from v3io_gputils.mpijob import MpiJob\n",
    "\n",
    "job = MpiJob(HOROVOD_JOB_NAME, 'iguaziodocker/horovod:0.1.1', [os.path.join(os.getcwd(), 'horovod_train_cats_n_dogs.py'),\n",
    "                                                               os.path.join(os.getcwd(), 'cats_and_dogs_filtered'),\n",
    "                                                               os.getcwd()])\n",
    "\n",
    "job.replicas(1).gpus(1)\n",
    "job.submit()"
   ]
  },
  {
   "cell_type": "code",
   "execution_count": 7,
   "metadata": {},
   "outputs": [
    {
     "name": "stdout",
     "output_type": "stream",
     "text": [
      "horovod-cats-n-dogs-launcher-ghqw6                  0/1     PodInitializing    0          4s\n",
      "horovod-cats-n-dogs-worker-0                        1/1     Running            0          8s\n"
     ]
    }
   ],
   "source": [
    "\n",
    "!kubectl get pods | grep $HOROVOD_JOB_NAME"
   ]
  },
  {
   "cell_type": "code",
   "execution_count": 9,
   "metadata": {},
   "outputs": [
    {
     "name": "stdout",
     "output_type": "stream",
     "text": [
      "apiVersion: kubeflow.org/v1alpha1\n",
      "kind: MPIJob\n",
      "metadata:\n",
      "  creationTimestamp: 2019-09-18T11:59:45Z\n",
      "  generation: 4\n",
      "  name: horovod-cats-n-dogs\n",
      "  namespace: default-tenant\n",
      "  resourceVersion: \"2002304\"\n",
      "  selfLink: /apis/kubeflow.org/v1alpha1/namespaces/default-tenant/mpijobs/horovod-cats-n-dogs\n",
      "  uid: ce99b2ad-da0b-11e9-a796-02e0e01c020a\n",
      "spec:\n",
      "  backoffLimit: 6\n",
      "  replicas: 1\n",
      "  template:\n",
      "    metadata:\n",
      "      creationTimestamp: null\n",
      "    spec:\n",
      "      containers:\n",
      "      - command:\n",
      "        - mpirun\n",
      "        - python\n",
      "        - /User/demos/gpu/horovod/image-classification/horovod_train_cats_n_dogs.py\n",
      "        - /User/demos/gpu/horovod/image-classification/cats_and_dogs_filtered\n",
      "        - /User/demos/gpu/horovod/image-classification\n",
      "        image: iguaziodocker/horovod:0.1.1\n",
      "        name: horovod-cats-n-dogs\n",
      "        resources:\n",
      "          limits:\n",
      "            nvidia.com/gpu: \"1\"\n",
      "        securityContext:\n",
      "          capabilities:\n",
      "            add:\n",
      "            - IPC_LOCK\n",
      "        volumeMounts:\n",
      "        - mountPath: /User\n",
      "          name: v3io\n",
      "        workingDir: /User\n",
      "      volumes:\n",
      "      - flexVolume:\n",
      "          driver: v3io/fuse\n",
      "          options:\n",
      "            accessKey: bd182781-6b24-4899-b2b7-a84608931aeb\n",
      "            container: users\n",
      "            subPath: /iguazio\n",
      "        name: v3io\n",
      "status:\n",
      "  launcherStatus: Active\n",
      "  startTime: 2019-09-18T11:59:49Z\n",
      "  workerReplicas: 1\n"
     ]
    }
   ],
   "source": [
    "!kubectl get mpijob $HOROVOD_JOB_NAME -o yaml"
   ]
  },
  {
   "cell_type": "code",
   "execution_count": 7,
   "metadata": {},
   "outputs": [
    {
     "name": "stdout",
     "output_type": "stream",
     "text": [
      "{'apiVersion': 'v1',\n",
      " 'details': {'group': 'kubeflow.org',\n",
      "             'kind': 'mpijobs',\n",
      "             'name': 'horovod-cats-n-dogs',\n",
      "             'uid': '1b58dd58-9c97-11e9-98d3-d8c4972b0204'},\n",
      " 'kind': 'Status',\n",
      " 'metadata': {},\n",
      " 'status': 'Success'}\n"
     ]
    }
   ],
   "source": [
    "job.delete()"
   ]
  }
 ],
 "metadata": {
  "kernelspec": {
   "display_name": "Python 3",
   "language": "python",
   "name": "python3"
  },
  "language_info": {
   "codemirror_mode": {
    "name": "ipython",
    "version": 3
   },
   "file_extension": ".py",
   "mimetype": "text/x-python",
   "name": "python",
   "nbconvert_exporter": "python",
   "pygments_lexer": "ipython3",
   "version": "3.6.8"
  }
 },
 "nbformat": 4,
 "nbformat_minor": 4
}
