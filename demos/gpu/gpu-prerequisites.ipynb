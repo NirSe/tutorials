{
 "cells": [
  {
   "cell_type": "markdown",
   "metadata": {},
   "source": [
    "# Prerequisites for the GPU Demos"
   ]
  },
  {
   "cell_type": "markdown",
   "metadata": {},
   "source": [
    "To run the GPU-demo tutorials, you must fulfill the following prerequisites:\n",
    "\n",
    "- Your environment must have one or more [NVIDIA](https://www.nvidia.com/en-us/) graphics processing units (GPUs).\n",
    "- To use the Horovod demos, ensure that\n",
    "  - The platform's Horovod service is deployed on your enviornment.<br>\n",
    "    > **Note:** The Horovod service isn't part of the default v2.3 platform deployment.<br/>\n",
    "    > Contact [Iguazio Customer Success](mailto:support@iguazio.com) to deploy the service.\n",
    "  - Your Jupyter Notebook service uses the **Jupyter Deep Learning + GPU** flavor (configured from the custom service parameters).\n",
    "- To use the RAPIDS demos, ensure that\n",
    "  - Your environment has one or more GPUs with the [NVIDIA Pascal](https://www.nvidia.com/en-us/geforce/products/10series/architecture/) architecture or better and [compute capability](https://developer.nvidia.com/cuda-gpus) 6.0+.\n",
    "  - Your Jupyter Notebook service uses the **Jupyter Deep Learning with Rapids** flavor (configured from the custom service parameters).<br/>\n",
    "    > **Note:** In v2.3 of the platform, you must contact [Iguazio Customer Success](mailto:support@iguazio.com) before attempting to deploy the service with this flavor."
   ]
  }
 ],
 "metadata": {
  "kernelspec": {
   "display_name": "Python 3",
   "language": "python",
   "name": "python3"
  },
  "language_info": {
   "codemirror_mode": {
    "name": "ipython",
    "version": 3
   },
   "file_extension": ".py",
   "mimetype": "text/x-python",
   "name": "python",
   "nbconvert_exporter": "python",
   "pygments_lexer": "ipython3",
   "version": "3.6.8"
  }
 },
 "nbformat": 4,
 "nbformat_minor": 2
}
