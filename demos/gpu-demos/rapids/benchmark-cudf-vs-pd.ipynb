{
 "cells": [
  {
   "cell_type": "markdown",
   "metadata": {},
   "source": [
    "# Benchmark Pandas vs Cudf\n",
    "- Using *timeit*"
   ]
  },
  {
   "cell_type": "markdown",
   "metadata": {},
   "source": [
    "### System details"
   ]
  },
  {
   "cell_type": "markdown",
   "metadata": {},
   "source": [
    "#### GPU"
   ]
  },
  {
   "cell_type": "code",
   "execution_count": 31,
   "metadata": {},
   "outputs": [
    {
     "name": "stdout",
     "output_type": "stream",
     "text": [
      "\n",
      "==============NVSMI LOG==============\n",
      "\n",
      "Timestamp                           : Thu Jul  4 06:05:46 2019\n",
      "Driver Version                      : 418.56\n",
      "CUDA Version                        : 10.1\n",
      "\n",
      "Attached GPUs                       : 1\n",
      "GPU 00000000:0B:00.0\n",
      "    Product Name                    : Tesla V100-SXM2-32GB\n",
      "    Product Brand                   : Tesla\n",
      "    Display Mode                    : Enabled\n",
      "    Display Active                  : Disabled\n",
      "    Persistence Mode                : Disabled\n",
      "    Accounting Mode                 : Disabled\n",
      "    Accounting Mode Buffer Size     : 4000\n",
      "    Driver Model\n",
      "        Current                     : N/A\n",
      "        Pending                     : N/A\n",
      "    Serial Number                   : 0321018116769\n",
      "    GPU UUID                        : GPU-a2891a13-c0c9-5148-3cfd-b103c41a059b\n",
      "    Minor Number                    : 3\n",
      "    VBIOS Version                   : 88.00.80.00.04\n",
      "    MultiGPU Board                  : No\n",
      "    Board ID                        : 0xb00\n",
      "    GPU Part Number                 : 692-2G503-0204-000\n",
      "    Inforom Version\n",
      "        Image Version               : G503.0204.00.02\n",
      "        OEM Object                  : 1.1\n",
      "        ECC Object                  : 5.0\n",
      "        Power Management Object     : N/A\n",
      "    GPU Operation Mode\n",
      "        Current                     : N/A\n",
      "        Pending                     : N/A\n",
      "    GPU Virtualization Mode\n",
      "        Virtualization mode         : None\n",
      "    IBMNPU\n",
      "        Relaxed Ordering Mode       : N/A\n",
      "    PCI\n",
      "        Bus                         : 0x0B\n",
      "        Device                      : 0x00\n",
      "        Domain                      : 0x0000\n",
      "        Device Id                   : 0x1DB510DE\n",
      "        Bus Id                      : 00000000:0B:00.0\n",
      "        Sub System Id               : 0x124910DE\n",
      "        GPU Link Info\n",
      "            PCIe Generation\n",
      "                Max                 : 3\n",
      "                Current             : 3\n",
      "            Link Width\n",
      "                Max                 : 16x\n",
      "                Current             : 16x\n",
      "        Bridge Chip\n",
      "            Type                    : N/A\n",
      "            Firmware                : N/A\n",
      "        Replays Since Reset         : 0\n",
      "        Replay Number Rollovers     : 0\n",
      "        Tx Throughput               : 0 KB/s\n",
      "        Rx Throughput               : 0 KB/s\n",
      "    Fan Speed                       : N/A\n",
      "    Performance State               : P0\n",
      "    Clocks Throttle Reasons\n",
      "        Idle                        : Not Active\n",
      "        Applications Clocks Setting : Not Active\n",
      "        SW Power Cap                : Not Active\n",
      "        HW Slowdown                 : Not Active\n",
      "            HW Thermal Slowdown     : Not Active\n",
      "            HW Power Brake Slowdown : Not Active\n",
      "        Sync Boost                  : Not Active\n",
      "        SW Thermal Slowdown         : Not Active\n",
      "        Display Clock Setting       : Not Active\n",
      "    FB Memory Usage\n",
      "        Total                       : 32480 MiB\n",
      "        Used                        : 10696 MiB\n",
      "        Free                        : 21784 MiB\n",
      "    BAR1 Memory Usage\n",
      "        Total                       : 32768 MiB\n",
      "        Used                        : 8 MiB\n",
      "        Free                        : 32760 MiB\n",
      "    Compute Mode                    : Default\n",
      "    Utilization\n",
      "        Gpu                         : 0 %\n",
      "        Memory                      : 0 %\n",
      "        Encoder                     : 0 %\n",
      "        Decoder                     : 0 %\n",
      "    Encoder Stats\n",
      "        Active Sessions             : 0\n",
      "        Average FPS                 : 0\n",
      "        Average Latency             : 0\n",
      "    FBC Stats\n",
      "        Active Sessions             : 0\n",
      "        Average FPS                 : 0\n",
      "        Average Latency             : 0\n",
      "    Ecc Mode\n",
      "        Current                     : Enabled\n",
      "        Pending                     : Enabled\n",
      "    ECC Errors\n",
      "        Volatile\n",
      "            Single Bit            \n",
      "                Device Memory       : 0\n",
      "                Register File       : 0\n",
      "                L1 Cache            : 0\n",
      "                L2 Cache            : 0\n",
      "                Texture Memory      : N/A\n",
      "                Texture Shared      : N/A\n",
      "                CBU                 : N/A\n",
      "                Total               : 0\n",
      "            Double Bit            \n",
      "                Device Memory       : 0\n",
      "                Register File       : 0\n",
      "                L1 Cache            : 0\n",
      "                L2 Cache            : 0\n",
      "                Texture Memory      : N/A\n",
      "                Texture Shared      : N/A\n",
      "                CBU                 : 0\n",
      "                Total               : 0\n",
      "        Aggregate\n",
      "            Single Bit            \n",
      "                Device Memory       : 0\n",
      "                Register File       : 0\n",
      "                L1 Cache            : 0\n",
      "                L2 Cache            : 0\n",
      "                Texture Memory      : N/A\n",
      "                Texture Shared      : N/A\n",
      "                CBU                 : N/A\n",
      "                Total               : 0\n",
      "            Double Bit            \n",
      "                Device Memory       : 0\n",
      "                Register File       : 0\n",
      "                L1 Cache            : 0\n",
      "                L2 Cache            : 0\n",
      "                Texture Memory      : N/A\n",
      "                Texture Shared      : N/A\n",
      "                CBU                 : 0\n",
      "                Total               : 0\n",
      "    Retired Pages\n",
      "        Single Bit ECC              : 0\n",
      "        Double Bit ECC              : 0\n",
      "        Pending                     : No\n",
      "    Temperature\n",
      "        GPU Current Temp            : 30 C\n",
      "        GPU Shutdown Temp           : 90 C\n",
      "        GPU Slowdown Temp           : 87 C\n",
      "        GPU Max Operating Temp      : 83 C\n",
      "        Memory Current Temp         : 28 C\n",
      "        Memory Max Operating Temp   : 85 C\n",
      "    Power Readings\n",
      "        Power Management            : Supported\n",
      "        Power Draw                  : 56.10 W\n",
      "        Power Limit                 : 300.00 W\n",
      "        Default Power Limit         : 300.00 W\n",
      "        Enforced Power Limit        : 300.00 W\n",
      "        Min Power Limit             : 150.00 W\n",
      "        Max Power Limit             : 300.00 W\n",
      "    Clocks\n",
      "        Graphics                    : 1290 MHz\n",
      "        SM                          : 1290 MHz\n",
      "        Memory                      : 877 MHz\n",
      "        Video                       : 1162 MHz\n",
      "    Applications Clocks\n",
      "        Graphics                    : 1290 MHz\n",
      "        Memory                      : 877 MHz\n",
      "    Default Applications Clocks\n",
      "        Graphics                    : 1290 MHz\n",
      "        Memory                      : 877 MHz\n",
      "    Max Clocks\n",
      "        Graphics                    : 1530 MHz\n",
      "        SM                          : 1530 MHz\n",
      "        Memory                      : 877 MHz\n",
      "        Video                       : 1372 MHz\n",
      "    Max Customer Boost Clocks\n",
      "        Graphics                    : 1530 MHz\n",
      "    Clock Policy\n",
      "        Auto Boost                  : N/A\n",
      "        Auto Boost Default          : N/A\n",
      "    Processes\n",
      "\n"
     ]
    }
   ],
   "source": [
    "!nvidia-smi -q"
   ]
  },
  {
   "cell_type": "markdown",
   "metadata": {},
   "source": [
    "#### CPU"
   ]
  },
  {
   "cell_type": "code",
   "execution_count": 32,
   "metadata": {},
   "outputs": [
    {
     "name": "stdout",
     "output_type": "stream",
     "text": [
      "processor       : 0\n",
      "vendor_id       : GenuineIntel\n",
      "cpu family      : 6\n",
      "model           : 79\n",
      "model name      : Intel(R) Xeon(R) CPU E5-2698 v4 @ 2.20GHz\n",
      "stepping        : 1\n",
      "microcode       : 0xb00002e\n",
      "cpu MHz         : 2909.843\n",
      "cache size      : 51200 KB\n",
      "physical id     : 0\n",
      "siblings        : 40\n",
      "core id         : 0\n",
      "cpu cores       : 20\n",
      "apicid          : 0\n",
      "initial apicid  : 0\n",
      "fpu             : yes\n",
      "fpu_exception   : yes\n",
      "cpuid level     : 20\n",
      "wp              : yes\n",
      "\u001b[K:\u001b[K"
     ]
    }
   ],
   "source": [
    "!less /proc/cpuinfo"
   ]
  },
  {
   "cell_type": "markdown",
   "metadata": {},
   "source": [
    "## Preperations\n",
    "- Imports\n",
    "- Variables"
   ]
  },
  {
   "cell_type": "code",
   "execution_count": 3,
   "metadata": {},
   "outputs": [],
   "source": [
    "import os"
   ]
  },
  {
   "cell_type": "code",
   "execution_count": 4,
   "metadata": {},
   "outputs": [],
   "source": [
    "import cudf\n",
    "import pandas as pd"
   ]
  },
  {
   "cell_type": "code",
   "execution_count": 5,
   "metadata": {},
   "outputs": [],
   "source": [
    "# Source files\n",
    "raw_parquet_file = 'logs_sample/haproxy_logs_10k.parquet'\n",
    "raw_json_file = 'logs_sample/haproxy_json_logs_raw_original.txt'\n",
    "\n",
    "# Benchmark configuration\n",
    "nlargest = 300"
   ]
  },
  {
   "cell_type": "markdown",
   "metadata": {},
   "source": [
    "## Target file size validation\n",
    "Set target size (in MB) for the test file"
   ]
  },
  {
   "cell_type": "code",
   "execution_count": 6,
   "metadata": {},
   "outputs": [],
   "source": [
    "# Source to be used\n",
    "source_file = raw_json_file \n",
    "\n",
    "# Target file for multiplication\n",
    "target_file = 'logs_sample/1gb.file' "
   ]
  },
  {
   "cell_type": "code",
   "execution_count": 7,
   "metadata": {},
   "outputs": [],
   "source": [
    "target_test_size_in_mb = 1000"
   ]
  },
  {
   "cell_type": "code",
   "execution_count": 8,
   "metadata": {},
   "outputs": [
    {
     "name": "stdout",
     "output_type": "stream",
     "text": [
      "Multiply target file by 200\n"
     ]
    }
   ],
   "source": [
    "multiplication_factor = target_test_size_in_mb // (os.path.getsize(source_file) >> 20)\n",
    "print(f'Multiply target file by {multiplication_factor}')"
   ]
  },
  {
   "cell_type": "code",
   "execution_count": null,
   "metadata": {},
   "outputs": [],
   "source": [
    "with open(source_file, 'r') as source:\n",
    "    with open(target_file, 'w') as target:\n",
    "        [target.write(line) \n",
    "         for line in source.readlines() \n",
    "         for m in range(multiplication_factor)]"
   ]
  },
  {
   "cell_type": "code",
   "execution_count": null,
   "metadata": {},
   "outputs": [],
   "source": [
    "!ls -lah logs_sample/"
   ]
  },
  {
   "cell_type": "markdown",
   "metadata": {},
   "source": [
    "## Benchmark\n",
    "\n",
    "### Flow\n",
    "- Read file\n",
    "- Compute aggregations\n",
    "- get nlargest()"
   ]
  },
  {
   "cell_type": "code",
   "execution_count": 9,
   "metadata": {},
   "outputs": [],
   "source": [
    "benchmark_file = target_file"
   ]
  },
  {
   "cell_type": "markdown",
   "metadata": {},
   "source": [
    "#### cuDF"
   ]
  },
  {
   "cell_type": "code",
   "execution_count": 10,
   "metadata": {},
   "outputs": [
    {
     "name": "stdout",
     "output_type": "stream",
     "text": [
      "1.36 s ± 16.7 ms per loop (mean ± std. dev. of 7 runs, 1 loop each)\n"
     ]
    }
   ],
   "source": [
    "%%timeit\n",
    "\n",
    "# Read file\n",
    "# gdf = cudf.read_parquet(benchmark_file)\n",
    "gdf = cudf.read_json(benchmark_file, lines=True)\n",
    "\n",
    "# Perform aggregation\n",
    "gdf.groupby(['log_ip']).agg({'feconn':'mean',\n",
    "                                'beconn':'mean',\n",
    "                                'time_backend_response':'max',\n",
    "                                'time_backend_response':'mean',\n",
    "                                'time_queue':'mean',\n",
    "                                'time_duration': 'mean',\n",
    "                                'time_request': 'mean',\n",
    "                                'time_backend_connect':'mean'\n",
    "                               })\n",
    "\n",
    "# Select top N\n",
    "nlarge = gdf.nlargest(nlargest, 'time_backend_response')"
   ]
  },
  {
   "cell_type": "markdown",
   "metadata": {},
   "source": [
    "#### Pandas"
   ]
  },
  {
   "cell_type": "code",
   "execution_count": 11,
   "metadata": {},
   "outputs": [
    {
     "name": "stdout",
     "output_type": "stream",
     "text": [
      "14.2 s ± 97.6 ms per loop (mean ± std. dev. of 7 runs, 1 loop each)\n"
     ]
    }
   ],
   "source": [
    "%%timeit\n",
    "\n",
    "# Read file\n",
    "# gdf = pd.read_parquet(benchmark_file)\n",
    "gdf = pd.read_json(benchmark_file, lines=True)\n",
    "\n",
    "# Perform aggregation\n",
    "gdf.groupby(['log_ip']).agg({'feconn':'mean',\n",
    "                                'beconn':'mean',\n",
    "                                'time_backend_response':'max',\n",
    "                                'time_backend_response':'mean',\n",
    "                                'time_queue':'mean',\n",
    "                                'time_duration': 'mean',\n",
    "                                'time_request': 'mean',\n",
    "                                'time_backend_connect':'mean'\n",
    "                               })\n",
    "\n",
    "# Select top N\n",
    "nlarge = gdf.nlargest(nlargest, 'time_backend_response')"
   ]
  },
  {
   "cell_type": "markdown",
   "metadata": {},
   "source": [
    "## Test loading times"
   ]
  },
  {
   "cell_type": "markdown",
   "metadata": {},
   "source": [
    "#### cudf"
   ]
  },
  {
   "cell_type": "code",
   "execution_count": 12,
   "metadata": {},
   "outputs": [
    {
     "name": "stdout",
     "output_type": "stream",
     "text": [
      "1.12 s ± 8.68 ms per loop (mean ± std. dev. of 7 runs, 1 loop each)\n"
     ]
    }
   ],
   "source": [
    "%%timeit\n",
    "# gdf = cudf.read_parquet(benchmark_file)\n",
    "gdf = cudf.read_json(benchmark_file, lines=True)"
   ]
  },
  {
   "cell_type": "markdown",
   "metadata": {},
   "source": [
    "#### Pandas"
   ]
  },
  {
   "cell_type": "code",
   "execution_count": 13,
   "metadata": {},
   "outputs": [
    {
     "name": "stdout",
     "output_type": "stream",
     "text": [
      "14 s ± 1.22 s per loop (mean ± std. dev. of 7 runs, 1 loop each)\n"
     ]
    }
   ],
   "source": [
    "%%timeit\n",
    "# gdf = pd.read_parquet(benchmark_file)\n",
    "gdf = pd.read_json(benchmark_file, lines=True)"
   ]
  },
  {
   "cell_type": "markdown",
   "metadata": {},
   "source": [
    "## Test aggregation"
   ]
  },
  {
   "cell_type": "code",
   "execution_count": 14,
   "metadata": {},
   "outputs": [],
   "source": [
    "# gdf = cudf.read_parquet(benchmark_file)\n",
    "gdf = cudf.read_json(benchmark_file, lines=True)\n",
    "\n",
    "# pdf = pd.read_parquet(benchmark_file)\n",
    "pdf = pd.read_json(benchmark_file, lines=True)"
   ]
  },
  {
   "cell_type": "markdown",
   "metadata": {},
   "source": [
    "#### cudf"
   ]
  },
  {
   "cell_type": "code",
   "execution_count": 15,
   "metadata": {},
   "outputs": [
    {
     "name": "stdout",
     "output_type": "stream",
     "text": [
      "211 ms ± 13.7 ms per loop (mean ± std. dev. of 7 runs, 1 loop each)\n"
     ]
    }
   ],
   "source": [
    "%%timeit\n",
    "gdf.groupby(['log_ip']).agg({'feconn':'mean',\n",
    "                                'beconn':'mean',\n",
    "                                'time_backend_response':'max',\n",
    "                                'time_backend_response':'mean',\n",
    "                                'time_queue':'mean',\n",
    "                                'time_duration': 'mean',\n",
    "                                'time_request': 'mean',\n",
    "                                'time_backend_connect':'mean'\n",
    "                               })\n",
    "nlarge = gdf.nlargest(nlargest, 'time_backend_response')"
   ]
  },
  {
   "cell_type": "markdown",
   "metadata": {},
   "source": [
    "#### Pandas"
   ]
  },
  {
   "cell_type": "code",
   "execution_count": 16,
   "metadata": {},
   "outputs": [
    {
     "name": "stdout",
     "output_type": "stream",
     "text": [
      "789 ms ± 44.5 ms per loop (mean ± std. dev. of 7 runs, 1 loop each)\n"
     ]
    }
   ],
   "source": [
    "%%timeit\n",
    "pdf.groupby(['log_ip']).agg({'feconn':'mean',\n",
    "                                'beconn':'mean',\n",
    "                                'time_backend_response':'max',\n",
    "                                'time_backend_response':'mean',\n",
    "                                'time_queue':'mean',\n",
    "                                'time_duration': 'mean',\n",
    "                                'time_request': 'mean',\n",
    "                                'time_backend_connect':'mean'\n",
    "                               })\n",
    "nlarge = pdf.nlargest(nlargest, 'time_backend_response')"
   ]
  },
  {
   "cell_type": "code",
   "execution_count": null,
   "metadata": {},
   "outputs": [],
   "source": []
  }
 ],
 "metadata": {
  "kernelspec": {
   "display_name": "Python 3",
   "language": "python",
   "name": "python3"
  },
  "language_info": {
   "codemirror_mode": {
    "name": "ipython",
    "version": 3
   },
   "file_extension": ".py",
   "mimetype": "text/x-python",
   "name": "python",
   "nbconvert_exporter": "python",
   "pygments_lexer": "ipython3",
   "version": "3.6.8"
  }
 },
 "nbformat": 4,
 "nbformat_minor": 2
}
