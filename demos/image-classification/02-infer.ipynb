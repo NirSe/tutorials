{
 "cells": [
  {
   "cell_type": "markdown",
   "metadata": {},
   "source": [
    "# Create and Test a Model-Serving Nuclio Function\n",
    "\n",
    "This notebook demonstrates how to write an inference server, test it, and turn it into an auto-scaling Nuclio serverless function.\n",
    "\n",
    "- [Initialize Nuclio Emulation, Environment Variables, and Configuration](#image-class-infer-init-func)\n",
    "- [Create and Load the Model and Set Up the Function Handler](#image-class-infer-create-n-load-model-n-set-up-func-handler)\n",
    "- [Trigger the Function](#image-class-infer-func-trigger)\n",
    "- [Prepare to Deploy the Function](#image-class-infer-func-deploy-prepare)\n",
    "- [Deploy the Function](#image-class-infer-func-deploy)\n",
    "- [Test the Function](#image-class-infer-func-test)"
   ]
  },
  {
   "cell_type": "markdown",
   "metadata": {},
   "source": [
    "<a id=\"image-class-infer-init-func\"></a>\n",
    "## Initialize Nuclio Emulation, Environment Variables, and Configuration\n",
    "\n",
    "> **Note:** Use `# nuclio: ignore` for sections that dont need to be copied to the function."
   ]
  },
  {
   "cell_type": "code",
   "execution_count": 1,
   "metadata": {},
   "outputs": [],
   "source": [
    "# nuclio: ignore\n",
    "import nuclio\n",
    "import random\n",
    "import matplotlib.pyplot as plt"
   ]
  },
  {
   "cell_type": "code",
   "execution_count": 2,
   "metadata": {},
   "outputs": [
    {
     "name": "stdout",
     "output_type": "stream",
     "text": [
      "%nuclio: setting 'IMAGE_WIDTH' environment variable\n",
      "%nuclio: setting 'IMAGE_HEIGHT' environment variable\n",
      "%nuclio: setting 'version' environment variable\n"
     ]
    }
   ],
   "source": [
    "%%nuclio env\n",
    "IMAGE_WIDTH = 128\n",
    "IMAGE_HEIGHT = 128\n",
    "version = 1.0"
   ]
  },
  {
   "cell_type": "code",
   "execution_count": 22,
   "metadata": {},
   "outputs": [
    {
     "name": "stdout",
     "output_type": "stream",
     "text": [
      "%nuclio: setting 'MODEL_PATH' environment variable\n",
      "%nuclio: setting 'MODEL_FILE' environment variable\n",
      "%nuclio: setting 'CLASSES_MAP' environment variable\n"
     ]
    }
   ],
   "source": [
    "# DB Config\n",
    "%nuclio env %v3io\n",
    "\n",
    "# Function Config\n",
    "%nuclio env -c MODEL_PATH=/model/\n",
    "%nuclio env -l MODEL_PATH=./model/\n",
    "\n",
    "%nuclio env MODEL_FILE = cats_dogs.hd5\n",
    "%nuclio env CLASSES_MAP = prediction_classes_map.json"
   ]
  },
  {
   "cell_type": "code",
   "execution_count": 4,
   "metadata": {},
   "outputs": [],
   "source": [
    "%%nuclio cmd -c\n",
    "pip install git+https://github.com/fchollet/keras\n",
    "pip install tensorflow \n",
    "pip install numpy\n",
    "pip install requests\n",
    "pip install pillow"
   ]
  },
  {
   "cell_type": "code",
   "execution_count": 5,
   "metadata": {},
   "outputs": [
    {
     "name": "stdout",
     "output_type": "stream",
     "text": [
      "%nuclio: setting spec.build.baseImage to 'python:3.6-jessie'\n"
     ]
    }
   ],
   "source": [
    "%%nuclio config \n",
    "spec.build.baseImage = \"python:3.6-jessie\""
   ]
  },
  {
   "cell_type": "code",
   "execution_count": 40,
   "metadata": {},
   "outputs": [
    {
     "name": "stdout",
     "output_type": "stream",
     "text": [
      "mounting volume path /model as ~/tutorials/demos/image-classification/model\n"
     ]
    }
   ],
   "source": [
    "%nuclio mount /model {os.path.join(os.getcwd().replace(\"/User\", \"~\"), 'model')}"
   ]
  },
  {
   "cell_type": "markdown",
   "metadata": {},
   "source": [
    "<a id=\"image-class-infer-create-n-load-model-n-set-up-func-handler\"></a>\n",
    "## Create and Load the Model and Set Up the Function Handler"
   ]
  },
  {
   "cell_type": "code",
   "execution_count": 7,
   "metadata": {},
   "outputs": [
    {
     "name": "stderr",
     "output_type": "stream",
     "text": [
      "Using TensorFlow backend.\n"
     ]
    }
   ],
   "source": [
    "import numpy as np \n",
    "from tensorflow import keras\n",
    "from keras.models import load_model\n",
    "from keras.preprocessing import image\n",
    "from keras.preprocessing.image import load_img\n",
    "import json\n",
    "import requests\n",
    "\n",
    "import os\n",
    "from os import environ, path\n",
    "from tempfile import mktemp"
   ]
  },
  {
   "cell_type": "code",
   "execution_count": 23,
   "metadata": {},
   "outputs": [],
   "source": [
    "model_file = os.path.join(environ['MODEL_PATH'], environ['MODEL_FILE'])\n",
    "prediction_map_file = os.path.join(environ['MODEL_PATH'], environ['CLASSES_MAP'])\n",
    "\n",
    "# Set image parameters\n",
    "IMAGE_WIDTH = int(environ['IMAGE_WIDTH'])\n",
    "IMAGE_HEIGHT = int(environ['IMAGE_HEIGHT'])\n",
    "\n",
    "# load model\n",
    "def init_context(context): \n",
    "    context.model = load_model(model_file)\n",
    "    with open(prediction_map_file, 'r') as f:\n",
    "        context.prediction_map = json.load(f)"
   ]
  },
  {
   "cell_type": "code",
   "execution_count": 16,
   "metadata": {},
   "outputs": [],
   "source": [
    "def download_file(context, url, target_path):\n",
    "    with requests.get(url, stream=True) as response:\n",
    "        response.raise_for_status()\n",
    "        with open(target_path, 'wb') as f:\n",
    "            for chunk in response.iter_content(chunk_size=8192):\n",
    "                if chunk:\n",
    "                    f.write(chunk)\n",
    "\n",
    "    context.logger.info_with('Downloaded file',url=url)"
   ]
  },
  {
   "cell_type": "code",
   "execution_count": 17,
   "metadata": {},
   "outputs": [],
   "source": [
    "def handler(context, event):\n",
    "    tmp_file = mktemp()\n",
    "    image_url = event.body.decode('utf-8').strip()\n",
    "    download_file(context, image_url, tmp_file)\n",
    "    \n",
    "    img = load_img(tmp_file, target_size=(IMAGE_WIDTH, IMAGE_HEIGHT))\n",
    "    x = image.img_to_array(img)\n",
    "    x = np.expand_dims(x, axis=0)\n",
    "\n",
    "    images = np.vstack([x])\n",
    "    predicted_probability = context.model.predict_proba(images, batch_size=10)\n",
    "    predicted_class = list(zip(predicted_probability, map(lambda x: '1' if x >= 0.5 else '0', predicted_probability)))\n",
    "    actual_class = [(context.prediction_map[x[1]],x[0][0]) for x in predicted_class]   \n",
    "    os.remove(tmp_file)\n",
    "    result = {'class':actual_class[0][0], 'dog-probability':float(actual_class[0][1])}\n",
    "    return json.dumps(result)"
   ]
  },
  {
   "cell_type": "markdown",
   "metadata": {},
   "source": [
    "<a id=\"image-class-infer-func-trigger\"></a>\n",
    "## Trigger the Function"
   ]
  },
  {
   "cell_type": "code",
   "execution_count": 24,
   "metadata": {},
   "outputs": [],
   "source": [
    "# nuclio: ignore\n",
    "init_context(context)"
   ]
  },
  {
   "cell_type": "code",
   "execution_count": 19,
   "metadata": {},
   "outputs": [
    {
     "name": "stdout",
     "output_type": "stream",
     "text": [
      "Python> 2019-09-15 08:58:54,936 [info] Downloaded file: {'url': 'https://s3.amazonaws.com/iguazio-sample-data/images/catanddog/dog.284.jpg'}\n",
      "{\"class\": \"dog\", \"dog-probability\": 1.0}\n"
     ]
    },
    {
     "data": {
      "image/png": "[encoded data removed]",
      "text/plain": [
       "<Figure size 432x288 with 1 Axes>"
      ]
     },
     "metadata": {
      "needs_background": "light"
     },
     "output_type": "display_data"
    }
   ],
   "source": [
    "# nuclio: ignore\n",
    "# Select a sample for the test.\n",
    "# Set both the local path for the test and the URL for downloading the sample from AWS S3.\n",
    "DATA_LOCATION = \"./cats_and_dogs_filtered/\"\n",
    "sample = random.choice(os.listdir(DATA_LOCATION+\"/cats_n_dogs\"))\n",
    "image_local = DATA_LOCATION + \"cats_n_dogs/\"+sample # Temporary location for downloading the file \n",
    "image_url = 'https://s3.amazonaws.com/iguazio-sample-data/images/catanddog/' + sample \n",
    "\n",
    "# Show the image\n",
    "img = load_img(image_local, target_size=(IMAGE_WIDTH, IMAGE_HEIGHT))\n",
    "plt.imshow(img)\n",
    "\n",
    "event = nuclio.Event(body=bytes(image_url, 'utf-8'))\n",
    "output = handler(context, event)\n",
    "print(output)"
   ]
  },
  {
   "cell_type": "code",
   "execution_count": 13,
   "metadata": {
    "collapsed": true,
    "jupyter": {
     "outputs_hidden": true
    }
   },
   "outputs": [
    {
     "name": "stdout",
     "output_type": "stream",
     "text": [
      "%nuclio: notebook 02-infer exported\n",
      "Config:\n",
      "apiVersion: nuclio.io/v1\n",
      "kind: Function\n",
      "metadata:\n",
      "  annotations:\n",
      "    nuclio.io/generated_by: function generated at 15-09-2019 by iguazio from /User/tutorials/demos/image-classification/02-infer.ipynb\n",
      "  labels: {}\n",
      "  name: 02-infer\n",
      "spec:\n",
      "  build:\n",
      "    baseImage: python:3.6-jessie\n",
      "    commands:\n",
      "    - pip install git+https://github.com/fchollet/keras\n",
      "    - pip install tensorflow\n",
      "    - pip install numpy\n",
      "    - pip install requests\n",
      "    - pip install pillow\n",
      "    functionSourceCode: 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\n",
      "    noBaseImagesPull: true\n",
      "  env:\n",
      "  - name: IMAGE_WIDTH\n",
      "    value: '128'\n",
      "  - name: IMAGE_HEIGHT\n",
      "    value: '128'\n",
      "  - name: version\n",
      "    value: '1.0'\n",
      "  - name: MODEL_PATH\n",
      "    value: /model/\n",
      "  handler: 02-infer:handler\n",
      "  runtime: python:3.6\n",
      "  volumes:\n",
      "  - volume:\n",
      "      flexVolume:\n",
      "        driver: v3io/fuse\n",
      "        options:\n",
      "          accessKey: bd182781-6b24-4899-b2b7-a84608931aeb\n",
      "          container: users\n",
      "          subPath: /iguazio/demos/image-classification/cats_dogs/model\n",
      "      name: fs\n",
      "    volumeMount:\n",
      "      mountPath: /model\n",
      "      name: fs\n",
      "\n",
      "Code:\n",
      "# Generated by nuclio.export.NuclioExporter on 2019-09-15 08:47\n",
      "\n",
      "import numpy as np \n",
      "from tensorflow import keras\n",
      "from keras.models import load_model\n",
      "from keras.preprocessing import image\n",
      "from keras.preprocessing.image import load_img\n",
      "import json\n",
      "import requests\n",
      "\n",
      "import os\n",
      "from os import environ, path\n",
      "from tempfile import mktemp\n",
      "\n",
      "model_file = environ['MODEL_PATH'] + 'cats_dogs.hd5'\n",
      "prediction_map_file = environ['MODEL_PATH'] + 'prediction_classes_map.json'\n",
      "\n",
      "IMAGE_WIDTH = int(environ['IMAGE_WIDTH'])\n",
      "IMAGE_HEIGHT = int(environ['IMAGE_HEIGHT'])\n",
      "\n",
      "def init_context(context): \n",
      "    context.model = load_model(model_file)\n",
      "    with open(prediction_map_file, 'r') as f:\n",
      "        context.prediction_map = json.load(f)\n",
      "\n",
      "def download_file(context, url, target_path):\n",
      "    with requests.get(url, stream=True) as response:\n",
      "        response.raise_for_status()\n",
      "        with open(target_path, 'wb') as f:\n",
      "            for chunk in response.iter_content(chunk_size=8192):\n",
      "                if chunk:\n",
      "                    f.write(chunk)\n",
      "\n",
      "    context.logger.info_with('Downloaded file',url=url)\n",
      "\n",
      "def handler(context, event):\n",
      "    tmp_file = mktemp()\n",
      "    image_url = event.body.decode('utf-8').strip()\n",
      "    download_file(context, image_url, tmp_file)\n",
      "    \n",
      "    img = load_img(tmp_file, target_size=(IMAGE_WIDTH, IMAGE_HEIGHT))\n",
      "    x = image.img_to_array(img)\n",
      "    x = np.expand_dims(x, axis=0)\n",
      "\n",
      "    images = np.vstack([x])\n",
      "    predicted_probability = context.model.predict_proba(images, batch_size=10)\n",
      "    predicted_class = list(zip(predicted_probability, map(lambda x: '1' if x >= 0.5 else '0', predicted_probability)))\n",
      "    actual_class = [(context.prediction_map[x[1]],x[0][0]) for x in predicted_class]   \n",
      "    os.remove(tmp_file)\n",
      "    result = {'class':actual_class[0][0], 'dog-probability':float(actual_class[0][1])}\n",
      "    return json.dumps(result)\n",
      "\n",
      "\n"
     ]
    }
   ],
   "source": [
    "%nuclio show"
   ]
  },
  {
   "cell_type": "markdown",
   "metadata": {},
   "source": [
    "<a id=\"image-class-infer-func-deploy-prepare\"></a>\n",
    "## Prepare to Deploy the Function\n",
    "\n",
    "Before you deploy the function, open a Jupyter terminal and run the following command:\n",
    "\n",
    "`pip install --upgrade nuclio-jupyter`"
   ]
  },
  {
   "cell_type": "markdown",
   "metadata": {},
   "source": [
    "<a id=\"image-class-infer-func-deploy\"></a>\n",
    "## Deploy the Function\n",
    "\n",
    "Run the following command to deploy the function:"
   ]
  },
  {
   "cell_type": "code",
   "execution_count": 32,
   "metadata": {},
   "outputs": [
    {
     "name": "stdout",
     "output_type": "stream",
     "text": [
      "[nuclio.deploy] 2019-09-15 09:36:32,111 (info) Building processor image\n",
      "[nuclio.deploy] 2019-09-15 09:36:39,219 (info) Pushing image\n",
      "[nuclio.deploy] 2019-09-15 09:36:39,220 (info) Build complete\n",
      "[nuclio.deploy] 2019-09-15 09:36:49,389 (info) Function deploy complete\n",
      "[nuclio.deploy] 2019-09-15 09:36:49,398 done updating cats-dogs, function address: 18.219.68.129:32141\n",
      "%nuclio: function deployed\n"
     ]
    }
   ],
   "source": [
    "%nuclio deploy -n cats-dogs -p ai -c"
   ]
  },
  {
   "cell_type": "markdown",
   "metadata": {},
   "source": [
    "<a id=\"image-class-infer-func-test\"></a>\n",
    "## Test the Function"
   ]
  },
  {
   "cell_type": "code",
   "execution_count": 36,
   "metadata": {},
   "outputs": [
    {
     "name": "stdout",
     "output_type": "stream",
     "text": [
      "{\"class\": \"cat\", \"dog-probability\": 0.0}"
     ]
    }
   ],
   "source": [
    "# Run a test with the new function. Replace the \"function URL:port\" with the actual URL and port number.\n",
    "# To get the function's URL, in the platform dashboard navigate to the function page -\n",
    "# Functions> ai > cats-dogs - and select the Status tab.\n",
    "!curl -X POST -d \"https://s3.amazonaws.com/iguazio-sample-data/images/catanddog/cat.123.jpg\" <function URL:port> "
   ]
  },
  {
   "cell_type": "code",
   "execution_count": null,
   "metadata": {},
   "outputs": [],
   "source": []
  }
 ],
 "metadata": {
  "kernelspec": {
   "display_name": "Python 3",
   "language": "python",
   "name": "python3"
  },
  "language_info": {
   "codemirror_mode": {
    "name": "ipython",
    "version": 3
   },
   "file_extension": ".py",
   "mimetype": "text/x-python",
   "name": "python",
   "nbconvert_exporter": "python",
   "pygments_lexer": "ipython3",
   "version": "3.6.8"
  }
 },
 "nbformat": 4,
 "nbformat_minor": 4
}
