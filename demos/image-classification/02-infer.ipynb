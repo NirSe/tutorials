{
 "cells": [
  {
   "cell_type": "markdown",
   "metadata": {},
   "source": [
    "# Create and Test a Model-Serving Nuclio Function\n",
    "\n",
    "This notebook demonstrates how to write an inference server, test it, and turn it into an auto-scaling Nuclio serverless function.\n",
    "\n",
    "- [Initialize Nuclio Emulation, Environment Variables, and Configuration](#image-class-infer-init-func)\n",
    "- [Create and Load the Model and Set Up the Function Handler](#image-class-infer-create-n-load-model-n-set-up-func-handler)\n",
    "- [Trigger the Function](#image-class-infer-func-trigger)\n",
    "- [Prepare to Deploy the Function](#image-class-infer-func-deploy-prepare)\n",
    "- [Deploy the Function](#image-class-infer-func-deploy)\n",
    "- [Test the Function](#image-class-infer-func-test)"
   ]
  },
  {
   "cell_type": "markdown",
   "metadata": {},
   "source": [
    "<a id=\"image-class-infer-init-func\"></a>\n",
    "## Initialize Nuclio Emulation, Environment Variables, and Configuration\n",
    "\n",
    "> **Note:** Use `# nuclio: ignore` for sections that don't need to be copied to the function."
   ]
  },
  {
   "cell_type": "code",
   "execution_count": 1,
   "metadata": {},
   "outputs": [],
   "source": [
    "# nuclio: ignore\n",
    "import nuclio\n",
    "import random\n",
    "import matplotlib.pyplot as plt"
   ]
  },
  {
   "cell_type": "code",
   "execution_count": 12,
   "metadata": {},
   "outputs": [
    {
     "name": "stdout",
     "output_type": "stream",
     "text": [
      "%nuclio: setting 'IMAGE_WIDTH' environment variable\n",
      "%nuclio: setting 'IMAGE_HEIGHT' environment variable\n",
      "%nuclio: setting 'version' environment variable\n"
     ]
    }
   ],
   "source": [
    "%%nuclio env\n",
    "IMAGE_WIDTH = 128\n",
    "IMAGE_HEIGHT = 128\n",
    "version = 1.0"
   ]
  },
  {
   "cell_type": "code",
   "execution_count": 13,
   "metadata": {},
   "outputs": [
    {
     "name": "stdout",
     "output_type": "stream",
     "text": [
      "%nuclio: setting 'MODEL_PATH' environment variable\n"
     ]
    }
   ],
   "source": [
    "%nuclio env -c MODEL_PATH=/model/\n",
    "%nuclio env -l MODEL_PATH=./model/"
   ]
  },
  {
   "cell_type": "code",
   "execution_count": 14,
   "metadata": {},
   "outputs": [],
   "source": [
    "%%nuclio cmd -c\n",
    "pip install git+https://github.com/fchollet/keras\n",
    "pip install tensorflow \n",
    "pip install numpy\n",
    "pip install requests\n",
    "pip install pillow"
   ]
  },
  {
   "cell_type": "code",
   "execution_count": 15,
   "metadata": {},
   "outputs": [
    {
     "name": "stdout",
     "output_type": "stream",
     "text": [
      "%nuclio: setting spec.build.baseImage to 'python:3.6-jessie'\n"
     ]
    }
   ],
   "source": [
    "%%nuclio config \n",
    "spec.build.baseImage = \"python:3.6-jessie\""
   ]
  },
  {
   "cell_type": "code",
   "execution_count": 16,
   "metadata": {},
   "outputs": [
    {
     "name": "stdout",
     "output_type": "stream",
     "text": [
      "mounting volume path /model as ~/image-classification/cats_dogs/model\n"
     ]
    }
   ],
   "source": [
    "%nuclio mount /model ~/image-classification/cats_dogs/model"
   ]
  },
  {
   "cell_type": "markdown",
   "metadata": {},
   "source": [
    "<a id=\"image-class-infer-create-n-load-model-n-set-up-func-handler\"></a>\n",
    "## Create and Load the Model and Set Up the Function Handler"
   ]
  },
  {
   "cell_type": "code",
   "execution_count": 17,
   "metadata": {},
   "outputs": [],
   "source": [
    "import numpy as np \n",
    "from tensorflow import keras\n",
    "from keras.models import load_model\n",
    "from keras.preprocessing import image\n",
    "from keras.preprocessing.image import load_img\n",
    "import json\n",
    "import requests\n",
    "\n",
    "import os\n",
    "from os import environ, path\n",
    "from tempfile import mktemp"
   ]
  },
  {
   "cell_type": "code",
   "execution_count": 18,
   "metadata": {},
   "outputs": [],
   "source": [
    "model_file = environ['MODEL_PATH'] + 'cats_dogs.hd5'\n",
    "prediction_map_file = environ['MODEL_PATH'] + 'prediction_classes_map.json'\n",
    "\n",
    "# Set image parameters\n",
    "IMAGE_WIDTH = int(environ['IMAGE_WIDTH'])\n",
    "IMAGE_HEIGHT = int(environ['IMAGE_HEIGHT'])\n",
    "\n",
    "# load model\n",
    "def init_context(context): \n",
    "    context.model = load_model(model_file)\n",
    "    with open(prediction_map_file, 'r') as f:\n",
    "        context.prediction_map = json.load(f)"
   ]
  },
  {
   "cell_type": "code",
   "execution_count": 19,
   "metadata": {},
   "outputs": [],
   "source": [
    "def download_file(context, url, target_path):\n",
    "    with requests.get(url, stream=True) as response:\n",
    "        response.raise_for_status()\n",
    "        with open(target_path, 'wb') as f:\n",
    "            for chunk in response.iter_content(chunk_size=8192):\n",
    "                if chunk:\n",
    "                    f.write(chunk)\n",
    "\n",
    "    context.logger.info_with('Downloaded file',url=url)"
   ]
  },
  {
   "cell_type": "code",
   "execution_count": 20,
   "metadata": {},
   "outputs": [],
   "source": [
    "def handler(context, event):\n",
    "    tmp_file = mktemp()\n",
    "    image_url = event.body.decode('utf-8').strip()\n",
    "    download_file(context, image_url, tmp_file)\n",
    "    \n",
    "    img = load_img(tmp_file, target_size=(IMAGE_WIDTH, IMAGE_HEIGHT))\n",
    "    x = image.img_to_array(img)\n",
    "    x = np.expand_dims(x, axis=0)\n",
    "\n",
    "    images = np.vstack([x])\n",
    "    predicted_probability = context.model.predict_proba(images, batch_size=10)\n",
    "    predicted_class = list(zip(predicted_probability, map(lambda x: '1' if x >= 0.5 else '0', predicted_probability)))\n",
    "    actual_class = [(context.prediction_map[x[1]],x[0][0]) for x in predicted_class]   \n",
    "    os.remove(tmp_file)\n",
    "    result = {'class':actual_class[0][0], 'dog-probability':float(actual_class[0][1])}\n",
    "    return json.dumps(result)"
   ]
  },
  {
   "cell_type": "markdown",
   "metadata": {},
   "source": [
    "<a id=\"image-class-infer-func-trigger\"></a>\n",
    "## Trigger the Function"
   ]
  },
  {
   "cell_type": "code",
   "execution_count": 21,
   "metadata": {},
   "outputs": [],
   "source": [
    "# nuclio: ignore\n",
    "init_context(context)"
   ]
  },
  {
   "cell_type": "code",
   "execution_count": 22,
   "metadata": {},
   "outputs": [
    {
     "name": "stdout",
     "output_type": "stream",
     "text": [
      "Python> 2019-03-25 11:50:51,168 [info] Downloaded file: {'url': 'https://s3.amazonaws.com/iguazio-sample-data/images/catanddog/dog.241.jpg'}\n",
      "{\"class\": \"dog\", \"dog-probability\": 1.0}\n"
     ]
    },
    {
     "data": {
      "image/png": "[encoded data removed]",
      "text/plain": [
       "<Figure size 432x288 with 1 Axes>"
      ]
     },
     "metadata": {
      "needs_background": "light"
     },
     "output_type": "display_data"
    }
   ],
   "source": [
    "# nuclio: ignore\n",
    "# Select a sample for the test.\n",
    "# Set both the local path for the test and the URL for downloading the sample from AWS S3.\n",
    "DATA_LOCATION = \"./cats_and_dogs_filtered/\"\n",
    "sample = random.choice(os.listdir(DATA_LOCATION+\"/cats_n_dogs\"))\n",
    "image_local = DATA_LOCATION + \"cats_n_dogs/\"+sample # Temporary location for downloading the file \n",
    "image_url = 'https://s3.amazonaws.com/iguazio-sample-data/images/catanddog/' + sample \n",
    "\n",
    "# Show the image\n",
    "img = load_img(image_local, target_size=(IMAGE_WIDTH, IMAGE_HEIGHT))\n",
    "plt.imshow(img)\n",
    "\n",
    "event = nuclio.Event(body=bytes(image_url, 'utf-8'))\n",
    "output = handler(context, event)\n",
    "print(output)"
   ]
  },
  {
   "cell_type": "code",
   "execution_count": 24,
   "metadata": {},
   "outputs": [
    {
     "name": "stdout",
     "output_type": "stream",
     "text": [
      "%nuclio: notebook exported to /tmp/tmpzj2aeznv/infer.yaml\n",
      "Code:\n",
      "# Generated by nuclio.export.NuclioExporter on 2019-03-25 11:51\n",
      "\n",
      "import numpy as np \n",
      "from tensorflow import keras\n",
      "from keras.models import load_model\n",
      "from keras.preprocessing import image\n",
      "from keras.preprocessing.image import load_img\n",
      "import json\n",
      "import requests\n",
      "\n",
      "import os\n",
      "from os import environ, path\n",
      "from tempfile import mktemp\n",
      "\n",
      "model_file = environ['MODEL_PATH'] + 'cats_dogs.hd5'\n",
      "prediction_map_file = environ['MODEL_PATH'] + 'prediction_classes_map.json'\n",
      "\n",
      "IMAGE_WIDTH = int(environ['IMAGE_WIDTH'])\n",
      "IMAGE_HEIGHT = int(environ['IMAGE_HEIGHT'])\n",
      "\n",
      "def init_context(context): \n",
      "    context.model = load_model(model_file)\n",
      "    with open(prediction_map_file, 'r') as f:\n",
      "        context.prediction_map = json.load(f)\n",
      "\n",
      "def download_file(context, url, target_path):\n",
      "    with requests.get(url, stream=True) as response:\n",
      "        response.raise_for_status()\n",
      "        with open(target_path, 'wb') as f:\n",
      "            for chunk in response.iter_content(chunk_size=8192):\n",
      "                if chunk:\n",
      "                    f.write(chunk)\n",
      "\n",
      "    context.logger.info_with('Downloaded file',url=url)\n",
      "\n",
      "def handler(context, event):\n",
      "    tmp_file = mktemp()\n",
      "    image_url = event.body.decode('utf-8').strip()\n",
      "    download_file(context, image_url, tmp_file)\n",
      "    \n",
      "    img = load_img(tmp_file, target_size=(IMAGE_WIDTH, IMAGE_HEIGHT))\n",
      "    x = image.img_to_array(img)\n",
      "    x = np.expand_dims(x, axis=0)\n",
      "\n",
      "    images = np.vstack([x])\n",
      "    predicted_probability = context.model.predict_proba(images, batch_size=10)\n",
      "    predicted_class = list(zip(predicted_probability, map(lambda x: '1' if x >= 0.5 else '0', predicted_probability)))\n",
      "    actual_class = [(context.prediction_map[x[1]],x[0][0]) for x in predicted_class]   \n",
      "    os.remove(tmp_file)\n",
      "    result = {'class':actual_class[0][0], 'dog-probability':float(actual_class[0][1])}\n",
      "    return json.dumps(result)\n",
      "\n",
      "\n",
      "Config:\n",
      "apiVersion: nuclio.io/v1\n",
      "kind: Function\n",
      "metadata:\n",
      "  name: infer\n",
      "spec:\n",
      "  build:\n",
      "    baseImage: python:3.6-jessie\n",
      "    commands:\n",
      "    - pip install git+https://github.com/fchollet/keras\n",
      "    - pip install tensorflow\n",
      "    - pip install numpy\n",
      "    - pip install requests\n",
      "    - pip install pillow\n",
      "    noBaseImagesPull: true\n",
      "  env:\n",
      "  - name: IMAGE_WIDTH\n",
      "    value: '128'\n",
      "  - name: IMAGE_HEIGHT\n",
      "    value: '128'\n",
      "  - name: version\n",
      "    value: '1.0'\n",
      "  - name: MODEL_PATH\n",
      "    value: /model/\n",
      "  handler: handler:handler\n",
      "  runtime: python:3.6\n",
      "  volumes:\n",
      "  - volume:\n",
      "      flexVolume:\n",
      "        driver: v3io/fuse\n",
      "        options:\n",
      "          accessKey: ad348937-7359-48e8-8f68-8014c66f2d2c\n",
      "          container: users\n",
      "          subPath: /iguazio/image-classification/cats_dogs/model\n",
      "      name: fs\n",
      "    volumeMount:\n",
      "      mountPath: /model\n",
      "      name: fs\n",
      "\n"
     ]
    }
   ],
   "source": [
    "%nuclio show"
   ]
  },
  {
   "cell_type": "markdown",
   "metadata": {},
   "source": [
    "<a id=\"image-class-infer-func-deploy-prepare\"></a>\n",
    "## Prepare to Deploy the Function\n",
    "\n",
    "Before you deploy the function, open a Jupyter terminal and run the following command:\n",
    "\n",
    "`pip install --upgrade nuclio-jupyter`"
   ]
  },
  {
   "cell_type": "markdown",
   "metadata": {},
   "source": [
    "<a id=\"image-class-infer-func-deploy\"></a>\n",
    "## Deploy the Function\n",
    "\n",
    "Run the following command to deploy the function:"
   ]
  },
  {
   "cell_type": "code",
   "execution_count": null,
   "metadata": {},
   "outputs": [],
   "source": [
    "%nuclio deploy -n cats-dogs -p ai -c"
   ]
  },
  {
   "cell_type": "markdown",
   "metadata": {},
   "source": [
    "<a id=\"image-class-infer-func-test\"></a>\n",
    "## Test the Function"
   ]
  },
  {
   "cell_type": "code",
   "execution_count": null,
   "metadata": {},
   "outputs": [],
   "source": [
    "# Run a test with the new function. Replace the \"function URL:port\" with the actual URL and port number.\n",
    "# To get the function's URL, in the platform dashboard navigate to the function page -\n",
    "# Functions> ai > cats-dogs - and select the Status tab.\n",
    "!curl -X POST -d \"https://s3.amazonaws.com/iguazio-sample-data/images/catanddog/cat.123.jpg\" <function URL:port> "
   ]
  }
 ],
 "metadata": {
  "kernelspec": {
   "display_name": "Python 3",
   "language": "python",
   "name": "python3"
  },
  "language_info": {
   "codemirror_mode": {
    "name": "ipython",
    "version": 3
   },
   "file_extension": ".py",
   "mimetype": "text/x-python",
   "name": "python",
   "nbconvert_exporter": "python",
   "pygments_lexer": "ipython3",
   "version": "3.6.8"
  }
 },
 "nbformat": 4,
 "nbformat_minor": 2
}
