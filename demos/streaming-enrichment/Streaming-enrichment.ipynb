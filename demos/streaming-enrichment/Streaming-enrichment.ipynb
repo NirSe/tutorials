{
 "cells": [
  {
   "cell_type": "markdown",
   "metadata": {},
   "source": [
    "# Streaming enrichment\n",
    "\n",
    "This example demonstrates how to enrich streaming data in real time with additional features stored in Iguazio NoSQL. <br>\n",
    "In this notebook you'll learn how to create and deploy a Nuclio function which is triggered by incoming event-messages to a V3IO-Stream. <br>\n",
    "The function enriches the original event-message with data from V3IO-NoSQL table and writes the enriched message to an output V3IO-Stream.\n",
    "In this notebook we'll create two streams: Stream 1 for input and Stream 2 for output and in addition we'll create a NoSQL table with additional info for enrichment <br>\n",
    "The demo demonstrates sending an event to Iguazio stream with client name, car ID and email. Then the event will be enriched by joining the stream with the relvant record in the Cars table based on the CarID with additional information such as the car's color, manufacture year, vendor and state and then stored in another stream (called Stream2) <br> <br>\n",
    "The streams and the table are stored under \"Users\" container --> Username --> examples folder"
   ]
  },
  {
   "cell_type": "code",
   "execution_count": 1,
   "metadata": {},
   "outputs": [],
   "source": [
    "import nuclio\n",
    "import os\n",
    "import requests"
   ]
  },
  {
   "cell_type": "markdown",
   "metadata": {},
   "source": [
    "### Setting Parameters"
   ]
  },
  {
   "cell_type": "code",
   "execution_count": 2,
   "metadata": {},
   "outputs": [],
   "source": [
    "\n",
    "NUCLIO_PROJ_NAME = 'examples'\n",
    "NUCLIO_FUNC_NAME = 'enrich-stream'\n",
    "\n",
    "CONTAINER_NAME = 'users'\n",
    "TABLE_NAME = 'cars'\n",
    "OUTPUT_STREAM_NAME = 'stream2'\n",
    "V3IO_API = os.getenv('V3IO_API')\n",
    "V3IO_ACCESS_KEY = os.environ['V3IO_ACCESS_KEY']\n",
    "V3IO_USERNAME = os.getenv('V3IO_USERNAME')\n",
    "## Fill in the V3IO password. This is used for creating the trigger. The password to be set is for the logged in user\n",
    "V3IO_PASSWORD = '123456'\n",
    "\n",
    "INPUT_STREAM_NAME = 'stream1'\n",
    "INPUT_STREAM_SEARCH_KEY = 'CarID'\n",
    "INPUT_STREAM_URL = f'http://{V3IO_API}/{CONTAINER_NAME}/{V3IO_USERNAME}/examples/{INPUT_STREAM_NAME}/'\n",
    "INPUT_STREAM_PARTITIONS = [0, 1, 2]\n",
    "INPUT_STREAM_SEEK_TO = 'earliest'\n"
   ]
  },
  {
   "cell_type": "markdown",
   "metadata": {},
   "source": [
    "### Create input and output streams"
   ]
  },
  {
   "cell_type": "code",
   "execution_count": 3,
   "metadata": {},
   "outputs": [
    {
     "name": "stdout",
     "output_type": "stream",
     "text": [
      "<Response [204]>\n",
      "<Response [204]>\n"
     ]
    }
   ],
   "source": [
    "payload = f'{{\"ShardCount\": {len(INPUT_STREAM_PARTITIONS)}, \"RetentionPeriodHours\": 1 }}'\n",
    "headers = {\n",
    "    'Content-Type': \"application/json\",\n",
    "    'X-v3io-function': \"CreateStream\",\n",
    "    'x-v3io-session-key': V3IO_ACCESS_KEY,\n",
    "    'cache-control': \"no-cache\",\n",
    "}\n",
    "\n",
    "for stream in [INPUT_STREAM_NAME, OUTPUT_STREAM_NAME]:\n",
    "    url = f'http://{V3IO_API}/{CONTAINER_NAME}/{V3IO_USERNAME}/examples/{stream}/'\n",
    "\n",
    "    response = requests.request(\"PUT\", url, data=payload, headers=headers)\n",
    "\n",
    "    print(response)"
   ]
  },
  {
   "cell_type": "markdown",
   "metadata": {},
   "source": [
    "### Create a KV table with enrichment data"
   ]
  },
  {
   "cell_type": "markdown",
   "metadata": {},
   "source": [
    "Creating a table called \"cars\" <br>\n",
    "We'll insert two sample rows with the following columns: CarID (key) , color, vendor, manufacture year and state <br>\n",
    "Those fields will be used for enriching the stream in real time"
   ]
  },
  {
   "cell_type": "code",
   "execution_count": 4,
   "metadata": {},
   "outputs": [
    {
     "name": "stdout",
     "output_type": "stream",
     "text": [
      "<Response [200]>\n",
      "<Response [200]>\n"
     ]
    }
   ],
   "source": [
    "url = f'http://{V3IO_API}/{CONTAINER_NAME}/{V3IO_USERNAME}/examples/{TABLE_NAME}/'\n",
    "\n",
    "payloads = [{\n",
    "    \"Key\" : {\n",
    "        \"CarID\" : {\"N\" : \"0\"}\n",
    "    },\n",
    "    \"Item\" : {\n",
    "        \"Color\":  {\"S\": \"Gray\"},\n",
    "        \"Vendor\": {\"S\" : \"Mitsubishi\"},\n",
    "        \"Mfg_Year\": {\"N\" : \"2017\"},\n",
    "        \"State\": {\"S\" : \"MI\"}\n",
    "    }\n",
    "},\n",
    "{\n",
    "    \"Key\" : {\n",
    "        \"CarID\" : {\"N\" : \"1\"}\n",
    "    },\n",
    "    \"Item\" : {\n",
    "        \"Color\":  {\"S\": \"Red\"},\n",
    "        \"Vendor\": {\"S\" : \"Ford\"},\n",
    "        \"Mfg_Year\": {\"N\" : \"2019\"},\n",
    "        \"State\": {\"S\" : \"NY\"}\n",
    "    }\n",
    "}]\n",
    "\n",
    "headers = {\n",
    "    'Content-Type': \"application/json\",\n",
    "    'X-v3io-function': \"PutItem\",\n",
    "    'x-v3io-session-key': V3IO_ACCESS_KEY,\n",
    "    'cache-control': \"no-cache\",\n",
    "}\n",
    "for payload in payloads:\n",
    "    response = requests.request(\"POST\", url, json=payload, headers=headers)\n",
    "    print(response)"
   ]
  },
  {
   "cell_type": "markdown",
   "metadata": {},
   "source": [
    "### Define a list of environment variable to be set for our Nuclio-function"
   ]
  },
  {
   "cell_type": "code",
   "execution_count": 5,
   "metadata": {},
   "outputs": [],
   "source": [
    "NUCLIO_ENV = [\n",
    "   f'V3IO_API={V3IO_API}',\n",
    "   f'V3IO_USERNAME={V3IO_USERNAME}',    \n",
    "   f'CONTAINER_NAME={CONTAINER_NAME}',\n",
    "   f'TABLE_NAME={TABLE_NAME}',\n",
    "   f'INPUT_STREAM_SEARCH_KEY={INPUT_STREAM_SEARCH_KEY}',\n",
    "   f'OUTPUT_STREAM_NAME={OUTPUT_STREAM_NAME}',\n",
    "   f'V3IO_ACCESS_KEY={V3IO_ACCESS_KEY}'\n",
    "]"
   ]
  },
  {
   "cell_type": "markdown",
   "metadata": {},
   "source": [
    "### Define trigger configuration for our Nuclio-function"
   ]
  },
  {
   "cell_type": "code",
   "execution_count": 6,
   "metadata": {},
   "outputs": [],
   "source": [
    "NUCLIO_TRIGGER_CONF = {\n",
    "    'spec.triggers':{\n",
    "        INPUT_STREAM_NAME: {\n",
    "            'kind': 'v3ioStream',\n",
    "            'url': INPUT_STREAM_URL,\n",
    "            'username': V3IO_USERNAME,\n",
    "            'password': V3IO_PASSWORD,\n",
    "            'attributes': {\n",
    "                'partitions': INPUT_STREAM_PARTITIONS,\n",
    "                'seekTo': INPUT_STREAM_SEEK_TO,\n",
    "                }\n",
    "            }\n",
    "    }\n",
    "}"
   ]
  },
  {
   "cell_type": "markdown",
   "metadata": {},
   "source": [
    "### Define build commands for our Nuclio-function"
   ]
  },
  {
   "cell_type": "code",
   "execution_count": 7,
   "metadata": {},
   "outputs": [],
   "source": [
    "NUCLIO_CMD = 'pip install requests'"
   ]
  },
  {
   "cell_type": "markdown",
   "metadata": {},
   "source": [
    "### Define the Nuclio-function code"
   ]
  },
  {
   "cell_type": "code",
   "execution_count": 8,
   "metadata": {},
   "outputs": [],
   "source": [
    "NUCLIO_CODE = '''\n",
    "import requests\n",
    "import json\n",
    "import base64\n",
    "import os\n",
    "\n",
    "\n",
    "def init_context(context):\n",
    "    # env -> config\n",
    "    setattr(context.user_data, 'config', {\n",
    "        'v3io_api': os.environ['V3IO_API'],\n",
    "        'v3io_username': os.environ['V3IO_USERNAME'],\n",
    "        'container_name': os.environ['CONTAINER_NAME'],\n",
    "        'table_name': os.environ['TABLE_NAME'],\n",
    "        'input_stream_search_key': os.environ['INPUT_STREAM_SEARCH_KEY'],\n",
    "        'output_stream_name': os.environ['OUTPUT_STREAM_NAME'],\n",
    "        'v3io_access_key': os.environ['V3IO_ACCESS_KEY'],\n",
    "    })\n",
    "\n",
    "\n",
    "def handler(context, event):\n",
    "    config = context.user_data.config\n",
    "    msg = json.loads(event.body)\n",
    "    context.logger.info(f'Incoming message: {msg}')\n",
    "    enrichment_data = _search_kv(msg, config)\n",
    "    context.logger.info(f'Enrichment data: {enrichment_data}')\n",
    "    msg['enrichment'] = enrichment_data\n",
    "    _put_records([msg], config)\n",
    "    context.logger.debug(f'Output message: {msg}')\n",
    "\n",
    "\n",
    "def _get_url(v3io_api, container_name, collection_path):\n",
    "    return f'http://{v3io_api}/{container_name}/{collection_path}'\n",
    "\n",
    "\n",
    "def _get_headers(v3io_function, v3io_access_key):\n",
    "    return {\n",
    "        'Content-Type': \"application/json\",\n",
    "        'X-v3io-function': v3io_function,\n",
    "        'cache-control': \"no-cache\",\n",
    "        'x-v3io-session-key': v3io_access_key\n",
    "    }\n",
    "\n",
    "\n",
    "def _search_kv(msg, config):\n",
    "    v3io_api = config['v3io_api']\n",
    "    v3io_username = config['v3io_username']\n",
    "    container_name = config['container_name']\n",
    "    search_value = msg[config['input_stream_search_key']]\n",
    "    table_path_and_key = f\"{v3io_username}/examples/{config['table_name']}/{search_value}\"\n",
    "    v3io_access_key = config['v3io_access_key']\n",
    "\n",
    "    url = _get_url(v3io_api, container_name, table_path_and_key)\n",
    "    headers = _get_headers(\"GetItem\", v3io_access_key)\n",
    "    resp = requests.request(\"POST\", url, json={}, headers=headers)\n",
    "\n",
    "    json_response = json.loads(resp.text)\n",
    "\n",
    "    response = {}\n",
    "    if 'Item' in json_response:\n",
    "        response = json_response['Item']\n",
    "\n",
    "    return response\n",
    "\n",
    "\n",
    "def _put_records(items, config):\n",
    "    v3io_api = config['v3io_api']\n",
    "    v3io_username = config['v3io_username']\n",
    "    container_name = config['container_name']\n",
    "    output_stream_path = f\"{v3io_username}/examples/{config['output_stream_name']}/\"\n",
    "    v3io_access_key = config['v3io_access_key']\n",
    "\n",
    "    records = _items_to_records(items)\n",
    "    url = _get_url(v3io_api, container_name, output_stream_path)\n",
    "    headers = _get_headers(\"PutRecords\", v3io_access_key)\n",
    "\n",
    "    return requests.request(\"PUT\", url, json=records, headers=headers)\n",
    "\n",
    "\n",
    "def _item_to_b64(item):\n",
    "    item_string = json.dumps(item)\n",
    "    return base64.b64encode(item_string.encode('utf-8')).decode('utf-8')\n",
    "\n",
    "\n",
    "def _items_to_records(items):\n",
    "    return {'Records': [{'Data': _item_to_b64(item)} for item in items]}\n",
    "'''"
   ]
  },
  {
   "cell_type": "markdown",
   "metadata": {},
   "source": [
    "### Deploy the code"
   ]
  },
  {
   "cell_type": "code",
   "execution_count": 9,
   "metadata": {},
   "outputs": [
    {
     "name": "stdout",
     "output_type": "stream",
     "text": [
      "[nuclio.deploy] 2019-04-01 20:55:45,537 Config:\n",
      "apiVersion: nuclio.io/v1\n",
      "kind: Function\n",
      "metadata:\n",
      "  name: enrich-stream\n",
      "spec:\n",
      "  build:\n",
      "    commands:\n",
      "    - pip install requests\n",
      "    functionSourceCode: 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\n",
      "    noBaseImagesPull: true\n",
      "  env:\n",
      "  - name: V3IO_API\n",
      "    value: v3io-webapi.default-tenant.svc:8081\n",
      "  - name: V3IO_USERNAME\n",
      "    value: adi\n",
      "  - name: CONTAINER_NAME\n",
      "    value: users\n",
      "  - name: TABLE_NAME\n",
      "    value: cars\n",
      "  - name: INPUT_STREAM_SEARCH_KEY\n",
      "    value: CarID\n",
      "  - name: OUTPUT_STREAM_NAME\n",
      "    value: stream2\n",
      "  - name: V3IO_ACCESS_KEY\n",
      "    value: a871d4c0-1fe8-487b-8434-bd400feb703f\n",
      "  handler: handler:handler\n",
      "  runtime: python:3.6\n",
      "  triggers:\n",
      "    stream1:\n",
      "      attributes:\n",
      "        partitions:\n",
      "        - 0\n",
      "        - 1\n",
      "        - 2\n",
      "        seekTo: earliest\n",
      "      kind: v3ioStream\n",
      "      password: '123456'\n",
      "      url: http://v3io-webapi.default-tenant.svc:8081/users/adi/examples/stream1/\n",
      "      username: adi\n",
      "  volumes: []\n",
      "\n",
      "[nuclio.deploy] 2019-04-01 20:55:45,563 updating enrich-stream\n",
      "[nuclio.deploy] 2019-04-01 20:55:45,644 deploying ...\n",
      "[nuclio.deploy] 2019-04-01 20:55:49,697 (info) Building processor image\n",
      "[nuclio.deploy] 2019-04-01 20:55:49,698 {'imageName': 'nuclio/processor-enrich-stream:latest', 'level': 'info', 'message': 'Building processor image', 'name': 'deployer', 'time': 1554152149226.5234}\n",
      "[nuclio.deploy] 2019-04-01 20:55:49,700 (info) Pushing image\n",
      "[nuclio.deploy] 2019-04-01 20:55:49,701 {'from': 'nuclio/processor-enrich-stream:latest', 'level': 'info', 'message': 'Pushing image', 'name': 'deployer', 'time': 1554152149435.5005, 'to': 'docker-registry.default-tenant.app.mrgummslysmf.iguazio-cd2.com:80/nuclio/processor-enrich-stream:latest'}\n",
      "[nuclio.deploy] 2019-04-01 20:55:49,702 (info) Build complete\n",
      "[nuclio.deploy] 2019-04-01 20:55:49,703 {'level': 'info', 'message': 'Build complete', 'name': 'deployer', 'result': {'Image': 'nuclio/processor-enrich-stream:latest', 'UpdatedFunctionConfig': {'metadata': {'labels': {'nuclio.io/project-name': 'd1573f37-31ce-4b8f-bf8d-effeab8f120b'}, 'name': 'enrich-stream', 'namespace': 'default-tenant'}, 'spec': {'build': {'commands': ['pip install requests'], 'functionSourceCode': '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', 'registry': 'docker-registry.default-tenant.app.mrgummslysmf.iguazio-cd2.com:80'}, 'env': [{'name': 'V3IO_API', 'value': 'v3io-webapi.default-tenant.svc:8081'}, {'name': 'V3IO_USERNAME', 'value': 'adi'}, {'name': 'CONTAINER_NAME', 'value': 'users'}, {'name': 'TABLE_NAME', 'value': 'cars'}, {'name': 'INPUT_STREAM_SEARCH_KEY', 'value': 'CarID'}, {'name': 'OUTPUT_STREAM_NAME', 'value': 'stream2'}, {'name': 'V3IO_ACCESS_KEY', 'value': 'a871d4c0-1fe8-487b-8434-bd400feb703f'}], 'handler': 'handler:handler', 'platform': {}, 'resources': {}, 'runtime': 'python:3.6', 'triggers': {'stream1': {'attributes': {'partitions': [0, 1, 2], 'seekTo': 'earliest'}, 'class': '', 'kind': 'v3ioStream', 'password': '123456', 'url': 'http://v3io-webapi.default-tenant.svc:8081/users/adi/examples/stream1/', 'username': 'adi'}}}}}, 'time': 1554152149501.3193}\n",
      "[nuclio.deploy] 2019-04-01 20:55:53,768 (info) Function deploy complete\n",
      "[nuclio.deploy] 2019-04-01 20:55:53,769 {'httpPort': 31181, 'level': 'info', 'message': 'Function deploy complete', 'name': 'deployer', 'time': 1554152153517.243}\n",
      "[nuclio.deploy] 2019-04-01 20:55:53,779 done updating enrich-stream, function address: 18.185.211.158:31181\n"
     ]
    }
   ],
   "source": [
    "addr = nuclio.deploy_code(code=NUCLIO_CODE,name=NUCLIO_FUNC_NAME,project=NUCLIO_PROJ_NAME,verbose=True, create_new=True, env=NUCLIO_ENV, config=NUCLIO_TRIGGER_CONF, cmd=NUCLIO_CMD)\n",
    "#print(addr)"
   ]
  },
  {
   "cell_type": "markdown",
   "metadata": {},
   "source": [
    "### Invoke the function by sending event-message to the input stream"
   ]
  },
  {
   "cell_type": "markdown",
   "metadata": {},
   "source": [
    "In the example below we are sending an event with the client name, email and the car ID <br>\n",
    "Then, the event will be enriched with the data that resides in the Cars table and eventually will be written to Stream 2 along with the enriched data"
   ]
  },
  {
   "cell_type": "code",
   "execution_count": 10,
   "metadata": {},
   "outputs": [
    {
     "name": "stdout",
     "output_type": "stream",
     "text": [
      "<Response [200]>\n"
     ]
    }
   ],
   "source": [
    "import base64\n",
    "\n",
    "url = f'http://{V3IO_API}/{CONTAINER_NAME}/{V3IO_USERNAME}/examples/{INPUT_STREAM_NAME}/'\n",
    "\n",
    "msg = '{\"ClientName\": \"John Smith\", \"Email\": \"john.smith@myemailprovider.com\", \"CarID\": \"0\"}'\n",
    "msg_b64 = base64.b64encode(msg.encode('utf-8')).decode('utf-8')\n",
    "\n",
    "payload = f'{{\"Records\": [{{\"Data\": \"{msg_b64}\"}}]}}'\n",
    "\n",
    "headers = {\n",
    "    'Content-Type': \"application/json\",\n",
    "    'X-v3io-function': \"PutRecords\",\n",
    "    'x-v3io-session-key': V3IO_ACCESS_KEY,\n",
    "    'cache-control': \"no-cache\",\n",
    "}\n",
    "\n",
    "response = requests.request(\"PUT\", url, data=payload, headers=headers)\n",
    "\n",
    "print(response)"
   ]
  },
  {
   "cell_type": "markdown",
   "metadata": {},
   "source": [
    "### Check the enriched data in the output stream"
   ]
  },
  {
   "cell_type": "markdown",
   "metadata": {},
   "source": [
    "Read from Stream2 <br>\n",
    "Expected result is the enriched stream with all the rest of the data coming from the the cars table"
   ]
  },
  {
   "cell_type": "code",
   "execution_count": 11,
   "metadata": {},
   "outputs": [
    {
     "name": "stdout",
     "output_type": "stream",
     "text": [
      "<Response [400]>\n"
     ]
    },
    {
     "ename": "KeyError",
     "evalue": "'Records'",
     "output_type": "error",
     "traceback": [
      "\u001b[0;31m---------------------------------------------------------------------------\u001b[0m",
      "\u001b[0;31mKeyError\u001b[0m                                  Traceback (most recent call last)",
      "\u001b[0;32m<ipython-input-11-70f8ccac26bb>\u001b[0m in \u001b[0;36m<module>\u001b[0;34m\u001b[0m\n\u001b[1;32m     15\u001b[0m \u001b[0mprint\u001b[0m\u001b[0;34m(\u001b[0m\u001b[0mresponse\u001b[0m\u001b[0;34m)\u001b[0m\u001b[0;34m\u001b[0m\u001b[0;34m\u001b[0m\u001b[0m\n\u001b[1;32m     16\u001b[0m \u001b[0;34m\u001b[0m\u001b[0m\n\u001b[0;32m---> 17\u001b[0;31m \u001b[0mdata\u001b[0m \u001b[0;34m=\u001b[0m \u001b[0mjson\u001b[0m\u001b[0;34m.\u001b[0m\u001b[0mloads\u001b[0m\u001b[0;34m(\u001b[0m\u001b[0mresponse\u001b[0m\u001b[0;34m.\u001b[0m\u001b[0mtext\u001b[0m\u001b[0;34m)\u001b[0m\u001b[0;34m[\u001b[0m\u001b[0;34m\"Records\"\u001b[0m\u001b[0;34m]\u001b[0m\u001b[0;34m[\u001b[0m\u001b[0;36m0\u001b[0m\u001b[0;34m]\u001b[0m\u001b[0;34m[\u001b[0m\u001b[0;34m\"Data\"\u001b[0m\u001b[0;34m]\u001b[0m\u001b[0;34m\u001b[0m\u001b[0;34m\u001b[0m\u001b[0m\n\u001b[0m\u001b[1;32m     18\u001b[0m \u001b[0;34m\u001b[0m\u001b[0m\n\u001b[1;32m     19\u001b[0m \u001b[0mprint\u001b[0m\u001b[0;34m(\u001b[0m\u001b[0mbase64\u001b[0m\u001b[0;34m.\u001b[0m\u001b[0mb64decode\u001b[0m\u001b[0;34m(\u001b[0m\u001b[0mdata\u001b[0m\u001b[0;34m)\u001b[0m\u001b[0;34m.\u001b[0m\u001b[0mdecode\u001b[0m\u001b[0;34m(\u001b[0m\u001b[0;34m)\u001b[0m\u001b[0;34m)\u001b[0m\u001b[0;34m\u001b[0m\u001b[0;34m\u001b[0m\u001b[0m\n",
      "\u001b[0;31mKeyError\u001b[0m: 'Records'"
     ]
    }
   ],
   "source": [
    "import json\n",
    "\n",
    "url = f'http://{V3IO_API}/{CONTAINER_NAME}/{V3IO_USERNAME}/examples/{OUTPUT_STREAM_NAME}/0'\n",
    "\n",
    "payload = '{\"Location\": \"AQAAAAAAAAAAAAAAAAAAAA==\", \"Limit\": 10}'\n",
    "headers = {\n",
    "    'Content-Type': \"application/json\",\n",
    "    'X-v3io-function': \"GetRecords\",\n",
    "    'x-v3io-session-key': V3IO_ACCESS_KEY,\n",
    "    'cache-control': \"no-cache\",\n",
    "}\n",
    "\n",
    "response = requests.request(\"PUT\", url, data=payload, headers=headers)\n",
    "\n",
    "print(response)\n",
    "\n",
    "data = json.loads(response.text)[\"Records\"][0][\"Data\"]\n",
    "\n",
    "print(base64.b64decode(data).decode())"
   ]
  },
  {
   "cell_type": "code",
   "execution_count": null,
   "metadata": {},
   "outputs": [],
   "source": []
  }
 ],
 "metadata": {
  "kernelspec": {
   "display_name": "Python 3",
   "language": "python",
   "name": "python3"
  },
  "language_info": {
   "codemirror_mode": {
    "name": "ipython",
    "version": 3
   },
   "file_extension": ".py",
   "mimetype": "text/x-python",
   "name": "python",
   "nbconvert_exporter": "python",
   "pygments_lexer": "ipython3",
   "version": "3.6.8"
  }
 },
 "nbformat": 4,
 "nbformat_minor": 2
}
