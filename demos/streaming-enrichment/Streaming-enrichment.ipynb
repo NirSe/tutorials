{
 "cells": [
  {
   "cell_type": "markdown",
   "metadata": {},
   "source": [
    "# Streaming enrichment Example\n",
    "\n",
    "This example creates and deploys a Nuclio function which is triggered by incoming event-messages to a V3IO-Stream.\n",
    "The function enrich the original event-message with data from V3IO-KV table,\n",
    "and writes the enriched message to an output V3IO-Stream.\n",
    "\n",
    "\n",
    "### Parameter definition"
   ]
  },
  {
   "cell_type": "code",
   "execution_count": 8,
   "metadata": {},
   "outputs": [],
   "source": [
    "import nuclio\n",
    "import os\n",
    "import requests\n",
    "\n",
    "NUCLIO_PROJ_NAME = 'examples'\n",
    "NUCLIO_FUNC_NAME = 'enrich-stream'\n",
    "\n",
    "CONTAINER_NAME = 'users'\n",
    "TABLE_NAME = 'cars'\n",
    "TABLE_KEY = 'CarID'\n",
    "OUTPUT_STREAM_NAME = 'stream2'\n",
    "V3IO_API = os.getenv('V3IO_API')\n",
    "V3IO_ACCESS_KEY = os.environ['V3IO_ACCESS_KEY']\n",
    "V3IO_USERNAME = os.getenv('V3IO_USERNAME')\n",
    "V3IO_PASSWORD = 'data123'\n",
    "\n",
    "INPUT_STREAM_NAME = 'stream1'\n",
    "INPUT_STREAM_SEARCH_KEY = 'CarID'\n",
    "INPUT_STREAM_URL = f'http://{V3IO_API}/{CONTAINER_NAME}/{INPUT_STREAM_NAME}/'\n",
    "INPUT_STREAM_PARTITIONS = [0, 1, 2]\n",
    "INPUT_STREAM_NUM_CONTAINER_WORKERS = 0\n",
    "INPUT_STREAM_SEEK_TO = 'earliest'\n",
    "INPUT_STREAM_READ_BATCH_SIZE = 64\n",
    "INPUT_STREAM_POLLING_INTERVAL_MS = 250\n",
    "\n"
   ]
  },
  {
   "cell_type": "markdown",
   "metadata": {},
   "source": [
    "### Define a list of environment variable to be set for our Nuclio-function"
   ]
  },
  {
   "cell_type": "code",
   "execution_count": 9,
   "metadata": {},
   "outputs": [],
   "source": [
    "NUCLIO_ENV = [\n",
    "   f'V3IO_API={V3IO_API}',\n",
    "   f'CONTAINER_NAME={CONTAINER_NAME}',\n",
    "   f'TABLE_NAME={TABLE_NAME}',\n",
    "   f'TABLE_KEY={TABLE_KEY}',\n",
    "   f'INPUT_STREAM_NAME={INPUT_STREAM_NAME}',\n",
    "   f'INPUT_STREAM_SEARCH_KEY={INPUT_STREAM_SEARCH_KEY}',\n",
    "   f'OUTPUT_STREAM_NAME={OUTPUT_STREAM_NAME}',\n",
    "   f'V3IO_ACCESS_KEY={V3IO_ACCESS_KEY}'\n",
    "]"
   ]
  },
  {
   "cell_type": "markdown",
   "metadata": {},
   "source": [
    "### Define trigger configuration for our Nuclio-function"
   ]
  },
  {
   "cell_type": "code",
   "execution_count": 10,
   "metadata": {},
   "outputs": [],
   "source": [
    "NUCLIO_TRIGGER_CONF = {\n",
    "    'spec.triggers':{\n",
    "        INPUT_STREAM_NAME: {\n",
    "            'kind': 'v3ioStream',\n",
    "            'url': INPUT_STREAM_URL,\n",
    "            'username': V3IO_USERNAME,\n",
    "            'password': V3IO_PASSWORD,\n",
    "            'attributes': {\n",
    "                'partitions': INPUT_STREAM_PARTITIONS,\n",
    "                'numContainerWorkers': INPUT_STREAM_NUM_CONTAINER_WORKERS,\n",
    "                'seekTo': INPUT_STREAM_SEEK_TO,\n",
    "                'readBatchSize': INPUT_STREAM_READ_BATCH_SIZE,\n",
    "                'pollingIntervalMs': INPUT_STREAM_POLLING_INTERVAL_MS,\n",
    "                }\n",
    "            }\n",
    "    }\n",
    "}"
   ]
  },
  {
   "cell_type": "markdown",
   "metadata": {},
   "source": [
    "### Define build commands for our Nuclio-function"
   ]
  },
  {
   "cell_type": "code",
   "execution_count": 11,
   "metadata": {},
   "outputs": [],
   "source": [
    "NUCLIO_CMD = 'pip install requests'"
   ]
  },
  {
   "cell_type": "markdown",
   "metadata": {},
   "source": [
    "### Define the Nuclio-function code"
   ]
  },
  {
   "cell_type": "code",
   "execution_count": 12,
   "metadata": {},
   "outputs": [],
   "source": [
    "NUCLIO_CODE = '''\n",
    "import requests\n",
    "import json\n",
    "import base64\n",
    "import os\n",
    "\n",
    "\n",
    "def init_context(context):\n",
    "    # env -> config\n",
    "    setattr(context.user_data, 'config', {\n",
    "        'v3io_api': os.environ['V3IO_API'],\n",
    "        'container_name': os.environ['CONTAINER_NAME'],\n",
    "        'table': {\n",
    "            'name': os.environ['TABLE_NAME'],\n",
    "            'key': os.environ['TABLE_KEY']\n",
    "        },\n",
    "        'input_stream': {\n",
    "            'name': os.environ['INPUT_STREAM_NAME'],\n",
    "            'search_key': os.environ['INPUT_STREAM_SEARCH_KEY']\n",
    "        },\n",
    "        'output_stream_name': os.environ['OUTPUT_STREAM_NAME'],\n",
    "        'v3io_access_key': os.environ['V3IO_ACCESS_KEY'],\n",
    "    })\n",
    "\n",
    "\n",
    "def handler(context, event):\n",
    "    config = context.user_data.config\n",
    "    event_body = event.body\n",
    "    context.logger.debug(f'Incoming event body: {event_body}')    \n",
    "    \n",
    "    msg = json.loads(event_body.decode())\n",
    "    search_value = msg[config['input_stream']['search_key']]\n",
    "    search_key = config['table']['key']\n",
    "    context.logger.debug(f'Search key: {search_key} for value: {search_value}')    \n",
    "    \n",
    "    enrichment_data = _search_kv(search_key, search_value, config)\n",
    "    context.logger.debug(f'Search result: {enrichment_data}')    \n",
    "    \n",
    "    msg['enrichment'] = enrichment_data\n",
    "    context.logger.debug(f'Output message: {msg}')    \n",
    "    context.logger.debug(_put_records([msg], config))\n",
    "\n",
    "\n",
    "\n",
    "def _get_url(v3io_api, container_name, collection_name):\n",
    "    return f'http://{v3io_api}/{container_name}/{collection_name}/'\n",
    "\n",
    "\n",
    "def _get_headers(v3io_function, v3io_access_key):\n",
    "    return {\n",
    "        'Content-Type': \"application/json\",\n",
    "        'X-v3io-function': v3io_function,\n",
    "        'cache-control': \"no-cache\",\n",
    "        'x-v3io-session-key': v3io_access_key\n",
    "    }\n",
    "\n",
    "\n",
    "def _search_kv(key, value, config):\n",
    "    v3io_api = config['v3io_api']\n",
    "    container_name = config['container_name']\n",
    "    table_name = config['table']['name']\n",
    "    v3io_access_key = config['v3io_access_key']\n",
    "\n",
    "    url = _get_url(v3io_api, container_name, table_name)\n",
    "    payload = {\"Key\": {key: {\"S\": value}}}\n",
    "    headers = _get_headers(\"GetItem\", v3io_access_key)\n",
    "\n",
    "    json_response = json.loads(requests.request(\"POST\", url, json=payload, headers=headers).text)\n",
    "\n",
    "    response = {}\n",
    "    if 'Item' in json_response:\n",
    "        response = json_response['Item']\n",
    "\n",
    "    return response\n",
    "\n",
    "\n",
    "def _put_records(items, config):\n",
    "    v3io_api = config['v3io_api']\n",
    "    container_name = config['container_name']\n",
    "    output_stream_name = config['output_stream_name']\n",
    "    v3io_access_key = config['v3io_access_key']\n",
    "\n",
    "    records = _items_to_records(items)\n",
    "    url = _get_url(v3io_api, container_name, output_stream_name)\n",
    "    headers = _get_headers(\"PutRecords\", v3io_access_key)\n",
    "\n",
    "    return requests.request(\"POST\", url, json=records, headers=headers)\n",
    "\n",
    "\n",
    "def _item_to_b64(item):\n",
    "    item_string = json.dumps(item)\n",
    "    return base64.b64encode(item_string.encode('utf-8')).decode('utf-8')\n",
    "\n",
    "\n",
    "def _items_to_records(items):\n",
    "    return {'Records': [{'Data': _item_to_b64(item)} for item in items]}\n",
    "'''"
   ]
  },
  {
   "cell_type": "markdown",
   "metadata": {},
   "source": [
    "### Deploy the code"
   ]
  },
  {
   "cell_type": "code",
   "execution_count": null,
   "metadata": {},
   "outputs": [],
   "source": [
    "addr = nuclio.deploy_code(code=NUCLIO_CODE,name=NUCLIO_FUNC_NAME,project=NUCLIO_PROJ_NAME,verbose=True, create_new=True, env=NUCLIO_ENV, config=NUCLIO_TRIGGER_CONF, cmd=NUCLIO_CMD)\n",
    "\n",
    "# invoke the generated function \n",
    "#resp = requests.get(addr)\n",
    "#print(resp.text)"
   ]
  },
  {
   "cell_type": "code",
   "execution_count": null,
   "metadata": {},
   "outputs": [],
   "source": []
  }
 ],
 "metadata": {
  "kernelspec": {
   "display_name": "Python 3",
   "language": "python",
   "name": "python3"
  },
  "language_info": {
   "codemirror_mode": {
    "name": "ipython",
    "version": 3
   },
   "file_extension": ".py",
   "mimetype": "text/x-python",
   "name": "python",
   "nbconvert_exporter": "python",
   "pygments_lexer": "ipython3",
   "version": "3.6.8"
  }
 },
 "nbformat": 4,
 "nbformat_minor": 2
}
