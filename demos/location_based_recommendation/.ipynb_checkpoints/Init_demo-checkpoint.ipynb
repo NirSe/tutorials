{
 "cells": [
  {
   "cell_type": "markdown",
   "metadata": {},
   "source": [
    "# Prepare initial datasets"
   ]
  },
  {
   "cell_type": "code",
   "execution_count": null,
   "metadata": {},
   "outputs": [],
   "source": []
  },
  {
   "cell_type": "markdown",
   "metadata": {},
   "source": [
    "## Install Kaggle API"
   ]
  },
  {
   "cell_type": "code",
   "execution_count": 3,
   "metadata": {},
   "outputs": [
    {
     "name": "stdout",
     "output_type": "stream",
     "text": [
      "Collecting kaggle\n",
      "\u001b[?25l  Downloading https://files.pythonhosted.org/packages/78/3a/64a6447e5faa313b70cb555e21b5a30718c95bcc4902d91784b57fbab737/kaggle-1.5.3.tar.gz (54kB)\n",
      "\u001b[K    100% |################################| 61kB 33.1MB/s \n",
      "\u001b[?25hRequirement already satisfied, skipping upgrade: urllib3<1.25,>=1.21.1 in /conda/lib/python3.6/site-packages (from kaggle) (1.24.1)\n",
      "Requirement already satisfied, skipping upgrade: six>=1.10 in /conda/lib/python3.6/site-packages (from kaggle) (1.12.0)\n",
      "Requirement already satisfied, skipping upgrade: certifi in /conda/lib/python3.6/site-packages (from kaggle) (2018.11.29)\n",
      "Requirement already satisfied, skipping upgrade: python-dateutil in /conda/lib/python3.6/site-packages (from kaggle) (2.8.0)\n",
      "Requirement already satisfied, skipping upgrade: requests in /conda/lib/python3.6/site-packages (from kaggle) (2.21.0)\n",
      "Collecting tqdm (from kaggle)\n",
      "\u001b[?25l  Downloading https://files.pythonhosted.org/packages/6c/4b/c38b5144cf167c4f52288517436ccafefe9dc01b8d1c190e18a6b154cd4a/tqdm-4.31.1-py2.py3-none-any.whl (48kB)\n",
      "\u001b[K    100% |################################| 51kB 27.1MB/s \n",
      "\u001b[?25hCollecting python-slugify (from kaggle)\n",
      "  Downloading https://files.pythonhosted.org/packages/c3/67/89987e9f55b84badc33c0034b7554af988f6c5609182477677479e6ec2fd/python-slugify-3.0.0.tar.gz\n",
      "Requirement already satisfied, skipping upgrade: idna<2.9,>=2.5 in /conda/lib/python3.6/site-packages (from requests->kaggle) (2.8)\n",
      "Requirement already satisfied, skipping upgrade: chardet<3.1.0,>=3.0.2 in /conda/lib/python3.6/site-packages (from requests->kaggle) (3.0.4)\n",
      "Collecting text-unidecode==1.2 (from python-slugify->kaggle)\n",
      "\u001b[?25l  Downloading https://files.pythonhosted.org/packages/79/42/d717cc2b4520fb09e45b344b1b0b4e81aa672001dd128c180fabc655c341/text_unidecode-1.2-py2.py3-none-any.whl (77kB)\n",
      "\u001b[K    100% |################################| 81kB 37.3MB/s \n",
      "\u001b[?25hBuilding wheels for collected packages: kaggle, python-slugify\n",
      "  Running setup.py bdist_wheel for kaggle ... \u001b[?25ldone\n",
      "\u001b[?25h  Stored in directory: /igz/.cache/pip/wheels/ee/97/c5/87dcdc9434fe4e632ed5945e31a03703af229db178ef6a00e8\n",
      "  Running setup.py bdist_wheel for python-slugify ... \u001b[?25ldone\n",
      "\u001b[?25h  Stored in directory: /igz/.cache/pip/wheels/a0/0f/79/0bedff8f42e977b2f91bf9e1a25206078642ef57ddcdde4185\n",
      "Successfully built kaggle python-slugify\n",
      "Installing collected packages: tqdm, text-unidecode, python-slugify, kaggle\n",
      "Successfully installed kaggle python-slugify text-unidecode tqdm\n"
     ]
    }
   ],
   "source": [
    "!pip install kaggle --upgrade"
   ]
  },
  {
   "cell_type": "code",
   "execution_count": 8,
   "metadata": {},
   "outputs": [
    {
     "name": "stdout",
     "output_type": "stream",
     "text": [
      "mkdir: cannot create directory '/User/.kaggle': File exists\n"
     ]
    }
   ],
   "source": [
    "!mkdir ~/.kaggle\n",
    "!mv ./kaggle.json ~/.kaggle/\n",
    "!chmod 600 ~/.kaggle/kaggle.json"
   ]
  },
  {
   "cell_type": "markdown",
   "metadata": {},
   "source": [
    "## Create Data directory and Download zips from Kaggle"
   ]
  },
  {
   "cell_type": "code",
   "execution_count": 10,
   "metadata": {},
   "outputs": [
    {
     "name": "stdout",
     "output_type": "stream",
     "text": [
      "departments.csv.zip: Skipping, found more recently modified local copy (use --force to force download)\n",
      "aisles.csv.zip: Skipping, found more recently modified local copy (use --force to force download)\n",
      "order_products__train.csv.zip: Skipping, found more recently modified local copy (use --force to force download)\n",
      "products.csv.zip: Skipping, found more recently modified local copy (use --force to force download)\n",
      "orders.csv.zip: Skipping, found more recently modified local copy (use --force to force download)\n",
      "order_products__prior.csv.zip: Skipping, found more recently modified local copy (use --force to force download)\n",
      "sample_submission.csv.zip: Skipping, found more recently modified local copy (use --force to force download)\n"
     ]
    }
   ],
   "source": [
    "!mkdir ./data\n",
    "!cd data\n",
    "!kaggle competitions download -c instacart-market-basket-analysis"
   ]
  },
  {
   "cell_type": "markdown",
   "metadata": {},
   "source": [
    "### Unzip & Delete"
   ]
  },
  {
   "cell_type": "code",
   "execution_count": 19,
   "metadata": {},
   "outputs": [
    {
     "name": "stdout",
     "output_type": "stream",
     "text": [
      "Archive:  ./data/aisles.csv.zip\n",
      "  inflating: ./data/aisles.csv       \n",
      "   creating: ./data/__MACOSX/\n",
      "  inflating: ./data/__MACOSX/._aisles.csv  \n",
      "\n",
      "Archive:  ./data/departments.csv.zip\n",
      "  inflating: ./data/departments.csv  \n",
      "  inflating: ./data/__MACOSX/._departments.csv  \n",
      "\n",
      "Archive:  ./data/order_products__prior.csv.zip\n",
      "  inflating: ./data/order_products__prior.csv  \n",
      "  inflating: ./data/__MACOSX/._order_products__prior.csv  \n",
      "\n",
      "Archive:  ./data/order_products__train.csv.zip\n",
      "  inflating: ./data/order_products__train.csv  \n",
      "  inflating: ./data/__MACOSX/._order_products__train.csv  \n",
      "\n",
      "Archive:  ./data/orders.csv.zip\n",
      "  inflating: ./data/orders.csv       \n",
      "  inflating: ./data/__MACOSX/._orders.csv  \n",
      "\n",
      "Archive:  ./data/products.csv.zip\n",
      "  inflating: ./data/products.csv     \n",
      "  inflating: ./data/__MACOSX/._products.csv  \n",
      "\n",
      "Archive:  ./data/sample_submission.csv.zip\n",
      "  inflating: ./data/sample_submission.csv  \n",
      "\n",
      "7 archives were successfully processed.\n"
     ]
    }
   ],
   "source": [
    "!unzip './data/*.zip' -d './data/'"
   ]
  },
  {
   "cell_type": "code",
   "execution_count": 20,
   "metadata": {},
   "outputs": [],
   "source": [
    "!rm ./data/*.zip"
   ]
  }
 ],
 "metadata": {
  "kernelspec": {
   "display_name": "Python 3",
   "language": "python",
   "name": "python3"
  },
  "language_info": {
   "codemirror_mode": {
    "name": "ipython",
    "version": 3
   },
   "file_extension": ".py",
   "mimetype": "text/x-python",
   "name": "python",
   "nbconvert_exporter": "python",
   "pygments_lexer": "ipython3",
   "version": "3.6.8"
  }
 },
 "nbformat": 4,
 "nbformat_minor": 2
}
