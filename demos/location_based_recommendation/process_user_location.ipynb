{
 "cells": [
  {
   "cell_type": "markdown",
   "metadata": {},
   "source": [
    "# Nuclio - Process user location signal"
   ]
  },
  {
   "cell_type": "markdown",
   "metadata": {},
   "source": [
    "## Setup the environment"
   ]
  },
  {
   "cell_type": "code",
   "execution_count": 1,
   "metadata": {},
   "outputs": [],
   "source": [
    "# nuclio: ignore\n",
    "import nuclio"
   ]
  },
  {
   "cell_type": "code",
   "execution_count": 30,
   "metadata": {},
   "outputs": [
    {
     "name": "stdout",
     "output_type": "stream",
     "text": [
      "Requirement already satisfied: v3io_frames in /conda/lib/python3.6/site-packages (0.4.2)\n",
      "Requirement already satisfied: requests>=2.19.1 in /conda/lib/python3.6/site-packages (from v3io_frames) (2.21.0)\n",
      "Requirement already satisfied: grpcio-tools>=1.16.0 in /conda/lib/python3.6/site-packages (from v3io_frames) (1.18.0)\n",
      "Requirement already satisfied: pandas==0.23.* in /conda/lib/python3.6/site-packages (from v3io_frames) (0.23.4)\n",
      "Requirement already satisfied: googleapis-common-protos>=1.5.3 in /conda/lib/python3.6/site-packages (from v3io_frames) (1.5.8)\n",
      "Requirement already satisfied: idna<2.9,>=2.5 in /conda/lib/python3.6/site-packages (from requests>=2.19.1->v3io_frames) (2.8)\n",
      "Requirement already satisfied: urllib3<1.25,>=1.21.1 in /conda/lib/python3.6/site-packages (from requests>=2.19.1->v3io_frames) (1.24.1)\n",
      "Requirement already satisfied: chardet<3.1.0,>=3.0.2 in /conda/lib/python3.6/site-packages (from requests>=2.19.1->v3io_frames) (3.0.4)\n",
      "Requirement already satisfied: certifi>=2017.4.17 in /conda/lib/python3.6/site-packages (from requests>=2.19.1->v3io_frames) (2019.3.9)\n",
      "Requirement already satisfied: protobuf>=3.5.0.post1 in /conda/lib/python3.6/site-packages (from grpcio-tools>=1.16.0->v3io_frames) (3.6.1)\n",
      "Requirement already satisfied: grpcio>=1.18.0 in /conda/lib/python3.6/site-packages (from grpcio-tools>=1.16.0->v3io_frames) (1.18.0)\n",
      "Requirement already satisfied: pytz>=2011k in /conda/lib/python3.6/site-packages (from pandas==0.23.*->v3io_frames) (2018.9)\n",
      "Requirement already satisfied: numpy>=1.9.0 in /conda/lib/python3.6/site-packages (from pandas==0.23.*->v3io_frames) (1.16.2)\n",
      "Requirement already satisfied: python-dateutil>=2.5.0 in /conda/lib/python3.6/site-packages (from pandas==0.23.*->v3io_frames) (2.8.0)\n",
      "Requirement already satisfied: six>=1.9 in /conda/lib/python3.6/site-packages (from protobuf>=3.5.0.post1->grpcio-tools>=1.16.0->v3io_frames) (1.12.0)\n",
      "Requirement already satisfied: setuptools in /conda/lib/python3.6/site-packages (from protobuf>=3.5.0.post1->grpcio-tools>=1.16.0->v3io_frames) (40.8.0)\n",
      "Collecting v3io==0.1.1\n",
      "  Downloading https://files.pythonhosted.org/packages/bc/ef/9339c0420d559c32fe9016345c8993122690a9ff7f5cc402e35ce4003369/v3io-0.1.1.tar.gz\n",
      "Requirement already satisfied: requests==2.21.0 in /conda/lib/python3.6/site-packages (from v3io==0.1.1) (2.21.0)\n",
      "Requirement already satisfied: future==0.17.1 in /conda/lib/python3.6/site-packages (from v3io==0.1.1) (0.17.1)\n",
      "Requirement already satisfied: ujson==1.35 in /User/.pythonlibs/lib/python3.6/site-packages (from v3io==0.1.1) (1.35)\n",
      "Requirement already satisfied: certifi>=2017.4.17 in /conda/lib/python3.6/site-packages (from requests==2.21.0->v3io==0.1.1) (2019.3.9)\n",
      "Requirement already satisfied: idna<2.9,>=2.5 in /conda/lib/python3.6/site-packages (from requests==2.21.0->v3io==0.1.1) (2.8)\n",
      "Requirement already satisfied: urllib3<1.25,>=1.21.1 in /conda/lib/python3.6/site-packages (from requests==2.21.0->v3io==0.1.1) (1.24.1)\n",
      "Requirement already satisfied: chardet<3.1.0,>=3.0.2 in /conda/lib/python3.6/site-packages (from requests==2.21.0->v3io==0.1.1) (3.0.4)\n",
      "Building wheels for collected packages: v3io\n",
      "  Running setup.py bdist_wheel for v3io ... \u001b[?25ldone\n",
      "\u001b[?25h  Stored in directory: /igz/.cache/pip/wheels/16/06/30/71478da3b7ae64df011a3466bcea2653a35ba3c5aa43ca1331\n",
      "Successfully built v3io\n",
      "Installing collected packages: v3io\n",
      "  Found existing installation: v3io 0.0.2\n",
      "    Uninstalling v3io-0.0.2:\n",
      "      Successfully uninstalled v3io-0.0.2\n",
      "Successfully installed v3io-0.1.1\n",
      "Requirement already satisfied: requests in /conda/lib/python3.6/site-packages (2.21.0)\n",
      "Requirement already satisfied: urllib3<1.25,>=1.21.1 in /conda/lib/python3.6/site-packages (from requests) (1.24.1)\n",
      "Requirement already satisfied: chardet<3.1.0,>=3.0.2 in /conda/lib/python3.6/site-packages (from requests) (3.0.4)\n",
      "Requirement already satisfied: certifi>=2017.4.17 in /conda/lib/python3.6/site-packages (from requests) (2019.3.9)\n",
      "Requirement already satisfied: idna<2.9,>=2.5 in /conda/lib/python3.6/site-packages (from requests) (2.8)\n"
     ]
    }
   ],
   "source": [
    "%%nuclio cmd\n",
    "pip install v3io_frames\n",
    "pip install v3io==0.1.1\n",
    "pip install requests\n",
    "pip install pandas\n",
    "# pip install json\n",
    "# pip install time"
   ]
  },
  {
   "cell_type": "code",
   "execution_count": 45,
   "metadata": {},
   "outputs": [
    {
     "name": "stdout",
     "output_type": "stream",
     "text": [
      "%nuclio: setting 'COSTUMERS_TABLE' environment variable\n",
      "%nuclio: setting 'STORES_TABLE' environment variable\n",
      "%nuclio: setting 'PREDICTIONS_TABLE' environment variable\n"
     ]
    }
   ],
   "source": [
    "%%nuclio env\n",
    "COSTUMERS_TABLE=customers\n",
    "STORES_TABLE=stores\n",
    "PREDICTIONS_TABLE=predictions"
   ]
  },
  {
   "cell_type": "code",
   "execution_count": 46,
   "metadata": {},
   "outputs": [],
   "source": [
    "import json\n",
    "import os\n",
    "import requests\n",
    "import time\n",
    "\n",
    "# Data handling\n",
    "import pandas as pd\n",
    "\n",
    "# DB\n",
    "import v3io\n",
    "import v3io.dataplane\n",
    "import v3io.logger\n",
    "import v3io_frames as v3f"
   ]
  },
  {
   "cell_type": "code",
   "execution_count": 62,
   "metadata": {},
   "outputs": [],
   "source": [
    "def init_context(context):\n",
    "    # DB Contexts\n",
    "    \n",
    "    v3c = v3io.dataplane.Context(v3io.logger.Logger('DEBUG')).new_session().new_container('bigdata')\n",
    "    setattr(context, 'v3c', v3c)\n",
    "    \n",
    "    v3c_frames = v3f.Client('http://' + os.environ['V3IO_FRAMESD'])\n",
    "    setattr(context, 'v3f', v3c_frames)\n",
    "    \n",
    "    \n",
    "    # DB Tables\n",
    "    \n",
    "    customers_table = os.environ['COSTUMERS_TABLE']\n",
    "    setattr(context, 'customers', customers_table)\n",
    "    \n",
    "    stores_table = os.environ['STORES_TABLE']\n",
    "    setattr(context, 'stores', stores_table)\n",
    "    \n",
    "    predictions_table = os.environ['PREDICTIONS_TABLE']\n",
    "    setattr(context, 'predictions', predictions_table)\n",
    "    \n",
    "    \n",
    "    # Prediction server\n",
    "    \n",
    "    prediction_server = os.getenv('PREDICTION_SERVER')\n",
    "    setattr(context, 'prediction_server', prediction_server)"
   ]
  },
  {
   "cell_type": "code",
   "execution_count": 63,
   "metadata": {},
   "outputs": [],
   "source": [
    "# nuclio: ignore\n",
    "init_context(context)"
   ]
  },
  {
   "cell_type": "code",
   "execution_count": 61,
   "metadata": {},
   "outputs": [],
   "source": [
    "def handler(context, event):\n",
    "    \n",
    "    # Extract data from event\n",
    "    try:\n",
    "        jevent = json.loads(event.body)\n",
    "    except Exception as e:\n",
    "        context.logger.warn(f'Bad input: {e}')\n",
    "        jevent = {\"location\": '01', \"user_id\": '02'}\n",
    "    user_id = jevent['user_id']\n",
    "    location = jevent['location']\n",
    "\n",
    "    \n",
    "    # Update the customer's new location\n",
    "    update_customer_location(context, user_id, location)\n",
    "\n",
    "    \n",
    "    # Check if store location exists\n",
    "    is_store, store = is_user_in_store(location)\n",
    "    if not is_store:\n",
    "        return _build_response(context, json.dumps({'intersection': False, 'is_store': is_store, 'store': store}), 200)\n",
    "\n",
    "    resp = store\n",
    "\n",
    "    \n",
    "    # Get prediction from server\n",
    "    prediction_url = \"{0}{1}\".format(context.prediction_server, user_id)\n",
    "    predictions = requests.get(prediction_url)\n",
    "    try:\n",
    "        prediction_result = pd.DataFrame(predictions.json())\n",
    "    except:\n",
    "        prediction_result = {'prediction': 'None', 'product_id': 0}\n",
    "        \n",
    "        \n",
    "    # Save prediction\n",
    "    save_predictions(context, user_id, prediction_result)\n",
    "\n",
    "    \n",
    "    # Return response\n",
    "    resp = {\n",
    "        'user_id': user_id,\n",
    "        'location': location,\n",
    "        'is_store': is_store,\n",
    "        'predictions': prediction_result,\n",
    "    }\n",
    "\n",
    "    return _build_response(context, json.dumps(resp), 200)\n",
    "\n",
    "def _build_response(context, body, status_code):\n",
    "    return context.Response(body=body,\n",
    "                            headers={},\n",
    "                            content_type='application/json',\n",
    "                            status_code=status_code)\n",
    "\n",
    "def is_user_in_store(context, store_location: str) -> bool:\n",
    "    store = v3io.dataplane.GetItemInput(v3io.common.helpers.url_join(context.stores, store_location))\n",
    "    store = context.v3c.get_item(store)\n",
    "    if store.status_code == 200:\n",
    "        return True, store.output.item\n",
    "    else:\n",
    "        return False, {}\n",
    "\n",
    "def get_customer(context, customer_id: str):\n",
    "    customer = v3io.dataplane.PutItemInput(v3io.common.helpers.url_join(context.customers, customer_id))\n",
    "    customer = context.v3c.put_item(customer)\n",
    "    \n",
    "    return customer.output.item\n",
    "\n",
    "def update_customer_location(context, customer_id: str, location: str):\n",
    "    customer = v3io.dataplane.UpdateItemInput(v3io.common.helpers.url_join(context.customers, customer_id), \n",
    "                                              {'location': location})\n",
    "    customer = context.v3c.update_item(customer)\n",
    "    \n",
    "    return customer.item\n",
    "\n",
    "def save_predictions(context, customer_id: str, prediction: pd.DataFrame):\n",
    "    context.v3f.write('tsdb', context.predictions, prediction)"
   ]
  }
 ],
 "metadata": {
  "kernelspec": {
   "display_name": "Python 3",
   "language": "python",
   "name": "python3"
  },
  "language_info": {
   "codemirror_mode": {
    "name": "ipython",
    "version": 3
   },
   "file_extension": ".py",
   "mimetype": "text/x-python",
   "name": "python",
   "nbconvert_exporter": "python",
   "pygments_lexer": "ipython3",
   "version": "3.6.8"
  }
 },
 "nbformat": 4,
 "nbformat_minor": 2
}
