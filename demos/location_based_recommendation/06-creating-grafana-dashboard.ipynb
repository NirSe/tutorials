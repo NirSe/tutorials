{
 "cells": [
  {
   "cell_type": "markdown",
   "metadata": {},
   "source": [
    "# Creating the Grafana dashboard"
   ]
  },
  {
   "cell_type": "markdown",
   "metadata": {},
   "source": [
    "Go to the services screen\n",
    "\n",
    "Create Grafana service or use an existing one\n",
    "\n",
    "Open up the Grafana service (click on the HTTPS link)\n",
    "\n",
    "Click on + and then \"Import\"\n",
    "\n",
    "On the righ hand side - click on the Upload .Json file\n",
    "\n",
    "Upload the Json file under location_based_recommendation/dashboards\n",
    "\n",
    "It could take few minutes till the data will be displayed in the dashboard \n"
   ]
  },
  {
   "cell_type": "code",
   "execution_count": null,
   "metadata": {},
   "outputs": [],
   "source": []
  }
 ],
 "metadata": {
  "kernelspec": {
   "display_name": "Python 3",
   "language": "python",
   "name": "python3"
  },
  "language_info": {
   "codemirror_mode": {
    "name": "ipython",
    "version": 3
   },
   "file_extension": ".py",
   "mimetype": "text/x-python",
   "name": "python",
   "nbconvert_exporter": "python",
   "pygments_lexer": "ipython3",
   "version": "3.6.8"
  }
 },
 "nbformat": 4,
 "nbformat_minor": 2
}
