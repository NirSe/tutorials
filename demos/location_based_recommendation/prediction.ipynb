{
 "cells": [
  {
   "cell_type": "markdown",
   "metadata": {},
   "source": [
    "# Nuclio - prediction function"
   ]
  },
  {
   "cell_type": "markdown",
   "metadata": {},
   "source": [
    "## Setup the environment"
   ]
  },
  {
   "cell_type": "code",
   "execution_count": 4,
   "metadata": {},
   "outputs": [],
   "source": [
    "# nuclio: ignore\n",
    "import nuclio"
   ]
  },
  {
   "cell_type": "markdown",
   "metadata": {},
   "source": [
    "### Set environment variables"
   ]
  },
  {
   "cell_type": "code",
   "execution_count": 100,
   "metadata": {},
   "outputs": [
    {
     "name": "stdout",
     "output_type": "stream",
     "text": [
      "%nuclio: setting 'FRAMESD' environment variable\n",
      "%nuclio: setting 'V3IO_USERNAME' environment variable\n",
      "%nuclio: setting 'V3IO_ACCESS_KEY' environment variable\n",
      "%nuclio: setting 'MODEL_FILE' environment variable\n",
      "%nuclio: setting 'MODEL_FILEPATH' environment variable\n",
      "%nuclio: setting 'NUM_OF_PRODUCTS_TO_RETURN' environment variable\n",
      "%nuclio: setting 'CUSTOMERS_TABLE' environment variable\n"
     ]
    }
   ],
   "source": [
    "# Iguazio access\n",
    "%nuclio env FRAMESD=${V3IO_FRAMESD}\n",
    "%nuclio env V3IO_USERNAME=${V3IO_USERNAME}\n",
    "%nuclio env V3IO_ACCESS_KEY=${V3IO_ACCESS_KEY}\n",
    "\n",
    "# Model handling\n",
    "%nuclio env MODEL_FILE=lgb.model\n",
    "%nuclio env -c MODEL_FILEPATH=/tmp/mlmodel/${MODEL_FILE}\n",
    "%nuclio env -l MODEL_FILEPATH=models/trained/${MODEL_FILE}\n",
    "\n",
    "# Function variables\n",
    "%nuclio env NUM_OF_PRODUCTS_TO_RETURN=4\n",
    "%nuclio env CUSTOMERS_TABLE=customers"
   ]
  },
  {
   "cell_type": "markdown",
   "metadata": {},
   "source": [
    "### Base image"
   ]
  },
  {
   "cell_type": "code",
   "execution_count": 301,
   "metadata": {},
   "outputs": [
    {
     "name": "stdout",
     "output_type": "stream",
     "text": [
      "%nuclio: setting spec.build.baseImage to 'python:3.6-jessie'\n"
     ]
    }
   ],
   "source": [
    "%nuclio config spec.build.baseImage = \"python:3.6-jessie\""
   ]
  },
  {
   "cell_type": "markdown",
   "metadata": {},
   "source": [
    "### Installations"
   ]
  },
  {
   "cell_type": "code",
   "execution_count": 302,
   "metadata": {},
   "outputs": [
    {
     "name": "stdout",
     "output_type": "stream",
     "text": [
      "Requirement already satisfied: requests in /conda/lib/python3.6/site-packages (2.21.0)\n",
      "Requirement already satisfied: idna<2.9,>=2.5 in /conda/lib/python3.6/site-packages (from requests) (2.8)\n",
      "Requirement already satisfied: chardet<3.1.0,>=3.0.2 in /conda/lib/python3.6/site-packages (from requests) (3.0.4)\n",
      "Requirement already satisfied: certifi>=2017.4.17 in /conda/lib/python3.6/site-packages (from requests) (2019.3.9)\n",
      "Requirement already satisfied: urllib3<1.25,>=1.21.1 in /conda/lib/python3.6/site-packages (from requests) (1.24.1)\n",
      "Requirement already satisfied: pandas in /conda/lib/python3.6/site-packages (0.23.4)\n",
      "Requirement already satisfied: python-dateutil>=2.5.0 in /conda/lib/python3.6/site-packages (from pandas) (2.8.0)\n",
      "Requirement already satisfied: pytz>=2011k in /conda/lib/python3.6/site-packages (from pandas) (2018.9)\n",
      "Requirement already satisfied: numpy>=1.9.0 in /conda/lib/python3.6/site-packages (from pandas) (1.16.2)\n",
      "Requirement already satisfied: six>=1.5 in /conda/lib/python3.6/site-packages (from python-dateutil>=2.5.0->pandas) (1.12.0)\n",
      "Requirement already satisfied: lightgbm in /User/.pythonlibs/lib/python3.6/site-packages (2.2.3)\n",
      "Requirement already satisfied: scikit-learn in /conda/lib/python3.6/site-packages (from lightgbm) (0.20.2)\n",
      "Requirement already satisfied: numpy in /conda/lib/python3.6/site-packages (from lightgbm) (1.16.2)\n",
      "Requirement already satisfied: scipy in /conda/lib/python3.6/site-packages (from lightgbm) (1.2.1)\n",
      "Requirement already satisfied: v3io_frames in /conda/lib/python3.6/site-packages (0.4.2)\n",
      "Requirement already satisfied: googleapis-common-protos>=1.5.3 in /conda/lib/python3.6/site-packages (from v3io_frames) (1.5.8)\n",
      "Requirement already satisfied: requests>=2.19.1 in /conda/lib/python3.6/site-packages (from v3io_frames) (2.21.0)\n",
      "Requirement already satisfied: grpcio-tools>=1.16.0 in /conda/lib/python3.6/site-packages (from v3io_frames) (1.18.0)\n",
      "Requirement already satisfied: pandas==0.23.* in /conda/lib/python3.6/site-packages (from v3io_frames) (0.23.4)\n",
      "Requirement already satisfied: protobuf>=3.6.0 in /conda/lib/python3.6/site-packages (from googleapis-common-protos>=1.5.3->v3io_frames) (3.6.1)\n",
      "Requirement already satisfied: idna<2.9,>=2.5 in /conda/lib/python3.6/site-packages (from requests>=2.19.1->v3io_frames) (2.8)\n",
      "Requirement already satisfied: urllib3<1.25,>=1.21.1 in /conda/lib/python3.6/site-packages (from requests>=2.19.1->v3io_frames) (1.24.1)\n",
      "Requirement already satisfied: chardet<3.1.0,>=3.0.2 in /conda/lib/python3.6/site-packages (from requests>=2.19.1->v3io_frames) (3.0.4)\n",
      "Requirement already satisfied: certifi>=2017.4.17 in /conda/lib/python3.6/site-packages (from requests>=2.19.1->v3io_frames) (2019.3.9)\n",
      "Requirement already satisfied: grpcio>=1.18.0 in /conda/lib/python3.6/site-packages (from grpcio-tools>=1.16.0->v3io_frames) (1.18.0)\n",
      "Requirement already satisfied: python-dateutil>=2.5.0 in /conda/lib/python3.6/site-packages (from pandas==0.23.*->v3io_frames) (2.8.0)\n",
      "Requirement already satisfied: numpy>=1.9.0 in /conda/lib/python3.6/site-packages (from pandas==0.23.*->v3io_frames) (1.16.2)\n",
      "Requirement already satisfied: pytz>=2011k in /conda/lib/python3.6/site-packages (from pandas==0.23.*->v3io_frames) (2018.9)\n",
      "Requirement already satisfied: six>=1.9 in /conda/lib/python3.6/site-packages (from protobuf>=3.6.0->googleapis-common-protos>=1.5.3->v3io_frames) (1.12.0)\n",
      "Requirement already satisfied: setuptools in /conda/lib/python3.6/site-packages (from protobuf>=3.6.0->googleapis-common-protos>=1.5.3->v3io_frames) (40.8.0)\n"
     ]
    }
   ],
   "source": [
    "%%nuclio cmd  \n",
    "pip install requests\n",
    "pip install pandas\n",
    "pip install lightgbm\n",
    "pip install v3io_frames"
   ]
  },
  {
   "cell_type": "markdown",
   "metadata": {},
   "source": [
    "### Imports"
   ]
  },
  {
   "cell_type": "code",
   "execution_count": 303,
   "metadata": {},
   "outputs": [],
   "source": [
    "# Util\n",
    "import os\n",
    "import json\n",
    "import requests\n",
    "import datetime\n",
    "\n",
    "# Function\n",
    "import pandas as pd\n",
    "import lightgbm as lgb\n",
    "\n",
    "# DB\n",
    "import v3io_frames as v3f"
   ]
  },
  {
   "cell_type": "markdown",
   "metadata": {},
   "source": [
    "## Function code"
   ]
  },
  {
   "cell_type": "markdown",
   "metadata": {},
   "source": [
    "### Init context"
   ]
  },
  {
   "cell_type": "code",
   "execution_count": 304,
   "metadata": {},
   "outputs": [],
   "source": [
    "def init_context(context):\n",
    "    # define DB\n",
    "    client = v3f.Client('http://' + os.environ['FRAMESD'])\n",
    "    setattr(context, 'client', client)\n",
    "    \n",
    "    setattr(context, 'customers_table', os.environ['CUSTOMERS_TABLE'])\n",
    "    \n",
    "    # define Model\n",
    "    model = lgb.Booster(model_file=os.environ['MODEL_FILEPATH'])\n",
    "    setattr(context, 'model', model)\n",
    "    \n",
    "    # vars\n",
    "    setattr(context, 'k', int(os.environ['NUM_OF_PRODUCTS_TO_RETURN']))"
   ]
  },
  {
   "cell_type": "markdown",
   "metadata": {},
   "source": [
    "### Format dataframe for prediction"
   ]
  },
  {
   "cell_type": "code",
   "execution_count": 305,
   "metadata": {},
   "outputs": [],
   "source": [
    "def prepare_df(df):\n",
    "    # Extract features col\n",
    "    keep_cols = ['products']\n",
    "    df = df.loc[:, keep_cols]\n",
    "    \n",
    "    # Create features df\n",
    "    df = pd.read_json(df.values[0][0])\n",
    "    return df"
   ]
  },
  {
   "cell_type": "code",
   "execution_count": 306,
   "metadata": {},
   "outputs": [],
   "source": [
    "def handler(context, event):\n",
    "\n",
    "    # Get user parameters\n",
    "    df = context.client.read('kv', context.customers_table, filter=f'id=={event.body[\"id\"]}').reset_index()\n",
    "\n",
    "    # Do we have features for the user?\n",
    "    if not df.empty:\n",
    "                             \n",
    "        # Create features df for the user\n",
    "        df = prepare_df(df)\n",
    "                            \n",
    "        # Predict\n",
    "        df[\"prediction\"] = context.model.predict(df)\n",
    "                             \n",
    "        # Eliminate low confidence results\n",
    "        df = df.loc[df.prediction > 0.01, ['prediction', 'product_id']]\n",
    "\n",
    "        # Keep top products\n",
    "        df.sort_values(by='prediction', ascending=False, inplace=True)\n",
    "        best_products = df.iloc[:context.k, :]\n",
    "\n",
    "\n",
    "        return json.dumps(best_products.to_json())\n",
    "    return json.dumps({})"
   ]
  },
  {
   "cell_type": "code",
   "execution_count": 307,
   "metadata": {},
   "outputs": [],
   "source": [
    "# nuclio: ignore\n",
    "init_context(context)"
   ]
  },
  {
   "cell_type": "code",
   "execution_count": 308,
   "metadata": {},
   "outputs": [
    {
     "data": {
      "text/plain": [
       "'\"{\\\\\"prediction\\\\\":{\\\\\"17167\\\\\":0.4740774152,\\\\\"566\\\\\":0.2751968181},\\\\\"product_id\\\\\":{\\\\\"17167\\\\\":47209,\\\\\"566\\\\\":22035}}\"'"
      ]
     },
     "execution_count": 308,
     "metadata": {},
     "output_type": "execute_result"
    }
   ],
   "source": [
    "# nuclio: ignore\n",
    "event = nuclio.Event(body={'id': '1232'})\n",
    "handler(context, event)"
   ]
  },
  {
   "cell_type": "code",
   "execution_count": 309,
   "metadata": {},
   "outputs": [
    {
     "name": "stdout",
     "output_type": "stream",
     "text": [
      "[nuclio.deploy] 2019-04-23 11:29:23,064 (info) Building processor image\n",
      "[nuclio.deploy] 2019-04-23 11:29:59,475 (info) Pushing image\n",
      "[nuclio.deploy] 2019-04-23 11:30:06,545 (info) Build complete\n",
      "[nuclio.deploy] 2019-04-23 11:30:38,892 (warn) Create function failed failed, setting function status\n",
      "[nuclio.deploy] 2019-04-23 11:30:38,893 \n",
      "Error - NuclioFunction in error state (\n",
      "Error - context deadline exceeded\n",
      "    .../platform/kube/controller/nucliofunction.go:122\n",
      "\n",
      "Call stack:\n",
      "Failed to wait for function resources to be available\n",
      "    .../platform/kube/controller/nucliofunction.go:122\n",
      ")\n",
      "    .../nuclio/nuclio/pkg/platform/kube/deployer.go:185\n",
      "\n",
      "Call stack:\n",
      "NuclioFunction in error state (\n",
      "Error - context deadline exceeded\n",
      "    .../platform/kube/controller/nucliofunction.go:122\n",
      "\n",
      "Call stack:\n",
      "Failed to wait for function resources to be available\n",
      "    .../platform/kube/controller/nucliofunction.go:122\n",
      ")\n",
      "    .../nuclio/nuclio/pkg/platform/kube/deployer.go:185\n",
      "Failed to wait for function readiness.\n",
      "\n",
      "Pod logs:\n",
      "\n",
      "* prediction-server-598dcbfc7b-mgw8r\n",
      "{\"level\":\"debug\",\"time\":\"2019-04-23T11:30:37.992Z\",\"name\":\"processor\",\"message\":\"Read configuration\",\"more\":\"config=&{Config:{Meta:{Name:prediction-server Namespace:default-tenant Labels:map[] Annotations:map[nuclio.io/generated_by:function generated at 23-04-2019 by iguazio from /User/tutorials/demos/location_based_recommendation/prediction.ipynb]} Spec:{Description: Disabled:false Publish:false Handler:prediction:handler Runtime:python:3.6 Env:[{Name:FRAMESD Value:framesd.default-tenant.svc:8080 ValueFrom:nil} {Name:V3IO_USERNAME Value:iguazio ValueFrom:nil} {Name:V3IO_ACCESS_KEY Value:bcbede79-a0fd-49ea-a1ad-fae51d4fc708 ValueFrom:nil} {Name:MODEL_FILE Value:lgb.model ValueFrom:nil} {Name:MODEL_FILEPATH Value:/tmp/mlmodel/lgb.model ValueFrom:nil} {Name:NUM_OF_PRODUCTS_TO_RETURN Value:4 ValueFrom:nil} {Name:CUSTOMERS_TABLE Value:customers ValueFrom:nil}] Resources:{Limits:map[] Requests:map[]} Image:docker-registry.default-tenant.app.cudixcecbqle.iguazio-cd2.com:80/nuclio/processor-prediction-server:latest ImageHash:1556018959013321981 Replicas:0 MinReplicas:0 MaxReplicas:0 TargetCPU:0 DataBindings:map[] Triggers:map[] Volumes:[] Version:-1 Alias:latest Build:{Path: FunctionSourceCode:IyBHZW5lcmF0ZWQgYnkgbnVjbGlvLmV4cG9ydC5OdWNsaW9FeHBvcnRlciBvbiAyMDE5LTA0LTIzIDExOjI5CgoKCgoKaW1wb3J0IG9zCmltcG9ydCBqc29uCmltcG9ydCByZXF1ZXN0cwppbXBvcnQgZGF0ZXRpbWUKCmltcG9ydCBwYW5kYXMgYXMgcGQKaW1wb3J0IGxpZ2h0Z2JtIGFzIGxnYgoKaW1wb3J0IHYzaW9fZnJhbWVzIGFzIHYzZgoKZGVmIGluaXRfY29udGV4dChjb250ZXh0KToKICAgIGNsaWVudCA9IHYzZi5DbGllbnQoJ2h0dHA6Ly8nICsgb3MuZW52aXJvblsnRlJBTUVTRCddKQogICAgc2V0YXR0cihjb250ZXh0LCAnY2xpZW50JywgY2xpZW50KQogICAgCiAgICBzZXRhdHRyKGNvbnRleHQsICdjdXN0b21lcnNfdGFibGUnLCBvcy5lbnZpcm9uWydDVVNUT01FUlNfVEFCTEUnXSkKICAgIAogICAgbW9kZWwgPSBsZ2IuQm9vc3Rlcihtb2RlbF9maWxlPW9zLmVudmlyb25bJ01PREVMX0ZJTEVQQVRIJ10pCiAgICBzZXRhdHRyKGNvbnRleHQsICdtb2RlbCcsIG1vZGVsKQogICAgCiAgICBzZXRhdHRyKGNvbnRleHQsICdrJywgaW50KG9zLmVudmlyb25bJ05VTV9PRl9QUk9EVUNUU19UT19SRVRVUk4nXSkpCgpkZWYgcHJlcGFyZV9kZihkZik6CiAgICBrZWVwX2NvbHMgPSBbJ3Byb2R1Y3RzJ10KICAgIGRmID0gZGYubG9jWzosIGtlZXBfY29sc10KICAgIAogICAgZGYgPSBwZC5yZWFkX2pzb24oZGYudmFsdWVzWzBdWzBdKQogICAgcmV0dXJuIGRmCgpkZWYgaGFuZGxlcihjb250ZXh0LCBldmVudCk6CgogICAgZGYgPSBjb250ZXh0LmNsaWVudC5yZWFkKCdrdicsIGNvbnRleHQuY3VzdG9tZXJzX3RhYmxlLCBmaWx0ZXI9ZidpZD09e2V2ZW50LmJvZHlbImlkIl19JykucmVzZXRfaW5kZXgoKQoKICAgIGlmIG5vdCBkZi5lbXB0eToKICAgICAgICAgICAgICAgICAgICAgICAgICAgICAKICAgICAgICBkZiA9IHByZXBhcmVfZGYoZGYpCiAgICAgICAgICAgICAgICAgICAgICAgICAgICAKICAgICAgICBkZlsicHJlZGljdGlvbiJdID0gY29udGV4dC5tb2RlbC5wcmVkaWN0KGRmKQogICAgICAgICAgICAgICAgICAgICAgICAgICAgIAogICAgICAgIGRmID0gZGYubG9jW2RmLnByZWRpY3Rpb24gPiAwLjAxLCBbJ3ByZWRpY3Rpb24nLCAncHJvZHVjdF9pZCddXQoKICAgICAgICBkZi5zb3J0X3ZhbHVlcyhieT0ncHJlZGljdGlvbicsIGFzY2VuZGluZz1GYWxzZSwgaW5wbGFjZT1UcnVlKQogICAgICAgIGJlc3RfcHJvZHVjdHMgPSBkZi5pbG9jWzpjb250ZXh0LmssIDpdCgoKICAgICAgICByZXR1cm4ganNvbi5kdW1wcyhiZXN0X3Byb2R1Y3RzLnRvX2pzb24oKSkKICAgIHJldHVybiBqc29uLmR1bXBzKHt9KQoK FunctionConfigPath: TempDir: Registry:docker-registry.default-tenant.app.cudixcecbqle.iguazio-cd2.com:80 Image: NoBaseImagesPull:false NoCache:false NoCleanup:false BaseImage:python:3.6-jessie Commands:[pip install requests pip install pandas pip install lightgbm pip install v3io_frames] Directives:map[] ScriptPaths:[] AddedObjectPaths:map[] Dependencies:[] OnbuildImage: Offline:false RuntimeAttributes:map[] CodeEntryType: CodeEntryAttributes:map[] Timestamp:1556019006 Mode:} RunRegistry:docker-registry.default-tenant.app.cudixcecbqle.iguazio-cd2.com:80 RuntimeAttributes:map[] LoggerSinks:[] DealerURI: Platform:{Attributes:map[]} ReadinessTimeoutSeconds:0 Avatar: ServiceType:NodePort ImagePullPolicy:}} PlatformConfig:<nil>} || platformConfig=&{Kind:kube WebAdmin:{Enabled:<nil> ListenAddress:} HealthCheck:{Enabled:<nil> ListenAddress:} Logger:{Sinks:map[myStdoutLoggerSink:{Kind:stdout URL: Attributes:map[encoding:json timeFieldEncoding:iso8601 timeFieldName:time varGroupName:more]}] System:[{Level:debug Sink:myStdoutLoggerSink}] Functions:[{Level:debug Sink:myStdoutLoggerSink}]} Metrics:{Sinks:map[] System:[] Functions:[]} ScaleToZero:{MetricName: WindowSize: PollerInterval: ScalerInterval:} AutoScale:{MetricName: TargetValue:} FunctionAugmentedConfigs:[]}\"\n",
      "\"level\":\"debug\",\"time\":\"2019-04-23T11:30:37.992Z\",\"name\":\"processor\",\"message\":\"Creating default HTTP event source\",\"more\":\"configuration=&{Class:sync Kind:http Disabled:false MaxWorkers:1 URL::8080 Paths:[] Username: Password: Secret: Partitions:[] Annotations:map[] WorkerAvailabilityTimeoutMilliseconds:0 WorkerAllocatorName:defaultHTTPWorkerAllocator TotalTasks:0 MaxTaskAllocation:0 Attributes:map[]}\"\n",
      "\"level\":\"debug\",\"time\":\"2019-04-23T11:30:37.992Z\",\"name\":\"processor.http\",\"message\":\"Creating worker pool\",\"more\":\"num=1\"\n",
      "\"level\":\"debug\",\"time\":\"2019-04-23T11:30:37.992Z\",\"name\":\"processor.http.w0.python.logger\",\"message\":\"Creating listener socket\",\"more\":\"path=/tmp/nuclio-rpc-bivfenare5ig00c7huqg.sock\"\n",
      "\"level\":\"debug\",\"time\":\"2019-04-23T11:30:37.992Z\",\"name\":\"processor.http.w0.python.logger\",\"message\":\"Using Python wrapper script path\",\"more\":\"path=/opt/nuclio/_nuclio_wrapper.py\"\n",
      "\"level\":\"debug\",\"time\":\"2019-04-23T11:30:37.992Z\",\"name\":\"processor.http.w0.python.logger\",\"message\":\"Using Python handler\",\"more\":\"handler=prediction:handler\"\n",
      "\"level\":\"debug\",\"time\":\"2019-04-23T11:30:37.992Z\",\"name\":\"processor.http.w0.python.logger\",\"message\":\"Using Python executable\",\"more\":\"path=/usr/local/bin/python3\"\n",
      "\"level\":\"debug\",\"time\":\"2019-04-23T11:30:37.992Z\",\"name\":\"processor.http.w0.python.logger\",\"message\":\"Setting PYTHONPATH\",\"more\":\"value=PYTHONPATH=/opt/nuclio\"\n",
      "\"level\":\"debug\",\"time\":\"2019-04-23T11:30:37.992Z\",\"name\":\"processor.http.w0.python.logger\",\"message\":\"Running wrapper\",\"more\":\"command=/usr/local/bin/python3 -u /opt/nuclio/_nuclio_wrapper.py --handler prediction:handler --socket-path /tmp/nuclio-rpc-bivfenare5ig00c7huqg.sock --platform-kind kube --namespace default-tenant --worker-id 0 --trigger-name defaultHTTPWorkerAllocator\"}\n",
      "    .../nuclio/nuclio/pkg/platform/kube/deployer.go:157\n",
      "Failed to wait for function readiness.\n",
      "\n",
      "Pod logs:\n",
      "\n",
      "* prediction-server-598dcbfc7b-mgw8r\n",
      "{\"level\":\"debug\",\"time\":\"2019-04-23T11:30:37.992Z\",\"name\":\"processor\",\"message\":\"Read configuration\",\"more\":\"config=&{Config:{Meta:{Name:prediction-server Namespace:default-tenant Labels:map[] Annotations:map[nuclio.io/generated_by:function generated at 23-04-2019 by iguazio from /User/tutorials/demos/location_based_recommendation/prediction.ipynb]} Spec:{Description: Disabled:false Publish:false Handler:prediction:handler Runtime:python:3.6 Env:[{Name:FRAMESD Value:framesd.default-tenant.svc:8080 ValueFrom:nil} {Name:V3IO_USERNAME Value:iguazio ValueFrom:nil} {Name:V3IO_ACCESS_KEY Value:bcbede79-a0fd-49ea-a1ad-fae51d4fc708 ValueFrom:nil} {Name:MODEL_FILE Value:lgb.model ValueFrom:nil} {Name:MODEL_FILEPATH Value:/tmp/mlmodel/lgb.model ValueFrom:nil} {Name:NUM_OF_PRODUCTS_TO_RETURN Value:4 ValueFrom:nil} {Name:CUSTOMERS_TABLE Value:customers ValueFrom:nil}] Resources:{Limits:map[] Requests:map[]} Image:docker-registry.default-tenant.app.cudixcecbqle.iguazio-cd2.com:80/nuclio/processor-prediction-server:latest ImageHash:1556018959013321981 Replicas:0 MinReplicas:0 MaxReplicas:0 TargetCPU:0 DataBindings:map[] Triggers:map[] Volumes:[] Version:-1 Alias:latest Build:{Path: FunctionSourceCode:IyBHZW5lcmF0ZWQgYnkgbnVjbGlvLmV4cG9ydC5OdWNsaW9FeHBvcnRlciBvbiAyMDE5LTA0LTIzIDExOjI5CgoKCgoKaW1wb3J0IG9zCmltcG9ydCBqc29uCmltcG9ydCByZXF1ZXN0cwppbXBvcnQgZGF0ZXRpbWUKCmltcG9ydCBwYW5kYXMgYXMgcGQKaW1wb3J0IGxpZ2h0Z2JtIGFzIGxnYgoKaW1wb3J0IHYzaW9fZnJhbWVzIGFzIHYzZgoKZGVmIGluaXRfY29udGV4dChjb250ZXh0KToKICAgIGNsaWVudCA9IHYzZi5DbGllbnQoJ2h0dHA6Ly8nICsgb3MuZW52aXJvblsnRlJBTUVTRCddKQogICAgc2V0YXR0cihjb250ZXh0LCAnY2xpZW50JywgY2xpZW50KQogICAgCiAgICBzZXRhdHRyKGNvbnRleHQsICdjdXN0b21lcnNfdGFibGUnLCBvcy5lbnZpcm9uWydDVVNUT01FUlNfVEFCTEUnXSkKICAgIAogICAgbW9kZWwgPSBsZ2IuQm9vc3Rlcihtb2RlbF9maWxlPW9zLmVudmlyb25bJ01PREVMX0ZJTEVQQVRIJ10pCiAgICBzZXRhdHRyKGNvbnRleHQsICdtb2RlbCcsIG1vZGVsKQogICAgCiAgICBzZXRhdHRyKGNvbnRleHQsICdrJywgaW50KG9zLmVudmlyb25bJ05VTV9PRl9QUk9EVUNUU19UT19SRVRVUk4nXSkpCgpkZWYgcHJlcGFyZV9kZihkZik6CiAgICBrZWVwX2NvbHMgPSBbJ3Byb2R1Y3RzJ10KICAgIGRmID0gZGYubG9jWzosIGtlZXBfY29sc10KICAgIAogICAgZGYgPSBwZC5yZWFkX2pzb24oZGYudmFsdWVzWzBdWzBdKQogICAgcmV0dXJuIGRmCgpkZWYgaGFuZGxlcihjb250ZXh0LCBldmVudCk6CgogICAgZGYgPSBjb250ZXh0LmNsaWVudC5yZWFkKCdrdicsIGNvbnRleHQuY3VzdG9tZXJzX3RhYmxlLCBmaWx0ZXI9ZidpZD09e2V2ZW50LmJvZHlbImlkIl19JykucmVzZXRfaW5kZXgoKQoKICAgIGlmIG5vdCBkZi5lbXB0eToKICAgICAgICAgICAgICAgICAgICAgICAgICAgICAKICAgICAgICBkZiA9IHByZXBhcmVfZGYoZGYpCiAgICAgICAgICAgICAgICAgICAgICAgICAgICAKICAgICAgICBkZlsicHJlZGljdGlvbiJdID0gY29udGV4dC5tb2RlbC5wcmVkaWN0KGRmKQogICAgICAgICAgICAgICAgICAgICAgICAgICAgIAogICAgICAgIGRmID0gZGYubG9jW2RmLnByZWRpY3Rpb24gPiAwLjAxLCBbJ3ByZWRpY3Rpb24nLCAncHJvZHVjdF9pZCddXQoKICAgICAgICBkZi5zb3J0X3ZhbHVlcyhieT0ncHJlZGljdGlvbicsIGFzY2VuZGluZz1GYWxzZSwgaW5wbGFjZT1UcnVlKQogICAgICAgIGJlc3RfcHJvZHVjdHMgPSBkZi5pbG9jWzpjb250ZXh0LmssIDpdCgoKICAgICAgICByZXR1cm4ganNvbi5kdW1wcyhiZXN0X3Byb2R1Y3RzLnRvX2pzb24oKSkKICAgIHJldHVybiBqc29uLmR1bXBzKHt9KQoK FunctionConfigPath: TempDir: Registry:docker-registry.default-tenant.app.cudixcecbqle.iguazio-cd2.com:80 Image: NoBaseImagesPull:false NoCache:false NoCleanup:false BaseImage:python:3.6-jessie Commands:[pip install requests pip install pandas pip install lightgbm pip install v3io_frames] Directives:map[] ScriptPaths:[] AddedObjectPaths:map[] Dependencies:[] OnbuildImage: Offline:false RuntimeAttributes:map[] CodeEntryType: CodeEntryAttributes:map[] Timestamp:1556019006 Mode:} RunRegistry:docker-registry.default-tenant.app.cudixcecbqle.iguazio-cd2.com:80 RuntimeAttributes:map[] LoggerSinks:[] DealerURI: Platform:{Attributes:map[]} ReadinessTimeoutSeconds:0 Avatar: ServiceType:NodePort ImagePullPolicy:}} PlatformConfig:<nil>} || platformConfig=&{Kind:kube WebAdmin:{Enabled:<nil> ListenAddress:} HealthCheck:{Enabled:<nil> ListenAddress:} Logger:{Sinks:map[myStdoutLoggerSink:{Kind:stdout URL: Attributes:map[encoding:json timeFieldEncoding:iso8601 timeFieldName:time varGroupName:more]}] System:[{Level:debug Sink:myStdoutLoggerSink}] Functions:[{Level:debug Sink:myStdoutLoggerSink}]} Metrics:{Sinks:map[] System:[] Functions:[]} ScaleToZero:{MetricName: WindowSize: PollerInterval: ScalerInterval:} AutoScale:{MetricName: TargetValue:} FunctionAugmentedConfigs:[]}\"\n",
      "\"level\":\"debug\",\"time\":\"2019-04-23T11:30:37.992Z\",\"name\":\"processor\",\"message\":\"Creating default HTTP event source\",\"more\":\"configuration=&{Class:sync Kind:http Disabled:false MaxWorkers:1 URL::8080 Paths:[] Username: Password: Secret: Partitions:[] Annotations:map[] WorkerAvailabilityTimeoutMilliseconds:0 WorkerAllocatorName:defaultHTTPWorkerAllocator TotalTasks:0 MaxTaskAllocation:0 Attributes:map[]}\"\n",
      "\"level\":\"debug\",\"time\":\"2019-04-23T11:30:37.992Z\",\"name\":\"processor.http\",\"message\":\"Creating worker pool\",\"more\":\"num=1\"\n",
      "\"level\":\"debug\",\"time\":\"2019-04-23T11:30:37.992Z\",\"name\":\"processor.http.w0.python.logger\",\"message\":\"Creating listener socket\",\"more\":\"path=/tmp/nuclio-rpc-bivfenare5ig00c7huqg.sock\"\n",
      "\"level\":\"debug\",\"time\":\"2019-04-23T11:30:37.992Z\",\"name\":\"processor.http.w0.python.logger\",\"message\":\"Using Python wrapper script path\",\"more\":\"path=/opt/nuclio/_nuclio_wrapper.py\"\n",
      "\"level\":\"debug\",\"time\":\"2019-04-23T11:30:37.992Z\",\"name\":\"processor.http.w0.python.logger\",\"message\":\"Using Python handler\",\"more\":\"handler=prediction:handler\"\n",
      "\"level\":\"debug\",\"time\":\"2019-04-23T11:30:37.992Z\",\"name\":\"processor.http.w0.python.logger\",\"message\":\"Using Python executable\",\"more\":\"path=/usr/local/bin/python3\"\n",
      "\"level\":\"debug\",\"time\":\"2019-04-23T11:30:37.992Z\",\"name\":\"processor.http.w0.python.logger\",\"message\":\"Setting PYTHONPATH\",\"more\":\"value=PYTHONPATH=/opt/nuclio\"\n",
      "\"level\":\"debug\",\"time\":\"2019-04-23T11:30:37.992Z\",\"name\":\"processor.http.w0.python.logger\",\"message\":\"Running wrapper\",\"more\":\"command=/usr/local/bin/python3 -u /opt/nuclio/_nuclio_wrapper.py --handler prediction:handler --socket-path /tmp/nuclio-rpc-bivfenare5ig00c7huqg.sock --platform-kind kube --namespace default-tenant --worker-id 0 --trigger-name defaultHTTPWorkerAllocator\"}\n"
     ]
    },
    {
     "name": "stderr",
     "output_type": "stream",
     "text": [
      "%nuclio: error: cannot deploy \n"
     ]
    }
   ],
   "source": [
    "%nuclio deploy -n prediction_server -p recommendation_engine -c"
   ]
  },
  {
   "cell_type": "code",
   "execution_count": null,
   "metadata": {},
   "outputs": [],
   "source": []
  }
 ],
 "metadata": {
  "kernelspec": {
   "display_name": "Python 3",
   "language": "python",
   "name": "python3"
  },
  "language_info": {
   "codemirror_mode": {
    "name": "ipython",
    "version": 3
   },
   "file_extension": ".py",
   "mimetype": "text/x-python",
   "name": "python",
   "nbconvert_exporter": "python",
   "pygments_lexer": "ipython3",
   "version": "3.6.8"
  }
 },
 "nbformat": 4,
 "nbformat_minor": 2
}
