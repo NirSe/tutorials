{
 "cells": [
  {
   "cell_type": "markdown",
   "metadata": {},
   "source": [
    "# Nuclio - prediction function"
   ]
  },
  {
   "cell_type": "markdown",
   "metadata": {},
   "source": [
    "## Setup the environment"
   ]
  },
  {
   "cell_type": "code",
   "execution_count": 1,
   "metadata": {},
   "outputs": [],
   "source": [
    "# nuclio: ignore\n",
    "import nuclio"
   ]
  },
  {
   "cell_type": "markdown",
   "metadata": {},
   "source": [
    "### Set environment variables"
   ]
  },
  {
   "cell_type": "code",
   "execution_count": 44,
   "metadata": {},
   "outputs": [
    {
     "name": "stdout",
     "output_type": "stream",
     "text": [
      "%nuclio: setting 'FRAMESD' environment variable\n",
      "%nuclio: setting 'V3IO_USERNAME' environment variable\n",
      "%nuclio: setting 'V3IO_ACCESS_KEY' environment variable\n",
      "%nuclio: setting 'MODEL_FILE' environment variable\n",
      "%nuclio: setting 'MODEL_FILEPATH' environment variable\n",
      "%nuclio: setting 'NUM_OF_PRODUCTS_TO_RETURN' environment variable\n",
      "%nuclio: setting 'CUSTOMERS_TABLE' environment variable\n",
      "%nuclio: setting 'PREDICTIONS_TABLE' environment variable\n"
     ]
    }
   ],
   "source": [
    "# Iguazio access\n",
    "%nuclio env FRAMESD=${V3IO_FRAMESD}\n",
    "%nuclio env V3IO_USERNAME=${V3IO_USERNAME}\n",
    "%nuclio env V3IO_ACCESS_KEY=${V3IO_ACCESS_KEY}\n",
    "\n",
    "# Model handling\n",
    "%nuclio env MODEL_FILE=lgb.model\n",
    "%nuclio env -c MODEL_FILEPATH=/tmp/mlmodel/${MODEL_FILE}\n",
    "%nuclio env -l MODEL_FILEPATH=models/trained/${MODEL_FILE}\n",
    "\n",
    "# Function variables\n",
    "%nuclio env NUM_OF_PRODUCTS_TO_RETURN=4\n",
    "%nuclio env CUSTOMERS_TABLE=customers\n",
    "%nuclio env PREDICTIONS_TABLE=predictions"
   ]
  },
  {
   "cell_type": "markdown",
   "metadata": {},
   "source": [
    "### Base image"
   ]
  },
  {
   "cell_type": "code",
   "execution_count": 3,
   "metadata": {},
   "outputs": [
    {
     "name": "stdout",
     "output_type": "stream",
     "text": [
      "%nuclio: setting spec.build.baseImage to 'python:3.6-jessie'\n"
     ]
    }
   ],
   "source": [
    "%nuclio config spec.build.baseImage = \"python:3.6-jessie\""
   ]
  },
  {
   "cell_type": "markdown",
   "metadata": {},
   "source": [
    "### Installations"
   ]
  },
  {
   "cell_type": "code",
   "execution_count": 4,
   "metadata": {},
   "outputs": [
    {
     "name": "stdout",
     "output_type": "stream",
     "text": [
      "Requirement already satisfied: requests in /conda/lib/python3.6/site-packages (2.21.0)\n",
      "Requirement already satisfied: chardet<3.1.0,>=3.0.2 in /conda/lib/python3.6/site-packages (from requests) (3.0.4)\n",
      "Requirement already satisfied: urllib3<1.25,>=1.21.1 in /conda/lib/python3.6/site-packages (from requests) (1.24.1)\n",
      "Requirement already satisfied: certifi>=2017.4.17 in /conda/lib/python3.6/site-packages (from requests) (2019.3.9)\n",
      "Requirement already satisfied: idna<2.9,>=2.5 in /conda/lib/python3.6/site-packages (from requests) (2.8)\n",
      "Requirement already satisfied: pandas in /conda/lib/python3.6/site-packages (0.23.4)\n",
      "Requirement already satisfied: python-dateutil>=2.5.0 in /conda/lib/python3.6/site-packages (from pandas) (2.8.0)\n",
      "Requirement already satisfied: numpy>=1.9.0 in /conda/lib/python3.6/site-packages (from pandas) (1.16.2)\n",
      "Requirement already satisfied: pytz>=2011k in /conda/lib/python3.6/site-packages (from pandas) (2018.9)\n",
      "Requirement already satisfied: six>=1.5 in /conda/lib/python3.6/site-packages (from python-dateutil>=2.5.0->pandas) (1.12.0)\n",
      "Requirement already satisfied: lightgbm in /User/.pythonlibs/lib/python3.6/site-packages (2.2.3)\n",
      "Requirement already satisfied: numpy in /conda/lib/python3.6/site-packages (from lightgbm) (1.16.2)\n",
      "Requirement already satisfied: scikit-learn in /conda/lib/python3.6/site-packages (from lightgbm) (0.20.2)\n",
      "Requirement already satisfied: scipy in /conda/lib/python3.6/site-packages (from lightgbm) (1.2.1)\n",
      "Requirement already satisfied: v3io_frames in /conda/lib/python3.6/site-packages (0.4.2)\n",
      "Requirement already satisfied: requests>=2.19.1 in /conda/lib/python3.6/site-packages (from v3io_frames) (2.21.0)\n",
      "Requirement already satisfied: googleapis-common-protos>=1.5.3 in /conda/lib/python3.6/site-packages (from v3io_frames) (1.5.8)\n",
      "Requirement already satisfied: grpcio-tools>=1.16.0 in /conda/lib/python3.6/site-packages (from v3io_frames) (1.18.0)\n",
      "Requirement already satisfied: pandas==0.23.* in /conda/lib/python3.6/site-packages (from v3io_frames) (0.23.4)\n",
      "Requirement already satisfied: chardet<3.1.0,>=3.0.2 in /conda/lib/python3.6/site-packages (from requests>=2.19.1->v3io_frames) (3.0.4)\n",
      "Requirement already satisfied: certifi>=2017.4.17 in /conda/lib/python3.6/site-packages (from requests>=2.19.1->v3io_frames) (2019.3.9)\n",
      "Requirement already satisfied: idna<2.9,>=2.5 in /conda/lib/python3.6/site-packages (from requests>=2.19.1->v3io_frames) (2.8)\n",
      "Requirement already satisfied: urllib3<1.25,>=1.21.1 in /conda/lib/python3.6/site-packages (from requests>=2.19.1->v3io_frames) (1.24.1)\n",
      "Requirement already satisfied: protobuf>=3.6.0 in /conda/lib/python3.6/site-packages (from googleapis-common-protos>=1.5.3->v3io_frames) (3.6.1)\n",
      "Requirement already satisfied: grpcio>=1.18.0 in /conda/lib/python3.6/site-packages (from grpcio-tools>=1.16.0->v3io_frames) (1.18.0)\n",
      "Requirement already satisfied: numpy>=1.9.0 in /conda/lib/python3.6/site-packages (from pandas==0.23.*->v3io_frames) (1.16.2)\n",
      "Requirement already satisfied: python-dateutil>=2.5.0 in /conda/lib/python3.6/site-packages (from pandas==0.23.*->v3io_frames) (2.8.0)\n",
      "Requirement already satisfied: pytz>=2011k in /conda/lib/python3.6/site-packages (from pandas==0.23.*->v3io_frames) (2018.9)\n",
      "Requirement already satisfied: six>=1.9 in /conda/lib/python3.6/site-packages (from protobuf>=3.6.0->googleapis-common-protos>=1.5.3->v3io_frames) (1.12.0)\n",
      "Requirement already satisfied: setuptools in /conda/lib/python3.6/site-packages (from protobuf>=3.6.0->googleapis-common-protos>=1.5.3->v3io_frames) (40.8.0)\n"
     ]
    }
   ],
   "source": [
    "%%nuclio cmd\n",
    "pip install requests\n",
    "pip install pandas\n",
    "pip install lightgbm\n",
    "pip install v3io_frames"
   ]
  },
  {
   "cell_type": "markdown",
   "metadata": {},
   "source": [
    "### Get the model"
   ]
  },
  {
   "cell_type": "code",
   "execution_count": 364,
   "metadata": {},
   "outputs": [],
   "source": [
    "%%nuclio cmd -c \n",
    "apt-get update && apt-get install -y wget\n",
    "mkdir -p /tmp/mlmodel\n",
    "wget -O /tmp/mlmodel/${MODEL_FILE} --header \"x-v3io-session-key: ${V3IO_ACCESS_KEY}\" http://${V3IO_WEBAPI_SERVICE_HOST}:8081/bigdata/tutorials/demos/location_based_recommendation/models/trained/${MODEL_FILE}\n",
    "        "
   ]
  },
  {
   "cell_type": "markdown",
   "metadata": {},
   "source": [
    "### Imports"
   ]
  },
  {
   "cell_type": "code",
   "execution_count": 22,
   "metadata": {},
   "outputs": [],
   "source": [
    "# Util\n",
    "import os\n",
    "import json\n",
    "import requests\n",
    "import datetime\n",
    "\n",
    "# Function\n",
    "import pandas as pd\n",
    "import lightgbm as lgb\n",
    "\n",
    "# DB\n",
    "import v3io_frames as v3f"
   ]
  },
  {
   "cell_type": "markdown",
   "metadata": {},
   "source": [
    "## Function code"
   ]
  },
  {
   "cell_type": "markdown",
   "metadata": {},
   "source": [
    "### Init context"
   ]
  },
  {
   "cell_type": "code",
   "execution_count": 43,
   "metadata": {},
   "outputs": [],
   "source": [
    "def init_context(context):\n",
    "    # define DB\n",
    "    client = v3f.Client('http://' + os.environ['FRAMESD'])\n",
    "    setattr(context, 'client', client)\n",
    "    \n",
    "    setattr(context, 'customers_table', os.environ['CUSTOMERS_TABLE'])\n",
    "    \n",
    "    setattr(context, 'predictions', os.environ['PREDICTIONS_TABLE'])\n",
    "    \n",
    "    # define Model\n",
    "    model = lgb.Booster(model_file=os.environ['MODEL_FILEPATH'])\n",
    "    setattr(context, 'model', model)\n",
    "    \n",
    "    # vars\n",
    "    setattr(context, 'k', int(os.environ['NUM_OF_PRODUCTS_TO_RETURN']))"
   ]
  },
  {
   "cell_type": "markdown",
   "metadata": {},
   "source": [
    "### Format dataframe for prediction"
   ]
  },
  {
   "cell_type": "code",
   "execution_count": 24,
   "metadata": {},
   "outputs": [],
   "source": [
    "def prepare_df(df):\n",
    "    # Extract features col\n",
    "    keep_cols = ['products']\n",
    "    df = df.loc[:, keep_cols]\n",
    "    \n",
    "    # Create features df\n",
    "    df = pd.read_json(df.values[0][0])\n",
    "    return df"
   ]
  },
  {
   "cell_type": "code",
   "execution_count": 353,
   "metadata": {},
   "outputs": [],
   "source": [
    "def handler(context, event):\n",
    "    \n",
    "    customer_id = event.body['id']\n",
    "    store = event.body['store']\n",
    "\n",
    "    # Get user parameters\n",
    "    df = context.client.read('kv', context.customers_table, filter=f'id=={customer_id}').reset_index()\n",
    "\n",
    "    # Do we have features for the user?\n",
    "    if not df.empty:\n",
    "                             \n",
    "        # Create features df for the user\n",
    "        df = prepare_df(df)\n",
    "                            \n",
    "        # Predict\n",
    "        df[\"prediction\"] = context.model.predict(df)\n",
    "                             \n",
    "        # Eliminate low confidence results\n",
    "        df = df.loc[df.prediction > 0.01, ['prediction', 'product_id']]\n",
    "\n",
    "        # Keep top products\n",
    "        df.sort_values(by='prediction', ascending=False, inplace=True)\n",
    "        best_products = df.iloc[:context.k, :]\n",
    "        best_products = best_products.reset_index()\n",
    "        best_products = best_products.reset_index()\n",
    "        best_products = best_products.rename(columns={'level_0': 'prediction_num'})\n",
    "        best_products['customer_id'] = int(customer_id)\n",
    "        best_products['store'] = store\n",
    "        best_products['time'] = datetime.datetime.now()\n",
    "        best_products = best_products.drop('index', axis=1)\n",
    "        best_products = best_products.set_index(['time', 'store', 'prediction_num'])\n",
    "        print(best_products)\n",
    "        \n",
    "                            \n",
    "        # Save results to DB\n",
    "        context.client.write('tsdb', context.predictions, best_products)"
   ]
  },
  {
   "cell_type": "code",
   "execution_count": 365,
   "metadata": {},
   "outputs": [],
   "source": [
    "# nuclio: ignore\n",
    "init_context(context)"
   ]
  },
  {
   "cell_type": "code",
   "execution_count": 366,
   "metadata": {},
   "outputs": [
    {
     "name": "stdout",
     "output_type": "stream",
     "text": [
      "                                                                prediction  \\\n",
      "time                       store                prediction_num               \n",
      "2019-04-25 14:51:11.222339 03311311313011021022 0                 0.474077   \n",
      "                                                1                 0.275197   \n",
      "\n",
      "                                                                product_id  \\\n",
      "time                       store                prediction_num               \n",
      "2019-04-25 14:51:11.222339 03311311313011021022 0                    47209   \n",
      "                                                1                    22035   \n",
      "\n",
      "                                                                customer_id  \n",
      "time                       store                prediction_num               \n",
      "2019-04-25 14:51:11.222339 03311311313011021022 0                      1232  \n",
      "                                                1                      1232  \n"
     ]
    }
   ],
   "source": [
    "# nuclio: ignore\n",
    "event = nuclio.Event(body={'id': '1232', 'store': '03311311313011021022'})\n",
    "handler(context, event)"
   ]
  },
  {
   "cell_type": "code",
   "execution_count": 367,
   "metadata": {},
   "outputs": [
    {
     "data": {
      "text/html": [
       "<div>\n",
       "<style scoped>\n",
       "    .dataframe tbody tr th:only-of-type {\n",
       "        vertical-align: middle;\n",
       "    }\n",
       "\n",
       "    .dataframe tbody tr th {\n",
       "        vertical-align: top;\n",
       "    }\n",
       "\n",
       "    .dataframe thead th {\n",
       "        text-align: right;\n",
       "    }\n",
       "</style>\n",
       "<table border=\"1\" class=\"dataframe\">\n",
       "  <thead>\n",
       "    <tr style=\"text-align: right;\">\n",
       "      <th></th>\n",
       "      <th></th>\n",
       "      <th></th>\n",
       "      <th>product_id</th>\n",
       "      <th>prediction</th>\n",
       "      <th>customer_id</th>\n",
       "    </tr>\n",
       "    <tr>\n",
       "      <th>time</th>\n",
       "      <th>prediction_num</th>\n",
       "      <th>store</th>\n",
       "      <th></th>\n",
       "      <th></th>\n",
       "      <th></th>\n",
       "    </tr>\n",
       "  </thead>\n",
       "  <tbody>\n",
       "    <tr>\n",
       "      <th>2019-04-25 14:46:12</th>\n",
       "      <th>0</th>\n",
       "      <th>03311311313011021022</th>\n",
       "      <td>47209.0</td>\n",
       "      <td>0.474077</td>\n",
       "      <td>1232.0</td>\n",
       "    </tr>\n",
       "    <tr>\n",
       "      <th>2019-04-25 14:50:12</th>\n",
       "      <th>0</th>\n",
       "      <th>03311311313011021022</th>\n",
       "      <td>47209.0</td>\n",
       "      <td>0.474077</td>\n",
       "      <td>1232.0</td>\n",
       "    </tr>\n",
       "    <tr>\n",
       "      <th>2019-04-25 14:46:12</th>\n",
       "      <th>1</th>\n",
       "      <th>03311311313011021022</th>\n",
       "      <td>22035.0</td>\n",
       "      <td>0.275197</td>\n",
       "      <td>1232.0</td>\n",
       "    </tr>\n",
       "    <tr>\n",
       "      <th>2019-04-25 14:50:12</th>\n",
       "      <th>1</th>\n",
       "      <th>03311311313011021022</th>\n",
       "      <td>22035.0</td>\n",
       "      <td>0.275197</td>\n",
       "      <td>1232.0</td>\n",
       "    </tr>\n",
       "  </tbody>\n",
       "</table>\n",
       "</div>"
      ],
      "text/plain": [
       "                                                         product_id  \\\n",
       "time                prediction_num store                              \n",
       "2019-04-25 14:46:12 0              03311311313011021022     47209.0   \n",
       "2019-04-25 14:50:12 0              03311311313011021022     47209.0   \n",
       "2019-04-25 14:46:12 1              03311311313011021022     22035.0   \n",
       "2019-04-25 14:50:12 1              03311311313011021022     22035.0   \n",
       "\n",
       "                                                         prediction  \\\n",
       "time                prediction_num store                              \n",
       "2019-04-25 14:46:12 0              03311311313011021022    0.474077   \n",
       "2019-04-25 14:50:12 0              03311311313011021022    0.474077   \n",
       "2019-04-25 14:46:12 1              03311311313011021022    0.275197   \n",
       "2019-04-25 14:50:12 1              03311311313011021022    0.275197   \n",
       "\n",
       "                                                         customer_id  \n",
       "time                prediction_num store                              \n",
       "2019-04-25 14:46:12 0              03311311313011021022       1232.0  \n",
       "2019-04-25 14:50:12 0              03311311313011021022       1232.0  \n",
       "2019-04-25 14:46:12 1              03311311313011021022       1232.0  \n",
       "2019-04-25 14:50:12 1              03311311313011021022       1232.0  "
      ]
     },
     "execution_count": 367,
     "metadata": {},
     "output_type": "execute_result"
    }
   ],
   "source": [
    "# nuclio: ignore\n",
    "context.client.read('tsdb', query='select * from predictions', step='1m', start=\"now-1h\", end='now',multi_index=True)"
   ]
  },
  {
   "cell_type": "code",
   "execution_count": 368,
   "metadata": {},
   "outputs": [
    {
     "name": "stdout",
     "output_type": "stream",
     "text": [
      "[nuclio.deploy] 2019-04-25 14:51:39,810 (info) Building processor image\n"
     ]
    },
    {
     "name": "stderr",
     "output_type": "stream",
     "text": [
      "INFO:nuclio.deploy:(info) Building processor image\n"
     ]
    },
    {
     "name": "stdout",
     "output_type": "stream",
     "text": [
      "[nuclio.deploy] 2019-04-25 14:51:45,900 (info) Pushing image\n"
     ]
    },
    {
     "name": "stderr",
     "output_type": "stream",
     "text": [
      "INFO:nuclio.deploy:(info) Pushing image\n"
     ]
    },
    {
     "name": "stdout",
     "output_type": "stream",
     "text": [
      "[nuclio.deploy] 2019-04-25 14:51:45,901 (info) Build complete\n"
     ]
    },
    {
     "name": "stderr",
     "output_type": "stream",
     "text": [
      "INFO:nuclio.deploy:(info) Build complete\n"
     ]
    },
    {
     "name": "stdout",
     "output_type": "stream",
     "text": [
      "[nuclio.deploy] 2019-04-25 14:51:49,940 (info) Function deploy complete\n"
     ]
    },
    {
     "name": "stderr",
     "output_type": "stream",
     "text": [
      "INFO:nuclio.deploy:(info) Function deploy complete\n"
     ]
    },
    {
     "name": "stdout",
     "output_type": "stream",
     "text": [
      "[nuclio.deploy] 2019-04-25 14:51:49,947 done updating prediction-server, function address: 3.121.211.71:32432\n"
     ]
    },
    {
     "name": "stderr",
     "output_type": "stream",
     "text": [
      "INFO:nuclio.deploy:done updating prediction-server, function address: 3.121.211.71:32432\n"
     ]
    },
    {
     "name": "stdout",
     "output_type": "stream",
     "text": [
      "%nuclio: function deployed\n"
     ]
    }
   ],
   "source": [
    "%nuclio deploy -n prediction_server -p recommendation_engine -c"
   ]
  },
  {
   "cell_type": "code",
   "execution_count": null,
   "metadata": {},
   "outputs": [],
   "source": []
  }
 ],
 "metadata": {
  "kernelspec": {
   "display_name": "Python 3",
   "language": "python",
   "name": "python3"
  },
  "language_info": {
   "codemirror_mode": {
    "name": "ipython",
    "version": 3
   },
   "file_extension": ".py",
   "mimetype": "text/x-python",
   "name": "python",
   "nbconvert_exporter": "python",
   "pygments_lexer": "ipython3",
   "version": "3.6.8"
  }
 },
 "nbformat": 4,
 "nbformat_minor": 2
}
