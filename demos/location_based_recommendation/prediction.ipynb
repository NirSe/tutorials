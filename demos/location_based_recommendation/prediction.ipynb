{
 "cells": [
  {
   "cell_type": "markdown",
   "metadata": {},
   "source": [
    "# Nuclio - prediction function"
   ]
  },
  {
   "cell_type": "markdown",
   "metadata": {},
   "source": [
    "## Setup the environment"
   ]
  },
  {
   "cell_type": "code",
   "execution_count": 4,
   "metadata": {},
   "outputs": [],
   "source": [
    "# nuclio: ignore\n",
    "import nuclio"
   ]
  },
  {
   "cell_type": "markdown",
   "metadata": {},
   "source": [
    "### Set environment variables"
   ]
  },
  {
   "cell_type": "code",
   "execution_count": 19,
   "metadata": {},
   "outputs": [
    {
     "name": "stdout",
     "output_type": "stream",
     "text": [
      "%nuclio: setting 'FRAMESD' environment variable\n",
      "%nuclio: setting 'V3IO_USERNAME' environment variable\n",
      "%nuclio: setting 'V3IO_ACCESS_KEY' environment variable\n",
      "%nuclio: setting 'MODEL_FILE' environment variable\n",
      "%nuclio: setting 'MODEL_FILEPATH' environment variable\n",
      "%nuclio: setting 'NUM_OF_PRODUCTS_TO_RETURN' environment variable\n",
      "%nuclio: setting 'CUSTOMERS_TABLE' environment variable\n",
      "%nuclio: setting 'PREDIOCTION_TABLE' environment variable\n"
     ]
    }
   ],
   "source": [
    "# Iguazio access\n",
    "%nuclio env FRAMESD=${V3IO_FRAMESD}\n",
    "%nuclio env V3IO_USERNAME=${V3IO_USERNAME}\n",
    "%nuclio env V3IO_ACCESS_KEY=${V3IO_ACCESS_KEY}\n",
    "\n",
    "# Model handling\n",
    "%nuclio env MODEL_FILE=lgbm.model\n",
    "%nuclio env -c MODEL_FILEPATH=/tmp/mlmodel/${MODEL_FILE}\n",
    "%nuclio env -l MODEL_FILEPATH=models/trained/${MODEL_FILE}\n",
    "\n",
    "# Function variables\n",
    "%nuclio env NUM_OF_PRODUCTS_TO_RETURN=4\n",
    "%nuclio env CUSTOMERS_TABLE=recommendation_demo_customers\n",
    "%nuclio env PREDIOCTION_TABLE=recommendation_demo_recommendations"
   ]
  },
  {
   "cell_type": "markdown",
   "metadata": {},
   "source": [
    "### Installations"
   ]
  },
  {
   "cell_type": "code",
   "execution_count": 18,
   "metadata": {},
   "outputs": [
    {
     "name": "stdout",
     "output_type": "stream",
     "text": [
      "Collecting json\n",
      "\u001b[31m  Could not find a version that satisfies the requirement json (from versions: )\u001b[0m\n",
      "\u001b[31mNo matching distribution found for json\u001b[0m\n",
      "Requirement already satisfied: requests in /conda/lib/python3.6/site-packages (2.21.0)\n",
      "Requirement already satisfied: idna<2.9,>=2.5 in /conda/lib/python3.6/site-packages (from requests) (2.8)\n",
      "Requirement already satisfied: certifi>=2017.4.17 in /conda/lib/python3.6/site-packages (from requests) (2018.11.29)\n",
      "Requirement already satisfied: urllib3<1.25,>=1.21.1 in /conda/lib/python3.6/site-packages (from requests) (1.24.1)\n",
      "Requirement already satisfied: chardet<3.1.0,>=3.0.2 in /conda/lib/python3.6/site-packages (from requests) (3.0.4)\n",
      "Requirement already satisfied: pandas in /conda/lib/python3.6/site-packages (0.23.4)\n",
      "Requirement already satisfied: pytz>=2011k in /conda/lib/python3.6/site-packages (from pandas) (2018.9)\n",
      "Requirement already satisfied: numpy>=1.9.0 in /conda/lib/python3.6/site-packages (from pandas) (1.16.1)\n",
      "Requirement already satisfied: python-dateutil>=2.5.0 in /conda/lib/python3.6/site-packages (from pandas) (2.8.0)\n",
      "Requirement already satisfied: six>=1.5 in /conda/lib/python3.6/site-packages (from python-dateutil>=2.5.0->pandas) (1.12.0)\n",
      "Requirement already satisfied: lightgbm in /User/.pythonlibs/lib/python3.6/site-packages (2.2.3)\n",
      "Requirement already satisfied: scipy in /conda/lib/python3.6/site-packages (from lightgbm) (1.2.1)\n",
      "Requirement already satisfied: scikit-learn in /conda/lib/python3.6/site-packages (from lightgbm) (0.20.2)\n",
      "Requirement already satisfied: numpy in /conda/lib/python3.6/site-packages (from lightgbm) (1.16.1)\n",
      "Requirement already satisfied: v3io_frames in /conda/lib/python3.6/site-packages (0.4.2)\n",
      "Requirement already satisfied: googleapis-common-protos>=1.5.3 in /conda/lib/python3.6/site-packages (from v3io_frames) (1.5.8)\n",
      "Requirement already satisfied: grpcio-tools>=1.16.0 in /conda/lib/python3.6/site-packages (from v3io_frames) (1.18.0)\n",
      "Requirement already satisfied: requests>=2.19.1 in /conda/lib/python3.6/site-packages (from v3io_frames) (2.21.0)\n",
      "Requirement already satisfied: pandas==0.23.* in /conda/lib/python3.6/site-packages (from v3io_frames) (0.23.4)\n",
      "Requirement already satisfied: protobuf>=3.6.0 in /conda/lib/python3.6/site-packages (from googleapis-common-protos>=1.5.3->v3io_frames) (3.6.1)\n",
      "Requirement already satisfied: grpcio>=1.18.0 in /conda/lib/python3.6/site-packages (from grpcio-tools>=1.16.0->v3io_frames) (1.18.0)\n",
      "Requirement already satisfied: chardet<3.1.0,>=3.0.2 in /conda/lib/python3.6/site-packages (from requests>=2.19.1->v3io_frames) (3.0.4)\n",
      "Requirement already satisfied: certifi>=2017.4.17 in /conda/lib/python3.6/site-packages (from requests>=2.19.1->v3io_frames) (2018.11.29)\n",
      "Requirement already satisfied: idna<2.9,>=2.5 in /conda/lib/python3.6/site-packages (from requests>=2.19.1->v3io_frames) (2.8)\n",
      "Requirement already satisfied: urllib3<1.25,>=1.21.1 in /conda/lib/python3.6/site-packages (from requests>=2.19.1->v3io_frames) (1.24.1)\n",
      "Requirement already satisfied: numpy>=1.9.0 in /conda/lib/python3.6/site-packages (from pandas==0.23.*->v3io_frames) (1.16.1)\n",
      "Requirement already satisfied: python-dateutil>=2.5.0 in /conda/lib/python3.6/site-packages (from pandas==0.23.*->v3io_frames) (2.8.0)\n",
      "Requirement already satisfied: pytz>=2011k in /conda/lib/python3.6/site-packages (from pandas==0.23.*->v3io_frames) (2018.9)\n",
      "Requirement already satisfied: six>=1.9 in /conda/lib/python3.6/site-packages (from protobuf>=3.6.0->googleapis-common-protos>=1.5.3->v3io_frames) (1.12.0)\n",
      "Requirement already satisfied: setuptools in /conda/lib/python3.6/site-packages (from protobuf>=3.6.0->googleapis-common-protos>=1.5.3->v3io_frames) (40.8.0)\n"
     ]
    }
   ],
   "source": [
    "%%nuclio cmd  \n",
    "pip install json\n",
    "pip install requests\n",
    "pip install pandas\n",
    "pip install lightgbm\n",
    "pip install v3io_frames"
   ]
  },
  {
   "cell_type": "markdown",
   "metadata": {},
   "source": [
    "### Imports"
   ]
  },
  {
   "cell_type": "code",
   "execution_count": 17,
   "metadata": {},
   "outputs": [],
   "source": [
    "# Util\n",
    "import os\n",
    "import json\n",
    "import requests\n",
    "\n",
    "# Function\n",
    "import pandas as pd\n",
    "import lightgbm as lgb\n",
    "\n",
    "# DB\n",
    "import v3io_frames as v3f"
   ]
  },
  {
   "cell_type": "markdown",
   "metadata": {},
   "source": [
    "## Function code"
   ]
  },
  {
   "cell_type": "markdown",
   "metadata": {},
   "source": [
    "### Init context"
   ]
  },
  {
   "cell_type": "code",
   "execution_count": 22,
   "metadata": {},
   "outputs": [],
   "source": [
    "def init_context(context):\n",
    "    # define DB\n",
    "    client = v3f.Client(os.environ['FRAMESD'])\n",
    "    setattr(context, 'client', client)\n",
    "    \n",
    "    # define Model\n",
    "    model = lgb.Booster(model_file=\"lgb.model\")\n",
    "    setattr(context, 'model', model)\n",
    "    \n",
    "    # vars\n",
    "    setattr(context, 'k', int(os.environ['NUM_OF_PRODUCTS_TO_RETURN']))"
   ]
  },
  {
   "cell_type": "code",
   "execution_count": 29,
   "metadata": {},
   "outputs": [],
   "source": [
    "def handler(context, event):\n",
    "    # Get user parameters\n",
    "    df = client.read('kv', )\n",
    "\n",
    "    # Predict\n",
    "    df[\"prediction\"] = context.model.predict(df)\n",
    "\n",
    "    # Eliminate low confidence results\n",
    "    df = df.loc[df.prediction > 0.01, ['prediction', 'product_id']]\n",
    "\n",
    "    # Keep top products\n",
    "    df.sort_values(by='prediction', ascending=False, inplace=True)\n",
    "    best_products = df.iloc[:context.k, :]\n",
    "\n",
    "\n",
    "    return json.dumps(best_products.to_json())\n",
    "\n",
    "\n",
    "def curl_server(command_func):\n",
    "    def send_request(*args):\n",
    "        v3io_function, table_name, key, payload, return_json = command_func(*args)\n",
    "\n",
    "        server_url = os.getenv('SERVER_URL', '')\n",
    "        url = \"{}/1/{}/{}\".format(server_url, table_name, key)\n",
    "\n",
    "        headers = {\n",
    "            \"Content-Type\": \"application/json\",\n",
    "            \"X-v3io-function\": v3io_function,\n",
    "            \"Connection\": \"close\",\n",
    "        }\n",
    "        try:\n",
    "            response = requests.post(url, json=payload, headers=headers, timeout=5)\n",
    "            response.close()\n",
    "        except:\n",
    "            return {\"item\": {\"products\": {\"S\": \"\"}}}\n",
    "\n",
    "        if return_json == True:\n",
    "            return response.json()\n",
    "        else:\n",
    "            if response.status_code == 200 or response.status_code == 204:\n",
    "                return True\n",
    "            else:\n",
    "                return False\n",
    "\n",
    "    return send_request\n",
    "\n",
    "\n",
    "@curl_server\n",
    "def update_customer_location(customer_id, location, return_json=False):\n",
    "    v3io_function = \"UpdateItem\"\n",
    "    table_name = \"customers\"\n",
    "    payload = {\n",
    "        \"UpdateExpression\": f\"SET location='{location}'\"\n",
    "    }\n",
    "\n",
    "    return v3io_function, table_name, customer_id, payload, return_json\n",
    "\n",
    "\n",
    "@curl_server\n",
    "def get_customer(customer_id: str, return_json=True):\n",
    "    v3io_function = \"GetItem\"\n",
    "    table_name = \"customers\"\n",
    "    payload = {\"AttributesToGet\": \"*\"}\n",
    "\n",
    "    return v3io_function, table_name, customer_id, payload, return_json\n",
    "\n",
    "\n",
    "def response_to_event(data):\n",
    "    X: dict = json.loads(data[\"Item\"][\"products\"][\"S\"])\n",
    "    return X"
   ]
  },
  {
   "cell_type": "code",
   "execution_count": null,
   "metadata": {},
   "outputs": [],
   "source": []
  }
 ],
 "metadata": {
  "kernelspec": {
   "display_name": "Python 3",
   "language": "python",
   "name": "python3"
  },
  "language_info": {
   "codemirror_mode": {
    "name": "ipython",
    "version": 3
   },
   "file_extension": ".py",
   "mimetype": "text/x-python",
   "name": "python",
   "nbconvert_exporter": "python",
   "pygments_lexer": "ipython3",
   "version": "3.6.8"
  }
 },
 "nbformat": 4,
 "nbformat_minor": 2
}
