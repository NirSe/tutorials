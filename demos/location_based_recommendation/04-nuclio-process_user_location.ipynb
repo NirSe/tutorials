{
 "cells": [
  {
   "cell_type": "markdown",
   "metadata": {},
   "source": [
    "# Nuclio - Process user location signal"
   ]
  },
  {
   "cell_type": "markdown",
   "metadata": {},
   "source": [
    "## Setup the environment"
   ]
  },
  {
   "cell_type": "code",
   "execution_count": 1,
   "metadata": {},
   "outputs": [],
   "source": [
    "# nuclio: ignore\n",
    "import nuclio"
   ]
  },
  {
   "cell_type": "markdown",
   "metadata": {},
   "source": [
    "### Define environment variables"
   ]
  },
  {
   "cell_type": "code",
   "execution_count": 74,
   "metadata": {},
   "outputs": [
    {
     "name": "stdout",
     "output_type": "stream",
     "text": [
      "%nuclio: setting 'V3IO_API' environment variable\n",
      "%nuclio: setting 'V3IO_ACCESS_KEY' environment variable\n",
      "%nuclio: setting 'COSTUMERS_STREAM' environment variable\n",
      "%nuclio: setting 'COSTUMERS_TABLE' environment variable\n",
      "%nuclio: setting 'STORES_TABLE' environment variable\n",
      "%nuclio: setting 'PREDICTIONS_STREAM' environment variable\n",
      "%nuclio: setting 'PREDICTION_SERVER' environment variable\n"
     ]
    },
    {
     "name": "stderr",
     "output_type": "stream",
     "text": [
      "%nuclio: cannot find \"=\" in line\n",
      "%nuclio: cannot find \"=\" in line\n",
      "%nuclio: cannot find \"=\" in line\n"
     ]
    }
   ],
   "source": [
    "%%nuclio env\n",
    "\n",
    "# DB Acess\n",
    "V3IO_API=${V3IO_FRAMESD}\n",
    "V3IO_ACCESS_KEY=${V3IO_ACCESS_KEY}\n",
    "\n",
    "# Customers\n",
    "COSTUMERS_STREAM=customers_stream\n",
    "COSTUMERS_TABLE=customers\n",
    "STORES_TABLE=/stores\n",
    "\n",
    "# Predictions\n",
    "PREDICTIONS_STREAM=predictions_stream\n",
    "PREDICTION_SERVER=http://prediction-server:8080"
   ]
  },
  {
   "cell_type": "code",
   "execution_count": 10,
   "metadata": {},
   "outputs": [
    {
     "name": "stdout",
     "output_type": "stream",
     "text": [
      "Your Computer Name is:jupyter-wtyegwoi5t-ht71d-6f7cc8d58d-hptsw\n",
      "Your Computer IP Address is:10.233.92.90\n"
     ]
    }
   ],
   "source": [
    "# nuclio: ignore\n",
    "!rm -r /v3io/bigdt"
   ]
  },
  {
   "cell_type": "markdown",
   "metadata": {},
   "source": [
    "### Base image"
   ]
  },
  {
   "cell_type": "code",
   "execution_count": 6,
   "metadata": {},
   "outputs": [
    {
     "name": "stdout",
     "output_type": "stream",
     "text": [
      "%nuclio: setting spec.build.baseImage to 'python:3.6-jessie'\n"
     ]
    }
   ],
   "source": [
    "%nuclio config spec.build.baseImage = \"python:3.6-jessie\""
   ]
  },
  {
   "cell_type": "markdown",
   "metadata": {},
   "source": [
    "### Set cron trigger to read from stream"
   ]
  },
  {
   "cell_type": "code",
   "execution_count": 61,
   "metadata": {},
   "outputs": [
    {
     "name": "stdout",
     "output_type": "stream",
     "text": [
      "%nuclio: setting spec.triggers.secs.kind to 'cron'\n",
      "%nuclio: setting spec.triggers.secs.attributes.interval to '1m'\n"
     ]
    }
   ],
   "source": [
    "%nuclio config spec.triggers.secs.kind = \"cron\"\n",
    "%nuclio config spec.triggers.secs.attributes.interval = \"1m\""
   ]
  },
  {
   "cell_type": "markdown",
   "metadata": {},
   "source": [
    "### Install packages"
   ]
  },
  {
   "cell_type": "code",
   "execution_count": 153,
   "metadata": {},
   "outputs": [
    {
     "name": "stdout",
     "output_type": "stream",
     "text": [
      "Requirement already satisfied: v3io_frames in /conda/lib/python3.6/site-packages (0.4.2)\n",
      "Requirement already satisfied: grpcio-tools>=1.16.0 in /conda/lib/python3.6/site-packages (from v3io_frames) (1.19.0)\n",
      "Requirement already satisfied: pandas==0.23.* in /conda/lib/python3.6/site-packages (from v3io_frames) (0.23.4)\n",
      "Requirement already satisfied: requests>=2.19.1 in /conda/lib/python3.6/site-packages (from v3io_frames) (2.21.0)\n",
      "Requirement already satisfied: googleapis-common-protos>=1.5.3 in /conda/lib/python3.6/site-packages (from v3io_frames) (1.5.9)\n",
      "Requirement already satisfied: grpcio>=1.19.0 in /conda/lib/python3.6/site-packages (from grpcio-tools>=1.16.0->v3io_frames) (1.19.0)\n",
      "Requirement already satisfied: protobuf>=3.5.0.post1 in /conda/lib/python3.6/site-packages (from grpcio-tools>=1.16.0->v3io_frames) (3.7.1)\n",
      "Requirement already satisfied: python-dateutil>=2.5.0 in /conda/lib/python3.6/site-packages (from pandas==0.23.*->v3io_frames) (2.8.0)\n",
      "Requirement already satisfied: pytz>=2011k in /conda/lib/python3.6/site-packages (from pandas==0.23.*->v3io_frames) (2018.9)\n",
      "Requirement already satisfied: numpy>=1.9.0 in /conda/lib/python3.6/site-packages (from pandas==0.23.*->v3io_frames) (1.16.2)\n",
      "Requirement already satisfied: chardet<3.1.0,>=3.0.2 in /conda/lib/python3.6/site-packages (from requests>=2.19.1->v3io_frames) (3.0.4)\n",
      "Requirement already satisfied: urllib3<1.25,>=1.21.1 in /conda/lib/python3.6/site-packages (from requests>=2.19.1->v3io_frames) (1.24.1)\n",
      "Requirement already satisfied: certifi>=2017.4.17 in /conda/lib/python3.6/site-packages (from requests>=2.19.1->v3io_frames) (2019.3.9)\n",
      "Requirement already satisfied: idna<2.9,>=2.5 in /conda/lib/python3.6/site-packages (from requests>=2.19.1->v3io_frames) (2.8)\n",
      "Requirement already satisfied: six>=1.5.2 in /conda/lib/python3.6/site-packages (from grpcio>=1.19.0->grpcio-tools>=1.16.0->v3io_frames) (1.12.0)\n",
      "Requirement already satisfied: setuptools in /conda/lib/python3.6/site-packages (from protobuf>=3.5.0.post1->grpcio-tools>=1.16.0->v3io_frames) (40.8.0)\n",
      "Requirement already up-to-date: v3io==0.1.1 in /User/.pythonlibs/lib/python3.6/site-packages (0.1.1)\n",
      "Requirement already satisfied, skipping upgrade: requests==2.21.0 in /conda/lib/python3.6/site-packages (from v3io==0.1.1) (2.21.0)\n",
      "Requirement already satisfied, skipping upgrade: future==0.17.1 in /conda/lib/python3.6/site-packages (from v3io==0.1.1) (0.17.1)\n",
      "Requirement already satisfied, skipping upgrade: ujson==1.35 in /User/.pythonlibs/lib/python3.6/site-packages (from v3io==0.1.1) (1.35)\n",
      "Requirement already satisfied, skipping upgrade: idna<2.9,>=2.5 in /conda/lib/python3.6/site-packages (from requests==2.21.0->v3io==0.1.1) (2.8)\n",
      "Requirement already satisfied, skipping upgrade: chardet<3.1.0,>=3.0.2 in /conda/lib/python3.6/site-packages (from requests==2.21.0->v3io==0.1.1) (3.0.4)\n",
      "Requirement already satisfied, skipping upgrade: certifi>=2017.4.17 in /conda/lib/python3.6/site-packages (from requests==2.21.0->v3io==0.1.1) (2019.3.9)\n",
      "Requirement already satisfied, skipping upgrade: urllib3<1.25,>=1.21.1 in /conda/lib/python3.6/site-packages (from requests==2.21.0->v3io==0.1.1) (1.24.1)\n",
      "Requirement already satisfied: requests in /conda/lib/python3.6/site-packages (2.21.0)\n",
      "Requirement already satisfied: certifi>=2017.4.17 in /conda/lib/python3.6/site-packages (from requests) (2019.3.9)\n",
      "Requirement already satisfied: idna<2.9,>=2.5 in /conda/lib/python3.6/site-packages (from requests) (2.8)\n",
      "Requirement already satisfied: chardet<3.1.0,>=3.0.2 in /conda/lib/python3.6/site-packages (from requests) (3.0.4)\n",
      "Requirement already satisfied: urllib3<1.25,>=1.21.1 in /conda/lib/python3.6/site-packages (from requests) (1.24.1)\n",
      "Requirement already satisfied: pandas in /conda/lib/python3.6/site-packages (0.23.4)\n",
      "Requirement already satisfied: python-dateutil>=2.5.0 in /conda/lib/python3.6/site-packages (from pandas) (2.8.0)\n",
      "Requirement already satisfied: pytz>=2011k in /conda/lib/python3.6/site-packages (from pandas) (2018.9)\n",
      "Requirement already satisfied: numpy>=1.9.0 in /conda/lib/python3.6/site-packages (from pandas) (1.16.2)\n",
      "Requirement already satisfied: six>=1.5 in /conda/lib/python3.6/site-packages (from python-dateutil>=2.5.0->pandas) (1.12.0)\n"
     ]
    }
   ],
   "source": [
    "%%nuclio cmd\n",
    "pip install v3io_frames\n",
    "pip install v3io==0.1.1 --upgrade\n",
    "pip install requests\n",
    "pip install pandas"
   ]
  },
  {
   "cell_type": "markdown",
   "metadata": {},
   "source": [
    "## Function code"
   ]
  },
  {
   "cell_type": "code",
   "execution_count": 16,
   "metadata": {},
   "outputs": [],
   "source": [
    "import json\n",
    "import os\n",
    "import requests\n",
    "import time\n",
    "\n",
    "# Data handling\n",
    "import pandas as pd\n",
    "\n",
    "# DB\n",
    "import v3io\n",
    "import v3io.dataplane\n",
    "import v3io.logger\n",
    "import v3io_frames as v3f"
   ]
  },
  {
   "cell_type": "markdown",
   "metadata": {},
   "source": [
    "### Init context"
   ]
  },
  {
   "cell_type": "code",
   "execution_count": 17,
   "metadata": {},
   "outputs": [],
   "source": [
    "def init_context(context):\n",
    "    # DB Contexts\n",
    "    \n",
    "    v3c = v3io.dataplane.Context(v3io.logger.Logger('DEBUG')).new_session().new_container('bigdata')\n",
    "    setattr(context, 'v3c', v3c)\n",
    "    \n",
    "    v3c_frames = v3f.Client('http://' + os.environ['V3IO_API'])\n",
    "    setattr(context, 'v3f', v3c_frames)\n",
    "    \n",
    "    \n",
    "    # DB Tables\n",
    "    \n",
    "    customers_table = os.environ['COSTUMERS_TABLE']\n",
    "    setattr(context, 'customers', customers_table)\n",
    "    \n",
    "    stores_table = os.environ['STORES_TABLE']\n",
    "    setattr(context, 'stores', stores_table)\n",
    "    \n",
    "    predictions_stream = os.environ['PREDICTIONS_STREAM']\n",
    "    setattr(context, 'predictions', predictions_stream)\n",
    "    \n",
    "    customers_stream = os.environ['COSTUMERS_STREAM']\n",
    "    setattr(context, 'customers_stream', customers_stream)\n",
    "    \n",
    "    \n",
    "    # Prediction server\n",
    "    \n",
    "    prediction_server = os.getenv('PREDICTION_SERVER')\n",
    "    setattr(context, 'prediction_server', prediction_server)"
   ]
  },
  {
   "cell_type": "markdown",
   "metadata": {},
   "source": [
    "### Helper functions"
   ]
  },
  {
   "cell_type": "code",
   "execution_count": 18,
   "metadata": {},
   "outputs": [],
   "source": [
    "def is_customer_in_store(customer, context) -> bool:\n",
    "    store_location = customer['location']\n",
    "    store = context.v3f.read('kv', context.stores, filter=f'__name==\"{store_location}\"')\n",
    "\n",
    "    return not store.empty"
   ]
  },
  {
   "cell_type": "code",
   "execution_count": 19,
   "metadata": {},
   "outputs": [],
   "source": [
    "def is_customer_out_of_store(context, new_customer_locations):\n",
    "    if not new_customer_locations.empty:\n",
    "        users = new_customer_locations['id'].values.astype('int').astype('str')\n",
    "        filter_line = str(list(users))\n",
    "        filter_line = f'__name IN ({filter_line[1:-1]})'\n",
    "        old_customer_locations = context.v3f.read('kv', context.customers, columns=['location'], filter=filter_line)\n",
    "        old_customer_locations['is_store'] = old_customer_locations.apply(is_customer_in_store, args=[context], axis=1)\n",
    "        return old_customer_locations[old_customer_locations['is_store'] == True]['location']"
   ]
  },
  {
   "cell_type": "code",
   "execution_count": 20,
   "metadata": {},
   "outputs": [],
   "source": [
    "def update_customer_location(context, customer_id: str, location: str):\n",
    "    context.v3f.execute('kv', context.customers , 'update', args={'key':customer_id, 'expression': f'SET location=\"{location}\"', 'condition':''})"
   ]
  },
  {
   "cell_type": "code",
   "execution_count": 56,
   "metadata": {},
   "outputs": [],
   "source": [
    "def update_store_count(customer, context, is_add=True):\n",
    "    operator = '+' if is_add else '-'\n",
    "    context.v3f.execute('kv', context.stores , 'update', args={'key': customer, 'expression': f'SET customers=customers{operator}1', 'condition':''})"
   ]
  },
  {
   "cell_type": "code",
   "execution_count": 22,
   "metadata": {},
   "outputs": [],
   "source": [
    "def save_predictions(context, customer_id: str, prediction: pd.DataFrame):\n",
    "    context.v3f.write('tsdb', context.predictions, prediction)"
   ]
  },
  {
   "cell_type": "markdown",
   "metadata": {},
   "source": [
    "### Handler"
   ]
  },
  {
   "cell_type": "code",
   "execution_count": 64,
   "metadata": {},
   "outputs": [],
   "source": [
    "def handler(context, event):\n",
    "    \n",
    "    # Get latest customer locations from the customers stream\n",
    "    customers_stream = context.v3f.read('tsdb', context.customers_stream, start='now-1m', as_iterator=True)\n",
    "        \n",
    "    # Has anyone moved out of any store?\n",
    "    stores_to_update = is_customer_out_of_store(context, customers_stream)\n",
    "    stores_to_update.apply(update_store_count, args=[context, False])\n",
    "    \n",
    "    # Update the customer's new location\n",
    "    [update_customer_location(context, str(int(customer['id'])), customer['location']) for idx, customer in customers_stream.iterrows()]\n",
    "        \n",
    "    if not customers_stream.empty:\n",
    "        # Get all customers that are in stores\n",
    "        customers_stream['is_store'] = customers_stream.apply(is_customer_in_store, args=[context], axis=1)\n",
    "        customers_stream = customers_stream[customers_stream['is_store']]\n",
    "        \n",
    "        # Update customers in stores count\n",
    "        customers_stream['update_stores'] = customers_stream['location'].apply(update_store_count, args=[context])\n",
    "        \n",
    "        context.logger.debug(customers_stream)\n",
    "\n",
    "        [requests.post(context.prediction_server, json={'id': str(int(customer['id'])), 'store': str(customer['location'])}) for idx, customer in customers_stream.iterrows()]"
   ]
  },
  {
   "cell_type": "code",
   "execution_count": 75,
   "metadata": {},
   "outputs": [],
   "source": [
    "# nuclio: ignore\n",
    "init_context(context)"
   ]
  },
  {
   "cell_type": "code",
   "execution_count": 76,
   "metadata": {},
   "outputs": [
    {
     "name": "stdout",
     "output_type": "stream",
     "text": [
      "03311311313011300213\n",
      "03311311313010331200\n",
      "03311311313011113011\n",
      "03311311311233111033\n"
     ]
    }
   ],
   "source": [
    "# nuclio: ignore\n",
    "event = nuclio.Event()\n",
    "handler(context, event)"
   ]
  },
  {
   "cell_type": "code",
   "execution_count": 78,
   "metadata": {},
   "outputs": [
    {
     "name": "stdout",
     "output_type": "stream",
     "text": [
      "[nuclio.deploy] 2019-07-08 12:33:16,969 (info) Building processor image\n",
      "[nuclio.deploy] 2019-07-08 12:33:18,996 (info) Pushing image\n",
      "[nuclio.deploy] 2019-07-08 12:33:18,997 (info) Build complete\n",
      "[nuclio.deploy] 2019-07-08 12:33:23,038 (info) Function deploy complete\n",
      "[nuclio.deploy] 2019-07-08 12:33:23,044 done creating process-user-location, function address: 18.197.206.39:31955\n",
      "%nuclio: function deployed\n"
     ]
    }
   ],
   "source": [
    "%nuclio deploy -n process_user_location -p recommendation_engine -c"
   ]
  },
  {
   "cell_type": "code",
   "execution_count": null,
   "metadata": {},
   "outputs": [],
   "source": []
  }
 ],
 "metadata": {
  "kernelspec": {
   "display_name": "Python 3",
   "language": "python",
   "name": "python3"
  },
  "language_info": {
   "codemirror_mode": {
    "name": "ipython",
    "version": 3
   },
   "file_extension": ".py",
   "mimetype": "text/x-python",
   "name": "python",
   "nbconvert_exporter": "python",
   "pygments_lexer": "ipython3",
   "version": "3.6.8"
  }
 },
 "nbformat": 4,
 "nbformat_minor": 2
}
