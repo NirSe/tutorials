{
 "cells": [
  {
   "cell_type": "markdown",
   "metadata": {},
   "source": [
    "# Generate stores & customers for the demo"
   ]
  },
  {
   "cell_type": "markdown",
   "metadata": {},
   "source": [
    "## Setup the environment"
   ]
  },
  {
   "cell_type": "markdown",
   "metadata": {},
   "source": [
    "### Install packages"
   ]
  },
  {
   "cell_type": "code",
   "execution_count": 3,
   "metadata": {},
   "outputs": [
    {
     "name": "stdout",
     "output_type": "stream",
     "text": [
      "Requirement already satisfied: faker in /User/.pythonlibs/lib/python3.6/site-packages (1.0.5)\n",
      "Requirement already satisfied: six>=1.10 in /conda/lib/python3.6/site-packages (from faker) (1.12.0)\n",
      "Requirement already satisfied: text-unidecode==1.2 in /User/.pythonlibs/lib/python3.6/site-packages (from faker) (1.2)\n",
      "Requirement already satisfied: python-dateutil>=2.4 in /conda/lib/python3.6/site-packages (from faker) (2.8.0)\n",
      "Requirement already satisfied: pymorton in /User/.pythonlibs/lib/python3.6/site-packages (1.0.5)\n",
      "Collecting v3io\n",
      "  Downloading https://files.pythonhosted.org/packages/bc/ef/9339c0420d559c32fe9016345c8993122690a9ff7f5cc402e35ce4003369/v3io-0.1.1.tar.gz\n",
      "Requirement already satisfied: requests==2.21.0 in /conda/lib/python3.6/site-packages (from v3io) (2.21.0)\n",
      "Requirement already satisfied: future==0.17.1 in /conda/lib/python3.6/site-packages (from v3io) (0.17.1)\n",
      "Collecting ujson==1.35 (from v3io)\n",
      "\u001b[?25l  Downloading https://files.pythonhosted.org/packages/16/c4/79f3409bc710559015464e5f49b9879430d8f87498ecdc335899732e5377/ujson-1.35.tar.gz (192kB)\n",
      "\u001b[K    100% |################################| 194kB 20.7MB/s \n",
      "\u001b[?25hRequirement already satisfied: idna<2.9,>=2.5 in /conda/lib/python3.6/site-packages (from requests==2.21.0->v3io) (2.8)\n",
      "Requirement already satisfied: chardet<3.1.0,>=3.0.2 in /conda/lib/python3.6/site-packages (from requests==2.21.0->v3io) (3.0.4)\n",
      "Requirement already satisfied: urllib3<1.25,>=1.21.1 in /conda/lib/python3.6/site-packages (from requests==2.21.0->v3io) (1.24.1)\n",
      "Requirement already satisfied: certifi>=2017.4.17 in /conda/lib/python3.6/site-packages (from requests==2.21.0->v3io) (2019.3.9)\n",
      "Building wheels for collected packages: v3io, ujson\n",
      "  Running setup.py bdist_wheel for v3io ... \u001b[?25ldone\n",
      "\u001b[?25h  Stored in directory: /igz/.cache/pip/wheels/16/06/30/71478da3b7ae64df011a3466bcea2653a35ba3c5aa43ca1331\n",
      "  Running setup.py bdist_wheel for ujson ... \u001b[?25ldone\n",
      "\u001b[?25h  Stored in directory: /igz/.cache/pip/wheels/28/77/e4/0311145b9c2e2f01470e744855131f9e34d6919687550f87d1\n",
      "Successfully built v3io ujson\n",
      "Installing collected packages: ujson, v3io\n",
      "Successfully installed ujson-1.35 v3io-0.1.1\n",
      "Requirement already satisfied: v3io_frames in /conda/lib/python3.6/site-packages (0.4.2)\n",
      "Requirement already satisfied: googleapis-common-protos>=1.5.3 in /conda/lib/python3.6/site-packages (from v3io_frames) (1.5.9)\n",
      "Requirement already satisfied: grpcio-tools>=1.16.0 in /conda/lib/python3.6/site-packages (from v3io_frames) (1.19.0)\n",
      "Requirement already satisfied: requests>=2.19.1 in /conda/lib/python3.6/site-packages (from v3io_frames) (2.21.0)\n",
      "Requirement already satisfied: pandas==0.23.* in /conda/lib/python3.6/site-packages (from v3io_frames) (0.23.4)\n",
      "Requirement already satisfied: protobuf>=3.6.0 in /conda/lib/python3.6/site-packages (from googleapis-common-protos>=1.5.3->v3io_frames) (3.7.1)\n",
      "Requirement already satisfied: grpcio>=1.19.0 in /conda/lib/python3.6/site-packages (from grpcio-tools>=1.16.0->v3io_frames) (1.19.0)\n",
      "Requirement already satisfied: idna<2.9,>=2.5 in /conda/lib/python3.6/site-packages (from requests>=2.19.1->v3io_frames) (2.8)\n",
      "Requirement already satisfied: chardet<3.1.0,>=3.0.2 in /conda/lib/python3.6/site-packages (from requests>=2.19.1->v3io_frames) (3.0.4)\n",
      "Requirement already satisfied: certifi>=2017.4.17 in /conda/lib/python3.6/site-packages (from requests>=2.19.1->v3io_frames) (2019.3.9)\n",
      "Requirement already satisfied: urllib3<1.25,>=1.21.1 in /conda/lib/python3.6/site-packages (from requests>=2.19.1->v3io_frames) (1.24.1)\n",
      "Requirement already satisfied: python-dateutil>=2.5.0 in /conda/lib/python3.6/site-packages (from pandas==0.23.*->v3io_frames) (2.8.0)\n",
      "Requirement already satisfied: pytz>=2011k in /conda/lib/python3.6/site-packages (from pandas==0.23.*->v3io_frames) (2018.9)\n",
      "Requirement already satisfied: numpy>=1.9.0 in /conda/lib/python3.6/site-packages (from pandas==0.23.*->v3io_frames) (1.16.2)\n",
      "Requirement already satisfied: setuptools in /conda/lib/python3.6/site-packages (from protobuf>=3.6.0->googleapis-common-protos>=1.5.3->v3io_frames) (40.8.0)\n",
      "Requirement already satisfied: six>=1.9 in /conda/lib/python3.6/site-packages (from protobuf>=3.6.0->googleapis-common-protos>=1.5.3->v3io_frames) (1.12.0)\n"
     ]
    }
   ],
   "source": [
    "!pip install faker\n",
    "!pip install pymorton\n",
    "!pip install v3io\n",
    "!pip install v3io_frames"
   ]
  },
  {
   "cell_type": "markdown",
   "metadata": {},
   "source": [
    "### Define environment variables"
   ]
  },
  {
   "cell_type": "code",
   "execution_count": 1,
   "metadata": {},
   "outputs": [],
   "source": [
    "# Stores\n",
    "NUMBER_OF_STORES=500\n",
    "STORES_TABLE='stores'\n",
    "ACCURACY=20\n",
    "BASE_ACCURACY=14\n",
    "\n",
    "# Customers\n",
    "NUMBER_OF_CUSTOMERS=3000\n",
    "CUSTOMERS_TABLE='customers'\n",
    "CUSTOMERS_DATA_FILE='data/trained/data_train_n.csv'"
   ]
  },
  {
   "cell_type": "markdown",
   "metadata": {},
   "source": [
    "### imports"
   ]
  },
  {
   "cell_type": "code",
   "execution_count": 2,
   "metadata": {},
   "outputs": [],
   "source": [
    "import logging\n",
    "import os\n",
    "import pickle\n",
    "import random\n",
    "import itertools\n",
    "\n",
    "# Demo\n",
    "import pandas as pd\n",
    "import pymorton as pm\n",
    "from faker import Faker\n",
    "from faker.providers import BaseProvider\n",
    "\n",
    "# DB\n",
    "import v3io as v3c\n",
    "import v3io_frames as v3f"
   ]
  },
  {
   "cell_type": "markdown",
   "metadata": {},
   "source": [
    "### Open DB client"
   ]
  },
  {
   "cell_type": "code",
   "execution_count": 3,
   "metadata": {},
   "outputs": [],
   "source": [
    "client = v3f.Client('http://'+os.getenv('V3IO_FRAMESD'))"
   ]
  },
  {
   "cell_type": "markdown",
   "metadata": {},
   "source": [
    "## Generate Stores"
   ]
  },
  {
   "cell_type": "markdown",
   "metadata": {},
   "source": [
    "### Location provider"
   ]
  },
  {
   "cell_type": "code",
   "execution_count": 4,
   "metadata": {},
   "outputs": [],
   "source": [
    "class LocationProvider(BaseProvider):\n",
    "    '''\n",
    "    Creates locations within base_location\n",
    "\n",
    "    Uses QuadTree for Geohashing\n",
    "        @{http://tech.taskrabbit.com/blog/2015/06/09/elasticsearch-geohash-vs-geotree/}\n",
    "        @{http://mapzen.github.io/leaflet-spatial-prefix-tree/}\n",
    "        @{http://blog.notdot.net/2009/11/Damn-Cool-Algorithms-Spatial-indexing-with-Quadtrees-and-Hilbert-Curves}\n",
    "    '''    \n",
    "    def location(self, location_base: str, base_acc=10, acc=20):\n",
    "        coordinates = location_base[:base_acc]\n",
    "        for i in range(acc-len(coordinates)):\n",
    "            coordinates += str(random.randint(0, 3))\n",
    "        return coordinates"
   ]
  },
  {
   "cell_type": "markdown",
   "metadata": {},
   "source": [
    "Add the location provider as a faker provider"
   ]
  },
  {
   "cell_type": "code",
   "execution_count": 5,
   "metadata": {},
   "outputs": [],
   "source": [
    "faker = Faker()\n",
    "faker.add_provider(LocationProvider)"
   ]
  },
  {
   "cell_type": "markdown",
   "metadata": {},
   "source": [
    "### Define scenario environment (locations)"
   ]
  },
  {
   "cell_type": "code",
   "execution_count": 6,
   "metadata": {},
   "outputs": [
    {
     "data": {
      "text/plain": [
       "['03311311313011311011000321002320',\n",
       " '03311311311233323013031101320003',\n",
       " '03311311313010023000032330133111',\n",
       " '03311311311222300331010333220231']"
      ]
     },
     "execution_count": 6,
     "metadata": {},
     "output_type": "execute_result"
    }
   ],
   "source": [
    "london_city = (51.514926, -0.089580)\n",
    "london_city_south = (51.501593, -0.094942)\n",
    "london_west = (51.512309, -0.128966)\n",
    "london_south_west = (51.495022, -0.162268)\n",
    "\n",
    "london_coordinates = []\n",
    "london_coordinates.append(london_city)\n",
    "london_coordinates.append(london_city_south)\n",
    "london_coordinates.append(london_west)\n",
    "london_coordinates.append(london_south_west)\n",
    "\n",
    "london_coordinates_qt = list(map(lambda cooridnate: pm.interleave_latlng(*cooridnate), london_coordinates))\n",
    "london_coordinates_qt"
   ]
  },
  {
   "cell_type": "markdown",
   "metadata": {},
   "source": [
    "### Define Store class"
   ]
  },
  {
   "cell_type": "code",
   "execution_count": 11,
   "metadata": {},
   "outputs": [],
   "source": [
    "class Store(object):\n",
    "    def __init__(self, store_id: int, name: str, location: str):\n",
    "        self.store_id = store_id if store_id is not None else random.randint(1, int(os.genev('NUMBER_OF_STORES', 500)))\n",
    "        self.location = location\n",
    "        (self.lat, self.long) = pm.deinterleave_latlng(location)\n",
    "        self.store_name = name\n",
    "        self.customers = 0\n",
    "    \n",
    "    def json(self):\n",
    "        json_store = {\n",
    "            'id': self.store_id,\n",
    "            'name': self.store_name,\n",
    "            'location': self.location,\n",
    "            'latitude': self.lat,\n",
    "            'longitude': self.long,\n",
    "            'customers': self.customers\n",
    "        }\n",
    "        return json_store"
   ]
  },
  {
   "cell_type": "markdown",
   "metadata": {},
   "source": [
    "### Create stores"
   ]
  },
  {
   "cell_type": "code",
   "execution_count": 12,
   "metadata": {},
   "outputs": [],
   "source": [
    "def create_stores(faker, number_of_stores: int=500):\n",
    "    remaining = number_of_stores\n",
    "    stores = []\n",
    "    while remaining > 0:\n",
    "        # Create stores\n",
    "        stores_batch = [Store(faker.msisdn(), faker.company(), faker.location(random.choice(london_coordinates_qt), BASE_ACCURACY, ACCURACY)).json() \n",
    "              for i in range(remaining)]\n",
    "        \n",
    "        # Count for duplicate locations\n",
    "        locations = list(map(lambda store: store['location'], stores_batch))\n",
    "        locations = list(dict.fromkeys(locations))\n",
    "        remaining -= len(locations)\n",
    "        \n",
    "        # Update stores list\n",
    "        stores.append(stores_batch)\n",
    "\n",
    "    stores = list(itertools.chain.from_iterable(stores))\n",
    "    stores = pd.DataFrame.from_records(stores)\n",
    "    stores = stores.set_index(['location'])\n",
    "    stores = stores[~stores.index.duplicated(keep='first')]\n",
    "    return stores"
   ]
  },
  {
   "cell_type": "code",
   "execution_count": 13,
   "metadata": {},
   "outputs": [],
   "source": [
    "client.delete('kv', STORES_TABLE)"
   ]
  },
  {
   "cell_type": "code",
   "execution_count": 14,
   "metadata": {},
   "outputs": [
    {
     "data": {
      "text/html": [
       "<div>\n",
       "<style scoped>\n",
       "    .dataframe tbody tr th:only-of-type {\n",
       "        vertical-align: middle;\n",
       "    }\n",
       "\n",
       "    .dataframe tbody tr th {\n",
       "        vertical-align: top;\n",
       "    }\n",
       "\n",
       "    .dataframe thead th {\n",
       "        text-align: right;\n",
       "    }\n",
       "</style>\n",
       "<table border=\"1\" class=\"dataframe\">\n",
       "  <thead>\n",
       "    <tr style=\"text-align: right;\">\n",
       "      <th></th>\n",
       "      <th>customers</th>\n",
       "      <th>id</th>\n",
       "      <th>latitude</th>\n",
       "      <th>longitude</th>\n",
       "      <th>name</th>\n",
       "    </tr>\n",
       "    <tr>\n",
       "      <th>location</th>\n",
       "      <th></th>\n",
       "      <th></th>\n",
       "      <th></th>\n",
       "      <th></th>\n",
       "      <th></th>\n",
       "    </tr>\n",
       "  </thead>\n",
       "  <tbody>\n",
       "    <tr>\n",
       "      <th>03311311313011210101</th>\n",
       "      <td>0</td>\n",
       "      <td>9707399003926</td>\n",
       "      <td>51.514893</td>\n",
       "      <td>-0.102654</td>\n",
       "      <td>Robbins Ltd</td>\n",
       "    </tr>\n",
       "    <tr>\n",
       "      <th>03311311313011000313</th>\n",
       "      <td>0</td>\n",
       "      <td>4557898581603</td>\n",
       "      <td>51.505623</td>\n",
       "      <td>-0.107460</td>\n",
       "      <td>Ruiz, Clayton and Hall</td>\n",
       "    </tr>\n",
       "    <tr>\n",
       "      <th>03311311311222112210</th>\n",
       "      <td>0</td>\n",
       "      <td>1149632372511</td>\n",
       "      <td>51.486053</td>\n",
       "      <td>-0.158615</td>\n",
       "      <td>Scott-King</td>\n",
       "    </tr>\n",
       "    <tr>\n",
       "      <th>03311311313011120200</th>\n",
       "      <td>0</td>\n",
       "      <td>3351137116309</td>\n",
       "      <td>51.510773</td>\n",
       "      <td>-0.098877</td>\n",
       "      <td>Christensen-Hanna</td>\n",
       "    </tr>\n",
       "    <tr>\n",
       "      <th>03311311311233232333</th>\n",
       "      <td>0</td>\n",
       "      <td>9981388292141</td>\n",
       "      <td>51.503563</td>\n",
       "      <td>-0.101967</td>\n",
       "      <td>Carey and Sons</td>\n",
       "    </tr>\n",
       "  </tbody>\n",
       "</table>\n",
       "</div>"
      ],
      "text/plain": [
       "                      customers             id   latitude  longitude  \\\n",
       "location                                                               \n",
       "03311311313011210101          0  9707399003926  51.514893  -0.102654   \n",
       "03311311313011000313          0  4557898581603  51.505623  -0.107460   \n",
       "03311311311222112210          0  1149632372511  51.486053  -0.158615   \n",
       "03311311313011120200          0  3351137116309  51.510773  -0.098877   \n",
       "03311311311233232333          0  9981388292141  51.503563  -0.101967   \n",
       "\n",
       "                                        name  \n",
       "location                                      \n",
       "03311311313011210101             Robbins Ltd  \n",
       "03311311313011000313  Ruiz, Clayton and Hall  \n",
       "03311311311222112210              Scott-King  \n",
       "03311311313011120200       Christensen-Hanna  \n",
       "03311311311233232333          Carey and Sons  "
      ]
     },
     "execution_count": 14,
     "metadata": {},
     "output_type": "execute_result"
    }
   ],
   "source": [
    "stores = create_stores(faker, NUMBER_OF_STORES)\n",
    "stores.head(5)"
   ]
  },
  {
   "cell_type": "markdown",
   "metadata": {},
   "source": [
    "### Upload to DB "
   ]
  },
  {
   "cell_type": "code",
   "execution_count": 15,
   "metadata": {},
   "outputs": [
    {
     "data": {
      "text/plain": [
       "{'num_frames': 1, 'num_rows': 500}"
      ]
     },
     "execution_count": 15,
     "metadata": {},
     "output_type": "execute_result"
    }
   ],
   "source": [
    "# client.delete('kv', STORES_TABLE)\n",
    "client.write('kv', STORES_TABLE, stores)"
   ]
  },
  {
   "cell_type": "code",
   "execution_count": 16,
   "metadata": {},
   "outputs": [
    {
     "data": {
      "text/html": [
       "<div>\n",
       "<style scoped>\n",
       "    .dataframe tbody tr th:only-of-type {\n",
       "        vertical-align: middle;\n",
       "    }\n",
       "\n",
       "    .dataframe tbody tr th {\n",
       "        vertical-align: top;\n",
       "    }\n",
       "\n",
       "    .dataframe thead th {\n",
       "        text-align: right;\n",
       "    }\n",
       "</style>\n",
       "<table border=\"1\" class=\"dataframe\">\n",
       "  <thead>\n",
       "    <tr style=\"text-align: right;\">\n",
       "      <th></th>\n",
       "      <th>customers</th>\n",
       "      <th>id</th>\n",
       "      <th>latitude</th>\n",
       "      <th>longitude</th>\n",
       "      <th>name</th>\n",
       "    </tr>\n",
       "    <tr>\n",
       "      <th>__name</th>\n",
       "      <th></th>\n",
       "      <th></th>\n",
       "      <th></th>\n",
       "      <th></th>\n",
       "      <th></th>\n",
       "    </tr>\n",
       "  </thead>\n",
       "  <tbody>\n",
       "    <tr>\n",
       "      <th>03311311311233300103</th>\n",
       "      <td>0.0</td>\n",
       "      <td>0989621488677</td>\n",
       "      <td>51.493263</td>\n",
       "      <td>-0.097160</td>\n",
       "      <td>Palmer, Moreno and Anderson</td>\n",
       "    </tr>\n",
       "    <tr>\n",
       "      <th>03311311311222121130</th>\n",
       "      <td>0.0</td>\n",
       "      <td>4905200115083</td>\n",
       "      <td>51.488113</td>\n",
       "      <td>-0.159988</td>\n",
       "      <td>Shaffer Group</td>\n",
       "    </tr>\n",
       "    <tr>\n",
       "      <th>03311311311233222300</th>\n",
       "      <td>0.0</td>\n",
       "      <td>0888654547391</td>\n",
       "      <td>51.502533</td>\n",
       "      <td>-0.108490</td>\n",
       "      <td>Wiley-Wilson</td>\n",
       "    </tr>\n",
       "    <tr>\n",
       "      <th>03311311311233033011</th>\n",
       "      <td>0.0</td>\n",
       "      <td>7752376244623</td>\n",
       "      <td>51.490173</td>\n",
       "      <td>-0.100594</td>\n",
       "      <td>Schultz-Kramer</td>\n",
       "    </tr>\n",
       "    <tr>\n",
       "      <th>03311311311233320101</th>\n",
       "      <td>0.0</td>\n",
       "      <td>2174056506575</td>\n",
       "      <td>51.498413</td>\n",
       "      <td>-0.097160</td>\n",
       "      <td>Peters, Colon and Nash</td>\n",
       "    </tr>\n",
       "  </tbody>\n",
       "</table>\n",
       "</div>"
      ],
      "text/plain": [
       "                      customers             id   latitude  longitude  \\\n",
       "__name                                                                 \n",
       "03311311311233300103        0.0  0989621488677  51.493263  -0.097160   \n",
       "03311311311222121130        0.0  4905200115083  51.488113  -0.159988   \n",
       "03311311311233222300        0.0  0888654547391  51.502533  -0.108490   \n",
       "03311311311233033011        0.0  7752376244623  51.490173  -0.100594   \n",
       "03311311311233320101        0.0  2174056506575  51.498413  -0.097160   \n",
       "\n",
       "                                             name  \n",
       "__name                                             \n",
       "03311311311233300103  Palmer, Moreno and Anderson  \n",
       "03311311311222121130                Shaffer Group  \n",
       "03311311311233222300                 Wiley-Wilson  \n",
       "03311311311233033011               Schultz-Kramer  \n",
       "03311311311233320101       Peters, Colon and Nash  "
      ]
     },
     "execution_count": 16,
     "metadata": {},
     "output_type": "execute_result"
    }
   ],
   "source": [
    "client.read('kv', STORES_TABLE).head(5)"
   ]
  },
  {
   "cell_type": "markdown",
   "metadata": {},
   "source": [
    "## Generate customers"
   ]
  },
  {
   "cell_type": "code",
   "execution_count": 14,
   "metadata": {},
   "outputs": [],
   "source": [
    "class Customer(object):\n",
    "    def __init__(self, id=0, location='', products=\"\"):\n",
    "        self.id = id\n",
    "        self.location = location\n",
    "        self.products = products\n",
    "        \n",
    "    def json(self):\n",
    "        json_customer = {\n",
    "            'id': self.id,\n",
    "            'location': self.location,\n",
    "            'products': self.products\n",
    "        }\n",
    "        return json_customer"
   ]
  },
  {
   "cell_type": "code",
   "execution_count": 15,
   "metadata": {},
   "outputs": [],
   "source": [
    "def create_customers(customers_data: pd.DataFrame, number_of_customers: int):\n",
    "    available_customer = list(customers_data.user_id)\n",
    "    customers = [Customer(id=i,\n",
    "                          products=customers_data.loc[customers_data['user_id'] == random.choice(available_customer)]\\\n",
    "                                    .drop(['user_id', 'Unnamed: 0'], axis=1)\\\n",
    "                                    .to_json()).json() for i in range(number_of_customers)]\n",
    "    customers = pd.DataFrame.from_records(customers)\n",
    "    customers.set_index(['id'])\n",
    "    return customers"
   ]
  },
  {
   "cell_type": "code",
   "execution_count": 17,
   "metadata": {},
   "outputs": [
    {
     "data": {
      "text/html": [
       "<div>\n",
       "<style scoped>\n",
       "    .dataframe tbody tr th:only-of-type {\n",
       "        vertical-align: middle;\n",
       "    }\n",
       "\n",
       "    .dataframe tbody tr th {\n",
       "        vertical-align: top;\n",
       "    }\n",
       "\n",
       "    .dataframe thead th {\n",
       "        text-align: right;\n",
       "    }\n",
       "</style>\n",
       "<table border=\"1\" class=\"dataframe\">\n",
       "  <thead>\n",
       "    <tr style=\"text-align: right;\">\n",
       "      <th></th>\n",
       "      <th>id</th>\n",
       "      <th>location</th>\n",
       "      <th>products</th>\n",
       "    </tr>\n",
       "  </thead>\n",
       "  <tbody>\n",
       "    <tr>\n",
       "      <th>0</th>\n",
       "      <td>0</td>\n",
       "      <td></td>\n",
       "      <td>{\"user_product_reordered_ratio\":{\"7529\":1.0,\"4...</td>\n",
       "    </tr>\n",
       "    <tr>\n",
       "      <th>1</th>\n",
       "      <td>1</td>\n",
       "      <td></td>\n",
       "      <td>{\"user_product_reordered_ratio\":{\"46294\":1.0,\"...</td>\n",
       "    </tr>\n",
       "    <tr>\n",
       "      <th>2</th>\n",
       "      <td>2</td>\n",
       "      <td></td>\n",
       "      <td>{\"user_product_reordered_ratio\":{\"272\":1.0,\"65...</td>\n",
       "    </tr>\n",
       "    <tr>\n",
       "      <th>3</th>\n",
       "      <td>3</td>\n",
       "      <td></td>\n",
       "      <td>{\"user_product_reordered_ratio\":{\"174254\":1.0,...</td>\n",
       "    </tr>\n",
       "    <tr>\n",
       "      <th>4</th>\n",
       "      <td>4</td>\n",
       "      <td></td>\n",
       "      <td>{\"user_product_reordered_ratio\":{\"272892\":1.0,...</td>\n",
       "    </tr>\n",
       "  </tbody>\n",
       "</table>\n",
       "</div>"
      ],
      "text/plain": [
       "   id location                                           products\n",
       "0   0           {\"user_product_reordered_ratio\":{\"7529\":1.0,\"4...\n",
       "1   1           {\"user_product_reordered_ratio\":{\"46294\":1.0,\"...\n",
       "2   2           {\"user_product_reordered_ratio\":{\"272\":1.0,\"65...\n",
       "3   3           {\"user_product_reordered_ratio\":{\"174254\":1.0,...\n",
       "4   4           {\"user_product_reordered_ratio\":{\"272892\":1.0,..."
      ]
     },
     "execution_count": 17,
     "metadata": {},
     "output_type": "execute_result"
    }
   ],
   "source": [
    "# Load customers seed data\n",
    "customers_data = pd.read_csv(CUSTOMERS_DATA_FILE)\n",
    "\n",
    "# Create actual customers\n",
    "customers = create_customers(customers_data, NUMBER_OF_CUSTOMERS)\n",
    "customers.head(5)"
   ]
  },
  {
   "cell_type": "markdown",
   "metadata": {},
   "source": [
    "## Upload to DB"
   ]
  },
  {
   "cell_type": "code",
   "execution_count": 24,
   "metadata": {},
   "outputs": [
    {
     "ename": "Error",
     "evalue": "cannot call API - write error: can't wait for completion: Failed PUT with status 400",
     "output_type": "error",
     "traceback": [
      "\u001b[0;31m---------------------------------------------------------------------------\u001b[0m",
      "\u001b[0;31mError\u001b[0m                                     Traceback (most recent call last)",
      "\u001b[0;32m<ipython-input-24-26eda9d7ddf3>\u001b[0m in \u001b[0;36m<module>\u001b[0;34m\u001b[0m\n\u001b[1;32m      1\u001b[0m \u001b[0;31m# client.delete('kv', CUSTOMERS_TABLE)\u001b[0m\u001b[0;34m\u001b[0m\u001b[0;34m\u001b[0m\u001b[0;34m\u001b[0m\u001b[0m\n\u001b[0;32m----> 2\u001b[0;31m \u001b[0mclient\u001b[0m\u001b[0;34m.\u001b[0m\u001b[0mwrite\u001b[0m\u001b[0;34m(\u001b[0m\u001b[0;34m'kv'\u001b[0m\u001b[0;34m,\u001b[0m \u001b[0mCUSTOMERS_TABLE\u001b[0m\u001b[0;34m,\u001b[0m \u001b[0mcustomers\u001b[0m\u001b[0;34m)\u001b[0m\u001b[0;34m\u001b[0m\u001b[0;34m\u001b[0m\u001b[0m\n\u001b[0m",
      "\u001b[0;32m/conda/lib/python3.6/site-packages/v3io_frames/client.py\u001b[0m in \u001b[0;36mwrite\u001b[0;34m(self, backend, table, dfs, expression, labels, max_in_message, index_cols, partition_keys)\u001b[0m\n\u001b[1;32m    135\u001b[0m         request = self._encode_write(\n\u001b[1;32m    136\u001b[0m             backend, table, expression, partition_keys)\n\u001b[0;32m--> 137\u001b[0;31m         \u001b[0;32mreturn\u001b[0m \u001b[0mself\u001b[0m\u001b[0;34m.\u001b[0m\u001b[0m_write\u001b[0m\u001b[0;34m(\u001b[0m\u001b[0mrequest\u001b[0m\u001b[0;34m,\u001b[0m \u001b[0mdfs\u001b[0m\u001b[0;34m,\u001b[0m \u001b[0mlabels\u001b[0m\u001b[0;34m,\u001b[0m \u001b[0mindex_cols\u001b[0m\u001b[0;34m)\u001b[0m\u001b[0;34m\u001b[0m\u001b[0;34m\u001b[0m\u001b[0m\n\u001b[0m\u001b[1;32m    138\u001b[0m \u001b[0;34m\u001b[0m\u001b[0m\n\u001b[1;32m    139\u001b[0m     \u001b[0;32mdef\u001b[0m \u001b[0mcreate\u001b[0m\u001b[0;34m(\u001b[0m\u001b[0mself\u001b[0m\u001b[0;34m,\u001b[0m \u001b[0mbackend\u001b[0m\u001b[0;34m,\u001b[0m \u001b[0mtable\u001b[0m\u001b[0;34m,\u001b[0m \u001b[0mattrs\u001b[0m\u001b[0;34m=\u001b[0m\u001b[0;32mNone\u001b[0m\u001b[0;34m,\u001b[0m \u001b[0mschema\u001b[0m\u001b[0;34m=\u001b[0m\u001b[0;32mNone\u001b[0m\u001b[0;34m,\u001b[0m \u001b[0mif_exists\u001b[0m\u001b[0;34m=\u001b[0m\u001b[0mFAIL\u001b[0m\u001b[0;34m)\u001b[0m\u001b[0;34m:\u001b[0m\u001b[0;34m\u001b[0m\u001b[0;34m\u001b[0m\u001b[0m\n",
      "\u001b[0;32m/conda/lib/python3.6/site-packages/v3io_frames/http.py\u001b[0m in \u001b[0;36mwrapper\u001b[0;34m(*args, **kw)\u001b[0m\n\u001b[1;32m     42\u001b[0m         \u001b[0;32mdef\u001b[0m \u001b[0mwrapper\u001b[0m\u001b[0;34m(\u001b[0m\u001b[0;34m*\u001b[0m\u001b[0margs\u001b[0m\u001b[0;34m,\u001b[0m \u001b[0;34m**\u001b[0m\u001b[0mkw\u001b[0m\u001b[0;34m)\u001b[0m\u001b[0;34m:\u001b[0m\u001b[0;34m\u001b[0m\u001b[0;34m\u001b[0m\u001b[0m\n\u001b[1;32m     43\u001b[0m             \u001b[0;32mtry\u001b[0m\u001b[0;34m:\u001b[0m\u001b[0;34m\u001b[0m\u001b[0;34m\u001b[0m\u001b[0m\n\u001b[0;32m---> 44\u001b[0;31m                 \u001b[0;32mreturn\u001b[0m \u001b[0mfn\u001b[0m\u001b[0;34m(\u001b[0m\u001b[0;34m*\u001b[0m\u001b[0margs\u001b[0m\u001b[0;34m,\u001b[0m \u001b[0;34m**\u001b[0m\u001b[0mkw\u001b[0m\u001b[0;34m)\u001b[0m\u001b[0;34m\u001b[0m\u001b[0;34m\u001b[0m\u001b[0m\n\u001b[0m\u001b[1;32m     45\u001b[0m             \u001b[0;32mexcept\u001b[0m \u001b[0;34m(\u001b[0m\u001b[0mRequestException\u001b[0m\u001b[0;34m,\u001b[0m \u001b[0mHTTPError\u001b[0m\u001b[0;34m)\u001b[0m \u001b[0;32mas\u001b[0m \u001b[0merr\u001b[0m\u001b[0;34m:\u001b[0m\u001b[0;34m\u001b[0m\u001b[0;34m\u001b[0m\u001b[0m\n\u001b[1;32m     46\u001b[0m                 \u001b[0;32mraise\u001b[0m \u001b[0merror_cls\u001b[0m\u001b[0;34m(\u001b[0m\u001b[0mstr\u001b[0m\u001b[0;34m(\u001b[0m\u001b[0merr\u001b[0m\u001b[0;34m)\u001b[0m\u001b[0;34m)\u001b[0m\u001b[0;34m\u001b[0m\u001b[0;34m\u001b[0m\u001b[0m\n",
      "\u001b[0;32m/conda/lib/python3.6/site-packages/v3io_frames/http.py\u001b[0m in \u001b[0;36m_write\u001b[0;34m(self, request, dfs, labels, index_cols)\u001b[0m\n\u001b[1;32m    105\u001b[0m \u001b[0;34m\u001b[0m\u001b[0m\n\u001b[1;32m    106\u001b[0m         \u001b[0;32mif\u001b[0m \u001b[0;32mnot\u001b[0m \u001b[0mresp\u001b[0m\u001b[0;34m.\u001b[0m\u001b[0mok\u001b[0m\u001b[0;34m:\u001b[0m\u001b[0;34m\u001b[0m\u001b[0;34m\u001b[0m\u001b[0m\n\u001b[0;32m--> 107\u001b[0;31m             \u001b[0;32mraise\u001b[0m \u001b[0mError\u001b[0m\u001b[0;34m(\u001b[0m\u001b[0;34m'cannot call API - {}'\u001b[0m\u001b[0;34m.\u001b[0m\u001b[0mformat\u001b[0m\u001b[0;34m(\u001b[0m\u001b[0mresp\u001b[0m\u001b[0;34m.\u001b[0m\u001b[0mtext\u001b[0m\u001b[0;34m)\u001b[0m\u001b[0;34m)\u001b[0m\u001b[0;34m\u001b[0m\u001b[0;34m\u001b[0m\u001b[0m\n\u001b[0m\u001b[1;32m    108\u001b[0m \u001b[0;34m\u001b[0m\u001b[0m\n\u001b[1;32m    109\u001b[0m         \u001b[0;32mreturn\u001b[0m \u001b[0mresp\u001b[0m\u001b[0;34m.\u001b[0m\u001b[0mjson\u001b[0m\u001b[0;34m(\u001b[0m\u001b[0;34m)\u001b[0m\u001b[0;34m\u001b[0m\u001b[0;34m\u001b[0m\u001b[0m\n",
      "\u001b[0;31mError\u001b[0m: cannot call API - write error: can't wait for completion: Failed PUT with status 400"
     ]
    }
   ],
   "source": [
    "# client.delete('kv', CUSTOMERS_TABLE)\n",
    "client.write('kv', CUSTOMERS_TABLE, customers)"
   ]
  },
  {
   "cell_type": "code",
   "execution_count": 22,
   "metadata": {},
   "outputs": [
    {
     "data": {
      "text/plain": [
       "(2985, 3)"
      ]
     },
     "execution_count": 22,
     "metadata": {},
     "output_type": "execute_result"
    }
   ],
   "source": [
    "client.read('kv', CUSTOMERS_TABLE).shape"
   ]
  },
  {
   "cell_type": "markdown",
   "metadata": {},
   "source": [
    "## Generate predictions"
   ]
  },
  {
   "cell_type": "code",
   "execution_count": 22,
   "metadata": {},
   "outputs": [],
   "source": [
    "client.create('tsdb', 'predictions', attrs={'rate': '1/s'})"
   ]
  },
  {
   "cell_type": "code",
   "execution_count": null,
   "metadata": {},
   "outputs": [],
   "source": []
  }
 ],
 "metadata": {
  "kernelspec": {
   "display_name": "Python 3",
   "language": "python",
   "name": "python3"
  },
  "language_info": {
   "codemirror_mode": {
    "name": "ipython",
    "version": 3
   },
   "file_extension": ".py",
   "mimetype": "text/x-python",
   "name": "python",
   "nbconvert_exporter": "python",
   "pygments_lexer": "ipython3",
   "version": "3.6.8"
  }
 },
 "nbformat": 4,
 "nbformat_minor": 2
}
