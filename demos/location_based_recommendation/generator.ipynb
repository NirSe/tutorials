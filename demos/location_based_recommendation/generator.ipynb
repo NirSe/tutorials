{
 "cells": [
  {
   "cell_type": "markdown",
   "metadata": {},
   "source": [
    "# Nuclio - Generator"
   ]
  },
  {
   "cell_type": "markdown",
   "metadata": {},
   "source": [
    "## Setup the environment"
   ]
  },
  {
   "cell_type": "code",
   "execution_count": 2,
   "metadata": {},
   "outputs": [],
   "source": [
    "# nuclio: ignore\n",
    "import nuclio"
   ]
  },
  {
   "cell_type": "markdown",
   "metadata": {},
   "source": [
    "### Define environment variables"
   ]
  },
  {
   "cell_type": "code",
   "execution_count": 35,
   "metadata": {},
   "outputs": [
    {
     "name": "stdout",
     "output_type": "stream",
     "text": [
      "%nuclio: setting 'V3IO_FRAMESD' environment variable\n",
      "%nuclio: setting 'V3IO_USERNAME' environment variable\n",
      "%nuclio: setting 'V3IO_ACCESS_KEY' environment variable\n",
      "%nuclio: setting 'BATCH_SIZE' environment variable\n",
      "%nuclio: setting 'DATA_STREAM' environment variable\n",
      "%nuclio: setting 'london_locations' environment variable\n",
      "%nuclio: setting 'ACCURACY' environment variable\n",
      "%nuclio: setting 'BASE_ACCURACY' environment variable\n"
     ]
    },
    {
     "name": "stderr",
     "output_type": "stream",
     "text": [
      "%nuclio: cannot find \"=\" in line\n",
      "%nuclio: cannot find \"=\" in line\n"
     ]
    }
   ],
   "source": [
    "%%nuclio env\n",
    "\n",
    "# Iguazio access\n",
    "V3IO_FRAMESD=${V3IO_FRAMESD}\n",
    "V3IO_USERNAME=${V3IO_USERNAME}\n",
    "V3IO_ACCESS_KEY=${V3IO_ACCESS_KEY}\n",
    "\n",
    "# Function variables\n",
    "BATCH_SIZE=100\n",
    "DATA_STREAM=customers_stream\n",
    "london_locations=03311311313011311011000321002320,03311311311233323013031101320003,03311311313010023000032330133111,03311311311222300331010333220231\n",
    "ACCURACY=20\n",
    "BASE_ACCURACY=14"
   ]
  },
  {
   "cell_type": "markdown",
   "metadata": {},
   "source": [
    "### Base image"
   ]
  },
  {
   "cell_type": "code",
   "execution_count": 20,
   "metadata": {},
   "outputs": [
    {
     "name": "stdout",
     "output_type": "stream",
     "text": [
      "%nuclio: setting spec.build.baseImage to 'python:3.6-jessie'\n"
     ]
    }
   ],
   "source": [
    "%nuclio config spec.build.baseImage = \"python:3.6-jessie\""
   ]
  },
  {
   "cell_type": "markdown",
   "metadata": {},
   "source": [
    "### Install packages"
   ]
  },
  {
   "cell_type": "code",
   "execution_count": 21,
   "metadata": {},
   "outputs": [
    {
     "name": "stdout",
     "output_type": "stream",
     "text": [
      "Requirement already satisfied: pandas in /conda/lib/python3.6/site-packages (0.23.4)\n",
      "Requirement already satisfied: numpy>=1.9.0 in /conda/lib/python3.6/site-packages (from pandas) (1.16.2)\n",
      "Requirement already satisfied: pytz>=2011k in /conda/lib/python3.6/site-packages (from pandas) (2018.9)\n",
      "Requirement already satisfied: python-dateutil>=2.5.0 in /conda/lib/python3.6/site-packages (from pandas) (2.8.0)\n",
      "Requirement already satisfied: six>=1.5 in /conda/lib/python3.6/site-packages (from python-dateutil>=2.5.0->pandas) (1.12.0)\n",
      "Requirement already satisfied: v3io_frames in /conda/lib/python3.6/site-packages (0.4.2)\n",
      "Requirement already satisfied: pandas==0.23.* in /conda/lib/python3.6/site-packages (from v3io_frames) (0.23.4)\n",
      "Requirement already satisfied: requests>=2.19.1 in /conda/lib/python3.6/site-packages (from v3io_frames) (2.21.0)\n",
      "Requirement already satisfied: grpcio-tools>=1.16.0 in /conda/lib/python3.6/site-packages (from v3io_frames) (1.18.0)\n",
      "Requirement already satisfied: googleapis-common-protos>=1.5.3 in /conda/lib/python3.6/site-packages (from v3io_frames) (1.5.8)\n",
      "Requirement already satisfied: pytz>=2011k in /conda/lib/python3.6/site-packages (from pandas==0.23.*->v3io_frames) (2018.9)\n",
      "Requirement already satisfied: numpy>=1.9.0 in /conda/lib/python3.6/site-packages (from pandas==0.23.*->v3io_frames) (1.16.2)\n",
      "Requirement already satisfied: python-dateutil>=2.5.0 in /conda/lib/python3.6/site-packages (from pandas==0.23.*->v3io_frames) (2.8.0)\n",
      "Requirement already satisfied: chardet<3.1.0,>=3.0.2 in /conda/lib/python3.6/site-packages (from requests>=2.19.1->v3io_frames) (3.0.4)\n",
      "Requirement already satisfied: certifi>=2017.4.17 in /conda/lib/python3.6/site-packages (from requests>=2.19.1->v3io_frames) (2019.3.9)\n",
      "Requirement already satisfied: idna<2.9,>=2.5 in /conda/lib/python3.6/site-packages (from requests>=2.19.1->v3io_frames) (2.8)\n",
      "Requirement already satisfied: urllib3<1.25,>=1.21.1 in /conda/lib/python3.6/site-packages (from requests>=2.19.1->v3io_frames) (1.24.1)\n",
      "Requirement already satisfied: grpcio>=1.18.0 in /conda/lib/python3.6/site-packages (from grpcio-tools>=1.16.0->v3io_frames) (1.18.0)\n",
      "Requirement already satisfied: protobuf>=3.5.0.post1 in /conda/lib/python3.6/site-packages (from grpcio-tools>=1.16.0->v3io_frames) (3.6.1)\n",
      "Requirement already satisfied: six>=1.5 in /conda/lib/python3.6/site-packages (from python-dateutil>=2.5.0->pandas==0.23.*->v3io_frames) (1.12.0)\n",
      "Requirement already satisfied: setuptools in /conda/lib/python3.6/site-packages (from protobuf>=3.5.0.post1->grpcio-tools>=1.16.0->v3io_frames) (40.8.0)\n",
      "Requirement already satisfied: faker in /User/.pythonlibs/lib/python3.6/site-packages (1.0.5)\n",
      "Requirement already satisfied: python-dateutil>=2.4 in /conda/lib/python3.6/site-packages (from faker) (2.8.0)\n",
      "Requirement already satisfied: text-unidecode==1.2 in /User/.pythonlibs/lib/python3.6/site-packages (from faker) (1.2)\n",
      "Requirement already satisfied: six>=1.10 in /conda/lib/python3.6/site-packages (from faker) (1.12.0)\n"
     ]
    }
   ],
   "source": [
    "%%nuclio cmd\n",
    "\n",
    "# General\n",
    "pip install pandas\n",
    "# pip install json\n",
    "\n",
    "# DB\n",
    "pip install v3io_frames\n",
    "\n",
    "# Function\n",
    "pip install faker"
   ]
  },
  {
   "cell_type": "markdown",
   "metadata": {},
   "source": [
    "## Function code"
   ]
  },
  {
   "cell_type": "markdown",
   "metadata": {},
   "source": [
    "### Imports"
   ]
  },
  {
   "cell_type": "code",
   "execution_count": 22,
   "metadata": {},
   "outputs": [],
   "source": [
    "import os\n",
    "import itertools\n",
    "import random\n",
    "\n",
    "# Data handling\n",
    "import pandas as pd\n",
    "\n",
    "# DB\n",
    "import v3io_frames as v3f\n",
    "\n",
    "# Function\n",
    "import faker\n",
    "from faker.providers import BaseProvider"
   ]
  },
  {
   "cell_type": "markdown",
   "metadata": {},
   "source": [
    "### Helper classes definitions"
   ]
  },
  {
   "cell_type": "code",
   "execution_count": 23,
   "metadata": {},
   "outputs": [],
   "source": [
    "class LocationProvider(BaseProvider):\n",
    "    '''\n",
    "    Creates locations within base_location\n",
    "\n",
    "    Uses QuadTree for Geohashing\n",
    "        @{http://tech.taskrabbit.com/blog/2015/06/09/elasticsearch-geohash-vs-geotree/}\n",
    "        @{http://mapzen.github.io/leaflet-spatial-prefix-tree/}\n",
    "        @{http://blog.notdot.net/2009/11/Damn-Cool-Algorithms-Spatial-indexing-with-Quadtrees-and-Hilbert-Curves}\n",
    "    '''    \n",
    "    def location(self, location_base: str, base_acc: int=10, acc: int=20):\n",
    "        coordinates = location_base[:base_acc]\n",
    "        for i in range(acc-len(coordinates)):\n",
    "            coordinates += str(random.randint(0, 3))\n",
    "        return coordinates"
   ]
  },
  {
   "cell_type": "markdown",
   "metadata": {},
   "source": [
    "### Init context"
   ]
  },
  {
   "cell_type": "code",
   "execution_count": 24,
   "metadata": {},
   "outputs": [],
   "source": [
    "def init_context(context):\n",
    "    ##########\n",
    "    # Setups #\n",
    "    ##########\n",
    "    \n",
    "    # DB Contexts\n",
    "    v3c_frames = v3f.Client('http://' + os.environ['V3IO_FRAMESD'])\n",
    "    setattr(context, 'v3f', v3c_frames)\n",
    "    \n",
    "    # DB Tables\n",
    "    customers_table = os.getenv('CUSTOMERS', 'customers')\n",
    "    setattr(context, 'customers_table', customers_table)\n",
    "    \n",
    "    customers_stream = os.getenv('CUSTOMERS_STREAM', 'customers_stream')\n",
    "    setattr(context, 'customers_stream', customers_stream)\n",
    "    \n",
    "    # Function\n",
    "    fakers = faker.Faker()\n",
    "    fakers.add_provider(LocationProvider)\n",
    "    setattr(context, 'faker', fakers)\n",
    "    \n",
    "    locations = list(os.getenv('london_locations', '').split(','))\n",
    "    setattr(context, 'locations', locations)\n",
    "    \n",
    "    customers = v3c_frames.read('kv', customers_table)\n",
    "    customers = range(customers.shape[0])\n",
    "    setattr(context, 'customers', customers)\n",
    "    \n",
    "    location_accuracy_params = [int(os.getenv('BASE_ACCURACY', 14)), int(os.getenv('ACCURACY', 20))]\n",
    "    setattr(context, 'location_accuracy_params', location_accuracy_params)\n",
    "    \n",
    "    ###########\n",
    "    # Actions #\n",
    "    ###########\n",
    "    v3c_frames.delete('stream', customers_stream)\n",
    "    v3c_frames.create('stream', customers_stream, attrs={'retention_hours':48,'shards':1})"
   ]
  },
  {
   "cell_type": "markdown",
   "metadata": {},
   "source": [
    "### Helper functions"
   ]
  },
  {
   "cell_type": "code",
   "execution_count": 25,
   "metadata": {},
   "outputs": [],
   "source": [
    "def create_customer(context):\n",
    "    customer_id = random.choice(context.customers)\n",
    "    location = context.faker.location(random.choice(context.locations), *context.location_accuracy_params)\n",
    "    customer = {\n",
    "        'id': customer_id,\n",
    "        'location': location\n",
    "    }\n",
    "    return customer"
   ]
  },
  {
   "cell_type": "code",
   "execution_count": 26,
   "metadata": {},
   "outputs": [],
   "source": [
    "def create_batch(context, batch_size: int):\n",
    "    customers = (create_customer(context) for i in range(batch_size))\n",
    "    customers = pd.DataFrame.from_records(itertools.chain(customers))\n",
    "    customers = customers.set_index(['id'])\n",
    "    return customers"
   ]
  },
  {
   "cell_type": "markdown",
   "metadata": {},
   "source": [
    "### Handler"
   ]
  },
  {
   "cell_type": "code",
   "execution_count": 27,
   "metadata": {},
   "outputs": [],
   "source": [
    "def handler(context, event):\n",
    "    # Create customers\n",
    "    customers = create_batch(context, int(os.getenv('BATCH_SIZE', 100)))\n",
    "    \n",
    "    # Send to stream\n",
    "    context.v3f.write('stream', context.customers_stream, [customers])"
   ]
  },
  {
   "cell_type": "code",
   "execution_count": 37,
   "metadata": {},
   "outputs": [
    {
     "name": "stdout",
     "output_type": "stream",
     "text": [
      "[nuclio.deploy] 2019-04-25 05:17:19,481 (info) Building processor image\n",
      "[nuclio.deploy] 2019-04-25 05:17:25,540 (info) Pushing image\n",
      "[nuclio.deploy] 2019-04-25 05:17:25,541 (info) Build complete\n",
      "[nuclio.deploy] 2019-04-25 05:17:29,583 (info) Function deploy complete\n",
      "[nuclio.deploy] 2019-04-25 05:17:29,589 done updating generator, function address: 3.121.211.71:32689\n",
      "%nuclio: function deployed\n"
     ]
    }
   ],
   "source": [
    "%nuclio deploy -n generator -p recommendation_engine -c"
   ]
  },
  {
   "cell_type": "code",
   "execution_count": 28,
   "metadata": {},
   "outputs": [],
   "source": [
    "# nuclio: ignore\n",
    "init_context(context)"
   ]
  },
  {
   "cell_type": "code",
   "execution_count": 29,
   "metadata": {},
   "outputs": [],
   "source": [
    "# nuclio: ignore\n",
    "event = nuclio.Event(body='')\n",
    "handler(context, event)"
   ]
  },
  {
   "cell_type": "code",
   "execution_count": 30,
   "metadata": {},
   "outputs": [
    {
     "name": "stdout",
     "output_type": "stream",
     "text": [
      "%nuclio: notebook generator exported\n",
      "Config:\n",
      "apiVersion: nuclio.io/v1\n",
      "kind: Function\n",
      "metadata:\n",
      "  annotations:\n",
      "    nuclio.io/generated_by: function generated at 25-04-2019 by iguazio from /User/tutorials/demos/location_based_recommendation/generator.ipynb\n",
      "  labels: {}\n",
      "  name: generator\n",
      "spec:\n",
      "  build:\n",
      "    baseImage: python:3.6-jessie\n",
      "    commands:\n",
      "    - pip install pandas\n",
      "    - pip install v3io_frames\n",
      "    - pip install faker\n",
      "    functionSourceCode: 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\n",
      "    noBaseImagesPull: true\n",
      "  env:\n",
      "  - name: FRAMESD\n",
      "    value: framesd.default-tenant.svc:8080\n",
      "  - name: V3IO_USERNAME\n",
      "    value: iguazio\n",
      "  - name: V3IO_ACCESS_KEY\n",
      "    value: bcbede79-a0fd-49ea-a1ad-fae51d4fc708\n",
      "  - name: BATCH_SIZE\n",
      "    value: '100'\n",
      "  - name: DATA_STREAM\n",
      "    value: customers_stream\n",
      "  - name: london_locations\n",
      "    value: 03311311313011311011000321002320,03311311311233323013031101320003,03311311313010023000032330133111,03311311311222300331010333220231\n",
      "  - name: ACCURACY\n",
      "    value: '20'\n",
      "  - name: BASE_ACCURACY\n",
      "    value: '14'\n",
      "  handler: generator:handler\n",
      "  runtime: python:3.6\n",
      "  volumes: []\n",
      "\n",
      "Code:\n",
      "# Generated by nuclio.export.NuclioExporter on 2019-04-25 05:11\n",
      "\n",
      "import os\n",
      "import itertools\n",
      "import random\n",
      "\n",
      "import pandas as pd\n",
      "\n",
      "import v3io_frames as v3f\n",
      "\n",
      "import faker\n",
      "from faker.providers import BaseProvider\n",
      "\n",
      "class LocationProvider(BaseProvider):\n",
      "    '''\n",
      "    Creates locations within base_location\n",
      "\n",
      "    Uses QuadTree for Geohashing\n",
      "        @{http://tech.taskrabbit.com/blog/2015/06/09/elasticsearch-geohash-vs-geotree/}\n",
      "        @{http://mapzen.github.io/leaflet-spatial-prefix-tree/}\n",
      "        @{http://blog.notdot.net/2009/11/Damn-Cool-Algorithms-Spatial-indexing-with-Quadtrees-and-Hilbert-Curves}\n",
      "    '''    \n",
      "    def location(self, location_base: str, base_acc: int=10, acc: int=20):\n",
      "        coordinates = location_base[:base_acc]\n",
      "        for i in range(acc-len(coordinates)):\n",
      "            coordinates += str(random.randint(0, 3))\n",
      "        return coordinates\n",
      "\n",
      "def init_context(context):\n",
      "    \n",
      "    v3c_frames = v3f.Client('http://' + os.environ['V3IO_FRAMESD'])\n",
      "    setattr(context, 'v3f', v3c_frames)\n",
      "    \n",
      "    customers_table = os.getenv('CUSTOMERS', 'customers')\n",
      "    setattr(context, 'customers_table', customers_table)\n",
      "    \n",
      "    customers_stream = os.getenv('CUSTOMERS_STREAM', 'customers_stream')\n",
      "    setattr(context, 'customers_stream', customers_stream)\n",
      "    \n",
      "    fakers = faker.Faker()\n",
      "    fakers.add_provider(LocationProvider)\n",
      "    setattr(context, 'faker', fakers)\n",
      "    \n",
      "    locations = list(os.getenv('london_locations', '').split(','))\n",
      "    setattr(context, 'locations', locations)\n",
      "    \n",
      "    customers = v3c_frames.read('kv', customers_table)\n",
      "    customers = range(customers.shape[0])\n",
      "    setattr(context, 'customers', customers)\n",
      "    \n",
      "    location_accuracy_params = [int(os.getenv('BASE_ACCURACY', 14)), int(os.getenv('ACCURACY', 20))]\n",
      "    setattr(context, 'location_accuracy_params', location_accuracy_params)\n",
      "    \n",
      "    v3c_frames.delete('stream', customers_stream)\n",
      "    v3c_frames.create('stream', customers_stream, attrs={'retention_hours':48,'shards':1})\n",
      "\n",
      "def create_customer(context):\n",
      "    customer_id = random.choice(context.customers)\n",
      "    location = context.faker.location(random.choice(context.locations), *context.location_accuracy_params)\n",
      "    customer = {\n",
      "        'id': customer_id,\n",
      "        'location': location\n",
      "    }\n",
      "    return customer\n",
      "\n",
      "def create_batch(context, batch_size: int):\n",
      "    customers = (create_customer(context) for i in range(batch_size))\n",
      "    customers = pd.DataFrame.from_records(itertools.chain(customers))\n",
      "    customers = customers.set_index(['id'])\n",
      "    return customers\n",
      "\n",
      "def handler(context, event):\n",
      "    customers = create_batch(context, int(os.getenv('BATCH_SIZE', 100)))\n",
      "    \n",
      "    context.v3f.write('stream', context.customers_stream, [customers])\n",
      "\n",
      "\n"
     ]
    }
   ],
   "source": [
    "%nuclio show"
   ]
  },
  {
   "cell_type": "code",
   "execution_count": 31,
   "metadata": {},
   "outputs": [
    {
     "data": {
      "text/plain": [
       "[                id              location                   stream_time\n",
       " seq_number                                                            \n",
       " 1           1815.0  03311311313011320100 2019-04-25 05:11:22.745050066\n",
       " 2            722.0  03311311311222113320 2019-04-25 05:11:22.745050066\n",
       " 3           1124.0  03311311311222022112 2019-04-25 05:11:22.745050066\n",
       " 4           2708.0  03311311313010023013 2019-04-25 05:11:22.745050066\n",
       " 5           1988.0  03311311311222032200 2019-04-25 05:11:22.745050066\n",
       " 6           2393.0  03311311313010211323 2019-04-25 05:11:22.745050066\n",
       " 7            916.0  03311311311222032132 2019-04-25 05:11:22.745050066\n",
       " 8           1583.0  03311311313010303000 2019-04-25 05:11:22.745050066\n",
       " 9            102.0  03311311311233313231 2019-04-25 05:11:22.745050066\n",
       " 10           738.0  03311311313011223131 2019-04-25 05:11:22.745050066\n",
       " 11          2025.0  03311311311233201122 2019-04-25 05:11:22.745050066\n",
       " 12          2301.0  03311311311222011030 2019-04-25 05:11:22.745050066\n",
       " 13           625.0  03311311313011113320 2019-04-25 05:11:22.745050066\n",
       " 14          1798.0  03311311313010012210 2019-04-25 05:11:22.745050066\n",
       " 15          2058.0  03311311311233023011 2019-04-25 05:11:22.745050066\n",
       " 16          2628.0  03311311313010211321 2019-04-25 05:11:22.745050066\n",
       " 17          1337.0  03311311313011221201 2019-04-25 05:11:22.745050066\n",
       " 18          2808.0  03311311313010231021 2019-04-25 05:11:22.745050066\n",
       " 19           864.0  03311311313010012222 2019-04-25 05:11:22.745050066\n",
       " 20          1500.0  03311311311233130001 2019-04-25 05:11:22.745050066\n",
       " 21          1037.0  03311311313011130020 2019-04-25 05:11:22.745050066\n",
       " 22           246.0  03311311311222200222 2019-04-25 05:11:22.745050066\n",
       " 23           821.0  03311311311222233212 2019-04-25 05:11:22.745050066\n",
       " 24          2754.0  03311311313010322201 2019-04-25 05:11:22.745050066\n",
       " 25           626.0  03311311311222102012 2019-04-25 05:11:22.745050066\n",
       " 26            53.0  03311311311222233130 2019-04-25 05:11:22.745050066\n",
       " 27            44.0  03311311313010213022 2019-04-25 05:11:22.745050066\n",
       " 28          2131.0  03311311311233220111 2019-04-25 05:11:22.745050066\n",
       " 29          1969.0  03311311313011130212 2019-04-25 05:11:22.745050066\n",
       " 30          1194.0  03311311311222311001 2019-04-25 05:11:22.746050028\n",
       " ...            ...                   ...                           ...\n",
       " 71           843.0  03311311313011230310 2019-04-25 05:11:22.746050028\n",
       " 72           820.0  03311311313010332031 2019-04-25 05:11:22.746050028\n",
       " 73            58.0  03311311311233232232 2019-04-25 05:11:22.746050028\n",
       " 74          2526.0  03311311313011323210 2019-04-25 05:11:22.746050028\n",
       " 75           695.0  03311311313011100203 2019-04-25 05:11:22.746050028\n",
       " 76          2189.0  03311311313010020130 2019-04-25 05:11:22.746050028\n",
       " 77           527.0  03311311313011220120 2019-04-25 05:11:22.746050028\n",
       " 78          2504.0  03311311311222330332 2019-04-25 05:11:22.746050028\n",
       " 79          2744.0  03311311313011311011 2019-04-25 05:11:22.746050028\n",
       " 80          2334.0  03311311313010112121 2019-04-25 05:11:22.746050028\n",
       " 81          1721.0  03311311313011013220 2019-04-25 05:11:22.746050028\n",
       " 82           444.0  03311311311233112330 2019-04-25 05:11:22.746050028\n",
       " 83          1694.0  03311311313011322033 2019-04-25 05:11:22.746050028\n",
       " 84          1890.0  03311311311233203333 2019-04-25 05:11:22.746050028\n",
       " 85          2818.0  03311311311222010132 2019-04-25 05:11:22.746050028\n",
       " 86          2586.0  03311311311233232133 2019-04-25 05:11:22.746050028\n",
       " 87          2879.0  03311311311233102011 2019-04-25 05:11:22.746050028\n",
       " 88          2707.0  03311311313011110333 2019-04-25 05:11:22.746050028\n",
       " 89          2142.0  03311311311222333312 2019-04-25 05:11:22.746050028\n",
       " 90          1866.0  03311311313011030031 2019-04-25 05:11:22.746050028\n",
       " 91          1452.0  03311311313011021022 2019-04-25 05:11:22.746050028\n",
       " 92           464.0  03311311313011201130 2019-04-25 05:11:22.746050028\n",
       " 93          1027.0  03311311313010233121 2019-04-25 05:11:22.746050028\n",
       " 94          2470.0  03311311311222220200 2019-04-25 05:11:22.746050028\n",
       " 95           397.0  03311311311222132021 2019-04-25 05:11:22.746050028\n",
       " 96          1949.0  03311311313010212301 2019-04-25 05:11:22.746050028\n",
       " 97           452.0  03311311311233320303 2019-04-25 05:11:22.746050028\n",
       " 98          2910.0  03311311311233011001 2019-04-25 05:11:22.746050028\n",
       " 99          2163.0  03311311311233312120 2019-04-25 05:11:22.746050028\n",
       " 100         2056.0  03311311313011303233 2019-04-25 05:11:22.746050028\n",
       " \n",
       " [100 rows x 3 columns]]"
      ]
     },
     "execution_count": 31,
     "metadata": {},
     "output_type": "execute_result"
    }
   ],
   "source": [
    "# nuclio: ignore\n",
    "list(v3f.Client('http://' + os.environ['V3IO_FRAMESD']).read('stream', table='customers_stream', seek='earliest', shard_id='0', iterator=True))"
   ]
  },
  {
   "cell_type": "code",
   "execution_count": null,
   "metadata": {},
   "outputs": [],
   "source": []
  }
 ],
 "metadata": {
  "kernelspec": {
   "display_name": "Python 3",
   "language": "python",
   "name": "python3"
  },
  "language_info": {
   "codemirror_mode": {
    "name": "ipython",
    "version": 3
   },
   "file_extension": ".py",
   "mimetype": "text/x-python",
   "name": "python",
   "nbconvert_exporter": "python",
   "pygments_lexer": "ipython3",
   "version": "3.6.8"
  }
 },
 "nbformat": 4,
 "nbformat_minor": 2
}
