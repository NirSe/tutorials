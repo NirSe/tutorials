{
 "cells": [
  {
   "cell_type": "markdown",
   "metadata": {},
   "source": [
    "# Nuclio - Process user location signal"
   ]
  },
  {
   "cell_type": "markdown",
   "metadata": {},
   "source": [
    "## Setup the environment"
   ]
  },
  {
   "cell_type": "code",
   "execution_count": 1,
   "metadata": {},
   "outputs": [],
   "source": [
    "# nuclio: ignore\n",
    "import nuclio"
   ]
  },
  {
   "cell_type": "markdown",
   "metadata": {},
   "source": [
    "### Define environment variables"
   ]
  },
  {
   "cell_type": "code",
   "execution_count": 78,
   "metadata": {},
   "outputs": [
    {
     "name": "stdout",
     "output_type": "stream",
     "text": [
      "%nuclio: setting 'V3IO_API' environment variable\n",
      "%nuclio: setting 'V3IO_ACCESS_KEY' environment variable\n",
      "%nuclio: setting 'COSTUMERS_STREAM' environment variable\n",
      "%nuclio: setting 'COSTUMERS_TABLE' environment variable\n",
      "%nuclio: setting 'STORES_TABLE' environment variable\n",
      "%nuclio: setting 'PREDICTIONS_STREAM' environment variable\n",
      "%nuclio: setting 'PREDICTION_SERVER' environment variable\n"
     ]
    },
    {
     "name": "stderr",
     "output_type": "stream",
     "text": [
      "%nuclio: cannot find \"=\" in line\n",
      "%nuclio: cannot find \"=\" in line\n",
      "%nuclio: cannot find \"=\" in line\n"
     ]
    }
   ],
   "source": [
    "%%nuclio env\n",
    "\n",
    "# DB Acess\n",
    "V3IO_API=${V3IO_FRAMESD}\n",
    "V3IO_ACCESS_KEY=${V3IO_ACCESS_KEY}\n",
    "\n",
    "# Customers\n",
    "COSTUMERS_STREAM=customers_stream\n",
    "COSTUMERS_TABLE=customers\n",
    "STORES_TABLE=/stores\n",
    "\n",
    "# Predictions\n",
    "PREDICTIONS_STREAM=predictions_stream\n",
    "PREDICTION_SERVER=http://35.158.112.89:32064"
   ]
  },
  {
   "cell_type": "code",
   "execution_count": 79,
   "metadata": {},
   "outputs": [
    {
     "name": "stdout",
     "output_type": "stream",
     "text": [
      "framesd.default-tenant.svc:8080\n"
     ]
    }
   ],
   "source": [
    "# nuclio: ignore\n",
    "!echo ${V3IO_API}"
   ]
  },
  {
   "cell_type": "markdown",
   "metadata": {},
   "source": [
    "### Base image"
   ]
  },
  {
   "cell_type": "code",
   "execution_count": 6,
   "metadata": {},
   "outputs": [
    {
     "name": "stdout",
     "output_type": "stream",
     "text": [
      "%nuclio: setting spec.build.baseImage to 'python:3.6-jessie'\n"
     ]
    }
   ],
   "source": [
    "%nuclio config spec.build.baseImage = \"python:3.6-jessie\""
   ]
  },
  {
   "cell_type": "markdown",
   "metadata": {},
   "source": [
    "### Set cron trigger to read from stream"
   ]
  },
  {
   "cell_type": "code",
   "execution_count": 61,
   "metadata": {},
   "outputs": [
    {
     "name": "stdout",
     "output_type": "stream",
     "text": [
      "%nuclio: setting spec.triggers.secs.kind to 'cron'\n",
      "%nuclio: setting spec.triggers.secs.attributes.interval to '1m'\n"
     ]
    }
   ],
   "source": [
    "%nuclio config spec.triggers.secs.kind = \"cron\"\n",
    "%nuclio config spec.triggers.secs.attributes.interval = \"1m\""
   ]
  },
  {
   "cell_type": "markdown",
   "metadata": {},
   "source": [
    "### Install packages"
   ]
  },
  {
   "cell_type": "code",
   "execution_count": 16,
   "metadata": {},
   "outputs": [
    {
     "name": "stdout",
     "output_type": "stream",
     "text": [
      "Requirement already satisfied: v3io_frames in /conda/lib/python3.6/site-packages (0.4.2)\n",
      "Requirement already satisfied: googleapis-common-protos>=1.5.3 in /conda/lib/python3.6/site-packages (from v3io_frames) (1.5.9)\n",
      "Requirement already satisfied: requests>=2.19.1 in /conda/lib/python3.6/site-packages (from v3io_frames) (2.21.0)\n",
      "Requirement already satisfied: pandas==0.23.* in /conda/lib/python3.6/site-packages (from v3io_frames) (0.23.4)\n",
      "Requirement already satisfied: grpcio-tools>=1.16.0 in /conda/lib/python3.6/site-packages (from v3io_frames) (1.19.0)\n",
      "Requirement already satisfied: protobuf>=3.6.0 in /conda/lib/python3.6/site-packages (from googleapis-common-protos>=1.5.3->v3io_frames) (3.7.1)\n",
      "Requirement already satisfied: certifi>=2017.4.17 in /conda/lib/python3.6/site-packages (from requests>=2.19.1->v3io_frames) (2019.3.9)\n",
      "Requirement already satisfied: urllib3<1.25,>=1.21.1 in /conda/lib/python3.6/site-packages (from requests>=2.19.1->v3io_frames) (1.24.1)\n",
      "Requirement already satisfied: chardet<3.1.0,>=3.0.2 in /conda/lib/python3.6/site-packages (from requests>=2.19.1->v3io_frames) (3.0.4)\n",
      "Requirement already satisfied: idna<2.9,>=2.5 in /conda/lib/python3.6/site-packages (from requests>=2.19.1->v3io_frames) (2.8)\n",
      "Requirement already satisfied: python-dateutil>=2.5.0 in /conda/lib/python3.6/site-packages (from pandas==0.23.*->v3io_frames) (2.8.0)\n",
      "Requirement already satisfied: pytz>=2011k in /conda/lib/python3.6/site-packages (from pandas==0.23.*->v3io_frames) (2018.9)\n",
      "Requirement already satisfied: numpy>=1.9.0 in /conda/lib/python3.6/site-packages (from pandas==0.23.*->v3io_frames) (1.16.2)\n",
      "Requirement already satisfied: grpcio>=1.19.0 in /conda/lib/python3.6/site-packages (from grpcio-tools>=1.16.0->v3io_frames) (1.19.0)\n",
      "Requirement already satisfied: six>=1.9 in /conda/lib/python3.6/site-packages (from protobuf>=3.6.0->googleapis-common-protos>=1.5.3->v3io_frames) (1.12.0)\n",
      "Requirement already satisfied: setuptools in /conda/lib/python3.6/site-packages (from protobuf>=3.6.0->googleapis-common-protos>=1.5.3->v3io_frames) (40.8.0)\n",
      "Requirement already satisfied: v3io==0.1.1 in /User/.pythonlibs/lib/python3.6/site-packages (0.1.1)\n",
      "Requirement already satisfied: ujson==1.35 in /User/.pythonlibs/lib/python3.6/site-packages (from v3io==0.1.1) (1.35)\n",
      "Requirement already satisfied: future==0.17.1 in /conda/lib/python3.6/site-packages (from v3io==0.1.1) (0.17.1)\n",
      "Requirement already satisfied: requests==2.21.0 in /conda/lib/python3.6/site-packages (from v3io==0.1.1) (2.21.0)\n",
      "Requirement already satisfied: urllib3<1.25,>=1.21.1 in /conda/lib/python3.6/site-packages (from requests==2.21.0->v3io==0.1.1) (1.24.1)\n",
      "Requirement already satisfied: idna<2.9,>=2.5 in /conda/lib/python3.6/site-packages (from requests==2.21.0->v3io==0.1.1) (2.8)\n",
      "Requirement already satisfied: chardet<3.1.0,>=3.0.2 in /conda/lib/python3.6/site-packages (from requests==2.21.0->v3io==0.1.1) (3.0.4)\n",
      "Requirement already satisfied: certifi>=2017.4.17 in /conda/lib/python3.6/site-packages (from requests==2.21.0->v3io==0.1.1) (2019.3.9)\n",
      "Requirement already satisfied: requests in /conda/lib/python3.6/site-packages (2.21.0)\n",
      "Requirement already satisfied: chardet<3.1.0,>=3.0.2 in /conda/lib/python3.6/site-packages (from requests) (3.0.4)\n",
      "Requirement already satisfied: urllib3<1.25,>=1.21.1 in /conda/lib/python3.6/site-packages (from requests) (1.24.1)\n",
      "Requirement already satisfied: idna<2.9,>=2.5 in /conda/lib/python3.6/site-packages (from requests) (2.8)\n",
      "Requirement already satisfied: certifi>=2017.4.17 in /conda/lib/python3.6/site-packages (from requests) (2019.3.9)\n",
      "Requirement already satisfied: pandas in /conda/lib/python3.6/site-packages (0.23.4)\n",
      "Requirement already satisfied: python-dateutil>=2.5.0 in /conda/lib/python3.6/site-packages (from pandas) (2.8.0)\n",
      "Requirement already satisfied: pytz>=2011k in /conda/lib/python3.6/site-packages (from pandas) (2018.9)\n",
      "Requirement already satisfied: numpy>=1.9.0 in /conda/lib/python3.6/site-packages (from pandas) (1.16.2)\n",
      "Requirement already satisfied: six>=1.5 in /conda/lib/python3.6/site-packages (from python-dateutil>=2.5.0->pandas) (1.12.0)\n"
     ]
    }
   ],
   "source": [
    "%%nuclio cmd\n",
    "pip install v3io_frames\n",
    "pip install v3io==0.1.1\n",
    "pip install requests\n",
    "pip install pandas"
   ]
  },
  {
   "cell_type": "markdown",
   "metadata": {},
   "source": [
    "## Function code"
   ]
  },
  {
   "cell_type": "code",
   "execution_count": 62,
   "metadata": {},
   "outputs": [],
   "source": [
    "import json\n",
    "import os\n",
    "import requests\n",
    "import time\n",
    "\n",
    "# Data handling\n",
    "import pandas as pd\n",
    "\n",
    "# DB\n",
    "import v3io\n",
    "import v3io.dataplane\n",
    "import v3io.logger\n",
    "import v3io_frames as v3f"
   ]
  },
  {
   "cell_type": "markdown",
   "metadata": {},
   "source": [
    "### Init context"
   ]
  },
  {
   "cell_type": "code",
   "execution_count": 89,
   "metadata": {},
   "outputs": [],
   "source": [
    "def init_context(context):\n",
    "    # DB Contexts\n",
    "    \n",
    "    v3c = v3io.dataplane.Context(v3io.logger.Logger('DEBUG')).new_session().new_container('bigdata')\n",
    "    setattr(context, 'v3c', v3c)\n",
    "    \n",
    "    v3c_frames = v3f.Client('http://' + os.environ['V3IO_API'])\n",
    "    setattr(context, 'v3f', v3c_frames)\n",
    "    \n",
    "    \n",
    "    # DB Tables\n",
    "    \n",
    "    customers_table = os.environ['COSTUMERS_TABLE']\n",
    "    setattr(context, 'customers', customers_table)\n",
    "    \n",
    "    stores_table = os.environ['STORES_TABLE']\n",
    "    setattr(context, 'stores', stores_table)\n",
    "    \n",
    "    predictions_stream = os.environ['PREDICTIONS_STREAM']\n",
    "    setattr(context, 'predictions', predictions_stream)\n",
    "    \n",
    "    customers_stream = os.environ['COSTUMERS_STREAM']\n",
    "    setattr(context, 'customers_stream', customers_stream)\n",
    "    \n",
    "#     setattr(context, 'stream_idx', 0)\n",
    "#     setattr(context, 'max_update', int(os.environ['MAX_BATCH']))\n",
    "    \n",
    "    \n",
    "    # Prediction server\n",
    "    \n",
    "    prediction_server = os.getenv('PREDICTION_SERVER')\n",
    "    setattr(context, 'prediction_server', prediction_server)"
   ]
  },
  {
   "cell_type": "markdown",
   "metadata": {},
   "source": [
    "### Helper functions"
   ]
  },
  {
   "cell_type": "code",
   "execution_count": 81,
   "metadata": {},
   "outputs": [],
   "source": [
    "def is_customer_in_store(customer, context) -> bool:\n",
    "    store_location = customer['location']\n",
    "    store = context.v3f.read('kv', context.stores, filter=f'__name==\"{store_location}\"')\n",
    "\n",
    "    return not store.empty"
   ]
  },
  {
   "cell_type": "code",
   "execution_count": 82,
   "metadata": {},
   "outputs": [],
   "source": [
    "def update_customer_location(context, customer_id: str, location: str):\n",
    "    update = context.v3f.execute('kv', context.customers , 'update', args={'key':customer_id, 'expression': f'location={location}', 'condition':f'id=={customer_id}'})\n",
    "\n"
   ]
  },
  {
   "cell_type": "code",
   "execution_count": 83,
   "metadata": {},
   "outputs": [],
   "source": [
    "def update_store_count(customer, context, is_add=True):\n",
    "    print(f'updating {customer}')\n",
    "    operator = '+' if is_add else '-'\n",
    "    response = context.v3c.update_item(v3io.dataplane.UpdateItemInput(v3io.common.helpers.url_join(context.stores, customer['location']),\n",
    "                                                                              expression=f'customers = cutsomers {operator} 1'))\n",
    "    return response.status_code"
   ]
  },
  {
   "cell_type": "code",
   "execution_count": 84,
   "metadata": {},
   "outputs": [],
   "source": [
    "def save_predictions(context, customer_id: str, prediction: pd.DataFrame):\n",
    "    context.v3f.write('tsdb', context.predictions, prediction)"
   ]
  },
  {
   "cell_type": "markdown",
   "metadata": {},
   "source": [
    "### Handler"
   ]
  },
  {
   "cell_type": "code",
   "execution_count": 85,
   "metadata": {},
   "outputs": [],
   "source": [
    "def handler(context, event):\n",
    "    \n",
    "    # Get latest customer locations from the customers stream\n",
    "    customers_stream = context.v3f.read('stream', context.customers_stream, seek='time', shard_id='0', start='now-1m', as_iterator=True)\n",
    "    print(customers_stream.shape[0])\n",
    "    \n",
    "    \n",
    "    # Update the customer's new location\n",
    "#     [update_customer_location(context, str(int(customer['id'])), customer['location']) for idx, customer in customers_stream.iterrows()]\n",
    "        \n",
    "    if not customers_stream.empty:\n",
    "        # Get all customers that are in stores\n",
    "        customers_stream['is_store'] = customers_stream.apply(is_customer_in_store, args=[context], axis=1)\n",
    "        customers_stream = customers_stream[customers_stream['is_store']]\n",
    "        \n",
    "        # Update customers in stores count\n",
    "#         customers_stream['update_stores'] = customers_stream.apply(update_store_count, args=[context], axis=1)\n",
    "#         print(customers_stream)\n",
    "        \n",
    "        context.logger.debug(customers_stream)\n",
    "\n",
    "        [requests.post(context.prediction_server, json={'id': str(int(customer['id'])), 'store': str(customer['location'])}) for idx, customer in customers_stream.iterrows()]"
   ]
  },
  {
   "cell_type": "code",
   "execution_count": 91,
   "metadata": {},
   "outputs": [],
   "source": [
    "# nuclio: ignore\n",
    "init_context(context)"
   ]
  },
  {
   "cell_type": "code",
   "execution_count": 92,
   "metadata": {},
   "outputs": [
    {
     "name": "stdout",
     "output_type": "stream",
     "text": [
      "100\n"
     ]
    }
   ],
   "source": [
    "# nuclio: ignore\n",
    "event = nuclio.Event()\n",
    "handler(context, event)"
   ]
  },
  {
   "cell_type": "code",
   "execution_count": 75,
   "metadata": {},
   "outputs": [
    {
     "data": {
      "text/html": [
       "<div>\n",
       "<style scoped>\n",
       "    .dataframe tbody tr th:only-of-type {\n",
       "        vertical-align: middle;\n",
       "    }\n",
       "\n",
       "    .dataframe tbody tr th {\n",
       "        vertical-align: top;\n",
       "    }\n",
       "\n",
       "    .dataframe thead th {\n",
       "        text-align: right;\n",
       "    }\n",
       "</style>\n",
       "<table border=\"1\" class=\"dataframe\">\n",
       "  <thead>\n",
       "    <tr style=\"text-align: right;\">\n",
       "      <th></th>\n",
       "      <th>prediction</th>\n",
       "      <th>customer_id</th>\n",
       "      <th>product_id</th>\n",
       "      <th>prediction_num</th>\n",
       "      <th>store</th>\n",
       "    </tr>\n",
       "    <tr>\n",
       "      <th>time</th>\n",
       "      <th></th>\n",
       "      <th></th>\n",
       "      <th></th>\n",
       "      <th></th>\n",
       "      <th></th>\n",
       "    </tr>\n",
       "  </thead>\n",
       "  <tbody>\n",
       "    <tr>\n",
       "      <th>2019-04-29 12:07:32.498</th>\n",
       "      <td>0.253893</td>\n",
       "      <td>2222.0</td>\n",
       "      <td>11520.0</td>\n",
       "      <td>0</td>\n",
       "      <td>03311311311233302303</td>\n",
       "    </tr>\n",
       "    <tr>\n",
       "      <th>2019-04-29 12:07:32.235</th>\n",
       "      <td>0.310562</td>\n",
       "      <td>547.0</td>\n",
       "      <td>37496.0</td>\n",
       "      <td>2</td>\n",
       "      <td>03311311311222000003</td>\n",
       "    </tr>\n",
       "    <tr>\n",
       "      <th>2019-04-29 12:07:32.368</th>\n",
       "      <td>0.585238</td>\n",
       "      <td>508.0</td>\n",
       "      <td>25825.0</td>\n",
       "      <td>1</td>\n",
       "      <td>03311311313011133120</td>\n",
       "    </tr>\n",
       "    <tr>\n",
       "      <th>2019-04-29 12:07:32.368</th>\n",
       "      <td>0.599259</td>\n",
       "      <td>508.0</td>\n",
       "      <td>21482.0</td>\n",
       "      <td>0</td>\n",
       "      <td>03311311313011133120</td>\n",
       "    </tr>\n",
       "    <tr>\n",
       "      <th>2019-04-29 12:07:32.235</th>\n",
       "      <td>0.294836</td>\n",
       "      <td>547.0</td>\n",
       "      <td>4294.0</td>\n",
       "      <td>3</td>\n",
       "      <td>03311311311222000003</td>\n",
       "    </tr>\n",
       "    <tr>\n",
       "      <th>2019-04-29 12:07:32.498</th>\n",
       "      <td>0.124962</td>\n",
       "      <td>2222.0</td>\n",
       "      <td>24221.0</td>\n",
       "      <td>3</td>\n",
       "      <td>03311311311233302303</td>\n",
       "    </tr>\n",
       "    <tr>\n",
       "      <th>2019-04-29 12:07:32.235</th>\n",
       "      <td>0.330082</td>\n",
       "      <td>547.0</td>\n",
       "      <td>30727.0</td>\n",
       "      <td>1</td>\n",
       "      <td>03311311311222000003</td>\n",
       "    </tr>\n",
       "    <tr>\n",
       "      <th>2019-04-29 12:07:32.235</th>\n",
       "      <td>0.482901</td>\n",
       "      <td>547.0</td>\n",
       "      <td>27608.0</td>\n",
       "      <td>0</td>\n",
       "      <td>03311311311222000003</td>\n",
       "    </tr>\n",
       "    <tr>\n",
       "      <th>2019-04-29 12:07:32.368</th>\n",
       "      <td>0.567981</td>\n",
       "      <td>508.0</td>\n",
       "      <td>17317.0</td>\n",
       "      <td>3</td>\n",
       "      <td>03311311313011133120</td>\n",
       "    </tr>\n",
       "    <tr>\n",
       "      <th>2019-04-29 12:07:32.498</th>\n",
       "      <td>0.181556</td>\n",
       "      <td>2222.0</td>\n",
       "      <td>32935.0</td>\n",
       "      <td>2</td>\n",
       "      <td>03311311311233302303</td>\n",
       "    </tr>\n",
       "    <tr>\n",
       "      <th>2019-04-29 12:07:32.498</th>\n",
       "      <td>0.227863</td>\n",
       "      <td>2222.0</td>\n",
       "      <td>27966.0</td>\n",
       "      <td>1</td>\n",
       "      <td>03311311311233302303</td>\n",
       "    </tr>\n",
       "    <tr>\n",
       "      <th>2019-04-29 12:07:32.368</th>\n",
       "      <td>0.578420</td>\n",
       "      <td>508.0</td>\n",
       "      <td>29005.0</td>\n",
       "      <td>2</td>\n",
       "      <td>03311311313011133120</td>\n",
       "    </tr>\n",
       "  </tbody>\n",
       "</table>\n",
       "</div>"
      ],
      "text/plain": [
       "                         prediction  customer_id  product_id prediction_num  \\\n",
       "time                                                                          \n",
       "2019-04-29 12:07:32.498    0.253893       2222.0     11520.0              0   \n",
       "2019-04-29 12:07:32.235    0.310562        547.0     37496.0              2   \n",
       "2019-04-29 12:07:32.368    0.585238        508.0     25825.0              1   \n",
       "2019-04-29 12:07:32.368    0.599259        508.0     21482.0              0   \n",
       "2019-04-29 12:07:32.235    0.294836        547.0      4294.0              3   \n",
       "2019-04-29 12:07:32.498    0.124962       2222.0     24221.0              3   \n",
       "2019-04-29 12:07:32.235    0.330082        547.0     30727.0              1   \n",
       "2019-04-29 12:07:32.235    0.482901        547.0     27608.0              0   \n",
       "2019-04-29 12:07:32.368    0.567981        508.0     17317.0              3   \n",
       "2019-04-29 12:07:32.498    0.181556       2222.0     32935.0              2   \n",
       "2019-04-29 12:07:32.498    0.227863       2222.0     27966.0              1   \n",
       "2019-04-29 12:07:32.368    0.578420        508.0     29005.0              2   \n",
       "\n",
       "                                        store  \n",
       "time                                           \n",
       "2019-04-29 12:07:32.498  03311311311233302303  \n",
       "2019-04-29 12:07:32.235  03311311311222000003  \n",
       "2019-04-29 12:07:32.368  03311311313011133120  \n",
       "2019-04-29 12:07:32.368  03311311313011133120  \n",
       "2019-04-29 12:07:32.235  03311311311222000003  \n",
       "2019-04-29 12:07:32.498  03311311311233302303  \n",
       "2019-04-29 12:07:32.235  03311311311222000003  \n",
       "2019-04-29 12:07:32.235  03311311311222000003  \n",
       "2019-04-29 12:07:32.368  03311311313011133120  \n",
       "2019-04-29 12:07:32.498  03311311311233302303  \n",
       "2019-04-29 12:07:32.498  03311311311233302303  \n",
       "2019-04-29 12:07:32.368  03311311313011133120  "
      ]
     },
     "execution_count": 75,
     "metadata": {},
     "output_type": "execute_result"
    }
   ],
   "source": [
    "# nuclio: ignore\n",
    "context.v3f.read('tsdb', 'predictions')"
   ]
  },
  {
   "cell_type": "code",
   "execution_count": 90,
   "metadata": {},
   "outputs": [
    {
     "name": "stdout",
     "output_type": "stream",
     "text": [
      "%nuclio: ['deploy', '-n', 'process_user_location', '-p', 'recommendation_engine', '-c', '/User/tutorials/demos/location_based_recommendation/process_user_location.ipynb']\n",
      "%nuclio: [nuclio.deploy] 2019-04-29 12:13:30,505 (info) Building processor image\n",
      "%nuclio: [nuclio.deploy] 2019-04-29 12:13:35,561 (info) Pushing image\n",
      "%nuclio: [nuclio.deploy] 2019-04-29 12:13:35,561 (info) Build complete\n",
      "%nuclio: [nuclio.deploy] 2019-04-29 12:13:39,598 (info) Function deploy complete\n",
      "%nuclio: [nuclio.deploy] 2019-04-29 12:13:39,603 done updating process-user-location, function address: 35.158.112.89:32345\n",
      "%nuclio: function deployed\n"
     ]
    }
   ],
   "source": [
    "%nuclio deploy -n process_user_location -p recommendation_engine -c"
   ]
  },
  {
   "cell_type": "code",
   "execution_count": 69,
   "metadata": {},
   "outputs": [
    {
     "name": "stdout",
     "output_type": "stream",
     "text": [
      "%nuclio: notebook process-user-location exported\n",
      "Config:\n",
      "apiVersion: nuclio.io/v1\n",
      "kind: Function\n",
      "metadata:\n",
      "  annotations:\n",
      "    nuclio.io/generated_by: function generated at 17-04-2019 by iguazio from /User/tutorials/demos/location_based_recommendation/process_user_location.ipynb\n",
      "  labels: {}\n",
      "  name: process-user-location\n",
      "spec:\n",
      "  build:\n",
      "    commands:\n",
      "    - pip install v3io_frames\n",
      "    - pip install v3io==0.1.1\n",
      "    - pip install requests\n",
      "    - pip install pandas\n",
      "    functionSourceCode: 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\n",
      "    noBaseImagesPull: true\n",
      "  env:\n",
      "  - name: COSTUMERS_TABLE\n",
      "    value: customers\n",
      "  - name: STORES_TABLE\n",
      "    value: stores\n",
      "  - name: PREDICTIONS_TABLE\n",
      "    value: predictions\n",
      "  handler: process_user_location:handler\n",
      "  runtime: python:3.6\n",
      "  volumes: []\n",
      "\n",
      "Code:\n",
      "# Generated by nuclio.export.NuclioExporter on 2019-04-17 12:10\n",
      "\n",
      "import json\n",
      "import os\n",
      "import requests\n",
      "import time\n",
      "\n",
      "import pandas as pd\n",
      "\n",
      "import v3io\n",
      "import v3io.dataplane\n",
      "import v3io.logger\n",
      "import v3io_frames as v3f\n",
      "\n",
      "def init_context(context):\n",
      "    \n",
      "    v3c = v3io.dataplane.Context(v3io.logger.Logger('DEBUG')).new_session().new_container('bigdata')\n",
      "    setattr(context, 'v3c', v3c)\n",
      "    \n",
      "    v3c_frames = v3f.Client('http://' + os.environ['V3IO_FRAMESD'])\n",
      "    setattr(context, 'v3f', v3c_frames)\n",
      "    \n",
      "    \n",
      "    \n",
      "    customers_table = os.environ['COSTUMERS_TABLE']\n",
      "    setattr(context, 'customers', customers_table)\n",
      "    \n",
      "    stores_table = os.environ['STORES_TABLE']\n",
      "    setattr(context, 'stores', stores_table)\n",
      "    \n",
      "    predictions_table = os.environ['PREDICTIONS_TABLE']\n",
      "    setattr(context, 'predictions', predictions_table)\n",
      "    \n",
      "    \n",
      "    \n",
      "    prediction_server = os.getenv('PREDICTION_SERVER')\n",
      "    setattr(context, 'prediction_server', prediction_server)\n",
      "\n",
      "def handler(context, event):\n",
      "    \n",
      "    try:\n",
      "        jevent = json.loads(event.body)\n",
      "    except Exception as e:\n",
      "        context.logger.warn(f'Bad input: {e}')\n",
      "        jevent = {\"location\": '01', \"user_id\": '02'}\n",
      "    user_id = jevent['user_id']\n",
      "    location = jevent['location']\n",
      "\n",
      "    \n",
      "    update_customer_location(context, user_id, location)\n",
      "\n",
      "    \n",
      "    is_store, store = is_user_in_store(location)\n",
      "    if not is_store:\n",
      "        return _build_response(context, json.dumps({'intersection': False, 'is_store': is_store, 'store': store}), 200)\n",
      "\n",
      "    resp = store\n",
      "\n",
      "    \n",
      "    prediction_url = \"{0}{1}\".format(context.prediction_server, user_id)\n",
      "    predictions = requests.get(prediction_url)\n",
      "    try:\n",
      "        prediction_result = pd.DataFrame(predictions.json())\n",
      "    except:\n",
      "        prediction_result = {'prediction': 'None', 'product_id': 0}\n",
      "        \n",
      "        \n",
      "    save_predictions(context, user_id, prediction_result)\n",
      "\n",
      "    \n",
      "    resp = {\n",
      "        'user_id': user_id,\n",
      "        'location': location,\n",
      "        'is_store': is_store,\n",
      "        'predictions': prediction_result,\n",
      "    }\n",
      "\n",
      "    return _build_response(context, json.dumps(resp), 200)\n",
      "\n",
      "def _build_response(context, body, status_code):\n",
      "    return context.Response(body=body,\n",
      "                            headers={},\n",
      "                            content_type='application/json',\n",
      "                            status_code=status_code)\n",
      "\n",
      "def is_user_in_store(context, store_location: str) -> bool:\n",
      "    store = v3io.dataplane.GetItemInput(v3io.common.helpers.url_join(context.stores, store_location))\n",
      "    store = context.v3c.get_item(store)\n",
      "    if store.status_code == 200:\n",
      "        return True, store.output.item\n",
      "    else:\n",
      "        return False, {}\n",
      "\n",
      "def get_customer(context, customer_id: str):\n",
      "    customer = v3io.dataplane.PutItemInput(v3io.common.helpers.url_join(context.customers, customer_id))\n",
      "    customer = context.v3c.put_item(customer)\n",
      "    \n",
      "    return customer.output.item\n",
      "\n",
      "def update_customer_location(context, customer_id: str, location: str):\n",
      "    customer = v3io.dataplane.UpdateItemInput(v3io.common.helpers.url_join(context.customers, customer_id), \n",
      "                                              {'location': location})\n",
      "    customer = context.v3c.update_item(customer)\n",
      "    \n",
      "    return customer.item\n",
      "\n",
      "def save_predictions(context, customer_id: str, prediction: pd.DataFrame):\n",
      "    context.v3f.write('tsdb', context.predictions, prediction)\n",
      "\n",
      "\n"
     ]
    }
   ],
   "source": [
    "%nuclio show"
   ]
  },
  {
   "cell_type": "code",
   "execution_count": null,
   "metadata": {},
   "outputs": [],
   "source": []
  }
 ],
 "metadata": {
  "kernelspec": {
   "display_name": "Python 3",
   "language": "python",
   "name": "python3"
  },
  "language_info": {
   "codemirror_mode": {
    "name": "ipython",
    "version": 3
   },
   "file_extension": ".py",
   "mimetype": "text/x-python",
   "name": "python",
   "nbconvert_exporter": "python",
   "pygments_lexer": "ipython3",
   "version": "3.6.8"
  }
 },
 "nbformat": 4,
 "nbformat_minor": 2
}
