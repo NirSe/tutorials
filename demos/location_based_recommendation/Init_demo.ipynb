{
 "cells": [
  {
   "cell_type": "markdown",
   "metadata": {},
   "source": [
    "# Prepare initial datasets"
   ]
  },
  {
   "cell_type": "markdown",
   "metadata": {},
   "source": [
    "## Install Kaggle API"
   ]
  },
  {
   "cell_type": "code",
   "execution_count": 15,
   "metadata": {},
   "outputs": [
    {
     "name": "stdout",
     "output_type": "stream",
     "text": [
      "Collecting kaggle\n",
      "\u001b[?25l  Downloading https://files.pythonhosted.org/packages/78/3a/64a6447e5faa313b70cb555e21b5a30718c95bcc4902d91784b57fbab737/kaggle-1.5.3.tar.gz (54kB)\n",
      "\u001b[K    100% |████████████████████████████████| 61kB 535kB/s \n",
      "\u001b[?25hRequirement not upgraded as not directly required: urllib3<1.25,>=1.21.1 in /Users/orz/anaconda3/lib/python3.6/site-packages (from kaggle) (1.23)\n",
      "Requirement not upgraded as not directly required: six>=1.10 in /Users/orz/anaconda3/lib/python3.6/site-packages (from kaggle) (1.11.0)\n",
      "Requirement not upgraded as not directly required: certifi in /Users/orz/anaconda3/lib/python3.6/site-packages (from kaggle) (2018.11.29)\n",
      "Requirement not upgraded as not directly required: python-dateutil in /Users/orz/anaconda3/lib/python3.6/site-packages (from kaggle) (2.7.3)\n",
      "Requirement not upgraded as not directly required: requests in /Users/orz/anaconda3/lib/python3.6/site-packages (from kaggle) (2.21.0)\n",
      "Requirement not upgraded as not directly required: tqdm in /Users/orz/anaconda3/lib/python3.6/site-packages (from kaggle) (4.26.0)\n",
      "Collecting python-slugify (from kaggle)\n",
      "  Downloading https://files.pythonhosted.org/packages/a0/ff/3bd652257e8de19e09bd83544317d5b2e0f1d0b7e35633d75a3a215ce3ca/python-slugify-3.0.1.tar.gz\n",
      "Requirement not upgraded as not directly required: chardet<3.1.0,>=3.0.2 in /Users/orz/anaconda3/lib/python3.6/site-packages (from requests->kaggle) (3.0.4)\n",
      "Requirement not upgraded as not directly required: idna<2.9,>=2.5 in /Users/orz/anaconda3/lib/python3.6/site-packages (from requests->kaggle) (2.7)\n",
      "Requirement not upgraded as not directly required: text-unidecode==1.2 in /Users/orz/anaconda3/lib/python3.6/site-packages (from python-slugify->kaggle) (1.2)\n",
      "Building wheels for collected packages: kaggle, python-slugify\n",
      "  Running setup.py bdist_wheel for kaggle ... \u001b[?25ldone\n",
      "\u001b[?25h  Stored in directory: /Users/orz/Library/Caches/pip/wheels/ee/97/c5/87dcdc9434fe4e632ed5945e31a03703af229db178ef6a00e8\n",
      "  Running setup.py bdist_wheel for python-slugify ... \u001b[?25ldone\n",
      "\u001b[?25h  Stored in directory: /Users/orz/Library/Caches/pip/wheels/a0/72/61/f7258d6c01e77f88b880a77257da6283ccda4322fd3908eb05\n",
      "Successfully built kaggle python-slugify\n",
      "\u001b[31mtsfresh 0.11.0 has requirement dask==0.15.2, but you'll have dask 1.1.1 which is incompatible.\u001b[0m\n",
      "\u001b[31mtsfresh 0.11.0 has requirement distributed==1.18.3, but you'll have distributed 1.25.3 which is incompatible.\u001b[0m\n",
      "\u001b[31mtoree 0.1.0 has requirement jupyter-client<5.0,>=4.0, but you'll have jupyter-client 5.2.3 which is incompatible.\u001b[0m\n",
      "\u001b[31mneptune-cli 2.8.23 has requirement Flask==0.12.0, but you'll have flask 1.0.2 which is incompatible.\u001b[0m\n",
      "\u001b[31mneptune-cli 2.8.23 has requirement pathlib2==2.3.0, but you'll have pathlib2 2.3.2 which is incompatible.\u001b[0m\n",
      "Installing collected packages: python-slugify, kaggle\n",
      "Successfully installed kaggle-1.5.3 python-slugify-3.0.1\n",
      "\u001b[33mYou are using pip version 18.1, however version 19.0.3 is available.\n",
      "You should consider upgrading via the 'pip install --upgrade pip' command.\u001b[0m\n"
     ]
    }
   ],
   "source": [
    "!pip install kaggle --upgrade"
   ]
  },
  {
   "cell_type": "code",
   "execution_count": 14,
   "metadata": {},
   "outputs": [],
   "source": [
    "!mkdir ~/.kaggle\n",
    "!echo {kaggle_api_token} > ~/.kaggle/kaggle.json\n",
    "!chmod 600 ~/.kaggle/kaggle.json"
   ]
  },
  {
   "cell_type": "markdown",
   "metadata": {},
   "source": [
    "## Create Data directory and Download zips from Kaggle"
   ]
  },
  {
   "cell_type": "code",
   "execution_count": 10,
   "metadata": {},
   "outputs": [
    {
     "name": "stdout",
     "output_type": "stream",
     "text": [
      "departments.csv.zip: Skipping, found more recently modified local copy (use --force to force download)\n",
      "aisles.csv.zip: Skipping, found more recently modified local copy (use --force to force download)\n",
      "order_products__train.csv.zip: Skipping, found more recently modified local copy (use --force to force download)\n",
      "products.csv.zip: Skipping, found more recently modified local copy (use --force to force download)\n",
      "orders.csv.zip: Skipping, found more recently modified local copy (use --force to force download)\n",
      "order_products__prior.csv.zip: Skipping, found more recently modified local copy (use --force to force download)\n",
      "sample_submission.csv.zip: Skipping, found more recently modified local copy (use --force to force download)\n"
     ]
    }
   ],
   "source": [
    "!mkdir ./data\n",
    "!cd data\n",
    "!kaggle competitions download -c instacart-market-basket-analysis"
   ]
  },
  {
   "cell_type": "markdown",
   "metadata": {},
   "source": [
    "### Unzip & Delete"
   ]
  },
  {
   "cell_type": "code",
   "execution_count": 19,
   "metadata": {},
   "outputs": [
    {
     "name": "stdout",
     "output_type": "stream",
     "text": [
      "Archive:  ./data/aisles.csv.zip\n",
      "  inflating: ./data/aisles.csv       \n",
      "   creating: ./data/__MACOSX/\n",
      "  inflating: ./data/__MACOSX/._aisles.csv  \n",
      "\n",
      "Archive:  ./data/departments.csv.zip\n",
      "  inflating: ./data/departments.csv  \n",
      "  inflating: ./data/__MACOSX/._departments.csv  \n",
      "\n",
      "Archive:  ./data/order_products__prior.csv.zip\n",
      "  inflating: ./data/order_products__prior.csv  \n",
      "  inflating: ./data/__MACOSX/._order_products__prior.csv  \n",
      "\n",
      "Archive:  ./data/order_products__train.csv.zip\n",
      "  inflating: ./data/order_products__train.csv  \n",
      "  inflating: ./data/__MACOSX/._order_products__train.csv  \n",
      "\n",
      "Archive:  ./data/orders.csv.zip\n",
      "  inflating: ./data/orders.csv       \n",
      "  inflating: ./data/__MACOSX/._orders.csv  \n",
      "\n",
      "Archive:  ./data/products.csv.zip\n",
      "  inflating: ./data/products.csv     \n",
      "  inflating: ./data/__MACOSX/._products.csv  \n",
      "\n",
      "Archive:  ./data/sample_submission.csv.zip\n",
      "  inflating: ./data/sample_submission.csv  \n",
      "\n",
      "7 archives were successfully processed.\n"
     ]
    }
   ],
   "source": [
    "!unzip './data/*.zip' -d './data/'"
   ]
  },
  {
   "cell_type": "code",
   "execution_count": 20,
   "metadata": {},
   "outputs": [],
   "source": [
    "!rm ./data/*.zip"
   ]
  }
 ],
 "metadata": {
  "kernelspec": {
   "display_name": "Python 3",
   "language": "python",
   "name": "python3"
  },
  "language_info": {
   "codemirror_mode": {
    "name": "ipython",
    "version": 3
   },
   "file_extension": ".py",
   "mimetype": "text/x-python",
   "name": "python",
   "nbconvert_exporter": "python",
   "pygments_lexer": "ipython3",
   "version": "3.6.8"
  }
 },
 "nbformat": 4,
 "nbformat_minor": 2
}
