{
 "cells": [
  {
   "cell_type": "markdown",
   "metadata": {},
   "source": [
    "# Create and Test Model Serving (nuclio) Function\n",
    "The following notebook demonstrates how to write an inferencing server, test it, and turn it into an auto-scaling nuclio function"
   ]
  },
  {
   "cell_type": "markdown",
   "metadata": {},
   "source": [
    "## Initialize nuclio emulation, environment variables and configuration\n",
    "use `# nuclio: ignore` for sections that dont need to be copied to the function"
   ]
  },
  {
   "cell_type": "code",
   "execution_count": 6,
   "metadata": {},
   "outputs": [],
   "source": [
    "# nuclio: ignore\n",
    "import nuclio\n",
    "import random\n",
    "import matplotlib.pyplot as plt"
   ]
  },
  {
   "cell_type": "code",
   "execution_count": 7,
   "metadata": {},
   "outputs": [
    {
     "name": "stdout",
     "output_type": "stream",
     "text": [
      "%nuclio: setting 'IMAGE_WIDTH' environment variable\n",
      "%nuclio: setting 'IMAGE_HEIGHT' environment variable\n",
      "%nuclio: setting 'version' environment variable\n"
     ]
    }
   ],
   "source": [
    "%%nuclio env\n",
    "IMAGE_WIDTH = 128\n",
    "IMAGE_HEIGHT = 128\n",
    "version = 1.0"
   ]
  },
  {
   "cell_type": "code",
   "execution_count": 8,
   "metadata": {},
   "outputs": [
    {
     "name": "stdout",
     "output_type": "stream",
     "text": [
      "%nuclio: setting 'MODEL_PATH' environment variable\n"
     ]
    }
   ],
   "source": [
    "%nuclio env -c MODEL_PATH=/model/\n",
    "%nuclio env -l MODEL_PATH=./model/"
   ]
  },
  {
   "cell_type": "code",
   "execution_count": 9,
   "metadata": {},
   "outputs": [],
   "source": [
    "%%nuclio cmd -c\n",
    "pip install git+https://github.com/fchollet/keras\n",
    "pip install tensorflow \n",
    "pip install numpy\n",
    "pip install requests\n",
    "pip install pillow"
   ]
  },
  {
   "cell_type": "code",
   "execution_count": 10,
   "metadata": {},
   "outputs": [
    {
     "name": "stdout",
     "output_type": "stream",
     "text": [
      "%nuclio: setting spec.build.baseImage to 'python:3.6-jessie'\n"
     ]
    }
   ],
   "source": [
    "%%nuclio config \n",
    "spec.build.baseImage = \"python:3.6-jessie\""
   ]
  },
  {
   "cell_type": "code",
   "execution_count": 11,
   "metadata": {},
   "outputs": [
    {
     "name": "stdout",
     "output_type": "stream",
     "text": [
      "mounting volume path /model as ~/image_classification/cats_dogs/model\n"
     ]
    }
   ],
   "source": [
    "%nuclio mount /model ~/image_classification/cats_dogs/model"
   ]
  },
  {
   "cell_type": "markdown",
   "metadata": {},
   "source": [
    "# Create and Load Model and setup handeler "
   ]
  },
  {
   "cell_type": "code",
   "execution_count": 12,
   "metadata": {},
   "outputs": [
    {
     "name": "stderr",
     "output_type": "stream",
     "text": [
      "Using TensorFlow backend.\n"
     ]
    }
   ],
   "source": [
    "import numpy as np \n",
    "from tensorflow import keras\n",
    "from keras.models import load_model\n",
    "from keras.preprocessing import image\n",
    "from keras.preprocessing.image import load_img\n",
    "import json\n",
    "import requests\n",
    "\n",
    "import os\n",
    "from os import environ, path\n",
    "from tempfile import mktemp"
   ]
  },
  {
   "cell_type": "code",
   "execution_count": 13,
   "metadata": {},
   "outputs": [],
   "source": [
    "model_file = environ['MODEL_PATH'] + 'cats_dogs.hd5'\n",
    "prediction_map_file = environ['MODEL_PATH'] + 'prediction_classes_map.json'\n",
    "\n",
    "# set image parameters\n",
    "IMAGE_WIDTH = int(environ['IMAGE_WIDTH'])\n",
    "IMAGE_HEIGHT = int(environ['IMAGE_HEIGHT'])\n",
    "\n",
    "# load model\n",
    "def init_context(context): \n",
    "    context.model = load_model(model_file)\n",
    "    with open(prediction_map_file, 'r') as f:\n",
    "        context.prediction_map = json.load(f)"
   ]
  },
  {
   "cell_type": "code",
   "execution_count": 14,
   "metadata": {},
   "outputs": [],
   "source": [
    "def download_file(context, url, target_path):\n",
    "    with requests.get(url, stream=True) as response:\n",
    "        response.raise_for_status()\n",
    "        with open(target_path, 'wb') as f:\n",
    "            for chunk in response.iter_content(chunk_size=8192):\n",
    "                if chunk:\n",
    "                    f.write(chunk)\n",
    "\n",
    "    context.logger.info_with('Downloaded file',url=url)"
   ]
  },
  {
   "cell_type": "code",
   "execution_count": 15,
   "metadata": {},
   "outputs": [],
   "source": [
    "def handler(context, event):\n",
    "    tmp_file = mktemp()\n",
    "    image_url = event.body.decode('utf-8').strip()\n",
    "    download_file(context, image_url, tmp_file)\n",
    "    \n",
    "    img = load_img(tmp_file, target_size=(IMAGE_WIDTH, IMAGE_HEIGHT))\n",
    "    x = image.img_to_array(img)\n",
    "    x = np.expand_dims(x, axis=0)\n",
    "\n",
    "    images = np.vstack([x])\n",
    "    predicted_probability = context.model.predict_proba(images, batch_size=10)\n",
    "    predicted_class = list(zip(predicted_probability, map(lambda x: '1' if x >= 0.5 else '0', predicted_probability)))\n",
    "    actual_class = [(context.prediction_map[x[1]],x[0][0]) for x in predicted_class]   \n",
    "    os.remove(tmp_file)\n",
    "    result = {'class':actual_class[0][0], 'dog-probability':float(actual_class[0][1])}\n",
    "    return json.dumps(result)"
   ]
  },
  {
   "cell_type": "markdown",
   "metadata": {},
   "source": [
    "# Trigger the function"
   ]
  },
  {
   "cell_type": "code",
   "execution_count": 16,
   "metadata": {},
   "outputs": [
    {
     "name": "stdout",
     "output_type": "stream",
     "text": [
      "WARNING:tensorflow:From /User/.pythonlibs/lib/python3.6/site-packages/tensorflow/python/framework/op_def_library.py:263: colocate_with (from tensorflow.python.framework.ops) is deprecated and will be removed in a future version.\n",
      "Instructions for updating:\n",
      "Colocations handled automatically by placer.\n",
      "WARNING:tensorflow:From /User/.pythonlibs/lib/python3.6/site-packages/keras/backend/tensorflow_backend.py:3702: calling dropout (from tensorflow.python.ops.nn_ops) with keep_prob is deprecated and will be removed in a future version.\n",
      "Instructions for updating:\n",
      "Please use `rate` instead of `keep_prob`. Rate should be set to `rate = 1 - keep_prob`.\n",
      "WARNING:tensorflow:From /User/.pythonlibs/lib/python3.6/site-packages/tensorflow/python/ops/math_ops.py:3066: to_int32 (from tensorflow.python.ops.math_ops) is deprecated and will be removed in a future version.\n",
      "Instructions for updating:\n",
      "Use tf.cast instead.\n"
     ]
    }
   ],
   "source": [
    "# nuclio: ignore\n",
    "init_context(context)"
   ]
  },
  {
   "cell_type": "code",
   "execution_count": 17,
   "metadata": {},
   "outputs": [
    {
     "name": "stdout",
     "output_type": "stream",
     "text": [
      "Python> 2019-03-22 00:39:23,516 [info] Downloaded file: {'url': 'https://s3.amazonaws.com/iguazio-sample-data/images/catanddog/dog.87.jpg'}\n",
      "{\"class\": \"cat\", \"dog-probability\": 0.0}\n"
     ]
    },
    {
     "data": {
      "image/png": "[encoded data removed]",
      "text/plain": [
       "<Figure size 432x288 with 1 Axes>"
      ]
     },
     "metadata": {
      "needs_background": "light"
     },
     "output_type": "display_data"
    }
   ],
   "source": [
    "# nuclio: ignore\n",
    "# Select sample for the test (both local path for test and the URL from S3)\n",
    "DATA_LOCATION = \"./cats_and_dogs_filtered/\"\n",
    "sample = random.choice(os.listdir(DATA_LOCATION+\"/cats_n_dogs\"))\n",
    "image_local = DATA_LOCATION + \"cats_n_dogs/\"+sample #temp to get a file \n",
    "image_url = 'https://s3.amazonaws.com/iguazio-sample-data/images/catanddog/' + sample \n",
    "\n",
    "# show the image\n",
    "img = load_img(image_local, target_size=(IMAGE_WIDTH, IMAGE_HEIGHT))\n",
    "plt.imshow(img)\n",
    "\n",
    "event = nuclio.Event(body=bytes(image_url, 'utf-8'))\n",
    "output = handler(context, event)\n",
    "print(output)"
   ]
  },
  {
   "cell_type": "code",
   "execution_count": null,
   "metadata": {},
   "outputs": [],
   "source": [
    "%nuclio show"
   ]
  },
  {
   "cell_type": "code",
   "execution_count": null,
   "metadata": {},
   "outputs": [],
   "source": [
    "%nuclio deploy -n cats-dogs2 -p ai -c"
   ]
  },
  {
   "cell_type": "code",
   "execution_count": null,
   "metadata": {},
   "outputs": [],
   "source": [
    "# Run a test with the new function. Replace the \"function URL\" with the actual URL:Port\n",
    "# In order to get the function URL go to the Dashboard --> Functions --> drill down to the cat-dog function --> go to the Status tab \n",
    "!curl -X POST -d \"https://s3.amazonaws.com/iguazio-sample-data/images/catanddog/cat.123.jpg\" <function URL:port> "
   ]
  }
 ],
 "metadata": {
  "kernelspec": {
   "display_name": "Python 3",
   "language": "python",
   "name": "python3"
  },
  "language_info": {
   "codemirror_mode": {
    "name": "ipython",
    "version": 3
   },
   "file_extension": ".py",
   "mimetype": "text/x-python",
   "name": "python",
   "nbconvert_exporter": "python",
   "pygments_lexer": "ipython3",
   "version": "3.6.8"
  }
 },
 "nbformat": 4,
 "nbformat_minor": 2
}
