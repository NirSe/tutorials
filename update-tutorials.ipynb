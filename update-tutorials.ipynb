{
 "cells": [
  {
   "cell_type": "markdown",
   "metadata": {},
   "source": [
    "# Updating the Tutorial Notebooks"
   ]
  },
  {
   "cell_type": "markdown",
   "metadata": {},
   "source": [
    "You can use the provided [**get_demos.sh**](https://github.com/v3io/tutorials/blob/master/get_demos.sh) script to update the tutorial notebooks to the latest stable version available on [GitHub](https://github.com/v3io/tutorials/). The script copies the latest tutorial files and directories to the **/v3io/users/&lt;username&gt;** directory, where `<username>` is the name of the running service user (`$V3IO_USERNAME`) unless you pass another username.\n",
    "\n",
    "> **Note:**\n",
    "> -  Before running the script, close all GitHub tutorial files that might be updated, such as the **welcome.ipynb** or **getting-started** and **demo** notebooks.<br>\n",
    ">    The script doesn't overwrite the current notebook (**update-tutorials.ipynb**) and the **get_demos.sh** script nor any custom file or directory that you created.\n",
    "> - Make sure that the updated notebooks match your version of the Iguazio Data Science Platform.\n",
    ">   If in doubt, consult the [customer-success team](mailto:support@iguazio.com).\n",
    "\n",
    "To update the tutorial notebooks in your user home directory, simply run the following code:"
   ]
  },
  {
   "cell_type": "code",
   "execution_count": null,
   "metadata": {},
   "outputs": [],
   "source": [
    "!chmod +x /User/get_demos.sh\n",
    "!/User/get_demos.sh"
   ]
  },
  {
   "cell_type": "markdown",
   "metadata": {},
   "source": [
    "For full usage instructions, run the script with the `-h` or `--help` flag:"
   ]
  },
  {
   "cell_type": "code",
   "execution_count": 1,
   "metadata": {},
   "outputs": [
    {
     "name": "stdout",
     "output_type": "stream",
     "text": [
      "/User/get_demos.sh:\n",
      "Retrieves latest-release Iguazio Data Science Platform tutorial files from the v3io/tutorials GitHub repo.\n",
      "USAGE: /User/get_demos.sh [<username>]\n",
      "PARAMETERS:\n",
      "  <username> - Username, which determines the directory to which to copy the files - /v3io/users/<username>.\n",
      "               Default = $V3IO_USERNAME (if set to a non-empty string)\n",
      "OPTIONS:\n",
      "  h|--help   -  Display this message and exit.\n"
     ]
    }
   ],
   "source": [
    "!/User/get_demos.sh -h"
   ]
  }
 ],
 "metadata": {
  "kernelspec": {
   "display_name": "Python 3",
   "language": "python",
   "name": "python3"
  },
  "language_info": {
   "codemirror_mode": {
    "name": "ipython",
    "version": 3
   },
   "file_extension": ".py",
   "mimetype": "text/x-python",
   "name": "python",
   "nbconvert_exporter": "python",
   "pygments_lexer": "ipython3",
   "version": "3.6.8"
  }
 },
 "nbformat": 4,
 "nbformat_minor": 2
}
