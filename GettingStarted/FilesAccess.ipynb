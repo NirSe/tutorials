{
 "cells": [
  {
   "cell_type": "markdown",
   "metadata": {},
   "source": [
    "# Loading csv file from Amazon S3 into iguazio File system"
   ]
  },
  {
   "cell_type": "code",
   "execution_count": null,
   "metadata": {},
   "outputs": [],
   "source": [
    "!pip install v3io_frames"
   ]
  },
  {
   "cell_type": "code",
   "execution_count": null,
   "metadata": {},
   "outputs": [],
   "source": [
    "# change the password to your user password\n",
    "%env V3IO_PASSWORD = 24tango"
   ]
  },
  {
   "cell_type": "code",
   "execution_count": 13,
   "metadata": {},
   "outputs": [],
   "source": [
    "import pandas as pd\n",
    "import v3io_frames as v3f\n",
    "import os\n",
    "client = v3f.Client('v3io-framesd:8081', password=os.getenv('V3IO_PASSWORD'))\n",
    "tablename = 'bank'"
   ]
  },
  {
   "cell_type": "markdown",
   "metadata": {},
   "source": [
    "## Import sample file from S3"
   ]
  },
  {
   "cell_type": "code",
   "execution_count": null,
   "metadata": {},
   "outputs": [],
   "source": [
    "%%sh\n",
    "mkdir /v3io/bigdata/examples/\n",
    "curl -L \"deutsche-boerse-xetra-pds.s3.amazonaws.com/2018-03-26/2018-03-26_BINS_XETR07.csv\" > /v3io/bigdata/examples/stocks_example.csv"
   ]
  },
  {
   "cell_type": "markdown",
   "metadata": {},
   "source": [
    "## Read the file using v3io frames"
   ]
  },
  {
   "cell_type": "code",
   "execution_count": 14,
   "metadata": {},
   "outputs": [
    {
     "data": {
      "text/html": [
       "<div>\n",
       "<style scoped>\n",
       "    .dataframe tbody tr th:only-of-type {\n",
       "        vertical-align: middle;\n",
       "    }\n",
       "\n",
       "    .dataframe tbody tr th {\n",
       "        vertical-align: top;\n",
       "    }\n",
       "\n",
       "    .dataframe thead th {\n",
       "        text-align: right;\n",
       "    }\n",
       "</style>\n",
       "<table border=\"1\" class=\"dataframe\">\n",
       "  <thead>\n",
       "    <tr style=\"text-align: right;\">\n",
       "      <th></th>\n",
       "      <th>ISIN</th>\n",
       "      <th>Mnemonic</th>\n",
       "      <th>SecurityDesc</th>\n",
       "      <th>SecurityType</th>\n",
       "      <th>Currency</th>\n",
       "      <th>SecurityID</th>\n",
       "      <th>Date</th>\n",
       "      <th>Time</th>\n",
       "      <th>StartPrice</th>\n",
       "      <th>MaxPrice</th>\n",
       "      <th>MinPrice</th>\n",
       "      <th>EndPrice</th>\n",
       "      <th>TradedVolume</th>\n",
       "      <th>NumberOfTrades</th>\n",
       "    </tr>\n",
       "  </thead>\n",
       "  <tbody>\n",
       "    <tr>\n",
       "      <th>0</th>\n",
       "      <td>AT0000A0E9W5</td>\n",
       "      <td>SANT</td>\n",
       "      <td>S+T AG (Z.REG.MK.Z.)O.N.</td>\n",
       "      <td>Common stock</td>\n",
       "      <td>EUR</td>\n",
       "      <td>2504159</td>\n",
       "      <td>2018-03-26</td>\n",
       "      <td>07:00</td>\n",
       "      <td>20.560</td>\n",
       "      <td>20.56</td>\n",
       "      <td>20.56</td>\n",
       "      <td>20.56</td>\n",
       "      <td>1115</td>\n",
       "      <td>5</td>\n",
       "    </tr>\n",
       "    <tr>\n",
       "      <th>1</th>\n",
       "      <td>DE000A0WMPJ6</td>\n",
       "      <td>AIXA</td>\n",
       "      <td>AIXTRON SE NA O.N.</td>\n",
       "      <td>Common stock</td>\n",
       "      <td>EUR</td>\n",
       "      <td>2504428</td>\n",
       "      <td>2018-03-26</td>\n",
       "      <td>07:00</td>\n",
       "      <td>17.035</td>\n",
       "      <td>17.08</td>\n",
       "      <td>16.92</td>\n",
       "      <td>16.98</td>\n",
       "      <td>2892</td>\n",
       "      <td>11</td>\n",
       "    </tr>\n",
       "    <tr>\n",
       "      <th>2</th>\n",
       "      <td>DE000A0Z2XN6</td>\n",
       "      <td>RIB</td>\n",
       "      <td>RIB SOFTWARE SE  NA EO 1</td>\n",
       "      <td>Common stock</td>\n",
       "      <td>EUR</td>\n",
       "      <td>2504436</td>\n",
       "      <td>2018-03-26</td>\n",
       "      <td>07:00</td>\n",
       "      <td>24.020</td>\n",
       "      <td>24.18</td>\n",
       "      <td>23.94</td>\n",
       "      <td>24.12</td>\n",
       "      <td>5721</td>\n",
       "      <td>34</td>\n",
       "    </tr>\n",
       "    <tr>\n",
       "      <th>3</th>\n",
       "      <td>DE000A0Z2ZZ5</td>\n",
       "      <td>FNTN</td>\n",
       "      <td>FREENET AG NA O.N.</td>\n",
       "      <td>Common stock</td>\n",
       "      <td>EUR</td>\n",
       "      <td>2504438</td>\n",
       "      <td>2018-03-26</td>\n",
       "      <td>07:00</td>\n",
       "      <td>24.720</td>\n",
       "      <td>24.72</td>\n",
       "      <td>24.70</td>\n",
       "      <td>24.72</td>\n",
       "      <td>315</td>\n",
       "      <td>2</td>\n",
       "    </tr>\n",
       "    <tr>\n",
       "      <th>4</th>\n",
       "      <td>DE000A1EWWW0</td>\n",
       "      <td>ADS</td>\n",
       "      <td>ADIDAS AG NA O.N.</td>\n",
       "      <td>Common stock</td>\n",
       "      <td>EUR</td>\n",
       "      <td>2504471</td>\n",
       "      <td>2018-03-26</td>\n",
       "      <td>07:00</td>\n",
       "      <td>196.350</td>\n",
       "      <td>196.40</td>\n",
       "      <td>195.60</td>\n",
       "      <td>195.90</td>\n",
       "      <td>5616</td>\n",
       "      <td>27</td>\n",
       "    </tr>\n",
       "  </tbody>\n",
       "</table>\n",
       "</div>"
      ],
      "text/plain": [
       "           ISIN Mnemonic              SecurityDesc  SecurityType Currency  \\\n",
       "0  AT0000A0E9W5     SANT  S+T AG (Z.REG.MK.Z.)O.N.  Common stock      EUR   \n",
       "1  DE000A0WMPJ6     AIXA        AIXTRON SE NA O.N.  Common stock      EUR   \n",
       "2  DE000A0Z2XN6      RIB  RIB SOFTWARE SE  NA EO 1  Common stock      EUR   \n",
       "3  DE000A0Z2ZZ5     FNTN        FREENET AG NA O.N.  Common stock      EUR   \n",
       "4  DE000A1EWWW0      ADS         ADIDAS AG NA O.N.  Common stock      EUR   \n",
       "\n",
       "   SecurityID        Date   Time  StartPrice  MaxPrice  MinPrice  EndPrice  \\\n",
       "0     2504159  2018-03-26  07:00      20.560     20.56     20.56     20.56   \n",
       "1     2504428  2018-03-26  07:00      17.035     17.08     16.92     16.98   \n",
       "2     2504436  2018-03-26  07:00      24.020     24.18     23.94     24.12   \n",
       "3     2504438  2018-03-26  07:00      24.720     24.72     24.70     24.72   \n",
       "4     2504471  2018-03-26  07:00     196.350    196.40    195.60    195.90   \n",
       "\n",
       "   TradedVolume  NumberOfTrades  \n",
       "0          1115               5  \n",
       "1          2892              11  \n",
       "2          5721              34  \n",
       "3           315               2  \n",
       "4          5616              27  "
      ]
     },
     "execution_count": 14,
     "metadata": {},
     "output_type": "execute_result"
    }
   ],
   "source": [
    "# read S3 file into a data frame and show its data & metadata\n",
    "df = pd.read_csv('/v3io/bigdata/examples/stocks_example.csv', sep=',')\n",
    "df.head()"
   ]
  },
  {
   "cell_type": "markdown",
   "metadata": {},
   "source": [
    "## Write file into iguazio database as key value table using v3io frames"
   ]
  },
  {
   "cell_type": "code",
   "execution_count": 16,
   "metadata": {},
   "outputs": [],
   "source": [
    "tablename = 'examples/stocks_example_tab'\n",
    "out = client.write('kv', tablename, df)"
   ]
  },
  {
   "cell_type": "markdown",
   "metadata": {},
   "source": [
    "## Read and write the file using Spark DF"
   ]
  },
  {
   "cell_type": "code",
   "execution_count": null,
   "metadata": {},
   "outputs": [],
   "source": [
    "from pyspark.sql import SparkSession\n",
    "spark = SparkSession.builder.appName(\"Iguazio Integration demo\").getOrCreate()\n",
    "\n",
    "# Read the sample stocks.csv file into a Spark DataFrame, and let Spark infer the schema of the CSV file\n",
    "myDF = spark.read.format(\"io.iguaz.v3io.spark.sql.kv\").option(\"header\", \"true\").option(\"inferSchema\", \"true\").csv(\"v3io://bigdata/examples/stocks_example.csv\")\n",
    "\n",
    "# Write the DataFrame data to a stocks_nosql table under \"bigdata\" container and define \"ISIN\" column as a key\n",
    "myDF.write.format(\"io.iguaz.v3io.spark.sql.kv\").mode(\"append\").option(\"key\", \"ISIN\").save(\"v3io://bigdata/examples/stocks_tab_by_spark/\")"
   ]
  },
  {
   "cell_type": "markdown",
   "metadata": {},
   "source": [
    "## Read iguazio table and writing it back as a CSV "
   ]
  },
  {
   "cell_type": "code",
   "execution_count": null,
   "metadata": {},
   "outputs": [],
   "source": [
    "myDF2 = spark.read.format(\"io.iguaz.v3io.spark.sql.kv\").load(\"v3io://bigdata/examples/stocks_tab_by_spark\").where(\"TradedVolume>20000\")\n",
    "\n",
    "# myDF2.write.csv('v3io://bigdata/examples/stocks_high_volume.csv')\n",
    "myDF2.coalesce(1).write.csv('v3io://bigdata/examples/stocks_high_volume.csv')\n",
    "\n",
    "# note that using coalesce(1) is for storing the output as a single file\n"
   ]
  },
  {
   "cell_type": "markdown",
   "metadata": {},
   "source": [
    "## Viewing files "
   ]
  },
  {
   "cell_type": "code",
   "execution_count": 17,
   "metadata": {},
   "outputs": [
    {
     "name": "stdout",
     "output_type": "stream",
     "text": [
      "total 0\n",
      "-rw-rw-r--. 1 50 users   999016 Dec 19 21:24 stocks.csv\n",
      "-rw-rw-r--. 1 50 users   999016 Dec 19 15:39 stocks_example.csv\n",
      "drwxrwxrwx. 2 50 nogroup      0 Dec 20 09:48 stocks_example_tab\n",
      "drwxrwsrwx. 2 50 nogroup      0 Dec 19 21:25 stocks_tab\n",
      "drwxrwsr-x. 2 50 nogroup      0 Dec 19 21:25 stocks_tab.parquet\n"
     ]
    }
   ],
   "source": [
    "!ls -l /v3io/bigdata/examples/"
   ]
  },
  {
   "cell_type": "markdown",
   "metadata": {},
   "source": [
    "## Remove files"
   ]
  },
  {
   "cell_type": "code",
   "execution_count": null,
   "metadata": {},
   "outputs": [],
   "source": [
    "!rm -rf /v3io/bigdata/examples/stock*"
   ]
  }
 ],
 "metadata": {
  "kernelspec": {
   "display_name": "Python 3",
   "language": "python",
   "name": "python3"
  },
  "language_info": {
   "codemirror_mode": {
    "name": "ipython",
    "version": 3
   },
   "file_extension": ".py",
   "mimetype": "text/x-python",
   "name": "python",
   "nbconvert_exporter": "python",
   "pygments_lexer": "ipython3",
   "version": "3.6.6"
  }
 },
 "nbformat": 4,
 "nbformat_minor": 2
}
