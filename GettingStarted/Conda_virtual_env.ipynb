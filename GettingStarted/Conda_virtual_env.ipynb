{
 "cells": [
  {
   "cell_type": "markdown",
   "metadata": {},
   "source": [
    "# Creating conda virtual environments in Jupyter"
   ]
  },
  {
   "cell_type": "markdown",
   "metadata": {},
   "source": [
    "### Overview\n",
    "\n",
    "A virtual environment is a named, isolated, working copy of Python that that maintains its own files, directories, and paths so that you can work with specific versions of libraries or Python itself without affecting other Python projects. Virtual environmets make it easy to cleanly separate different projects and avoid problems with different dependencies and version requiremetns across components. The conda command is the preferred interface for managing intstallations and virtual environments with the Anaconda Python distribution\n",
    "\n",
    "### How to setup virtual environemnt using conda in Iguazio Jupyter \n",
    "\n",
    "Open terminal (Click on the + at the upper right menu)\n",
    "* Create a new conda environment:\n",
    "conda create -n <env_name> ipykernel\n",
    "* Install the relevant package:\n",
    "Run conda install <package name>\n",
    "* Export to a shared location:\n",
    "conda env export > /v3io/users/virtual_env/<env_name>.yml  \n",
    "(We recommend to use the above convention) \n",
    " \n",
    "\n",
    "This will create an environment which will show in Jupyter as a kernel and save the environment configurations to the shared location specified in the export command \n",
    "Note that you need to refresh the screen in order to see the new kernel\n",
    "    \n",
    "### How to load the env\n",
    "If for some reason the conda environment was removed then users can easily deploy it again using the export yaml file\n",
    "by doing the following:\n",
    "    \n",
    "* Open terminal\n",
    "* Run: Conda env create --file  /v3io/users/virtual_env/<env_name>.yml\n"
   ]
  },
  {
   "cell_type": "code",
   "execution_count": null,
   "metadata": {},
   "outputs": [],
   "source": []
  }
 ],
 "metadata": {
  "kernelspec": {
   "display_name": "Python 3",
   "language": "python",
   "name": "python3"
  },
  "language_info": {
   "codemirror_mode": {
    "name": "ipython",
    "version": 3
   },
   "file_extension": ".py",
   "mimetype": "text/x-python",
   "name": "python",
   "nbconvert_exporter": "python",
   "pygments_lexer": "ipython3",
   "version": "3.6.8"
  }
 },
 "nbformat": 4,
 "nbformat_minor": 2
}
