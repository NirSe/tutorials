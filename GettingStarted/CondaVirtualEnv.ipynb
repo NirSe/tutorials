{
 "cells": [
  {
   "cell_type": "markdown",
   "metadata": {},
   "source": [
    "# Creating Python Virtual Environments with conda"
   ]
  },
  {
   "cell_type": "markdown",
   "metadata": {},
   "source": [
    "- [Overview](#conda-virual-env-overview)\n",
    "- [Setting Up a Virtual Environment Using conda](#setting-up-a-virtual-environment-using-conda)\n",
    "- [Loading a conda Virtual Environment](#loading-a-conda-virtual-environment)"
   ]
  },
  {
   "cell_type": "markdown",
   "metadata": {},
   "source": [
    "<a id=\"conda-virual-env-overview\"></a>\n",
    "## Overview\n",
    "\n",
    "A Python virtual environment is a named, isolated, working copy of Python that that maintains its own files, directories, and paths so that you can work with specific versions of libraries or Python itself without affecting other Python projects.\n",
    "Virtual environments make it easy to cleanly separate projects and avoid problems with different dependencies and version requirements across components.\n",
    "The conda command-line interface (CLI) is the preferred interface for managing installations and virtual environments with the Anaconda Python distribution.\n",
    "The Jupyter Notebook service of the Iguazio Data Science Platform (\"the platform\") comes pre-deployed with conda.\n",
    "This tutorial explains how to use conda to create a Python virtual environment in Jupyter Notebook.\n",
    "For general information about using conda to create virtual environments, see the [conda documentation](https://docs.conda.io/projects/conda/en/latest/user-guide/tasks/manage-environments.html)."
   ]
  },
  {
   "cell_type": "markdown",
   "metadata": {},
   "source": [
    "<a id=\"setting-up-a-virtual-environment-using-conda\"></a>\n",
    "## Setting Up a Virtual Environment Using conda\n",
    "\n",
    "Follow these steps from your Jupyter Notebook service to create a Python virtual environment using conda: \n",
    "\n",
    "1.  <a id=\"conda-virt-env-setup-step-create-terminal\"></a>Create a new terminal by selecting the **New Launcher** option (`+` icon) from the top action toolbar in the left sidebar, and then selecting **Terminal** from the main work area.<br>\n",
    "   The next steps should be executed from your new terminal.\n",
    "\n",
    "\n",
    "2.  <a id=\"conda-virt-env-setup-step-create-env\"></a>Create a new Python virtual environment by running the following command.\n",
    "    Replace `<environment name>` with your preferred virtual-environment name:\n",
    "    ```sh\n",
    "    conda create -n <environment name> ipykernel\n",
    "    ```\n",
    "\n",
    "    For example, the following command creates a \"my_python_env\" environment for the Jupyter IPython kernel:<br>\n",
    "    ```sh\n",
    "    conda create -n my_python_env ipykernel\n",
    "    ```\n",
    "\n",
    "\n",
    "3. <a id=\"conda-virt-env-setup-step-install-packages\"></a>Install the desired Python packages by running the following command.\n",
    "   Replace `<package>` with the name of your selected package, optionally followed by `=<version>`:\n",
    "   ```sh\n",
    "   conda install <package> [<package> ...]\n",
    "   ```\n",
    "\n",
    "   For example, the following command installs SciPy, pandas version 0.25.0, and TensorFlow version 1.13.1:\n",
    "   ```sh\n",
    "   conda install scipy pandas=0.25.0 tensorflow=1.13.1\n",
    "   ```\n",
    "\n",
    "\n",
    "4.  <a id=\"conda-virt-env-setup-step-export-env\"></a>Export your new virtual environment to an environment file in a shared location in the platform by running the following command.\n",
    "    Replace `<container name>` with the name of a platform data container, `<directory path>` with an optional relative container-directories path, and `<environment name>` with the name of the environment that you created:\n",
    "    ```sh\n",
    "    conda env export > /v3io/<container name>[/<directory path>]/<environment name>.yaml\n",
    "    ```\n",
    "\n",
    "    It's recommended that you save the environment to a virtual-environments directory in the predefined \"users\" data container.\n",
    "    For information about the platform's data containers and how to set container data paths, see [Platform Data Containers](GettingStarted.ipynb/#platform-data-containers) in the **GettingStarted** notebook.\n",
    "    For example, the following command exports a \"my_python_env\" environment to a **my_python_env.yaml** file in a **virtual_env** directory in the \"users\" container:\n",
    "    ```sh\n",
    "    conda env export > /v3io/users/virtual_env/my_python_env.yaml\n",
    "    ```\n",
    "\n",
    "After refreshing the JupyterLab UI, you should be able to see your new environment in the list of available kernels, and see your environment file in the shared location that you set in the export command (which you can browse to from the left sidebar in JupyterLab or from the platform dashboard)."
   ]
  },
  {
   "cell_type": "markdown",
   "metadata": {},
   "source": [
    "<a id=\"loading-a-conda-virtual-environment\"></a>\n",
    "## Loading a conda Virtual Environment\n",
    "\n",
    "If, for any reason, your conda environment variable is removed from Jupyter Notebook, you can easily deploy it again by using the YAML environment file that you exported in [Step 4](#conda-virt-env-setup-step-export-env):\n",
    "\n",
    "1.  Open a new Jupyter terminal\n",
    "\n",
    "2.  Run the following command to recreate the environment from the environment file:\n",
    "    ```sh\n",
    "    conda env create --file /v3io/<container name>[/<directory path>]/<environment name>.yaml\n",
    "    ```\n",
    "\n",
    "    For example:\n",
    "\n",
    "    ```sh\n",
    "    conda env create --file  /v3io/users/virtual_env/my_python_env.yaml\n",
    "    ```"
   ]
  }
 ],
 "metadata": {
  "kernelspec": {
   "display_name": "Python 3",
   "language": "python",
   "name": "python3"
  },
  "language_info": {
   "codemirror_mode": {
    "name": "ipython",
    "version": 3
   },
   "file_extension": ".py",
   "mimetype": "text/x-python",
   "name": "python",
   "nbconvert_exporter": "python",
   "pygments_lexer": "ipython3",
   "version": "3.6.8"
  }
 },
 "nbformat": 4,
 "nbformat_minor": 2
}
