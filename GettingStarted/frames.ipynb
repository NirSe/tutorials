{
 "cells": [
  {
   "cell_type": "markdown",
   "metadata": {},
   "source": [
    "# Using Iguazio Frames Library for High-Performance Data Access \n",
    "iguazio `v3io_frames` is a streaming oriented multi-model (generic) data API which allow high-speed data loading and storing<br>\n",
    "frames currently support iguazio key/value, time-series, and streaming data models (called backends), additional backends will be added\n",
    "\n",
    "to use frames you first create a `client` and provide it the session and credential details, the client is used to to for 5 basic operations:\n",
    "```\n",
    "   create  - create a new key/value or time-series table or stream \n",
    "   delete  - delete the table or stream\n",
    "   read    - read data from the backend (as pandas DataFrame or dataFrame iterator)\n",
    "   write   - write one or more DataFrames into the backend\n",
    "   execute - execute a command on the backend, each backend may support multiple commands \n",
    "```   \n",
    "\n",
    "Content:\n",
    "- [Working with key/value and SQL data](kv)\n",
    "- [Working with Time-series data](#tsdb)\n",
    "- [Working with Streams](#stream)\n",
    "\n",
    "The following sections describe how to use frames, for more help and details use the internal documentation, e.g. run the following command\n",
    "```  client.read?```\n"
   ]
  },
  {
   "cell_type": "code",
   "execution_count": 2,
   "metadata": {},
   "outputs": [],
   "source": [
    "import pandas as pd\n",
    "import v3io_frames as v3f\n",
    "import os\n",
    "client = v3f.Client('framesd-grpc:8081', container='users', password=os.getenv('V3IO_PASSWORD'))"
   ]
  },
  {
   "cell_type": "markdown",
   "metadata": {},
   "source": [
    "<a id='kv'></a>\n",
    "## Working with key/value and SQL data\n",
    "\n",
    "### Load data from Amazon S3"
   ]
  },
  {
   "cell_type": "code",
   "execution_count": 3,
   "metadata": {},
   "outputs": [
    {
     "data": {
      "text/html": [
       "<div>\n",
       "<style scoped>\n",
       "    .dataframe tbody tr th:only-of-type {\n",
       "        vertical-align: middle;\n",
       "    }\n",
       "\n",
       "    .dataframe tbody tr th {\n",
       "        vertical-align: top;\n",
       "    }\n",
       "\n",
       "    .dataframe thead th {\n",
       "        text-align: right;\n",
       "    }\n",
       "</style>\n",
       "<table border=\"1\" class=\"dataframe\">\n",
       "  <thead>\n",
       "    <tr style=\"text-align: right;\">\n",
       "      <th></th>\n",
       "      <th>age</th>\n",
       "      <th>job</th>\n",
       "      <th>marital</th>\n",
       "      <th>education</th>\n",
       "      <th>default</th>\n",
       "      <th>balance</th>\n",
       "      <th>housing</th>\n",
       "      <th>loan</th>\n",
       "      <th>contact</th>\n",
       "      <th>day</th>\n",
       "      <th>month</th>\n",
       "      <th>duration</th>\n",
       "      <th>campaign</th>\n",
       "      <th>pdays</th>\n",
       "      <th>previous</th>\n",
       "      <th>poutcome</th>\n",
       "      <th>y</th>\n",
       "    </tr>\n",
       "  </thead>\n",
       "  <tbody>\n",
       "    <tr>\n",
       "      <th>0</th>\n",
       "      <td>30</td>\n",
       "      <td>unemployed</td>\n",
       "      <td>married</td>\n",
       "      <td>primary</td>\n",
       "      <td>no</td>\n",
       "      <td>1787</td>\n",
       "      <td>no</td>\n",
       "      <td>no</td>\n",
       "      <td>cellular</td>\n",
       "      <td>19</td>\n",
       "      <td>oct</td>\n",
       "      <td>79</td>\n",
       "      <td>1</td>\n",
       "      <td>-1</td>\n",
       "      <td>0</td>\n",
       "      <td>unknown</td>\n",
       "      <td>no</td>\n",
       "    </tr>\n",
       "    <tr>\n",
       "      <th>1</th>\n",
       "      <td>33</td>\n",
       "      <td>services</td>\n",
       "      <td>married</td>\n",
       "      <td>secondary</td>\n",
       "      <td>no</td>\n",
       "      <td>4789</td>\n",
       "      <td>yes</td>\n",
       "      <td>yes</td>\n",
       "      <td>cellular</td>\n",
       "      <td>11</td>\n",
       "      <td>may</td>\n",
       "      <td>220</td>\n",
       "      <td>1</td>\n",
       "      <td>339</td>\n",
       "      <td>4</td>\n",
       "      <td>failure</td>\n",
       "      <td>no</td>\n",
       "    </tr>\n",
       "    <tr>\n",
       "      <th>2</th>\n",
       "      <td>35</td>\n",
       "      <td>management</td>\n",
       "      <td>single</td>\n",
       "      <td>tertiary</td>\n",
       "      <td>no</td>\n",
       "      <td>1350</td>\n",
       "      <td>yes</td>\n",
       "      <td>no</td>\n",
       "      <td>cellular</td>\n",
       "      <td>16</td>\n",
       "      <td>apr</td>\n",
       "      <td>185</td>\n",
       "      <td>1</td>\n",
       "      <td>330</td>\n",
       "      <td>1</td>\n",
       "      <td>failure</td>\n",
       "      <td>no</td>\n",
       "    </tr>\n",
       "    <tr>\n",
       "      <th>3</th>\n",
       "      <td>30</td>\n",
       "      <td>management</td>\n",
       "      <td>married</td>\n",
       "      <td>tertiary</td>\n",
       "      <td>no</td>\n",
       "      <td>1476</td>\n",
       "      <td>yes</td>\n",
       "      <td>yes</td>\n",
       "      <td>unknown</td>\n",
       "      <td>3</td>\n",
       "      <td>jun</td>\n",
       "      <td>199</td>\n",
       "      <td>4</td>\n",
       "      <td>-1</td>\n",
       "      <td>0</td>\n",
       "      <td>unknown</td>\n",
       "      <td>no</td>\n",
       "    </tr>\n",
       "    <tr>\n",
       "      <th>4</th>\n",
       "      <td>59</td>\n",
       "      <td>blue-collar</td>\n",
       "      <td>married</td>\n",
       "      <td>secondary</td>\n",
       "      <td>no</td>\n",
       "      <td>0</td>\n",
       "      <td>yes</td>\n",
       "      <td>no</td>\n",
       "      <td>unknown</td>\n",
       "      <td>5</td>\n",
       "      <td>may</td>\n",
       "      <td>226</td>\n",
       "      <td>1</td>\n",
       "      <td>-1</td>\n",
       "      <td>0</td>\n",
       "      <td>unknown</td>\n",
       "      <td>no</td>\n",
       "    </tr>\n",
       "  </tbody>\n",
       "</table>\n",
       "</div>"
      ],
      "text/plain": [
       "   age          job  marital  education default  balance housing loan  \\\n",
       "0   30   unemployed  married    primary      no     1787      no   no   \n",
       "1   33     services  married  secondary      no     4789     yes  yes   \n",
       "2   35   management   single   tertiary      no     1350     yes   no   \n",
       "3   30   management  married   tertiary      no     1476     yes  yes   \n",
       "4   59  blue-collar  married  secondary      no        0     yes   no   \n",
       "\n",
       "    contact  day month  duration  campaign  pdays  previous poutcome   y  \n",
       "0  cellular   19   oct        79         1     -1         0  unknown  no  \n",
       "1  cellular   11   may       220         1    339         4  failure  no  \n",
       "2  cellular   16   apr       185         1    330         1  failure  no  \n",
       "3   unknown    3   jun       199         4     -1         0  unknown  no  \n",
       "4   unknown    5   may       226         1     -1         0  unknown  no  "
      ]
     },
     "execution_count": 3,
     "metadata": {},
     "output_type": "execute_result"
    }
   ],
   "source": [
    "# read S3 file into a data frame and show its data & metadata\n",
    "tablename = 'iguazio/examples/bank'\n",
    "df = pd.read_csv('https://s3.amazonaws.com/apache-zeppelin/tutorial/bank/bank.csv', sep=';')\n",
    "df.head()"
   ]
  },
  {
   "cell_type": "markdown",
   "metadata": {},
   "source": [
    "### Write data frames into the database using a single command\n",
    "data is streamed into the database via fast NoSQL APIs, note the backend is `kv`<br>\n",
    "the input data can be a single dataframe or a dataframe iterator (for streaming)"
   ]
  },
  {
   "cell_type": "code",
   "execution_count": 4,
   "metadata": {},
   "outputs": [],
   "source": [
    "out = client.write('kv', tablename, df)"
   ]
  },
  {
   "cell_type": "markdown",
   "metadata": {},
   "source": [
    "### Read from the Database with DB side SQL\n",
    "offload data filtering, grouping, joins, etc to a scale-out high speed DB engine"
   ]
  },
  {
   "cell_type": "code",
   "execution_count": 5,
   "metadata": {},
   "outputs": [
    {
     "name": "stdout",
     "output_type": "stream",
     "text": [
      "Done.\n"
     ]
    },
    {
     "data": {
      "text/html": [
       "<table>\n",
       "    <tr>\n",
       "        <th>loan</th>\n",
       "        <th>education</th>\n",
       "        <th>previous</th>\n",
       "        <th>housing</th>\n",
       "        <th>poutcome</th>\n",
       "        <th>duration</th>\n",
       "        <th>marital</th>\n",
       "        <th>default</th>\n",
       "        <th>balance</th>\n",
       "        <th>month</th>\n",
       "        <th>contact</th>\n",
       "        <th>campaign</th>\n",
       "        <th>y</th>\n",
       "        <th>job</th>\n",
       "        <th>day</th>\n",
       "        <th>age</th>\n",
       "        <th>pdays</th>\n",
       "    </tr>\n",
       "    <tr>\n",
       "        <td>no</td>\n",
       "        <td>secondary</td>\n",
       "        <td>0</td>\n",
       "        <td>yes</td>\n",
       "        <td>unknown</td>\n",
       "        <td>249</td>\n",
       "        <td>married</td>\n",
       "        <td>no</td>\n",
       "        <td>19317</td>\n",
       "        <td>aug</td>\n",
       "        <td>cellular</td>\n",
       "        <td>1</td>\n",
       "        <td>yes</td>\n",
       "        <td>retired</td>\n",
       "        <td>4</td>\n",
       "        <td>68</td>\n",
       "        <td>-1</td>\n",
       "    </tr>\n",
       "    <tr>\n",
       "        <td>no</td>\n",
       "        <td>secondary</td>\n",
       "        <td>0</td>\n",
       "        <td>no</td>\n",
       "        <td>unknown</td>\n",
       "        <td>219</td>\n",
       "        <td>married</td>\n",
       "        <td>no</td>\n",
       "        <td>26452</td>\n",
       "        <td>jul</td>\n",
       "        <td>telephone</td>\n",
       "        <td>2</td>\n",
       "        <td>no</td>\n",
       "        <td>retired</td>\n",
       "        <td>15</td>\n",
       "        <td>75</td>\n",
       "        <td>-1</td>\n",
       "    </tr>\n",
       "</table>"
      ],
      "text/plain": [
       "[('no', 'secondary', 0, 'yes', 'unknown', 249, 'married', 'no', 19317, 'aug', 'cellular', 1, 'yes', 'retired', 4, 68, -1),\n",
       " ('no', 'secondary', 0, 'no', 'unknown', 219, 'married', 'no', 26452, 'jul', 'telephone', 2, 'no', 'retired', 15, 75, -1)]"
      ]
     },
     "execution_count": 5,
     "metadata": {},
     "output_type": "execute_result"
    }
   ],
   "source": [
    "%sql select * from v3io.users.\"iguazio/examples/bank\" where balance > 10000"
   ]
  },
  {
   "cell_type": "markdown",
   "metadata": {},
   "source": [
    "### Read the data through frames API\n",
    "the frames API returns a dataframe or a dataframe iterator (a stream)<br>"
   ]
  },
  {
   "cell_type": "code",
   "execution_count": 6,
   "metadata": {},
   "outputs": [
    {
     "data": {
      "text/html": [
       "<div>\n",
       "<style scoped>\n",
       "    .dataframe tbody tr th:only-of-type {\n",
       "        vertical-align: middle;\n",
       "    }\n",
       "\n",
       "    .dataframe tbody tr th {\n",
       "        vertical-align: top;\n",
       "    }\n",
       "\n",
       "    .dataframe thead th {\n",
       "        text-align: right;\n",
       "    }\n",
       "</style>\n",
       "<table border=\"1\" class=\"dataframe\">\n",
       "  <thead>\n",
       "    <tr style=\"text-align: right;\">\n",
       "      <th></th>\n",
       "      <th>y</th>\n",
       "      <th>balance</th>\n",
       "      <th>campaign</th>\n",
       "      <th>age</th>\n",
       "      <th>contact</th>\n",
       "      <th>education</th>\n",
       "      <th>housing</th>\n",
       "      <th>poutcome</th>\n",
       "      <th>marital</th>\n",
       "      <th>day</th>\n",
       "      <th>default</th>\n",
       "      <th>job</th>\n",
       "      <th>loan</th>\n",
       "      <th>month</th>\n",
       "      <th>duration</th>\n",
       "      <th>pdays</th>\n",
       "      <th>previous</th>\n",
       "    </tr>\n",
       "    <tr>\n",
       "      <th>__name</th>\n",
       "      <th></th>\n",
       "      <th></th>\n",
       "      <th></th>\n",
       "      <th></th>\n",
       "      <th></th>\n",
       "      <th></th>\n",
       "      <th></th>\n",
       "      <th></th>\n",
       "      <th></th>\n",
       "      <th></th>\n",
       "      <th></th>\n",
       "      <th></th>\n",
       "      <th></th>\n",
       "      <th></th>\n",
       "      <th></th>\n",
       "      <th></th>\n",
       "      <th></th>\n",
       "    </tr>\n",
       "  </thead>\n",
       "  <tbody>\n",
       "    <tr>\n",
       "      <th>75</th>\n",
       "      <td>no</td>\n",
       "      <td>26452.0</td>\n",
       "      <td>2.0</td>\n",
       "      <td>75.0</td>\n",
       "      <td>telephone</td>\n",
       "      <td>secondary</td>\n",
       "      <td>no</td>\n",
       "      <td>unknown</td>\n",
       "      <td>married</td>\n",
       "      <td>15.0</td>\n",
       "      <td>no</td>\n",
       "      <td>retired</td>\n",
       "      <td>no</td>\n",
       "      <td>jul</td>\n",
       "      <td>219.0</td>\n",
       "      <td>-1.0</td>\n",
       "      <td>0.0</td>\n",
       "    </tr>\n",
       "  </tbody>\n",
       "</table>\n",
       "</div>"
      ],
      "text/plain": [
       "         y  balance  campaign   age    contact  education housing poutcome  \\\n",
       "__name                                                                       \n",
       "75      no  26452.0       2.0  75.0  telephone  secondary      no  unknown   \n",
       "\n",
       "        marital   day default      job loan month  duration  pdays  previous  \n",
       "__name                                                                        \n",
       "75      married  15.0      no  retired   no   jul     219.0   -1.0       0.0  "
      ]
     },
     "execution_count": 6,
     "metadata": {},
     "output_type": "execute_result"
    }
   ],
   "source": [
    "df = client.read(backend='kv', table=tablename, filter=\"balance>20000\")\n",
    "df.head(8)"
   ]
  },
  {
   "cell_type": "markdown",
   "metadata": {},
   "source": [
    "### Read the data as a stream iterator\n",
    "to use iterator and allow cuncurent data movement and processing add `iterator=True`, you will need to iterate over the returned value or use `concat`\n",
    "iterators work with all backends (not just stream), they allow streaming when placed as an input to write functions which support iterators as input"
   ]
  },
  {
   "cell_type": "code",
   "execution_count": 7,
   "metadata": {},
   "outputs": [
    {
     "name": "stdout",
     "output_type": "stream",
     "text": [
      "       default      job  marital   age month poutcome   day   y  balance  \\\n",
      "__name                                                                     \n",
      "75          no  retired  married  75.0   jul  unknown  15.0  no  26452.0   \n",
      "\n",
      "        campaign loan  education  duration    contact housing  previous  pdays  \n",
      "__name                                                                          \n",
      "75           2.0   no  secondary     219.0  telephone      no       0.0   -1.0  \n"
     ]
    }
   ],
   "source": [
    "dfs = client.read(backend='kv', table=tablename, filter=\"balance>20000\", iterator=True)\n",
    "for df in dfs:\n",
    "    print(df.head())"
   ]
  },
  {
   "cell_type": "markdown",
   "metadata": {},
   "source": [
    "### Batch updates with expression\n",
    "in many cases we want to update specific column values or update a column using an expression (e.g. counter = counter + x)<br>\n",
    "when using the key/value backend it can run an expression against each of the rows (specified in the index), and use the dataframe columns as parameters<br>\n",
    "columns are specified using `{}`, e.g. specifing `expression=\"packets=packets+{pkt};bytes=bytes+{bytes};last_update={mytime}\"` will add the data in `pkt` and `bytes` column from the input dataframe to the `packets` and `bytes` columns in the row and set the `last_update` field to `mytime`. the rows are selected based on the input dataframe index"
   ]
  },
  {
   "cell_type": "code",
   "execution_count": 10,
   "metadata": {},
   "outputs": [],
   "source": [
    "# example: creating a new column which reflect the delta between the old `balance` column and the one provided in df (should result in 0 since df didnt change)\n",
    "out = client.write('kv', tablename, df, expression='balance_delta=balance-{balance}')"
   ]
  },
  {
   "cell_type": "markdown",
   "metadata": {},
   "source": [
    "### Making a single row update using execute command\n",
    "The use of `condition` is optional and allow to implement safe/conditional transactions "
   ]
  },
  {
   "cell_type": "code",
   "execution_count": 31,
   "metadata": {},
   "outputs": [
    {
     "ename": "ExecuteError",
     "evalue": "error in _execute: <_Rendezvous of RPC that terminated with:\n\tstatus = StatusCode.UNKNOWN\n\tdetails = \"can't exec: Failed POST with status 400\"\n\tdebug_error_string = \"{\"created\":\"@1550159543.731580110\",\"description\":\"Error received from peer\",\"file\":\"src/core/lib/surface/call.cc\",\"file_line\":1036,\"grpc_message\":\"can't exec: Failed POST with status 400\",\"grpc_status\":2}\"\n>",
     "output_type": "error",
     "traceback": [
      "\u001b[0;31m---------------------------------------------------------------------------\u001b[0m",
      "\u001b[0;31m_Rendezvous\u001b[0m                               Traceback (most recent call last)",
      "\u001b[0;32m/conda/lib/python3.6/site-packages/v3io_frames/grpc.py\u001b[0m in \u001b[0;36mwrapper\u001b[0;34m(*args, **kw)\u001b[0m\n\u001b[1;32m     39\u001b[0m             \u001b[0;32mtry\u001b[0m\u001b[0;34m:\u001b[0m\u001b[0;34m\u001b[0m\u001b[0m\n\u001b[0;32m---> 40\u001b[0;31m                 \u001b[0;32mreturn\u001b[0m \u001b[0mfn\u001b[0m\u001b[0;34m(\u001b[0m\u001b[0;34m*\u001b[0m\u001b[0margs\u001b[0m\u001b[0;34m,\u001b[0m \u001b[0;34m**\u001b[0m\u001b[0mkw\u001b[0m\u001b[0;34m)\u001b[0m\u001b[0;34m\u001b[0m\u001b[0m\n\u001b[0m\u001b[1;32m     41\u001b[0m             \u001b[0;32mexcept\u001b[0m \u001b[0mgrpc\u001b[0m\u001b[0;34m.\u001b[0m\u001b[0mRpcError\u001b[0m \u001b[0;32mas\u001b[0m \u001b[0mgerr\u001b[0m\u001b[0;34m:\u001b[0m\u001b[0;34m\u001b[0m\u001b[0m\n",
      "\u001b[0;32m/conda/lib/python3.6/site-packages/v3io_frames/grpc.py\u001b[0m in \u001b[0;36m_execute\u001b[0;34m(self, backend, table, command, args, expression)\u001b[0m\n\u001b[1;32m    139\u001b[0m             )\n\u001b[0;32m--> 140\u001b[0;31m             \u001b[0mstub\u001b[0m\u001b[0;34m.\u001b[0m\u001b[0mExec\u001b[0m\u001b[0;34m(\u001b[0m\u001b[0mrequest\u001b[0m\u001b[0;34m)\u001b[0m\u001b[0;34m\u001b[0m\u001b[0m\n\u001b[0m\u001b[1;32m    141\u001b[0m \u001b[0;34m\u001b[0m\u001b[0m\n",
      "\u001b[0;32m/conda/lib/python3.6/site-packages/grpc/_channel.py\u001b[0m in \u001b[0;36m__call__\u001b[0;34m(self, request, timeout, metadata, credentials, wait_for_ready)\u001b[0m\n\u001b[1;32m    546\u001b[0m                                       wait_for_ready)\n\u001b[0;32m--> 547\u001b[0;31m         \u001b[0;32mreturn\u001b[0m \u001b[0m_end_unary_response_blocking\u001b[0m\u001b[0;34m(\u001b[0m\u001b[0mstate\u001b[0m\u001b[0;34m,\u001b[0m \u001b[0mcall\u001b[0m\u001b[0;34m,\u001b[0m \u001b[0;32mFalse\u001b[0m\u001b[0;34m,\u001b[0m \u001b[0;32mNone\u001b[0m\u001b[0;34m)\u001b[0m\u001b[0;34m\u001b[0m\u001b[0m\n\u001b[0m\u001b[1;32m    548\u001b[0m \u001b[0;34m\u001b[0m\u001b[0m\n",
      "\u001b[0;32m/conda/lib/python3.6/site-packages/grpc/_channel.py\u001b[0m in \u001b[0;36m_end_unary_response_blocking\u001b[0;34m(state, call, with_call, deadline)\u001b[0m\n\u001b[1;32m    465\u001b[0m     \u001b[0;32melse\u001b[0m\u001b[0;34m:\u001b[0m\u001b[0;34m\u001b[0m\u001b[0m\n\u001b[0;32m--> 466\u001b[0;31m         \u001b[0;32mraise\u001b[0m \u001b[0m_Rendezvous\u001b[0m\u001b[0;34m(\u001b[0m\u001b[0mstate\u001b[0m\u001b[0;34m,\u001b[0m \u001b[0;32mNone\u001b[0m\u001b[0;34m,\u001b[0m \u001b[0;32mNone\u001b[0m\u001b[0;34m,\u001b[0m \u001b[0mdeadline\u001b[0m\u001b[0;34m)\u001b[0m\u001b[0;34m\u001b[0m\u001b[0m\n\u001b[0m\u001b[1;32m    467\u001b[0m \u001b[0;34m\u001b[0m\u001b[0m\n",
      "\u001b[0;31m_Rendezvous\u001b[0m: <_Rendezvous of RPC that terminated with:\n\tstatus = StatusCode.UNKNOWN\n\tdetails = \"can't exec: Failed POST with status 400\"\n\tdebug_error_string = \"{\"created\":\"@1550159543.731580110\",\"description\":\"Error received from peer\",\"file\":\"src/core/lib/surface/call.cc\",\"file_line\":1036,\"grpc_message\":\"can't exec: Failed POST with status 400\",\"grpc_status\":2}\"\n>",
      "\nDuring handling of the above exception, another exception occurred:\n",
      "\u001b[0;31mExecuteError\u001b[0m                              Traceback (most recent call last)",
      "\u001b[0;32m<ipython-input-31-f4f2311b5ad2>\u001b[0m in \u001b[0;36m<module>\u001b[0;34m\u001b[0m\n\u001b[0;32m----> 1\u001b[0;31m \u001b[0mclient\u001b[0m\u001b[0;34m.\u001b[0m\u001b[0mexecute\u001b[0m\u001b[0;34m(\u001b[0m\u001b[0;34m'kv'\u001b[0m\u001b[0;34m,\u001b[0m\u001b[0mtablename\u001b[0m\u001b[0;34m,\u001b[0m\u001b[0;34m'update'\u001b[0m\u001b[0;34m,\u001b[0m \u001b[0margs\u001b[0m\u001b[0;34m=\u001b[0m\u001b[0;34m{\u001b[0m\u001b[0;34m'key'\u001b[0m\u001b[0;34m:\u001b[0m\u001b[0;34m'1'\u001b[0m\u001b[0;34m,\u001b[0m \u001b[0;34m'expression'\u001b[0m\u001b[0;34m:\u001b[0m \u001b[0;34m'age=44'\u001b[0m\u001b[0;34m,\u001b[0m \u001b[0;34m'condition'\u001b[0m\u001b[0;34m:\u001b[0m\u001b[0;34m'balance>0'\u001b[0m\u001b[0;34m}\u001b[0m\u001b[0;34m)\u001b[0m\u001b[0;34m\u001b[0m\u001b[0m\n\u001b[0m",
      "\u001b[0;32m/conda/lib/python3.6/site-packages/v3io_frames/client.py\u001b[0m in \u001b[0;36mexecute\u001b[0;34m(self, backend, table, command, args, expression)\u001b[0m\n\u001b[1;32m    198\u001b[0m         \"\"\"\n\u001b[1;32m    199\u001b[0m         \u001b[0mself\u001b[0m\u001b[0;34m.\u001b[0m\u001b[0m_validate_request\u001b[0m\u001b[0;34m(\u001b[0m\u001b[0mbackend\u001b[0m\u001b[0;34m,\u001b[0m \u001b[0mtable\u001b[0m\u001b[0;34m,\u001b[0m \u001b[0mExecuteError\u001b[0m\u001b[0;34m)\u001b[0m\u001b[0;34m\u001b[0m\u001b[0m\n\u001b[0;32m--> 200\u001b[0;31m         \u001b[0;32mreturn\u001b[0m \u001b[0mself\u001b[0m\u001b[0;34m.\u001b[0m\u001b[0m_execute\u001b[0m\u001b[0;34m(\u001b[0m\u001b[0mbackend\u001b[0m\u001b[0;34m,\u001b[0m \u001b[0mtable\u001b[0m\u001b[0;34m,\u001b[0m \u001b[0mcommand\u001b[0m\u001b[0;34m,\u001b[0m \u001b[0margs\u001b[0m\u001b[0;34m,\u001b[0m \u001b[0mexpression\u001b[0m\u001b[0;34m)\u001b[0m\u001b[0;34m\u001b[0m\u001b[0m\n\u001b[0m\u001b[1;32m    201\u001b[0m \u001b[0;34m\u001b[0m\u001b[0m\n\u001b[1;32m    202\u001b[0m     \u001b[0;32mdef\u001b[0m \u001b[0m_fix_address\u001b[0m\u001b[0;34m(\u001b[0m\u001b[0mself\u001b[0m\u001b[0;34m,\u001b[0m \u001b[0maddress\u001b[0m\u001b[0;34m)\u001b[0m\u001b[0;34m:\u001b[0m\u001b[0;34m\u001b[0m\u001b[0m\n",
      "\u001b[0;32m/conda/lib/python3.6/site-packages/v3io_frames/grpc.py\u001b[0m in \u001b[0;36mwrapper\u001b[0;34m(*args, **kw)\u001b[0m\n\u001b[1;32m     42\u001b[0m                 \u001b[0merr\u001b[0m \u001b[0;34m=\u001b[0m \u001b[0merr_cls\u001b[0m\u001b[0;34m(\u001b[0m\u001b[0;34m'error in {}: {}'\u001b[0m\u001b[0;34m.\u001b[0m\u001b[0mformat\u001b[0m\u001b[0;34m(\u001b[0m\u001b[0mfn\u001b[0m\u001b[0;34m.\u001b[0m\u001b[0m__name__\u001b[0m\u001b[0;34m,\u001b[0m \u001b[0mgerr\u001b[0m\u001b[0;34m)\u001b[0m\u001b[0;34m)\u001b[0m\u001b[0;34m\u001b[0m\u001b[0m\n\u001b[1;32m     43\u001b[0m                 \u001b[0merr\u001b[0m\u001b[0;34m.\u001b[0m\u001b[0mcause\u001b[0m \u001b[0;34m=\u001b[0m \u001b[0mgerr\u001b[0m\u001b[0;34m\u001b[0m\u001b[0m\n\u001b[0;32m---> 44\u001b[0;31m                 \u001b[0;32mraise\u001b[0m \u001b[0merr\u001b[0m\u001b[0;34m\u001b[0m\u001b[0m\n\u001b[0m\u001b[1;32m     45\u001b[0m         \u001b[0;32mreturn\u001b[0m \u001b[0mwrapper\u001b[0m\u001b[0;34m\u001b[0m\u001b[0m\n\u001b[1;32m     46\u001b[0m     \u001b[0;32mreturn\u001b[0m \u001b[0mdecorator\u001b[0m\u001b[0;34m\u001b[0m\u001b[0m\n",
      "\u001b[0;31mExecuteError\u001b[0m: error in _execute: <_Rendezvous of RPC that terminated with:\n\tstatus = StatusCode.UNKNOWN\n\tdetails = \"can't exec: Failed POST with status 400\"\n\tdebug_error_string = \"{\"created\":\"@1550159543.731580110\",\"description\":\"Error received from peer\",\"file\":\"src/core/lib/surface/call.cc\",\"file_line\":1036,\"grpc_message\":\"can't exec: Failed POST with status 400\",\"grpc_status\":2}\"\n>"
     ]
    }
   ],
   "source": [
    "client.execute('kv',tablename,'update', args={'key':'1', 'expression': 'age=44', 'condition':'balance>0'})"
   ]
  },
  {
   "cell_type": "markdown",
   "metadata": {},
   "source": [
    "### Delete the table\n",
    "note: in kv (NoSQL) tabels there is no need to create a table before using it"
   ]
  },
  {
   "cell_type": "code",
   "execution_count": 30,
   "metadata": {},
   "outputs": [],
   "source": [
    "client.delete('kv',table=tablename)"
   ]
  },
  {
   "cell_type": "markdown",
   "metadata": {},
   "source": [
    "<a id='tsdb'></a>\n",
    "## Working with time-series data"
   ]
  },
  {
   "cell_type": "code",
   "execution_count": 12,
   "metadata": {},
   "outputs": [],
   "source": [
    "# create a time series table, rate specifies the typical ingestion rate (e.g. one sample per minute)\n",
    "client.create(backend='tsdb', table='iguazio/examples/clustermon',attrs={'rate':'1/m'})"
   ]
  },
  {
   "cell_type": "code",
   "execution_count": 13,
   "metadata": {},
   "outputs": [
    {
     "name": "stdout",
     "output_type": "stream",
     "text": [
      "<class 'pandas.core.frame.DataFrame'>\n",
      "DatetimeIndex: 60 entries, 2019-02-14 10:05:00-05:00 to 2019-02-14 15:00:00-05:00\n",
      "Freq: 300S\n",
      "Data columns (total 3 columns):\n",
      "cpu     60 non-null float64\n",
      "mem     60 non-null float64\n",
      "disk    60 non-null float64\n",
      "dtypes: float64(3)\n",
      "memory usage: 1.9 KB\n",
      "None                                 cpu       mem      disk\n",
      "2019-02-14 10:05:00-05:00  1.141455 -1.224649 -0.342855\n",
      "2019-02-14 10:10:00-05:00  1.723453 -1.576895  0.318621\n",
      "2019-02-14 10:15:00-05:00  2.879279 -0.554120  0.149328\n",
      "2019-02-14 10:20:00-05:00  2.299723  0.702920 -0.038153\n",
      "2019-02-14 10:25:00-05:00  2.548007  0.354144 -1.424413\n"
     ]
    }
   ],
   "source": [
    "# create sample time-series data\n",
    "import numpy as np\n",
    "from datetime import datetime, timedelta\n",
    "end = datetime.now().replace(minute=0, second=0, microsecond=0)\n",
    "rng = pd.date_range(end=end, periods=60, freq='300s', tz='EST')\n",
    "df = pd.DataFrame(np.random.randn(len(rng), 3), index=rng, columns=['cpu','mem','disk'])\n",
    "df = df.cumsum()\n",
    "print(df.info(), df.head())"
   ]
  },
  {
   "cell_type": "markdown",
   "metadata": {},
   "source": [
    "### Write to the time-series DB\n",
    "The time series DB has a time based index and additional sub indexes called labels<br>\n",
    "labels can be specified in two ways:\n",
    "* Using the `labels` parameters which will add the specified labels to each row/sample<br>\n",
    "* Using multi-index, all non time index columns are automatically converted to labels\n",
    "\n",
    "if your DataFrame doesnt contain multi-index and you wish to use specific columns as time-series labels you should convert the columns to indexes using:<br>\n",
    "```python\n",
    "    df.index.name='time'                              # in case the index column is un-named \n",
    "    df.reset_index(level=0, inplace=True)    \n",
    "    df = df.set_index(['time','symbol','exchange'])   # e.g. convert the specified columns to indexes \n",
    "```\n",
    "\n",
    "Note: you can use both (multi-index and labels) together, the labels will be the aggregation of both "
   ]
  },
  {
   "cell_type": "code",
   "execution_count": 14,
   "metadata": {},
   "outputs": [],
   "source": [
    "client.write(backend='tsdb', table='iguazio/examples/clustermon',dfs=df, labels={'node':'11'})"
   ]
  },
  {
   "cell_type": "markdown",
   "metadata": {},
   "source": [
    "### Read from the time-series DB\n"
   ]
  },
  {
   "cell_type": "code",
   "execution_count": 15,
   "metadata": {},
   "outputs": [],
   "source": [
    "tsmetrics = client.read(backend='tsdb', table='iguazio/examples/clustermon', step='10m', aggragators='avg,max,count',start=\"now-5h\", end='now')"
   ]
  },
  {
   "cell_type": "code",
   "execution_count": 16,
   "metadata": {},
   "outputs": [
    {
     "data": {
      "text/html": [
       "<div>\n",
       "<style scoped>\n",
       "    .dataframe tbody tr th:only-of-type {\n",
       "        vertical-align: middle;\n",
       "    }\n",
       "\n",
       "    .dataframe tbody tr th {\n",
       "        vertical-align: top;\n",
       "    }\n",
       "\n",
       "    .dataframe thead tr th {\n",
       "        text-align: left;\n",
       "    }\n",
       "\n",
       "    .dataframe thead tr:last-of-type th {\n",
       "        text-align: right;\n",
       "    }\n",
       "</style>\n",
       "<table border=\"1\" class=\"dataframe\">\n",
       "  <thead>\n",
       "    <tr>\n",
       "      <th></th>\n",
       "      <th>metric_name</th>\n",
       "      <th colspan=\"3\" halign=\"left\">cpu</th>\n",
       "      <th colspan=\"3\" halign=\"left\">disk</th>\n",
       "      <th colspan=\"3\" halign=\"left\">mem</th>\n",
       "    </tr>\n",
       "    <tr>\n",
       "      <th></th>\n",
       "      <th>Aggregate</th>\n",
       "      <th>avg</th>\n",
       "      <th>count</th>\n",
       "      <th>max</th>\n",
       "      <th>avg</th>\n",
       "      <th>count</th>\n",
       "      <th>max</th>\n",
       "      <th>avg</th>\n",
       "      <th>count</th>\n",
       "      <th>max</th>\n",
       "    </tr>\n",
       "    <tr>\n",
       "      <th>Date</th>\n",
       "      <th>node</th>\n",
       "      <th></th>\n",
       "      <th></th>\n",
       "      <th></th>\n",
       "      <th></th>\n",
       "      <th></th>\n",
       "      <th></th>\n",
       "      <th></th>\n",
       "      <th></th>\n",
       "      <th></th>\n",
       "    </tr>\n",
       "  </thead>\n",
       "  <tbody>\n",
       "    <tr>\n",
       "      <th>2019-02-14 15:04:36</th>\n",
       "      <th>11</th>\n",
       "      <td>1.432454</td>\n",
       "      <td>2.0</td>\n",
       "      <td>1.723453</td>\n",
       "      <td>-0.012117</td>\n",
       "      <td>2.0</td>\n",
       "      <td>0.318621</td>\n",
       "      <td>-1.400772</td>\n",
       "      <td>2.0</td>\n",
       "      <td>-1.224649</td>\n",
       "    </tr>\n",
       "    <tr>\n",
       "      <th>2019-02-14 15:14:36</th>\n",
       "      <th>11</th>\n",
       "      <td>2.589501</td>\n",
       "      <td>2.0</td>\n",
       "      <td>2.879279</td>\n",
       "      <td>0.055588</td>\n",
       "      <td>2.0</td>\n",
       "      <td>0.149328</td>\n",
       "      <td>0.074400</td>\n",
       "      <td>2.0</td>\n",
       "      <td>0.702920</td>\n",
       "    </tr>\n",
       "    <tr>\n",
       "      <th>2019-02-14 15:24:36</th>\n",
       "      <th>11</th>\n",
       "      <td>2.702958</td>\n",
       "      <td>2.0</td>\n",
       "      <td>2.857909</td>\n",
       "      <td>-1.602858</td>\n",
       "      <td>2.0</td>\n",
       "      <td>-1.424413</td>\n",
       "      <td>0.598381</td>\n",
       "      <td>2.0</td>\n",
       "      <td>0.842617</td>\n",
       "    </tr>\n",
       "    <tr>\n",
       "      <th>2019-02-14 15:34:36</th>\n",
       "      <th>11</th>\n",
       "      <td>3.140352</td>\n",
       "      <td>2.0</td>\n",
       "      <td>3.190312</td>\n",
       "      <td>-1.467087</td>\n",
       "      <td>2.0</td>\n",
       "      <td>-1.252814</td>\n",
       "      <td>-0.446359</td>\n",
       "      <td>2.0</td>\n",
       "      <td>-0.152372</td>\n",
       "    </tr>\n",
       "  </tbody>\n",
       "</table>\n",
       "</div>"
      ],
      "text/plain": [
       "metric_name                    cpu                      disk                  \\\n",
       "Aggregate                      avg count       max       avg count       max   \n",
       "Date                node                                                       \n",
       "2019-02-14 15:04:36 11    1.432454   2.0  1.723453 -0.012117   2.0  0.318621   \n",
       "2019-02-14 15:14:36 11    2.589501   2.0  2.879279  0.055588   2.0  0.149328   \n",
       "2019-02-14 15:24:36 11    2.702958   2.0  2.857909 -1.602858   2.0 -1.424413   \n",
       "2019-02-14 15:34:36 11    3.140352   2.0  3.190312 -1.467087   2.0 -1.252814   \n",
       "\n",
       "metric_name                    mem                  \n",
       "Aggregate                      avg count       max  \n",
       "Date                node                            \n",
       "2019-02-14 15:04:36 11   -1.400772   2.0 -1.224649  \n",
       "2019-02-14 15:14:36 11    0.074400   2.0  0.702920  \n",
       "2019-02-14 15:24:36 11    0.598381   2.0  0.842617  \n",
       "2019-02-14 15:34:36 11   -0.446359   2.0 -0.152372  "
      ]
     },
     "execution_count": 16,
     "metadata": {},
     "output_type": "execute_result"
    }
   ],
   "source": [
    "pvt = tsmetrics.pivot_table('values',['Date','node'],['metric_name','Aggregate'])\n",
    "pvt.head(15)"
   ]
  },
  {
   "cell_type": "code",
   "execution_count": 17,
   "metadata": {},
   "outputs": [
    {
     "data": {
      "text/plain": [
       "<matplotlib.axes._subplots.AxesSubplot at 0x7f5f05c31240>"
      ]
     },
     "execution_count": 17,
     "metadata": {},
     "output_type": "execute_result"
    },
    {
     "data": {
      "image/png": "[encoded data removed]",
      "text/plain": [
       "<Figure size 1080x288 with 1 Axes>"
      ]
     },
     "metadata": {
      "needs_background": "light"
     },
     "output_type": "display_data"
    }
   ],
   "source": [
    "%matplotlib inline\n",
    "pvt.plot(figsize=[15,4])"
   ]
  },
  {
   "cell_type": "markdown",
   "metadata": {},
   "source": [
    "### Delete the table"
   ]
  },
  {
   "cell_type": "code",
   "execution_count": 18,
   "metadata": {},
   "outputs": [],
   "source": [
    "client.delete('tsdb','iguazio/examples/clustermon')"
   ]
  },
  {
   "cell_type": "markdown",
   "metadata": {},
   "source": [
    "<a id='stream'></a>\n",
    "## Working with streams\n",
    "iguazio platform support streams which have AWS Kinesis like API, they can be accessed from the notebook as if they were a structured stream (currently assume the structure is serialized through `JSON`. streams can be accessed in a bulk, or preferably using an iterator.<br>\n",
    "Streams must be first created, users can specify the number of shards and retention period when creating the stream."
   ]
  },
  {
   "cell_type": "code",
   "execution_count": 19,
   "metadata": {},
   "outputs": [],
   "source": [
    "client.create(backend='stream', table='iguazio/examples/somestream',attrs={'retention_hours':48,'shards':1})"
   ]
  },
  {
   "cell_type": "code",
   "execution_count": 20,
   "metadata": {},
   "outputs": [],
   "source": [
    "# write data into a stream\n",
    "def gendf():\n",
    "    end = datetime.now().replace(minute=0, second=0, microsecond=0)\n",
    "    rng = pd.date_range(end=end, periods=60, freq='300s', tz='Israel')\n",
    "    df = pd.DataFrame(np.random.randn(len(rng), 3), index=rng, columns=['cpu', 'mem', 'disk'])\n",
    "    return df\n",
    "\n",
    "client.write('stream', 'iguazio/examples/somestream', gendf())"
   ]
  },
  {
   "cell_type": "markdown",
   "metadata": {},
   "source": [
    "### Reading from a stream\n",
    "the stream read operation need to specify the seek method and parameters (each seek method may have different parameters) as listed below:\n",
    "```\n",
    "   earliest   - start from the earliest point in the stream (no params)\n",
    "   latest     - start from the latest, i.e. show only new records\n",
    "   time       - start from a point in time, specify the start param e.g. start='now-1d'\n",
    "   sequence   - start from a specific sequence number, specify the sequence param e.g. sequence=45\n",
    "```\n",
    "\n"
   ]
  },
  {
   "cell_type": "code",
   "execution_count": 21,
   "metadata": {},
   "outputs": [
    {
     "name": "stdout",
     "output_type": "stream",
     "text": [
      "                 cpu      disk               index-0       mem  \\\n",
      "seq_number                                                       \n",
      "1           0.372278  0.149772  2019-02-14T08:05:00Z -0.333987   \n",
      "2           0.666117  1.138772  2019-02-14T08:10:00Z  0.147554   \n",
      "3           1.114413 -0.977014  2019-02-14T08:15:00Z -0.592844   \n",
      "4           0.406110  0.828743  2019-02-14T08:20:00Z  0.499955   \n",
      "\n",
      "                             stream_time  \n",
      "seq_number                                \n",
      "1          2019-02-14 15:44:44.401162570  \n",
      "2          2019-02-14 15:44:44.401162570  \n",
      "3          2019-02-14 15:44:44.401162570  \n",
      "4          2019-02-14 15:44:44.401162570  \n"
     ]
    }
   ],
   "source": [
    "dfs = client.read('stream', 'iguazio/examples/somestream',seek='earliest', shard_id='0', iterator=True)\n",
    "for df in dfs:\n",
    "    print(df.head(4))"
   ]
  },
  {
   "cell_type": "markdown",
   "metadata": {},
   "source": [
    "### Push a single record update to a stream\n",
    "In some cases it is more conviniant to just push a buffer into a stream, for that use the execute `put` command <br>\n",
    "put accepts the `data` arg and two optional parameters (`clientinfo` for some extra info and `partition` if you want to specify the shard id)"
   ]
  },
  {
   "cell_type": "code",
   "execution_count": 22,
   "metadata": {},
   "outputs": [],
   "source": [
    "client.execute('stream', 'iguazio/examples/somestream', 'put', args={'data': 'abcd', 'clientinfo': '123'})"
   ]
  },
  {
   "cell_type": "markdown",
   "metadata": {},
   "source": [
    "### Delete the stream"
   ]
  },
  {
   "cell_type": "code",
   "execution_count": 23,
   "metadata": {},
   "outputs": [],
   "source": [
    "client.delete('stream','iguazio/examples/somestream')"
   ]
  },
  {
   "cell_type": "code",
   "execution_count": null,
   "metadata": {},
   "outputs": [],
   "source": []
  }
 ],
 "metadata": {
  "kernelspec": {
   "display_name": "Python 3",
   "language": "python",
   "name": "python3"
  },
  "language_info": {
   "codemirror_mode": {
    "name": "ipython",
    "version": 3
   },
   "file_extension": ".py",
   "mimetype": "text/x-python",
   "name": "python",
   "nbconvert_exporter": "python",
   "pygments_lexer": "ipython3",
   "version": "3.6.6"
  }
 },
 "nbformat": 4,
 "nbformat_minor": 2
}
