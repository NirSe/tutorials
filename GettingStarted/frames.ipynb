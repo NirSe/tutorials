{
 "cells": [
  {
   "cell_type": "markdown",
   "metadata": {},
   "source": [
    "# Using Iguazio Frames Library for High-Performance Data Access \n",
    "iguazio `v3io_frames` is a streaming oriented multi-model (generic) data API which allow high-speed data loading and storing<br>\n",
    "frames currently support iguazio key/value, time-series, and streaming data models (called backends), additional backends will be added\n",
    "\n",
    "to use frames you first create a `client` and provide it the session and credential details, the client is used to to for 5 basic operations:\n",
    "```\n",
    "   create  - create a new key/value or time-series table or stream \n",
    "   delete  - delete the table or stream\n",
    "   read    - read data from the backend (as pandas DataFrame or dataFrame iterator)\n",
    "   write   - write one or more DataFrames into the backend\n",
    "   execute - execute a command on the backend, each backend may support multiple commands \n",
    "```   \n",
    "\n",
    "Content:\n",
    "- [Working with key/value and SQL data](kv)\n",
    "- [Working with Time-series data](#tsdb)\n",
    "- [Working with Streams](#stream)\n",
    "\n",
    "The following sections describe how to use frames, for more help and details use the internal documentation, e.g. run the following command\n",
    "```  client.read?```\n"
   ]
  },
  {
   "cell_type": "code",
   "execution_count": 31,
   "metadata": {},
   "outputs": [
    {
     "name": "stdout",
     "output_type": "stream",
     "text": [
      "env: V3IO_PASSWORD=<V3IO Password>\n"
     ]
    }
   ],
   "source": [
    "# fill the following environment var with real password\n",
    "%env V3IO_PASSWORD = <V3IO Password>"
   ]
  },
  {
   "cell_type": "code",
   "execution_count": 2,
   "metadata": {},
   "outputs": [],
   "source": [
    "import pandas as pd\n",
    "import v3io_frames as v3f\n",
    "import os\n",
    "client = v3f.Client('v3io-framesd:8081', password=os.getenv('V3IO_PASSWORD'))"
   ]
  },
  {
   "cell_type": "markdown",
   "metadata": {},
   "source": [
    "<a id='kv'></a>\n",
    "## Working with key/value and SQL data\n",
    "\n",
    "### Load data from Amazon S3"
   ]
  },
  {
   "cell_type": "code",
   "execution_count": 3,
   "metadata": {},
   "outputs": [
    {
     "data": {
      "text/html": [
       "<div>\n",
       "<style scoped>\n",
       "    .dataframe tbody tr th:only-of-type {\n",
       "        vertical-align: middle;\n",
       "    }\n",
       "\n",
       "    .dataframe tbody tr th {\n",
       "        vertical-align: top;\n",
       "    }\n",
       "\n",
       "    .dataframe thead th {\n",
       "        text-align: right;\n",
       "    }\n",
       "</style>\n",
       "<table border=\"1\" class=\"dataframe\">\n",
       "  <thead>\n",
       "    <tr style=\"text-align: right;\">\n",
       "      <th></th>\n",
       "      <th>age</th>\n",
       "      <th>job</th>\n",
       "      <th>marital</th>\n",
       "      <th>education</th>\n",
       "      <th>default</th>\n",
       "      <th>balance</th>\n",
       "      <th>housing</th>\n",
       "      <th>loan</th>\n",
       "      <th>contact</th>\n",
       "      <th>day</th>\n",
       "      <th>month</th>\n",
       "      <th>duration</th>\n",
       "      <th>campaign</th>\n",
       "      <th>pdays</th>\n",
       "      <th>previous</th>\n",
       "      <th>poutcome</th>\n",
       "      <th>y</th>\n",
       "    </tr>\n",
       "  </thead>\n",
       "  <tbody>\n",
       "    <tr>\n",
       "      <th>0</th>\n",
       "      <td>30</td>\n",
       "      <td>unemployed</td>\n",
       "      <td>married</td>\n",
       "      <td>primary</td>\n",
       "      <td>no</td>\n",
       "      <td>1787</td>\n",
       "      <td>no</td>\n",
       "      <td>no</td>\n",
       "      <td>cellular</td>\n",
       "      <td>19</td>\n",
       "      <td>oct</td>\n",
       "      <td>79</td>\n",
       "      <td>1</td>\n",
       "      <td>-1</td>\n",
       "      <td>0</td>\n",
       "      <td>unknown</td>\n",
       "      <td>no</td>\n",
       "    </tr>\n",
       "    <tr>\n",
       "      <th>1</th>\n",
       "      <td>33</td>\n",
       "      <td>services</td>\n",
       "      <td>married</td>\n",
       "      <td>secondary</td>\n",
       "      <td>no</td>\n",
       "      <td>4789</td>\n",
       "      <td>yes</td>\n",
       "      <td>yes</td>\n",
       "      <td>cellular</td>\n",
       "      <td>11</td>\n",
       "      <td>may</td>\n",
       "      <td>220</td>\n",
       "      <td>1</td>\n",
       "      <td>339</td>\n",
       "      <td>4</td>\n",
       "      <td>failure</td>\n",
       "      <td>no</td>\n",
       "    </tr>\n",
       "    <tr>\n",
       "      <th>2</th>\n",
       "      <td>35</td>\n",
       "      <td>management</td>\n",
       "      <td>single</td>\n",
       "      <td>tertiary</td>\n",
       "      <td>no</td>\n",
       "      <td>1350</td>\n",
       "      <td>yes</td>\n",
       "      <td>no</td>\n",
       "      <td>cellular</td>\n",
       "      <td>16</td>\n",
       "      <td>apr</td>\n",
       "      <td>185</td>\n",
       "      <td>1</td>\n",
       "      <td>330</td>\n",
       "      <td>1</td>\n",
       "      <td>failure</td>\n",
       "      <td>no</td>\n",
       "    </tr>\n",
       "    <tr>\n",
       "      <th>3</th>\n",
       "      <td>30</td>\n",
       "      <td>management</td>\n",
       "      <td>married</td>\n",
       "      <td>tertiary</td>\n",
       "      <td>no</td>\n",
       "      <td>1476</td>\n",
       "      <td>yes</td>\n",
       "      <td>yes</td>\n",
       "      <td>unknown</td>\n",
       "      <td>3</td>\n",
       "      <td>jun</td>\n",
       "      <td>199</td>\n",
       "      <td>4</td>\n",
       "      <td>-1</td>\n",
       "      <td>0</td>\n",
       "      <td>unknown</td>\n",
       "      <td>no</td>\n",
       "    </tr>\n",
       "    <tr>\n",
       "      <th>4</th>\n",
       "      <td>59</td>\n",
       "      <td>blue-collar</td>\n",
       "      <td>married</td>\n",
       "      <td>secondary</td>\n",
       "      <td>no</td>\n",
       "      <td>0</td>\n",
       "      <td>yes</td>\n",
       "      <td>no</td>\n",
       "      <td>unknown</td>\n",
       "      <td>5</td>\n",
       "      <td>may</td>\n",
       "      <td>226</td>\n",
       "      <td>1</td>\n",
       "      <td>-1</td>\n",
       "      <td>0</td>\n",
       "      <td>unknown</td>\n",
       "      <td>no</td>\n",
       "    </tr>\n",
       "  </tbody>\n",
       "</table>\n",
       "</div>"
      ],
      "text/plain": [
       "   age          job  marital  education default  balance housing loan  \\\n",
       "0   30   unemployed  married    primary      no     1787      no   no   \n",
       "1   33     services  married  secondary      no     4789     yes  yes   \n",
       "2   35   management   single   tertiary      no     1350     yes   no   \n",
       "3   30   management  married   tertiary      no     1476     yes  yes   \n",
       "4   59  blue-collar  married  secondary      no        0     yes   no   \n",
       "\n",
       "    contact  day month  duration  campaign  pdays  previous poutcome   y  \n",
       "0  cellular   19   oct        79         1     -1         0  unknown  no  \n",
       "1  cellular   11   may       220         1    339         4  failure  no  \n",
       "2  cellular   16   apr       185         1    330         1  failure  no  \n",
       "3   unknown    3   jun       199         4     -1         0  unknown  no  \n",
       "4   unknown    5   may       226         1     -1         0  unknown  no  "
      ]
     },
     "execution_count": 3,
     "metadata": {},
     "output_type": "execute_result"
    }
   ],
   "source": [
    "# read S3 file into a data frame and show its data & metadata\n",
    "tablename = 'bank'\n",
    "df = pd.read_csv('https://s3.amazonaws.com/apache-zeppelin/tutorial/bank/bank.csv', sep=';')\n",
    "df.head()"
   ]
  },
  {
   "cell_type": "markdown",
   "metadata": {},
   "source": [
    "### Write data frames into the database using a single command\n",
    "data is streamed into the database via fast NoSQL APIs, note the backend is `kv`<br>\n",
    "the input data can be a single dataframe or a dataframe iterator (for streaming)"
   ]
  },
  {
   "cell_type": "code",
   "execution_count": 4,
   "metadata": {},
   "outputs": [],
   "source": [
    "out = client.write('kv', tablename, df)"
   ]
  },
  {
   "cell_type": "markdown",
   "metadata": {},
   "source": [
    "### Read from the Database with DB side SQL\n",
    "offload data filtering, grouping, joins, etc to a scale-out high speed DB engine"
   ]
  },
  {
   "cell_type": "code",
   "execution_count": 5,
   "metadata": {},
   "outputs": [
    {
     "name": "stdout",
     "output_type": "stream",
     "text": [
      "Done.\n"
     ]
    },
    {
     "data": {
      "text/html": [
       "<table>\n",
       "    <tr>\n",
       "        <th>loan</th>\n",
       "        <th>education</th>\n",
       "        <th>previous</th>\n",
       "        <th>housing</th>\n",
       "        <th>poutcome</th>\n",
       "        <th>duration</th>\n",
       "        <th>marital</th>\n",
       "        <th>default</th>\n",
       "        <th>balance</th>\n",
       "        <th>month</th>\n",
       "        <th>contact</th>\n",
       "        <th>campaign</th>\n",
       "        <th>y</th>\n",
       "        <th>job</th>\n",
       "        <th>day</th>\n",
       "        <th>age</th>\n",
       "        <th>pdays</th>\n",
       "    </tr>\n",
       "    <tr>\n",
       "        <td>no</td>\n",
       "        <td>secondary</td>\n",
       "        <td>0</td>\n",
       "        <td>no</td>\n",
       "        <td>unknown</td>\n",
       "        <td>219</td>\n",
       "        <td>married</td>\n",
       "        <td>no</td>\n",
       "        <td>26452</td>\n",
       "        <td>jul</td>\n",
       "        <td>telephone</td>\n",
       "        <td>2</td>\n",
       "        <td>no</td>\n",
       "        <td>retired</td>\n",
       "        <td>15</td>\n",
       "        <td>75</td>\n",
       "        <td>-1</td>\n",
       "    </tr>\n",
       "    <tr>\n",
       "        <td>no</td>\n",
       "        <td>secondary</td>\n",
       "        <td>0</td>\n",
       "        <td>yes</td>\n",
       "        <td>unknown</td>\n",
       "        <td>249</td>\n",
       "        <td>married</td>\n",
       "        <td>no</td>\n",
       "        <td>19317</td>\n",
       "        <td>aug</td>\n",
       "        <td>cellular</td>\n",
       "        <td>1</td>\n",
       "        <td>yes</td>\n",
       "        <td>retired</td>\n",
       "        <td>4</td>\n",
       "        <td>68</td>\n",
       "        <td>-1</td>\n",
       "    </tr>\n",
       "</table>"
      ],
      "text/plain": [
       "[('no', 'secondary', 0, 'no', 'unknown', 219, 'married', 'no', 26452, 'jul', 'telephone', 2, 'no', 'retired', 15, 75, -1),\n",
       " ('no', 'secondary', 0, 'yes', 'unknown', 249, 'married', 'no', 19317, 'aug', 'cellular', 1, 'yes', 'retired', 4, 68, -1)]"
      ]
     },
     "execution_count": 5,
     "metadata": {},
     "output_type": "execute_result"
    }
   ],
   "source": [
    "%sql select * from bigdata.bank where balance > 10000"
   ]
  },
  {
   "cell_type": "markdown",
   "metadata": {},
   "source": [
    "### Read the data through frames API\n",
    "the frames API returns a dataframe or a dataframe iterator (a stream)<br>"
   ]
  },
  {
   "cell_type": "code",
   "execution_count": 6,
   "metadata": {},
   "outputs": [
    {
     "data": {
      "text/html": [
       "<div>\n",
       "<style scoped>\n",
       "    .dataframe tbody tr th:only-of-type {\n",
       "        vertical-align: middle;\n",
       "    }\n",
       "\n",
       "    .dataframe tbody tr th {\n",
       "        vertical-align: top;\n",
       "    }\n",
       "\n",
       "    .dataframe thead th {\n",
       "        text-align: right;\n",
       "    }\n",
       "</style>\n",
       "<table border=\"1\" class=\"dataframe\">\n",
       "  <thead>\n",
       "    <tr style=\"text-align: right;\">\n",
       "      <th></th>\n",
       "      <th>default</th>\n",
       "      <th>day</th>\n",
       "      <th>contact</th>\n",
       "      <th>pdays</th>\n",
       "      <th>housing</th>\n",
       "      <th>y</th>\n",
       "      <th>age</th>\n",
       "      <th>month</th>\n",
       "      <th>previous</th>\n",
       "      <th>poutcome</th>\n",
       "      <th>marital</th>\n",
       "      <th>loan</th>\n",
       "      <th>duration</th>\n",
       "      <th>balance</th>\n",
       "      <th>job</th>\n",
       "      <th>education</th>\n",
       "      <th>campaign</th>\n",
       "    </tr>\n",
       "    <tr>\n",
       "      <th>__name</th>\n",
       "      <th></th>\n",
       "      <th></th>\n",
       "      <th></th>\n",
       "      <th></th>\n",
       "      <th></th>\n",
       "      <th></th>\n",
       "      <th></th>\n",
       "      <th></th>\n",
       "      <th></th>\n",
       "      <th></th>\n",
       "      <th></th>\n",
       "      <th></th>\n",
       "      <th></th>\n",
       "      <th></th>\n",
       "      <th></th>\n",
       "      <th></th>\n",
       "      <th></th>\n",
       "    </tr>\n",
       "  </thead>\n",
       "  <tbody>\n",
       "    <tr>\n",
       "      <th>75</th>\n",
       "      <td>no</td>\n",
       "      <td>15</td>\n",
       "      <td>telephone</td>\n",
       "      <td>-1</td>\n",
       "      <td>no</td>\n",
       "      <td>no</td>\n",
       "      <td>75</td>\n",
       "      <td>jul</td>\n",
       "      <td>0</td>\n",
       "      <td>unknown</td>\n",
       "      <td>married</td>\n",
       "      <td>no</td>\n",
       "      <td>219</td>\n",
       "      <td>26452</td>\n",
       "      <td>retired</td>\n",
       "      <td>secondary</td>\n",
       "      <td>2</td>\n",
       "    </tr>\n",
       "  </tbody>\n",
       "</table>\n",
       "</div>"
      ],
      "text/plain": [
       "       default  day    contact  pdays housing   y  age month  previous  \\\n",
       "__name                                                                   \n",
       "75          no   15  telephone     -1      no  no   75   jul         0   \n",
       "\n",
       "       poutcome  marital loan  duration  balance      job  education  campaign  \n",
       "__name                                                                          \n",
       "75      unknown  married   no       219    26452  retired  secondary         2  "
      ]
     },
     "execution_count": 6,
     "metadata": {},
     "output_type": "execute_result"
    }
   ],
   "source": [
    "df = client.read(backend='kv', table=tablename, filter=\"balance>20000\")\n",
    "df.head(8)"
   ]
  },
  {
   "cell_type": "markdown",
   "metadata": {},
   "source": [
    "### Read the data as a stream iterator\n",
    "to use iterator and allow cuncurent data movement and processing add `iterator=True`, you will need to iterate over the returned value or use `concat`\n",
    "iterators work with all backends (not just stream), they allow streaming when placed as an input to write functions which support iterators as input"
   ]
  },
  {
   "cell_type": "code",
   "execution_count": 11,
   "metadata": {},
   "outputs": [
    {
     "name": "stdout",
     "output_type": "stream",
     "text": [
      "        balance      job month   y housing  previous  age  campaign  duration  \\\n",
      "__name                                                                          \n",
      "75        26452  retired   jul  no      no         0   75         2       219   \n",
      "\n",
      "        day default  education    contact loan poutcome  marital  pdays  \n",
      "__name                                                                   \n",
      "75       15      no  secondary  telephone   no  unknown  married     -1  \n"
     ]
    }
   ],
   "source": [
    "dfs = client.read(backend='kv', table=tablename, filter=\"balance>20000\", iterator=True)\n",
    "for df in dfs:\n",
    "    print(df.head())"
   ]
  },
  {
   "cell_type": "markdown",
   "metadata": {},
   "source": [
    "### Batch updates with expression\n",
    "in many cases we want to update specific column values or update a column using an expression (e.g. counter = counter + x)<br>\n",
    "when using the key/value backend it can run an expression against each of the rows (specified in the index), and use the dataframe columns as parameters<br>\n",
    "columns are specified using `{}`, e.g. specifing `expression=\"packets=packets+{pkt};bytes=bytes+{bytes};last_update={mytime}\"` will add the data in `pkt` and `bytes` column from the input dataframe to the `packets` and `bytes` columns in the row and set the `last_update` field to `mytime`. the rows are selected based on the input dataframe index"
   ]
  },
  {
   "cell_type": "code",
   "execution_count": null,
   "metadata": {},
   "outputs": [],
   "source": [
    "# example: creating a new column which reflect the delta between the old `loan` column and the one provided in df (should result in 0 since df didnt change)\n",
    "out = client.write('kv', tablename, df, expression='loan_delta=loan-{loan}')"
   ]
  },
  {
   "cell_type": "markdown",
   "metadata": {},
   "source": [
    "### Making a single row update using execute command\n",
    "The use of `condition` is optional and allow to implement safe/conditional transactions "
   ]
  },
  {
   "cell_type": "code",
   "execution_count": null,
   "metadata": {},
   "outputs": [],
   "source": [
    "client.execute('kv',tablename,'update', args={'key':'1', 'expression': 'age=44', 'condition':'balance>0'})"
   ]
  },
  {
   "cell_type": "markdown",
   "metadata": {},
   "source": [
    "### Delete the table\n",
    "note: in kv (NoSQL) tabels there is no need to create a table before using it"
   ]
  },
  {
   "cell_type": "code",
   "execution_count": 12,
   "metadata": {},
   "outputs": [],
   "source": [
    "client.delete('kv',table=tablename)"
   ]
  },
  {
   "cell_type": "markdown",
   "metadata": {},
   "source": [
    "<a id='tsdb'></a>\n",
    "## Working with time-series data"
   ]
  },
  {
   "cell_type": "code",
   "execution_count": 9,
   "metadata": {},
   "outputs": [],
   "source": [
    "# create a time series table, rate specifies the typical ingestion rate (e.g. one sample per minute)\n",
    "client.create(backend='tsdb', table='clustermon',attrs={'rate':'1/m'})"
   ]
  },
  {
   "cell_type": "code",
   "execution_count": 10,
   "metadata": {},
   "outputs": [
    {
     "name": "stdout",
     "output_type": "stream",
     "text": [
      "<class 'pandas.core.frame.DataFrame'>\n",
      "DatetimeIndex: 60 entries, 2018-12-19 10:05:00-05:00 to 2018-12-19 15:00:00-05:00\n",
      "Freq: 300S\n",
      "Data columns (total 3 columns):\n",
      "cpu     60 non-null float64\n",
      "mem     60 non-null float64\n",
      "disk    60 non-null float64\n",
      "dtypes: float64(3)\n",
      "memory usage: 1.9 KB\n",
      "None                                 cpu       mem      disk\n",
      "2018-12-19 10:05:00-05:00 -0.577125 -0.222353 -0.059049\n",
      "2018-12-19 10:10:00-05:00 -0.771442 -0.777262  0.397646\n",
      "2018-12-19 10:15:00-05:00 -0.182062 -0.867828  0.382854\n",
      "2018-12-19 10:20:00-05:00 -0.478918 -1.601443 -0.040379\n",
      "2018-12-19 10:25:00-05:00 -0.080140 -2.427409 -0.642296\n"
     ]
    }
   ],
   "source": [
    "# create sample time-series data\n",
    "import numpy as np\n",
    "from datetime import datetime, timedelta\n",
    "end = datetime.now().replace(minute=0, second=0, microsecond=0)\n",
    "rng = pd.date_range(end=end, periods=60, freq='300s', tz='EST')\n",
    "df = pd.DataFrame(np.random.randn(len(rng), 3), index=rng, columns=['cpu','mem','disk'])\n",
    "df = df.cumsum()\n",
    "print(df.info(), df.head())"
   ]
  },
  {
   "cell_type": "markdown",
   "metadata": {},
   "source": [
    "### Write to the time-series DB\n",
    "The time series DB has a time based index and additional sub indexes called labels<br>\n",
    "labels can be specified in two ways:\n",
    "* Using the `labels` parameters which will add the specified labels to each row/sample<br>\n",
    "* Using multi-index, all non time index columns are automatically converted to labels\n",
    "\n",
    "if your DataFrame doesnt contain multi-index and you wish to use specific columns as time-series labels you should convert the columns to indexes using:<br>\n",
    "```python\n",
    "    df.index.name='time'                              # in case the index column is un-named \n",
    "    df.reset_index(level=0, inplace=True)    \n",
    "    df = df.set_index(['time','symbol','exchange'])   # e.g. convert the specified columns to indexes \n",
    "```\n",
    "\n",
    "Note: you can use both (multi-index and labels) together, the labels will be the aggregation of both "
   ]
  },
  {
   "cell_type": "code",
   "execution_count": 11,
   "metadata": {},
   "outputs": [],
   "source": [
    "client.write(backend='tsdb', table='clustermon',dfs=df, labels={'node':'11'})"
   ]
  },
  {
   "cell_type": "markdown",
   "metadata": {},
   "source": [
    "### Read from the time-series DB\n"
   ]
  },
  {
   "cell_type": "code",
   "execution_count": 13,
   "metadata": {},
   "outputs": [],
   "source": [
    "tsmetrics = client.read(backend='tsdb', table='clustermon', step='10m', aggragators='avg,max,count',start=\"now-5h\", end='now')"
   ]
  },
  {
   "cell_type": "code",
   "execution_count": 14,
   "metadata": {},
   "outputs": [
    {
     "data": {
      "text/html": [
       "<div>\n",
       "<style scoped>\n",
       "    .dataframe tbody tr th:only-of-type {\n",
       "        vertical-align: middle;\n",
       "    }\n",
       "\n",
       "    .dataframe tbody tr th {\n",
       "        vertical-align: top;\n",
       "    }\n",
       "\n",
       "    .dataframe thead tr th {\n",
       "        text-align: left;\n",
       "    }\n",
       "\n",
       "    .dataframe thead tr:last-of-type th {\n",
       "        text-align: right;\n",
       "    }\n",
       "</style>\n",
       "<table border=\"1\" class=\"dataframe\">\n",
       "  <thead>\n",
       "    <tr>\n",
       "      <th></th>\n",
       "      <th>metric_name</th>\n",
       "      <th colspan=\"3\" halign=\"left\">cpu</th>\n",
       "      <th colspan=\"3\" halign=\"left\">disk</th>\n",
       "      <th colspan=\"3\" halign=\"left\">mem</th>\n",
       "    </tr>\n",
       "    <tr>\n",
       "      <th></th>\n",
       "      <th>Aggregate</th>\n",
       "      <th>avg</th>\n",
       "      <th>count</th>\n",
       "      <th>max</th>\n",
       "      <th>avg</th>\n",
       "      <th>count</th>\n",
       "      <th>max</th>\n",
       "      <th>avg</th>\n",
       "      <th>count</th>\n",
       "      <th>max</th>\n",
       "    </tr>\n",
       "    <tr>\n",
       "      <th>Date</th>\n",
       "      <th>node</th>\n",
       "      <th></th>\n",
       "      <th></th>\n",
       "      <th></th>\n",
       "      <th></th>\n",
       "      <th></th>\n",
       "      <th></th>\n",
       "      <th></th>\n",
       "      <th></th>\n",
       "      <th></th>\n",
       "    </tr>\n",
       "  </thead>\n",
       "  <tbody>\n",
       "    <tr>\n",
       "      <th>2018-12-19 14:57:22</th>\n",
       "      <th>11</th>\n",
       "      <td>-0.577125</td>\n",
       "      <td>1.0</td>\n",
       "      <td>-0.577125</td>\n",
       "      <td>-0.059049</td>\n",
       "      <td>1.0</td>\n",
       "      <td>-0.059049</td>\n",
       "      <td>-0.222353</td>\n",
       "      <td>1.0</td>\n",
       "      <td>-0.222353</td>\n",
       "    </tr>\n",
       "    <tr>\n",
       "      <th>2018-12-19 15:07:22</th>\n",
       "      <th>11</th>\n",
       "      <td>-0.476752</td>\n",
       "      <td>2.0</td>\n",
       "      <td>-0.182062</td>\n",
       "      <td>0.390250</td>\n",
       "      <td>2.0</td>\n",
       "      <td>0.397646</td>\n",
       "      <td>-0.822545</td>\n",
       "      <td>2.0</td>\n",
       "      <td>-0.777262</td>\n",
       "    </tr>\n",
       "    <tr>\n",
       "      <th>2018-12-19 15:17:22</th>\n",
       "      <th>11</th>\n",
       "      <td>-0.279529</td>\n",
       "      <td>2.0</td>\n",
       "      <td>-0.080140</td>\n",
       "      <td>-0.341337</td>\n",
       "      <td>2.0</td>\n",
       "      <td>-0.040379</td>\n",
       "      <td>-2.014426</td>\n",
       "      <td>2.0</td>\n",
       "      <td>-1.601443</td>\n",
       "    </tr>\n",
       "    <tr>\n",
       "      <th>2018-12-19 15:27:22</th>\n",
       "      <th>11</th>\n",
       "      <td>-0.159337</td>\n",
       "      <td>2.0</td>\n",
       "      <td>0.625181</td>\n",
       "      <td>-0.767914</td>\n",
       "      <td>2.0</td>\n",
       "      <td>-0.245801</td>\n",
       "      <td>-2.376977</td>\n",
       "      <td>2.0</td>\n",
       "      <td>-1.294460</td>\n",
       "    </tr>\n",
       "    <tr>\n",
       "      <th>2018-12-19 15:37:22</th>\n",
       "      <th>11</th>\n",
       "      <td>-2.554173</td>\n",
       "      <td>2.0</td>\n",
       "      <td>-1.524192</td>\n",
       "      <td>-2.992264</td>\n",
       "      <td>2.0</td>\n",
       "      <td>-2.894977</td>\n",
       "      <td>-4.383982</td>\n",
       "      <td>2.0</td>\n",
       "      <td>-3.993700</td>\n",
       "    </tr>\n",
       "  </tbody>\n",
       "</table>\n",
       "</div>"
      ],
      "text/plain": [
       "metric_name                    cpu                      disk                  \\\n",
       "Aggregate                      avg count       max       avg count       max   \n",
       "Date                node                                                       \n",
       "2018-12-19 14:57:22 11   -0.577125   1.0 -0.577125 -0.059049   1.0 -0.059049   \n",
       "2018-12-19 15:07:22 11   -0.476752   2.0 -0.182062  0.390250   2.0  0.397646   \n",
       "2018-12-19 15:17:22 11   -0.279529   2.0 -0.080140 -0.341337   2.0 -0.040379   \n",
       "2018-12-19 15:27:22 11   -0.159337   2.0  0.625181 -0.767914   2.0 -0.245801   \n",
       "2018-12-19 15:37:22 11   -2.554173   2.0 -1.524192 -2.992264   2.0 -2.894977   \n",
       "\n",
       "metric_name                    mem                  \n",
       "Aggregate                      avg count       max  \n",
       "Date                node                            \n",
       "2018-12-19 14:57:22 11   -0.222353   1.0 -0.222353  \n",
       "2018-12-19 15:07:22 11   -0.822545   2.0 -0.777262  \n",
       "2018-12-19 15:17:22 11   -2.014426   2.0 -1.601443  \n",
       "2018-12-19 15:27:22 11   -2.376977   2.0 -1.294460  \n",
       "2018-12-19 15:37:22 11   -4.383982   2.0 -3.993700  "
      ]
     },
     "execution_count": 14,
     "metadata": {},
     "output_type": "execute_result"
    }
   ],
   "source": [
    "pvt = tsmetrics.pivot_table('values',['Date','node'],['metric_name','Aggregate'])\n",
    "pvt.head(15)"
   ]
  },
  {
   "cell_type": "code",
   "execution_count": 17,
   "metadata": {},
   "outputs": [
    {
     "data": {
      "text/plain": [
       "<matplotlib.axes._subplots.AxesSubplot at 0x7fed969b1be0>"
      ]
     },
     "execution_count": 17,
     "metadata": {},
     "output_type": "execute_result"
    },
    {
     "data": {
      "image/png": "[encoded data removed]",
      "text/plain": [
       "<Figure size 1080x288 with 1 Axes>"
      ]
     },
     "metadata": {
      "needs_background": "light"
     },
     "output_type": "display_data"
    }
   ],
   "source": [
    "%matplotlib inline\n",
    "pvt.plot(figsize=[15,4])"
   ]
  },
  {
   "cell_type": "markdown",
   "metadata": {},
   "source": [
    "### Delete the table"
   ]
  },
  {
   "cell_type": "code",
   "execution_count": 18,
   "metadata": {},
   "outputs": [],
   "source": [
    "client.delete('tsdb','clustermon')"
   ]
  },
  {
   "cell_type": "markdown",
   "metadata": {},
   "source": [
    "<a id='stream'></a>\n",
    "## Working with streams\n",
    "iguazio platform support streams which have AWS Kinesis like API, they can be accessed from the notebook as if they were a structured stream (currently assume the structure is serialized through `JSON`. streams can be accessed in a bulk, or preferably using an iterator.<br>\n",
    "Streams must be first created, users can specify the number of shards and retention period when creating the stream."
   ]
  },
  {
   "cell_type": "code",
   "execution_count": 19,
   "metadata": {},
   "outputs": [],
   "source": [
    "client.create(backend='stream', table='somestream',attrs={'retention_hours':48,'shards':1})"
   ]
  },
  {
   "cell_type": "code",
   "execution_count": 21,
   "metadata": {},
   "outputs": [],
   "source": [
    "# write data into a stream\n",
    "def gendf():\n",
    "    end = datetime.now().replace(minute=0, second=0, microsecond=0)\n",
    "    rng = pd.date_range(end=end, periods=60, freq='300s', tz='Israel')\n",
    "    df = pd.DataFrame(np.random.randn(len(rng), 3), index=rng, columns=['cpu', 'mem', 'disk'])\n",
    "    return df\n",
    "\n",
    "client.write('stream', 'somestream', gendf())"
   ]
  },
  {
   "cell_type": "markdown",
   "metadata": {},
   "source": [
    "### Reading from a stream\n",
    "the stream read operation need to specify the seek method and parameters (each seek method may have different parameters) as listed below:\n",
    "```\n",
    "   earliest   - start from the earliest point in the stream (no params)\n",
    "   latest     - start from the latest, i.e. show only new records\n",
    "   time       - start from a point in time, specify the start param e.g. start='now-1d'\n",
    "   sequence   - start from a specific sequence number, specify the sequence param e.g. sequence=45\n",
    "```\n",
    "\n"
   ]
  },
  {
   "cell_type": "code",
   "execution_count": 29,
   "metadata": {},
   "outputs": [
    {
     "name": "stdout",
     "output_type": "stream",
     "text": [
      "                disk               index-0       mem  \\\n",
      "seq_number                                             \n",
      "1           1.491374  2018-12-19T09:05:00Z -0.226499   \n",
      "2           0.606867  2018-12-19T09:10:00Z  1.363093   \n",
      "3          -0.015122  2018-12-19T09:15:00Z -1.437457   \n",
      "4           1.621618  2018-12-19T09:20:00Z -0.500397   \n",
      "\n",
      "                             stream_time       cpu  \n",
      "seq_number                                          \n",
      "1          2018-12-19 16:12:54.494939735  1.711060  \n",
      "2          2018-12-19 16:12:54.494939735 -1.269873  \n",
      "3          2018-12-19 16:12:54.494939735  0.241201  \n",
      "4          2018-12-19 16:12:54.494939735 -1.027548  \n"
     ]
    }
   ],
   "source": [
    "dfs = client.read('stream', 'somestream',seek='earliest', shard_id='0', iterator=True)\n",
    "for df in dfs:\n",
    "    print(df.head(4))"
   ]
  },
  {
   "cell_type": "markdown",
   "metadata": {},
   "source": [
    "### Push a single record update to a stream\n",
    "In some cases it is more conviniant to just push a buffer into a stream, for that use the execute `put` command <br>\n",
    "put accepts the `data` arg and two optional parameters (`clientinfo` for some extra info and `partition` if you want to specify the shard id)"
   ]
  },
  {
   "cell_type": "code",
   "execution_count": null,
   "metadata": {},
   "outputs": [],
   "source": [
    "client.execute('stream', 'somestream', 'put', args={'data': 'abcd', 'clientinfo': '123'})"
   ]
  },
  {
   "cell_type": "markdown",
   "metadata": {},
   "source": [
    "### Delete the stream"
   ]
  },
  {
   "cell_type": "code",
   "execution_count": 30,
   "metadata": {},
   "outputs": [],
   "source": [
    "client.delete('stream','somestream')"
   ]
  }
 ],
 "metadata": {
  "kernelspec": {
   "display_name": "Python 3",
   "language": "python",
   "name": "python3"
  },
  "language_info": {
   "codemirror_mode": {
    "name": "ipython",
    "version": 3
   },
   "file_extension": ".py",
   "mimetype": "text/x-python",
   "name": "python",
   "nbconvert_exporter": "python",
   "pygments_lexer": "ipython3",
   "version": "3.6.5"
  }
 },
 "nbformat": 4,
 "nbformat_minor": 2
}
