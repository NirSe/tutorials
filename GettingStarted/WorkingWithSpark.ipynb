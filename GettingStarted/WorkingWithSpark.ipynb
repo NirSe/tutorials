{
 "cells": [
  {
   "cell_type": "markdown",
   "metadata": {},
   "source": [
    "# Use Spark Streaming, SQL, and ML with iguazio\n",
    "Spark users can access files, tables or streams stored on iguazio data platform through the native spark Dataframe interfaces. <br>\n",
    "iguazio drivers for Spark implement the data-source API and allow `predicate push down` (the queries pass to iguazio database which only return the relevant data), this allow accelerated and high-speed access from Spark to data stored in iguazio DB. for more details read [Spark API documentation]()"
   ]
  },
  {
   "cell_type": "markdown",
   "metadata": {},
   "source": [
    "## loading a file from AWS S3 into iguazio file system  \n"
   ]
  },
  {
   "cell_type": "code",
   "execution_count": null,
   "metadata": {},
   "outputs": [],
   "source": [
    "%%sh \n",
    "mkdir -p /v3io/bigdata/examples\n",
    "curl -L \"deutsche-boerse-xetra-pds.s3.amazonaws.com/2018-03-26/2018-03-26_BINS_XETR07.csv\" > /v3io/bigdata/examples/stocks.csv\n"
   ]
  },
  {
   "cell_type": "markdown",
   "metadata": {},
   "source": [
    "## Initiating a Spark session "
   ]
  },
  {
   "cell_type": "code",
   "execution_count": null,
   "metadata": {},
   "outputs": [],
   "source": [
    "from pyspark.sql import SparkSession\n",
    "spark = SparkSession.builder.appName(\"Iguazio Integration demo\").getOrCreate()"
   ]
  },
  {
   "cell_type": "markdown",
   "metadata": {},
   "source": [
    "## Read the csv file using Spark DF"
   ]
  },
  {
   "cell_type": "code",
   "execution_count": 9,
   "metadata": {},
   "outputs": [
    {
     "name": "stdout",
     "output_type": "stream",
     "text": [
      "+------------+--------+--------------------+------------+--------+----------+-------------------+-----+----------+--------+--------+--------+------------+--------------+\n",
      "|        ISIN|Mnemonic|        SecurityDesc|SecurityType|Currency|SecurityID|               Date| Time|StartPrice|MaxPrice|MinPrice|EndPrice|TradedVolume|NumberOfTrades|\n",
      "+------------+--------+--------------------+------------+--------+----------+-------------------+-----+----------+--------+--------+--------+------------+--------------+\n",
      "|AT0000A0E9W5|    SANT|S+T AG (Z.REG.MK....|Common stock|     EUR|   2504159|2018-03-26 00:00:00|07:00|     20.56|   20.56|   20.56|   20.56|        1115|             5|\n",
      "|DE000A0WMPJ6|    AIXA|  AIXTRON SE NA O.N.|Common stock|     EUR|   2504428|2018-03-26 00:00:00|07:00|    17.035|   17.08|   16.92|   16.98|        2892|            11|\n",
      "|DE000A0Z2XN6|     RIB|RIB SOFTWARE SE  ...|Common stock|     EUR|   2504436|2018-03-26 00:00:00|07:00|     24.02|   24.18|   23.94|   24.12|        5721|            34|\n",
      "|DE000A0Z2ZZ5|    FNTN|  FREENET AG NA O.N.|Common stock|     EUR|   2504438|2018-03-26 00:00:00|07:00|     24.72|   24.72|    24.7|   24.72|         315|             2|\n",
      "|DE000A1EWWW0|     ADS|   ADIDAS AG NA O.N.|Common stock|     EUR|   2504471|2018-03-26 00:00:00|07:00|    196.35|   196.4|   195.6|   195.9|        5616|            27|\n",
      "|DE000A1J5RX9|     O2D|TELEFONICA DTLD H...|Common stock|     EUR|   2504492|2018-03-26 00:00:00|07:00|      3.73|    3.73|    3.73|    3.73|        6400|             5|\n",
      "|DE000A1ML7J1|     VNA|  VONOVIA SE NA O.N.|Common stock|     EUR|   2504501|2018-03-26 00:00:00|07:00|     39.42|   39.49|   39.42|   39.45|        2187|            12|\n",
      "|DE000A1X3W00|    MDG1| MEDIGENE AG NA O.N.|Common stock|     EUR|   2504531|2018-03-26 00:00:00|07:00|     14.44|   14.44|   14.37|    14.4|        1601|             4|\n",
      "|DE000A111338|    AM3D|SLM SOLUTIONS GRP AG|Common stock|     EUR|   2504550|2018-03-26 00:00:00|07:00|     33.35|   33.35|   33.35|   33.35|          40|             1|\n",
      "|DE000A2DAM03|     AAG|           AUMANN AG|Common stock|     EUR|   2504639|2018-03-26 00:00:00|07:00|      55.0|    55.0|    55.0|    55.0|           7|             1|\n",
      "|DE000BASF111|     BAS|     BASF SE NA O.N.|Common stock|     EUR|   2504663|2018-03-26 00:00:00|07:00|     81.48|   81.49|    81.3|   81.39|        5317|            47|\n",
      "|DE000BAY0017|    BAYN|    BAYER AG NA O.N.|Common stock|     EUR|   2504664|2018-03-26 00:00:00|07:00|      90.9|    90.9|   90.77|   90.86|        5323|            34|\n",
      "|DE000CBK1001|     CBK|      COMMERZBANK AG|Common stock|     EUR|   2504665|2018-03-26 00:00:00|07:00|     11.09|   11.09|   11.04|  11.058|       23698|            17|\n",
      "|DE000WAF3001|     WAF|SILTRONIC AG NA O.N.|Common stock|     EUR|   2504859|2018-03-26 00:00:00|07:00|     149.4|   149.4|   149.3|   149.4|         200|             4|\n",
      "|DE000XNG8888|    O1BC|    XING SE  NA O.N.|Common stock|     EUR|   2504862|2018-03-26 00:00:00|07:00|     240.5|   240.5|   240.0|   240.0|          42|             3|\n",
      "|DE0005089031|    UTDI|  UTD.INTERNET AG NA|Common stock|     EUR|   2504878|2018-03-26 00:00:00|07:00|     52.82|   52.82|   52.82|   52.82|          76|             2|\n",
      "|DE0005140008|     DBK|DEUTSCHE BANK AG ...|Common stock|     EUR|   2504888|2018-03-26 00:00:00|07:00|     11.39|   11.39|  11.358|   11.37|       24466|            46|\n",
      "|DE0005158703|     BC8|     BECHTLE AG O.N.|Common stock|     EUR|   2504894|2018-03-26 00:00:00|07:00|      66.4|   66.45|    66.4|    66.4|         280|             4|\n",
      "|DE0005190003|     BMW|BAY.MOTOREN WERKE...|Common stock|     EUR|   2504900|2018-03-26 00:00:00|07:00|     84.82|   84.84|   84.59|    84.7|        3241|            35|\n",
      "|DE0005200000|     BEI|  BEIERSDORF AG O.N.|Common stock|     EUR|   2504906|2018-03-26 00:00:00|07:00|     87.16|   87.16|   87.08|   87.16|         961|            14|\n",
      "+------------+--------+--------------------+------------+--------+----------+-------------------+-----+----------+--------+--------+--------+------------+--------------+\n",
      "only showing top 20 rows\n",
      "\n"
     ]
    }
   ],
   "source": [
    "df = spark.read.option(\"inferSchema\", \"true\").option(\"header\", \"true\").csv('v3io://bigdata/examples/stocks.csv')\n",
    "df.show()"
   ]
  },
  {
   "cell_type": "markdown",
   "metadata": {},
   "source": [
    "## Writing the spark DF into a table in Iguazio DB"
   ]
  },
  {
   "cell_type": "code",
   "execution_count": null,
   "metadata": {},
   "outputs": [],
   "source": [
    "# specify the DB index key using the key option (note the key must be unique)\n",
    "df.write.format(\"io.iguaz.v3io.spark.sql.kv\").mode(\"append\").option(\"key\", \"ISIN\").save(\"v3io://bigdata/examples/stocks_tab\")\n"
   ]
  },
  {
   "cell_type": "markdown",
   "metadata": {},
   "source": [
    "## Reading a table via Spark DF"
   ]
  },
  {
   "cell_type": "code",
   "execution_count": null,
   "metadata": {},
   "outputs": [],
   "source": [
    "spark.read.format(\"io.iguaz.v3io.spark.sql.kv\").load(\"v3io://bigdata/examples/stocks_tab\").show()"
   ]
  },
  {
   "cell_type": "markdown",
   "metadata": {},
   "source": [
    "## Using SparkSQL and converting to Pandas DataFrame"
   ]
  },
  {
   "cell_type": "code",
   "execution_count": 13,
   "metadata": {},
   "outputs": [],
   "source": [
    "# Create a SqlContext from the SparkContext\n",
    "sqlContext = pyspark.SQLContext(spark)"
   ]
  },
  {
   "cell_type": "code",
   "execution_count": null,
   "metadata": {},
   "outputs": [],
   "source": [
    "# Register the DataFrame as a table\n",
    "df.registerTempTable(\"mytable\")\n",
    "\n",
    "# Peform a simple select from the table\n",
    "results = sqlContext.sql(\"select * from mytable where NumberOfTrades > 80\")\n",
    "\n",
    "# Convert the results to a Pandas DataFrame for easy viewing\n",
    "results.toPandas()"
   ]
  },
  {
   "cell_type": "markdown",
   "metadata": {},
   "source": [
    "# Using SQL queries (using Presto)\n",
    "## Reading the stock_tab table using SQL after being written by Spark DF\n"
   ]
  },
  {
   "cell_type": "code",
   "execution_count": null,
   "metadata": {},
   "outputs": [],
   "source": [
    "%sql select * from v3io.bigdata.\"/examples/stocks_tab\" where tradedvolume > 20000"
   ]
  },
  {
   "cell_type": "markdown",
   "metadata": {},
   "source": [
    "# Remove Data"
   ]
  },
  {
   "cell_type": "code",
   "execution_count": null,
   "metadata": {},
   "outputs": [],
   "source": [
    "!rm -rf /v3io/bigdata/examples/stocks*\n"
   ]
  }
 ],
 "metadata": {
  "kernelspec": {
   "display_name": "Python 3",
   "language": "python",
   "name": "python3"
  },
  "language_info": {
   "codemirror_mode": {
    "name": "ipython",
    "version": 3
   },
   "file_extension": ".py",
   "mimetype": "text/x-python",
   "name": "python",
   "nbconvert_exporter": "python",
   "pygments_lexer": "ipython3",
   "version": "3.6.5"
  }
 },
 "nbformat": 4,
 "nbformat_minor": 2
}
