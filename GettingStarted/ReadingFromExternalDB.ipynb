{
 "cells": [
  {
   "cell_type": "markdown",
   "metadata": {},
   "source": [
    "# Loading data from external SQL databases\n",
    "In this notebook we'll demonstrate how to load data from external databases <br>\n",
    "we'll cover two methods: \n",
    "1. A generic example of reading data in chunks using python library called SQLAlchemy <br>\n",
    "2. A Specific example of reading a table from mysql as a bulk operation <br>"
   ]
  },
  {
   "cell_type": "markdown",
   "metadata": {},
   "source": [
    "## Reading from a MySQL database and writing to a NoSQL in chunks"
   ]
  },
  {
   "cell_type": "markdown",
   "metadata": {},
   "source": [
    "In this example we're using a python tool called SQLAlchemy<br>\n",
    "SQLAlchemy is the Python SQL toolkit and Object Relational Mapper that gives application developers the full power and flexibility of SQL.<br>\n",
    "It can be used to read data from various databases including MySQL, PostgreSQL, Oracle, MSSQL, SQLLite etc..<br>\n",
    "<br>\n",
    "Below is an example for working with MySQL <br>\n",
    "In order to work with a different database you need to change the engine setting<br>\n",
    "For more details - https://docs.sqlalchemy.org/en/latest/core/engines.html#mysql<br>\n",
    "\n",
    "In the example below we are using a public mysql database called Rfam (https://rfam.readthedocs.io/en/latest/database.html)<br>\n",
    "The idea is to read data by chunks and then write it to a NoSQL table in iguazio <br>\n",
    "Working in chunks is useful when working on big datasets that cannot fit into the available memory resources  <br>"
   ]
  },
  {
   "cell_type": "code",
   "execution_count": 1,
   "metadata": {},
   "outputs": [],
   "source": [
    "import pandas as pd\n",
    "from sqlalchemy.engine import create_engine\n",
    "import v3io_frames as v3f\n",
    "import os\n",
    " \n",
    "client = v3f.Client('framesd:8081', container='users')\n",
    " \n",
    "engine = create_engine('mysql+pymysql://rfamro@mysql-rfam-public.ebi.ac.uk:4497/Rfam')\n",
    " \n",
    "query = \"\"\"\n",
    "select rfam_acc,rfam_id,auto_wiki,description,author,seed_source FROM family\n",
    "\"\"\"\n",
    "tablename = os.path.join(os.getenv('V3IO_USERNAME')+'/examples/family_tab') \n",
    "#Read Presto Data query into a DataFrame and write it to a NoSQL table\n",
    "all_df = pd.read_sql(query,engine,chunksize = 100000)\n",
    "for df in all_df:\n",
    "    df = df.reset_index()\n",
    "    out = client.write('kv', tablename , df)"
   ]
  },
  {
   "cell_type": "code",
   "execution_count": null,
   "metadata": {},
   "outputs": [],
   "source": [
    "table_path = os.path.join('v3io.users.\"'+os.getenv('V3IO_USERNAME')+'/examples/family_tab\"')\n",
    "%sql select * from $table_path limit 10"
   ]
  },
  {
   "cell_type": "markdown",
   "metadata": {},
   "source": [
    "## Reading from MYSQL as a bulk operation using pandas dataframe"
   ]
  },
  {
   "cell_type": "markdown",
   "metadata": {},
   "source": [
    "### Setting the database connection and running the query\n",
    "\n",
    "Pandas DataFrame has native support for reading and writing to various SQL databases<br>\n",
    "the user first create a DB connection using the database specific library and use the `pd.read_sql()` or `pd.read_sel_query()` to read the database table into a dataframe, once we have a DataFrame object we can manipulate it and store it into iguazio database or time-series tabels.\n",
    "\n",
    "The following example demonstrate working with MySQL"
   ]
  },
  {
   "cell_type": "markdown",
   "metadata": {},
   "source": [
    "Set the database connection. in this example we are using a public mysql database called Rfam (https://rfam.readthedocs.io/en/latest/database.html)<br>\n",
    "Then run the sql and keep the result into the dataframe"
   ]
  },
  {
   "cell_type": "code",
   "execution_count": 2,
   "metadata": {},
   "outputs": [
    {
     "data": {
      "text/html": [
       "<div>\n",
       "<style scoped>\n",
       "    .dataframe tbody tr th:only-of-type {\n",
       "        vertical-align: middle;\n",
       "    }\n",
       "\n",
       "    .dataframe tbody tr th {\n",
       "        vertical-align: top;\n",
       "    }\n",
       "\n",
       "    .dataframe thead th {\n",
       "        text-align: right;\n",
       "    }\n",
       "</style>\n",
       "<table border=\"1\" class=\"dataframe\">\n",
       "  <thead>\n",
       "    <tr style=\"text-align: right;\">\n",
       "      <th></th>\n",
       "      <th>rfam_acc</th>\n",
       "      <th>rfam_id</th>\n",
       "      <th>auto_wiki</th>\n",
       "      <th>description</th>\n",
       "      <th>author</th>\n",
       "      <th>seed_source</th>\n",
       "    </tr>\n",
       "  </thead>\n",
       "  <tbody>\n",
       "    <tr>\n",
       "      <th>3006</th>\n",
       "      <td>RF03106</td>\n",
       "      <td>RT-11</td>\n",
       "      <td>2572</td>\n",
       "      <td>RT-11 RNA</td>\n",
       "      <td>Weinberg Z</td>\n",
       "      <td>Weinberg Z</td>\n",
       "    </tr>\n",
       "    <tr>\n",
       "      <th>3007</th>\n",
       "      <td>RF03107</td>\n",
       "      <td>saliva-tongue-1</td>\n",
       "      <td>2696</td>\n",
       "      <td>saliva-tongue-1 RNA</td>\n",
       "      <td>Weinberg Z</td>\n",
       "      <td>Weinberg Z</td>\n",
       "    </tr>\n",
       "    <tr>\n",
       "      <th>3008</th>\n",
       "      <td>RF03108</td>\n",
       "      <td>Methylosinus-1</td>\n",
       "      <td>2697</td>\n",
       "      <td>Methylosinus-1 RNA</td>\n",
       "      <td>Weinberg Z</td>\n",
       "      <td>Weinberg Z</td>\n",
       "    </tr>\n",
       "    <tr>\n",
       "      <th>3009</th>\n",
       "      <td>RF03109</td>\n",
       "      <td>Thermales-rpoB</td>\n",
       "      <td>2698</td>\n",
       "      <td>Thermales-rpoB RNA</td>\n",
       "      <td>Weinberg Z</td>\n",
       "      <td>Weinberg Z</td>\n",
       "    </tr>\n",
       "    <tr>\n",
       "      <th>3010</th>\n",
       "      <td>RF03110</td>\n",
       "      <td>throat-1</td>\n",
       "      <td>2699</td>\n",
       "      <td>throat-1 RNA</td>\n",
       "      <td>Weinberg Z</td>\n",
       "      <td>Weinberg Z</td>\n",
       "    </tr>\n",
       "    <tr>\n",
       "      <th>3011</th>\n",
       "      <td>RF03111</td>\n",
       "      <td>Zeta-pan</td>\n",
       "      <td>2700</td>\n",
       "      <td>Zeta-pan RNA</td>\n",
       "      <td>Weinberg Z</td>\n",
       "      <td>Weinberg Z</td>\n",
       "    </tr>\n",
       "    <tr>\n",
       "      <th>3012</th>\n",
       "      <td>RF03112</td>\n",
       "      <td>Staphylococcus-1</td>\n",
       "      <td>2701</td>\n",
       "      <td>Staphylococcus-1 RNA</td>\n",
       "      <td>Weinberg Z</td>\n",
       "      <td>Weinberg Z</td>\n",
       "    </tr>\n",
       "    <tr>\n",
       "      <th>3013</th>\n",
       "      <td>RF03113</td>\n",
       "      <td>Poribacteria-1</td>\n",
       "      <td>2702</td>\n",
       "      <td>Poribacteria-1 RNA</td>\n",
       "      <td>Weinberg Z</td>\n",
       "      <td>Weinberg Z</td>\n",
       "    </tr>\n",
       "    <tr>\n",
       "      <th>3014</th>\n",
       "      <td>RF03114</td>\n",
       "      <td>RT-1</td>\n",
       "      <td>2572</td>\n",
       "      <td>RT-1 RNA</td>\n",
       "      <td>Weinberg Z</td>\n",
       "      <td>Weinberg Z</td>\n",
       "    </tr>\n",
       "    <tr>\n",
       "      <th>3015</th>\n",
       "      <td>RF03115</td>\n",
       "      <td>KDPG-aldolase</td>\n",
       "      <td>2703</td>\n",
       "      <td>KDPG-aldolase RNA</td>\n",
       "      <td>Weinberg Z</td>\n",
       "      <td>Weinberg Z</td>\n",
       "    </tr>\n",
       "  </tbody>\n",
       "</table>\n",
       "</div>"
      ],
      "text/plain": [
       "     rfam_acc           rfam_id  auto_wiki           description      author  \\\n",
       "3006  RF03106             RT-11       2572             RT-11 RNA  Weinberg Z   \n",
       "3007  RF03107   saliva-tongue-1       2696   saliva-tongue-1 RNA  Weinberg Z   \n",
       "3008  RF03108    Methylosinus-1       2697    Methylosinus-1 RNA  Weinberg Z   \n",
       "3009  RF03109    Thermales-rpoB       2698    Thermales-rpoB RNA  Weinberg Z   \n",
       "3010  RF03110          throat-1       2699          throat-1 RNA  Weinberg Z   \n",
       "3011  RF03111          Zeta-pan       2700          Zeta-pan RNA  Weinberg Z   \n",
       "3012  RF03112  Staphylococcus-1       2701  Staphylococcus-1 RNA  Weinberg Z   \n",
       "3013  RF03113    Poribacteria-1       2702    Poribacteria-1 RNA  Weinberg Z   \n",
       "3014  RF03114              RT-1       2572              RT-1 RNA  Weinberg Z   \n",
       "3015  RF03115     KDPG-aldolase       2703     KDPG-aldolase RNA  Weinberg Z   \n",
       "\n",
       "     seed_source  \n",
       "3006  Weinberg Z  \n",
       "3007  Weinberg Z  \n",
       "3008  Weinberg Z  \n",
       "3009  Weinberg Z  \n",
       "3010  Weinberg Z  \n",
       "3011  Weinberg Z  \n",
       "3012  Weinberg Z  \n",
       "3013  Weinberg Z  \n",
       "3014  Weinberg Z  \n",
       "3015  Weinberg Z  "
      ]
     },
     "execution_count": 2,
     "metadata": {},
     "output_type": "execute_result"
    }
   ],
   "source": [
    "import os\n",
    "import pymysql\n",
    "import pandas as pd \n",
    "\n",
    "conn = pymysql.connect(\n",
    "    host=os.getenv('DB_HOST','mysql-rfam-public.ebi.ac.uk'),\n",
    "    port=int(4497),\n",
    "    user=os.getenv('DB_USER','rfamro'),\n",
    "    passwd=os.getenv('DB_PASSWORD',''),\n",
    "    db=os.getenv('DB_NAME','Rfam'),\n",
    "    charset='utf8mb4')\n",
    "\n",
    "df = pd.read_sql_query(\"select rfam_acc,rfam_id,auto_wiki,description,author,seed_source FROM family\",\n",
    "    conn) \n",
    "\n",
    "df.tail(10)"
   ]
  },
  {
   "cell_type": "markdown",
   "metadata": {},
   "source": [
    "### Writing the results to iguazio Key/Value Database\n",
    "The following section demonstrate establishing a connection with iguazio high-performance DataFrames service (v3io_frames) and writing the data from the SQL database<br>\n",
    "iguazio database support multiple models (KV/NoSQL, time-series, stream, object) those are specified in the first argument, read more in: `TBD Frames link`"
   ]
  },
  {
   "cell_type": "code",
   "execution_count": 3,
   "metadata": {},
   "outputs": [],
   "source": [
    "import pandas as pd\n",
    "import v3io_frames as v3f\n",
    "import os\n",
    "client = v3f.Client('framesd:8081', container='users')\n",
    "tablename = os.path.join(os.getenv('V3IO_USERNAME')+'/examples/family')"
   ]
  },
  {
   "cell_type": "markdown",
   "metadata": {},
   "source": [
    "Ingesting data into the database using NoSQL API"
   ]
  },
  {
   "cell_type": "code",
   "execution_count": 4,
   "metadata": {},
   "outputs": [],
   "source": [
    "client.write('kv', tablename, df)"
   ]
  },
  {
   "cell_type": "markdown",
   "metadata": {},
   "source": [
    "### Using Pandas streaming capabilities to copy large datasets \n",
    "Many pandas inputs/outputs including SQL, CSV, and iguazio support chunking. with chunking the driver forms a continious iterator and data is read/written chunk by chunk.\n",
    "a user specify the `chunksize` (number of rows) which will return a dataframe iterator, this iterator can be passed as is to a dataframe writer like iguazio frames.\n",
    "The following example will stream data from MySQL to iguazio NoSQL API."
   ]
  },
  {
   "cell_type": "code",
   "execution_count": 5,
   "metadata": {},
   "outputs": [],
   "source": [
    "tablename2 = tablename = os.path.join(os.getenv('V3IO_USERNAME')+'/examples/family2')\n",
    "df_iter = pd.read_sql(\"select rfam_acc,rfam_id,auto_wiki,description,author,seed_source  FROM family\", conn, chunksize=1000)\n",
    "client.write('kv', tablename2, df_iter)"
   ]
  },
  {
   "cell_type": "markdown",
   "metadata": {},
   "source": [
    "## Remove Data"
   ]
  },
  {
   "cell_type": "code",
   "execution_count": 6,
   "metadata": {},
   "outputs": [],
   "source": [
    "client.delete('kv', tablename)\n",
    "client.delete('kv', tablename2)"
   ]
  },
  {
   "cell_type": "code",
   "execution_count": null,
   "metadata": {},
   "outputs": [],
   "source": []
  }
 ],
 "metadata": {
  "kernelspec": {
   "display_name": "Python 3",
   "language": "python",
   "name": "python3"
  },
  "language_info": {
   "codemirror_mode": {
    "name": "ipython",
    "version": 3
   },
   "file_extension": ".py",
   "mimetype": "text/x-python",
   "name": "python",
   "nbconvert_exporter": "python",
   "pygments_lexer": "ipython3",
   "version": "3.6.8"
  }
 },
 "nbformat": 4,
 "nbformat_minor": 2
}
