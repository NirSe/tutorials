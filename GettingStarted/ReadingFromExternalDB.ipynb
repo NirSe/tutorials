{
 "cells": [
  {
   "cell_type": "markdown",
   "metadata": {},
   "source": [
    "# Loading Data From SQL Databases\n",
    "Pandas DataFrame has native support for reading and writing to various SQL databases<br>\n",
    "the user first create a DB connection using the database specific library and use the `pd.read_sql()` or `pd.read_sel_query()` to read the database table into a dataframe, once we have a DataFrame object we can manipulate it and store it into iguazio database or time-series tabels.\n",
    "\n",
    "The following example demonstrate working with MySQL"
   ]
  },
  {
   "cell_type": "code",
   "execution_count": null,
   "metadata": {},
   "outputs": [],
   "source": [
    "# install MySQL lib\n",
    "!pip install pymysql "
   ]
  },
  {
   "cell_type": "markdown",
   "metadata": {},
   "source": [
    "Set the database connection. in this example we are using a public mysql database called Rfam (https://rfam.readthedocs.io/en/latest/database.html)<br>\n",
    "Then run the sql and keep the result into the dataframe"
   ]
  },
  {
   "cell_type": "code",
   "execution_count": 6,
   "metadata": {},
   "outputs": [
    {
     "data": {
      "text/html": [
       "<div>\n",
       "<style scoped>\n",
       "    .dataframe tbody tr th:only-of-type {\n",
       "        vertical-align: middle;\n",
       "    }\n",
       "\n",
       "    .dataframe tbody tr th {\n",
       "        vertical-align: top;\n",
       "    }\n",
       "\n",
       "    .dataframe thead th {\n",
       "        text-align: right;\n",
       "    }\n",
       "</style>\n",
       "<table border=\"1\" class=\"dataframe\">\n",
       "  <thead>\n",
       "    <tr style=\"text-align: right;\">\n",
       "      <th></th>\n",
       "      <th>rfam_acc</th>\n",
       "      <th>rfam_id</th>\n",
       "      <th>auto_wiki</th>\n",
       "      <th>description</th>\n",
       "      <th>author</th>\n",
       "      <th>seed_source</th>\n",
       "    </tr>\n",
       "  </thead>\n",
       "  <tbody>\n",
       "    <tr>\n",
       "      <th>2781</th>\n",
       "      <td>RF02880</td>\n",
       "      <td>MH_s15</td>\n",
       "      <td>2551</td>\n",
       "      <td>Mesorhizobail RNA 15</td>\n",
       "      <td>Argasinska J</td>\n",
       "      <td>Argasinska J</td>\n",
       "    </tr>\n",
       "    <tr>\n",
       "      <th>2782</th>\n",
       "      <td>RF02881</td>\n",
       "      <td>MH_s25</td>\n",
       "      <td>2551</td>\n",
       "      <td>Mesorhizobail RNA 25</td>\n",
       "      <td>Argasinska J</td>\n",
       "      <td>Argasinska J</td>\n",
       "    </tr>\n",
       "    <tr>\n",
       "      <th>2783</th>\n",
       "      <td>RF02882</td>\n",
       "      <td>MH_s36</td>\n",
       "      <td>2551</td>\n",
       "      <td>Mesorhizobail RNA 36</td>\n",
       "      <td>Argasinska J</td>\n",
       "      <td>Argasinska J</td>\n",
       "    </tr>\n",
       "    <tr>\n",
       "      <th>2784</th>\n",
       "      <td>RF02883</td>\n",
       "      <td>BcKCsr2</td>\n",
       "      <td>2451</td>\n",
       "      <td>Burkholderia sRNA 2</td>\n",
       "      <td>Argasinska J</td>\n",
       "      <td>Argasinska J</td>\n",
       "    </tr>\n",
       "    <tr>\n",
       "      <th>2785</th>\n",
       "      <td>RF02884</td>\n",
       "      <td>BcKCsr7</td>\n",
       "      <td>2451</td>\n",
       "      <td>Burkholderia sRNA 7</td>\n",
       "      <td>Argasinska J</td>\n",
       "      <td>Argasinska J</td>\n",
       "    </tr>\n",
       "    <tr>\n",
       "      <th>2786</th>\n",
       "      <td>RF02885</td>\n",
       "      <td>SAM_VI</td>\n",
       "      <td>2552</td>\n",
       "      <td>SAM-VI riboswitch</td>\n",
       "      <td>Argasinska J</td>\n",
       "      <td>Argasinska J</td>\n",
       "    </tr>\n",
       "    <tr>\n",
       "      <th>2787</th>\n",
       "      <td>RF02886</td>\n",
       "      <td>npcTB_6715</td>\n",
       "      <td>2178</td>\n",
       "      <td>Mycobacterium sRNA 6715</td>\n",
       "      <td>Argasinska J</td>\n",
       "      <td>Argasinska J</td>\n",
       "    </tr>\n",
       "    <tr>\n",
       "      <th>2788</th>\n",
       "      <td>RF02887</td>\n",
       "      <td>mgtC_leader</td>\n",
       "      <td>2553</td>\n",
       "      <td>Salmonella mgtC leader RNA</td>\n",
       "      <td>Argasinska J</td>\n",
       "      <td>Argasinska J</td>\n",
       "    </tr>\n",
       "    <tr>\n",
       "      <th>2789</th>\n",
       "      <td>RF02888</td>\n",
       "      <td>BtsR1</td>\n",
       "      <td>2554</td>\n",
       "      <td>Bacillus sRNA 1</td>\n",
       "      <td>Argasinska J</td>\n",
       "      <td>Argasinska J</td>\n",
       "    </tr>\n",
       "    <tr>\n",
       "      <th>2790</th>\n",
       "      <td>RF02889</td>\n",
       "      <td>Sr006</td>\n",
       "      <td>2555</td>\n",
       "      <td>Pseudomonas sRNA 6</td>\n",
       "      <td>Argasinska J</td>\n",
       "      <td>Argasinska J</td>\n",
       "    </tr>\n",
       "  </tbody>\n",
       "</table>\n",
       "</div>"
      ],
      "text/plain": [
       "     rfam_acc      rfam_id  auto_wiki                 description  \\\n",
       "2781  RF02880       MH_s15       2551        Mesorhizobail RNA 15   \n",
       "2782  RF02881       MH_s25       2551        Mesorhizobail RNA 25   \n",
       "2783  RF02882       MH_s36       2551        Mesorhizobail RNA 36   \n",
       "2784  RF02883      BcKCsr2       2451         Burkholderia sRNA 2   \n",
       "2785  RF02884      BcKCsr7       2451         Burkholderia sRNA 7   \n",
       "2786  RF02885       SAM_VI       2552           SAM-VI riboswitch   \n",
       "2787  RF02886   npcTB_6715       2178     Mycobacterium sRNA 6715   \n",
       "2788  RF02887  mgtC_leader       2553  Salmonella mgtC leader RNA   \n",
       "2789  RF02888        BtsR1       2554             Bacillus sRNA 1   \n",
       "2790  RF02889        Sr006       2555          Pseudomonas sRNA 6   \n",
       "\n",
       "            author   seed_source  \n",
       "2781  Argasinska J  Argasinska J  \n",
       "2782  Argasinska J  Argasinska J  \n",
       "2783  Argasinska J  Argasinska J  \n",
       "2784  Argasinska J  Argasinska J  \n",
       "2785  Argasinska J  Argasinska J  \n",
       "2786  Argasinska J  Argasinska J  \n",
       "2787  Argasinska J  Argasinska J  \n",
       "2788  Argasinska J  Argasinska J  \n",
       "2789  Argasinska J  Argasinska J  \n",
       "2790  Argasinska J  Argasinska J  "
      ]
     },
     "execution_count": 6,
     "metadata": {},
     "output_type": "execute_result"
    }
   ],
   "source": [
    "import os\n",
    "import pymysql\n",
    "import pandas as pd \n",
    "\n",
    "conn = pymysql.connect(\n",
    "    host=os.getenv('DB_HOST','mysql-rfam-public.ebi.ac.uk'),\n",
    "    port=int(4497),\n",
    "    user=os.getenv('DB_USER','rfamro'),\n",
    "    passwd=os.getenv('DB_PASSWORD',''),\n",
    "    db=os.getenv('DB_NAME','Rfam'),\n",
    "    charset='utf8mb4')\n",
    "\n",
    "df = pd.read_sql_query(\"select rfam_acc,rfam_id,auto_wiki,description,author,seed_source FROM family\",\n",
    "    conn) \n",
    "\n",
    "df.tail(10)"
   ]
  },
  {
   "cell_type": "markdown",
   "metadata": {},
   "source": [
    "## Writing the results to iguazio Key/Value Database\n",
    "The following section demonstrate establishing a connection with iguazio high-performance DataFrames service (v3io_frames) and writing the data from the SQL database<br>\n",
    "iguazio database support multiple models (KV/NoSQL, time-series, stream, object) those are specified in the first argument, read more in: `TBD Frames link`"
   ]
  },
  {
   "cell_type": "code",
   "execution_count": 7,
   "metadata": {},
   "outputs": [],
   "source": [
    "import pandas as pd\n",
    "import v3io_frames as v3f\n",
    "import os\n",
    "client = v3f.Client('v3io-framesd:8081', container='users',password=os.getenv('V3IO_PASSWORD'))\n",
    "tablename = 'iguazio/examples/family'"
   ]
  },
  {
   "cell_type": "markdown",
   "metadata": {},
   "source": [
    "Ingesting data into the database using NoSQL API"
   ]
  },
  {
   "cell_type": "code",
   "execution_count": 8,
   "metadata": {},
   "outputs": [],
   "source": [
    "client.write('kv', tablename, df)"
   ]
  },
  {
   "cell_type": "markdown",
   "metadata": {},
   "source": [
    "## Using Pandas streaming capabilities to copy large datasets \n",
    "Many pandas inputs/outputs including SQL, CSV, and iguazio support chunking. with chunking the driver forms a continious iterator and data is read/written chunk by chunk.\n",
    "a user specify the `chunksize` (number of rows) which will return a dataframe iterator, this iterator can be passed as is to a dataframe writer like iguazio frames.\n",
    "The following example will stream data from MySQL to iguazio NoSQL API."
   ]
  },
  {
   "cell_type": "code",
   "execution_count": 10,
   "metadata": {},
   "outputs": [],
   "source": [
    "tablename2 = 'iguazio/examples/family2'\n",
    "df_iter = pd.read_sql(\"select rfam_acc,rfam_id,auto_wiki,description,author,seed_source  FROM family\", conn, chunksize=1000)\n",
    "client.write('kv', tablename2, df_iter)"
   ]
  },
  {
   "cell_type": "markdown",
   "metadata": {},
   "source": [
    "## Remove Data"
   ]
  },
  {
   "cell_type": "code",
   "execution_count": 11,
   "metadata": {},
   "outputs": [],
   "source": [
    "client.delete('kv', tablename)\n",
    "client.delete('kv', tablename2)"
   ]
  },
  {
   "cell_type": "code",
   "execution_count": null,
   "metadata": {},
   "outputs": [],
   "source": []
  }
 ],
 "metadata": {
  "kernelspec": {
   "display_name": "Python 3",
   "language": "python",
   "name": "python3"
  },
  "language_info": {
   "codemirror_mode": {
    "name": "ipython",
    "version": 3
   },
   "file_extension": ".py",
   "mimetype": "text/x-python",
   "name": "python",
   "nbconvert_exporter": "python",
   "pygments_lexer": "ipython3",
   "version": "3.6.6"
  }
 },
 "nbformat": 4,
 "nbformat_minor": 2
}
