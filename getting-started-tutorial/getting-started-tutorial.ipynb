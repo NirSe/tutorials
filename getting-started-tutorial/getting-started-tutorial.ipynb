{
 "cells": [
  {
   "cell_type": "markdown",
   "metadata": {},
   "source": [
    "<a id=\"top\"></a>\n",
    "# Getting Started with the Iguazio Data Science Platform"
   ]
  },
  {
   "cell_type": "markdown",
   "metadata": {},
   "source": [
    "<a id=\"gs-overview\"></a>\n",
    "## Overview\n",
    "\n",
    "This tutorial is designed to demonstrate some of the main capabilities of the Iguazio Data Science Platform (**\"the platform\"**).\n",
    "The tutorial walks you through a basic machine-learning (ML) workflow, which includes the following steps; before running the steps, ensure that the required [prerequisites](#gs-prerequisites) are met:\n",
    "\n",
    "1. [Create and configure a new project](#gs-step-project-create-n-config)\n",
    "2. [Ingest a data set](#gs-step-ingest-data)\n",
    "3. [Explore the data](#gs-step-explore-data)\n",
    "4. [Run model training at scale](#gs-step-run-model-training)\n",
    "5. [Test your model](#gs-step-test-model)\n",
    "6. [Create and run a fully automated ML pipeline](#gs-step-create-n-run-ml-pipeline)\n",
    "\n",
    "By the end of this tutorial you will learn how to\n",
    "\n",
    "1. Create a new platform project.\n",
    "2. Create functions and track experiments while running them.\n",
    "3. Store artifacts to be used and managed in a central database.\n",
    "4. Leverage the MLRun functions marketplace.\n",
    "5. Create an automated ML pipeline.\n",
    "6. Run your code on a distributed Kubernetes cluster without any DevOps overhead.\n",
    "7. Create a scalable endpoint for model serving.\n",
    "\n",
    "The tutorial uses the [Iris flower data set](http://archive.ics.uci.edu/ml/datasets/iris) &mdash; a popular data set that is widely used for basic data science tutorials.\n",
    "The data set contains a set of 150 records under five attributes &mdash; petal length, petal width, sepal length, sepal width, and species. Your model will classify the species based on the other four attributes."
   ]
  },
  {
   "cell_type": "markdown",
   "metadata": {},
   "source": [
    "<a id=\"gs-prerequisites\"></a>\n",
    "## Prerequisites\n",
    "\n",
    "<a id=\"gs-mlrun-install\"></a>The tutorial uses MLRun to create a project, implement and execute an ML pipeline, and track the execution.\n",
    "(For more information about MLRun, see Step 1.)\n",
    "To use MLRun, you must first ensure that it's installed and running as a service on your platform cluster.\n",
    "Look for an `mlrun` service on the **Services** page of the platform dashboard.\n",
    "For more information and additional assistance, contact the Iguazio [support team](mailto:support@iguazio.com).\n",
    "\n",
    "To use MLRun from Jupyter Notebook, you need to run the following code to install the `mlrun` Python package.\n",
    "This needs to be done only once per Jupyter Notebook service.\n",
    "> **Note:** You must **restart the Jupyter kernel** to complete the installation."
   ]
  },
  {
   "cell_type": "code",
   "execution_count": null,
   "metadata": {},
   "outputs": [],
   "source": [
    "!python -m pip install mlrun"
   ]
  },
  {
   "cell_type": "markdown",
   "metadata": {},
   "source": [
    "<a id=\"gs-step-project-create-n-config\"></a>\n",
    "## Step 1: Create and Configure a New Project\n",
    "\n",
    "Start out by creating a new platform project and making some initial configurations."
   ]
  },
  {
   "cell_type": "markdown",
   "metadata": {},
   "source": [
    "<a id=\"gs-create-project\"></a>\n",
    "### Create a New Project\n",
    "\n",
    "Projects in the platform are used to package multiple functions, workflows, and artifacts.\n",
    "Projects are created by using the `new_project` MLRun method, which receives the following parameters:\n",
    "\n",
    "- **`name`** (Required) &mdash; the project name.\n",
    "- **`context`** &mdash; the path to a local project directory (the project's context directory).\n",
    "  The project directory contains a project-configuration file (default: **project.yaml**), which defines the project, and additional generated Python code.\n",
    "  The project file is created when you save your project (using the `save` MLRun project method), as demonstrated in Step 6.\n",
    "- **`functions`** &mdash; a list of functions objects or links to function code or objects.\n",
    "- **`init_git`** &mdash; set to `True` to perform Git initialization of the project directory (`context`).\n",
    "  > **Note:** It's customary to store project code and definitions in a Git repository.\n",
    "\n",
    "Projects are visible in the MLRun dashboard only after they're saved to the MLRun database, which happens whenever you run code for a project.\n",
    "\n",
    "The following code creates a project named \"getting-started-iris-&lt;V3IO_USERNAME&gt;\", where **&lt;V3IO_USERNAME&gt;** is your current running username in the platform, and sets the project directory to a **conf** directory in the current tutorial directory (**/User/getting-started-tutorial/conf**).\n",
    "\n",
    "> **Note:** Platform projects are shared among all users of the parent tenant, to facilitate collaboration. Therefore,\n",
    ">\n",
    "> - Synchronize your projects execution with other users on your platform cluster, as needed, or use unique project names to avoid conflicts.\n",
    ">   You can easily change the default project name for this tutorial by changing the definition of the `project_name` variable in the following code.\n",
    "> - Don't include in your project proprietary information that you don't want to expose to other users.\n",
    ">   Note that while projects are a useful tool, you can easily develop and run code in the platform without using projects."
   ]
  },
  {
   "cell_type": "code",
   "execution_count": 1,
   "metadata": {},
   "outputs": [
    {
     "name": "stdout",
     "output_type": "stream",
     "text": [
      "Project path: /User/getting-started-tutorial/conf\n",
      "Project name: getting-started-iris-iguazio\n"
     ]
    }
   ],
   "source": [
    "from os import path, getenv\n",
    "from mlrun import new_project\n",
    "\n",
    "project_name = '-'.join(filter(None, ['getting-started-iris', getenv('V3IO_USERNAME', None)]))\n",
    "project_path = path.abspath('conf')\n",
    "project = new_project(project_name, project_path, init_git=True)\n",
    "\n",
    "print(f'Project path: {project_path}\\nProject name: {project_name}')"
   ]
  },
  {
   "cell_type": "markdown",
   "metadata": {},
   "source": [
    "<a id=\"gs-mlrun-config\"></a>\n",
    "### Configure MLRun\n",
    "\n",
    "[MLRun](https://github.com/mlrun/mlrun) is a generic and convenient mechanism for data scientists and software developers to describe and run tasks related to machine learning in various, scalable runtime environments and ML pipelines while automatically tracking executed code, metadata, inputs, and outputs.\n",
    "MLRun integrates with the Nuclio serverless framework and with the Kubeflow Pipelines framework for running ML pipelines.\n",
    "The tutorial uses MLRun to create a project, implement and execute an ML pipeline, and track the execution.\n",
    "Before running your code, you need to set some MLRun configurations:\n",
    "\n",
    "- <a id=\"gs-mlrun-config-artifcats-path\"></a>**Artifacts path** &mdash; the location for storing versioned data artifacts (such as files, objects, data sets, and models) that are produced or consumed by functions, runs, and workflows.\n",
    "  The path can be defined either as a local directory path or as a URL (of the format `s3://*`, `v3io://*`, etc.).\n",
    "  You can set the artifacts path either by defining an `MLRUN_ARTIFACT_PATH` environment variable (which applies globally throughout the current environment) or as part of the MLRun configuration.\n",
    " \n",
    "  If the target directory doesn't exist, MLRun creates it.\n",
    "  You can use the notation `{{run.uid}}` in the path to signify the current run ID.\n",
    "  For pipelines, you can use the notation `{{workflow.uid}}` to signify the workflow ID.\n",
    "  This allows you to create a unique artifacts directory for each executed job or workflow.\n",
    "\n",
    "  After you run an MLRun job, the artifacts directory might contain one or more of the following directories:\n",
    " \n",
    "  - **plots** &mdash; a directory for storing images, figures, and plotlines.\n",
    "  - **models** &mdash; a directory for storing all trained models.\n",
    "  - **data** &mdash; a directory for storing any other type of data artifact, such as data sets.\n",
    "\n",
    "\n",
    "- <a id=\"gs-mlrun-config-mlrun-db-path\"></a>**The MLRun DB path** &mdash; the path to an MLRun database (DB) directory or the URL of an MLRun API service.\n",
    "  The MLRun service initializes `mlconf.dbpath` to the default API URL for the current environment (usually `http://mlrun-api:8080`).\n",
    "\n",
    "The following code sets the artifacts path to a **jobs** directory within the tutorial directory (**/User/getting-started-tutorial/jobs**), and the MLRun DB path to the currently configured MLRun DB path, if exists, or to `http://mlrun-api:8080` otherwise.\n",
    "(In Step 6 of the tutorial, you'll create a full pipeline and store the pipeline artifacts in a **pipeline** tutorial directory.)"
   ]
  },
  {
   "cell_type": "code",
   "execution_count": 2,
   "metadata": {},
   "outputs": [
    {
     "name": "stdout",
     "output_type": "stream",
     "text": [
      "Artifacts path: /User/getting-started-tutorial/jobs\n",
      "MLRun DB path: http://10.199.253.4:8080\n"
     ]
    }
   ],
   "source": [
    "from mlrun import run_local, NewTask, mlconf, import_function, mount_v3io\n",
    "\n",
    "# Target location for storing pipeline artifacts\n",
    "artifact_path = path.abspath('jobs')\n",
    "# MLRun DB path or API service URL\n",
    "mlconf.dbpath = mlconf.dbpath or 'http://mlrun-api:8080'\n",
    "\n",
    "print(f'Artifacts path: {artifact_path}\\nMLRun DB path: {mlconf.dbpath}')"
   ]
  },
  {
   "cell_type": "markdown",
   "metadata": {},
   "source": [
    "<a id=\"gs-nuclio-import-n-config\"></a>\n",
    "### Import and Configure Nuclio\n",
    "\n",
    "[Nuclio](https://nuclio.io/) is a high-performance open-source and managed serverless framework, which is available as a predefined tenant-wide platform service (`nuclio`).\n",
    "The tutorial uses Nuclio to create and deploy serverless functions.\n",
    "Therefore, you need to import the Nuclio package and configure Nuclio for your project.\n",
    "\n",
    "The platform's Jupyter Notebook service preinstalls the [nuclio-jupyter SDK](https://github.com/nuclio/nuclio-jupyter/blob/master/README.md) for creating and deploying Nuclio functions with Python and Jupyter Notebook.\n",
    "The tutorial uses the Nuclio magic commands and annotation comments of this SDK to automate function code generation.\n",
    "The magic commands are initialized when you import the `nuclio` package.<br>\n",
    "The `%nuclio` magic commands are used to run Nuclio commands from Jupyter notebooks (`%nuclio <Nuclio command>`).\n",
    "You can also use `%%nuclio` at the start of a cell to identify the entire cell as containing Nuclio code.\n",
    "The magic commands are initialized when you import the `nuclio` package.<br>\n",
    "The `# nuclio: start-code`, `# nuclio: end-code`, and `# nuclio: ignore` section-marker annotations notify Nuclio of the beginning or end of code sections.\n",
    "Nuclio ignores all notebook code before a `# nuclio: start-code` marker or after an `# nuclio: end-code` marker.\n",
    "Nuclio translates all other notebook code sections into function code, except for sections that are marked with the `# nuclio: ignore` marker."
   ]
  },
  {
   "cell_type": "markdown",
   "metadata": {},
   "source": [
    "<a id=\"gs-nuclio-import\"></a>\n",
    "#### Import Nuclio\n",
    "\n",
    "The following code imports the `nuclio` Python package."
   ]
  },
  {
   "cell_type": "code",
   "execution_count": 3,
   "metadata": {},
   "outputs": [],
   "source": [
    "import nuclio"
   ]
  },
  {
   "cell_type": "markdown",
   "metadata": {},
   "source": [
    "<a id=\"gs-nuclio-config\"></a>\n",
    "#### Configure Nuclio\n",
    "\n",
    "The following code uses the `# nuclio: start-code` marker to instruct Nuclio to start processing code only from this location, and then performs basic Nuclio function configuration &mdash; defining the name of the function's container image (`mlrun/ml-models`) and the function type (`job`).\n",
    "\n",
    "> **Note:** You can add code to define function dependencies and perform additional configuration after the `# nuclio: start-code` marker."
   ]
  },
  {
   "cell_type": "code",
   "execution_count": 4,
   "metadata": {},
   "outputs": [],
   "source": [
    "# nuclio: start-code"
   ]
  },
  {
   "cell_type": "code",
   "execution_count": 5,
   "metadata": {},
   "outputs": [
    {
     "name": "stdout",
     "output_type": "stream",
     "text": [
      "%nuclio: setting spec.image to 'mlrun/ml-models'\n",
      "%nuclio: setting kind to 'job'\n"
     ]
    }
   ],
   "source": [
    "%nuclio config spec.image = \"mlrun/ml-models\"\n",
    "%nuclio config kind = \"job\""
   ]
  },
  {
   "cell_type": "markdown",
   "metadata": {},
   "source": [
    "<a id=\"gs-step-ingest-data\"></a>\n",
    "## Step 2: Ingest a Data Set\n",
    "\n",
    "Define and run a Python function that downloads the Iris flower data set from Amazon Web Services (AWS) S3 bucket to the platform's local NoSQL data store, and stores it as an MLRun data set."
   ]
  },
  {
   "cell_type": "markdown",
   "metadata": {},
   "source": [
    "<a id=\"gs-step-ingest-data-init\"></a>\n",
    "### Initialization\n",
    "\n",
    "Define the source URL for downloading the data set.\n",
    "\n",
    "> **Note:** As explained earlier, the `nuclio: ignore` annotation is used to instruct Nuclio to ignore this cell. "
   ]
  },
  {
   "cell_type": "code",
   "execution_count": 6,
   "metadata": {},
   "outputs": [],
   "source": [
    "# nuclio: ignore\n",
    "# Set the source-data URL\n",
    "source_url = 'http://iguazio-sample-data.s3.amazonaws.com/iris_dataset.csv'"
   ]
  },
  {
   "cell_type": "markdown",
   "metadata": {},
   "source": [
    "<a id=\"gs-step-ingest-data-define-function\"></a>\n",
    "### Define a Data-Ingestion Function\n",
    "\n",
    "Define a data-ingestion function that downloads the configured data set from an AWS S3 bucket and saves it to the platform's local NoSQL data store."
   ]
  },
  {
   "cell_type": "code",
   "execution_count": 7,
   "metadata": {},
   "outputs": [],
   "source": [
    "from os import path\n",
    "import pandas as pd\n",
    "\n",
    "\n",
    "# Ingest a data set into the platform\n",
    "def get_data(context, source_url, format='csv'):\n",
    "\n",
    "    iris_dataset = source_url.as_df()\n",
    "\n",
    "    target_path = path.join(context.artifact_path, 'data')\n",
    "    # Optionally print data to your logger\n",
    "    context.logger.info('Saving Iris data set to {} ...'.format(target_path))\n",
    "\n",
    "    # Store the data set in your artifacts database\n",
    "    context.log_dataset('iris_dataset', df=iris_dataset, format=format,\n",
    "                        index=False, artifact_path=target_path)"
   ]
  },
  {
   "cell_type": "markdown",
   "metadata": {},
   "source": [
    "The following cell uses the `# nuclio: end-code` marker to mark the end of a Nuclio code section and instruct Nuclio to stop parsing the notebook at this point.<br>\n",
    "> **IMPORTANT:** Do not remove the end-code cell."
   ]
  },
  {
   "cell_type": "code",
   "execution_count": 8,
   "metadata": {},
   "outputs": [],
   "source": [
    "# nuclio: end-code"
   ]
  },
  {
   "cell_type": "markdown",
   "metadata": {},
   "source": [
    "<a id='gs-run-ingest-func'></a>\n",
    "### Run the Data-Ingestion Function\n",
    "\n",
    "MLRun enables you to run function code either locally in your preferred development environment (IDE) or web notebook (in this case, Jupyter Notebook), or on a large cluster (in this case, the platform's distributed Kubernetes cluster).\n",
    "\n",
    "For either execution method, you can specify function parameters, inputs, and outputs either by passing them as parameters to the run method (as done in this tutorial) or by configuring them in a task object that is then passed to the run method; (for more information about tasks, see Step 4 of this tutorial).\n",
    "In each run, you can specify new function inputs, parameters/hyperparameters, etc.\n",
    "For more information, see the [**mlrun_basics**](https://github.com/mlrun/mlrun/blob/master/examples/mlrun_basics.ipynb) example notebook.\n",
    "\n",
    "After the code execution completes, review the output, as demonstrated in the next sections."
   ]
  },
  {
   "cell_type": "markdown",
   "metadata": {},
   "source": [
    "<a id='gs-run-ingest-func-local'></a>\n",
    "#### Run the Function Locally in Jupyter Notebook\n",
    "\n",
    "Start out by running your function locally from within Jupyter Notebook.\n",
    "This is done by using the MLRun `run_local` method.\n",
    "\n",
    "When using this method, the function's inputs and outputs are automatically recorded and stored in the MLRun experiment and data-tracking database (**\"the MLRun DB\"**)."
   ]
  },
  {
   "cell_type": "code",
   "execution_count": 9,
   "metadata": {},
   "outputs": [
    {
     "name": "stdout",
     "output_type": "stream",
     "text": [
      "[mlrun] 2020-04-23 08:40:04,941 starting run get_data uid=4171c9c1cc294c56b32b88a80be7aacf  -> http://10.199.253.4:8080\n",
      "[mlrun] 2020-04-23 08:40:05,603 Saving Iris data set to /User/getting-started-tutorial/jobs/data ...\n",
      "[mlrun] 2020-04-23 08:40:05,673 log artifact iris_dataset at /User/getting-started-tutorial/jobs/data/iris_dataset.csv, size: 2776, db: Y\n",
      "\n"
     ]
    },
    {
     "data": {
      "text/html": [
       "<style> \n",
       ".dictlist {\n",
       "  background-color: #b3edff; \n",
       "  text-align: center; \n",
       "  margin: 4px; \n",
       "  border-radius: 3px; padding: 0px 3px 1px 3px; display: inline-block;}\n",
       ".artifact {\n",
       "  cursor: pointer; \n",
       "  background-color: #ffe6cc; \n",
       "  text-align: left; \n",
       "  margin: 4px; border-radius: 3px; padding: 0px 3px 1px 3px; display: inline-block;\n",
       "}\n",
       "div.block.hidden {\n",
       "  display: none;\n",
       "}\n",
       ".clickable {\n",
       "  cursor: pointer;\n",
       "}\n",
       ".ellipsis {\n",
       "  display: inline-block;\n",
       "  max-width: 60px;\n",
       "  white-space: nowrap;\n",
       "  overflow: hidden;\n",
       "  text-overflow: ellipsis;\n",
       "}\n",
       ".master-wrapper {\n",
       "  display: flex;\n",
       "  flex-flow: row nowrap;\n",
       "  justify-content: flex-start;\n",
       "  align-items: stretch;\n",
       "}\n",
       ".master-tbl {\n",
       "  flex: 3\n",
       "}\n",
       ".master-wrapper > div {\n",
       "  margin: 4px;\n",
       "  padding: 10px;\n",
       "}\n",
       "iframe.fileview {\n",
       "  border: 0 none;\n",
       "  height: 100%;\n",
       "  width: 100%;\n",
       "  white-space: pre-wrap;\n",
       "}\n",
       ".pane-header-title {\n",
       "  width: 80%;\n",
       "  font-weight: 500;\n",
       "}\n",
       ".pane-header {\n",
       "  line-height: 1;\n",
       "  background-color: #ffe6cc;\n",
       "  padding: 3px;\n",
       "}\n",
       ".pane-header .close {\n",
       "  font-size: 20px;\n",
       "  font-weight: 700;\n",
       "  float: right;\n",
       "  margin-top: -5px;\n",
       "}\n",
       ".master-wrapper .right-pane {\n",
       "  border: 1px inset silver;\n",
       "  width: 40%;\n",
       "  min-height: 300px;\n",
       "  flex: 3\n",
       "  min-width: 500px;\n",
       "}\n",
       ".master-wrapper * {\n",
       "  box-sizing: border-box;\n",
       "}\n",
       "</style><script>\n",
       "function copyToClipboard(fld) {\n",
       "    if (document.queryCommandSupported && document.queryCommandSupported('copy')) {\n",
       "        var textarea = document.createElement('textarea');\n",
       "        textarea.textContent = fld.innerHTML;\n",
       "        textarea.style.position = 'fixed';\n",
       "        document.body.appendChild(textarea);\n",
       "        textarea.select();\n",
       "\n",
       "        try {\n",
       "            return document.execCommand('copy'); // Security exception may be thrown by some browsers.\n",
       "        } catch (ex) {\n",
       "\n",
       "        } finally {\n",
       "            document.body.removeChild(textarea);\n",
       "        }\n",
       "    }\n",
       "}\n",
       "function expandPanel(el) {\n",
       "  const panelName = \"#\" + el.getAttribute('paneName');\n",
       "  console.log(el.title);\n",
       "\n",
       "  document.querySelector(panelName + \"-title\").innerHTML = el.title\n",
       "  iframe = document.querySelector(panelName + \"-body\");\n",
       "  \n",
       "  const tblcss = `<style> body { font-family: Arial, Helvetica, sans-serif;}\n",
       "    #csv { margin-bottom: 15px; }\n",
       "    #csv table { border-collapse: collapse;}\n",
       "    #csv table td { padding: 4px 8px; border: 1px solid silver;} </style>`;\n",
       "\n",
       "  function csvToHtmlTable(str) {\n",
       "    return '<div id=\"csv\"><table><tr><td>' +  str.replace(/[\\n\\r]+$/g, '').replace(/[\\n\\r]+/g, '</td></tr><tr><td>')\n",
       "      .replace(/,/g, '</td><td>') + '</td></tr></table></div>';\n",
       "  }\n",
       "  \n",
       "  function reqListener () {\n",
       "    if (el.title.endsWith(\".csv\")) {\n",
       "      iframe.setAttribute(\"srcdoc\", tblcss + csvToHtmlTable(this.responseText));\n",
       "    } else {\n",
       "      iframe.setAttribute(\"srcdoc\", this.responseText);\n",
       "    }  \n",
       "    console.log(this.responseText);\n",
       "  }\n",
       "\n",
       "  const oReq = new XMLHttpRequest();\n",
       "  oReq.addEventListener(\"load\", reqListener);\n",
       "  oReq.open(\"GET\", el.title);\n",
       "  oReq.send();\n",
       "  \n",
       "  \n",
       "  //iframe.src = el.title;\n",
       "  const resultPane = document.querySelector(panelName + \"-pane\");\n",
       "  if (resultPane.classList.contains(\"hidden\")) {\n",
       "    resultPane.classList.remove(\"hidden\");\n",
       "  }\n",
       "}\n",
       "function closePanel(el) {\n",
       "  const panelName = \"#\" + el.getAttribute('paneName')\n",
       "  const resultPane = document.querySelector(panelName + \"-pane\");\n",
       "  if (!resultPane.classList.contains(\"hidden\")) {\n",
       "    resultPane.classList.add(\"hidden\");\n",
       "  }\n",
       "}\n",
       "\n",
       "</script>\n",
       "<div class=\"master-wrapper\">\n",
       "  <div class=\"block master-tbl\"><div>\n",
       "<style scoped>\n",
       "    .dataframe tbody tr th:only-of-type {\n",
       "        vertical-align: middle;\n",
       "    }\n",
       "\n",
       "    .dataframe tbody tr th {\n",
       "        vertical-align: top;\n",
       "    }\n",
       "\n",
       "    .dataframe thead th {\n",
       "        text-align: right;\n",
       "    }\n",
       "</style>\n",
       "<table border=\"1\" class=\"dataframe\">\n",
       "  <thead>\n",
       "    <tr style=\"text-align: right;\">\n",
       "      <th>project</th>\n",
       "      <th>uid</th>\n",
       "      <th>iter</th>\n",
       "      <th>start</th>\n",
       "      <th>state</th>\n",
       "      <th>name</th>\n",
       "      <th>labels</th>\n",
       "      <th>inputs</th>\n",
       "      <th>parameters</th>\n",
       "      <th>results</th>\n",
       "      <th>artifacts</th>\n",
       "    </tr>\n",
       "  </thead>\n",
       "  <tbody>\n",
       "    <tr>\n",
       "      <td>getting-started-iris-iguazio</td>\n",
       "      <td><div title=\"4171c9c1cc294c56b32b88a80be7aacf\"><a href=\"https://mlrun-ui.default-tenant.app.dev34.lab.iguazeng.com/projects/getting-started-iris-iguazio/jobs/4171c9c1cc294c56b32b88a80be7aacf/info\" target=\"_blank\" >...0be7aacf</a></div></td>\n",
       "      <td>0</td>\n",
       "      <td>Apr 23 08:40:04</td>\n",
       "      <td>completed</td>\n",
       "      <td>get_data</td>\n",
       "      <td><div class=\"dictlist\">v3io_user=iguazio</div><div class=\"dictlist\">kind=handler</div><div class=\"dictlist\">owner=iguazio</div><div class=\"dictlist\">host=jupyter-86697fc4cb-8v68t</div></td>\n",
       "      <td><div title=\"http://iguazio-sample-data.s3.amazonaws.com/iris_dataset.csv\">source_url</div></td>\n",
       "      <td></td>\n",
       "      <td></td>\n",
       "      <td><div class=\"artifact\" onclick=\"expandPanel(this)\" paneName=\"resultd8b1b029\" title=\"/files/getting-started-tutorial/jobs/data/iris_dataset.csv\">iris_dataset</div></td>\n",
       "    </tr>\n",
       "  </tbody>\n",
       "</table>\n",
       "</div></div>\n",
       "  <div id=\"resultd8b1b029-pane\" class=\"right-pane block hidden\">\n",
       "    <div class=\"pane-header\">\n",
       "      <span id=\"resultd8b1b029-title\" class=\"pane-header-title\">Title</span>\n",
       "      <span onclick=\"closePanel(this)\" paneName=\"resultd8b1b029\" class=\"close clickable\">&times;</span>\n",
       "    </div>\n",
       "    <iframe class=\"fileview\" id=\"resultd8b1b029-body\"></iframe>\n",
       "  </div>\n",
       "</div>\n"
      ],
      "text/plain": [
       "<IPython.core.display.HTML object>"
      ]
     },
     "metadata": {},
     "output_type": "display_data"
    },
    {
     "name": "stdout",
     "output_type": "stream",
     "text": [
      "to track results use .show() or .logs() or in CLI: \n",
      "!mlrun get run 4171c9c1cc294c56b32b88a80be7aacf --project getting-started-iris-iguazio , !mlrun logs 4171c9c1cc294c56b32b88a80be7aacf --project getting-started-iris-iguazio\n",
      "[mlrun] 2020-04-23 08:40:05,741 run executed, status=completed\n"
     ]
    }
   ],
   "source": [
    "# Run the data-ingestion function locally in Jupyter Notebook\n",
    "get_data_run = run_local(name='get_data',\n",
    "                         handler=get_data,\n",
    "                         inputs={'source_url': source_url},\n",
    "                         project=project_name, artifact_path=artifact_path)"
   ]
  },
  {
   "cell_type": "markdown",
   "metadata": {},
   "source": [
    "<a id=\"gs-ingest-func-output-review\"></a>\n",
    "### Review the Run Output\n",
    "\n",
    "The output cell for your function execution contains a table with run information &mdash; including the state of the execution, all inputs and parameters, and the execution results and artifacts.\n",
    "Click on the `iris_dataset` artifact in the **artifacts** column to see a short summary of the data set, as illustrated in the following image:\n",
    "<br><br>\n",
    "![getting_started-get_data-details](./assets/getting_started-get_data-details.png)"
   ]
  },
  {
   "cell_type": "markdown",
   "metadata": {},
   "source": [
    "MLRun features a graphical user interface (**\"the MLRun dashboard\"**), which displays detailed information about executed jobs, artifacts, and functions &mdash; including job states, inputs, parameters, artifacts, execution results, and logs.\n",
    "This dashboard also allows you to filter the display based on different criteria.<br>\n",
    "To open the dashboard, simply select the MLRun service link (`mlrun`) from the **Services** page of the platform dashboard.\n",
    "\n",
    "On the MLRun dashboard's **Projects** home page, select the **Jobs** link for the current project (\"getting-started-iris\") to open a **Jobs** page with a **Monitor** tab that displays information about the project's executed jobs:\n",
    "<br><br>\n",
    "<img src=\"./assets/getting_started-ui-jobs-monitor.png\" alt=\"ui-jobs-monitor\" width=\"800\"/>"
   ]
  },
  {
   "cell_type": "markdown",
   "metadata": {},
   "source": [
    "Select the `get_data` function to see detailed information about the function and its execution &mdash; including the execution start time and status, metadata, inputs, artifacts, run results, and logs:\n",
    "<br><br>\n",
    "<img src=\"./assets/getting_started-get_data-ui-jobs.png\" alt=\"get-iris-data-ui-jobs\" width=\"800\"/>"
   ]
  },
  {
   "cell_type": "markdown",
   "metadata": {},
   "source": [
    "Return to the dashboard's **Projects** home page and select the **Artifacts** link for the current project to open an **Artifacts** page with a **Monitor** tab that displays information about your project's artifacts.\n",
    "Select the \"get_data_iris_dataset\" artifact to view information about the \"iris_dataset\" artifact of the `get_data` function (**iris_dataset.csv**); note that you can also preview the data set and see related metadata:\n",
    "<br><br>\n",
    "<img src=\"./assets/getting_started-get_data-ui-artifacts.png\" alt=\"get-iris-data-ui-artifacts\" width=\"800\"/>"
   ]
  },
  {
   "cell_type": "markdown",
   "metadata": {},
   "source": [
    "> **Note:** There are also other ways that you can view run artifacts, in addition to the notebook run-output table and the MLRun dashboard:\n",
    "> - In your notebook, use Python print or display methods, such as `IPython.display`, to display the artifact of a run object, as demonstrated later in this tutorial.\n",
    "> - On the platform dashboard, select **Data** from the side navigation menu, and then select your data container from the **Browse** tab; the tutorial stores data in the \"users\" container.\n",
    ">   Then, navigate to your project's artifacts directory, locate the artifact file, and double-click it to view it in the browse table.<br>\n",
    ">   You can also download platform data files from the dashboard to your local environment.\n",
    "> - In the JupyterLab file browser, navigate to the project's artifacts directory (**/User/getting-started-tutorial/jobs** for this tutorial), locate the artifact file, and select it to view the file from the Jupyter UI."
   ]
  },
  {
   "cell_type": "markdown",
   "metadata": {},
   "source": [
    "<a id=\"gs-run-ingest-func-cluster\"></a>\n",
    "#### Run the Function on a Cluster\n",
    "\n",
    "One of the key benefits of Iguazio Data Science Platform is the ability to easily run any code on a distributed Kubernetes cluster and achieve better performance.\n",
    "To do so, you first need to convert your notebook code into a function that can run on the cluster, and then run this function."
   ]
  },
  {
   "cell_type": "markdown",
   "metadata": {},
   "source": [
    "<a id=\"gs-run-ingest-func-on-the-cluster-code-to-function\"></a>\n",
    "##### Convert the Notebook Code Into a Function\n",
    "\n",
    "Use the MLRun `code_to_function` method to convert your notebook code into a project MLRun function &mdash; a function object with embedded code, which can run on the cluster.\n",
    "This will also come in handy later in the tutorial, after you create an automated pipeline.\n",
    "\n",
    "The following code converts the code of your local `get-data` data-ingestion function into a `gen_func` project function.\n",
    "(For more information about the `set_function` MLRun project method, which is used to add the new project function, see Step 3.)"
   ]
  },
  {
   "cell_type": "code",
   "execution_count": 10,
   "metadata": {},
   "outputs": [
    {
     "data": {
      "text/plain": [
       "<mlrun.runtimes.kubejob.KubejobRuntime at 0x7f5955e13198>"
      ]
     },
     "execution_count": 10,
     "metadata": {},
     "output_type": "execute_result"
    }
   ],
   "source": [
    "from mlrun import code_to_function\n",
    "\n",
    "# Convert the local get_data function into a gen_func project function\n",
    "gen_func = code_to_function(name='get-data')\n",
    "project.set_function(gen_func)"
   ]
  },
  {
   "cell_type": "markdown",
   "metadata": {},
   "source": [
    "<a id=\"gs-run-ingest-func-on-the-cluster-run-function\"></a>\n",
    "##### Run the Function on the Cluster\n",
    "\n",
    "After you create the project function, you can run it on the platform's distributed Kubernetes cluster.\n",
    "The execution code is similar to the code used for the local execution, except that the `run_local` method is replaced with the `run` method.\n",
    "\n",
    "When the execution is done, review the output as you did for the local execution."
   ]
  },
  {
   "cell_type": "code",
   "execution_count": 11,
   "metadata": {},
   "outputs": [
    {
     "name": "stdout",
     "output_type": "stream",
     "text": [
      "[mlrun] 2020-04-23 08:45:36,111 starting run get_data uid=fa4ad478a9ff4b6d88e8633a8b4591c0  -> http://10.199.253.4:8080\n",
      "[mlrun] 2020-04-23 08:45:36,194 Job is running in the background, pod: get-data-qrnl4\n",
      "[mlrun] 2020-04-23 08:45:40,825 Saving Iris data set to /User/getting-started-tutorial/jobs/data ...\n",
      "[mlrun] 2020-04-23 08:45:40,874 log artifact iris_dataset at /User/getting-started-tutorial/jobs/data/iris_dataset.csv, size: 2776, db: Y\n",
      "\n",
      "[mlrun] 2020-04-23 08:45:40,895 run executed, status=completed\n",
      "final state: succeeded\n"
     ]
    },
    {
     "data": {
      "text/html": [
       "<style> \n",
       ".dictlist {\n",
       "  background-color: #b3edff; \n",
       "  text-align: center; \n",
       "  margin: 4px; \n",
       "  border-radius: 3px; padding: 0px 3px 1px 3px; display: inline-block;}\n",
       ".artifact {\n",
       "  cursor: pointer; \n",
       "  background-color: #ffe6cc; \n",
       "  text-align: left; \n",
       "  margin: 4px; border-radius: 3px; padding: 0px 3px 1px 3px; display: inline-block;\n",
       "}\n",
       "div.block.hidden {\n",
       "  display: none;\n",
       "}\n",
       ".clickable {\n",
       "  cursor: pointer;\n",
       "}\n",
       ".ellipsis {\n",
       "  display: inline-block;\n",
       "  max-width: 60px;\n",
       "  white-space: nowrap;\n",
       "  overflow: hidden;\n",
       "  text-overflow: ellipsis;\n",
       "}\n",
       ".master-wrapper {\n",
       "  display: flex;\n",
       "  flex-flow: row nowrap;\n",
       "  justify-content: flex-start;\n",
       "  align-items: stretch;\n",
       "}\n",
       ".master-tbl {\n",
       "  flex: 3\n",
       "}\n",
       ".master-wrapper > div {\n",
       "  margin: 4px;\n",
       "  padding: 10px;\n",
       "}\n",
       "iframe.fileview {\n",
       "  border: 0 none;\n",
       "  height: 100%;\n",
       "  width: 100%;\n",
       "  white-space: pre-wrap;\n",
       "}\n",
       ".pane-header-title {\n",
       "  width: 80%;\n",
       "  font-weight: 500;\n",
       "}\n",
       ".pane-header {\n",
       "  line-height: 1;\n",
       "  background-color: #ffe6cc;\n",
       "  padding: 3px;\n",
       "}\n",
       ".pane-header .close {\n",
       "  font-size: 20px;\n",
       "  font-weight: 700;\n",
       "  float: right;\n",
       "  margin-top: -5px;\n",
       "}\n",
       ".master-wrapper .right-pane {\n",
       "  border: 1px inset silver;\n",
       "  width: 40%;\n",
       "  min-height: 300px;\n",
       "  flex: 3\n",
       "  min-width: 500px;\n",
       "}\n",
       ".master-wrapper * {\n",
       "  box-sizing: border-box;\n",
       "}\n",
       "</style><script>\n",
       "function copyToClipboard(fld) {\n",
       "    if (document.queryCommandSupported && document.queryCommandSupported('copy')) {\n",
       "        var textarea = document.createElement('textarea');\n",
       "        textarea.textContent = fld.innerHTML;\n",
       "        textarea.style.position = 'fixed';\n",
       "        document.body.appendChild(textarea);\n",
       "        textarea.select();\n",
       "\n",
       "        try {\n",
       "            return document.execCommand('copy'); // Security exception may be thrown by some browsers.\n",
       "        } catch (ex) {\n",
       "\n",
       "        } finally {\n",
       "            document.body.removeChild(textarea);\n",
       "        }\n",
       "    }\n",
       "}\n",
       "function expandPanel(el) {\n",
       "  const panelName = \"#\" + el.getAttribute('paneName');\n",
       "  console.log(el.title);\n",
       "\n",
       "  document.querySelector(panelName + \"-title\").innerHTML = el.title\n",
       "  iframe = document.querySelector(panelName + \"-body\");\n",
       "  \n",
       "  const tblcss = `<style> body { font-family: Arial, Helvetica, sans-serif;}\n",
       "    #csv { margin-bottom: 15px; }\n",
       "    #csv table { border-collapse: collapse;}\n",
       "    #csv table td { padding: 4px 8px; border: 1px solid silver;} </style>`;\n",
       "\n",
       "  function csvToHtmlTable(str) {\n",
       "    return '<div id=\"csv\"><table><tr><td>' +  str.replace(/[\\n\\r]+$/g, '').replace(/[\\n\\r]+/g, '</td></tr><tr><td>')\n",
       "      .replace(/,/g, '</td><td>') + '</td></tr></table></div>';\n",
       "  }\n",
       "  \n",
       "  function reqListener () {\n",
       "    if (el.title.endsWith(\".csv\")) {\n",
       "      iframe.setAttribute(\"srcdoc\", tblcss + csvToHtmlTable(this.responseText));\n",
       "    } else {\n",
       "      iframe.setAttribute(\"srcdoc\", this.responseText);\n",
       "    }  \n",
       "    console.log(this.responseText);\n",
       "  }\n",
       "\n",
       "  const oReq = new XMLHttpRequest();\n",
       "  oReq.addEventListener(\"load\", reqListener);\n",
       "  oReq.open(\"GET\", el.title);\n",
       "  oReq.send();\n",
       "  \n",
       "  \n",
       "  //iframe.src = el.title;\n",
       "  const resultPane = document.querySelector(panelName + \"-pane\");\n",
       "  if (resultPane.classList.contains(\"hidden\")) {\n",
       "    resultPane.classList.remove(\"hidden\");\n",
       "  }\n",
       "}\n",
       "function closePanel(el) {\n",
       "  const panelName = \"#\" + el.getAttribute('paneName')\n",
       "  const resultPane = document.querySelector(panelName + \"-pane\");\n",
       "  if (!resultPane.classList.contains(\"hidden\")) {\n",
       "    resultPane.classList.add(\"hidden\");\n",
       "  }\n",
       "}\n",
       "\n",
       "</script>\n",
       "<div class=\"master-wrapper\">\n",
       "  <div class=\"block master-tbl\"><div>\n",
       "<style scoped>\n",
       "    .dataframe tbody tr th:only-of-type {\n",
       "        vertical-align: middle;\n",
       "    }\n",
       "\n",
       "    .dataframe tbody tr th {\n",
       "        vertical-align: top;\n",
       "    }\n",
       "\n",
       "    .dataframe thead th {\n",
       "        text-align: right;\n",
       "    }\n",
       "</style>\n",
       "<table border=\"1\" class=\"dataframe\">\n",
       "  <thead>\n",
       "    <tr style=\"text-align: right;\">\n",
       "      <th>project</th>\n",
       "      <th>uid</th>\n",
       "      <th>iter</th>\n",
       "      <th>start</th>\n",
       "      <th>state</th>\n",
       "      <th>name</th>\n",
       "      <th>labels</th>\n",
       "      <th>inputs</th>\n",
       "      <th>parameters</th>\n",
       "      <th>results</th>\n",
       "      <th>artifacts</th>\n",
       "    </tr>\n",
       "  </thead>\n",
       "  <tbody>\n",
       "    <tr>\n",
       "      <td>getting-started-iris-iguazio</td>\n",
       "      <td><div title=\"fa4ad478a9ff4b6d88e8633a8b4591c0\"><a href=\"https://mlrun-ui.default-tenant.app.dev34.lab.iguazeng.com/projects/getting-started-iris-iguazio/jobs/fa4ad478a9ff4b6d88e8633a8b4591c0/info\" target=\"_blank\" >...8b4591c0</a></div></td>\n",
       "      <td>0</td>\n",
       "      <td>Apr 23 08:45:40</td>\n",
       "      <td>completed</td>\n",
       "      <td>get_data</td>\n",
       "      <td><div class=\"dictlist\">host=get-data-qrnl4</div><div class=\"dictlist\">kind=job</div><div class=\"dictlist\">owner=iguazio</div><div class=\"dictlist\">v3io_user=iguazio</div></td>\n",
       "      <td><div title=\"http://iguazio-sample-data.s3.amazonaws.com/iris_dataset.csv\">source_url</div></td>\n",
       "      <td></td>\n",
       "      <td></td>\n",
       "      <td><div class=\"artifact\" onclick=\"expandPanel(this)\" paneName=\"result88a774c9\" title=\"/files/getting-started-tutorial/jobs/data/iris_dataset.csv\">iris_dataset</div></td>\n",
       "    </tr>\n",
       "  </tbody>\n",
       "</table>\n",
       "</div></div>\n",
       "  <div id=\"result88a774c9-pane\" class=\"right-pane block hidden\">\n",
       "    <div class=\"pane-header\">\n",
       "      <span id=\"result88a774c9-title\" class=\"pane-header-title\">Title</span>\n",
       "      <span onclick=\"closePanel(this)\" paneName=\"result88a774c9\" class=\"close clickable\">&times;</span>\n",
       "    </div>\n",
       "    <iframe class=\"fileview\" id=\"result88a774c9-body\"></iframe>\n",
       "  </div>\n",
       "</div>\n"
      ],
      "text/plain": [
       "<IPython.core.display.HTML object>"
      ]
     },
     "metadata": {},
     "output_type": "display_data"
    },
    {
     "name": "stdout",
     "output_type": "stream",
     "text": [
      "to track results use .show() or .logs() or in CLI: \n",
      "!mlrun get run fa4ad478a9ff4b6d88e8633a8b4591c0 --project getting-started-iris-iguazio , !mlrun logs fa4ad478a9ff4b6d88e8633a8b4591c0 --project getting-started-iris-iguazio\n",
      "[mlrun] 2020-04-23 08:45:42,428 run executed, status=completed\n"
     ]
    }
   ],
   "source": [
    "get_data_func = project.func('get-data').apply(mount_v3io())\n",
    "get_data_run = get_data_func.run(name='get_data',\n",
    "                                 handler='get_data',\n",
    "                                 inputs={'source_url': source_url},\n",
    "                                 artifact_path=artifact_path)"
   ]
  },
  {
   "cell_type": "markdown",
   "metadata": {},
   "source": [
    "<a id=\"gs-step-explore-data\"></a>\n",
    "## Step 3: Explore the Data\n",
    "\n",
    "Data exploration makes up a big part of the data science work.\n",
    "This step demonstrates how you can use pandas DataFrames or an MLRun marketplace function to read your data set, analyze it to extract statistics, and visualize the information to gain more insight into your data."
   ]
  },
  {
   "cell_type": "markdown",
   "metadata": {},
   "source": [
    "<a id=\"gs-explore-data-w-pandas-df\"></a>\n",
    "### Explore the Data with Pandas DataFrames\n",
    "\n",
    "Run the following code to use pandas DataFrames to read your data set, extract some basic statistics, and display them."
   ]
  },
  {
   "cell_type": "code",
   "execution_count": 12,
   "metadata": {},
   "outputs": [],
   "source": [
    "# Read your data set\n",
    "from mlrun.run import get_dataitem\n",
    "df = get_dataitem(get_data_run.outputs['iris_dataset']).as_df()"
   ]
  },
  {
   "cell_type": "code",
   "execution_count": 13,
   "metadata": {},
   "outputs": [
    {
     "data": {
      "text/html": [
       "<div>\n",
       "<style scoped>\n",
       "    .dataframe tbody tr th:only-of-type {\n",
       "        vertical-align: middle;\n",
       "    }\n",
       "\n",
       "    .dataframe tbody tr th {\n",
       "        vertical-align: top;\n",
       "    }\n",
       "\n",
       "    .dataframe thead th {\n",
       "        text-align: right;\n",
       "    }\n",
       "</style>\n",
       "<table border=\"1\" class=\"dataframe\">\n",
       "  <thead>\n",
       "    <tr style=\"text-align: right;\">\n",
       "      <th></th>\n",
       "      <th>sepal length (cm)</th>\n",
       "      <th>sepal width (cm)</th>\n",
       "      <th>petal length (cm)</th>\n",
       "      <th>petal width (cm)</th>\n",
       "      <th>label</th>\n",
       "    </tr>\n",
       "  </thead>\n",
       "  <tbody>\n",
       "    <tr>\n",
       "      <th>0</th>\n",
       "      <td>5.1</td>\n",
       "      <td>3.5</td>\n",
       "      <td>1.4</td>\n",
       "      <td>0.2</td>\n",
       "      <td>0</td>\n",
       "    </tr>\n",
       "    <tr>\n",
       "      <th>1</th>\n",
       "      <td>4.9</td>\n",
       "      <td>3.0</td>\n",
       "      <td>1.4</td>\n",
       "      <td>0.2</td>\n",
       "      <td>0</td>\n",
       "    </tr>\n",
       "    <tr>\n",
       "      <th>2</th>\n",
       "      <td>4.7</td>\n",
       "      <td>3.2</td>\n",
       "      <td>1.3</td>\n",
       "      <td>0.2</td>\n",
       "      <td>0</td>\n",
       "    </tr>\n",
       "    <tr>\n",
       "      <th>3</th>\n",
       "      <td>4.6</td>\n",
       "      <td>3.1</td>\n",
       "      <td>1.5</td>\n",
       "      <td>0.2</td>\n",
       "      <td>0</td>\n",
       "    </tr>\n",
       "    <tr>\n",
       "      <th>4</th>\n",
       "      <td>5.0</td>\n",
       "      <td>3.6</td>\n",
       "      <td>1.4</td>\n",
       "      <td>0.2</td>\n",
       "      <td>0</td>\n",
       "    </tr>\n",
       "  </tbody>\n",
       "</table>\n",
       "</div>"
      ],
      "text/plain": [
       "   sepal length (cm)  sepal width (cm)  petal length (cm)  petal width (cm)  \\\n",
       "0                5.1               3.5                1.4               0.2   \n",
       "1                4.9               3.0                1.4               0.2   \n",
       "2                4.7               3.2                1.3               0.2   \n",
       "3                4.6               3.1                1.5               0.2   \n",
       "4                5.0               3.6                1.4               0.2   \n",
       "\n",
       "   label  \n",
       "0      0  \n",
       "1      0  \n",
       "2      0  \n",
       "3      0  \n",
       "4      0  "
      ]
     },
     "execution_count": 13,
     "metadata": {},
     "output_type": "execute_result"
    }
   ],
   "source": [
    "# Display a portion of the read data\n",
    "df.head()"
   ]
  },
  {
   "cell_type": "code",
   "execution_count": 14,
   "metadata": {},
   "outputs": [
    {
     "name": "stdout",
     "output_type": "stream",
     "text": [
      "Total number of rows: 150\n"
     ]
    }
   ],
   "source": [
    "# Calculate and display the number of data-set items\n",
    "print(f'Total number of rows: {len(df)}')"
   ]
  },
  {
   "cell_type": "code",
   "execution_count": 15,
   "metadata": {},
   "outputs": [
    {
     "data": {
      "text/html": [
       "<div>\n",
       "<style scoped>\n",
       "    .dataframe tbody tr th:only-of-type {\n",
       "        vertical-align: middle;\n",
       "    }\n",
       "\n",
       "    .dataframe tbody tr th {\n",
       "        vertical-align: top;\n",
       "    }\n",
       "\n",
       "    .dataframe thead tr th {\n",
       "        text-align: left;\n",
       "    }\n",
       "\n",
       "    .dataframe thead tr:last-of-type th {\n",
       "        text-align: right;\n",
       "    }\n",
       "</style>\n",
       "<table border=\"1\" class=\"dataframe\">\n",
       "  <thead>\n",
       "    <tr>\n",
       "      <th></th>\n",
       "      <th colspan=\"8\" halign=\"left\">sepal length (cm)</th>\n",
       "      <th colspan=\"2\" halign=\"left\">sepal width (cm)</th>\n",
       "      <th>...</th>\n",
       "      <th colspan=\"2\" halign=\"left\">petal length (cm)</th>\n",
       "      <th colspan=\"8\" halign=\"left\">petal width (cm)</th>\n",
       "    </tr>\n",
       "    <tr>\n",
       "      <th></th>\n",
       "      <th>count</th>\n",
       "      <th>mean</th>\n",
       "      <th>std</th>\n",
       "      <th>min</th>\n",
       "      <th>25%</th>\n",
       "      <th>50%</th>\n",
       "      <th>75%</th>\n",
       "      <th>max</th>\n",
       "      <th>count</th>\n",
       "      <th>mean</th>\n",
       "      <th>...</th>\n",
       "      <th>75%</th>\n",
       "      <th>max</th>\n",
       "      <th>count</th>\n",
       "      <th>mean</th>\n",
       "      <th>std</th>\n",
       "      <th>min</th>\n",
       "      <th>25%</th>\n",
       "      <th>50%</th>\n",
       "      <th>75%</th>\n",
       "      <th>max</th>\n",
       "    </tr>\n",
       "    <tr>\n",
       "      <th>label</th>\n",
       "      <th></th>\n",
       "      <th></th>\n",
       "      <th></th>\n",
       "      <th></th>\n",
       "      <th></th>\n",
       "      <th></th>\n",
       "      <th></th>\n",
       "      <th></th>\n",
       "      <th></th>\n",
       "      <th></th>\n",
       "      <th></th>\n",
       "      <th></th>\n",
       "      <th></th>\n",
       "      <th></th>\n",
       "      <th></th>\n",
       "      <th></th>\n",
       "      <th></th>\n",
       "      <th></th>\n",
       "      <th></th>\n",
       "      <th></th>\n",
       "      <th></th>\n",
       "    </tr>\n",
       "  </thead>\n",
       "  <tbody>\n",
       "    <tr>\n",
       "      <th>0</th>\n",
       "      <td>50.0</td>\n",
       "      <td>5.006</td>\n",
       "      <td>0.352490</td>\n",
       "      <td>4.3</td>\n",
       "      <td>4.800</td>\n",
       "      <td>5.0</td>\n",
       "      <td>5.2</td>\n",
       "      <td>5.8</td>\n",
       "      <td>50.0</td>\n",
       "      <td>3.428</td>\n",
       "      <td>...</td>\n",
       "      <td>1.575</td>\n",
       "      <td>1.9</td>\n",
       "      <td>50.0</td>\n",
       "      <td>0.246</td>\n",
       "      <td>0.105386</td>\n",
       "      <td>0.1</td>\n",
       "      <td>0.2</td>\n",
       "      <td>0.2</td>\n",
       "      <td>0.3</td>\n",
       "      <td>0.6</td>\n",
       "    </tr>\n",
       "    <tr>\n",
       "      <th>1</th>\n",
       "      <td>50.0</td>\n",
       "      <td>5.936</td>\n",
       "      <td>0.516171</td>\n",
       "      <td>4.9</td>\n",
       "      <td>5.600</td>\n",
       "      <td>5.9</td>\n",
       "      <td>6.3</td>\n",
       "      <td>7.0</td>\n",
       "      <td>50.0</td>\n",
       "      <td>2.770</td>\n",
       "      <td>...</td>\n",
       "      <td>4.600</td>\n",
       "      <td>5.1</td>\n",
       "      <td>50.0</td>\n",
       "      <td>1.326</td>\n",
       "      <td>0.197753</td>\n",
       "      <td>1.0</td>\n",
       "      <td>1.2</td>\n",
       "      <td>1.3</td>\n",
       "      <td>1.5</td>\n",
       "      <td>1.8</td>\n",
       "    </tr>\n",
       "    <tr>\n",
       "      <th>2</th>\n",
       "      <td>50.0</td>\n",
       "      <td>6.588</td>\n",
       "      <td>0.635880</td>\n",
       "      <td>4.9</td>\n",
       "      <td>6.225</td>\n",
       "      <td>6.5</td>\n",
       "      <td>6.9</td>\n",
       "      <td>7.9</td>\n",
       "      <td>50.0</td>\n",
       "      <td>2.974</td>\n",
       "      <td>...</td>\n",
       "      <td>5.875</td>\n",
       "      <td>6.9</td>\n",
       "      <td>50.0</td>\n",
       "      <td>2.026</td>\n",
       "      <td>0.274650</td>\n",
       "      <td>1.4</td>\n",
       "      <td>1.8</td>\n",
       "      <td>2.0</td>\n",
       "      <td>2.3</td>\n",
       "      <td>2.5</td>\n",
       "    </tr>\n",
       "  </tbody>\n",
       "</table>\n",
       "<p>3 rows × 32 columns</p>\n",
       "</div>"
      ],
      "text/plain": [
       "      sepal length (cm)                                              \\\n",
       "                  count   mean       std  min    25%  50%  75%  max   \n",
       "label                                                                 \n",
       "0                  50.0  5.006  0.352490  4.3  4.800  5.0  5.2  5.8   \n",
       "1                  50.0  5.936  0.516171  4.9  5.600  5.9  6.3  7.0   \n",
       "2                  50.0  6.588  0.635880  4.9  6.225  6.5  6.9  7.9   \n",
       "\n",
       "      sepal width (cm)         ... petal length (cm)      petal width (cm)  \\\n",
       "                 count   mean  ...               75%  max            count   \n",
       "label                          ...                                           \n",
       "0                 50.0  3.428  ...             1.575  1.9             50.0   \n",
       "1                 50.0  2.770  ...             4.600  5.1             50.0   \n",
       "2                 50.0  2.974  ...             5.875  6.9             50.0   \n",
       "\n",
       "                                                 \n",
       "        mean       std  min  25%  50%  75%  max  \n",
       "label                                            \n",
       "0      0.246  0.105386  0.1  0.2  0.2  0.3  0.6  \n",
       "1      1.326  0.197753  1.0  1.2  1.3  1.5  1.8  \n",
       "2      2.026  0.274650  1.4  1.8  2.0  2.3  2.5  \n",
       "\n",
       "[3 rows x 32 columns]"
      ]
     },
     "execution_count": 15,
     "metadata": {},
     "output_type": "execute_result"
    }
   ],
   "source": [
    "# Display statistics grouped by label\n",
    "df.groupby(['label']).describe()"
   ]
  },
  {
   "cell_type": "markdown",
   "metadata": {},
   "source": [
    "<a id=\"gs-explore-data-w-mlrun-func\"></a>\n",
    "### Explore the Data with an MLRun Marketplace Function\n",
    "\n",
    "You can perform further data exploration by leveraging **the MLRun functions marketplace** (a.k.a. \"the MLRun functions hub\").\n",
    "This marketplace is a centralized location for open-source contributions of function components that are commonly used in machine-learning development.\n",
    "The location of the marketplace is configured via the `hub_url` MLRun configuration.\n",
    "By default, it points to the [mlrun/functions](https://github.com/mlrun/functions/) GitHub repository.\n",
    "\n",
    "In this step you'll use the [`describe` marketplace function](https://github.com/mlrun/functions/tree/master/describe), which performs data exploration on a provided data set, to extract information from your data set, analyze it, and visualize relevant information in different ways."
   ]
  },
  {
   "cell_type": "markdown",
   "metadata": {},
   "source": [
    "<a id=\"gs-explore-data-w-mlrun-func-add-func\"></a>\n",
    "#### Add an Exploration Function\n",
    "\n",
    "Use the `set_function` MLRun project method, which adds or updates a function object in a project, to load the `describe` marketplace function into a new `describe` project function. \n",
    "The tutorial code sets the first two `set_function` method parameters:\n",
    "\n",
    "- **`func`** &mdash; identities the function to load.\n",
    "  This parameter can be set to a function object or to the URL of a function specification or code file.\n",
    "  MLRun supports multiple types of URL formats.\n",
    "  The example uses the `hub://...` format to point to the `describe` function-code directory in the MLRun functions marketplace (`'hub://describe'`).\n",
    "- **`name`** &mdash; the name of the project function that is being set.\n",
    "  The example names the project function `describe` (like the name of the marketplace function, although this isn't required).\n",
    "\n",
    "After you add the function project, create a `describe` function object by using `apply(mount_v3io())` to attach an Iguazio Data Science Platform data volume (a.k.a. \"a v3io volume\") to your `describe` project function.\n",
    "This connects your function to the platform's shared file system and allows you to pass data from the platform to the project function and get back the results (plots) directly into your notebook.\n",
    "You can also select to use other supported mount methods &mdash; for example, for using NFS or object storage."
   ]
  },
  {
   "cell_type": "code",
   "execution_count": 16,
   "metadata": {},
   "outputs": [],
   "source": [
    "project.set_function('hub://describe', 'describe')\n",
    "describe = project.func('describe').apply(mount_v3io())"
   ]
  },
  {
   "cell_type": "markdown",
   "metadata": {},
   "source": [
    "<a id=\"gs-explore-data-w-mlrun-func-run-func\"></a>\n",
    "#### Run the Exploration Function\n",
    "\n",
    "Run the following code to execute the `describe` project function as a Kubernetes job by using the MLRun `run` method.\n",
    "The returned run object is stored in a `describe_run` variable.\n",
    "\n",
    "The location of the data set is the only input that you need to provide.\n",
    "This information is provided as a `table` input artifact that points to the `iris_dataset` output artifact of the `get_data` job that you ran in the previous steps (using the job's `get_data_run` run object &mdash; see Step 2)."
   ]
  },
  {
   "cell_type": "code",
   "execution_count": 17,
   "metadata": {},
   "outputs": [
    {
     "name": "stdout",
     "output_type": "stream",
     "text": [
      "[mlrun] 2020-04-23 08:45:56,119 starting run describe-summarize uid=ce7c78851afd4551b045d6f53c805738  -> http://10.199.253.4:8080\n",
      "[mlrun] 2020-04-23 08:45:56,231 Job is running in the background, pod: describe-summarize-m9qdf\n",
      "[mlrun] 2020-04-23 08:46:04,459 log artifact histograms at /User/getting-started-tutorial/jobs/plots/hist.html, size: 282853, db: Y\n",
      "[mlrun] 2020-04-23 08:46:05,019 log artifact imbalance at /User/getting-started-tutorial/jobs/plots/imbalance.html, size: 11716, db: Y\n",
      "[mlrun] 2020-04-23 08:46:05,224 log artifact correlation at /User/getting-started-tutorial/jobs/plots/corr.html, size: 30642, db: Y\n",
      "\n",
      "[mlrun] 2020-04-23 08:46:05,309 run executed, status=completed\n",
      "/opt/conda/lib/python3.7/site-packages/sklearn/utils/deprecation.py:144: FutureWarning: The sklearn.metrics.classification module is  deprecated in version 0.22 and will be removed in version 0.24. The corresponding classes / functions should instead be imported from sklearn.metrics. Anything that cannot be imported from sklearn.metrics is now part of the private API.\n",
      "  warnings.warn(message, FutureWarning)\n",
      "final state: succeeded\n"
     ]
    },
    {
     "data": {
      "text/html": [
       "<style> \n",
       ".dictlist {\n",
       "  background-color: #b3edff; \n",
       "  text-align: center; \n",
       "  margin: 4px; \n",
       "  border-radius: 3px; padding: 0px 3px 1px 3px; display: inline-block;}\n",
       ".artifact {\n",
       "  cursor: pointer; \n",
       "  background-color: #ffe6cc; \n",
       "  text-align: left; \n",
       "  margin: 4px; border-radius: 3px; padding: 0px 3px 1px 3px; display: inline-block;\n",
       "}\n",
       "div.block.hidden {\n",
       "  display: none;\n",
       "}\n",
       ".clickable {\n",
       "  cursor: pointer;\n",
       "}\n",
       ".ellipsis {\n",
       "  display: inline-block;\n",
       "  max-width: 60px;\n",
       "  white-space: nowrap;\n",
       "  overflow: hidden;\n",
       "  text-overflow: ellipsis;\n",
       "}\n",
       ".master-wrapper {\n",
       "  display: flex;\n",
       "  flex-flow: row nowrap;\n",
       "  justify-content: flex-start;\n",
       "  align-items: stretch;\n",
       "}\n",
       ".master-tbl {\n",
       "  flex: 3\n",
       "}\n",
       ".master-wrapper > div {\n",
       "  margin: 4px;\n",
       "  padding: 10px;\n",
       "}\n",
       "iframe.fileview {\n",
       "  border: 0 none;\n",
       "  height: 100%;\n",
       "  width: 100%;\n",
       "  white-space: pre-wrap;\n",
       "}\n",
       ".pane-header-title {\n",
       "  width: 80%;\n",
       "  font-weight: 500;\n",
       "}\n",
       ".pane-header {\n",
       "  line-height: 1;\n",
       "  background-color: #ffe6cc;\n",
       "  padding: 3px;\n",
       "}\n",
       ".pane-header .close {\n",
       "  font-size: 20px;\n",
       "  font-weight: 700;\n",
       "  float: right;\n",
       "  margin-top: -5px;\n",
       "}\n",
       ".master-wrapper .right-pane {\n",
       "  border: 1px inset silver;\n",
       "  width: 40%;\n",
       "  min-height: 300px;\n",
       "  flex: 3\n",
       "  min-width: 500px;\n",
       "}\n",
       ".master-wrapper * {\n",
       "  box-sizing: border-box;\n",
       "}\n",
       "</style><script>\n",
       "function copyToClipboard(fld) {\n",
       "    if (document.queryCommandSupported && document.queryCommandSupported('copy')) {\n",
       "        var textarea = document.createElement('textarea');\n",
       "        textarea.textContent = fld.innerHTML;\n",
       "        textarea.style.position = 'fixed';\n",
       "        document.body.appendChild(textarea);\n",
       "        textarea.select();\n",
       "\n",
       "        try {\n",
       "            return document.execCommand('copy'); // Security exception may be thrown by some browsers.\n",
       "        } catch (ex) {\n",
       "\n",
       "        } finally {\n",
       "            document.body.removeChild(textarea);\n",
       "        }\n",
       "    }\n",
       "}\n",
       "function expandPanel(el) {\n",
       "  const panelName = \"#\" + el.getAttribute('paneName');\n",
       "  console.log(el.title);\n",
       "\n",
       "  document.querySelector(panelName + \"-title\").innerHTML = el.title\n",
       "  iframe = document.querySelector(panelName + \"-body\");\n",
       "  \n",
       "  const tblcss = `<style> body { font-family: Arial, Helvetica, sans-serif;}\n",
       "    #csv { margin-bottom: 15px; }\n",
       "    #csv table { border-collapse: collapse;}\n",
       "    #csv table td { padding: 4px 8px; border: 1px solid silver;} </style>`;\n",
       "\n",
       "  function csvToHtmlTable(str) {\n",
       "    return '<div id=\"csv\"><table><tr><td>' +  str.replace(/[\\n\\r]+$/g, '').replace(/[\\n\\r]+/g, '</td></tr><tr><td>')\n",
       "      .replace(/,/g, '</td><td>') + '</td></tr></table></div>';\n",
       "  }\n",
       "  \n",
       "  function reqListener () {\n",
       "    if (el.title.endsWith(\".csv\")) {\n",
       "      iframe.setAttribute(\"srcdoc\", tblcss + csvToHtmlTable(this.responseText));\n",
       "    } else {\n",
       "      iframe.setAttribute(\"srcdoc\", this.responseText);\n",
       "    }  \n",
       "    console.log(this.responseText);\n",
       "  }\n",
       "\n",
       "  const oReq = new XMLHttpRequest();\n",
       "  oReq.addEventListener(\"load\", reqListener);\n",
       "  oReq.open(\"GET\", el.title);\n",
       "  oReq.send();\n",
       "  \n",
       "  \n",
       "  //iframe.src = el.title;\n",
       "  const resultPane = document.querySelector(panelName + \"-pane\");\n",
       "  if (resultPane.classList.contains(\"hidden\")) {\n",
       "    resultPane.classList.remove(\"hidden\");\n",
       "  }\n",
       "}\n",
       "function closePanel(el) {\n",
       "  const panelName = \"#\" + el.getAttribute('paneName')\n",
       "  const resultPane = document.querySelector(panelName + \"-pane\");\n",
       "  if (!resultPane.classList.contains(\"hidden\")) {\n",
       "    resultPane.classList.add(\"hidden\");\n",
       "  }\n",
       "}\n",
       "\n",
       "</script>\n",
       "<div class=\"master-wrapper\">\n",
       "  <div class=\"block master-tbl\"><div>\n",
       "<style scoped>\n",
       "    .dataframe tbody tr th:only-of-type {\n",
       "        vertical-align: middle;\n",
       "    }\n",
       "\n",
       "    .dataframe tbody tr th {\n",
       "        vertical-align: top;\n",
       "    }\n",
       "\n",
       "    .dataframe thead th {\n",
       "        text-align: right;\n",
       "    }\n",
       "</style>\n",
       "<table border=\"1\" class=\"dataframe\">\n",
       "  <thead>\n",
       "    <tr style=\"text-align: right;\">\n",
       "      <th>project</th>\n",
       "      <th>uid</th>\n",
       "      <th>iter</th>\n",
       "      <th>start</th>\n",
       "      <th>state</th>\n",
       "      <th>name</th>\n",
       "      <th>labels</th>\n",
       "      <th>inputs</th>\n",
       "      <th>parameters</th>\n",
       "      <th>results</th>\n",
       "      <th>artifacts</th>\n",
       "    </tr>\n",
       "  </thead>\n",
       "  <tbody>\n",
       "    <tr>\n",
       "      <td>getting-started-iris-iguazio</td>\n",
       "      <td><div title=\"ce7c78851afd4551b045d6f53c805738\"><a href=\"https://mlrun-ui.default-tenant.app.dev34.lab.iguazeng.com/projects/getting-started-iris-iguazio/jobs/ce7c78851afd4551b045d6f53c805738/info\" target=\"_blank\" >...3c805738</a></div></td>\n",
       "      <td>0</td>\n",
       "      <td>Apr 23 08:46:00</td>\n",
       "      <td>completed</td>\n",
       "      <td>describe-summarize</td>\n",
       "      <td><div class=\"dictlist\">host=describe-summarize-m9qdf</div><div class=\"dictlist\">kind=job</div><div class=\"dictlist\">owner=iguazio</div><div class=\"dictlist\">v3io_user=iguazio</div></td>\n",
       "      <td><div class=\"artifact\" onclick=\"expandPanel(this)\" paneName=\"resultd02efc9e\" title=\"/files/getting-started-tutorial/jobs/data/iris_dataset.csv\">table</div></td>\n",
       "      <td><div class=\"dictlist\">label_column=label</div></td>\n",
       "      <td><div class=\"dictlist\">scale_pos_weight=1.00</div></td>\n",
       "      <td><div class=\"artifact\" onclick=\"expandPanel(this)\" paneName=\"resultd02efc9e\" title=\"/files/getting-started-tutorial/jobs/plots/hist.html\">histograms</div><div class=\"artifact\" onclick=\"expandPanel(this)\" paneName=\"resultd02efc9e\" title=\"/files/getting-started-tutorial/jobs/plots/imbalance.html\">imbalance</div><div class=\"artifact\" onclick=\"expandPanel(this)\" paneName=\"resultd02efc9e\" title=\"/files/getting-started-tutorial/jobs/plots/corr.html\">correlation</div></td>\n",
       "    </tr>\n",
       "  </tbody>\n",
       "</table>\n",
       "</div></div>\n",
       "  <div id=\"resultd02efc9e-pane\" class=\"right-pane block hidden\">\n",
       "    <div class=\"pane-header\">\n",
       "      <span id=\"resultd02efc9e-title\" class=\"pane-header-title\">Title</span>\n",
       "      <span onclick=\"closePanel(this)\" paneName=\"resultd02efc9e\" class=\"close clickable\">&times;</span>\n",
       "    </div>\n",
       "    <iframe class=\"fileview\" id=\"resultd02efc9e-body\"></iframe>\n",
       "  </div>\n",
       "</div>\n"
      ],
      "text/plain": [
       "<IPython.core.display.HTML object>"
      ]
     },
     "metadata": {},
     "output_type": "display_data"
    },
    {
     "name": "stdout",
     "output_type": "stream",
     "text": [
      "to track results use .show() or .logs() or in CLI: \n",
      "!mlrun get run ce7c78851afd4551b045d6f53c805738 --project getting-started-iris-iguazio , !mlrun logs ce7c78851afd4551b045d6f53c805738 --project getting-started-iris-iguazio\n",
      "[mlrun] 2020-04-23 08:46:08,464 run executed, status=completed\n"
     ]
    }
   ],
   "source": [
    "describe_run = describe.run(params={'label_column': 'label'},\n",
    "                            inputs={\"table\":\n",
    "                                    get_data_run.outputs['iris_dataset']},\n",
    "                            artifact_path=artifact_path)"
   ]
  },
  {
   "cell_type": "markdown",
   "metadata": {},
   "source": [
    "<a id=\"gs-explore-data-w-mlrun-func-run-output-review\"></a>\n",
    "#### Review the Run Output\n",
    "\n",
    "The output cell for your code execution contains a run-information table.\n",
    "You can also view run information in the MLRun dashboard; see the output-review information in Step 2, only this time look for the `describe-summarize` job and related artifacts.\n",
    "\n",
    "The `describe` function generates three HTML output artifacts, which provide visual insights for your data set &mdash; `histograms`, `imbalance`, and `correlation`.\n",
    "The artifacts are stored as HTML files in your project's artifacts directory, under **/User/getting-started-tutorial/jobs/plots/**.\n",
    "The following code displays the artifact files in the notebook."
   ]
  },
  {
   "cell_type": "code",
   "execution_count": 18,
   "metadata": {},
   "outputs": [
    {
     "data": {
      "text/html": [
       "<h3>Histograms</h3>"
      ],
      "text/plain": [
       "<IPython.core.display.HTML object>"
      ]
     },
     "metadata": {},
     "output_type": "display_data"
    },
    {
     "data": {
      "text/html": [
       "<img title=\"histograms\" src=\"data:image/png;base64,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\">"
      ],
      "text/plain": [
       "<IPython.core.display.HTML object>"
      ]
     },
     "metadata": {},
     "output_type": "display_data"
    }
   ],
   "source": [
    "from IPython.display import display, HTML\n",
    "\n",
    "# Display the `histograms` artifact\n",
    "display(HTML('<h3>Histograms</h3>'), HTML(describe_run.outputs['histograms']))"
   ]
  },
  {
   "cell_type": "code",
   "execution_count": 19,
   "metadata": {},
   "outputs": [
    {
     "data": {
      "text/html": [
       "<h3>Imbalance<h3>"
      ],
      "text/plain": [
       "<IPython.core.display.HTML object>"
      ]
     },
     "metadata": {},
     "output_type": "display_data"
    },
    {
     "data": {
      "text/html": [
       "<img title=\"imbalance\" src=\"data:image/png;base64,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\">"
      ],
      "text/plain": [
       "<IPython.core.display.HTML object>"
      ]
     },
     "metadata": {},
     "output_type": "display_data"
    }
   ],
   "source": [
    "# Display the `imbalance` artifact\n",
    "display(HTML('<h3>Imbalance<h3>'),\n",
    "        HTML(filename=describe_run.outputs['imbalance']))"
   ]
  },
  {
   "cell_type": "code",
   "execution_count": 20,
   "metadata": {},
   "outputs": [
    {
     "data": {
      "text/html": [
       "<h3>Correlation Matrix<h3>"
      ],
      "text/plain": [
       "<IPython.core.display.HTML object>"
      ]
     },
     "metadata": {},
     "output_type": "display_data"
    },
    {
     "data": {
      "text/html": [
       "<img title=\"correlation\" src=\"data:image/png;base64,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\">"
      ],
      "text/plain": [
       "<IPython.core.display.HTML object>"
      ]
     },
     "metadata": {},
     "output_type": "display_data"
    }
   ],
   "source": [
    "# Display the `correlation` artifact\n",
    "display(HTML('<h3>Correlation Matrix<h3>'),\n",
    "        HTML(filename=describe_run.outputs['correlation']))"
   ]
  },
  {
   "cell_type": "markdown",
   "metadata": {},
   "source": [
    "<a id=\"gs-step-run-model-training\"></a>\n",
    "## Step 4: Run Model Training at Scale\n",
    "\n",
    "It's time to train your model.\n",
    "Start by adding a training project function that uses the [`sklearn_classifier` MLRun marketplace function](https://github.com/mlrun/functions/tree/master/sklearn_classifier) to train three scikit-learn models; (you can use this function to train any scikit-learn model).\n",
    "Then, use an MLRun task to run your function in order to train and evaluate the models and select the optimal model."
   ]
  },
  {
   "cell_type": "markdown",
   "metadata": {},
   "source": [
    "<a id=\"gs-train-model-add-func\"></a>\n",
    "#### Add a Training Function\n",
    "\n",
    "Run the following code to add to your project a `train` function that uses the `sklearn_classifier` marketplace function code, and create a related `train` function object."
   ]
  },
  {
   "cell_type": "code",
   "execution_count": 21,
   "metadata": {},
   "outputs": [],
   "source": [
    "project.set_function('hub://sklearn_classifier', 'train')\n",
    "train = project.func('train').apply(mount_v3io())"
   ]
  },
  {
   "cell_type": "markdown",
   "metadata": {},
   "source": [
    "<a id=\"gs-train-model-run-task\"></a>\n",
    "#### Run a Model-Training Task\n",
    "\n",
    "The following code uses the MLRun `NewTask` method to create a new `train` MLRun task and a related `train_task` task object for executing the `train` project function.\n",
    "An MLRun **task** defines the parameters, inputs, and outputs of a logical job or task to execute.\n",
    "The advantage of tasks is that they're independent of the runtime environment.\n",
    "Hence, you can define a task once and use it in different scenarios.\n",
    "\n",
    "The `NewTask` `inputs` parameter is set to the `iris_dataset` data set, as stored in the output artifacts of the previously executed `get_data` job.\n",
    "The `test_size` training parameter (`params.test_size`) is set to 0.10.\n",
    "This means that the `iris_dataset` data set will make up 90% of the training data set, and the remaining 10% will be the scikit-learn test data set.\n",
    "\n",
    "The `train_task` task (and therefore the `train` function) is executed by using the `run` method.\n",
    "The returned run object is stored in a `train_run` variable.\n",
    "\n",
    "The code uses the `with_hyper_params` task method, which enables running multiple iterations of the same task with different parameter combinations, comparing the results, and selecting the optimal combination based on the specified selection criteria.\n",
    "In this example, there's a single `models` parameter with different values (model names) so as to compare multiple models; the model with the most accurate training results is selected as the optimal model.\n",
    "The `with_hyper_params` method receives the following parameters\n",
    "\n",
    "- **`hyperparams`** &mdash; a dictionary of parameter names and parameter-values lists.\n",
    "  The example defines a single hyperparameter named `model_pkg_class`, and sets its value to a `models` variable that contains a list of three scikit-learn models to train and evaluate. \n",
    "- **`selector`** &mdash; a string of the format `'<min/max>.<validation criterion>'`, which defines a selection criterion for selecting the winning run iteration.\n",
    "  For example, `\"max.accuracy\"` selects the iteration with the most accurate results while `\"min.loss\"` selects the iteration with minimum loss.\n",
    "  The example uses the `max.accuracy` selector to select the model with the most accurate training results."
   ]
  },
  {
   "cell_type": "code",
   "execution_count": 22,
   "metadata": {},
   "outputs": [],
   "source": [
    "# Configure the models to train\n",
    "models = [\"sklearn.ensemble.RandomForestClassifier\", \n",
    "          \"sklearn.linear_model.LogisticRegression\",\n",
    "          \"sklearn.ensemble.AdaBoostClassifier\"]"
   ]
  },
  {
   "cell_type": "code",
   "execution_count": 23,
   "metadata": {},
   "outputs": [
    {
     "name": "stdout",
     "output_type": "stream",
     "text": [
      "[mlrun] 2020-04-23 08:46:08,981 starting run train uid=ed912028d9aa487089a3418b80392b51  -> http://10.199.253.4:8080\n",
      "[mlrun] 2020-04-23 08:46:09,180 Job is running in the background, pod: train-9jgvn\n",
      "No handles with labels found to put in legend.\n",
      "/opt/conda/lib/python3.7/site-packages/sklearn/linear_model/_logistic.py:940: ConvergenceWarning: lbfgs failed to converge (status=1):\n",
      "STOP: TOTAL NO. of ITERATIONS REACHED LIMIT.\n",
      "\n",
      "Increase the number of iterations (max_iter) or scale the data as shown in:\n",
      "    https://scikit-learn.org/stable/modules/preprocessing.html\n",
      "Please also refer to the documentation for alternative solver options:\n",
      "    https://scikit-learn.org/stable/modules/linear_model.html#logistic-regression\n",
      "  extra_warning_msg=_LOGISTIC_SOLVER_CONVERGENCE_MSG)\n",
      "No handles with labels found to put in legend.\n",
      "No handles with labels found to put in legend.\n",
      "> --------------- Iteration: (1) ---------------\n",
      "[mlrun] 2020-04-23 08:46:13,923 log artifact test_set at /User/getting-started-tutorial/jobs/1/test_set.parquet, size: 4278, db: Y\n",
      "[mlrun] 2020-04-23 08:46:14,157 log artifact model at /User/getting-started-tutorial/jobs/1/models/model.pkl, size: 125562, db: Y\n",
      "[mlrun] 2020-04-23 08:46:14,373 log artifact roc at /User/getting-started-tutorial/jobs/1/plots/train/roc.html, size: 31106, db: Y\n",
      "[mlrun] 2020-04-23 08:46:14,546 log artifact confusion at /User/getting-started-tutorial/jobs/1/plots/train/confusion.html, size: 20612, db: Y\n",
      "\n",
      "> --------------- Iteration: (2) ---------------\n",
      "[mlrun] 2020-04-23 08:46:14,658 log artifact test_set at /User/getting-started-tutorial/jobs/2/test_set.parquet, size: 4278, db: Y\n",
      "[mlrun] 2020-04-23 08:46:14,704 log artifact model at /User/getting-started-tutorial/jobs/2/models/model.pkl, size: 816, db: Y\n",
      "[mlrun] 2020-04-23 08:46:14,871 log artifact roc at /User/getting-started-tutorial/jobs/2/plots/train/roc.html, size: 31106, db: Y\n",
      "[mlrun] 2020-04-23 08:46:15,027 log artifact confusion at /User/getting-started-tutorial/jobs/2/plots/train/confusion.html, size: 20612, db: Y\n",
      "\n",
      "> --------------- Iteration: (3) ---------------\n",
      "[mlrun] 2020-04-23 08:46:15,118 log artifact test_set at /User/getting-started-tutorial/jobs/3/test_set.parquet, size: 4278, db: Y\n",
      "[mlrun] 2020-04-23 08:46:15,225 log artifact model at /User/getting-started-tutorial/jobs/3/models/model.pkl, size: 29487, db: Y\n",
      "[mlrun] 2020-04-23 08:46:15,416 log artifact roc at /User/getting-started-tutorial/jobs/3/plots/train/roc.html, size: 31642, db: Y\n",
      "[mlrun] 2020-04-23 08:46:15,583 log artifact confusion at /User/getting-started-tutorial/jobs/3/plots/train/confusion.html, size: 22160, db: Y\n",
      "\n",
      "[mlrun] 2020-04-23 08:46:15,664 log artifact iteration_results at /User/getting-started-tutorial/jobs/iteration_results.csv, size: 489, db: Y\n",
      "[mlrun] 2020-04-23 08:46:15,690 run executed, status=completed\n",
      "final state: succeeded\n"
     ]
    },
    {
     "data": {
      "text/html": [
       "<style> \n",
       ".dictlist {\n",
       "  background-color: #b3edff; \n",
       "  text-align: center; \n",
       "  margin: 4px; \n",
       "  border-radius: 3px; padding: 0px 3px 1px 3px; display: inline-block;}\n",
       ".artifact {\n",
       "  cursor: pointer; \n",
       "  background-color: #ffe6cc; \n",
       "  text-align: left; \n",
       "  margin: 4px; border-radius: 3px; padding: 0px 3px 1px 3px; display: inline-block;\n",
       "}\n",
       "div.block.hidden {\n",
       "  display: none;\n",
       "}\n",
       ".clickable {\n",
       "  cursor: pointer;\n",
       "}\n",
       ".ellipsis {\n",
       "  display: inline-block;\n",
       "  max-width: 60px;\n",
       "  white-space: nowrap;\n",
       "  overflow: hidden;\n",
       "  text-overflow: ellipsis;\n",
       "}\n",
       ".master-wrapper {\n",
       "  display: flex;\n",
       "  flex-flow: row nowrap;\n",
       "  justify-content: flex-start;\n",
       "  align-items: stretch;\n",
       "}\n",
       ".master-tbl {\n",
       "  flex: 3\n",
       "}\n",
       ".master-wrapper > div {\n",
       "  margin: 4px;\n",
       "  padding: 10px;\n",
       "}\n",
       "iframe.fileview {\n",
       "  border: 0 none;\n",
       "  height: 100%;\n",
       "  width: 100%;\n",
       "  white-space: pre-wrap;\n",
       "}\n",
       ".pane-header-title {\n",
       "  width: 80%;\n",
       "  font-weight: 500;\n",
       "}\n",
       ".pane-header {\n",
       "  line-height: 1;\n",
       "  background-color: #ffe6cc;\n",
       "  padding: 3px;\n",
       "}\n",
       ".pane-header .close {\n",
       "  font-size: 20px;\n",
       "  font-weight: 700;\n",
       "  float: right;\n",
       "  margin-top: -5px;\n",
       "}\n",
       ".master-wrapper .right-pane {\n",
       "  border: 1px inset silver;\n",
       "  width: 40%;\n",
       "  min-height: 300px;\n",
       "  flex: 3\n",
       "  min-width: 500px;\n",
       "}\n",
       ".master-wrapper * {\n",
       "  box-sizing: border-box;\n",
       "}\n",
       "</style><script>\n",
       "function copyToClipboard(fld) {\n",
       "    if (document.queryCommandSupported && document.queryCommandSupported('copy')) {\n",
       "        var textarea = document.createElement('textarea');\n",
       "        textarea.textContent = fld.innerHTML;\n",
       "        textarea.style.position = 'fixed';\n",
       "        document.body.appendChild(textarea);\n",
       "        textarea.select();\n",
       "\n",
       "        try {\n",
       "            return document.execCommand('copy'); // Security exception may be thrown by some browsers.\n",
       "        } catch (ex) {\n",
       "\n",
       "        } finally {\n",
       "            document.body.removeChild(textarea);\n",
       "        }\n",
       "    }\n",
       "}\n",
       "function expandPanel(el) {\n",
       "  const panelName = \"#\" + el.getAttribute('paneName');\n",
       "  console.log(el.title);\n",
       "\n",
       "  document.querySelector(panelName + \"-title\").innerHTML = el.title\n",
       "  iframe = document.querySelector(panelName + \"-body\");\n",
       "  \n",
       "  const tblcss = `<style> body { font-family: Arial, Helvetica, sans-serif;}\n",
       "    #csv { margin-bottom: 15px; }\n",
       "    #csv table { border-collapse: collapse;}\n",
       "    #csv table td { padding: 4px 8px; border: 1px solid silver;} </style>`;\n",
       "\n",
       "  function csvToHtmlTable(str) {\n",
       "    return '<div id=\"csv\"><table><tr><td>' +  str.replace(/[\\n\\r]+$/g, '').replace(/[\\n\\r]+/g, '</td></tr><tr><td>')\n",
       "      .replace(/,/g, '</td><td>') + '</td></tr></table></div>';\n",
       "  }\n",
       "  \n",
       "  function reqListener () {\n",
       "    if (el.title.endsWith(\".csv\")) {\n",
       "      iframe.setAttribute(\"srcdoc\", tblcss + csvToHtmlTable(this.responseText));\n",
       "    } else {\n",
       "      iframe.setAttribute(\"srcdoc\", this.responseText);\n",
       "    }  \n",
       "    console.log(this.responseText);\n",
       "  }\n",
       "\n",
       "  const oReq = new XMLHttpRequest();\n",
       "  oReq.addEventListener(\"load\", reqListener);\n",
       "  oReq.open(\"GET\", el.title);\n",
       "  oReq.send();\n",
       "  \n",
       "  \n",
       "  //iframe.src = el.title;\n",
       "  const resultPane = document.querySelector(panelName + \"-pane\");\n",
       "  if (resultPane.classList.contains(\"hidden\")) {\n",
       "    resultPane.classList.remove(\"hidden\");\n",
       "  }\n",
       "}\n",
       "function closePanel(el) {\n",
       "  const panelName = \"#\" + el.getAttribute('paneName')\n",
       "  const resultPane = document.querySelector(panelName + \"-pane\");\n",
       "  if (!resultPane.classList.contains(\"hidden\")) {\n",
       "    resultPane.classList.add(\"hidden\");\n",
       "  }\n",
       "}\n",
       "\n",
       "</script>\n",
       "<div class=\"master-wrapper\">\n",
       "  <div class=\"block master-tbl\"><div>\n",
       "<style scoped>\n",
       "    .dataframe tbody tr th:only-of-type {\n",
       "        vertical-align: middle;\n",
       "    }\n",
       "\n",
       "    .dataframe tbody tr th {\n",
       "        vertical-align: top;\n",
       "    }\n",
       "\n",
       "    .dataframe thead th {\n",
       "        text-align: right;\n",
       "    }\n",
       "</style>\n",
       "<table border=\"1\" class=\"dataframe\">\n",
       "  <thead>\n",
       "    <tr style=\"text-align: right;\">\n",
       "      <th>project</th>\n",
       "      <th>uid</th>\n",
       "      <th>iter</th>\n",
       "      <th>start</th>\n",
       "      <th>state</th>\n",
       "      <th>name</th>\n",
       "      <th>labels</th>\n",
       "      <th>inputs</th>\n",
       "      <th>parameters</th>\n",
       "      <th>results</th>\n",
       "      <th>artifacts</th>\n",
       "    </tr>\n",
       "  </thead>\n",
       "  <tbody>\n",
       "    <tr>\n",
       "      <td>getting-started-iris-iguazio</td>\n",
       "      <td><div title=\"ed912028d9aa487089a3418b80392b51\"><a href=\"https://mlrun-ui.default-tenant.app.dev34.lab.iguazeng.com/projects/getting-started-iris-iguazio/jobs/ed912028d9aa487089a3418b80392b51/info\" target=\"_blank\" >...80392b51</a></div></td>\n",
       "      <td>0</td>\n",
       "      <td>Apr 23 08:46:13</td>\n",
       "      <td>completed</td>\n",
       "      <td>train</td>\n",
       "      <td><div class=\"dictlist\">kind=job</div><div class=\"dictlist\">owner=iguazio</div><div class=\"dictlist\">v3io_user=iguazio</div></td>\n",
       "      <td><div class=\"artifact\" onclick=\"expandPanel(this)\" paneName=\"result49e05968\" title=\"/files/getting-started-tutorial/jobs/data/iris_dataset.csv\">dataset</div></td>\n",
       "      <td><div class=\"dictlist\">label_column=label</div><div class=\"dictlist\">sample=-1</div><div class=\"dictlist\">test_size=0.1</div></td>\n",
       "      <td><div class=\"dictlist\">accuracy=0.9705882352941176</div><div class=\"dictlist\">best_iteration=1</div><div class=\"dictlist\">f1_score=0.9705882352941176</div><div class=\"dictlist\">rocauc=0.9945117845117846</div></td>\n",
       "      <td><div title=\"/User/getting-started-tutorial/jobs/1/test_set.parquet\">test_set</div><div title=\"/User/getting-started-tutorial/jobs/1/models/model.pkl\">model</div><div class=\"artifact\" onclick=\"expandPanel(this)\" paneName=\"result49e05968\" title=\"/files/getting-started-tutorial/jobs/1/plots/train/roc.html\">roc</div><div class=\"artifact\" onclick=\"expandPanel(this)\" paneName=\"result49e05968\" title=\"/files/getting-started-tutorial/jobs/1/plots/train/confusion.html\">confusion</div><div class=\"artifact\" onclick=\"expandPanel(this)\" paneName=\"result49e05968\" title=\"/files/getting-started-tutorial/jobs/iteration_results.csv\">iteration_results</div></td>\n",
       "    </tr>\n",
       "  </tbody>\n",
       "</table>\n",
       "</div></div>\n",
       "  <div id=\"result49e05968-pane\" class=\"right-pane block hidden\">\n",
       "    <div class=\"pane-header\">\n",
       "      <span id=\"result49e05968-title\" class=\"pane-header-title\">Title</span>\n",
       "      <span onclick=\"closePanel(this)\" paneName=\"result49e05968\" class=\"close clickable\">&times;</span>\n",
       "    </div>\n",
       "    <iframe class=\"fileview\" id=\"result49e05968-body\"></iframe>\n",
       "  </div>\n",
       "</div>\n"
      ],
      "text/plain": [
       "<IPython.core.display.HTML object>"
      ]
     },
     "metadata": {},
     "output_type": "display_data"
    },
    {
     "name": "stdout",
     "output_type": "stream",
     "text": [
      "to track results use .show() or .logs() or in CLI: \n",
      "!mlrun get run ed912028d9aa487089a3418b80392b51 --project getting-started-iris-iguazio , !mlrun logs ed912028d9aa487089a3418b80392b51 --project getting-started-iris-iguazio\n",
      "[mlrun] 2020-04-23 08:46:18,465 run executed, status=completed\n"
     ]
    }
   ],
   "source": [
    "# Create a training task\n",
    "train_task = NewTask(name=\"train\",\n",
    "                     params={\"sample\": -1,\n",
    "                             \"label_column\": \"label\",\n",
    "                             \"test_size\": 0.10},\n",
    "                     inputs={\"dataset\": get_data_run.outputs['iris_dataset']})\n",
    "\n",
    "# Run the training task\n",
    "train_run = train.run(train_task.with_hyper_params({'model_pkg_class': models},\n",
    "                                                   selector='max.accuracy'),\n",
    "                      artifact_path=artifact_path)"
   ]
  },
  {
   "cell_type": "markdown",
   "metadata": {},
   "source": [
    "<a id=\"gs-train-model-run-output-review\"></a>\n",
    "### Review the Run Output\n",
    "\n",
    "As with the previous executions, you can view extensive run information and artifacts from Jupyter Notebook and the MLRun dashboard, as well as browse the task artifacts from the platform dashboard.\n",
    "See the output-review information in the previous steps.\n",
    "\n",
    "Your project's artifacts directory (**/User/getting-started-tutorial/jobs**) contains an **iteration_results.csv** output artifact with the results for the training-task run iterations, and **&lt;iteration number&gt;** subdirectories with the artifacts for all the run iterations (i.e., for each evaluated model).<br>\n",
    "The **plots** subdirectory has HTML output artifacts for the selected run iteration; (the **tests** subdirectory contains the artifacts for the test data set).\n",
    "\n",
    "Use the following code to extract and display information from the run object &mdash; the name of the selected trained model, the best accuracy that was achieved with this model, and the `confusion` and `roc` HTML output artifacts for the optimal run iteration."
   ]
  },
  {
   "cell_type": "code",
   "execution_count": 24,
   "metadata": {},
   "outputs": [
    {
     "data": {
      "text/html": [
       "<b>Best model:</b> sklearn.linear_model.LogisticRegression"
      ],
      "text/plain": [
       "<IPython.core.display.HTML object>"
      ]
     },
     "metadata": {},
     "output_type": "display_data"
    },
    {
     "data": {
      "text/html": [
       "<b>Accuracy:</b> 0.9705882352941176"
      ],
      "text/plain": [
       "<IPython.core.display.HTML object>"
      ]
     },
     "metadata": {},
     "output_type": "display_data"
    },
    {
     "data": {
      "text/html": [
       "<h3>Confusion Matrix:</h3>"
      ],
      "text/plain": [
       "<IPython.core.display.HTML object>"
      ]
     },
     "metadata": {},
     "output_type": "display_data"
    },
    {
     "data": {
      "text/html": [
       "<img title=\"confusion\" src=\"data:image/png;base64,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\">"
      ],
      "text/plain": [
       "<IPython.core.display.HTML object>"
      ]
     },
     "metadata": {},
     "output_type": "display_data"
    },
    {
     "data": {
      "text/html": [
       "<h3>ROC Curve:</h3>"
      ],
      "text/plain": [
       "<IPython.core.display.HTML object>"
      ]
     },
     "metadata": {},
     "output_type": "display_data"
    },
    {
     "data": {
      "text/html": [
       "<img title=\"roc\" src=\"data:image/png;base64,iVBORw0KGgoAAAANSUhEUgAAAoAAAAHgCAYAAAA10dzkAAAABHNCSVQICAgIfAhkiAAAAAlwSFlzAAAPYQAAD2EBqD+naQAAADh0RVh0U29mdHdhcmUAbWF0cGxvdGxpYiB2ZXJzaW9uMy4xLjMsIGh0dHA6Ly9tYXRwbG90bGliLm9yZy+AADFEAAAgAElEQVR4nOzdeViU5cIG8HvYQVZFUBHEtBKXUMEFcDkYIuSSW6AkImouqRlGBrmGC6UexcQN19xQTCoztNDcdwU0NTWSREUUUXYBmXm/P/ycEwGGCjzDzP27rrku5pl33rmnzomb53kXmSRJEoiIiIhIY2iJDkBERERENYsFkIiIiEjDsAASERERaRgWQCIiIiINwwJIREREpGFYAImIiIg0DAsgERERkYZhASQiIiLSMCyARERERBqGBZCIiIhIw7AAEhEREWkYFkAiIiIiDcMCSERERKRhWACJiIiINAwLIBEREZGGYQEkIiIi0jAsgEREREQahgWQiIiISMOwABIRERFpGBZAIiIiIg3DAkhERESkYVgAiYiIiDQMCyARERGRhmEBJCIiItIwLIBEREREGoYFkIiIiEjDsAASERERaRgWQCIiIiINwwJIREREpGFYAImIiIg0DAsgERERkYZhASQiIiLSMCyARERERBqGBZCIiIhIw7AAEhEREWkYFkAiIiIiDcMCSERERKRhWACJiIiINAwLIBGppIKCAtERqow6fRciUg8sgEQk3OzZsyGTyZCQkIDBgwfDwsICzZo1U76+e/duuLi4wMjICCYmJujZsydOnjxZZj9Xr17F0KFDYW1tDX19fdjZ2WH48OEoKip67ucXFRUhLCwMDg4OMDAwQL169eDu7o4TJ04AAP766y/IZDJs3LixzHtlMhlmz579r98lIiICMpkMycnJZfbx2WefQU9PDw8ePFCO7d+/H2+//TZMTU1hZGQENzc3HDhw4N/+URIRVQoLIBGpjIEDB6J58+bYuXMnVq1aBQDYtm0b3n33XZiamiI6Ohrr1q3Do0eP8J///AfHjh1TvvfChQvo0KEDTp06hbCwMOzduxfh4eEoKipCcXFxhZ9ZUlICb29vzJkzB3369MF3332HjRs3wtXVFampqVX2XYYNGwY9Pb0yJVIul2PLli3o27cvLC0tAQBbtmyBp6cnTE1N8c033yAmJgZ169ZFr169WAKJqGpIRESCzZo1SwIgzZw5s9S4XC6XGjVqJLVp00aSy+XK8dzcXMnKykpydXVVjvXo0UMyNzeX7t+//0KfvWnTJgmAtGbNmgq3SUlJkQBIGzZsKPMaAGnWrFn/+l0kSZIGDhwoNW7cuNR3iYuLkwBIP/74oyRJkpSfny/VrVtX6tu3b6n3yuVyydHRUerYseMLfT8iovJwBpCIVMagQYNKPb927RrS0tLg7+8PLa3//efK2NgYgwYNwqlTp1BQUICCggIcPnwYPj4+qF+//gt95t69e2FgYICRI0dWyXd45p/fBQACAwNx+/Zt7N+/Xzm2YcMGNGjQAN7e3gCAEydO4OHDhwgICEBJSYnyoVAo4OXlhbNnzyI/P79KsxKR5tERHYCI6JmGDRuWep6ZmVnuOAA0atQICoUCjx49AvB0KbVx48Yv/JkZGRlo1KhRqYJZFcrL7O3tjYYNG2LDhg3w9PTEo0ePsHv3bkyePBna2toAgHv37gEABg8eXOG+Hz58iDp16lRpXiLSLCyARKQyZDJZqef16tUDANy9e7fMtmlpadDS0oKFhQVkMhm0tbVx+/btF/7M+vXr49ixY1AoFBWWQAMDAwAoczLJs4Jann9+FwDQ1taGv78/vv76a2RlZWHbtm0oKipCYGCgcptnxwEuW7YMnTt3Lnff1tbWz/9SRET/gkvARKSy3nzzTdjY2GDbtm2QJEk5np+fj127dinPDDY0NET37t2xc+fOUmfSVoa3tzcKCwvLPcP3GWtraxgYGODixYulxn/44YcX+izg6TJwYWEhoqOjsXHjRri4uKBFixbK193c3GBubo4rV67A2dm53Ieent4Lfy4R0d9xBpCIVJaWlhYWLFiA999/H3369MHYsWNRVFSEhQsXIisrC19++aVy28WLF6NLly7o1KkTQkJC0Lx5c9y7dw+7d+/G6tWrYWJiUu5nDB06FBs2bMC4ceNw7do1uLu7Q6FQ4PTp03BwcMCQIUMgk8kwbNgwrF+/Hs2aNYOjoyPOnDmDbdu2vfB3atGiBVxcXBAeHo5bt24hKiqq1OvGxsZYtmwZAgIC8PDhQwwePBhWVlbIyMjAhQsXkJGRgZUrV77w5xIR/R0LIBGpND8/P9SpUwfh4eHw9fWFtrY2OnfujIMHD8LV1VW53bNSNmvWLISGhiI3NxcNGjRAjx49njtjpqOjg7i4OISHhyM6OhoREREwMTGBo6MjvLy8lNv997//BQAsWLAAeXl56NGjB/bs2QN7e/sX/k6BgYEYM2YMDA0N4evrW+b1YcOGwc7ODgsWLMDYsWORm5sLKysrtG3bFiNGjHjhzyMi+ieZ9Pd1FSIiIiJSezwGkIiIiEjDsAASERERaRgWQCIiIiINwwJIREREpGFYAImIiIg0DAsgERERkYZhASQiIiLSMLwQ9CtQKBRIS0uDiYlJuff9JCIiItUjSRJyc3PRqFGjCu8Bru5YAF9BWloabG1tRccgIiKil3Dr1i00btxYdAwhWABfwbN7i966dQumpqaC0xAREVFl5OTkwNbWtsJ7hGsCFsBX8GzZ19TUlAWQiIioltHkw7c0c+GbiIiISIOxABIRERFpGBZAIiIiIg3DYwCJiIioVpEkCSUlJZDL5eW+rq2tDR0dHY0+xu/fsAASERFRrVFcXIy7d++ioKDgudsZGRmhYcOG0NPTq6FktQsLIBEREdUKCoUCKSkp0NbWRqNGjaCnp1dmlk+SJBQXFyMjIwMpKSl4/fXXNfZiz8/DAkhERES1QnFxMRQKBWxtbWFkZFThdoaGhtDV1cXNmzdRXFwMAwODGkxZO7ASExERUa1SmRk9zvo9H//pEBEREWkYtSmAR44cQd++fdGoUSPIZDJ8//33//qew4cPw8nJCQYGBnjttdewatWqGkhKREREJJbaFMD8/Hw4OjoiMjKyUtunpKTgnXfeQdeuXZGYmIjPP/8cH330EXbt2lXNSYmIiIjEUpuTQLy9veHt7V3p7VetWgU7OztEREQAABwcHHDu3DksWrQIgwYNqq6YlSZJEh4/Kf/6RipDkoAnzz8Nn4iI6FUYGplAxuP5qpzaFMAXdfLkSXh6epYa69WrF9atW4cnT55AV1e3zHuKiopQVFSkfJ6Tk1Mt2SRJwuBVJ3H+5qNq2X/VkPCt3hdw1rouOggREamxguBUGBmblRqTJOlf31eZbTSZxlbq9PR0WFtblxqztrZGSUkJHjx4UO57wsPDYWZmpnzY2tpWS7bHT+QqXv4AQxSx/BERUY16NjnzbxeB/vs25U3okAbPAAIo9+KR5Y0/ExoaiilTpiif5+TkVFsJfObcdA8Y6WlX62e8lOJ8YNHTHwsmXwV0K74eExERUWU8evgIn4WEYOqnn6L5680BPF0CfkZbWxvm5ua4f/8+gKd3+yjvd3lBQQHu378Pc3NzaGur4O9QFaCxBbBBgwZIT08vNXb//n3o6OigXr165b5HX18f+vr6NRFPyUhPG0Z6qviv6X+ZjOqYAnp1BGYhIqLa7sSJExgyZAhu3bqF68k3cPr06XInZBo0aAAAyhJYEXNzc+W2VJYqNosa4eLigh9//LHU2C+//AJnZ2dOFxMREdUQhUKBhQsXYtq0aZDL5Xj99dcRFRVV4WqcTCZDw4YNYWVlhSdPnpS7ja6uLmf+/oXaFMC8vDwkJycrn6ekpCApKQl169aFnZ0dQkNDcefOHWzatAkAMG7cOERGRmLKlCn44IMPcPLkSaxbtw7R0dGivgIREZFGycjIwPDhw7Fv3z4AgJ+fH1atWgUTE5N/eefT5WCWvJenNgXw3LlzcHd3Vz5/dqxeQEAANm7ciLt37yI1NVX5etOmTREXF4egoCAsX74cjRo1wtdff60Sl4AhIiJSd8nJyejevTvS0tJgYGCAyMhIjBw5ssKZP6paalMA//Of/zz3lO+NGzeWGevevTsSEhKqMRURERGVx97eHk2bNoWpqSl27tyJ1q1bi46kUdSmABIREZFqe3Zmrp6eHnR0dPDtt9/C2NgYxsbGoqNpHI29DiARERHVnAMHDuCtt95CSEiIcqxBgwYsf4KwABIREVG1kcvlmDVrFnr27Il79+5h//79lbqQM1UvFkAiIiKqFmlpaXj77bcRFhYGSZIwevRonDp1CkZGvHmAaDwGkIiIiKrczz//DH9/f2RkZMDY2BirV6+Gn5+f6Fj0/1gAiYiIqEplZWXB19cX2dnZcHR0RExMDN544w3RsehvWACJiIioSpmbmyMqKgoHDx7EkiVLYGBgIDoS/QMLIBEREb2yn376CYaGhujRowcAwMfHBz4+PoJTUUV4EggRERG9tCdPnuDTTz9Fnz594Ofnh/T0dNGRqBI4A0hEREQv5ebNm/D19cXp06cBAL6+vrCwsBCciiqDBZCIiIhe2Pfff4/AwEBkZWXB3NwcGzZsQP/+/UXHokriEjARERFVmlwux8cff4wBAwYgKysLnTp1QmJiIstfLcMCSERERJWmpaWFzMxMAMAnn3yCI0eOwN7eXmwoemFcAiYiIqJ/9eTJE+jq6kImk2HlypUYNmwYevXqJToWvSTOABIREVGFCgsLMWHCBAwaNAiSJAEAjI2NWf5qOc4AEhERUbn++OMP+Pj4ICkpCQBw7NgxdO3aVXAqqgqcASQiIqIyoqOj0b59eyQlJcHS0hJ79+5l+VMjLIBERESk9PjxY4wZMwZ+fn7Iy8tDt27dkJSUBC8vL9HRqAqxABIREZHSkCFDsGbNGshkMkyfPh0HDhyAjY2N6FhUxXgMoMqSYIgioDgfKvmvqbhAdAIiIqoG06ZNQ0JCAjZs2AAPDw/RcaiaqGCzIEgSvtX7As5a14FFosMQEZE6y8/Px5kzZ+Du7g4A6NixI5KTk6Gvry84GVUnLgGroicFT8tfbWDbGdA1Ep2CiIhewuXLl9GxY0d4e3vjwoULynGWP/XHGUAVVzD5KozqmIqOUTFdI0AmE52CiIhegCRJ2LBhAyZOnIjHjx+jUaNGyM/PFx2LahALoKrTNQL06ohOQUREaiI3Nxfjx4/H1q1bAQC9evXC5s2bUb9+fcHJqCZxCZiIiEhDXLhwAc7Ozti6dSu0tbURHh6OuLg4lj8NxBlAIiIiDbFnzx5cv34djRs3xvbt2+Hm5iY6EgnCAkhERKQhQkJC8OTJE0yaNAn16tUTHYcE4hIwERGRmkpISMDAgQPx+PFjAIC2tjZmz57N8kcsgEREROpGkiRERkbCxcUF3333HebMmSM6EqkYLgETERGpkaysLIwaNQqxsbEAgP79++PTTz8VnIpUDWcAiYiI1MSZM2fQrl07xMbGQldXF0uXLkVsbCwsLCxERyMVwxlAIiIiNRATE4Nhw4bhyZMneO2117Bjxw44OzuLjkUqigWQiIhIDXTu3BnGxsbw8PDAmjVrYGZmJjoSqTAWQCIioloqNTUVdnZ2AAA7OzskJCSgSZMmkPEWnfQveAwgERFRLaNQKPDVV1+hWbNm2LNnj3Lc3t6e5Y8qhQWQiIioFsnIyECfPn0QEhKCkpIS7N27V3QkqoW4BExERFRLHDlyBEOHDkVaWhoMDAywbNkyjBo1SnQsqoU4A0hERKTi5HI55s6dC3d3d6SlpaFFixY4c+YMRo8ezSVfeiksgERERCru4MGDmDFjBhQKBQICAnDu3Dm0adNGdCyqxbgETEREpOI8PDwQFBSEt956CyNGjBAdh9QACyAREZGKkcvlWLRoEQICAtCgQQMAwOLFiwWnInXCJWAiIiIVcvfuXXh4eCAkJATDhg2DQqEQHYnUEAsgERGRivjll1/g6OiIQ4cOoU6dOggMDISWFn9VU9Xj/6qIiIgEKykpwbRp0+Dl5YWMjAw4OjoiISEB77//vuhopKZ4DCAREZFA9+7dw3vvvYejR48CAMaNG4clS5bAwMBAcDJSZyyAREREAhkZGeHevXswMTHB2rVr4ePjIzoSaQAWQCIiohr25MkT6OjoQCaTwcTEBLGxsTAwMECzZs1ERyMNwWMAiYiIatDNmzfRrVs3REREKMdatWrF8kc1igWQiIiohvzwww9o164dTp06hfDwcOTl5YmORBqKBZCIiKiaFRcXIygoCP3798ejR4/QsWNHnDlzBsbGxqKjkYZiASQiIqpGKSkp6NKli3LJ95NPPsHRo0dhb28vNhhpNJ4EQkREVE1yc3PRsWNHPHjwAHXr1sXGjRvRt29f0bGIOANIRERUXUxMTBASEgJXV1ckJiay/JHKYAEkIiKqQsnJybhy5Yry+ZQpU3Do0CHY2dkJTEVUGgsgERFRFdm+fTvat2+PgQMHKs/wlclk0NXVFZyMqDQWQCIiolf0+PFjjB07FkOHDkVubi6sra2Rn58vOhZRhdSqAK5YsQJNmzaFgYEBnJyclPdVrEhERATefPNNGBoawtbWFkFBQSgsLKyhtEREpA6uXr2KTp06ISoqCjKZDNOnT8eBAwdgbW0tOhpRhdTmLOAdO3bg448/xooVK+Dm5obVq1fD29sbV65cKfe4i61btyIkJATr16+Hq6srrl+/jhEjRgAAlixZUsPpiYioNtq8eTPGjx+P/Px8WFtbY8uWLfDw8BAdi+hfqc0M4OLFizFq1CiMHj0aDg4OiIiIgK2tLVauXFnu9idPnoSbmxv8/Pxgb28PT09PDB06FOfOnavh5EREVBspFAps3LgR+fn56NGjB5KSklj+qNZQiwJYXFyM8+fPw9PTs9S4p6cnTpw4Ue57unTpgvPnz+PMmTMAgBs3biAuLg69e/eu9rxERFT7aWlpYevWrfjqq6/wyy+/oEGDBqIjEVWaWiwBP3jwAHK5vMzxFtbW1khPTy/3PUOGDEFGRga6dOkCSZJQUlKC8ePHIyQkpMLPKSoqQlFRkfJ5Tk5O1XwBIiJSeZIkYePGjbh06RL++9//AgAaNGiAqVOnCk5G9OLUYgbwGZlMVuq5JEllxp45dOgQ5s2bhxUrViAhIQGxsbHYs2cP5syZU+H+w8PDYWZmpnzY2tpWaX4iIlJNeXl5GD58OEaOHInFixfjwIEDoiMRvRK1mAG0tLSEtrZ2mdm++/fvV3gW1owZM+Dv74/Ro0cDANq0aYP8/HyMGTMG06ZNg5ZW2W4cGhqKKVOmKJ/n5OSwBBIRqbmLFy/Cx8cH165dg7a2NubMmQN3d3fRsYheiVrMAOrp6cHJyQnx8fGlxuPj4+Hq6lruewoKCsqUPG1tbUiSBEmSyn2Pvr4+TE1NSz2IiEg9SZKEqKgodOzYEdeuXYONjQ0OHTqE0NDQcicJiGoTtZgBBJ7easff3x/Ozs5wcXFBVFQUUlNTMW7cOADA8OHDYWNjg/DwcABA3759sXjxYrRr1w6dOnVCcnIyZsyYgX79+kFbW1vkVyEiIhUwYcIE5ZUkevfujY0bN8LS0lJwKqKqoTYF0NfXF5mZmQgLC8Pdu3fRunVrxMXFoUmTJgCA1NTUUn+xTZ8+XXnBzjt37qB+/fro27cv5s2bJ+orEBGRCvHy8sLatWsxf/58TJkyhbN+pFZkUkXrnfSvcnJyYGZmhuzs7CpdDi7Iy4bRoqcXry4IToWRsVmV7ZuIiMonSRJu3rwJe3t75Vhqamq5NxOg2q26fn/XJvxzhoiINF5WVhbee+89ODk54datW8pxlj9SVyyARESk0c6ePYv27dtj165dyM3NxenTp0VHIqp2LIBERKSRJElCREQE3NzckJKSgqZNm+L48eMYPHiw6GhE1U5tTgIhIiKqrIcPHyIwMBC7d+8GAAwePBhr166FmRmPuSbNwBlAIiLSOAsWLMDu3buhp6eH5cuXIyYmhuWPNApnAImISOPMmjUL169fx4wZM9CuXTvRcYhqHGcAiYhI7T148ACzZ8+GQqEAABgaGiI2NpbljzQWZwCJiEitHT16FEOHDsWdO3egp6eHzz//XHQkIuE4A0hERGpJoVBg/vz5cHd3x507d/Dmm2+iT58+omMRqQTOABIRkdq5f/8+hg0bhvj4eACAv78/VqxYAWNjY8HJiFQDCyAREamVZ9fyS09Ph5GREZYvX44RI0aIjkWkUlgAiYhIrdSpUwePHj1Cq1atEBMTg5YtW4qORKRyWACJiKjWKyoqgr6+PgCgbdu22Lt3Lzp16gQjIyPByYhUE08CISKiWu2XX35B8+bNcfbsWeWYu7s7yx/Rc7AAEhFRrVRSUoJp06bBy8sLt2/fxrx580RHIqo1uARMRES1zu3bt+Hn54ejR48CAMaNG4fFixcLTkVUe7AAEhFRrRIXF4fhw4cjMzMTJiYmWLNmDXx9fUXHIqpVWACJiKjWOHLkCHr37g0AaN++PXbs2IHmzZsLTkVU+7AAEhFRrdGlSxf07t0br732GhYuXKg885eIXgwLIBERqbSff/4Zbm5uMDY2hpaWFr777jvo6uqKjkVUq/EsYCIiUknFxcUICgqCl5cXJk6cqBxn+SN6dZwBJCIilZOSkgJfX1/ltf3q1asHhUIBLS3OWxBVBRZAIiJSKbGxsRg5ciSys7NhYWGBb775Bn379hUdi0it8E8pIiJSCYWFhZg0aRIGDRqE7OxsuLi4ICkpieWPqBqwABIRkUrIysrCjh07AABTp07F4cOHYWdnJzgVkXriEjAREamEBg0aIDo6GkVFRXjnnXdExyFSa5wBJCIiIR4/foyxY8di586dyrG3336b5Y+oBrAAEhFRjbt27Ro6d+6MqKgojBkzBtnZ2aIjEWkUFkAiIqpRW7ZsgZOTEy5evAgrKyvExMTAzMxMdCwijcICSERENaKgoACjRo2Cv78/8vPz4e7ujqSkJPTs2VN0NCKNw5NAiIio2hUUFKBjx464fPkyZDIZZs2ahenTp0NbW1t0NCKNxAJIRETVzsjICB4eHsjMzMS2bdvg7u4uOhKRRuMSMBERVYu8vDykp6crny9YsAAXLlxg+SNSASyARERU5S5evAhnZ2e89957KCkpAQDo6enByspKcDIiAlgAiYioCkmShKioKHTs2BHXrl1DSkoKbt68KToWEf2D8AJYUlKC/fv3Y/Xq1cjNzQUApKWlIS8vT3AyIiJ6ETk5OfDz88PYsWOVd/NISkpCs2bNREcjon8QehLIzZs34eXlhdTUVBQVFaFnz54wMTHBggULUFhYiFWrVomMR0RElZSQkABfX18kJydDR0cH8+fPxyeffAItLeHzDERUDqH/z5w8eTKcnZ3x6NEjGBoaKscHDBiAAwcOCExGRESVJUkSxowZg+TkZNjZ2eHIkSP49NNPWf6IVJjQGcBjx47h+PHj0NPTKzXepEkT3LlzR1AqIiJ6ETKZDJs3b0ZYWBiWL1+OunXrio5ERP9C6J9nCoUCcrm8zPjt27dhYmIiIBEREVXG2bNnsXr1auVzBwcHREdHs/wR1RJCC2DPnj0RERGhfC6TyZCXl4dZs2bhnXfeEZiMiIjKI0kSIiIi4Obmhg8//BDHjx8XHYmIXoLQJeAlS5bA3d0dLVu2RGFhIfz8/PDHH3/A0tIS0dHRIqMREdE/PHz4EIGBgdi9ezcAYODAgWjVqpXgVET0MoQWwEaNGiEpKQnbt2/H+fPnoVAoMGrUKLz//vulTgohIiKxTp48iSFDhiA1NRV6enpYvHgxPvzwQ8hkMtHRiOglCC2AR44cgaurKwIDAxEYGKgcLykpwZEjR9CtWzeB6YiICACWLl2K4OBglJSUoHnz5oiJiUG7du1ExyKiVyD0GEB3d3c8fPiwzHh2djbvFUlEpCJ0dXVRUlKCIUOG4Pz58yx/RGpA6AygJEnlLh9kZmaiTp06AhIREREAFBYWwsDAAAAwfvx4NGvWDJ6enlzyJVITQgrgwIEDATw963fEiBHQ19dXviaXy3Hx4kW4urqKiEZEpNEUCgXCw8PxzTff4OzZszAzM4NMJkOvXr1ERyOiKiSkAJqZmQF4OgNoYmJS6oQPPT09dO7cGR988IGIaEREGuvevXvw9/dHfHw8AGDr1q348MMPBaciouogpABu2LABAGBvb4/g4GAu9xIRCXbw4EH4+fkhPT0dhoaGWL58OUaMGCE6FhFVE6EngcyaNYvlj4hIILlcji+++AIeHh5IT09Hy5YtcfbsWQQGBvJ4PyI1JvQkEAD49ttvERMTg9TUVBQXF5d6LSEhQVAqIiLNMHv2bMydOxcAMHLkSCxbtgxGRkaCUxFRdRM6A/j1118jMDAQVlZWSExMRMeOHVGvXj3cuHED3t7eIqMREWmEyZMn480338SmTZuwbt06lj8iDSG0AK5YsQJRUVGIjIyEnp4epk6divj4eHz00UfIzs4WGY2ISC2VlJRg165dyueWlpa4dOkS/P39BaYiopomtACmpqYqL/diaGiI3NxcAIC/vz/vBUxEVMVu376NHj16YPDgwdi0aZNyXEdH+NFARFTDhBbABg0aIDMzEwDQpEkTnDp1CgCQkpICSZJERiMiUitxcXFo27Ytjh49WubyW0SkeYQWwB49euDHH38EAIwaNQpBQUHo2bMnfH19MWDAAJHRiIjUwpMnTzB16lT07t0bmZmZaNeuHRISEvDee++JjkZEAgktgFFRUZg2bRoAYNy4cdi4cSMcHBzwxRdfYOXKlS+8vxUrVqBp06YwMDCAk5MTjh49+tzts7KyMGHCBDRs2BAGBgZwcHBAXFzcS30XIiJVk5qaiu7du2PhwoUAgIkTJ+LEiRNo3ry54GREJJqwAz9KSkowb948jBw5Era2tgAAHx8f+Pj4vNT+duzYgY8//hgrVqyAm5sbVq9eDW9vb1y5cgV2dnZlti8uLkbPnj1hZWWFb7/9Fo0bN8atW7dgYmLySt+LiEhVXL16FSdPnoSZmRnWrSYIvfgAACAASURBVFuHQYMGiY5ERCpCJgk82M7Y2BiXLl2Cvb39K++rU6dOaN++famZQwcHB/Tv3x/h4eFltl+1ahUWLlyIq1evQldX96U+MycnB2ZmZsjOzoapqelLZ/+ngrxsGC16WloLglNhZGxWZfsmIs0SFRUFDw8PvPbaa6KjEKmM6vr9XZsIXQL28PDAoUOHXnk/xcXFOH/+PDw9PUuNe3p64sSJE+W+Z/fu3XBxccGECRNgbW2N1q1bY/78+ZDL5a+ch4hIhJSUFHh6euLGjRvKsTFjxrD8EVEZQs/99/b2RmhoKC5dugQnJ6cyt4Xr169fpfbz4MEDyOVyWFtblxq3trZGenp6ue+5ceMGfv31V7z//vuIi4vDH3/8gQkTJqCkpAQzZ84s9z1FRUUoKipSPs/JyalUPiKi6hYbG4uRI0ciOzsb48ePx88//yw6EhGpMKEFcPz48QCAxYsXl3lNJpO98GzcP+9bKUlShfeyVCgUsLKyQlRUFLS1teHk5IS0tDQsXLiwwgIYHh6OL7744oUyERFVp6KiIgQHByMyMhIA0LlzZ0RFRQlORUSqTugSsEKhqPDxIuXP0tIS2traZWb77t+/X2ZW8JmGDRvijTfegLa2tnLMwcEB6enpZe5J/ExoaCiys7OVj1u3blU6IxFRVUtOToarq6uy/H366ac4cuQImjRpIjgZEak6oQWwqujp6cHJyQnx8fGlxuPj45V3GvknNzc3JCcnQ6FQKMeuX7+Ohg0bQk9Pr9z36Ovrw9TUtNSDiEiE8+fPo3379khISEC9evWwZ88eLFiw4KVPaiMizaIWBRAApkyZgrVr12L9+vX4/fffERQUhNTUVIwbNw4AMHz4cISGhiq3Hz9+PDIzMzF58mRcv34dP/30E+bPn48JEyaI+gpERJXWunVrvPHGG+jSpQuSkpLQu3dv0ZGIqBZRmxtA+vr6IjMzE2FhYbh79y5at26NuLg45VJIamoqtLT+13dtbW3xyy+/ICgoCG+99RZsbGwwefJkfPbZZ6K+AhHRc924cQN2dnbQ0dGBvr4+4uLiULduXd7Ll4hemNDrANZ2vA4gEdWULVu2YNy4cQgKCsKcOXNExyGq1XgdQDVaAiYiUkcFBQUYNWoU/P39kZ+fj5MnT6KkpER0LCKq5YQXwD///BPTp0/H0KFDcf/+fQDAvn37cPnyZcHJiIjEunLlCjp27Ij169dDJpNh1qxZ+Pnnn7nkS0SvTGgBPHz4MNq0aYPTp08jNjYWeXl5AICLFy9i1qxZIqMREQkjSRI2bNgAZ2dnXL58GQ0aNMD+/fsxe/bsUpeuIiJ6WUILYEhICObOnYv4+PhSl15xd3fHyZMnBSYjIhInLS0NEydOxOPHj9GzZ08kJSWhR48eomMRkRoRuo7w22+/Ydu2bWXG69evj8zMTAGJiIjEs7GxwYoVK3D79m2EhoaWuoIBEVFVEFoAzc3NcffuXTRt2rTUeGJiImxsbASlIiKqWZIkYe3atXBwcECXLl0AAAEBAYJTEZE6E/pnpZ+fHz777DOkp6dDJpNBoVDg+PHjCA4OxvDhw0VGIyKqETk5OfDz88OYMWMwdOhQPHr0SHQkItIAQgvgvHnzYGdnBxsbG+Tl5aFly5bo1q0bXF1dMX36dJHRiIiqXWJiIpycnLB9+3Zoa2tj0qRJMDPjdT+JqPoJXQLW1dXF1q1bERYWhsTERCgUCrRr1w6vv/66yFhERNVKkiSsXLkSQUFBKC4uhq2tLbZv317hvcuJiKqa0AJ4+PBhdO/eHc2aNUOzZs1ERiEiqhGFhYXw9/fHt99+CwDo168fNmzYgLp16wpORkSaROgScM+ePWFnZ4eQkBBcunRJZBQiohqhr68PhUIBXV1dLF68GN9//z3LHxHVOKEFMC0tDVOnTsXRo0fx1ltv4a233sKCBQtw+/ZtkbGIiKqUJEkoLCwEAMhkMqxbtw7Hjx9HUFAQZDKZ4HREpImEFkBLS0tMnDgRx48fx59//glfX19s2rQJ9vb2vOgpEamFhw8fYsCAAQgICIAkSQCeXgKrQ4cOgpMRkSZTmRtKNm3aFCEhIXB0dMSMGTNw+PBh0ZGIiF7JqVOn4Ovri9TUVOjp6eHKlSto1aqV6FhERGJnAJ85fvw4PvzwQzRs2BB+fn5o1aoV9uzZIzoWEdFLUSgUWLhwIbp27YrU1FQ0a9YMJ0+eZPkjIpUhdAbw888/R3R0NNLS0uDh4YGIiAj0798fRkZGImMREb20Bw8eYMSIEfjpp58AAL6+voiKioKpqangZERE/yO0AB46dAjBwcHw9fWFpaWlyChERK9MkiT06dMHp0+fhr6+PpYuXYoxY8bwRA8iUjlCC+CJEydEfjwRUZWSyWRYsGABxo8fj23btsHR0VF0JCKictV4Ady9eze8vb2hq6uL3bt3P3fbfv361VAqIqKXc//+fVy4cAE9e/YEAHTr1g0XL16Etra24GRERBWr8QLYv39/pKenw8rKCv37969wO5lMBrlcXoPJiIhezKFDh+Dn54ecnBycO3cOLVq0AACWPyJSeTV+FrBCoYCVlZXy54oeLH9EpKrkcjnCwsLw9ttv4+7du7Czs4NCoRAdi4io0oReBmbTpk0oKioqM15cXIxNmzYJSERE9Hzp6enw9PTErFmzoFAoEBgYiLNnz6Jly5aioxERVZrQAhgYGIjs7Owy47m5uQgMDBSQiIioYvv374ejoyN+/fVXGBkZYdOmTVi/fj3q1KkjOhoR0QsRehawJEnlXh7h9u3bMDMzE5CIiKhiv/76K+7fv482bdogJiZGecwfEVFtI6QAtmvXDjKZDDKZDG+//TZ0dP4XQy6XIyUlBV5eXiKiERFVKCwsDObm5pg0aRIMDQ1FxyEiemlCCuCzs3+TkpLQq1cvGBsbK1/T09ODvb09Bg0aJCIaEZHSvn37EBkZidjYWOjp6UFHRwdTp04VHYuI6JUJKYCzZs0CANjb28PX1xcGBgYiYhARlevJkyeYMWMGvvrqKwDA119/jeDgYMGpiIiqjtBjAAMCAkR+PBFRGampqRg6dKjyTkUTJkzAxIkTBaciIqpaNV4A69ati+vXr8PS0hIWFhbPvUfmw4cPazAZEWm6H3/8ESNGjMDDhw9hamqKdevWYfDgwaJjERFVuRovgEuWLIGJiYnyZ94knYhUQWRkJCZNmgQAcHZ2xo4dO/Daa68JTkVEVD1qvAD+fdl3xIgRNf3xRETl8vLygqmpKUaOHIkvv/wS+vr6oiMREVUboReCTkhIwG+//aZ8/sMPP6B///74/PPPUVxcLDAZEWmCq1evKn9u3rw5rl27hiVLlrD8EZHaE1oAx44di+vXrwMAbty4AV9fXxgZGWHnzp281AIRVZuioiJ89NFHaNWqFfbv368cb9CggcBUREQ1R2gBvH79Otq2bQsA2LlzJ7p3745t27Zh48aN2LVrl8hoRKSmkpOT4erqimXLlkGhUODs2bOiIxER1Tjht4JTKBQAnt5js0+fPgAAW1tbPHjwQGQ0IlJDMTExGD16NHJzc1GvXj1888036N27t+hYREQ1TugMoLOzM+bOnYvNmzfj8OHDyv8Qp6SkwNraWmQ0IlIjjx8/xvjx4+Hr64vc3Fx06dIFSUlJLH9EpLGEFsCIiAgkJCRg4sSJmDZtGpo3bw4A+Pbbb+Hq6ioyGhGpkT179mDVqlUAgNDQUBw8eBCNGzcWnIqISByZJEmS6BD/VFhYCG1tbejq6oqO8lw5OTkwMzNDdnY2TE1Nq2y/BXnZMFpk9/Tn4FQYGZtV2b6JNJEkSQgKCoK3tzd69eolOg4RCVZdv79rE6HHAD5z/vx5/P7775DJZHBwcED79u1FRyKiWqygoACzZ8/GZ599hnr16kEmkyEiIkJ0LCIilSG0AN6/fx++vr44fPgwzM3NIUkSsrOz4e7uju3bt6N+/foi4xFRLXTlyhX4+Pjg8uXLuH79Or7//nvRkYiIVI7QYwAnTZqE3NxcXL58GQ8fPsSjR49w6dIl5OTk4KOPPhIZjYhqoY0bN6JDhw64fPkyrK2tlbd2IyKi0oTOAO7btw/79++Hg4ODcqxly5ZYvnw5PD09BSYjotokLy8PEyZMwKZNmwAAHh4e2LJlC68mQERUAaEzgAqFotwTPXR1dZXXByQiep7k5GR06NABmzZtgpaWFubOnYt9+/ax/BERPYfQAtijRw9MnjwZaWlpyrE7d+4gKCgIb7/9tsBkRFRbWFpaorCwEI0aNcLBgwcxbdo0aGtri45FRKTShC4BR0ZG4t1334W9vT1sbW0hk8mQmpqKNm3aYMuWLSKjEZEKKygogKGhIWQyGczNzbF79240aNCAJ44REVWS0AJoa2uLhIQExMfH4+rVq5AkCS1btoSHh4fIWESkwpKSkuDj44Pg4GCMGTMGANCmTRvBqYiIaheVvBB0bcELQRPVHEmSsGrVKgQFBaGoqAhvvPEGLl26pPIXjCci1cMLQQs+BhAADhw4gD59+qBZs2Zo3rw5+vTpg/3794uORUQqJDs7G76+vvjwww9RVFSEvn374sSJEyx/REQvSWgBjIyMhJeXF0xMTDB58mR89NFHMDU1xTvvvIPIyEiR0YhIRZw7dw7t27fHzp07oaOjg//+97/44YcfUK9ePdHRiIhqLaFLwDY2NggNDcXEiRNLjS9fvhzz5s0rdXawKuISMFH1unfvHpo2bYrHjx+jSZMm2LFjBzp16iQ6FhHVclwCFjwDmJOTAy8vrzLjnp6eyMnJEZCIiFSJtbU1QkNDMWDAACQmJrL8ERFVEaEFsF+/fvjuu+/KjP/www/o27evgEREJNrp06dx7do15fNp06Zh165dsLCwEJiKiEi9CL0MjIODA+bNm4dDhw7BxcUFAHDq1CkcP34cn3zyCb7++mvltrw3MJF6UygUWLJkCUJCQtCyZUucOnUKhoaG0NISfq4aEZHaEVoA161bBwsLC1y5cgVXrlxRjpubm2PdunXK5zKZjAWQSI1lZmYiICAAP/30EwDgzTffRElJieBURETqS2gBTElJEfnxRKQCjh8/jiFDhuD27dvQ19dHREQExo4dC5lMJjoaEZHa4toKEQmhUCjw5Zdfonv37rh9+zZef/11nDp1CuPGjWP5IyKqZiyARCSEXC7Hjz/+CLlcDj8/P5w/fx5t27YVHYuISCOoVQFcsWIFmjZtCgMDAzg5OeHo0aOVet/27dshk8nQv3//ak5IRM/o6uoiOjoa69evx5YtW2BiYiI6EhGRxlCbArhjxw58/PHHmDZtGhITE9G1a1d4e3sjNTX1ue+7efMmgoOD0bVr1xpKSqSZ5HI55syZg88++0w5Zmdnh8DAQC75EhHVMLUpgIsXL8aoUaMwevRoODg4ICIiAra2tli5cmWF75HL5Xj//ffxxRdf4LXXXqvBtESaJT09Hb169cLMmTOxYMECJCYmio5ERKTRhBfAo0ePYtiwYXBxccGdO3cAAJs3b8axY8cqvY/i4mKcP38enp6epcY9PT1x4sSJCt8XFhaG+vXrY9SoUZX6nKKiIuTk5JR6ENHzHThwAG3btsWBAwdgZGSEb775Bu3atRMdi4hIowktgLt27UKvXr1gaGiIxMREFBUVAQByc3Mxf/78Su/nwYMHkMvlsLa2LjVubW2N9PT0ct9z/PhxrFu3DmvWrKn054SHh8PMzEz5sLW1rfR7iTRNSUkJZs6ciZ49e+LevXto3bo1zp07h+HDh4uORkSk8YQWwLlz52LVqlVYs2YNdHV1leOurq5ISEh44f398zgiSZLKPbYoNzcXw4YNw5o1a2BpaVnp/YeGhiI7O1v5uHXr1gtnJNIUAwcOxJw5cyBJEj744AOcOXMGDg4OomMREREEXwj62rVr6NatW5lxU1NTZGVlVXo/lpaW0NbWLjPbd//+/TKzggDw559/4q+//ip1v2GFQgEA0NHRwbVr19CsWbMy79PX14e+vn6lcxFpMj8/Pxw8eBCrV6+Gn5+f6DhERPQ3QmcAGzZsiOTk5DLjx44de6GTMvT09ODk5IT4+PhS4/Hx8XB1dS2zfYsWLfDbb78hKSlJ+ejXrx/c3d2RlJTEpV2il1BSUoLr168rnw8ZMgR//vknyx8RkQoSOgM4duxYTJ48GevXr4dMJkNaWhpOnjyJ4OBgzJw584X2NWXKFPj7+8PZ2RkuLi6IiopCamoqxo0bBwAYPnw4bGxsEB4eDgMDA7Ru3brU+83NzQGgzDgR/btbt25h6NChSE5OxoULF5Qz71ZWVoKTERFReYQWwKlTpyI7Oxvu7u4oLCxEt27doK+vj+DgYEycOPGF9uXr64vMzEyEhYXh7t27aN26NeLi4tCkSRMAQGpqKrS0hJ/0TKR29uzZg4CAADx8+BCmpqb4/fffyz30goiIVIdMkiRJdIiCggJcuXIFCoUCLVu2hLGxsehIlZKTkwMzMzNkZ2fD1NS0yvZbkJcNo0V2T38OToWRsVmV7ZuoqhQXFyM0NBSLFy8GADg5OWHHjh3lHj9LRKRKquv3d20idAbwGSMjIzg7O4uOQUSV9Ndff2HIkCE4ffo0AGDy5Mn46quveJIUEVEtIbQAuru7P/cWUL/++msNpiGiygoPD8fp06dhbm6ODRs28D7aRES1jNAC2LZt21LPnzx5gqSkJFy6dAkBAQGCUhHRv1m0aBHy8vIwb9482Nvbi45DREQvSGgBXLJkSbnjs2fPRl5eXg2nIaKK/Pnnn1izZg3Cw8Mhk8lgYmKCrVu3io5FREQvSSVPix02bBjWr18vOgYRAdi5cyfat2+Pr776CpGRkaLjEBFRFVDJAnjy5EkYGBiIjkGk0QoLC/Hhhx/Cx8cHOTk5cHNz47F+RERqQugS8MCBA0s9lyQJd+/exblz5zBjxgxBqYjo+vXr8PHxwYULFwAAISEhCAsLK3XPbiIiqr2EFkAzs9LXt9PS0sKbb76JsLAweHp6CkpFpNm+//57+Pv7Iy8vD5aWlti8eTO8vLxExyIioiokrADK5XKMGDECbdq0Qd26dUXFIKJ/aNiwofLOPNu2bYONjY3oSEREVMWEHQOora2NXr16ITs7W1QEIvp/+fn5yp87deqEQ4cO4cCBAyx/RERqSuhJIG3atMGNGzdERiDSeN988w2aNGmCixcvKsfc3Nygo6MSNwoiIqJqILQAzps3D8HBwdizZw/u3r2LnJycUg8iqj75+fkYMWIERowYgczMTKxYsUJ0JCIiqiFC/8R/dmB5v379St0STpIkyGQyyOVyUdGI1NqlS5fg4+OD33//HVpaWpg9ezY+//xz0bGIiKiGCC2ABw8eFPnxRBpHkiSsW7cOkyZNQmFhIRo1aoRt27ahe/fuoqMREVENEloAmzZtCltb21Kzf8DTX1K3bt0SlIpIfcXGxuKDDz4AAPTq1QubN29G/fr1BaciIqKaJrwA3r17F1ZWVqXGHz58iKZNm3IJmKiK9e/fH56ennB3d8fUqVOhpaWSNwMiIqJqJrQAPjvW75/y8vJ4KziiKiBJErZv344BAwbAwMAA2tra2Lt3L4sfEZGGE1IAp0yZAgCQyWSYMWMGjIyMlK/J5XKcPn0abdu2FRGNSG1kZ2djzJgxiImJwfjx45Vn+bL8ERGRkAKYmJgI4OnsxG+//QY9PT3la3p6enB0dERwcLCIaERq4fz58/Dx8cGNGzego6ODZs2aVTjjTkREmkdIAXx29m9gYCCWLl0KU1NTETGI1I4kSYiMjERwcDCKi4vRpEkTbN++HZ07dxYdjYiIVIjQYwA3bNgg8uOJ1MqjR48watQofPfddwCenvCxfv16WFhYCE5GRESqhgcDEamJnJwcHDp0CLq6uli6dCliY2NZ/oiIqFy82SdRLfb34/qaNGmC6Oho1KtXD87OzoKTERGRKuMMIFEtlZmZiXfffRc//fSTcqxXr14sf0RE9K84A0hUCx0/fhxDhw7FrVu3kJCQgD///BP6+vqiYxERUS3BGUCiWkShUODLL79E9+7dcevWLbz++uvYs2cPyx8REb0QzgAS1RIZGRkYPnw49u3bBwDw8/PDqlWrYGJiIjgZERHVNiyARLXAgwcP0LZtW6SlpcHAwADLli3DqFGjeGFnIiJ6KSyARLWApaUlevfujaNHjyImJgZt2rQRHYmIiGoxFkAiFXXv3j3IZDJYWVkBAJYuXQq5XA5jY2PByYiIqLbjSSBEKujAgQNwdHTEsGHDoFAoAACGhoYsf0REVCVYAIlUiFwux6xZs9CzZ0/cu3cPaWlpyMjIEB2LiIjUDAsgkYpIS0uDh4cHwsLCIEkSRo8ejTNnzsDa2lp0NCIiUjM8BpBIBfz888/w9/dHRkYGjI2NsXr1avj5+YmORUREaooFkEiwkpISTJ48GRkZGXB0dERMTAzeeOMN0bGIiEiNcQmYSDAdHR1s374dEydOxKlTp1j+iIio2rEAEgnw008/Yc2aNcrnbdu2xbJly2BgYCAwFRERaQouARPVoCdPnuDzzz/HokWLoKuriw4dOqBt27aiYxERkYZhASSqITdv3oSvry9Onz4NABg/fjwcHBwEpyIiIk3EAkhUA77//nsEBgYiKysL5ubmWL9+PQYMGCA6FhERaSgeA0hUzT799FMMGDAAWVlZ6NixIxITE1n+iIhIKBZAomr27F6+n3zyCY4ePQp7e3uxgYiISONxCZioGuTl5Snv2/vJJ5/Azc0Nrq6uglMRERE9xRlAoipUWFiICRMmoEOHDsjPzwcAaGlpsfwREZFKYQEkqiJ//PEHXFxcsGLFCly9ehX79u0THYmIiKhcLIBEVSA6Ohrt27dHUlISLC0tsW/fPgwaNEh0LCIionKxABK9gsePH2PMmDHw8/NDXl4eunXrhqSkJPTq1Ut0NCIiogqxABK9gqCgIKxZswYymQzTp0/HgQMHYGNjIzoWERHRc/EsYKJXMHPmTJw4cQKLFy+Gh4eH6DhERESVwhlAoheQn5+PrVu3Kp83atQISUlJLH9ERFSrcAaQqJIuX74MHx8fXLlyBfr6+hg8eDCAp5d5ISIiqk34m4voX0iShHXr1qFDhw64cuUKGjZsiPr164uORURE9NI4A0j0HLm5uRg/frxy2bdXr17YtGmT8vZuREREtRFnAIkqcOHCBTg7O2Pr1q3Q1tZGeHg44uLiWP6IiKjW4wwgUQVSUlJw/fp1NG7cGNHR0ejSpYvoSERERFWCBZDobyRJgkwmAwD0798fa9euxbvvvgtLS0vByYiIiKqOWi0Br1ixAk2bNoWBgQGcnJxw9OjRCrdds2YNunbtCgsLC1hYWMDDwwNnzpypwbSkahISEuDq6orbt28rx0aNGsXyR0REakdtCuCOHTvw8ccfY9q0aUhMTETXrl3h7e2N1NTUcrc/dOgQhg4dioMHD+LkyZOws7ODp6cn7ty5U8PJSTRJkhAZGQkXFxecOnUKU6dOFR2JiIioWskkSZJEh6gKnTp1Qvv27bFy5UrlmIODA/r374/w8PB/fb9cLoeFhQUiIyMxfPjwSn1mTk4OzMzMkJ2dDVNT05fO/k8FedkwWmT39OfgVBgZm1XZvqm0rKwsjBo1CrGxsQCeLvuuX78eFhYWgpMREVF1qa7f37WJWswAFhcX4/z58/D09Cw17unpiRMnTlRqHwUFBXjy5Anq1q1b4TZFRUXIyckp9aDa68yZM2jXrh1iY2Ohq6uLpUuXIjY2luWPiIjUnloUwAcPHkAul8Pa2rrUuLW1NdLT0yu1j5CQENjY2Dz3ll7h4eEwMzNTPmxtbV8pN4kTHx8PNzc3/PXXX2jatCmOHz+Ojz76SHkCCBERkTpTiwL4zD9/ef/9jM7nWbBgAaKjoxEbGwsDA4MKtwsNDUV2drbycevWrVfOTGK4ubmhRYsWGDx4MBITE9GhQwfRkYiIiGqMWlwGxtLSEtra2mVm++7fv19mVvCfFi1ahPnz52P//v146623nrutvr4+9PX1XzkvifHbb7+hVatW0NLSgpGREQ4fPgwLCwvO+hERkcZRixlAPT09ODk5IT4+vtR4fHw8XF1dK3zfwoULMWfOHOzbtw/Ozs7VHZMEUSgUWLBgAdq1a4evvvpKOV63bl2WPyIi0khqMQMIAFOmTIG/vz+cnZ3h4uKCqKgopKamYty4cQCA4cOHw8bGRnlG8IIFCzBjxgxs27YN9vb2ytlDY2NjGBsbC/seVLUyMjIQEBCAvXv3AgB+//33Sh8aQEREpK7UpgD6+voiMzMTYWFhuHv3Llq3bo24uDg0adIEAJCamgotrf9NeK5YsQLFxcUYPHhwqf3MmjULs2fPrsnoVE2OHDmCoUOHIi0tDQYGBli2bBlGjRrF8kdERBpPba4DKAKvA6iaFAoFwsPDMXPmTCgUCrRo0QIxMTFo06aN6GhERKQCeB1ANTkGkOjvrl+/jrCwMCgUCgQEBODcuXMsf0RERH+jNkvARM+0aNECkZGR0NPTQ0BAgOg4REREKocFkGo9uVyOuXPnonfv3sqzuT/44APBqYiIiFQXl4CpVktLS4OHhwdmz54NX19fPH78WHQkIiIilccCSLXWL7/8grZt2+LQoUMwNjbGnDlzYGhoKDoWERGRymMBpFqnpKQE06ZNg5eXFzIyMuDo6Ijz58/Dz89PdDQiIqJagccAUq2SlZWFvn374tixYwCAcePGYcmSJc+9hzMRERGVxgJItYqpqSlMTExgYmKCtWvX4v/au/ewmvM8DuDv06GLKSkpId2QLmspK6ncFhkzYexMhTnEzI5MO8LMWPMQyQqbMfYixmU1aJSVaxPKJSJGmpqxanLphqkxTNTISJ3v/mE7O2eKnOgc55z363l6nvqd7+/83r/P6el8+v4uJygolx7+6gAAGkRJREFUSNORiIiItA4bQHrhPXz4EHV1dTAxMYGBgQG2bt2KO3fuoEePHpqORkREpJV4DiC90EpLSzF48GC8++67imVWVlZs/oiIiJ4BG0B6Ye3btw/9+vXD2bNnsXfvXly7dk3TkYiIiHQCG0B64dTW1mLOnDkYP348KisrMWDAAOTm5sLOzk7T0YiIiHQCG0B6oRQVFcHX1xdr1qwBALz//vvIzMyEg4ODZoMRERHpEF4EQi+M+vp6jB49GpcvX4alpSXi4+MRGBio6VhEREQ6hzOA9MKQSqX4xz/+AT8/P+Tl5bH5IyIiaiVsAEmjrly5gvT0dMXPAQEBOHnyJM/3IyIiakVsAEljEhMT4enpiTfeeANFRUWK5RKJRIOpiIiIdB8bQFK7+/fvY8aMGZg4cSKqq6vRp08fGBkZaToWERGR3mADSGr17bffwtvbGxs2bIBEIsHChQtx7NgxdO3aVdPRiIiI9AavAia12b59O8LCwnDv3j3Y2Nhg+/btGDFihKZjERER6R02gKQ2586dw7179zB8+HAkJCSgc+fOmo5ERESkl9gAUqsSQigu6oiNjYW7uzvefvttSKVSDScjIiLSXzwHkFqFEAJbtmzBmDFjUFdXBwAwMjLCjBkz2PwRERFpGBtAeu5++uknTJkyBdOnT8ehQ4ewbds2TUciIiKiX+AhYHquvvnmGwQFBaGwsBBSqRRLly7F1KlTNR2LiIiIfoENID0XQghs2LABERERePDgAbp27YrExET4+flpOhoRERH9Cg8B03OxcOFChIWF4cGDB3jllVeQl5fH5o+IiOgFxQaQnotJkybB3NwcsbGx2L9/P6ysrDQdiYiIiB6Dh4CpRYQQyM3NhaenJwDA3d0dxcXFsLCw0HAyIiIiag5nAElld+7cwRtvvIEBAwbg1KlTiuVs/oiIiLQDG0BSSXZ2Njw9PZGcnAwDAwNcvnxZ05GIiIhIRWwA6akIIbBmzRr4+vqiuLgYjo6OOH36NKZNm6bpaERERKQingNIzfrxxx8xbdo07N+/HwDw+uuvY9OmTTA3N9dwMiIiImoJzgBSs3bv3o39+/fD0NAQa9euxc6dO9n8ERERaTHOAFKz3nrrLeTn50Mmk6Ffv36ajkNERETPiDOA1MitW7cQFhaGqqoqAIBEIsHq1avZ/BEREekIzgCSkszMTEycOBE3btxATU0Ntm7dqulIRERE9JxxBpAAAHK5HMuWLcPQoUNx48YNuLi44IMPPtB0LCIiImoFnAEkfP/995DJZEhPTwcAyGQyxMXFwdTUVMPJiIiIqDWwAdRzOTk5ePXVV1FRUQETExPExcUhNDRU07GIiIioFbEB1HPdu3eHgYEB3N3dsXPnTri5uWk6EhEREbUyNoB66O7du4r7+HXq1AlpaWlwdHREu3btNJyMiIiI1IEXgeiZ9PR09OrVC9u3b1csc3d3Z/NHRESkR9gA6om6ujosXLgQAQEBuHnzJtavXw8hhKZjERERkQawAdQD169fx/Dhw7Fs2TIIIRAWFob09HRIJBJNRyMiIiIN4DmAOi41NRVTpkzB7du3YWZmhk2bNiEoKEjTsYiIiEiD2ADqsMuXLyMwMBByuRyenp5ISkpCjx49NB2LiIiINIwNoA7r2bMn5s2bh3v37iE2NhZGRkaajkREREQvADaAOubAgQPw8PCAo6MjACAmJobn+hEREZESXgSiI2prazF37lyMHTsWISEhqK2tBQA2f0RERNQIZwB1QHFxMYKDg5GdnQ0A8PX11XAiIiIiepGxAdRyu3fvxvTp03H37l1YWFggPj4eY8eO1XQsIiIieoHxELCWevDgAd577z384Q9/wN27d+Hj44O8vDw2f0RERNQsNoBaSgiBrKwsAMC8efNw4sQJdO/eXcOpiIiISBvwELCWEUJAIpHA2NgYO3fuRGFhIcaMGaPpWERERKRF2ABqifv372P27NmwsbFBdHQ0AMDZ2RnOzs4aTkZERETaRqcOAcfFxcHR0RHGxsbw8vJCZmbmE8cnJyfDzc0NRkZGcHNzw549e9SUVDWFhYUYOHAgNmzYgJiYGBQXF2s6EhEREWkxnWkAk5KSMHv2bCxYsAC5ubnw9/fHyy+/jLKysibHnzlzBsHBwZDJZPj6668hk8kQFBSEL7/8Us3Jn2zXrl3w8vLCN998A2traxw8eFBxk2ciIiKilpAIIYSmQzwP3t7e8PT0xLp16xTLXF1dMX78eCxfvrzR+ODgYFRVVeHgwYOKZaNHj4aFhQV27NjxVNusqqqCubk57t69i/bt2z/7TvxPzU930W7Vows6TGMf4F7NAwwbNgwJCQmwtbV9btshIiLSR631/q1NdGIGsLa2Fjk5ORg1apTS8lGjRimulP21M2fONBofEBDw2PHAo1uvVFVVKX21BrlcrvheIpEgKioK6enpbP6IiIjoudCJi0Bu3bqF+vp62NjYKC23sbFBRUVFk+tUVFSoNB4Ali9fjiVLljx74GYYGPy/L9+9KxkjR/MqXyIiInp+dGIGsMGvP/e24ZYpz2v8Rx99hLt37yq+rl279myBH8OknRnuvV+KincuYsSo0a2yDSIiItJfOjEDaGVlBalU2mj27ubNm41m+Rp07txZpfEAYGRkBCMjo2cP3AyJgQFeMuuAl8w6tPq2iIiISP/oxAygoaEhvLy8kJ6errQ8PT0dgwYNanIdHx+fRuPT0tIeO56IiIhIV+jEDCAAzJ07FzKZDP3794ePjw82bNiAsrIyhIWFAQCmTJmCrl27Kq4IjoiIwODBg7Fy5UqMGzcO+/btw5EjR3Dq1ClN7gYRERFRq9OZBjA4OBi3b99GdHQ0ysvL4eHhgdTUVNjb2wMAysrKlC6uGDRoEBITE7Fw4UJERkbC2dkZSUlJ8Pb21tQuEBEREamFztwHUBN4HyEiIiLtw/dvHTkHkIiIiIieHhtAIiIiIj3DBpCIiIhIz7ABJCIiItIzbACJiIiI9AwbQCIiIiI9wwaQiIiISM+wASQiIiLSM2wAiYiIiPSMznwUnCY0fIhKVVWVhpMQERHR02p439bnD0NjA/gMqqurAQB2dnYaTkJERESqqq6uhrm5uaZjaAQ/C/gZyOVyfPfddzAzM4NEInmuz11VVQU7Oztcu3ZNbz+nUB1YZ/VgndWDdVYP1lk9WrPOQghUV1ejS5cuMDDQz7PhOAP4DAwMDNCtW7dW3Ub79u35B0YNWGf1YJ3Vg3VWD9ZZPVqrzvo689dAP9teIiIiIj3GBpCIiIhIz0ijoqKiNB2CmiaVSjF06FC0acMj9a2JdVYP1lk9WGf1YJ3Vg3VuPbwIhIiIiEjP8BAwERERkZ5hA0hERESkZ9gAEhEREekZNoBEREREeoYNoIbExcXB0dERxsbG8PLyQmZm5hPHJycnw83NDUZGRnBzc8OePXvUlFT7qVLrjRs3wt/fHxYWFrCwsMCIESNw7tw5NabVXqr+TjdITEyERCLB+PHjWzmhblC1znfu3EF4eDhsbW1hbGwMV1dXpKamqimt9lK1zmvWrIGLiwtMTExgZ2eHOXPm4Oeff1ZTWu108uRJBAYGokuXLpBIJNi7d2+z65w4cQJeXl4wNjaGk5MT1q9fr4akOkqQ2iUmJoq2bduKjRs3ivz8fBERESFeeuklUVpa2uT4rKwsIZVKRUxMjCgoKBAxMTGiTZs24uzZs2pOrn1UrfWkSZPE2rVrRW5urigoKBDTpk0T5ubm4vr162pOrl1UrXODkpIS0bVrV+Hv7y/GjRunprTaS9U6P3jwQPTv31+MGTNGnDp1SpSUlIjMzEyRl5en5uTaRdU6b9++XRgZGYmEhARRXFwsDh8+LGxtbcXs2bPVnFy7pKamigULFojk5GQBQOzZs+eJ44uKikS7du1ERESEyM/PFxs3bhRt27YVu3btUlNi3cIGUAMGDBggwsLClJb17t1bzJ8/v8nxQUFBYvTo0UrLAgICREhISKtl1BWq1vrX6urqhJmZmfjss89aI57OaEmd6+rqhK+vr9i0aZOYOnUqG8CnoGqd161bJ5ycnERtba064ukMVescHh4uhg8frrRs7ty5ws/Pr9Uy6pqnaQDnzZsnevfurbRsxowZYuDAga0ZTWfxELCa1dbWIicnB6NGjVJaPmrUKGRlZTW5zpkzZxqNDwgIeOx4eqQltf61mpoaPHz4EJaWlq0RUSe0tM7R0dHo1KkT3nrrrdaOqBNaUuf9+/fDx8cH4eHhsLGxgYeHB2JiYlBfX6+OyFqpJXX28/NDTk6O4nSRoqIipKam4pVXXmn1vPrkce+F58+fx8OHDzWUSnvx1tpqduvWLdTX18PGxkZpuY2NDSoqKppcp6KiQqXx9EhLav1r8+fPR9euXTFixIjWiKgTWlLn06dPY/PmzcjLy1NHRJ3QkjoXFRXh2LFjmDx5MlJTU3H58mWEh4ejrq4OixYtUkdsrdOSOoeEhOCHH36An58fhBCoq6vDzJkzMX/+fHVE1huPey+sq6vDrVu3YGtrq6Fk2okNoIZIJBKln4UQjZY9y3j6v5bW7q9//St27NiBjIwMGBsbt1Y8nfG0da6ursabb76JjRs3wsrKSl3xdIYqv89yuRzW1tbYsGEDpFIpvLy88N133yE2NpYNYDNUqXNGRgaWLVuGuLg4eHt748qVK4iIiICtrS0iIyPVEVdvNPW6NLWcmscGUM2srKwglUob/Sd58+bNRv/ZNOjcubNK4+mRltS6wapVqxATE4MjR46gT58+rRlT66la56tXr6KkpASBgYGKZXK5HADQpk0bFBYWwtnZuXVDa6GW/D7b2tqibdu2kEqlimWurq6oqKhAbW0tDA0NWzWzNmpJnSMjIyGTyfD2228DAH7zm9/g3r17eOedd7BgwQIYGPBsq+fhce+Fbdq0QceOHTWUSnvxt1LNDA0N4eXlhfT0dKXl6enpGDRoUJPr+Pj4NBqflpb22PH0SEtqDQCxsbFYunQpDh06hP79+7d2TK2nap179+6NCxcuIC8vT/E1duxYDBs2DHl5ebCzs1NXdK3Skt9nX19fXLlyRdFgA8ClS5dga2vL5u8xWlLnmpqaRk2eVCqFeHShZatl1TePey/s378/2rZtq6FUWkxTV5/os4ZbDGzevFnk5+eL2bNni5deekmUlJQIIYSQyWRKV5udPn1aSKVSsWLFClFQUCBWrFjB28A8JVVrvXLlSmFoaCh27dolysvLFV/V1dWa2gWtoGqdf41XAT8dVetcVlYmTE1NxZ/+9CdRWFgoUlJShLW1tfjLX/6iqV3QCqrWefHixcLMzEzs2LFDFBUVibS0NOHs7CyCgoI0tQtaobq6WuTm5orc3FwBQKxevVrk5uYqbrczf/58IZPJFOMbbgMzZ84ckZ+fLzZv3szbwDwDNoAasnbtWmFvby8MDQ2Fp6enOHHihOKxIUOGiKlTpyqN//e//y1cXFxE27ZtRe/evUVycrKaE2svVWptb28vADT6Wrx4sfqDaxlVf6d/iQ3g01O1zllZWcLb21sYGRkJJycnsWzZMlFXV6fm1NpHlTo/fPhQREVFCWdnZ2FsbCzs7OzEu+++KyorKzWQXHscP368yb+3DbWdOnWqGDJkiNI6GRkZol+/fsLQ0FA4ODiIdevWqT+4jpAIwflpIiIiIn3CcwCJiIiI9AwbQCIiIiI9wwaQiIiISM+wASQiIiLSM2wAiYiIiPQMG0AiIiIiPcMGkIiIiEjPsAEkoqcihMA777wDS0tLSCQS5OXlNbtOSUnJU499UQ0dOhSzZ89+4pj4+Hh06NBBTYmIiJ4dG0AieiqHDh1CfHw8UlJSUF5eDg8PD01HUovdu3dj6dKlip8dHBywZs0apTHBwcG4dOmSuqM9NYlEgr1792o6BhG9QNpoOgARaYerV6/C1tYWgwYN0nQUtbK0tGx2jImJCUxMTNSQ5v/q6+shkUhgYMD/44lIdfzLQUTNCg0NxXvvvYeysjJIJBI4ODgAeDQr6Ofnhw4dOqBjx4549dVXcfXq1cc+T2VlJSZPnoxOnTrBxMQEPXv2xJYtWxSP37hxA8HBwbCwsEDHjh0xbtw4lJSUPPb5MjIyIJFI8MUXX+C3v/0tjI2N4e3tjQsXLiiNS05Ohru7O4yMjODg4ICPP/5Y6fG4uDj07NkTxsbGsLGxweuvv6547JeHgIcOHYrS0lLMmTMHEokEEokEgPIh4MLCQkgkEnz77bdK21i9ejUcHBzQ8Omb+fn5GDNmDExNTWFjYwOZTIZbt249dl8btpGSkgI3NzcYGRmhtLQU2dnZGDlyJKysrGBubo4hQ4bgq6++UqzX8Fq99tprSq8dABw4cABeXl4wNjaGk5MTlixZgrq6usdmICLdwQaQiJr1t7/9DdHR0ejWrRvKy8uRnZ0NALh37x7mzp2L7OxsHD16FAYGBnjttdcgl8ubfJ7IyEjk5+fj4MGDKCgowLp162BlZQUAqKmpwbBhw2BqaoqTJ0/i1KlTMDU1xejRo1FbW/vEfB9++CFWrVqF7OxsWFtbY+zYsXj48CEAICcnB0FBQQgJCcGFCxcQFRWFyMhIxMfHAwDOnz+PWbNmITo6GoWFhTh06BAGDx7c5HZ2796Nbt26ITo6GuXl5SgvL280xsXFBV5eXkhISFBa/vnnn2PSpEmQSCQoLy/HkCFD0LdvX5w/fx6HDh3C999/j6CgoCfuZ01NDZYvX45Nmzbh4sWLsLa2RnV1NaZOnYrMzEycPXsWPXv2xJgxY1BdXQ0Aitdqy5YtSq/d4cOH8eabb2LWrFnIz8/Hp59+ivj4eCxbtuyJGYhIRwgioqfwySefCHt7+yeOuXnzpgAgLly4IIQQori4WAAQubm5QgghAgMDxbRp05pcd/PmzcLFxUXI5XLFsgcPHggTExNx+PDhJtc5fvy4ACASExMVy27fvi1MTExEUlKSEEKISZMmiZEjRyqt9+GHHwo3NzchhBDJycmiffv2oqqqqsltDBkyRERERCh+tre3F5988onSmC1btghzc3PFz6tXrxZOTk6KnwsLCwUAcfHiRSGEEJGRkWLUqFFKz3Ht2jUBQBQWFjaZY8uWLQKAyMvLa/LxBnV1dcLMzEwcOHBAsQyA2LNnj9I4f39/ERMTo7Rs27ZtwtbW9onPT0S6gTOARNRiV69exaRJk+Dk5IT27dvD0dERAFBWVtbk+JkzZyIxMRF9+/bFvHnzkJWVpXgsJycHV65cgZmZGUxNTWFqagpLS0v8/PPPTzysDAA+Pj6K7y0tLeHi4oKCggIAQEFBAXx9fZXG+/r64vLly6ivr8fIkSNhb28PJycnyGQyJCQkoKampkX1aBASEoLS0lKcPXsWAJCQkIC+ffvCzc1Nsa/Hjx9X7KepqSl69+4NAE/cV0NDQ/Tp00dp2c2bNxEWFoZevXrB3Nwc5ubm+Omnnx77GjTIyclBdHS0UoY//vGPKC8vf+b9J6IXHy8CIaIWCwwMhJ2dHTZu3IguXbpALpfDw8PjsYdsX375ZZSWluKLL77AkSNH8Pvf/x7h4eFYtWoV5HJ5k4dOAaBTp04qZ2s4P08Iofi+gfjfeXgAYGZmhq+++goZGRlIS0vDokWLEBUVhezs7Bbf2sXW1hbDhg3D559/joEDB2LHjh2YMWOG4nG5XI7AwECsXLmyyXUfx8TEpNG+hIaG4ocffsCaNWtgb28PIyMj+Pj4NHvYXC6XY8mSJZgwYUKjx4yNjZvbRSLScmwAiahFbt++jYKCAnz66afw9/cHAJw6darZ9Tp16oTQ0FCEhobC399fcf6ep6cnkpKSYG1tjfbt26uU5ezZs+jevTuARxeaXLp0STGj5ubm1ihXVlYWevXqBalUCgBo06YNRowYgREjRmDx4sXo0KEDjh071mRzZGhoiPr6+mYzTZ48GX/+858xceJEXL16FSEhIYrHPD09kZycDAcHB7Rp82x/hjMzMxEXF4cxY8YAAK5du9boYpK2bds2yuzp6YnCwkL06NHjmbZPRNqJh4CJqEUartTdsGEDrly5gmPHjmHu3LlPXGfRokXYt28frly5gosXLyIlJQWurq4AHjVMVlZWGDduHDIzM1FcXIwTJ04gIiIC169ff+LzRkdH4+jRo/jPf/6D0NBQWFlZYfz48QCA999/H0ePHsXSpUtx6dIlfPbZZ/jnP/+JDz74AACQkpKCv//978jLy0NpaSm2bt0KuVwOFxeXJrfl4OCAkydP4saNG0+8anfChAmoqqrCzJkzMWzYMHTt2lXxWHh4OH788UdMnDgR586dQ1FREdLS0jB9+vSnai5/qUePHti2bRsKCgrw5ZdfYvLkyY1uSePg4ICjR4+ioqIClZWVAB69Flu3bkVUVBQuXryIgoICJCUlYeHChSptn4i0ExtAImoRAwMDJCYmIicnBx4eHpgzZw5iY2OfuI6hoSE++ugj9OnTB4MHD4ZUKkViYiIAoF27djh58iS6d++OCRMmwNXVFdOnT8f9+/ebnRFcsWIFIiIi4OXlhfLycuzfvx+GhoYAHs107dy5E4mJifDw8MCiRYsQHR2N0NBQAECHDh2we/duDB8+HK6urli/fj127NgBd3f3JrcVHR2NkpISODs7P/HQdPv27REYGIivv/4akydPVnqsS5cuOH36NOrr6xEQEAAPDw9ERETA3Nxc5fv6/etf/0JlZSX69esHmUyGWbNmwdraWmnMxx9/jPT0dNjZ2aFfv34AgICAAKSkpCA9PR2/+93vMHDgQKxevRr29vYqbZ+ItJNE/PJkGCIiLZKRkYFhw4ahsrKSH8VGRKQCzgASERER6Rk2gERERER6hoeAiYiIiPQMZwCJiIiI9AwbQCIiIiI9wwaQiIiISM+wASQiIiLSM2wAiYiIiPQMG0AiIiIiPcMGkIiIiEjPsAEkIiIi0jNsAImIiIj0zH8BF3Befhgfvk0AAAAASUVORK5CYII=\">"
      ],
      "text/plain": [
       "<IPython.core.display.HTML object>"
      ]
     },
     "metadata": {},
     "output_type": "display_data"
    }
   ],
   "source": [
    "# Display the name of the selected model\n",
    "display(HTML(f'<b>Best model:</b> '\n",
    "             f'{models[train_run.outputs[\"best_iteration\"]]}'))\n",
    "\n",
    "# Display the accuracy for the optimal run iteration\n",
    "display(HTML(f'<b>Accuracy:</b> {train_run.outputs[\"accuracy\"]}'))\n",
    "\n",
    "# Display HTML output artifacts\n",
    "display(HTML('<h3>Confusion Matrix:</h3>'),\n",
    "        HTML(filename=train_run.outputs['confusion']))\n",
    "display(HTML('<h3>ROC Curve:</h3>'), HTML(filename=train_run.outputs['roc']))"
   ]
  },
  {
   "cell_type": "markdown",
   "metadata": {},
   "source": [
    "<a id=\"gs-step-test-model\"></a>\n",
    "## Step 5: Test Your Model\n",
    "\n",
    "Now that you have a trained model, you can test it: run a task that uses the [`test_classifier` marketplace function](https://github.com/mlrun/functions/tree/master/test_classifier) to run the selected trained model against the test data set, as returned for the training task (`train`) in the previous step."
   ]
  },
  {
   "cell_type": "markdown",
   "metadata": {},
   "source": [
    "<a id=\"gs-test-model-add-func\"></a>\n",
    "#### Add a Test Function\n",
    "\n",
    "Run the following code to add to your project a `test` function that uses the `test_classifier` marketplace function code, and create a related `test` function object."
   ]
  },
  {
   "cell_type": "code",
   "execution_count": 25,
   "metadata": {},
   "outputs": [],
   "source": [
    "project.set_function('hub://test_classifier', 'test')\n",
    "test = project.func('test').apply(mount_v3io())"
   ]
  },
  {
   "cell_type": "markdown",
   "metadata": {},
   "source": [
    "<a id=\"gs-test-model-run-task\"></a>\n",
    "#### Run a Model-Testing Task\n",
    "\n",
    "Use a task to run the model-testing function:\n",
    "\n",
    "- Create a new `test` task and a related `test_task` task object for executing the `test` project function, which runs the `test_classifier` marketplace function.<br>\n",
    "  In the `NewTask` call, configure parameters for the test function (`params`), and provide the selected trained model from the `train` task as an input artifact (`inputs`).\n",
    "- Run the task by using the `run` MLRun method, and assign the returned run object to a `test_run` variable."
   ]
  },
  {
   "cell_type": "code",
   "execution_count": 26,
   "metadata": {},
   "outputs": [
    {
     "name": "stdout",
     "output_type": "stream",
     "text": [
      "[mlrun] 2020-04-23 08:46:19,136 starting run test uid=efb2d6d33f194c13b60f7e48823ddfe9  -> http://10.199.253.4:8080\n",
      "[mlrun] 2020-04-23 08:46:19,259 Job is running in the background, pod: test-sqv9f\n",
      "No handles with labels found to put in legend.\n",
      "[mlrun] 2020-04-23 08:46:24,182 log artifact roc at /User/getting-started-tutorial/jobs/plots/test/roc.html, size: 39074, db: Y\n",
      "[mlrun] 2020-04-23 08:46:24,359 log artifact confusion at /User/getting-started-tutorial/jobs/plots/test/confusion.html, size: 19968, db: Y\n",
      "[mlrun] 2020-04-23 08:46:24,657 log artifact featimp at /User/getting-started-tutorial/jobs/plots/featimp.html, size: 34290, db: Y\n",
      "[mlrun] 2020-04-23 08:46:24,674 log artifact featimp-tbl at /User/getting-started-tutorial/jobs/featimp-tbl.csv, size: 162, db: Y\n",
      "\n",
      "[mlrun] 2020-04-23 08:46:24,711 run executed, status=completed\n",
      "final state: succeeded\n"
     ]
    },
    {
     "data": {
      "text/html": [
       "<style> \n",
       ".dictlist {\n",
       "  background-color: #b3edff; \n",
       "  text-align: center; \n",
       "  margin: 4px; \n",
       "  border-radius: 3px; padding: 0px 3px 1px 3px; display: inline-block;}\n",
       ".artifact {\n",
       "  cursor: pointer; \n",
       "  background-color: #ffe6cc; \n",
       "  text-align: left; \n",
       "  margin: 4px; border-radius: 3px; padding: 0px 3px 1px 3px; display: inline-block;\n",
       "}\n",
       "div.block.hidden {\n",
       "  display: none;\n",
       "}\n",
       ".clickable {\n",
       "  cursor: pointer;\n",
       "}\n",
       ".ellipsis {\n",
       "  display: inline-block;\n",
       "  max-width: 60px;\n",
       "  white-space: nowrap;\n",
       "  overflow: hidden;\n",
       "  text-overflow: ellipsis;\n",
       "}\n",
       ".master-wrapper {\n",
       "  display: flex;\n",
       "  flex-flow: row nowrap;\n",
       "  justify-content: flex-start;\n",
       "  align-items: stretch;\n",
       "}\n",
       ".master-tbl {\n",
       "  flex: 3\n",
       "}\n",
       ".master-wrapper > div {\n",
       "  margin: 4px;\n",
       "  padding: 10px;\n",
       "}\n",
       "iframe.fileview {\n",
       "  border: 0 none;\n",
       "  height: 100%;\n",
       "  width: 100%;\n",
       "  white-space: pre-wrap;\n",
       "}\n",
       ".pane-header-title {\n",
       "  width: 80%;\n",
       "  font-weight: 500;\n",
       "}\n",
       ".pane-header {\n",
       "  line-height: 1;\n",
       "  background-color: #ffe6cc;\n",
       "  padding: 3px;\n",
       "}\n",
       ".pane-header .close {\n",
       "  font-size: 20px;\n",
       "  font-weight: 700;\n",
       "  float: right;\n",
       "  margin-top: -5px;\n",
       "}\n",
       ".master-wrapper .right-pane {\n",
       "  border: 1px inset silver;\n",
       "  width: 40%;\n",
       "  min-height: 300px;\n",
       "  flex: 3\n",
       "  min-width: 500px;\n",
       "}\n",
       ".master-wrapper * {\n",
       "  box-sizing: border-box;\n",
       "}\n",
       "</style><script>\n",
       "function copyToClipboard(fld) {\n",
       "    if (document.queryCommandSupported && document.queryCommandSupported('copy')) {\n",
       "        var textarea = document.createElement('textarea');\n",
       "        textarea.textContent = fld.innerHTML;\n",
       "        textarea.style.position = 'fixed';\n",
       "        document.body.appendChild(textarea);\n",
       "        textarea.select();\n",
       "\n",
       "        try {\n",
       "            return document.execCommand('copy'); // Security exception may be thrown by some browsers.\n",
       "        } catch (ex) {\n",
       "\n",
       "        } finally {\n",
       "            document.body.removeChild(textarea);\n",
       "        }\n",
       "    }\n",
       "}\n",
       "function expandPanel(el) {\n",
       "  const panelName = \"#\" + el.getAttribute('paneName');\n",
       "  console.log(el.title);\n",
       "\n",
       "  document.querySelector(panelName + \"-title\").innerHTML = el.title\n",
       "  iframe = document.querySelector(panelName + \"-body\");\n",
       "  \n",
       "  const tblcss = `<style> body { font-family: Arial, Helvetica, sans-serif;}\n",
       "    #csv { margin-bottom: 15px; }\n",
       "    #csv table { border-collapse: collapse;}\n",
       "    #csv table td { padding: 4px 8px; border: 1px solid silver;} </style>`;\n",
       "\n",
       "  function csvToHtmlTable(str) {\n",
       "    return '<div id=\"csv\"><table><tr><td>' +  str.replace(/[\\n\\r]+$/g, '').replace(/[\\n\\r]+/g, '</td></tr><tr><td>')\n",
       "      .replace(/,/g, '</td><td>') + '</td></tr></table></div>';\n",
       "  }\n",
       "  \n",
       "  function reqListener () {\n",
       "    if (el.title.endsWith(\".csv\")) {\n",
       "      iframe.setAttribute(\"srcdoc\", tblcss + csvToHtmlTable(this.responseText));\n",
       "    } else {\n",
       "      iframe.setAttribute(\"srcdoc\", this.responseText);\n",
       "    }  \n",
       "    console.log(this.responseText);\n",
       "  }\n",
       "\n",
       "  const oReq = new XMLHttpRequest();\n",
       "  oReq.addEventListener(\"load\", reqListener);\n",
       "  oReq.open(\"GET\", el.title);\n",
       "  oReq.send();\n",
       "  \n",
       "  \n",
       "  //iframe.src = el.title;\n",
       "  const resultPane = document.querySelector(panelName + \"-pane\");\n",
       "  if (resultPane.classList.contains(\"hidden\")) {\n",
       "    resultPane.classList.remove(\"hidden\");\n",
       "  }\n",
       "}\n",
       "function closePanel(el) {\n",
       "  const panelName = \"#\" + el.getAttribute('paneName')\n",
       "  const resultPane = document.querySelector(panelName + \"-pane\");\n",
       "  if (!resultPane.classList.contains(\"hidden\")) {\n",
       "    resultPane.classList.add(\"hidden\");\n",
       "  }\n",
       "}\n",
       "\n",
       "</script>\n",
       "<div class=\"master-wrapper\">\n",
       "  <div class=\"block master-tbl\"><div>\n",
       "<style scoped>\n",
       "    .dataframe tbody tr th:only-of-type {\n",
       "        vertical-align: middle;\n",
       "    }\n",
       "\n",
       "    .dataframe tbody tr th {\n",
       "        vertical-align: top;\n",
       "    }\n",
       "\n",
       "    .dataframe thead th {\n",
       "        text-align: right;\n",
       "    }\n",
       "</style>\n",
       "<table border=\"1\" class=\"dataframe\">\n",
       "  <thead>\n",
       "    <tr style=\"text-align: right;\">\n",
       "      <th>project</th>\n",
       "      <th>uid</th>\n",
       "      <th>iter</th>\n",
       "      <th>start</th>\n",
       "      <th>state</th>\n",
       "      <th>name</th>\n",
       "      <th>labels</th>\n",
       "      <th>inputs</th>\n",
       "      <th>parameters</th>\n",
       "      <th>results</th>\n",
       "      <th>artifacts</th>\n",
       "    </tr>\n",
       "  </thead>\n",
       "  <tbody>\n",
       "    <tr>\n",
       "      <td>getting-started-iris-iguazio</td>\n",
       "      <td><div title=\"efb2d6d33f194c13b60f7e48823ddfe9\"><a href=\"https://mlrun-ui.default-tenant.app.dev34.lab.iguazeng.com/projects/getting-started-iris-iguazio/jobs/efb2d6d33f194c13b60f7e48823ddfe9/info\" target=\"_blank\" >...823ddfe9</a></div></td>\n",
       "      <td>0</td>\n",
       "      <td>Apr 23 08:46:23</td>\n",
       "      <td>completed</td>\n",
       "      <td>test</td>\n",
       "      <td><div class=\"dictlist\">host=test-sqv9f</div><div class=\"dictlist\">kind=job</div><div class=\"dictlist\">owner=iguazio</div><div class=\"dictlist\">v3io_user=iguazio</div></td>\n",
       "      <td><div title=\"/User/getting-started-tutorial/jobs/1/models/model.pkl\">models_path</div><div title=\"/User/getting-started-tutorial/jobs/1/test_set.parquet\">test_set</div></td>\n",
       "      <td><div class=\"dictlist\">label_column=label</div><div class=\"dictlist\">plots_dest=plots/test</div></td>\n",
       "      <td><div class=\"dictlist\">accuracy=0.9333333333333333</div><div class=\"dictlist\">avg_precscore=0.3752747252747253</div><div class=\"dictlist\">f1_score=0.9333333333333333</div><div class=\"dictlist\">rocauc=0.4343866010532677</div></td>\n",
       "      <td><div class=\"artifact\" onclick=\"expandPanel(this)\" paneName=\"result8642586d\" title=\"/files/getting-started-tutorial/jobs/plots/test/roc.html\">roc</div><div class=\"artifact\" onclick=\"expandPanel(this)\" paneName=\"result8642586d\" title=\"/files/getting-started-tutorial/jobs/plots/test/confusion.html\">confusion</div><div class=\"artifact\" onclick=\"expandPanel(this)\" paneName=\"result8642586d\" title=\"/files/getting-started-tutorial/jobs/plots/featimp.html\">featimp</div><div class=\"artifact\" onclick=\"expandPanel(this)\" paneName=\"result8642586d\" title=\"/files/getting-started-tutorial/jobs/featimp-tbl.csv\">featimp-tbl</div></td>\n",
       "    </tr>\n",
       "  </tbody>\n",
       "</table>\n",
       "</div></div>\n",
       "  <div id=\"result8642586d-pane\" class=\"right-pane block hidden\">\n",
       "    <div class=\"pane-header\">\n",
       "      <span id=\"result8642586d-title\" class=\"pane-header-title\">Title</span>\n",
       "      <span onclick=\"closePanel(this)\" paneName=\"result8642586d\" class=\"close clickable\">&times;</span>\n",
       "    </div>\n",
       "    <iframe class=\"fileview\" id=\"result8642586d-body\"></iframe>\n",
       "  </div>\n",
       "</div>\n"
      ],
      "text/plain": [
       "<IPython.core.display.HTML object>"
      ]
     },
     "metadata": {},
     "output_type": "display_data"
    },
    {
     "name": "stdout",
     "output_type": "stream",
     "text": [
      "to track results use .show() or .logs() or in CLI: \n",
      "!mlrun get run efb2d6d33f194c13b60f7e48823ddfe9 --project getting-started-iris-iguazio , !mlrun logs efb2d6d33f194c13b60f7e48823ddfe9 --project getting-started-iris-iguazio\n",
      "[mlrun] 2020-04-23 08:46:28,469 run executed, status=completed\n"
     ]
    }
   ],
   "source": [
    "test_task = NewTask(name=\"test\",\n",
    "                    params={\"label_column\": \"label\",\n",
    "                            \"plots_dest\": path.join(\"plots\", \"test\")},\n",
    "                    inputs={\"models_path\": train_run.outputs['model'],\n",
    "                            \"test_set\": train_run.outputs['test_set']}\n",
    "                    )\n",
    "test_run = test.run(test_task,\n",
    "                    artifact_path=artifact_path)"
   ]
  },
  {
   "cell_type": "markdown",
   "metadata": {},
   "source": [
    "<a id=\"gs-test-model-run-output-review\"></a>\n",
    "### Review the Run Output\n",
    "\n",
    "Check the output information for your run in Jupyter Notebook and on the MLRun dashboard.\n",
    "\n",
    "Use the following code to display information from the run object &mdash; the accuracy of the model, and the `confusion` and `roc` HTML output artifacts."
   ]
  },
  {
   "cell_type": "code",
   "execution_count": 27,
   "metadata": {},
   "outputs": [
    {
     "data": {
      "text/html": [
       "<b>Test Accuracy:</b> 0.9333333333333333"
      ],
      "text/plain": [
       "<IPython.core.display.HTML object>"
      ]
     },
     "metadata": {},
     "output_type": "display_data"
    },
    {
     "data": {
      "text/html": [
       "<h3>Confusion matrix:</h3>"
      ],
      "text/plain": [
       "<IPython.core.display.HTML object>"
      ]
     },
     "metadata": {},
     "output_type": "display_data"
    },
    {
     "data": {
      "text/html": [
       "<img title=\"confusion\" src=\"data:image/png;base64,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\">"
      ],
      "text/plain": [
       "<IPython.core.display.HTML object>"
      ]
     },
     "metadata": {},
     "output_type": "display_data"
    },
    {
     "data": {
      "text/html": [
       "<h3>ROC Curve:</h3>"
      ],
      "text/plain": [
       "<IPython.core.display.HTML object>"
      ]
     },
     "metadata": {},
     "output_type": "display_data"
    },
    {
     "data": {
      "text/html": [
       "<img title=\"roc\" src=\"data:image/png;base64,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\">"
      ],
      "text/plain": [
       "<IPython.core.display.HTML object>"
      ]
     },
     "metadata": {},
     "output_type": "display_data"
    }
   ],
   "source": [
    "# Display the model accuracy\n",
    "display(HTML(f'<b>Test Accuracy:</b> {test_run.outputs[\"accuracy\"]}'))\n",
    "\n",
    "# Display HTML output artifacts\n",
    "display(HTML(\"<h3>Confusion matrix:</h3>\"),\n",
    "        HTML(filename=test_run.outputs['confusion']))\n",
    "display(HTML(\"<h3>ROC Curve:</h3>\"), HTML(filename=test_run.outputs['roc']))"
   ]
  },
  {
   "cell_type": "markdown",
   "metadata": {},
   "source": [
    "<a id=\"gs-step-create-n-run-ml-pipeline\"></a>\n",
    "## Step 6: Create and Run a Fully Automated ML Pipeline\n",
    "\n",
    "You're now ready to create a full ML pipeline.\n",
    "This is done by using [Kubeflow Pipelines](https://www.kubeflow.org/docs/pipelines/overview/pipelines-overview/), which is integrated into the Iguazio Data Science Platform.\n",
    "Kubeflow Pipelines is an open-source framework for building and deploying portable, scalable machine-learning workflows based on Docker containers.\n",
    "MLRun leverages this framework to take your existing code and deploy it as steps in the pipeline."
   ]
  },
  {
   "cell_type": "markdown",
   "metadata": {},
   "source": [
    "<a id=\"gs-ml-pipeline-add-functions\"></a>\n",
    "### Add Serving Functions from the MLRun Functions Marketplace\n",
    "\n",
    "Add to you project a real-time model-server function (`serving`) and a REST model API tester function (`serving-tester`), which run the [`model_server`](https://github.com/mlrun/functions/tree/master/model_server) and [`model_server_tester`](https://github.com/mlrun/functions/tree/master/model_server_tester) MLRun marketplace functions, respectively."
   ]
  },
  {
   "cell_type": "code",
   "execution_count": 28,
   "metadata": {},
   "outputs": [
    {
     "data": {
      "text/plain": [
       "<mlrun.runtimes.kubejob.KubejobRuntime at 0x7f59261ef8d0>"
      ]
     },
     "execution_count": 28,
     "metadata": {},
     "output_type": "execute_result"
    }
   ],
   "source": [
    "project.set_function('hub://model_server', 'serving')\n",
    "project.set_function('hub://model_server_tester', 'serving-tester')"
   ]
  },
  {
   "cell_type": "markdown",
   "metadata": {},
   "source": [
    "<a id=\"gs-pipeline-workflow-define-n-save\"></a>\n",
    "### Define and Save a Pipeline Workflow\n",
    "\n",
    "A pipeline is created by running an MLRun **\"workflow\"**.\n",
    "The following code defines a workflow and writes it to a file in your project directory (**/User/getting-started-tutorial/jobs/workflow.py**).\n",
    "The workflow describes a directed acyclic graph (DAG) for execution using Kubeflow Pipelines, and depicts the connections between the functions and the data as part of an end-to-end pipeline.\n",
    "The workflow file has two parts &mdash; initialization of the function objects, and definition of a pipeline DSL (domain-specific language) for connecting the function inputs and outputs.\n",
    "Examine the code to see how functions objects are initialized and used (by name) within the workflow.\n",
    "\n",
    "The defined pipeline includes the following steps:\n",
    "\n",
    "- Ingest the Iris flower data set (`ingest`).\n",
    "- Analyze the data set (`describe`).\n",
    "- Train and test the model with hyperparameters (`train`).\n",
    "- Deploy the model as a real-time serverless function (`deploy`).\n",
    "- Test the serverless serving-model function with a test data set by using REST API calls (`Tester`).\n",
    "\n",
    "> **Note**: A pipeline can also include continuous build integration and deployment (CI/CD) steps, such as building container images and deploying models."
   ]
  },
  {
   "cell_type": "code",
   "execution_count": 29,
   "metadata": {},
   "outputs": [
    {
     "name": "stdout",
     "output_type": "stream",
     "text": [
      "Writing /User/getting-started-tutorial/conf/workflow.py\n"
     ]
    }
   ],
   "source": [
    "%%writefile {path.join(project_path, 'workflow.py')}\n",
    "\n",
    "from kfp import dsl\n",
    "from mlrun import mount_v3io\n",
    "\n",
    "funcs = {}\n",
    "DATASET = 'iris_dataset'\n",
    "LABELS = \"label\"\n",
    "MODELS = [\"sklearn.ensemble.RandomForestClassifier\",\n",
    "          \"sklearn.linear_model.LogisticRegression\",\n",
    "          \"sklearn.ensemble.AdaBoostClassifier\"]\n",
    "\n",
    "\n",
    "# Configure function resources and local settings\n",
    "def init_functions(functions: dict, project=None, secrets=None):\n",
    "    for f in functions.values():\n",
    "        f.apply(mount_v3io())\n",
    "\n",
    "    functions['serving'].metadata.name = 'getting-started-serving'\n",
    "\n",
    "\n",
    "# Create a Kubeflow Pipelines pipeline\n",
    "@dsl.pipeline(\n",
    "    name=\"Getting-started tutorial\",\n",
    "    description=\"This tutorial is designed to demonstrate some of the main \"\n",
    "                \"capabilities of the Iguazio Data Science Platform.\\n\"\n",
    "                \"The tutorial uses the Iris flower data set.\"\n",
    ")\n",
    "def kfpipeline(source_url='http://iguazio-sample-data.s3.amazonaws.com/iris_dataset.csv'):\n",
    "\n",
    "    # Ingest the data set\n",
    "    ingest = funcs['get-data'].as_step(\n",
    "        name=\"get-data\",\n",
    "        handler='get_data',\n",
    "        inputs={'source_url': source_url},\n",
    "        params={'format': 'pq'},\n",
    "        outputs=[DATASET])\n",
    "\n",
    "    # Analyze the dataset\n",
    "    describe = funcs[\"describe\"].as_step(\n",
    "        name=\"summary\",\n",
    "        params={\"label_column\": LABELS},\n",
    "        inputs={\"table\": ingest.outputs[DATASET]})\n",
    "\n",
    "    # Train a model with hyperparemeters\n",
    "    train = funcs[\"train\"].as_step(\n",
    "        name=\"train\",\n",
    "        params={\"sample\": -1,\n",
    "                \"label_column\": LABELS,\n",
    "                \"test_size\": 0.10},\n",
    "        hyperparams={'model_pkg_class': MODELS},\n",
    "        selector='max.accuracy',\n",
    "        inputs={\"dataset\": ingest.outputs[DATASET]},\n",
    "        outputs=['model', 'test_set'])\n",
    "\n",
    "    # Test and visualize the model\n",
    "    test = funcs[\"test\"].as_step(\n",
    "        name=\"test\",\n",
    "        params={\"label_column\": LABELS},\n",
    "        inputs={\"models_path\": train.outputs['model'],\n",
    "                \"test_set\": train.outputs['test_set']})\n",
    "\n",
    "    # Deploy the model as a serverless function\n",
    "    deploy = funcs[\"serving\"].deploy_step(\n",
    "        models={f\"{DATASET}_v1\": train.outputs['model']})\n",
    "\n",
    "    # Test the new model server (via REST API calls)\n",
    "    tester = funcs[\"serving-tester\"].as_step(\n",
    "        name='serving-tester',\n",
    "        params={'addr': deploy.outputs['endpoint'], 'model': f\"{DATASET}_v1\"},\n",
    "        inputs={'table': train.outputs['test_set']})"
   ]
  },
  {
   "cell_type": "markdown",
   "metadata": {},
   "source": [
    "<a id=\"gs-register-workflow\"></a>\n",
    "#### Register the Workflow\n",
    "\n",
    "Use the `set_workflow` MLRun project method to register your workflow with MLRun.\n",
    "The following code sets the `name` parameter to the selected workflow name (\"main\") and the `code` parameter to the name of the workflow file that is found in your project directory (**workflow.py**)."
   ]
  },
  {
   "cell_type": "code",
   "execution_count": 30,
   "metadata": {},
   "outputs": [],
   "source": [
    "# Register the workflow file as \"main\"\n",
    "project.set_workflow('main', 'workflow.py')"
   ]
  },
  {
   "cell_type": "markdown",
   "metadata": {},
   "source": [
    "<a id=\"gs-save-project\"></a>\n",
    "### Save Your Project Configuration\n",
    "\n",
    "Use the `save` MLRun project method to save your project definitions to a project-configuration file in your project directory (**/User/getting-started-tutorial/conf**).\n",
    "The default name of the project file is **project.yaml**, but you can optionally change it by setting the `filepath` parameter of the `save` method.\n",
    "\n",
    "> **Note:** It's recommended that you commit your project-configuration file and any future changes to this file to a Git repository."
   ]
  },
  {
   "cell_type": "code",
   "execution_count": 31,
   "metadata": {},
   "outputs": [],
   "source": [
    "project.save()"
   ]
  },
  {
   "cell_type": "markdown",
   "metadata": {},
   "source": [
    "<a id='gs-pipeline-workflow-run'></a>\n",
    "### Run Your Pipeline Workflow\n",
    "\n",
    "Use the `run` MLRun project method to execute your workflow pipeline with Kubeflow Pipelines.\n",
    "The tutorial code sets the following method parameters; (for the full parameters list, see the MLRun documentation or embedded help):\n",
    "\n",
    "- **`name`** &mdash; the workflow name (in this case, \"main\" &mdash; see the previous step).\n",
    "- **`arguments`** &mdash; A dictionary of Kubeflow Pipelines arguments (parameters).\n",
    "  The tutorial code sets this parameter to an empty arguments list (`{}`), but you can edit the code to add arguments.\n",
    "- **`artifact_path`** &mdash; a path or URL that identifies a location for storing the workflow artifacts.\n",
    "  You can use `{{workflow.uid}}` in the path to signify the ID of the current workflow run iteration.\n",
    "  The tutorial code sets the artifacts path to a **&lt;worker ID&gt;** directory (`{{workflow.uid}}`) in a **pipeline** directory within the current tutorial directory (**/User/getting-started-tutorial/pipeline/&lt;worker ID&gt;**).\n",
    "- **`dirty`** &mdash; set to `True` to allow running the workflow also when the project's Git repository is dirty (i.e., contains uncommitted changes).\n",
    "  (When the notebook that contains the execution code is in the same Git directory as the executed workflow, the directory will always be dirty during the execution.)\n",
    "\n",
    "The `run` method returns the ID of the executed workflow, which the code stores in a `run_id` variable.\n",
    "You can use this ID to track the progress or your workflow, as demonstrated in the following sections.\n",
    "\n",
    "> **Note**: You can also run the workflow from a command-line shell by using the `mlrun` CLI.\n",
    "> The following CLI command defines a similar execution logic as that of the `run` call in the tutorial:\n",
    "> ```\n",
    "> mlrun project /User/getting-started-tutorial/conf -r main -p \"$V3IO_HOME_URL/getting-started-tutorial/pipeline/{{workflow.uid}}/\"\n",
    "> ```"
   ]
  },
  {
   "cell_type": "code",
   "execution_count": 32,
   "metadata": {},
   "outputs": [
    {
     "data": {
      "text/html": [
       "Experiment link <a href=\"https://dashboard.default-tenant.app.dev34.lab.iguazeng.com/pipelines/#/experiments/details/1375099d-4837-4819-b907-81a77d1ce8a2\" target=\"_blank\" >here</a>"
      ],
      "text/plain": [
       "<IPython.core.display.HTML object>"
      ]
     },
     "metadata": {},
     "output_type": "display_data"
    },
    {
     "data": {
      "text/html": [
       "Run link <a href=\"https://dashboard.default-tenant.app.dev34.lab.iguazeng.com/pipelines/#/runs/details/aa8ec677-a2e2-480f-8ce7-e722dd0be884\" target=\"_blank\" >here</a>"
      ],
      "text/plain": [
       "<IPython.core.display.HTML object>"
      ]
     },
     "metadata": {},
     "output_type": "display_data"
    },
    {
     "name": "stdout",
     "output_type": "stream",
     "text": [
      "[mlrun] 2020-04-23 08:46:37,424 Pipeline run id=aa8ec677-a2e2-480f-8ce7-e722dd0be884, check UI or DB for progress\n"
     ]
    }
   ],
   "source": [
    "run_id = project.run(\n",
    "    'main',\n",
    "    arguments={}, \n",
    "    artifact_path=path.abspath(path.join('pipeline','{{workflow.uid}}')), \n",
    "    dirty=True)"
   ]
  },
  {
   "cell_type": "markdown",
   "metadata": {},
   "source": [
    "<a id=\"gs-pipeline-workflow-run-output-review\"></a>\n",
    "### Review the Run Output\n",
    "\n",
    "The run output contains hyperlinks to the relevant sections for your workflow in the platform dashboard's pipelines dashboard (**Pipelines**):\n",
    "\n",
    "Select the **Experiments link** to view information about the executed experiments.\n",
    "<br><br>\n",
    "![getting_started-pipeline](./assets/getting_started-pipeline-experiment.png)\n",
    "\n",
    "Select the **Run link** to view the pipeline execution.\n",
    "The following image illustrates the execution graph for a completed run:\n",
    "<br><br>\n",
    "![getting_started-pipeline](./assets/getting_started-pipeline.png)"
   ]
  },
  {
   "cell_type": "markdown",
   "metadata": {},
   "source": [
    "<a id=\"gs-pipeline-workflow-track-execution\"></a>\n",
    "### Track the Pipeline Workflow Execution\n",
    "\n",
    "You can use the following code to view the information for your pipeline workflow execution &mdash; including inputs and outputs, run results, and artifacts.\n",
    "\n",
    "The code uses the `get_run_db` MLRun method to get an MLRun DB object for your project's MLRun database/API service (\"the MLRun DB\"), and the `connect` method to connect to the DB.\n",
    "The returned database object is stored in a `db` variable, which can then be used to run additional methods for performing different operations on the database.\n",
    "\n",
    "The code uses the `list_runs` method to list all runs for the current workflow.\n",
    "The workflow is referenced by using the workflow ID that was returned for the workflow execution and saved to the `run_id` variable."
   ]
  },
  {
   "cell_type": "code",
   "execution_count": 33,
   "metadata": {},
   "outputs": [
    {
     "data": {
      "text/html": [
       "<style> \n",
       ".dictlist {\n",
       "  background-color: #b3edff; \n",
       "  text-align: center; \n",
       "  margin: 4px; \n",
       "  border-radius: 3px; padding: 0px 3px 1px 3px; display: inline-block;}\n",
       ".artifact {\n",
       "  cursor: pointer; \n",
       "  background-color: #ffe6cc; \n",
       "  text-align: left; \n",
       "  margin: 4px; border-radius: 3px; padding: 0px 3px 1px 3px; display: inline-block;\n",
       "}\n",
       "div.block.hidden {\n",
       "  display: none;\n",
       "}\n",
       ".clickable {\n",
       "  cursor: pointer;\n",
       "}\n",
       ".ellipsis {\n",
       "  display: inline-block;\n",
       "  max-width: 60px;\n",
       "  white-space: nowrap;\n",
       "  overflow: hidden;\n",
       "  text-overflow: ellipsis;\n",
       "}\n",
       ".master-wrapper {\n",
       "  display: flex;\n",
       "  flex-flow: row nowrap;\n",
       "  justify-content: flex-start;\n",
       "  align-items: stretch;\n",
       "}\n",
       ".master-tbl {\n",
       "  flex: 3\n",
       "}\n",
       ".master-wrapper > div {\n",
       "  margin: 4px;\n",
       "  padding: 10px;\n",
       "}\n",
       "iframe.fileview {\n",
       "  border: 0 none;\n",
       "  height: 100%;\n",
       "  width: 100%;\n",
       "  white-space: pre-wrap;\n",
       "}\n",
       ".pane-header-title {\n",
       "  width: 80%;\n",
       "  font-weight: 500;\n",
       "}\n",
       ".pane-header {\n",
       "  line-height: 1;\n",
       "  background-color: #ffe6cc;\n",
       "  padding: 3px;\n",
       "}\n",
       ".pane-header .close {\n",
       "  font-size: 20px;\n",
       "  font-weight: 700;\n",
       "  float: right;\n",
       "  margin-top: -5px;\n",
       "}\n",
       ".master-wrapper .right-pane {\n",
       "  border: 1px inset silver;\n",
       "  width: 40%;\n",
       "  min-height: 300px;\n",
       "  flex: 3\n",
       "  min-width: 500px;\n",
       "}\n",
       ".master-wrapper * {\n",
       "  box-sizing: border-box;\n",
       "}\n",
       "</style><script>\n",
       "function copyToClipboard(fld) {\n",
       "    if (document.queryCommandSupported && document.queryCommandSupported('copy')) {\n",
       "        var textarea = document.createElement('textarea');\n",
       "        textarea.textContent = fld.innerHTML;\n",
       "        textarea.style.position = 'fixed';\n",
       "        document.body.appendChild(textarea);\n",
       "        textarea.select();\n",
       "\n",
       "        try {\n",
       "            return document.execCommand('copy'); // Security exception may be thrown by some browsers.\n",
       "        } catch (ex) {\n",
       "\n",
       "        } finally {\n",
       "            document.body.removeChild(textarea);\n",
       "        }\n",
       "    }\n",
       "}\n",
       "function expandPanel(el) {\n",
       "  const panelName = \"#\" + el.getAttribute('paneName');\n",
       "  console.log(el.title);\n",
       "\n",
       "  document.querySelector(panelName + \"-title\").innerHTML = el.title\n",
       "  iframe = document.querySelector(panelName + \"-body\");\n",
       "  \n",
       "  const tblcss = `<style> body { font-family: Arial, Helvetica, sans-serif;}\n",
       "    #csv { margin-bottom: 15px; }\n",
       "    #csv table { border-collapse: collapse;}\n",
       "    #csv table td { padding: 4px 8px; border: 1px solid silver;} </style>`;\n",
       "\n",
       "  function csvToHtmlTable(str) {\n",
       "    return '<div id=\"csv\"><table><tr><td>' +  str.replace(/[\\n\\r]+$/g, '').replace(/[\\n\\r]+/g, '</td></tr><tr><td>')\n",
       "      .replace(/,/g, '</td><td>') + '</td></tr></table></div>';\n",
       "  }\n",
       "  \n",
       "  function reqListener () {\n",
       "    if (el.title.endsWith(\".csv\")) {\n",
       "      iframe.setAttribute(\"srcdoc\", tblcss + csvToHtmlTable(this.responseText));\n",
       "    } else {\n",
       "      iframe.setAttribute(\"srcdoc\", this.responseText);\n",
       "    }  \n",
       "    console.log(this.responseText);\n",
       "  }\n",
       "\n",
       "  const oReq = new XMLHttpRequest();\n",
       "  oReq.addEventListener(\"load\", reqListener);\n",
       "  oReq.open(\"GET\", el.title);\n",
       "  oReq.send();\n",
       "  \n",
       "  \n",
       "  //iframe.src = el.title;\n",
       "  const resultPane = document.querySelector(panelName + \"-pane\");\n",
       "  if (resultPane.classList.contains(\"hidden\")) {\n",
       "    resultPane.classList.remove(\"hidden\");\n",
       "  }\n",
       "}\n",
       "function closePanel(el) {\n",
       "  const panelName = \"#\" + el.getAttribute('paneName')\n",
       "  const resultPane = document.querySelector(panelName + \"-pane\");\n",
       "  if (!resultPane.classList.contains(\"hidden\")) {\n",
       "    resultPane.classList.add(\"hidden\");\n",
       "  }\n",
       "}\n",
       "\n",
       "</script>\n",
       "<div class=\"master-wrapper\">\n",
       "  <div class=\"block master-tbl\"><div>\n",
       "<style scoped>\n",
       "    .dataframe tbody tr th:only-of-type {\n",
       "        vertical-align: middle;\n",
       "    }\n",
       "\n",
       "    .dataframe tbody tr th {\n",
       "        vertical-align: top;\n",
       "    }\n",
       "\n",
       "    .dataframe thead th {\n",
       "        text-align: right;\n",
       "    }\n",
       "</style>\n",
       "<table border=\"1\" class=\"dataframe\">\n",
       "  <thead>\n",
       "    <tr style=\"text-align: right;\">\n",
       "      <th>project</th>\n",
       "      <th>uid</th>\n",
       "      <th>iter</th>\n",
       "      <th>start</th>\n",
       "      <th>state</th>\n",
       "      <th>name</th>\n",
       "      <th>labels</th>\n",
       "      <th>inputs</th>\n",
       "      <th>parameters</th>\n",
       "      <th>results</th>\n",
       "      <th>artifacts</th>\n",
       "    </tr>\n",
       "  </thead>\n",
       "  <tbody>\n",
       "    <tr>\n",
       "      <td>getting-started-iris-iguazio</td>\n",
       "      <td><div title=\"c732ec6211f141269fd126297f1a5503\"><a href=\"https://mlrun-ui.default-tenant.app.dev34.lab.iguazeng.com/projects/getting-started-iris-iguazio/jobs/c732ec6211f141269fd126297f1a5503/info\" target=\"_blank\" >...7f1a5503</a></div></td>\n",
       "      <td>0</td>\n",
       "      <td>Apr 23 08:49:55</td>\n",
       "      <td>completed</td>\n",
       "      <td>serving-tester</td>\n",
       "      <td><div class=\"dictlist\">host=serving-tester-2gqxg</div><div class=\"dictlist\">kind=job</div><div class=\"dictlist\">owner=iguazio</div><div class=\"dictlist\">v3io_user=iguazio</div><div class=\"dictlist\">workflow=aa8ec677-a2e2-480f-8ce7-e722dd0be884</div></td>\n",
       "      <td><div title=\"/User/getting-started-tutorial/pipeline/aa8ec677-a2e2-480f-8ce7-e722dd0be884/2/test_set.parquet\">table</div></td>\n",
       "      <td><div class=\"dictlist\">addr=http://192.168.224.70:32321</div><div class=\"dictlist\">model=iris_dataset_v1</div></td>\n",
       "      <td><div class=\"dictlist\">avg_latency=6469</div><div class=\"dictlist\">errors=0</div><div class=\"dictlist\">match=6</div><div class=\"dictlist\">total_tests=10</div></td>\n",
       "      <td></td>\n",
       "    </tr>\n",
       "    <tr>\n",
       "      <td>getting-started-iris-iguazio</td>\n",
       "      <td><div title=\"5e67740ce3954063861407fac06ce474\"><a href=\"https://mlrun-ui.default-tenant.app.dev34.lab.iguazeng.com/projects/getting-started-iris-iguazio/jobs/5e67740ce3954063861407fac06ce474/info\" target=\"_blank\" >...c06ce474</a></div></td>\n",
       "      <td>0</td>\n",
       "      <td>Apr 23 08:48:12</td>\n",
       "      <td>completed</td>\n",
       "      <td>summary</td>\n",
       "      <td><div class=\"dictlist\">host=summary-nmklv</div><div class=\"dictlist\">kind=job</div><div class=\"dictlist\">owner=iguazio</div><div class=\"dictlist\">v3io_user=iguazio</div><div class=\"dictlist\">workflow=aa8ec677-a2e2-480f-8ce7-e722dd0be884</div></td>\n",
       "      <td><div title=\"/User/getting-started-tutorial/pipeline/aa8ec677-a2e2-480f-8ce7-e722dd0be884/data/iris_dataset.parquet\">table</div></td>\n",
       "      <td><div class=\"dictlist\">label_column=label</div></td>\n",
       "      <td><div class=\"dictlist\">scale_pos_weight=1.00</div></td>\n",
       "      <td><div class=\"artifact\" onclick=\"expandPanel(this)\" paneName=\"result6e5af703\" title=\"/files/getting-started-tutorial/pipeline/aa8ec677-a2e2-480f-8ce7-e722dd0be884/plots/hist.html\">histograms</div><div class=\"artifact\" onclick=\"expandPanel(this)\" paneName=\"result6e5af703\" title=\"/files/getting-started-tutorial/pipeline/aa8ec677-a2e2-480f-8ce7-e722dd0be884/plots/imbalance.html\">imbalance</div><div class=\"artifact\" onclick=\"expandPanel(this)\" paneName=\"result6e5af703\" title=\"/files/getting-started-tutorial/pipeline/aa8ec677-a2e2-480f-8ce7-e722dd0be884/plots/corr.html\">correlation</div></td>\n",
       "    </tr>\n",
       "    <tr>\n",
       "      <td>getting-started-iris-iguazio</td>\n",
       "      <td><div title=\"fff23f0859444970a666bbe4e08be169\"><a href=\"https://mlrun-ui.default-tenant.app.dev34.lab.iguazeng.com/projects/getting-started-iris-iguazio/jobs/fff23f0859444970a666bbe4e08be169/info\" target=\"_blank\" >...e08be169</a></div></td>\n",
       "      <td>0</td>\n",
       "      <td>Apr 23 08:48:12</td>\n",
       "      <td>completed</td>\n",
       "      <td>test</td>\n",
       "      <td><div class=\"dictlist\">host=test-s4dfv</div><div class=\"dictlist\">kind=job</div><div class=\"dictlist\">owner=iguazio</div><div class=\"dictlist\">v3io_user=iguazio</div><div class=\"dictlist\">workflow=aa8ec677-a2e2-480f-8ce7-e722dd0be884</div></td>\n",
       "      <td><div title=\"/User/getting-started-tutorial/pipeline/aa8ec677-a2e2-480f-8ce7-e722dd0be884/2/models/model.pkl\">models_path</div><div title=\"/User/getting-started-tutorial/pipeline/aa8ec677-a2e2-480f-8ce7-e722dd0be884/2/test_set.parquet\">test_set</div></td>\n",
       "      <td><div class=\"dictlist\">label_column=label</div></td>\n",
       "      <td><div class=\"dictlist\">accuracy=0.9333333333333333</div><div class=\"dictlist\">avg_precscore=0.3673982494785104</div><div class=\"dictlist\">f1_score=0.9333333333333333</div><div class=\"dictlist\">rocauc=0.3333333333333333</div></td>\n",
       "      <td><div class=\"artifact\" onclick=\"expandPanel(this)\" paneName=\"result6e5af703\" title=\"/files/getting-started-tutorial/pipeline/aa8ec677-a2e2-480f-8ce7-e722dd0be884/roc.html\">roc</div><div class=\"artifact\" onclick=\"expandPanel(this)\" paneName=\"result6e5af703\" title=\"/files/getting-started-tutorial/pipeline/aa8ec677-a2e2-480f-8ce7-e722dd0be884/confusion.html\">confusion</div></td>\n",
       "    </tr>\n",
       "    <tr>\n",
       "      <td>getting-started-iris-iguazio</td>\n",
       "      <td><div title=\"fc2bda0ee1524d23ba987811524052fa\"><a href=\"https://mlrun-ui.default-tenant.app.dev34.lab.iguazeng.com/projects/getting-started-iris-iguazio/jobs/fc2bda0ee1524d23ba987811524052fa/info\" target=\"_blank\" >...524052fa</a></div></td>\n",
       "      <td>0</td>\n",
       "      <td>Apr 23 08:47:54</td>\n",
       "      <td>completed</td>\n",
       "      <td>train</td>\n",
       "      <td><div class=\"dictlist\">kind=job</div><div class=\"dictlist\">owner=iguazio</div><div class=\"dictlist\">v3io_user=iguazio</div><div class=\"dictlist\">workflow=aa8ec677-a2e2-480f-8ce7-e722dd0be884</div></td>\n",
       "      <td><div title=\"/User/getting-started-tutorial/pipeline/aa8ec677-a2e2-480f-8ce7-e722dd0be884/data/iris_dataset.parquet\">dataset</div></td>\n",
       "      <td><div class=\"dictlist\">label_column=label</div><div class=\"dictlist\">sample=-1</div><div class=\"dictlist\">test_size=0.1</div></td>\n",
       "      <td><div class=\"dictlist\">accuracy=0.9705882352941176</div><div class=\"dictlist\">best_iteration=2</div><div class=\"dictlist\">f1_score=0.9705882352941176</div><div class=\"dictlist\">rocauc=0.9945117845117846</div></td>\n",
       "      <td><div title=\"/User/getting-started-tutorial/pipeline/aa8ec677-a2e2-480f-8ce7-e722dd0be884/2/test_set.parquet\">test_set</div><div title=\"/User/getting-started-tutorial/pipeline/aa8ec677-a2e2-480f-8ce7-e722dd0be884/2/models/model.pkl\">model</div><div class=\"artifact\" onclick=\"expandPanel(this)\" paneName=\"result6e5af703\" title=\"/files/getting-started-tutorial/pipeline/aa8ec677-a2e2-480f-8ce7-e722dd0be884/2/plots/train/roc.html\">roc</div><div class=\"artifact\" onclick=\"expandPanel(this)\" paneName=\"result6e5af703\" title=\"/files/getting-started-tutorial/pipeline/aa8ec677-a2e2-480f-8ce7-e722dd0be884/2/plots/train/confusion.html\">confusion</div><div class=\"artifact\" onclick=\"expandPanel(this)\" paneName=\"result6e5af703\" title=\"/files/getting-started-tutorial/pipeline/aa8ec677-a2e2-480f-8ce7-e722dd0be884/iteration_results.csv\">iteration_results</div></td>\n",
       "    </tr>\n",
       "    <tr>\n",
       "      <td>getting-started-iris-iguazio</td>\n",
       "      <td><div title=\"1aec82e3926446d3a18fcd6ae88b83b5\"><a href=\"https://mlrun-ui.default-tenant.app.dev34.lab.iguazeng.com/projects/getting-started-iris-iguazio/jobs/1aec82e3926446d3a18fcd6ae88b83b5/info\" target=\"_blank\" >...e88b83b5</a></div></td>\n",
       "      <td>0</td>\n",
       "      <td>Apr 23 08:47:40</td>\n",
       "      <td>completed</td>\n",
       "      <td>get-data</td>\n",
       "      <td><div class=\"dictlist\">host=get-data-6kkd4</div><div class=\"dictlist\">kind=job</div><div class=\"dictlist\">owner=iguazio</div><div class=\"dictlist\">v3io_user=iguazio</div><div class=\"dictlist\">workflow=aa8ec677-a2e2-480f-8ce7-e722dd0be884</div></td>\n",
       "      <td><div title=\"http://iguazio-sample-data.s3.amazonaws.com/iris_dataset.csv\">source_url</div></td>\n",
       "      <td><div class=\"dictlist\">format=pq</div></td>\n",
       "      <td></td>\n",
       "      <td><div title=\"/User/getting-started-tutorial/pipeline/aa8ec677-a2e2-480f-8ce7-e722dd0be884/data/iris_dataset.parquet\">iris_dataset</div></td>\n",
       "    </tr>\n",
       "  </tbody>\n",
       "</table>\n",
       "</div></div>\n",
       "  <div id=\"result6e5af703-pane\" class=\"right-pane block hidden\">\n",
       "    <div class=\"pane-header\">\n",
       "      <span id=\"result6e5af703-title\" class=\"pane-header-title\">Title</span>\n",
       "      <span onclick=\"closePanel(this)\" paneName=\"result6e5af703\" class=\"close clickable\">&times;</span>\n",
       "    </div>\n",
       "    <iframe class=\"fileview\" id=\"result6e5af703-body\"></iframe>\n",
       "  </div>\n",
       "</div>\n"
      ],
      "text/plain": [
       "<IPython.core.display.HTML object>"
      ]
     },
     "metadata": {},
     "output_type": "display_data"
    }
   ],
   "source": [
    "from mlrun import get_run_db\n",
    "db = get_run_db().connect()\n",
    "db.list_runs(project=project.name, labels=f'workflow={run_id}').show()"
   ]
  },
  {
   "cell_type": "markdown",
   "metadata": {},
   "source": [
    "<a id=\"gs-serve-model\"></a>\n",
    "### Serve You Model\n",
    "\n",
    "You can now run the pipeline's model-serving function &mdash; `getting-started-serving` (which is the metadata name that you gave the project's [`serving` function](#gs-ml-pipeline-add-functions) in the [workflow definition](#gs-pipeline-workflow-define-n-save)): append `iris_dataset_v1/predict` to the function's URL to create the `POST` URL; change the body type to `JSON`; and add the following text to the request body:\n",
    "```json\n",
    "{\"instances\": [[5.1, 3.5, 1.4, 0.2]]}\n",
    "```\n",
    "You can perform these steps from the platform dashboard: select **Projects** from the side navigation menu, select your project (\"getting-started-iris\"), and then select the `getting-stated=serving` function and execute the required steps, as demonstrated in the following dashboard flow:\n",
    "<br><br>\n",
    "![getting_started-pipeline](./assets/getting_started-model_serving_test.gif)"
   ]
  },
  {
   "cell_type": "markdown",
   "metadata": {},
   "source": [
    "<a id=\"gs-done\"></a>\n",
    "## Done!\n",
    "\n",
    "Congratulation. You've completed your first Iguazio Data Science Platform tutorial!.<br>\n",
    "To learn more, go to the **demos** tutorial-notebooks directory and check out the provided end-to-end use-case demo applications."
   ]
  },
  {
   "cell_type": "markdown",
   "metadata": {},
   "source": [
    "[Back to top](#top)"
   ]
  }
 ],
 "metadata": {
  "kernelspec": {
   "display_name": "Python 3",
   "language": "python",
   "name": "python3"
  },
  "language_info": {
   "codemirror_mode": {
    "name": "ipython",
    "version": 3
   },
   "file_extension": ".py",
   "mimetype": "text/x-python",
   "name": "python",
   "nbconvert_exporter": "python",
   "pygments_lexer": "ipython3",
   "version": "3.6.8"
  }
 },
 "nbformat": 4,
 "nbformat_minor": 4
}