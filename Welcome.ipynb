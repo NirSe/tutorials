{
 "cells": [
  {
   "cell_type": "markdown",
   "metadata": {},
   "source": [
    "# Welcome to Iguazio Data science Platform"
   ]
  },
  {
   "cell_type": "markdown",
   "metadata": {},
   "source": [
    "1. [Platform Overview](#Platform-Overview)\n",
    "2. [Data science workflow](#Data-science-workflow)\n",
    "  1. [Data Collection and exploration](#Data-Collection-and-exploration)\n",
    "  2. [Building and training models](#Building-and-training-models)\n",
    "  3. [Models deployment in Production](#Models-deployment-in-Production)\n",
    "3. [Visulization](#Visulization)\n",
    "4. [End to end demos](#End-to-end-demos)\n",
    "5. [Useful links](#Useful-links)\n",
    "6. [Support](#Support)\n",
    "7. [Others](#Others)\n"
   ]
  },
  {
   "cell_type": "markdown",
   "metadata": {},
   "source": [
    "# Platform Overview\n",
    "\n",
    "Iguazio platform provides a fully integrated and secure Data Science PaaS with:\n",
    "\n",
    "•\tData science workbench (Jupyter with integrated analytics engines & Python packages) <br>\n",
    "•\tManaged services over Kubernetes (e.g. Spark, Presto, Prometheus, Grafana etc..) <br>\n",
    "•\tFast data layer supporting SQL, NoSQL, time series , files/objects and streaming <br>\n",
    "•\tReal-time serverless functions framework (aka Nuclio) <br>\n",
    "\n",
    "Customers can ingest, enrich, analyze and serve data — all in one simple, fast, and secure platform. <br>\n",
    "It simplify the data scientist work by providing a full data science environment running on a powerful cluster <br> allowing users to run distributes jobs and shared resources (specially GPU) in a very efficient way <br>\n",
    "The platform accelerates the deployment of a variety of analytics services, eliminating data-pipeline complexities<br>\n",
    "and reducing time to market for developing new application with machine learning / AI capabilities"
   ]
  },
  {
   "cell_type": "markdown",
   "metadata": {},
   "source": [
    "[Detailed Platform overview](PlatformComponents.pdf) <br>\n",
    "[Introduction video](https://www.youtube.com/watch?v=hR_Hv0_WcUw) <br>\n",
    "[Serverless overview](https://github.com/nuclio/nuclio-jupyter/blob/master/README.md#installing)"
   ]
  },
  {
   "cell_type": "markdown",
   "metadata": {},
   "source": [
    "<img src=\"IguazioDiagram.png\">"
   ]
  },
  {
   "cell_type": "markdown",
   "metadata": {},
   "source": [
    "# Data science workflow "
   ]
  },
  {
   "cell_type": "markdown",
   "metadata": {},
   "source": [
    "Iguazio provides all the building blocks for creating data science applications from research to production. <br> "
   ]
  },
  {
   "cell_type": "markdown",
   "metadata": {},
   "source": [
    "### Data Collection and exploration"
   ]
  },
  {
   "cell_type": "markdown",
   "metadata": {},
   "source": [
    "[Collection and exploration](GettingStarted/GettingStarted.ipynb) "
   ]
  },
  {
   "cell_type": "markdown",
   "metadata": {},
   "source": [
    "Data collection - Various ways for collecting data into the system from various sources: <br>\n",
    "* Streaming engine (e.g. kafka)<br>\n",
    "* External database <br>\n",
    "* File/object on S3 / Hadoop (e.g. CSV, Parquet)<br>\n",
    "* Ingesting via RestAPI <br>"
   ]
  },
  {
   "cell_type": "markdown",
   "metadata": {},
   "source": [
    "Data Exploration and Processing"
   ]
  },
  {
   "cell_type": "markdown",
   "metadata": {},
   "source": [
    "Iguazio provides a wide range of those integrated tools. The most common ones are: <br>\n",
    "* Spark: SQL, ML, R, Graph<br>\n",
    "* SQL interactive queries (Presto)<br>\n",
    "* Pandas dataframe or Dask for “distributed Pandas like”<br>\n",
    "* Frames - Iguazio open source high speed library for data access providing unified interface for NOSQL tables, TIme series tables and Streaming data<br>\n",
    "Among others, Frames helps on leveraging GPUs for further acceleration (beyond Dask). <br>\n",
    "* Built in ML packages:  Scikit learn , Pyplot , numpy, Pytorch and Tensorflow. <br>\n",
    "All the tools are integrated with Jupyter notebook allowing access to same data  through multiple tools and APIs. <br>\n",
    "The Python environment has pre-deployed conda package. Users can install any packages using pip and conda. \n"
   ]
  },
  {
   "cell_type": "markdown",
   "metadata": {},
   "source": [
    "### Building and training models"
   ]
  },
  {
   "cell_type": "markdown",
   "metadata": {},
   "source": [
    "Here is an example of training a model in Iguazio <br>\n",
    "The example is part of an end to end demo (see demos below) called Network operation <br>\n",
    "[Training models](demos/netops/training.ipynb)"
   ]
  },
  {
   "cell_type": "markdown",
   "metadata": {},
   "source": [
    "### Models deployment in Production"
   ]
  },
  {
   "cell_type": "markdown",
   "metadata": {},
   "source": [
    "Deploying a model in a serving layer is always a big headache. <br>\n",
    "However, with iguazio platform users can easily deploy their model in few simple steps <br>\n",
    "Here is a an overview of Nuclio and how to work and deploy your python code from Jupyter to a serverless function <br>\n",
    "https://github.com/nuclio/nuclio-jupyter/blob/master/README.md#installing <br>\n",
    "[Example of deploying the network operation model as a function](demos/netops/nuclio_infer.ipynb)\n"
   ]
  },
  {
   "cell_type": "markdown",
   "metadata": {},
   "source": [
    "# Visulization"
   ]
  },
  {
   "cell_type": "markdown",
   "metadata": {},
   "source": [
    "Users can use Jupyter in order to visualize the data. e.g. plot charts using matplotlib.<br>\n",
    "A Grafana dashboard can visualize RT data over the NoSQL and time series. <br>\n",
    "For information on how to create charts in Grafana using Iguazio :<br>\n",
    "https://www.iguazio.com/docs/tutorials/latest-release/getting-started/trial-qs/grafana-dashboards/\n"
   ]
  },
  {
   "cell_type": "markdown",
   "metadata": {},
   "source": [
    "# End to end demos"
   ]
  },
  {
   "cell_type": "markdown",
   "metadata": {},
   "source": [
    "[FSI - Sentiment analysis for stocks](demos/stocks/read_stocks.ipynb) <br>\n",
    "[Predictive analytics for network operation](demos/netops/generator.ipynb)"
   ]
  },
  {
   "cell_type": "markdown",
   "metadata": {},
   "source": [
    "# Useful links"
   ]
  },
  {
   "cell_type": "markdown",
   "metadata": {},
   "source": [
    "* [API reference](https://iguazio.com/docs/reference/latest-release/api-reference/)\n",
    "* [Development eco system](https://www.iguazio.com/docs/intro/latest-release/ecosystem/)\n",
    "* [10 Minutes to pandas](https://pandas.pydata.org/pandas-docs/stable/10min.html)\n",
    "* [Jupyter lab tutorial](https://jupyterlab.readthedocs.io/en/stable/)"
   ]
  },
  {
   "cell_type": "markdown",
   "metadata": {},
   "source": [
    "# Support\n",
    "Our support team will be happy to help with any questions <br>\n",
    "Feel free to reach out to support@iguazio.com or use the chatbox for direct communicaiton with our experts"
   ]
  },
  {
   "cell_type": "markdown",
   "metadata": {},
   "source": [
    "# Others"
   ]
  },
  {
   "cell_type": "markdown",
   "metadata": {},
   "source": [
    "Sample datasets http://iguazio-sample-data.s3.amazonaws.com/ <br>"
   ]
  }
 ],
 "metadata": {
  "kernelspec": {
   "display_name": "Python 3",
   "language": "python",
   "name": "python3"
  },
  "language_info": {
   "codemirror_mode": {
    "name": "ipython",
    "version": 3
   },
   "file_extension": ".py",
   "mimetype": "text/x-python",
   "name": "python",
   "nbconvert_exporter": "python",
   "pygments_lexer": "ipython3",
   "version": "3.6.8"
  }
 },
 "nbformat": 4,
 "nbformat_minor": 2
}
