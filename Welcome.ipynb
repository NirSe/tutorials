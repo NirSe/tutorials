{
 "cells": [
  {
   "cell_type": "markdown",
   "metadata": {},
   "source": [
    "# Welcome to the Iguazio Data Science Platform"
   ]
  },
  {
   "cell_type": "markdown",
   "metadata": {},
   "source": [
    "- [Platform Overview](#platform-overview)\n",
    "- [Data Science Workflow](#data-science-workflow)\n",
    "  - [Collecting and Ingesting Data](#data-collection-and-ingestion)\n",
    "  - [Exploring and Processing Data](#data-exploration-and-processing)\n",
    "  - [Building and Training Models](#building-and-training-models)\n",
    "  - [Deploying Models to Production](#deploying-models-to-production)\n",
    "  - [Visualization, Monitoring, and Logging](#visualization-monitoring-and-logging)\n",
    "- [Tutorial Jupyter Notebooks](#tutorial-jupyter-notebooks)\n",
    "  - [End-to-End Use-Case Demos](#demo-tutorials)\n",
    "- [Support](#support)\n",
    "- [Additional Development Resources](#additional-development-resources)"
   ]
  },
  {
   "cell_type": "markdown",
   "metadata": {},
   "source": [
    "<a id=\"platform-overview\"></a>\n",
    "## Platform Overview\n",
    "\n",
    "The Iguazio Data Science Platform (**\"the platform\"**) is a fully integrated and secure data science platform as a service (PaaS), which simplifies development, accelerates performance, facilitates collaboration, and addresses operational challenges.\n",
    "The platform incorporates the following components:\n",
    "\n",
    "- A data science workbench that includes Jupyter Notebook, integrated analytics engines, and Python packages\n",
    "- Real-time dashboards based on Grafana\n",
    "- Managed data and machine-learning (ML) services over a scalable Kubernetes cluster\n",
    "- A real-time serverless functions framework &mdash; Nuclio\n",
    "- An extremely fast and secure data layer that supports SQL, NoSQL, time-series databases, files (simple objects), and streaming\n",
    "- Integration with third-party data sources such as Amazon S3, HDFS, SQL databases, and streaming or messaging protocols\n",
    "\n",
    "<br><img src=\"assets/images/igz-self-service-platform.png\" alt=\"Self-service data science platform\" width=\"650\"/><br>\n",
    "\n",
    "The platform uses [Kubernetes](https://kubernetes.io) (k8s) as the baseline cluster manager, and deploys various application microservices on top of Kubernetes to address different data science tasks.\n",
    "Most of the provided services support scaling out and GPU acceleration and have a secure and low-latency access to the platform's shared data store and file system, enabling high performance and scalability with maximum resource efficiency.\n",
    "\n",
    "The platform makes extensive use of [Nuclio serverless functions](https://github.com/nuclio/nuclio) to automate various tasks &mdash; such as data collection, extract-transform-load (ETL) processes, model serving, and batch jobs.\n",
    "Nuclio functions describe the code and include all the required resource definitions and configuration for running the code.\n",
    "The functions auto scale and can be versioned.\n",
    "The platform supports various methods for generating Nuclio functions &mdash; using the graphical dashboard, Docker, Git, or Jupyter Notebook &mdash; as demonstrated in the platform tutorials.\n",
    "\n",
    "For a more in-depth introduction to the platform, see the following resources:\n",
    "\n",
    "- [Development Ecosystem and Managed Services](https://www.iguazio.com/docs/intro/latest-release/ecosystem)\n",
    "- [Introduction video](https://www.youtube.com/watch?v=hR_Hv0_WcUw)\n",
    "- [Unique data-layer architecture](https://www.iguazio.com/docs/intro/latest-release/architecture/)\n",
    "- [Creating and deploying Nuclio functions with Python and Jupyter Notebook](https://github.com/nuclio/nuclio-jupyter/blob/master/README.md)"
   ]
  },
  {
   "cell_type": "markdown",
   "metadata": {},
   "source": [
    "<a id=\"data-science-workflow\"></a>\n",
    "## Data Science Workflow\n",
    "\n",
    "The Iguazio Data Science Platform provides a complete data science workflow in a single ready-to-use platform that includes all the required building blocks for creating data science applications from research to production:\n",
    "\n",
    "- Collect, explore, and label data from various real-time or offline sources\n",
    "- Run ML training and validation at scale over multiple CPUs and GPUs\n",
    "- Deploy models and applications into production with serverless functions\n",
    "- Log, monitor, and visualize all your data and services\n",
    "\n",
    "<br>![](assets/images/igz-data-science-workflow.png)<br>\n"
   ]
  },
  {
   "cell_type": "markdown",
   "metadata": {},
   "source": [
    "<a id=\"data-collection-and-ingestion\"></a>\n",
    "### Collecting and Ingesting Data\n",
    "\n",
    "There are many ways to collect and ingest data from various sources into the platform:\n",
    "\n",
    "- Streaming data in real time from sources such as Kafka, Kinesis, Azure Event Hubs, or Google Pub/Sub\n",
    "- Loading data directly from external databases using an event-driven or periodic/scheduled implementation\n",
    "- Loading files (objects), in any format (for example, CSV, Parquet, JSON, or a binary image), from internal or external sources such as Amazon S3 or Hadoop\n",
    "- Importing time-series telemetry data using a Prometheus compatible scraping API\n",
    "- Ingesting (writing) data directly into the system using RESTful AWS-like simple-object, streaming, or NoSQL APIs\n",
    "- Using serverless functions to scrape or read data from external sources such as Twitter, weather services, or stock-trading data services\n",
    "\n",
    "For details and examples, see the [data collection and exploration tutorial](GettingStarted/GettingStarted.ipynb)."
   ]
  },
  {
   "cell_type": "markdown",
   "metadata": {},
   "source": [
    "<a id=\"data-exploration-and-processing\"></a>\n",
    "### Exploring and Processing Data\n",
    "\n",
    "The platform includes a wide range of integrated data query and exploration tools, including the following:\n",
    "\n",
    "- [Apache Spark](https://spark.apache.org/) data-processing engine &mdash; including the Spark SQL and Datasets, MLlib, R, and GraphX libraries &mdash; with real-time access to the platform's NoSQL data store and file system\n",
    "- [Presto](http://prestodb.github.io/) distributed SQL query engine, which can be used to run interactive SQL queries over platform NoSQL tables or other object (file) data sources\n",
    "- [pandas](https://pandas.pydata.org/) Python analysis library, including structured DataFrames\n",
    "- [Dask](https://dask.org/) parallel-computing Python library, including scaled pandas DataFrames\n",
    "- [V3IO Frames](https://github.com/v3io/frames) <font color=\"#00BCF2\">\\[Tech Preview\\]</font> &mdash; Iguazio's open-source data-access library, which provides a unified high-performance API for accessing NoSQL, stream, and time-series data in the platform's data store and features native integration with pandas and [NVIDIA RAPIDS](https://rapids.ai/).\n",
    "- Built-in support for ML packages such as [scikit-learn](https://scikit-learn.org), [Pyplot](https://matplotlib.org/api/_as_gen/matplotlib.pyplot.html), [NumPy](http://www.numpy.org/), [PyTorch](https://pytorch.org/), and [TensorFlow](https://www.tensorflow.org/).\n",
    "\n",
    "All these tools are integrated with the platform's Jupyter Notebook service, enabling users to access the same data through different interfaces with minimal configuration overhead.\n",
    "Users can easily install any Python package by using the [Conda](https://anaconda.org/anaconda/conda) binary package and environment manager and the [pip](https://pip.pypa.io) Python package installer, which are both available as part of the Jupyter Notebook service.\n",
    "\n",
    "> **Note:** You can deploy and manage application services, such as Spark and Jupyter Notebook, from the **Services** page of the platform dashboard.\n"
   ]
  },
  {
   "cell_type": "markdown",
   "metadata": {},
   "source": [
    "<a id=\"building-and-training-models\"></a>\n",
    "### Building and Training Models\n",
    "\n",
    "You can develop and test data science models in the platform's Jupyter Notebook service or in your preferred external editor.\n",
    "When your model is ready, you can train it in Jupyter Notebook or by using scalable cluster resources such as Nuclio functions, Dask, Spark ML, or Kubernetes jobs.\n",
    "You can find model-training examples in the platform's tutorial Jupyter notebooks:\n",
    "\n",
    "- The [NetOps demo](demos/netops/training.ipynb) demonstrates predictive infrastructure-monitoring using scikit-learn.\n",
    "- The [image-classification demo](demos/image_classification/infer.ipynb)  demonstrates image recognition using TensorFlow and Keras.\n",
    "\n",
    "If you're are a beginner, you might find the following ML guide useful &mdash; [Machine Learning Algorithms In Layman's Terms](https://towardsdatascience.com/machine-learning-algorithms-in-laymans-terms-part-1-d0368d769a7b)."
   ]
  },
  {
   "cell_type": "markdown",
   "metadata": {},
   "source": [
    "<a id=\"deploying-models-to-production\"></a>\n",
    "### Deploying Models to Production\n",
    "\n",
    "The platform allows you to easily deploy your models to production in a reproducible way by using the open-source Nuclio serverless framework.\n",
    "You provide Nuclio with code or Jupyter notebooks, resource definitions (such as CPU, memory, and GPU), environment variables, package or software dependencies, data links, and trigger information.\n",
    "Nuclio uses this information to automatically build the code, generate custom container images, and connect them to the relevant compute or data resources.\n",
    "The functions can be triggered by a wide variety of event sources, including the most commonly used streaming and messaging protocols, HTTP APIs, scheduled (cron) tasks, and batch jobs.\n",
    "\n",
    "Nuclio functions can be created from the platform dashboard or by using standard code IDEs, and can be deployed on your platform cluster.\n",
    "A convenient way to develop and deploy Nuclio functions is by using Jupyter Notebook and Python tools.\n",
    "For detailed information about Nuclio, visit the [Nuclio web site](https://nuclio.io/) and see the product [documentation](https://nuclio.io/docs/latest/).\n",
    "\n",
    "> **Note:** Nuclio functions aren't limited to model serving: they can automate data collection, serve custom APIs, build real-time feature vectors, drive triggers, and more.\n",
    "\n",
    "For an overview of Nuclio and how to develop, document, and deploy serverless Python Nuclio functions from Jupyter Notebook, see the [nuclio-jupyter documentation](https://github.com/nuclio/nuclio-jupyter/blob/master/README.md).\n",
    "You can also find examples in the platform tutorial Jupyter notebooks; for example, the [NetOps demo](demos/netops/nuclio_infer.ipynb) tutorial demonstrates how to deploy a network-operations model as a function."
   ]
  },
  {
   "cell_type": "markdown",
   "metadata": {},
   "source": [
    "<a id=\"visualization-monitoring-and-logging\"></a>\n",
    "### Visualization, Monitoring, and Logging\n",
    "\n",
    "Data in the platform &mdash; including collected data, internal or external telemetry and logs, and program-output data &mdash; can be analyzed and visualized in different ways simultaneously.\n",
    "The platform supports multiple standard data analytics and visualization tools, including SQL, Prometheus, Grafana, and pandas.\n",
    "For example, you can plot or chart data within Jupyter Notebook using [Matplotlib](https://matplotlib.org/); use your favorite BI visualization tools, such as [Tableau](https://www.tableau.com), to query data in the platform over a Java database connectivity connector (JDBC); or build real-time dashboards in Grafana.\n",
    "\n",
    "The data analytics and visualization tools and services generate telemetry and log data that can be stored using the platform's time-series database (TSDB) service or by using external tools such as [Elasticsearch](https://www.elastic.co/products/elasticsearch).\n",
    "Platform users can easily instrument code and functions to collect various statistics or logs, and explore the collected data in real time.\n",
    "\n",
    "The [Grafana](https://grafana.com/grafana) open-source analytics and monitoring framework is natively integrated into the platform, allowing users to create dashboards that provide access to platform NoSQL tables and time-series databases from different dashboard widgets.\n",
    "You can also create Grafana dashboards programmatically (for example, from Jupyter Notebook) using wizard scripts.\n",
    "For information on how to create Grafana dashboards to monitor and visualize data in the platform, see [Adding a Custom Grafana Dashboard](https://www.iguazio.com/docs/tutorials/latest-release/getting-started/grafana-dashboards/)."
   ]
  },
  {
   "cell_type": "markdown",
   "metadata": {},
   "source": [
    "<a id=\"tutorial-jupyter-notebooks\"></a>\n",
    "## Tutorial Jupyter Notebooks\n",
    "\n",
    "The platform's Jupyter Notebook service includes tutorial notebooks that demonstrate how to use the platform APIs to perform common tasks.\n",
    "You can also view and download these notebooks from the public [v3io/tutorials](https://github.com/v3io/tutorials) GitHub repository."
   ]
  },
  {
   "cell_type": "markdown",
   "metadata": {},
   "source": [
    "<a id=\"demo-tutorials\"></a>\n",
    "### End-to-End Use-Case Demos\n",
    "\n",
    "The **demos** tutorial notebooks directory contains these full end-to-end use-case demos:\n",
    "\n",
    "  - [**stocks**](demos/stocks/explore.ipynb) &mdash; combining real-time stocks data with Twitter based sentiments for smart trading\n",
    "  - [**netops**](demos/netops/generator.ipynb) &mdash; predictive infrastructure monitoring\n",
    "  - [**image_classification**](demos/image_classification/keras-cnn-dog-or-cat-classification.ipynb) &mdash; image recognition using Keras and TensorFlow\n",
    "  - [**nlp**](demos/nlp/nlp-example.ipynb) &mdash; natural language processing (NLP), including corrections, sentiments, and translation"
   ]
  },
  {
   "cell_type": "markdown",
   "metadata": {},
   "source": [
    "<a id=\"support\"></a>\n",
    "## Support\n",
    "\n",
    "The Iguazio [support team](mailto:support@iguazio.com) will be happy to assist with any questions."
   ]
  },
  {
   "cell_type": "markdown",
   "metadata": {},
   "source": [
    "<a id=\"additional-development-resources\"></a>\n",
    "## Additional Development Resources\n",
    "\n",
    "- Iguazio Data Science Platform resources\n",
    "    - [Sample data sets](http://iguazio-sample-data.s3.amazonaws.com/)\n",
    "    - [References](https://iguazio.com/docs/reference/latest-release/)\n",
    "    - [Development Ecosystem and Managed Services](https://www.iguazio.com/docs/intro/latest-release/ecosystem/)\n",
    "- General development resources\n",
    "    - [10 Minutes to pandas](https://pandas.pydata.org/pandas-docs/stable/10min.html)\n",
    "    - [JupyterLab Tutorial](https://jupyterlab.readthedocs.io/en/stable/)\n",
    "    - [Machine Learning Algorithms In Layman's Terms](https://towardsdatascience.com/machine-learning-algorithms-in-laymans-terms-part-1-d0368d769a7b)"
   ]
  }
 ],
 "metadata": {
  "kernelspec": {
   "display_name": "Python 3",
   "language": "python",
   "name": "python3"
  },
  "language_info": {
   "codemirror_mode": {
    "name": "ipython",
    "version": 3
   },
   "file_extension": ".py",
   "mimetype": "text/x-python",
   "name": "python",
   "nbconvert_exporter": "python",
   "pygments_lexer": "ipython3",
   "version": "3.6.8"
  }
 },
 "nbformat": 4,
 "nbformat_minor": 2
}
