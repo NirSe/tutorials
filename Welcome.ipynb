{
 "cells": [
  {
   "cell_type": "markdown",
   "metadata": {},
   "source": [
    "# Welcome to Iguazio Data science Platform"
   ]
  },
  {
   "cell_type": "markdown",
   "metadata": {},
   "source": [
    "1. [Platform Overview](#Platform-Overview)\n",
    "2. [Data science workflow](#Data-science-workflow-on-iguazio-platform)\n",
    "  1. [Data collection and ingestion](#Data-collection-and-ingestion)\n",
    "  2. [Data exploration and processing](#Data-Exploration-and-Processing)\n",
    "  2. [Building and training models](#Building-and-training-models)\n",
    "  3. [Models deployment to production](#Models-deployment-to-Production)\n",
    "  4. [Visulization, monitoring and logging](#Visulization%2C-monitoring-and-logging)\n",
    "3. End to end use-cases (tutorials)\n",
    "  1. [Combining real-time stocks data with twitter based sentiments for smart trading](demos/stocks/explore.ipynb)\n",
    "  2. [Predictive infrastructure monitoring](demos/netops/generator.ipynb)\n",
    "  3. [Image recognition (with Keras and TensorFlow)](demos/image_classification/keras-cnn-dog-or-cat-classification.ipynb)\n",
    "  4. [Natural language processing (corrections, sentiments, translation)](demos/nlp/nlp-example.ipynb)\n",
    "4. Useful links\n",
    "  1. [API reference](https://iguazio.com/docs/reference/latest-release/api-reference/)\n",
    "  2. [Development eco system](https://www.iguazio.com/docs/intro/latest-release/ecosystem/)\n",
    "  3. [10 Minutes to pandas](https://pandas.pydata.org/pandas-docs/stable/10min.html)\n",
    "  4. [Jupyter lab tutorial](https://jupyterlab.readthedocs.io/en/stable/)\n",
    "  5. [Machine Learning Algorithms In Layman’s Terms](https://towardsdatascience.com/machine-learning-algorithms-in-laymans-terms-part-1-d0368d769a7b)\n",
    "5. [Support](#Support)\n",
    "6. [Others](#Others)\n"
   ]
  },
  {
   "cell_type": "markdown",
   "metadata": {},
   "source": [
    "## Platform Overview\n",
    "\n",
    "Iguazio provides a fully integrated and secure data science PaaS which simplify development, accelerate performance, <br>\n",
    "enable collaboration, and address operational challenges. The platform incorporate the following components:\n",
    "\n",
    "•\tData science workbench (Jupyter with integrated analytics engines & Python packages) <br>\n",
    "•\tReal-time dashboards based on Grafana\n",
    "•\tManaged data and ML services over scalable Kubernetes cluster <br>\n",
    "•\tReal-time serverless functions framework (aka [Nuclio](https://github.com/nuclio/nuclio)).<br>\n",
    "•\tExtremely fast and secure data layer supporting SQL, NoSQL, time series , files/objects and streaming <br>\n",
    "•\tIntegration with 3rd party data sources (S3, HDFS, SQL DBs, Streaming/messaging protocols, etc. <br>\n",
    "\n",
    "<br>![](GettingStarted/iguazio-cloud.png)<br>\n",
    "\n",
    "We use Kubernetes as the baseline cluster manager and deploy various microservices on top to address the different data-science tasks.\n",
    "most services support scaling out, support GPU acceleration, and have secure and low-latency access to iguazio shared database and file-system \n",
    "enabling high performance and scalability at maximum resource efficiency.<br>\n",
    "\n",
    "The platform make extensive use of [Nuclio serverless functions](https://github.com/nuclio/nuclio) to automate various tasks from data collection, ETLs, custom APIs, model serving, and batch jobs.<br>\n",
    "functions describe the code with all the resource definitions and configuration needed to make it run, functions auto-scale and can be versioned. \n",
    "functions can be generated automatically in various ways (UI, Docker, Git, and Jupyter), this is demonstrated in the various tutorials. \n",
    "\n",
    "For more details:\n",
    "* [Detailed Platform overview](PlatformComponents.pdf)\n",
    "* [Introduction video](https://www.youtube.com/watch?v=hR_Hv0_WcUw)\n",
    "* [Iguazio platform and unique data layer architecture](https://www.iguazio.com/docs/intro/latest-release/architecture/)\n",
    "* [creating and deploying Nuclio functions from Jupyter or python](https://github.com/nuclio/nuclio-jupyter/blob/master/README.md#installing)"
   ]
  },
  {
   "cell_type": "markdown",
   "metadata": {},
   "source": [
    "# Data science workflow on iguazio platform"
   ]
  },
  {
   "cell_type": "markdown",
   "metadata": {},
   "source": [
    "Iguazio  enable a complete data science workflow in a single ready to use platform:\n",
    "* Collect, explore and label data coming from various real-time or offline sources\n",
    "* Run ML training and validation at scale over multiple CPUs and GPUs\n",
    "* Deploy models and applications into production with Serverless functions\n",
    "* Log, monitor, and version all your data and services \n",
    "\n",
    "<br><img src=\"GettingStarted/ds-workflow.png\" align=\"middle\">\n"
   ]
  },
  {
   "cell_type": "markdown",
   "metadata": {},
   "source": [
    "Iguazio provides all the building blocks for creating data science applications from research to production. <br> "
   ]
  },
  {
   "cell_type": "markdown",
   "metadata": {},
   "source": [
    "### Data collection and ingestion"
   ]
  },
  {
   "cell_type": "markdown",
   "metadata": {},
   "source": [
    "<b>For details visit the [data collection and exploration tutorial](GettingStarted/GettingStarted.ipynb)<b>"
   ]
  },
  {
   "cell_type": "markdown",
   "metadata": {},
   "source": [
    "There are many ways to collect or ingest data into the system from various sources: \n",
    "* Real-time streaming from (e.g. using Kafka, Kinesis, Azure Event Hub, Google Pub/sub)\n",
    "* Loading data directly from external database in an event driven or periodic/scheduled way \n",
    "* Loading data from internal or external file/object sources like S3 or Hadoop (using CSV, Parquet, Json formats)\n",
    "* Importing time-series telemetry data using Prometheus compatible scraping API\n",
    "* Pushing/ingesting data directly into the system via AWS like object, streaming and NoSQL RestAPIs\n",
    "* By implementing custom nuclio functions which scrape data from external sources or read form external API sources (e.g. Twitter, Weather services, Stock trading data, etc.)"
   ]
  },
  {
   "cell_type": "markdown",
   "metadata": {},
   "source": [
    "### Data Exploration and Processing"
   ]
  },
  {
   "cell_type": "markdown",
   "metadata": {},
   "source": [
    "Iguazio provides a wide range of pre-integrated data query and exploration tools. The most common ones are: \n",
    "* [Apache Spark](https://spark.apache.org/) SQL, ML, R, Graph (with read-time access to iguazio DB and file-system)\n",
    "* interactive SQL queries (using [Apache Presto](http://prestodb.github.io/) distributed processing engine over iguazio DB or file/object data sources)\n",
    "* [Python Pandas](https://pandas.pydata.org/) dataframe (or Dask for “distributed Pandas like”)<br>\n",
    "* Frames - Iguazio open source high speed library for data access providing unified interface for NoSQL tables, Time series tables and Streaming data<br> and native integration with Pandas and [NVIDIA RAPIDS](https://rapids.ai/).\n",
    "* Built in ML packages:  Scikit learn , Pyplot , numpy, Pytorch and Tensorflow. \n",
    "<br>\n",
    "All the tools are integrated with Jupyter notebook allowing access to same data through multiple tools and APIs, and with minimal configuration overhead.<br>\n",
    "The Python environment has pre-deployed conda package. Users can install any packages using pip and conda. \n",
    "\n",
    "> Note: to deploy add-on services such as Spark use the platform `services` tab  \n"
   ]
  },
  {
   "cell_type": "markdown",
   "metadata": {},
   "source": [
    "### Building and training models"
   ]
  },
  {
   "cell_type": "markdown",
   "metadata": {},
   "source": [
    "Models can be developed and tested in the Jupyter notebooks or using external editors<br>\n",
    "Once you built a model you can train it inside Jupyter or use scalable cluster resources such as Nuclio functions, Dask, Spark ML, or Kubernetes Jobs<br>\n",
    "You can see examples of model training in the [predictive infrastructure monitoring tutorial](demos/netops/training.ipynb) (using Scikit Learn) or in the [image recognition tutorial]() (using TensorFlow and Keras)<br>\n",
    "\n",
    "If you are a beginner this useful guide for [machine Learning Algorithms In Layman’s Terms](https://towardsdatascience.com/machine-learning-algorithms-in-laymans-terms-part-1-d0368d769a7b) can come in handy"
   ]
  },
  {
   "cell_type": "markdown",
   "metadata": {},
   "source": [
    "### Models deployment to Production"
   ]
  },
  {
   "cell_type": "markdown",
   "metadata": {},
   "source": [
    "With iguazio platform users can easily deploy their model to production in a reproducible way using the open-source nuclio serverless framework<br>\n",
    "nuclio takes code (or notebooks) coupled with resource definitions (CPU, memory, GPU, ..), environment variables, package or software dependencies, data links, and trigger information. nuclio automatically builds the code, generate custom container images and wire them up to the relevant compute or data resources<br>\n",
    "nuclio functions can be triggered by a wide variety of event sources including most commonly used streaming and messaging protocols, HTTP APIs, scheduled (cron) tasks, and batch jobs. read more [details about nuclio](https://github.com/nuclio/nuclio)<br>\n",
    "\n",
    "Nuclio functions can be created in the platform UI, or using standard code IDEs and be deployed on the cluster<br>\n",
    "One of the most convenient way is to develop and deploy functions is using Jupyter and the Python tools<br>\n",
    "\n",
    "Here is a an overview of Nuclio and how to work and deploy your python code from Jupyter to a serverless function <br>\n",
    "https://github.com/nuclio/nuclio-jupyter/blob/master/README.md#installing <br>\n",
    "Many of the tutorials demonstrate how functions can be documented and deployed directly from a Notebook, e.g.\n",
    "[deploying the network operation model as a function](demos/netops/nuclio_infer.ipynb)\n",
    "\n",
    "Note that nuclio functions are not limited to model serving, they can automate data collection, serve custom APIs, build real-time feature vectors, drive triggers, etc.\n"
   ]
  },
  {
   "cell_type": "markdown",
   "metadata": {},
   "source": [
    "### Visulization, monitoring and logging"
   ]
  },
  {
   "cell_type": "markdown",
   "metadata": {},
   "source": [
    "Collected data, internal/external telemetry and logs, output data, etc. can be visualized in different ways simultaniously<br>\n",
    "iguazio platform support multiple standard APIs (SQL, Prometheus, Grafana, Pandas, etc.) which can be used to visualize data<br>\n",
    "this include plotting or charting data within Jupyter using matplotlib, using external BI tools like Tableau via the SQL/JDBC APIs, or building real-time dashbard in Grafana.<br>\n",
    "\n",
    "The different tools and services generate telemetry and log data which can be stored in the iguazio time-series database or in external tools such as ElasticSearch<br>\n",
    "users can easily instrument their code and functions to collect various statistics or logs, the same data is accessible for exploration in real-time<br>\n",
    "\n",
    "Grafana is natively integrated into the platform, users can create dashboards programmatically using wizard scripts and access all forms of data (tabels, time-series, logs, streams) from the different dashboard widgets. \n",
    "\n",
    "For information on how to create charts in Grafana using Iguazio :<br>\n",
    "https://www.iguazio.com/docs/tutorials/latest-release/getting-started/trial-qs/grafana-dashboards/\n"
   ]
  },
  {
   "cell_type": "markdown",
   "metadata": {},
   "source": [
    "# Support\n",
    "Our support team will be happy to help with any questions <br>\n",
    "Feel free to reach out to support@iguazio.com or use the chatbox for direct communication with our experts"
   ]
  },
  {
   "cell_type": "markdown",
   "metadata": {},
   "source": [
    "# Others"
   ]
  },
  {
   "cell_type": "markdown",
   "metadata": {},
   "source": [
    "Sample datasets http://iguazio-sample-data.s3.amazonaws.com/ <br>"
   ]
  }
 ],
 "metadata": {
  "kernelspec": {
   "display_name": "Python 2",
   "language": "python",
   "name": "python2"
  },
  "language_info": {
   "codemirror_mode": {
    "name": "ipython",
    "version": 2
   },
   "file_extension": ".py",
   "mimetype": "text/x-python",
   "name": "python",
   "nbconvert_exporter": "python",
   "pygments_lexer": "ipython2",
   "version": "2.7.15"
  }
 },
 "nbformat": 4,
 "nbformat_minor": 2
}
